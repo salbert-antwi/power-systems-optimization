{
 "cells": [
  {
   "cell_type": "code",
   "execution_count": 1,
   "id": "ff181273",
   "metadata": {},
   "outputs": [],
   "source": [
    "import csv"
   ]
  },
  {
   "cell_type": "code",
   "execution_count": 2,
   "id": "0c6484d9",
   "metadata": {},
   "outputs": [],
   "source": [
    "file = open(\"C:\\\\Users\\\\44780\\\\OneDrive\\\\Documents\\\\FYP-Modelling\\\\testcase\\\\price.csv\")"
   ]
  },
  {
   "cell_type": "code",
   "execution_count": 3,
   "id": "acd7721e",
   "metadata": {},
   "outputs": [
    {
     "data": {
      "text/plain": [
       "<_io.TextIOWrapper name='C:\\\\Users\\\\44780\\\\OneDrive\\\\Documents\\\\FYP-Modelling\\\\testcase\\\\price.csv' mode='r' encoding='cp1252'>"
      ]
     },
     "execution_count": 3,
     "metadata": {},
     "output_type": "execute_result"
    }
   ],
   "source": [
    "file"
   ]
  },
  {
   "cell_type": "code",
   "execution_count": 4,
   "id": "24629017",
   "metadata": {},
   "outputs": [],
   "source": [
    "csvreader = csv.reader(file)"
   ]
  },
  {
   "cell_type": "code",
   "execution_count": 5,
   "id": "e3e57b55",
   "metadata": {},
   "outputs": [
    {
     "data": {
      "text/plain": [
       "<_csv.reader at 0x26ee4512b00>"
      ]
     },
     "execution_count": 5,
     "metadata": {},
     "output_type": "execute_result"
    }
   ],
   "source": [
    "csvreader"
   ]
  },
  {
   "cell_type": "code",
   "execution_count": 6,
   "id": "fdb1e40d",
   "metadata": {},
   "outputs": [],
   "source": [
    "import pandas as pd"
   ]
  },
  {
   "cell_type": "code",
   "execution_count": 13,
   "id": "4b9694ba",
   "metadata": {},
   "outputs": [],
   "source": [
    "demand_data = pd.read_csv(\"C:\\\\Users\\\\44780\\\\OneDrive\\\\Documents\\\\FYP-Modelling\\\\testcase\\\\demand.csv\")"
   ]
  },
  {
   "cell_type": "code",
   "execution_count": 14,
   "id": "dc1177cf",
   "metadata": {},
   "outputs": [
    {
     "data": {
      "text/html": [
       "<div>\n",
       "<style scoped>\n",
       "    .dataframe tbody tr th:only-of-type {\n",
       "        vertical-align: middle;\n",
       "    }\n",
       "\n",
       "    .dataframe tbody tr th {\n",
       "        vertical-align: top;\n",
       "    }\n",
       "\n",
       "    .dataframe thead th {\n",
       "        text-align: right;\n",
       "    }\n",
       "</style>\n",
       "<table border=\"1\" class=\"dataframe\">\n",
       "  <thead>\n",
       "    <tr style=\"text-align: right;\">\n",
       "      <th></th>\n",
       "      <th>connnode</th>\n",
       "      <th>demand</th>\n",
       "    </tr>\n",
       "  </thead>\n",
       "  <tbody>\n",
       "    <tr>\n",
       "      <th>0</th>\n",
       "      <td>1</td>\n",
       "      <td>-2036.63</td>\n",
       "    </tr>\n",
       "    <tr>\n",
       "      <th>1</th>\n",
       "      <td>2</td>\n",
       "      <td>-1734.71</td>\n",
       "    </tr>\n",
       "    <tr>\n",
       "      <th>2</th>\n",
       "      <td>3</td>\n",
       "      <td>-877.90</td>\n",
       "    </tr>\n",
       "    <tr>\n",
       "      <th>3</th>\n",
       "      <td>4</td>\n",
       "      <td>-1334.16</td>\n",
       "    </tr>\n",
       "    <tr>\n",
       "      <th>4</th>\n",
       "      <td>5</td>\n",
       "      <td>-1701.55</td>\n",
       "    </tr>\n",
       "    <tr>\n",
       "      <th>5</th>\n",
       "      <td>6</td>\n",
       "      <td>-1244.77</td>\n",
       "    </tr>\n",
       "    <tr>\n",
       "      <th>6</th>\n",
       "      <td>7</td>\n",
       "      <td>-1341.61</td>\n",
       "    </tr>\n",
       "    <tr>\n",
       "      <th>7</th>\n",
       "      <td>8</td>\n",
       "      <td>-3669.50</td>\n",
       "    </tr>\n",
       "    <tr>\n",
       "      <th>8</th>\n",
       "      <td>9</td>\n",
       "      <td>-1960.02</td>\n",
       "    </tr>\n",
       "    <tr>\n",
       "      <th>9</th>\n",
       "      <td>10</td>\n",
       "      <td>-490.68</td>\n",
       "    </tr>\n",
       "    <tr>\n",
       "      <th>10</th>\n",
       "      <td>11</td>\n",
       "      <td>-474.51</td>\n",
       "    </tr>\n",
       "    <tr>\n",
       "      <th>11</th>\n",
       "      <td>12</td>\n",
       "      <td>-1518.23</td>\n",
       "    </tr>\n",
       "    <tr>\n",
       "      <th>12</th>\n",
       "      <td>13</td>\n",
       "      <td>-2429.02</td>\n",
       "    </tr>\n",
       "    <tr>\n",
       "      <th>13</th>\n",
       "      <td>14</td>\n",
       "      <td>-1614.73</td>\n",
       "    </tr>\n",
       "    <tr>\n",
       "      <th>14</th>\n",
       "      <td>15</td>\n",
       "      <td>-2584.23</td>\n",
       "    </tr>\n",
       "    <tr>\n",
       "      <th>15</th>\n",
       "      <td>16</td>\n",
       "      <td>-184.39</td>\n",
       "    </tr>\n",
       "    <tr>\n",
       "      <th>16</th>\n",
       "      <td>17</td>\n",
       "      <td>-161.82</td>\n",
       "    </tr>\n",
       "    <tr>\n",
       "      <th>17</th>\n",
       "      <td>18</td>\n",
       "      <td>-1088.33</td>\n",
       "    </tr>\n",
       "    <tr>\n",
       "      <th>18</th>\n",
       "      <td>19</td>\n",
       "      <td>-646.27</td>\n",
       "    </tr>\n",
       "    <tr>\n",
       "      <th>19</th>\n",
       "      <td>20</td>\n",
       "      <td>-2079.47</td>\n",
       "    </tr>\n",
       "    <tr>\n",
       "      <th>20</th>\n",
       "      <td>21</td>\n",
       "      <td>-1384.61</td>\n",
       "    </tr>\n",
       "    <tr>\n",
       "      <th>21</th>\n",
       "      <td>22</td>\n",
       "      <td>-674.35</td>\n",
       "    </tr>\n",
       "    <tr>\n",
       "      <th>22</th>\n",
       "      <td>23</td>\n",
       "      <td>-1973.87</td>\n",
       "    </tr>\n",
       "    <tr>\n",
       "      <th>23</th>\n",
       "      <td>24</td>\n",
       "      <td>-571.88</td>\n",
       "    </tr>\n",
       "    <tr>\n",
       "      <th>24</th>\n",
       "      <td>25</td>\n",
       "      <td>-717.98</td>\n",
       "    </tr>\n",
       "    <tr>\n",
       "      <th>25</th>\n",
       "      <td>26</td>\n",
       "      <td>-170.46</td>\n",
       "    </tr>\n",
       "    <tr>\n",
       "      <th>26</th>\n",
       "      <td>27</td>\n",
       "      <td>-1680.03</td>\n",
       "    </tr>\n",
       "    <tr>\n",
       "      <th>27</th>\n",
       "      <td>28</td>\n",
       "      <td>-563.53</td>\n",
       "    </tr>\n",
       "    <tr>\n",
       "      <th>28</th>\n",
       "      <td>29</td>\n",
       "      <td>-376.51</td>\n",
       "    </tr>\n",
       "    <tr>\n",
       "      <th>29</th>\n",
       "      <td>30</td>\n",
       "      <td>-59.36</td>\n",
       "    </tr>\n",
       "    <tr>\n",
       "      <th>30</th>\n",
       "      <td>31</td>\n",
       "      <td>-375.31</td>\n",
       "    </tr>\n",
       "    <tr>\n",
       "      <th>31</th>\n",
       "      <td>32</td>\n",
       "      <td>-408.45</td>\n",
       "    </tr>\n",
       "    <tr>\n",
       "      <th>32</th>\n",
       "      <td>33</td>\n",
       "      <td>-455.70</td>\n",
       "    </tr>\n",
       "    <tr>\n",
       "      <th>33</th>\n",
       "      <td>34</td>\n",
       "      <td>-989.55</td>\n",
       "    </tr>\n",
       "    <tr>\n",
       "      <th>34</th>\n",
       "      <td>35</td>\n",
       "      <td>-598.87</td>\n",
       "    </tr>\n",
       "    <tr>\n",
       "      <th>35</th>\n",
       "      <td>36</td>\n",
       "      <td>-827.02</td>\n",
       "    </tr>\n",
       "  </tbody>\n",
       "</table>\n",
       "</div>"
      ],
      "text/plain": [
       "    connnode   demand\n",
       "0          1 -2036.63\n",
       "1          2 -1734.71\n",
       "2          3  -877.90\n",
       "3          4 -1334.16\n",
       "4          5 -1701.55\n",
       "5          6 -1244.77\n",
       "6          7 -1341.61\n",
       "7          8 -3669.50\n",
       "8          9 -1960.02\n",
       "9         10  -490.68\n",
       "10        11  -474.51\n",
       "11        12 -1518.23\n",
       "12        13 -2429.02\n",
       "13        14 -1614.73\n",
       "14        15 -2584.23\n",
       "15        16  -184.39\n",
       "16        17  -161.82\n",
       "17        18 -1088.33\n",
       "18        19  -646.27\n",
       "19        20 -2079.47\n",
       "20        21 -1384.61\n",
       "21        22  -674.35\n",
       "22        23 -1973.87\n",
       "23        24  -571.88\n",
       "24        25  -717.98\n",
       "25        26  -170.46\n",
       "26        27 -1680.03\n",
       "27        28  -563.53\n",
       "28        29  -376.51\n",
       "29        30   -59.36\n",
       "30        31  -375.31\n",
       "31        32  -408.45\n",
       "32        33  -455.70\n",
       "33        34  -989.55\n",
       "34        35  -598.87\n",
       "35        36  -827.02"
      ]
     },
     "execution_count": 14,
     "metadata": {},
     "output_type": "execute_result"
    }
   ],
   "source": [
    "demand_data"
   ]
  },
  {
   "cell_type": "code",
   "execution_count": 10,
   "id": "db6d96c8",
   "metadata": {},
   "outputs": [],
   "source": [
    "price_data = pd.read_csv(\"C:\\\\Users\\\\44780\\\\OneDrive\\\\Documents\\\\FYP-Modelling\\\\testcase\\\\price.csv\")"
   ]
  },
  {
   "cell_type": "code",
   "execution_count": 11,
   "id": "1c4d5660",
   "metadata": {},
   "outputs": [
    {
     "data": {
      "text/html": [
       "<div>\n",
       "<style scoped>\n",
       "    .dataframe tbody tr th:only-of-type {\n",
       "        vertical-align: middle;\n",
       "    }\n",
       "\n",
       "    .dataframe tbody tr th {\n",
       "        vertical-align: top;\n",
       "    }\n",
       "\n",
       "    .dataframe thead th {\n",
       "        text-align: right;\n",
       "    }\n",
       "</style>\n",
       "<table border=\"1\" class=\"dataframe\">\n",
       "  <thead>\n",
       "    <tr style=\"text-align: right;\">\n",
       "      <th></th>\n",
       "      <th>node</th>\n",
       "      <th>value</th>\n",
       "    </tr>\n",
       "  </thead>\n",
       "  <tbody>\n",
       "    <tr>\n",
       "      <th>0</th>\n",
       "      <td>1</td>\n",
       "      <td>146.751199</td>\n",
       "    </tr>\n",
       "    <tr>\n",
       "      <th>1</th>\n",
       "      <td>2</td>\n",
       "      <td>-46.184393</td>\n",
       "    </tr>\n",
       "    <tr>\n",
       "      <th>2</th>\n",
       "      <td>3</td>\n",
       "      <td>13.000000</td>\n",
       "    </tr>\n",
       "    <tr>\n",
       "      <th>3</th>\n",
       "      <td>4</td>\n",
       "      <td>16.250000</td>\n",
       "    </tr>\n",
       "    <tr>\n",
       "      <th>4</th>\n",
       "      <td>5</td>\n",
       "      <td>13.000000</td>\n",
       "    </tr>\n",
       "    <tr>\n",
       "      <th>5</th>\n",
       "      <td>6</td>\n",
       "      <td>115.360023</td>\n",
       "    </tr>\n",
       "    <tr>\n",
       "      <th>6</th>\n",
       "      <td>7</td>\n",
       "      <td>226.743097</td>\n",
       "    </tr>\n",
       "    <tr>\n",
       "      <th>7</th>\n",
       "      <td>8</td>\n",
       "      <td>288.968028</td>\n",
       "    </tr>\n",
       "    <tr>\n",
       "      <th>8</th>\n",
       "      <td>9</td>\n",
       "      <td>217.994625</td>\n",
       "    </tr>\n",
       "    <tr>\n",
       "      <th>9</th>\n",
       "      <td>10</td>\n",
       "      <td>268.974404</td>\n",
       "    </tr>\n",
       "    <tr>\n",
       "      <th>10</th>\n",
       "      <td>11</td>\n",
       "      <td>245.600611</td>\n",
       "    </tr>\n",
       "    <tr>\n",
       "      <th>11</th>\n",
       "      <td>12</td>\n",
       "      <td>432.077554</td>\n",
       "    </tr>\n",
       "    <tr>\n",
       "      <th>12</th>\n",
       "      <td>13</td>\n",
       "      <td>21.666667</td>\n",
       "    </tr>\n",
       "    <tr>\n",
       "      <th>13</th>\n",
       "      <td>14</td>\n",
       "      <td>-96.785367</td>\n",
       "    </tr>\n",
       "    <tr>\n",
       "      <th>14</th>\n",
       "      <td>15</td>\n",
       "      <td>1413.715956</td>\n",
       "    </tr>\n",
       "    <tr>\n",
       "      <th>15</th>\n",
       "      <td>16</td>\n",
       "      <td>1178.716465</td>\n",
       "    </tr>\n",
       "    <tr>\n",
       "      <th>16</th>\n",
       "      <td>17</td>\n",
       "      <td>16.250000</td>\n",
       "    </tr>\n",
       "    <tr>\n",
       "      <th>17</th>\n",
       "      <td>18</td>\n",
       "      <td>1836.532869</td>\n",
       "    </tr>\n",
       "    <tr>\n",
       "      <th>18</th>\n",
       "      <td>19</td>\n",
       "      <td>1718.996689</td>\n",
       "    </tr>\n",
       "    <tr>\n",
       "      <th>19</th>\n",
       "      <td>20</td>\n",
       "      <td>2172.164066</td>\n",
       "    </tr>\n",
       "    <tr>\n",
       "      <th>20</th>\n",
       "      <td>21</td>\n",
       "      <td>1910.754759</td>\n",
       "    </tr>\n",
       "    <tr>\n",
       "      <th>21</th>\n",
       "      <td>22</td>\n",
       "      <td>5055.066739</td>\n",
       "    </tr>\n",
       "    <tr>\n",
       "      <th>22</th>\n",
       "      <td>23</td>\n",
       "      <td>2084.651383</td>\n",
       "    </tr>\n",
       "    <tr>\n",
       "      <th>23</th>\n",
       "      <td>24</td>\n",
       "      <td>1393.841826</td>\n",
       "    </tr>\n",
       "    <tr>\n",
       "      <th>24</th>\n",
       "      <td>25</td>\n",
       "      <td>-5369.123724</td>\n",
       "    </tr>\n",
       "    <tr>\n",
       "      <th>25</th>\n",
       "      <td>26</td>\n",
       "      <td>6066.542526</td>\n",
       "    </tr>\n",
       "    <tr>\n",
       "      <th>26</th>\n",
       "      <td>27</td>\n",
       "      <td>16944.345575</td>\n",
       "    </tr>\n",
       "    <tr>\n",
       "      <th>27</th>\n",
       "      <td>28</td>\n",
       "      <td>8927.706737</td>\n",
       "    </tr>\n",
       "    <tr>\n",
       "      <th>28</th>\n",
       "      <td>29</td>\n",
       "      <td>-9358.540205</td>\n",
       "    </tr>\n",
       "    <tr>\n",
       "      <th>29</th>\n",
       "      <td>30</td>\n",
       "      <td>-4526.575043</td>\n",
       "    </tr>\n",
       "    <tr>\n",
       "      <th>30</th>\n",
       "      <td>31</td>\n",
       "      <td>-1341.341691</td>\n",
       "    </tr>\n",
       "    <tr>\n",
       "      <th>31</th>\n",
       "      <td>32</td>\n",
       "      <td>16.250000</td>\n",
       "    </tr>\n",
       "    <tr>\n",
       "      <th>32</th>\n",
       "      <td>33</td>\n",
       "      <td>30304.996122</td>\n",
       "    </tr>\n",
       "    <tr>\n",
       "      <th>33</th>\n",
       "      <td>34</td>\n",
       "      <td>18140.208591</td>\n",
       "    </tr>\n",
       "    <tr>\n",
       "      <th>34</th>\n",
       "      <td>35</td>\n",
       "      <td>-46.184393</td>\n",
       "    </tr>\n",
       "    <tr>\n",
       "      <th>35</th>\n",
       "      <td>36</td>\n",
       "      <td>-46.184393</td>\n",
       "    </tr>\n",
       "  </tbody>\n",
       "</table>\n",
       "</div>"
      ],
      "text/plain": [
       "    node         value\n",
       "0      1    146.751199\n",
       "1      2    -46.184393\n",
       "2      3     13.000000\n",
       "3      4     16.250000\n",
       "4      5     13.000000\n",
       "5      6    115.360023\n",
       "6      7    226.743097\n",
       "7      8    288.968028\n",
       "8      9    217.994625\n",
       "9     10    268.974404\n",
       "10    11    245.600611\n",
       "11    12    432.077554\n",
       "12    13     21.666667\n",
       "13    14    -96.785367\n",
       "14    15   1413.715956\n",
       "15    16   1178.716465\n",
       "16    17     16.250000\n",
       "17    18   1836.532869\n",
       "18    19   1718.996689\n",
       "19    20   2172.164066\n",
       "20    21   1910.754759\n",
       "21    22   5055.066739\n",
       "22    23   2084.651383\n",
       "23    24   1393.841826\n",
       "24    25  -5369.123724\n",
       "25    26   6066.542526\n",
       "26    27  16944.345575\n",
       "27    28   8927.706737\n",
       "28    29  -9358.540205\n",
       "29    30  -4526.575043\n",
       "30    31  -1341.341691\n",
       "31    32     16.250000\n",
       "32    33  30304.996122\n",
       "33    34  18140.208591\n",
       "34    35    -46.184393\n",
       "35    36    -46.184393"
      ]
     },
     "execution_count": 11,
     "metadata": {},
     "output_type": "execute_result"
    }
   ],
   "source": [
    "price_data"
   ]
  },
  {
   "cell_type": "code",
   "execution_count": 16,
   "id": "31aca878",
   "metadata": {},
   "outputs": [],
   "source": [
    "from sklearn.preprocessing import PolynomialFeatures"
   ]
  },
  {
   "cell_type": "code",
   "execution_count": 19,
   "id": "c6a83f0e",
   "metadata": {},
   "outputs": [],
   "source": [
    "from sklearn import linear_model"
   ]
  },
  {
   "cell_type": "code",
   "execution_count": 60,
   "id": "d97b190f",
   "metadata": {},
   "outputs": [],
   "source": [
    "from sklearn.linear_model import LinearRegression"
   ]
  },
  {
   "cell_type": "code",
   "execution_count": 20,
   "id": "45f09d8d",
   "metadata": {},
   "outputs": [],
   "source": [
    "poly = PolynomialFeatures(degree = 6)"
   ]
  },
  {
   "cell_type": "code",
   "execution_count": 21,
   "id": "43ded04f",
   "metadata": {},
   "outputs": [],
   "source": [
    "import matplotlib.pyplot as plt"
   ]
  },
  {
   "cell_type": "code",
   "execution_count": 35,
   "id": "49b5de9c",
   "metadata": {},
   "outputs": [],
   "source": [
    "import numpy as np"
   ]
  },
  {
   "cell_type": "code",
   "execution_count": 23,
   "id": "ef948f69",
   "metadata": {},
   "outputs": [],
   "source": [
    "x = price_data.value"
   ]
  },
  {
   "cell_type": "code",
   "execution_count": 25,
   "id": "b9703b19",
   "metadata": {},
   "outputs": [],
   "source": [
    "y = demand_data.demand"
   ]
  },
  {
   "cell_type": "code",
   "execution_count": 26,
   "id": "89157a72",
   "metadata": {},
   "outputs": [
    {
     "data": {
      "text/plain": [
       "[<matplotlib.lines.Line2D at 0x26eec5defd0>]"
      ]
     },
     "execution_count": 26,
     "metadata": {},
     "output_type": "execute_result"
    },
    {
     "data": {
      "image/png": "[encoded data removed]",
      "text/plain": [
       "<Figure size 640x480 with 1 Axes>"
      ]
     },
     "metadata": {},
     "output_type": "display_data"
    }
   ],
   "source": [
    "plt.plot(x,y)"
   ]
  },
  {
   "cell_type": "code",
   "execution_count": 50,
   "id": "aa5abb1a",
   "metadata": {},
   "outputs": [],
   "source": [
    "regression = linear_model.LinearRegression()"
   ]
  },
  {
   "cell_type": "code",
   "execution_count": 61,
   "id": "cade50e0",
   "metadata": {},
   "outputs": [],
   "source": [
    "model = regression.fit(x,y)"
   ]
  },
  {
   "cell_type": "code",
   "execution_count": 36,
   "id": "887efdb7",
   "metadata": {},
   "outputs": [],
   "source": [
    "x = np.array(x).reshape((1, -1))"
   ]
  },
  {
   "cell_type": "code",
   "execution_count": 37,
   "id": "e50a9de4",
   "metadata": {},
   "outputs": [],
   "source": [
    "y = np.array(y).reshape((1,-1))"
   ]
  },
  {
   "cell_type": "code",
   "execution_count": 39,
   "id": "52c822f4",
   "metadata": {},
   "outputs": [],
   "source": [
    "poly_variables = poly.fit_transform(x, y)\n"
   ]
  },
  {
   "cell_type": "code",
   "execution_count": 62,
   "id": "e76b9d74",
   "metadata": {},
   "outputs": [
    {
     "data": {
      "text/html": [
       "<style>#sk-container-id-5 {color: black;}#sk-container-id-5 pre{padding: 0;}#sk-container-id-5 div.sk-toggleable {background-color: white;}#sk-container-id-5 label.sk-toggleable__label {cursor: pointer;display: block;width: 100%;margin-bottom: 0;padding: 0.3em;box-sizing: border-box;text-align: center;}#sk-container-id-5 label.sk-toggleable__label-arrow:before {content: \"▸\";float: left;margin-right: 0.25em;color: #696969;}#sk-container-id-5 label.sk-toggleable__label-arrow:hover:before {color: black;}#sk-container-id-5 div.sk-estimator:hover label.sk-toggleable__label-arrow:before {color: black;}#sk-container-id-5 div.sk-toggleable__content {max-height: 0;max-width: 0;overflow: hidden;text-align: left;background-color: #f0f8ff;}#sk-container-id-5 div.sk-toggleable__content pre {margin: 0.2em;color: black;border-radius: 0.25em;background-color: #f0f8ff;}#sk-container-id-5 input.sk-toggleable__control:checked~div.sk-toggleable__content {max-height: 200px;max-width: 100%;overflow: auto;}#sk-container-id-5 input.sk-toggleable__control:checked~label.sk-toggleable__label-arrow:before {content: \"▾\";}#sk-container-id-5 div.sk-estimator input.sk-toggleable__control:checked~label.sk-toggleable__label {background-color: #d4ebff;}#sk-container-id-5 div.sk-label input.sk-toggleable__control:checked~label.sk-toggleable__label {background-color: #d4ebff;}#sk-container-id-5 input.sk-hidden--visually {border: 0;clip: rect(1px 1px 1px 1px);clip: rect(1px, 1px, 1px, 1px);height: 1px;margin: -1px;overflow: hidden;padding: 0;position: absolute;width: 1px;}#sk-container-id-5 div.sk-estimator {font-family: monospace;background-color: #f0f8ff;border: 1px dotted black;border-radius: 0.25em;box-sizing: border-box;margin-bottom: 0.5em;}#sk-container-id-5 div.sk-estimator:hover {background-color: #d4ebff;}#sk-container-id-5 div.sk-parallel-item::after {content: \"\";width: 100%;border-bottom: 1px solid gray;flex-grow: 1;}#sk-container-id-5 div.sk-label:hover label.sk-toggleable__label {background-color: #d4ebff;}#sk-container-id-5 div.sk-serial::before {content: \"\";position: absolute;border-left: 1px solid gray;box-sizing: border-box;top: 0;bottom: 0;left: 50%;z-index: 0;}#sk-container-id-5 div.sk-serial {display: flex;flex-direction: column;align-items: center;background-color: white;padding-right: 0.2em;padding-left: 0.2em;position: relative;}#sk-container-id-5 div.sk-item {position: relative;z-index: 1;}#sk-container-id-5 div.sk-parallel {display: flex;align-items: stretch;justify-content: center;background-color: white;position: relative;}#sk-container-id-5 div.sk-item::before, #sk-container-id-5 div.sk-parallel-item::before {content: \"\";position: absolute;border-left: 1px solid gray;box-sizing: border-box;top: 0;bottom: 0;left: 50%;z-index: -1;}#sk-container-id-5 div.sk-parallel-item {display: flex;flex-direction: column;z-index: 1;position: relative;background-color: white;}#sk-container-id-5 div.sk-parallel-item:first-child::after {align-self: flex-end;width: 50%;}#sk-container-id-5 div.sk-parallel-item:last-child::after {align-self: flex-start;width: 50%;}#sk-container-id-5 div.sk-parallel-item:only-child::after {width: 0;}#sk-container-id-5 div.sk-dashed-wrapped {border: 1px dashed gray;margin: 0 0.4em 0.5em 0.4em;box-sizing: border-box;padding-bottom: 0.4em;background-color: white;}#sk-container-id-5 div.sk-label label {font-family: monospace;font-weight: bold;display: inline-block;line-height: 1.2em;}#sk-container-id-5 div.sk-label-container {text-align: center;}#sk-container-id-5 div.sk-container {/* jupyter's `normalize.less` sets `[hidden] { display: none; }` but bootstrap.min.css set `[hidden] { display: none !important; }` so we also need the `!important` here to be able to override the default hidden behavior on the sphinx rendered scikit-learn.org. See: https://github.com/scikit-learn/scikit-learn/issues/21755 */display: inline-block !important;position: relative;}#sk-container-id-5 div.sk-text-repr-fallback {display: none;}</style><div id=\"sk-container-id-5\" class=\"sk-top-container\"><div class=\"sk-text-repr-fallback\"><pre>LinearRegression()</pre><b>In a Jupyter environment, please rerun this cell to show the HTML representation or trust the notebook. <br />On GitHub, the HTML representation is unable to render, please try loading this page with nbviewer.org.</b></div><div class=\"sk-container\" hidden><div class=\"sk-item\"><div class=\"sk-estimator sk-toggleable\"><input class=\"sk-toggleable__control sk-hidden--visually\" id=\"sk-estimator-id-5\" type=\"checkbox\" checked><label for=\"sk-estimator-id-5\" class=\"sk-toggleable__label sk-toggleable__label-arrow\">LinearRegression</label><div class=\"sk-toggleable__content\"><pre>LinearRegression()</pre></div></div></div></div></div>"
      ],
      "text/plain": [
       "LinearRegression()"
      ]
     },
     "execution_count": 62,
     "metadata": {},
     "output_type": "execute_result"
    }
   ],
   "source": [
    "model"
   ]
  },
  {
   "cell_type": "code",
   "execution_count": 69,
   "id": "06031459",
   "metadata": {},
   "outputs": [
    {
     "name": "stderr",
     "output_type": "stream",
     "text": [
      "C:\\Users\\44780\\anaconNew\\Lib\\site-packages\\sklearn\\metrics\\_regression.py:996: UndefinedMetricWarning: R^2 score is not well-defined with less than two samples.\n",
      "  warnings.warn(msg, UndefinedMetricWarning)\n"
     ]
    }
   ],
   "source": [
    "r_sq = model.score(x, y)\n"
   ]
  },
  {
   "cell_type": "code",
   "execution_count": 70,
   "id": "036d50e9",
   "metadata": {},
   "outputs": [
    {
     "data": {
      "text/plain": [
       "nan"
      ]
     },
     "execution_count": 70,
     "metadata": {},
     "output_type": "execute_result"
    }
   ],
   "source": [
    "r_sq"
   ]
  },
  {
   "cell_type": "code",
   "execution_count": 67,
   "id": "183c5061",
   "metadata": {},
   "outputs": [
    {
     "data": {
      "text/html": [
       "<style>#sk-container-id-8 {color: black;}#sk-container-id-8 pre{padding: 0;}#sk-container-id-8 div.sk-toggleable {background-color: white;}#sk-container-id-8 label.sk-toggleable__label {cursor: pointer;display: block;width: 100%;margin-bottom: 0;padding: 0.3em;box-sizing: border-box;text-align: center;}#sk-container-id-8 label.sk-toggleable__label-arrow:before {content: \"▸\";float: left;margin-right: 0.25em;color: #696969;}#sk-container-id-8 label.sk-toggleable__label-arrow:hover:before {color: black;}#sk-container-id-8 div.sk-estimator:hover label.sk-toggleable__label-arrow:before {color: black;}#sk-container-id-8 div.sk-toggleable__content {max-height: 0;max-width: 0;overflow: hidden;text-align: left;background-color: #f0f8ff;}#sk-container-id-8 div.sk-toggleable__content pre {margin: 0.2em;color: black;border-radius: 0.25em;background-color: #f0f8ff;}#sk-container-id-8 input.sk-toggleable__control:checked~div.sk-toggleable__content {max-height: 200px;max-width: 100%;overflow: auto;}#sk-container-id-8 input.sk-toggleable__control:checked~label.sk-toggleable__label-arrow:before {content: \"▾\";}#sk-container-id-8 div.sk-estimator input.sk-toggleable__control:checked~label.sk-toggleable__label {background-color: #d4ebff;}#sk-container-id-8 div.sk-label input.sk-toggleable__control:checked~label.sk-toggleable__label {background-color: #d4ebff;}#sk-container-id-8 input.sk-hidden--visually {border: 0;clip: rect(1px 1px 1px 1px);clip: rect(1px, 1px, 1px, 1px);height: 1px;margin: -1px;overflow: hidden;padding: 0;position: absolute;width: 1px;}#sk-container-id-8 div.sk-estimator {font-family: monospace;background-color: #f0f8ff;border: 1px dotted black;border-radius: 0.25em;box-sizing: border-box;margin-bottom: 0.5em;}#sk-container-id-8 div.sk-estimator:hover {background-color: #d4ebff;}#sk-container-id-8 div.sk-parallel-item::after {content: \"\";width: 100%;border-bottom: 1px solid gray;flex-grow: 1;}#sk-container-id-8 div.sk-label:hover label.sk-toggleable__label {background-color: #d4ebff;}#sk-container-id-8 div.sk-serial::before {content: \"\";position: absolute;border-left: 1px solid gray;box-sizing: border-box;top: 0;bottom: 0;left: 50%;z-index: 0;}#sk-container-id-8 div.sk-serial {display: flex;flex-direction: column;align-items: center;background-color: white;padding-right: 0.2em;padding-left: 0.2em;position: relative;}#sk-container-id-8 div.sk-item {position: relative;z-index: 1;}#sk-container-id-8 div.sk-parallel {display: flex;align-items: stretch;justify-content: center;background-color: white;position: relative;}#sk-container-id-8 div.sk-item::before, #sk-container-id-8 div.sk-parallel-item::before {content: \"\";position: absolute;border-left: 1px solid gray;box-sizing: border-box;top: 0;bottom: 0;left: 50%;z-index: -1;}#sk-container-id-8 div.sk-parallel-item {display: flex;flex-direction: column;z-index: 1;position: relative;background-color: white;}#sk-container-id-8 div.sk-parallel-item:first-child::after {align-self: flex-end;width: 50%;}#sk-container-id-8 div.sk-parallel-item:last-child::after {align-self: flex-start;width: 50%;}#sk-container-id-8 div.sk-parallel-item:only-child::after {width: 0;}#sk-container-id-8 div.sk-dashed-wrapped {border: 1px dashed gray;margin: 0 0.4em 0.5em 0.4em;box-sizing: border-box;padding-bottom: 0.4em;background-color: white;}#sk-container-id-8 div.sk-label label {font-family: monospace;font-weight: bold;display: inline-block;line-height: 1.2em;}#sk-container-id-8 div.sk-label-container {text-align: center;}#sk-container-id-8 div.sk-container {/* jupyter's `normalize.less` sets `[hidden] { display: none; }` but bootstrap.min.css set `[hidden] { display: none !important; }` so we also need the `!important` here to be able to override the default hidden behavior on the sphinx rendered scikit-learn.org. See: https://github.com/scikit-learn/scikit-learn/issues/21755 */display: inline-block !important;position: relative;}#sk-container-id-8 div.sk-text-repr-fallback {display: none;}</style><div id=\"sk-container-id-8\" class=\"sk-top-container\"><div class=\"sk-text-repr-fallback\"><pre>LinearRegression()</pre><b>In a Jupyter environment, please rerun this cell to show the HTML representation or trust the notebook. <br />On GitHub, the HTML representation is unable to render, please try loading this page with nbviewer.org.</b></div><div class=\"sk-container\" hidden><div class=\"sk-item\"><div class=\"sk-estimator sk-toggleable\"><input class=\"sk-toggleable__control sk-hidden--visually\" id=\"sk-estimator-id-8\" type=\"checkbox\" checked><label for=\"sk-estimator-id-8\" class=\"sk-toggleable__label sk-toggleable__label-arrow\">LinearRegression</label><div class=\"sk-toggleable__content\"><pre>LinearRegression()</pre></div></div></div></div></div>"
      ],
      "text/plain": [
       "LinearRegression()"
      ]
     },
     "execution_count": 67,
     "metadata": {},
     "output_type": "execute_result"
    }
   ],
   "source": [
    "model.fit(x, y)\n",
    "LinearRegression()"
   ]
  },
  {
   "cell_type": "code",
   "execution_count": 68,
   "id": "3b3fd297",
   "metadata": {},
   "outputs": [],
   "source": [
    "model = LinearRegression().fit(x, y)"
   ]
  },
  {
   "cell_type": "code",
   "execution_count": 71,
   "id": "0596e0ca",
   "metadata": {},
   "outputs": [
    {
     "name": "stdout",
     "output_type": "stream",
     "text": [
      "coefficient of determination: nan\n"
     ]
    },
    {
     "name": "stderr",
     "output_type": "stream",
     "text": [
      "C:\\Users\\44780\\anaconNew\\Lib\\site-packages\\sklearn\\metrics\\_regression.py:996: UndefinedMetricWarning: R^2 score is not well-defined with less than two samples.\n",
      "  warnings.warn(msg, UndefinedMetricWarning)\n"
     ]
    }
   ],
   "source": [
    "r_sq = model.score(x, y)\n",
    "print(f\"coefficient of determination: {r_sq}\")"
   ]
  },
  {
   "cell_type": "code",
   "execution_count": 72,
   "id": "97b2593c",
   "metadata": {},
   "outputs": [
    {
     "name": "stdout",
     "output_type": "stream",
     "text": [
      "intercept: [-2036.63 -1734.71  -877.9  -1334.16 -1701.55 -1244.77 -1341.61 -3669.5\n",
      " -1960.02  -490.68  -474.51 -1518.23 -2429.02 -1614.73 -2584.23  -184.39\n",
      "  -161.82 -1088.33  -646.27 -2079.47 -1384.61  -674.35 -1973.87  -571.88\n",
      "  -717.98  -170.46 -1680.03  -563.53  -376.51   -59.36  -375.31  -408.45\n",
      "  -455.7   -989.55  -598.87  -827.02]\n"
     ]
    }
   ],
   "source": [
    "print(f\"intercept: {model.intercept_}\")"
   ]
  },
  {
   "cell_type": "code",
   "execution_count": 73,
   "id": "e6806311",
   "metadata": {},
   "outputs": [
    {
     "name": "stdout",
     "output_type": "stream",
     "text": [
      "slope: [[0. 0. 0. ... 0. 0. 0.]\n",
      " [0. 0. 0. ... 0. 0. 0.]\n",
      " [0. 0. 0. ... 0. 0. 0.]\n",
      " ...\n",
      " [0. 0. 0. ... 0. 0. 0.]\n",
      " [0. 0. 0. ... 0. 0. 0.]\n",
      " [0. 0. 0. ... 0. 0. 0.]]\n"
     ]
    }
   ],
   "source": [
    "print(f\"slope: {model.coef_}\")"
   ]
  },
  {
   "cell_type": "code",
   "execution_count": 74,
   "id": "5cf81975",
   "metadata": {},
   "outputs": [],
   "source": [
    "transformer = PolynomialFeatures(degree=6, include_bias=False)"
   ]
  },
  {
   "cell_type": "code",
   "execution_count": 75,
   "id": "087799a5",
   "metadata": {},
   "outputs": [
    {
     "data": {
      "text/html": [
       "<style>#sk-container-id-9 {color: black;}#sk-container-id-9 pre{padding: 0;}#sk-container-id-9 div.sk-toggleable {background-color: white;}#sk-container-id-9 label.sk-toggleable__label {cursor: pointer;display: block;width: 100%;margin-bottom: 0;padding: 0.3em;box-sizing: border-box;text-align: center;}#sk-container-id-9 label.sk-toggleable__label-arrow:before {content: \"▸\";float: left;margin-right: 0.25em;color: #696969;}#sk-container-id-9 label.sk-toggleable__label-arrow:hover:before {color: black;}#sk-container-id-9 div.sk-estimator:hover label.sk-toggleable__label-arrow:before {color: black;}#sk-container-id-9 div.sk-toggleable__content {max-height: 0;max-width: 0;overflow: hidden;text-align: left;background-color: #f0f8ff;}#sk-container-id-9 div.sk-toggleable__content pre {margin: 0.2em;color: black;border-radius: 0.25em;background-color: #f0f8ff;}#sk-container-id-9 input.sk-toggleable__control:checked~div.sk-toggleable__content {max-height: 200px;max-width: 100%;overflow: auto;}#sk-container-id-9 input.sk-toggleable__control:checked~label.sk-toggleable__label-arrow:before {content: \"▾\";}#sk-container-id-9 div.sk-estimator input.sk-toggleable__control:checked~label.sk-toggleable__label {background-color: #d4ebff;}#sk-container-id-9 div.sk-label input.sk-toggleable__control:checked~label.sk-toggleable__label {background-color: #d4ebff;}#sk-container-id-9 input.sk-hidden--visually {border: 0;clip: rect(1px 1px 1px 1px);clip: rect(1px, 1px, 1px, 1px);height: 1px;margin: -1px;overflow: hidden;padding: 0;position: absolute;width: 1px;}#sk-container-id-9 div.sk-estimator {font-family: monospace;background-color: #f0f8ff;border: 1px dotted black;border-radius: 0.25em;box-sizing: border-box;margin-bottom: 0.5em;}#sk-container-id-9 div.sk-estimator:hover {background-color: #d4ebff;}#sk-container-id-9 div.sk-parallel-item::after {content: \"\";width: 100%;border-bottom: 1px solid gray;flex-grow: 1;}#sk-container-id-9 div.sk-label:hover label.sk-toggleable__label {background-color: #d4ebff;}#sk-container-id-9 div.sk-serial::before {content: \"\";position: absolute;border-left: 1px solid gray;box-sizing: border-box;top: 0;bottom: 0;left: 50%;z-index: 0;}#sk-container-id-9 div.sk-serial {display: flex;flex-direction: column;align-items: center;background-color: white;padding-right: 0.2em;padding-left: 0.2em;position: relative;}#sk-container-id-9 div.sk-item {position: relative;z-index: 1;}#sk-container-id-9 div.sk-parallel {display: flex;align-items: stretch;justify-content: center;background-color: white;position: relative;}#sk-container-id-9 div.sk-item::before, #sk-container-id-9 div.sk-parallel-item::before {content: \"\";position: absolute;border-left: 1px solid gray;box-sizing: border-box;top: 0;bottom: 0;left: 50%;z-index: -1;}#sk-container-id-9 div.sk-parallel-item {display: flex;flex-direction: column;z-index: 1;position: relative;background-color: white;}#sk-container-id-9 div.sk-parallel-item:first-child::after {align-self: flex-end;width: 50%;}#sk-container-id-9 div.sk-parallel-item:last-child::after {align-self: flex-start;width: 50%;}#sk-container-id-9 div.sk-parallel-item:only-child::after {width: 0;}#sk-container-id-9 div.sk-dashed-wrapped {border: 1px dashed gray;margin: 0 0.4em 0.5em 0.4em;box-sizing: border-box;padding-bottom: 0.4em;background-color: white;}#sk-container-id-9 div.sk-label label {font-family: monospace;font-weight: bold;display: inline-block;line-height: 1.2em;}#sk-container-id-9 div.sk-label-container {text-align: center;}#sk-container-id-9 div.sk-container {/* jupyter's `normalize.less` sets `[hidden] { display: none; }` but bootstrap.min.css set `[hidden] { display: none !important; }` so we also need the `!important` here to be able to override the default hidden behavior on the sphinx rendered scikit-learn.org. See: https://github.com/scikit-learn/scikit-learn/issues/21755 */display: inline-block !important;position: relative;}#sk-container-id-9 div.sk-text-repr-fallback {display: none;}</style><div id=\"sk-container-id-9\" class=\"sk-top-container\"><div class=\"sk-text-repr-fallback\"><pre>PolynomialFeatures(degree=6, include_bias=False)</pre><b>In a Jupyter environment, please rerun this cell to show the HTML representation or trust the notebook. <br />On GitHub, the HTML representation is unable to render, please try loading this page with nbviewer.org.</b></div><div class=\"sk-container\" hidden><div class=\"sk-item\"><div class=\"sk-estimator sk-toggleable\"><input class=\"sk-toggleable__control sk-hidden--visually\" id=\"sk-estimator-id-9\" type=\"checkbox\" checked><label for=\"sk-estimator-id-9\" class=\"sk-toggleable__label sk-toggleable__label-arrow\">PolynomialFeatures</label><div class=\"sk-toggleable__content\"><pre>PolynomialFeatures(degree=6, include_bias=False)</pre></div></div></div></div></div>"
      ],
      "text/plain": [
       "PolynomialFeatures(degree=6, include_bias=False)"
      ]
     },
     "execution_count": 75,
     "metadata": {},
     "output_type": "execute_result"
    }
   ],
   "source": [
    "transformer.fit(x)"
   ]
  },
  {
   "cell_type": "code",
   "execution_count": 76,
   "id": "db0ddbd6",
   "metadata": {},
   "outputs": [],
   "source": [
    "x_ = transformer.transform(x)"
   ]
  },
  {
   "cell_type": "code",
   "execution_count": 82,
   "id": "879b989e",
   "metadata": {},
   "outputs": [],
   "source": [
    "x_ = PolynomialFeatures(degree=2, include_bias=False).fit_transform(x)"
   ]
  },
  {
   "cell_type": "code",
   "execution_count": 83,
   "id": "4316c3a1",
   "metadata": {},
   "outputs": [
    {
     "data": {
      "text/plain": [
       "array([[ 1.46751199e+02, -4.61843933e+01,  1.30000000e+01,\n",
       "         1.62500000e+01,  1.30000000e+01,  1.15360023e+02,\n",
       "         2.26743097e+02,  2.88968028e+02,  2.17994625e+02,\n",
       "         2.68974404e+02,  2.45600611e+02,  4.32077554e+02,\n",
       "         2.16666667e+01, -9.67853675e+01,  1.41371596e+03,\n",
       "         1.17871646e+03,  1.62500000e+01,  1.83653287e+03,\n",
       "         1.71899669e+03,  2.17216407e+03,  1.91075476e+03,\n",
       "         5.05506674e+03,  2.08465138e+03,  1.39384183e+03,\n",
       "        -5.36912372e+03,  6.06654253e+03,  1.69443456e+04,\n",
       "         8.92770674e+03, -9.35854020e+03, -4.52657504e+03,\n",
       "        -1.34134169e+03,  1.62500000e+01,  3.03049961e+04,\n",
       "         1.81402086e+04, -4.61843933e+01, -4.61843933e+01,\n",
       "         2.15359143e+04, -6.77761508e+03,  1.90776558e+03,\n",
       "         2.38470698e+03,  1.90776558e+03,  1.69292216e+04,\n",
       "         3.32748213e+04,  4.24064045e+04,  3.19909725e+04,\n",
       "         3.94723162e+04,  3.60421841e+04,  6.34078990e+04,\n",
       "         3.17960930e+03, -1.42033687e+04,  2.07464511e+05,\n",
       "         1.72978054e+05,  2.38470698e+03,  2.69513400e+05,\n",
       "         2.52264824e+05,  3.18767680e+05,  2.80405551e+05,\n",
       "         7.41837103e+05,  3.05925089e+05,  2.04547959e+05,\n",
       "        -7.87925342e+05,  8.90272387e+05,  2.48660302e+06,\n",
       "         1.31015166e+06, -1.37337699e+06, -6.64280313e+05,\n",
       "        -1.96843501e+05,  2.38470698e+03,  4.44729451e+06,\n",
       "         2.66209735e+06, -6.77761508e+03, -6.77761508e+03,\n",
       "         2.13299819e+03, -6.00397113e+02, -7.50496392e+02,\n",
       "        -6.00397113e+02, -5.32783265e+03, -1.04719924e+04,\n",
       "        -1.33458131e+04, -1.00679495e+04, -1.24224197e+04,\n",
       "        -1.13429152e+04, -1.99552397e+04, -1.00066186e+03,\n",
       "         4.46997348e+03, -6.52916137e+04, -5.44383048e+04,\n",
       "        -7.50496392e+02, -8.48191564e+04, -7.93908192e+04,\n",
       "        -1.00320080e+05, -8.82470493e+04, -2.33465191e+05,\n",
       "        -9.62783594e+04, -6.43737391e+04,  2.47969722e+05,\n",
       "        -2.80179586e+05, -7.82564321e+05, -4.12320719e+05,\n",
       "         4.32218502e+05,  2.09057122e+05,  6.19490522e+04,\n",
       "        -7.50496392e+02, -1.39961786e+06, -8.37794529e+05,\n",
       "         2.13299819e+03,  2.13299819e+03,  1.69000000e+02,\n",
       "         2.11250000e+02,  1.69000000e+02,  1.49968029e+03,\n",
       "         2.94766026e+03,  3.75658437e+03,  2.83393012e+03,\n",
       "         3.49666725e+03,  3.19280795e+03,  5.61700820e+03,\n",
       "         2.81666667e+02, -1.25820978e+03,  1.83783074e+04,\n",
       "         1.53233140e+04,  2.11250000e+02,  2.38749273e+04,\n",
       "         2.23469570e+04,  2.82381329e+04,  2.48398119e+04,\n",
       "         6.57158676e+04,  2.71004680e+04,  1.81199437e+04,\n",
       "        -6.97986084e+04,  7.88650528e+04,  2.20276492e+05,\n",
       "         1.16060188e+05, -1.21661023e+05, -5.88454756e+04,\n",
       "        -1.74374420e+04,  2.11250000e+02,  3.93964950e+05,\n",
       "         2.35822712e+05, -6.00397113e+02, -6.00397113e+02,\n",
       "         2.64062500e+02,  2.11250000e+02,  1.87460037e+03,\n",
       "         3.68457533e+03,  4.69573046e+03,  3.54241265e+03,\n",
       "         4.37083407e+03,  3.99100993e+03,  7.02126025e+03,\n",
       "         3.52083333e+02, -1.57276222e+03,  2.29728843e+04,\n",
       "         1.91541426e+04,  2.64062500e+02,  2.98436591e+04,\n",
       "         2.79336962e+04,  3.52976661e+04,  3.10497648e+04,\n",
       "         8.21448345e+04,  3.38755850e+04,  2.26499297e+04,\n",
       "        -8.72482605e+04,  9.85813160e+04,  2.75345616e+05,\n",
       "         1.45075234e+05, -1.52076278e+05, -7.35568444e+04,\n",
       "        -2.17968025e+04,  2.64062500e+02,  4.92456187e+05,\n",
       "         2.94778390e+05, -7.50496392e+02, -7.50496392e+02,\n",
       "         1.69000000e+02,  1.49968029e+03,  2.94766026e+03,\n",
       "         3.75658437e+03,  2.83393012e+03,  3.49666725e+03,\n",
       "         3.19280795e+03,  5.61700820e+03,  2.81666667e+02,\n",
       "        -1.25820978e+03,  1.83783074e+04,  1.53233140e+04,\n",
       "         2.11250000e+02,  2.38749273e+04,  2.23469570e+04,\n",
       "         2.82381329e+04,  2.48398119e+04,  6.57158676e+04,\n",
       "         2.71004680e+04,  1.81199437e+04, -6.97986084e+04,\n",
       "         7.88650528e+04,  2.20276492e+05,  1.16060188e+05,\n",
       "        -1.21661023e+05, -5.88454756e+04, -1.74374420e+04,\n",
       "         2.11250000e+02,  3.93964950e+05,  2.35822712e+05,\n",
       "        -6.00397113e+02, -6.00397113e+02,  1.33079348e+04,\n",
       "         2.61570888e+04,  3.33353583e+04,  2.51478648e+04,\n",
       "         3.10288933e+04,  2.83324921e+04,  4.98444764e+04,\n",
       "         2.49946715e+03, -1.11651622e+04,  1.63086304e+05,\n",
       "         1.35976758e+05,  1.87460037e+03,  2.11862473e+05,\n",
       "         1.98303497e+05,  2.50580896e+05,  2.20424712e+05,\n",
       "         5.83152613e+05,  2.40485430e+05,  1.60793624e+05,\n",
       "        -6.19382234e+05,  6.99836482e+05,  1.95470009e+06,\n",
       "         1.02990045e+06, -1.07960141e+06, -5.22185799e+05,\n",
       "        -1.54737208e+05,  1.87460037e+03,  3.49598504e+06,\n",
       "         2.09265487e+06, -5.32783265e+03, -5.32783265e+03,\n",
       "         5.14124321e+04,  6.55215057e+04,  4.94287763e+04,\n",
       "         6.09880895e+04,  5.56882433e+04,  9.79706028e+04,\n",
       "         4.91276711e+03, -2.19454140e+04,  3.20550334e+05,\n",
       "         2.67265822e+05,  3.68457533e+03,  4.16421151e+05,\n",
       "         3.89770633e+05,  4.92523208e+05,  4.33250452e+05,\n",
       "         1.14620149e+06,  4.72680311e+05,  3.16044013e+05,\n",
       "        -1.21741174e+06,  1.37554664e+06,  3.84201340e+06,\n",
       "         2.02429588e+06, -2.12198439e+06, -1.02636964e+06,\n",
       "        -3.04139969e+05,  3.68457533e+03,  6.87144868e+06,\n",
       "         4.11316708e+06, -1.04719924e+04, -1.04719924e+04,\n",
       "         8.35025214e+04,  6.29934769e+04,  7.77250033e+04,\n",
       "         7.09707244e+04,  1.24856599e+05,  6.26097395e+03,\n",
       "        -2.79678768e+04,  4.08518712e+05,  3.40611373e+05,\n",
       "         4.69573046e+03,  5.30699282e+05,  4.96735084e+05,\n",
       "         6.27685967e+05,  5.52147035e+05,  1.46075267e+06,\n",
       "         6.02397600e+05,  4.02775724e+05, -1.55150510e+06,\n",
       "         1.75303683e+06,  4.89637413e+06,  2.57982181e+06,\n",
       "        -2.70431891e+06, -1.30803547e+06, -3.87604864e+05,\n",
       "         4.69573046e+03,  8.75717498e+06,  5.24194031e+06,\n",
       "        -1.33458131e+04, -1.33458131e+04,  4.75216564e+04,\n",
       "         5.86349743e+04,  5.35396131e+04,  9.41905842e+04,\n",
       "         4.72321687e+03, -2.10986898e+04,  3.08182479e+05,\n",
       "         2.56953853e+05,  3.54241265e+03,  4.00354293e+05,\n",
       "         3.74732038e+05,  4.73520090e+05,  4.16534266e+05,\n",
       "         1.10197738e+06,  4.54442796e+05,  3.03850026e+05,\n",
       "        -1.17044011e+06,  1.32247366e+06,  3.69377625e+06,\n",
       "         1.94619208e+06, -2.04011146e+06, -9.86769027e+05,\n",
       "        -2.92405278e+05,  3.54241265e+03,  6.60632625e+06,\n",
       "         3.95446796e+06, -1.00679495e+04, -1.00679495e+04,\n",
       "         7.23472301e+04,  6.60602781e+04,  1.16217803e+05,\n",
       "         5.82777876e+03, -2.60327865e+04,  3.80253407e+05,\n",
       "         3.17044559e+05,  4.37083407e+03,  4.93980334e+05,\n",
       "         4.62366110e+05,  5.84256535e+05,  5.13944123e+05,\n",
       "         1.35968356e+06,  5.60717864e+05,  3.74907775e+05,\n",
       "        -1.44415685e+06,  1.63174466e+06,  4.55759526e+06,\n",
       "         2.40132460e+06, -2.51720778e+06, -1.21753283e+06,\n",
       "        -3.60786582e+05,  4.37083407e+03,  8.15126828e+06,\n",
       "         4.87925180e+06, -1.24224197e+04, -1.24224197e+04,\n",
       "         6.03196603e+04,  1.06118511e+05,  5.32134658e+03,\n",
       "        -2.37705454e+04,  3.47209503e+05,  2.89493484e+05,\n",
       "         3.99100993e+03,  4.51053595e+05,  4.22186638e+05,\n",
       "         5.33484822e+05,  4.69282537e+05,  1.24152748e+06,\n",
       "         5.11991654e+05,  3.42328405e+05, -1.31866007e+06,\n",
       "         1.48994655e+06,  4.16154163e+06,  2.19265023e+06,\n",
       "        -2.29846320e+06, -1.11172960e+06, -3.29434339e+05,\n",
       "         3.99100993e+03,  7.44292557e+06,  4.45524632e+06,\n",
       "        -1.13429152e+04, -1.13429152e+04,  1.86691013e+05,\n",
       "         9.36168034e+03, -4.18187848e+04,  6.10834932e+05,\n",
       "         5.09296927e+05,  7.02126025e+03,  7.93524630e+05,\n",
       "         7.42739885e+05,  9.38543336e+05,  8.25594243e+05,\n",
       "         2.18418087e+06,  9.00731071e+05,  6.02247767e+05,\n",
       "        -2.31987785e+06,  2.62121686e+06,  7.32127139e+06,\n",
       "         3.85746169e+06, -4.04361516e+06, -1.95583147e+06,\n",
       "        -5.79563637e+05,  7.02126025e+03,  1.30941086e+07,\n",
       "         7.83797696e+06, -1.99552397e+04, -1.99552397e+04,\n",
       "         4.69444444e+02, -2.09701630e+03,  3.06305124e+04,\n",
       "         2.55388567e+04,  3.52083333e+02,  3.97915455e+04,\n",
       "         3.72449283e+04,  4.70635548e+04,  4.13996864e+04,\n",
       "         1.09526446e+05,  4.51674466e+04,  3.01999062e+04,\n",
       "        -1.16331014e+05,  1.31441755e+05,  3.67127487e+05,\n",
       "         1.93433646e+05, -2.02768371e+05, -9.80757926e+04,\n",
       "        -2.90624033e+04,  3.52083333e+02,  6.56608249e+05,\n",
       "         3.93037853e+05, -1.00066186e+03, -1.00066186e+03,\n",
       "         9.36740735e+03, -1.36827018e+05, -1.14082506e+05,\n",
       "        -1.57276222e+03, -1.77749509e+05, -1.66373726e+05,\n",
       "        -2.10233697e+05, -1.84933101e+05, -4.89256492e+05,\n",
       "        -2.01763750e+05, -1.34903493e+05,  5.19652613e+05,\n",
       "        -5.87152548e+05, -1.63996471e+06, -8.64071377e+05,\n",
       "         9.05769753e+05,  4.38106229e+05,  1.29822248e+05,\n",
       "        -1.57276222e+03, -2.93308019e+06, -1.75570675e+06,\n",
       "         4.46997348e+03,  4.46997348e+03,  1.99859280e+06,\n",
       "         1.66637027e+06,  2.29728843e+04,  2.59633582e+06,\n",
       "         2.43017305e+06,  3.07082300e+06,  2.70126449e+06,\n",
       "         7.14642851e+06,  2.94710492e+06,  1.97049643e+06,\n",
       "        -7.59041588e+06,  8.57636796e+06,  2.39544917e+07,\n",
       "         1.26212415e+07, -1.32303176e+07, -6.39929136e+06,\n",
       "        -1.89627615e+06,  2.29728843e+04,  4.28426566e+07,\n",
       "         2.56451023e+07, -6.52916137e+04, -6.52916137e+04,\n",
       "         1.38937250e+06,  1.91541426e+04,  2.16475153e+06,\n",
       "         2.02620970e+06,  2.56036555e+06,  2.25223809e+06,\n",
       "         5.95849040e+06,  2.45721291e+06,  1.64294431e+06,\n",
       "        -6.32867454e+06,  7.15073356e+06,  1.99725791e+07,\n",
       "         1.05232349e+07, -1.10310654e+07, -5.33554853e+06,\n",
       "        -1.58106154e+06,  1.91541426e+04,  3.57209979e+07,\n",
       "         2.13821625e+07, -5.44383048e+04, -5.44383048e+04,\n",
       "         2.64062500e+02,  2.98436591e+04,  2.79336962e+04,\n",
       "         3.52976661e+04,  3.10497648e+04,  8.21448345e+04,\n",
       "         3.38755850e+04,  2.26499297e+04, -8.72482605e+04,\n",
       "         9.85813160e+04,  2.75345616e+05,  1.45075234e+05,\n",
       "        -1.52076278e+05, -7.35568444e+04, -2.17968025e+04,\n",
       "         2.64062500e+02,  4.92456187e+05,  2.94778390e+05,\n",
       "        -7.50496392e+02, -7.50496392e+02,  3.37285298e+06,\n",
       "         3.15699392e+06,  3.98925070e+06,  3.50916392e+06,\n",
       "         9.28379622e+06,  3.82853079e+06,  2.55983633e+06,\n",
       "        -9.86057220e+06,  1.11414048e+07,  3.11188476e+07,\n",
       "         1.63960269e+07, -1.71872667e+07, -8.31320385e+06,\n",
       "        -2.46341810e+06,  2.98436591e+04,  5.56561215e+07,\n",
       "         3.33150893e+07, -8.48191564e+04, -8.48191564e+04,\n",
       "         2.95494962e+06,  3.73394284e+06,  3.28458110e+06,\n",
       "         8.68964298e+06,  3.58350882e+06,  2.39600948e+06,\n",
       "        -9.22950590e+06,  1.04283665e+07,  2.91272739e+07,\n",
       "         1.53466983e+07, -1.60872996e+07, -7.78116751e+06,\n",
       "        -2.30576193e+06,  2.79336962e+04,  5.20941880e+07,\n",
       "         3.11829585e+07, -7.93908192e+04, -7.93908192e+04,\n",
       "         4.71829673e+06,  4.15047283e+06,  1.09804343e+07,\n",
       "         4.52820482e+06,  3.02765313e+06, -1.16626176e+07,\n",
       "         1.31775257e+07,  3.68058986e+07,  1.93924438e+07,\n",
       "        -2.03282847e+07, -9.83246365e+06, -2.91361422e+06,\n",
       "         3.52976661e+04,  6.58274236e+07,  3.94035092e+07,\n",
       "        -1.00320080e+05, -1.00320080e+05,  3.65098375e+06,\n",
       "         9.65899283e+06,  3.98325755e+06,  2.66328990e+06,\n",
       "        -1.02590787e+07,  1.15916750e+07,  3.23764889e+07,\n",
       "         1.70586581e+07, -1.78818752e+07, -8.64917481e+06,\n",
       "        -2.56297502e+06,  3.10497648e+04,  5.79054156e+07,\n",
       "         3.46614899e+07, -8.82470493e+04, -8.82470493e+04,\n",
       "         2.55536997e+07,  1.05380519e+07,  7.04596345e+06,\n",
       "        -2.71412788e+07,  3.06667773e+07,  8.56547977e+07,\n",
       "         4.51301534e+07, -4.73080453e+07, -2.28821389e+07,\n",
       "        -6.78057177e+06,  8.21448345e+04,  1.53193778e+08,\n",
       "         9.16999651e+07, -2.33465191e+05, -2.33465191e+05,\n",
       "         4.34577139e+06,  2.90567429e+06, -1.11927512e+07,\n",
       "         1.26466263e+07,  3.53230534e+07,  1.86111562e+07,\n",
       "        -1.95092938e+07, -9.43633092e+06, -2.79622981e+06,\n",
       "         3.38755850e+04,  6.31753521e+07,  3.78160109e+07,\n",
       "        -9.62783594e+04, -9.62783594e+04,  1.94279504e+06,\n",
       "        -7.48370922e+06,  8.45580071e+06,  2.36177376e+07,\n",
       "         1.24438111e+07, -1.30443248e+07, -6.30932962e+06,\n",
       "        -1.86961815e+06,  2.26499297e+04,  4.22403711e+07,\n",
       "         2.52845815e+07, -6.43737391e+04, -6.43737391e+04,\n",
       "         2.88274896e+07, -3.25720174e+07, -9.09762878e+07,\n",
       "        -4.79339620e+07,  5.02471602e+07,  2.43037415e+07,\n",
       "         7.20182950e+06, -8.72482605e+04, -1.62711274e+08,\n",
       "        -9.73970243e+07,  2.47969722e+05,  2.47969722e+05,\n",
       "         3.68029382e+07,  1.02793593e+08,  5.41603126e+07,\n",
       "        -5.67739821e+07, -2.74606600e+07, -8.13730641e+06,\n",
       "         9.85813160e+04,  1.83846548e+08,  1.10048347e+08,\n",
       "        -2.80179586e+05, -2.80179586e+05,  2.87110847e+08,\n",
       "         1.51274148e+08, -1.58574339e+08, -7.66998518e+07,\n",
       "        -2.27281571e+07,  2.75345616e+05,  5.13498327e+08,\n",
       "         3.07373963e+08, -7.82564321e+05, -7.82564321e+05,\n",
       "         7.97039476e+07, -8.35503024e+07, -4.04119345e+07,\n",
       "        -1.19751053e+07,  1.45075234e+05,  2.70554118e+08,\n",
       "         1.61950462e+08, -4.12320719e+05, -4.12320719e+05,\n",
       "         8.75822748e+07,  4.23621345e+07,  1.25530001e+07,\n",
       "        -1.52076278e+05, -2.83610525e+08, -1.69765871e+08,\n",
       "         4.32218502e+05,  4.32218502e+05,  2.04898816e+07,\n",
       "         6.07168382e+06, -7.35568444e+04, -1.37177839e+08,\n",
       "        -8.21130155e+07,  2.09057122e+05,  2.09057122e+05,\n",
       "         1.79919753e+06, -2.17968025e+04, -4.06493547e+07,\n",
       "        -2.43322181e+07,  6.19490522e+04,  6.19490522e+04,\n",
       "         2.64062500e+02,  4.92456187e+05,  2.94778390e+05,\n",
       "        -7.50496392e+02, -7.50496392e+02,  9.18392790e+08,\n",
       "         5.49738951e+08, -1.39961786e+06, -1.39961786e+06,\n",
       "         3.29067168e+08, -8.37794529e+05, -8.37794529e+05,\n",
       "         2.13299819e+03,  2.13299819e+03,  2.13299819e+03]])"
      ]
     },
     "execution_count": 83,
     "metadata": {},
     "output_type": "execute_result"
    }
   ],
   "source": [
    "x_"
   ]
  },
  {
   "cell_type": "code",
   "execution_count": 86,
   "id": "212621aa",
   "metadata": {},
   "outputs": [],
   "source": [
    "y_ = PolynomialFeatures(degree=2, include_bias=False).fit_transform(y)"
   ]
  },
  {
   "cell_type": "code",
   "execution_count": 87,
   "id": "d41501b8",
   "metadata": {},
   "outputs": [],
   "source": [
    "model = LinearRegression().fit(x_, y_)"
   ]
  },
  {
   "cell_type": "code",
   "execution_count": 90,
   "id": "92f702da",
   "metadata": {},
   "outputs": [
    {
     "name": "stderr",
     "output_type": "stream",
     "text": [
      "C:\\Users\\44780\\anaconNew\\Lib\\site-packages\\sklearn\\metrics\\_regression.py:996: UndefinedMetricWarning: R^2 score is not well-defined with less than two samples.\n",
      "  warnings.warn(msg, UndefinedMetricWarning)\n"
     ]
    }
   ],
   "source": [
    "r_sq = model.score(x_, y_)"
   ]
  },
  {
   "cell_type": "code",
   "execution_count": 89,
   "id": "c983024a",
   "metadata": {},
   "outputs": [
    {
     "name": "stdout",
     "output_type": "stream",
     "text": [
      "coefficient of determination: nan\n"
     ]
    }
   ],
   "source": [
    "print(f\"coefficient of determination: {r_sq}\")"
   ]
  },
  {
   "cell_type": "code",
   "execution_count": null,
   "id": "6d68e0d1",
   "metadata": {},
   "outputs": [],
   "source": []
  }
 ],
 "metadata": {
  "kernelspec": {
   "display_name": "Python 3 (ipykernel)",
   "language": "python",
   "name": "python3"
  },
  "language_info": {
   "codemirror_mode": {
    "name": "ipython",
    "version": 3
   },
   "file_extension": ".py",
   "mimetype": "text/x-python",
   "name": "python",
   "nbconvert_exporter": "python",
   "pygments_lexer": "ipython3",
   "version": "3.11.4"
  }
 },
 "nbformat": 4,
 "nbformat_minor": 5
}
