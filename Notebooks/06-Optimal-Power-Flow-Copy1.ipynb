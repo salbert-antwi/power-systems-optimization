{
 "cells": [
  {
   "cell_type": "markdown",
   "metadata": {},
   "source": [
    "## Optimal Power Flow\n",
    "**Power Systems Optimization**\n",
    "\n",
    "by Michael R. Davidson, Jesse D. Jenkins and Sambuddha Chakrabarti (last updated: October 24, 2022)\n",
    "\n",
    "This notebook provides an introduction to the Optimal Power Flow (OPF) problem in electric power systems&mdash;which minimizes the short-run production costs of meeting electricity demand at a number of connected locations from a given set of generators subject to various technical and transmission network flow limit constraints. This will be our first treatment of a *network*, which is critical to all power systems.\n",
    "\n",
    "We will first introduce a model of transmission flows that assumes we can control the flow along each path, in what is called a \"**transport model**.\" This is a straightforward extension to [Economic Dispatch](04-Economic-Dispatch.ipynb) (ED), where we have multiple supply and demand balance constraints at each location or \"node\" in the network, and a new set of flow constraints between nodes. This is also similar to other common optimization problems such as fleet routing of shipments.\n",
    "\n",
    "We will then introduce a linear approximation to the optimal power flow problem known as \"**DC-OPF**\", where we begin to incorporate some of the physics involved in how electricity flows along transmission lines. With this formulation, we recognize that given \"injections\" (i.e., generation) and \"withdrawals\" (i.e., demand) of power at each node in the network, flows along lines are not independently controllable. Instead, electrical power flows across transmission lines in relation to their physical properties, namely power flows across parallel circuits or paths in inverse proportion to the [electrical impedance](https://en.wikipedia.org/wiki/Electrical_impedance) of the lines. This can (very frequently) result in hitting flow constraints before we would if could control power flows across all lines as in the transport problem.\n",
    "\n",
    "This notebook does not explore the full functionality of DC-OPF, which can include inter-temporal constraints, additional generation constraints (e.g., on voltage), security constraints to ensure stability in the case of contingencies, and network losses.\n",
    "\n",
    "Full \"AC optimal power flow\" models are also beyond the scope of this notebook, as the full set of physics associated with the interactions of AC flows introduces non-convexities that make this problem much harder to solve. Due to the non-convex nature of the AC power flow problem, simplified formulations that linearize and approximate these complex constraints are frequently employed in power systems operations, including by electricity system operators, which use a linearized \"security-constrained\" optimal power flow (which ensures power flows would remain simulatenously feasible across a range of possible contingencies) to clear real-time electricity markets.\n",
    "\n",
    "We will start off with some simple systems, whose solutions can be worked out manually without resorting to any mathematical optimization model and software. But, eventually we will be solving larger system, thereby emphasizing the importance of such software and mathematical models."
   ]
  },
  {
   "cell_type": "markdown",
   "metadata": {},
   "source": [
    "## Introduction to OPF\n",
    "\n",
    "\n",
    "The Optimal Power Flow (OPF) problem is a power system optimal scheduling problem which captures the physics of electricity flows across electricity networks, adding a layer of complexity and more realism to the Economic Dispatch (ED) problem. OPF usually attempts to capture the entire network topology by representing the transmission line interconnections between different nodes (also known as buses, or locations where generators or demand inject or withdraw power into/from the network) including various electrical parameters, such as resistance, series reactance, shunt admittance, etc. The full alternating current or \"AC\" OPF is a non-convex problem and turns out to be an extremely hard problem to solve (usually NP-hard). Hence, system operators and power marketers usually go about solving a linearized version of it, called the \"DC-OPF.\" The DC-OPF approximation works satisfactorily for bulk power transmission networks as long as such networks are not operated at the brink of instability or under heavily loaded conditions."
   ]
  },
  {
   "cell_type": "markdown",
   "metadata": {},
   "source": [
    "## \"Transport\" model\n",
    "We will first examine the case where we allow for transmission but ignore the physics of electricity flows, and instead treat it like transporting an ordinary commodity.\n",
    "\n",
    "$$\n",
    "\\begin{align}\n",
    "\\min \\ & \\sum_{g \\in G} VarCost_g \\times GEN_g & \\\\\n",
    "\\text{s.t.} & \\\\\n",
    " & \\sum_{g \\in G_i} GEN_g - Demand_i = \\sum_{j \\in J_i} FLOW_{ij} & \\forall \\quad i \\in \\mathcal{N}\\\\\n",
    " & FLOW_{ij} \\leq MaxFlow_{ij} & \\forall \\quad i \\in \\mathcal{N}, \\forall j \\in J_i \\\\\n",
    " & FLOW_{ij} = - FLOW_{ji} & \\forall \\quad i, j \\in \\mathcal{N} \\\\\n",
    " & GEN_g \\leq Pmax_g & \\forall \\quad g \\in G \\\\\n",
    " & GEN_g \\geq Pmin_g & \\forall \\quad g \\in G  \n",
    "\\end{align}\n",
    "$$\n",
    "\n",
    "We introduce a few new **sets** in the above:\n",
    "- $\\mathcal{N}$, the set of all nodes (or buses) in the network where generation, storage, or demand (load) are located\n",
    "- $J_i \\subset \\mathcal{N}$, the subset of nodes that are connected to node $i$\n",
    "- $G_i \\subset G$, the subset of generators located at node $i$\n",
    " \n",
    "The **decision variables** in the above problem are:\n",
    "\n",
    "- $GEN_{g}$, the generation (in MW) produced by each generator, $g$\n",
    "- $FLOW_{ij}$, the flow (in MW) along the line from $i$ to $j$\n",
    "\n",
    "The **parameters** are:\n",
    "\n",
    "- $Pmin_g$, the minimum operating bounds for the generator (based on engineering or natural resource constraints)\n",
    "- $Pmax_g$, the maximum operating bounds for the generator (based on engineering or natural resource constraints)\n",
    "- $Demand_i$, the demand (in MW) at bus $i$\n",
    "- $MaxFlow_{ij}$, the maximum allowable flow along the line from $i$ to $j$\n",
    "- $VarCost_g$, the variable cost of generator $g$\n",
    "\n",
    "Notice how the problem above is equivalent to producing a single type of good at a set of factories and shipping them along capacity-limited corridors (roads, rail lines, etc.) to meet a set of demands in other locations. "
   ]
  },
  {
   "cell_type": "markdown",
   "metadata": {},
   "source": [
    "### 1. Load packages"
   ]
  },
  {
   "cell_type": "code",
   "execution_count": 1,
   "metadata": {},
   "outputs": [
    {
     "name": "stderr",
     "output_type": "stream",
     "text": [
      "\u001b[32m\u001b[1m   Resolving\u001b[22m\u001b[39m package versions...\n",
      "\u001b[32m\u001b[1m  No Changes\u001b[22m\u001b[39m to `C:\\Users\\44780\\.julia\\environments\\v1.9\\Project.toml`\n",
      "\u001b[32m\u001b[1m  No Changes\u001b[22m\u001b[39m to `C:\\Users\\44780\\.julia\\environments\\v1.9\\Manifest.toml`\n",
      "\u001b[32m\u001b[1m   Resolving\u001b[22m\u001b[39m package versions...\n",
      "\u001b[32m\u001b[1m  No Changes\u001b[22m\u001b[39m to `C:\\Users\\44780\\.julia\\environments\\v1.9\\Project.toml`\n",
      "\u001b[32m\u001b[1m  No Changes\u001b[22m\u001b[39m to `C:\\Users\\44780\\.julia\\environments\\v1.9\\Manifest.toml`\n"
     ]
    }
   ],
   "source": [
    "import Pkg; Pkg.add(\"VegaLite\"); Pkg.add(\"PrettyTables\")\n",
    "using JuMP, HiGHS\n",
    "using Plots;\n",
    "using VegaLite  # to make some nice plots\n",
    "using DataFrames, CSV, PrettyTables\n",
    "ENV[\"COLUMNS\"]=120; # Set so all columns of DataFrames and Matrices are displayed"
   ]
  },
  {
   "cell_type": "markdown",
   "metadata": {},
   "source": [
    "### 2. Load and format data\n",
    "\n",
    "We will load a modified 3-bus case stored in the [MATPOWER case format](https://matpower.org/docs/ref/matpower5.0/caseformat.html). It consists of:\n",
    "\n",
    "- two generator buses where 1000 MW generators are located, one with variable cost of 50/MWh and another with variable cost of 100/MWh\n",
    "- one load bus where 600 MW of demand is located\n",
    "- three lines connecting the buses, each with a maximum flow of 500 MW\n",
    "\n",
    "The location and numbering of the components:\n",
    "\n",
    "<img src=\"img/opf_network.png\" style=\"width: 450px; height: auto\" align=\"left\">"
   ]
  },
  {
   "cell_type": "code",
   "execution_count": 2,
   "metadata": {},
   "outputs": [
    {
     "data": {
      "text/html": [
       "<div><div style = \"float: left;\"><span>72×13 DataFrame</span></div><div style = \"float: right;\"><span style = \"font-style: italic;\">47 rows omitted</span></div><div style = \"clear: both;\"></div></div><div class = \"data-frame\" style = \"overflow-x: scroll;\"><table class = \"data-frame\" style = \"margin-bottom: 6px;\"><thead><tr class = \"header\"><th class = \"rowNumber\" style = \"font-weight: bold; text-align: right;\">Row</th><th style = \"text-align: left;\">bus_i</th><th style = \"text-align: left;\">type</th><th style = \"text-align: left;\">pd</th><th style = \"text-align: left;\">qd</th><th style = \"text-align: left;\">gs</th><th style = \"text-align: left;\">bs</th><th style = \"text-align: left;\">area</th><th style = \"text-align: left;\">vm</th><th style = \"text-align: left;\">va</th><th style = \"text-align: left;\">basekv</th><th style = \"text-align: left;\">zone</th><th style = \"text-align: left;\">vmax</th><th style = \"text-align: left;\">vmin</th></tr><tr class = \"subheader headerLastRow\"><th class = \"rowNumber\" style = \"font-weight: bold; text-align: right;\"></th><th title = \"String3\" style = \"text-align: left;\">String3</th><th title = \"Int64\" style = \"text-align: left;\">Int64</th><th title = \"Float64\" style = \"text-align: left;\">Float64</th><th title = \"Float64\" style = \"text-align: left;\">Float64</th><th title = \"Int64\" style = \"text-align: left;\">Int64</th><th title = \"Int64\" style = \"text-align: left;\">Int64</th><th title = \"Int64\" style = \"text-align: left;\">Int64</th><th title = \"Int64\" style = \"text-align: left;\">Int64</th><th title = \"Int64\" style = \"text-align: left;\">Int64</th><th title = \"Int64\" style = \"text-align: left;\">Int64</th><th title = \"Int64\" style = \"text-align: left;\">Int64</th><th title = \"Float64\" style = \"text-align: left;\">Float64</th><th title = \"Float64\" style = \"text-align: left;\">Float64</th></tr></thead><tbody><tr><td class = \"rowNumber\" style = \"font-weight: bold; text-align: right;\">1</td><td style = \"text-align: left;\">1</td><td style = \"text-align: right;\">1</td><td style = \"text-align: right;\">2036.63</td><td style = \"text-align: right;\">409.54</td><td style = \"text-align: right;\">0</td><td style = \"text-align: right;\">0</td><td style = \"text-align: right;\">1</td><td style = \"text-align: right;\">1</td><td style = \"text-align: right;\">0</td><td style = \"text-align: right;\">400</td><td style = \"text-align: right;\">1</td><td style = \"text-align: right;\">1.1</td><td style = \"text-align: right;\">0.9</td></tr><tr><td class = \"rowNumber\" style = \"font-weight: bold; text-align: right;\">2</td><td style = \"text-align: left;\">2</td><td style = \"text-align: right;\">1</td><td style = \"text-align: right;\">1734.71</td><td style = \"text-align: right;\">228.96</td><td style = \"text-align: right;\">0</td><td style = \"text-align: right;\">0</td><td style = \"text-align: right;\">1</td><td style = \"text-align: right;\">1</td><td style = \"text-align: right;\">0</td><td style = \"text-align: right;\">400</td><td style = \"text-align: right;\">1</td><td style = \"text-align: right;\">1.1</td><td style = \"text-align: right;\">0.9</td></tr><tr><td class = \"rowNumber\" style = \"font-weight: bold; text-align: right;\">3</td><td style = \"text-align: left;\">3</td><td style = \"text-align: right;\">1</td><td style = \"text-align: right;\">877.9</td><td style = \"text-align: right;\">89.24</td><td style = \"text-align: right;\">0</td><td style = \"text-align: right;\">0</td><td style = \"text-align: right;\">1</td><td style = \"text-align: right;\">1</td><td style = \"text-align: right;\">0</td><td style = \"text-align: right;\">400</td><td style = \"text-align: right;\">1</td><td style = \"text-align: right;\">1.1</td><td style = \"text-align: right;\">0.9</td></tr><tr><td class = \"rowNumber\" style = \"font-weight: bold; text-align: right;\">4</td><td style = \"text-align: left;\">4</td><td style = \"text-align: right;\">1</td><td style = \"text-align: right;\">1334.16</td><td style = \"text-align: right;\">170.79</td><td style = \"text-align: right;\">0</td><td style = \"text-align: right;\">0</td><td style = \"text-align: right;\">1</td><td style = \"text-align: right;\">1</td><td style = \"text-align: right;\">0</td><td style = \"text-align: right;\">400</td><td style = \"text-align: right;\">1</td><td style = \"text-align: right;\">1.1</td><td style = \"text-align: right;\">0.9</td></tr><tr><td class = \"rowNumber\" style = \"font-weight: bold; text-align: right;\">5</td><td style = \"text-align: left;\">5</td><td style = \"text-align: right;\">1</td><td style = \"text-align: right;\">1701.55</td><td style = \"text-align: right;\">341.88</td><td style = \"text-align: right;\">0</td><td style = \"text-align: right;\">0</td><td style = \"text-align: right;\">1</td><td style = \"text-align: right;\">1</td><td style = \"text-align: right;\">0</td><td style = \"text-align: right;\">400</td><td style = \"text-align: right;\">1</td><td style = \"text-align: right;\">1.1</td><td style = \"text-align: right;\">0.9</td></tr><tr><td class = \"rowNumber\" style = \"font-weight: bold; text-align: right;\">6</td><td style = \"text-align: left;\">6</td><td style = \"text-align: right;\">1</td><td style = \"text-align: right;\">1244.77</td><td style = \"text-align: right;\">163.58</td><td style = \"text-align: right;\">0</td><td style = \"text-align: right;\">0</td><td style = \"text-align: right;\">1</td><td style = \"text-align: right;\">1</td><td style = \"text-align: right;\">0</td><td style = \"text-align: right;\">400</td><td style = \"text-align: right;\">1</td><td style = \"text-align: right;\">1.1</td><td style = \"text-align: right;\">0.9</td></tr><tr><td class = \"rowNumber\" style = \"font-weight: bold; text-align: right;\">7</td><td style = \"text-align: left;\">7</td><td style = \"text-align: right;\">1</td><td style = \"text-align: right;\">1341.61</td><td style = \"text-align: right;\">244.76</td><td style = \"text-align: right;\">0</td><td style = \"text-align: right;\">0</td><td style = \"text-align: right;\">1</td><td style = \"text-align: right;\">1</td><td style = \"text-align: right;\">0</td><td style = \"text-align: right;\">400</td><td style = \"text-align: right;\">1</td><td style = \"text-align: right;\">1.1</td><td style = \"text-align: right;\">0.9</td></tr><tr><td class = \"rowNumber\" style = \"font-weight: bold; text-align: right;\">8</td><td style = \"text-align: left;\">8</td><td style = \"text-align: right;\">1</td><td style = \"text-align: right;\">3669.5</td><td style = \"text-align: right;\">637.38</td><td style = \"text-align: right;\">0</td><td style = \"text-align: right;\">0</td><td style = \"text-align: right;\">1</td><td style = \"text-align: right;\">1</td><td style = \"text-align: right;\">0</td><td style = \"text-align: right;\">400</td><td style = \"text-align: right;\">1</td><td style = \"text-align: right;\">1.1</td><td style = \"text-align: right;\">0.9</td></tr><tr><td class = \"rowNumber\" style = \"font-weight: bold; text-align: right;\">9</td><td style = \"text-align: left;\">9</td><td style = \"text-align: right;\">1</td><td style = \"text-align: right;\">1960.02</td><td style = \"text-align: right;\">362.35</td><td style = \"text-align: right;\">0</td><td style = \"text-align: right;\">0</td><td style = \"text-align: right;\">1</td><td style = \"text-align: right;\">1</td><td style = \"text-align: right;\">0</td><td style = \"text-align: right;\">400</td><td style = \"text-align: right;\">1</td><td style = \"text-align: right;\">1.1</td><td style = \"text-align: right;\">0.9</td></tr><tr><td class = \"rowNumber\" style = \"font-weight: bold; text-align: right;\">10</td><td style = \"text-align: left;\">10</td><td style = \"text-align: right;\">1</td><td style = \"text-align: right;\">490.68</td><td style = \"text-align: right;\">82.59</td><td style = \"text-align: right;\">0</td><td style = \"text-align: right;\">0</td><td style = \"text-align: right;\">1</td><td style = \"text-align: right;\">1</td><td style = \"text-align: right;\">0</td><td style = \"text-align: right;\">400</td><td style = \"text-align: right;\">1</td><td style = \"text-align: right;\">1.1</td><td style = \"text-align: right;\">0.9</td></tr><tr><td class = \"rowNumber\" style = \"font-weight: bold; text-align: right;\">11</td><td style = \"text-align: left;\">11</td><td style = \"text-align: right;\">1</td><td style = \"text-align: right;\">474.51</td><td style = \"text-align: right;\">88.26</td><td style = \"text-align: right;\">0</td><td style = \"text-align: right;\">0</td><td style = \"text-align: right;\">1</td><td style = \"text-align: right;\">1</td><td style = \"text-align: right;\">0</td><td style = \"text-align: right;\">400</td><td style = \"text-align: right;\">1</td><td style = \"text-align: right;\">1.1</td><td style = \"text-align: right;\">0.9</td></tr><tr><td class = \"rowNumber\" style = \"font-weight: bold; text-align: right;\">12</td><td style = \"text-align: left;\">12</td><td style = \"text-align: right;\">1</td><td style = \"text-align: right;\">1518.23</td><td style = \"text-align: right;\">421.96</td><td style = \"text-align: right;\">0</td><td style = \"text-align: right;\">0</td><td style = \"text-align: right;\">1</td><td style = \"text-align: right;\">1</td><td style = \"text-align: right;\">0</td><td style = \"text-align: right;\">400</td><td style = \"text-align: right;\">1</td><td style = \"text-align: right;\">1.1</td><td style = \"text-align: right;\">0.9</td></tr><tr><td class = \"rowNumber\" style = \"font-weight: bold; text-align: right;\">13</td><td style = \"text-align: left;\">13</td><td style = \"text-align: right;\">1</td><td style = \"text-align: right;\">2429.02</td><td style = \"text-align: right;\">546.6</td><td style = \"text-align: right;\">0</td><td style = \"text-align: right;\">0</td><td style = \"text-align: right;\">1</td><td style = \"text-align: right;\">1</td><td style = \"text-align: right;\">0</td><td style = \"text-align: right;\">400</td><td style = \"text-align: right;\">1</td><td style = \"text-align: right;\">1.1</td><td style = \"text-align: right;\">0.9</td></tr><tr><td style = \"text-align: right;\">&vellip;</td><td style = \"text-align: right;\">&vellip;</td><td style = \"text-align: right;\">&vellip;</td><td style = \"text-align: right;\">&vellip;</td><td style = \"text-align: right;\">&vellip;</td><td style = \"text-align: right;\">&vellip;</td><td style = \"text-align: right;\">&vellip;</td><td style = \"text-align: right;\">&vellip;</td><td style = \"text-align: right;\">&vellip;</td><td style = \"text-align: right;\">&vellip;</td><td style = \"text-align: right;\">&vellip;</td><td style = \"text-align: right;\">&vellip;</td><td style = \"text-align: right;\">&vellip;</td><td style = \"text-align: right;\">&vellip;</td></tr><tr><td class = \"rowNumber\" style = \"font-weight: bold; text-align: right;\">61</td><td style = \"text-align: left;\">24</td><td style = \"text-align: right;\">2</td><td style = \"text-align: right;\">571.88</td><td style = \"text-align: right;\">120.22</td><td style = \"text-align: right;\">0</td><td style = \"text-align: right;\">0</td><td style = \"text-align: right;\">1</td><td style = \"text-align: right;\">1</td><td style = \"text-align: right;\">0</td><td style = \"text-align: right;\">400</td><td style = \"text-align: right;\">1</td><td style = \"text-align: right;\">1.1</td><td style = \"text-align: right;\">0.9</td></tr><tr><td class = \"rowNumber\" style = \"font-weight: bold; text-align: right;\">62</td><td style = \"text-align: left;\">25</td><td style = \"text-align: right;\">2</td><td style = \"text-align: right;\">717.98</td><td style = \"text-align: right;\">95.21</td><td style = \"text-align: right;\">0</td><td style = \"text-align: right;\">0</td><td style = \"text-align: right;\">1</td><td style = \"text-align: right;\">1</td><td style = \"text-align: right;\">0</td><td style = \"text-align: right;\">400</td><td style = \"text-align: right;\">1</td><td style = \"text-align: right;\">1.1</td><td style = \"text-align: right;\">0.9</td></tr><tr><td class = \"rowNumber\" style = \"font-weight: bold; text-align: right;\">63</td><td style = \"text-align: left;\">25A</td><td style = \"text-align: right;\">2</td><td style = \"text-align: right;\">989.55</td><td style = \"text-align: right;\">181.43</td><td style = \"text-align: right;\">0</td><td style = \"text-align: right;\">0</td><td style = \"text-align: right;\">1</td><td style = \"text-align: right;\">1</td><td style = \"text-align: right;\">0</td><td style = \"text-align: right;\">400</td><td style = \"text-align: right;\">1</td><td style = \"text-align: right;\">1.1</td><td style = \"text-align: right;\">0.9</td></tr><tr><td class = \"rowNumber\" style = \"font-weight: bold; text-align: right;\">64</td><td style = \"text-align: left;\">26</td><td style = \"text-align: right;\">2</td><td style = \"text-align: right;\">170.46</td><td style = \"text-align: right;\">55.44</td><td style = \"text-align: right;\">0</td><td style = \"text-align: right;\">0</td><td style = \"text-align: right;\">1</td><td style = \"text-align: right;\">1</td><td style = \"text-align: right;\">0</td><td style = \"text-align: right;\">400</td><td style = \"text-align: right;\">1</td><td style = \"text-align: right;\">1.1</td><td style = \"text-align: right;\">0.9</td></tr><tr><td class = \"rowNumber\" style = \"font-weight: bold; text-align: right;\">65</td><td style = \"text-align: left;\">27E</td><td style = \"text-align: right;\">2</td><td style = \"text-align: right;\">598.87</td><td style = \"text-align: right;\">119.36</td><td style = \"text-align: right;\">0</td><td style = \"text-align: right;\">0</td><td style = \"text-align: right;\">1</td><td style = \"text-align: right;\">1</td><td style = \"text-align: right;\">0</td><td style = \"text-align: right;\">400</td><td style = \"text-align: right;\">1</td><td style = \"text-align: right;\">1.1</td><td style = \"text-align: right;\">0.9</td></tr><tr><td class = \"rowNumber\" style = \"font-weight: bold; text-align: right;\">66</td><td style = \"text-align: left;\">27W</td><td style = \"text-align: right;\">2</td><td style = \"text-align: right;\">827.02</td><td style = \"text-align: right;\">164.84</td><td style = \"text-align: right;\">0</td><td style = \"text-align: right;\">0</td><td style = \"text-align: right;\">1</td><td style = \"text-align: right;\">1</td><td style = \"text-align: right;\">0</td><td style = \"text-align: right;\">400</td><td style = \"text-align: right;\">1</td><td style = \"text-align: right;\">1.1</td><td style = \"text-align: right;\">0.9</td></tr><tr><td class = \"rowNumber\" style = \"font-weight: bold; text-align: right;\">67</td><td style = \"text-align: left;\">28</td><td style = \"text-align: right;\">2</td><td style = \"text-align: right;\">1680.03</td><td style = \"text-align: right;\">475.54</td><td style = \"text-align: right;\">0</td><td style = \"text-align: right;\">0</td><td style = \"text-align: right;\">1</td><td style = \"text-align: right;\">1</td><td style = \"text-align: right;\">0</td><td style = \"text-align: right;\">400</td><td style = \"text-align: right;\">1</td><td style = \"text-align: right;\">1.1</td><td style = \"text-align: right;\">0.9</td></tr><tr><td class = \"rowNumber\" style = \"font-weight: bold; text-align: right;\">68</td><td style = \"text-align: left;\">29</td><td style = \"text-align: right;\">2</td><td style = \"text-align: right;\">563.53</td><td style = \"text-align: right;\">112.32</td><td style = \"text-align: right;\">0</td><td style = \"text-align: right;\">0</td><td style = \"text-align: right;\">1</td><td style = \"text-align: right;\">1</td><td style = \"text-align: right;\">0</td><td style = \"text-align: right;\">400</td><td style = \"text-align: right;\">1</td><td style = \"text-align: right;\">1.1</td><td style = \"text-align: right;\">0.9</td></tr><tr><td class = \"rowNumber\" style = \"font-weight: bold; text-align: right;\">69</td><td style = \"text-align: left;\">30</td><td style = \"text-align: right;\">2</td><td style = \"text-align: right;\">376.51</td><td style = \"text-align: right;\">78.24</td><td style = \"text-align: right;\">0</td><td style = \"text-align: right;\">0</td><td style = \"text-align: right;\">1</td><td style = \"text-align: right;\">1</td><td style = \"text-align: right;\">0</td><td style = \"text-align: right;\">400</td><td style = \"text-align: right;\">1</td><td style = \"text-align: right;\">1.1</td><td style = \"text-align: right;\">0.9</td></tr><tr><td class = \"rowNumber\" style = \"font-weight: bold; text-align: right;\">70</td><td style = \"text-align: left;\">31</td><td style = \"text-align: right;\">2</td><td style = \"text-align: right;\">59.36</td><td style = \"text-align: right;\">10.56</td><td style = \"text-align: right;\">0</td><td style = \"text-align: right;\">0</td><td style = \"text-align: right;\">1</td><td style = \"text-align: right;\">1</td><td style = \"text-align: right;\">0</td><td style = \"text-align: right;\">400</td><td style = \"text-align: right;\">1</td><td style = \"text-align: right;\">1.1</td><td style = \"text-align: right;\">0.9</td></tr><tr><td class = \"rowNumber\" style = \"font-weight: bold; text-align: right;\">71</td><td style = \"text-align: left;\">32</td><td style = \"text-align: right;\">2</td><td style = \"text-align: right;\">375.31</td><td style = \"text-align: right;\">66.77</td><td style = \"text-align: right;\">0</td><td style = \"text-align: right;\">0</td><td style = \"text-align: right;\">1</td><td style = \"text-align: right;\">1</td><td style = \"text-align: right;\">0</td><td style = \"text-align: right;\">400</td><td style = \"text-align: right;\">1</td><td style = \"text-align: right;\">1.1</td><td style = \"text-align: right;\">0.9</td></tr><tr><td class = \"rowNumber\" style = \"font-weight: bold; text-align: right;\">72</td><td style = \"text-align: left;\">33</td><td style = \"text-align: right;\">2</td><td style = \"text-align: right;\">408.45</td><td style = \"text-align: right;\">90.41</td><td style = \"text-align: right;\">0</td><td style = \"text-align: right;\">0</td><td style = \"text-align: right;\">1</td><td style = \"text-align: right;\">1</td><td style = \"text-align: right;\">0</td><td style = \"text-align: right;\">400</td><td style = \"text-align: right;\">1</td><td style = \"text-align: right;\">1.1</td><td style = \"text-align: right;\">0.9</td></tr></tbody></table></div>"
      ],
      "text/latex": [
       "\\begin{tabular}{r|ccccccccccccc}\n",
       "\t& bus\\_i & type & pd & qd & gs & bs & area & vm & va & basekv & zone & vmax & vmin\\\\\n",
       "\t\\hline\n",
       "\t& String3 & Int64 & Float64 & Float64 & Int64 & Int64 & Int64 & Int64 & Int64 & Int64 & Int64 & Float64 & Float64\\\\\n",
       "\t\\hline\n",
       "\t1 & 1 & 1 & 2036.63 & 409.54 & 0 & 0 & 1 & 1 & 0 & 400 & 1 & 1.1 & 0.9 \\\\\n",
       "\t2 & 2 & 1 & 1734.71 & 228.96 & 0 & 0 & 1 & 1 & 0 & 400 & 1 & 1.1 & 0.9 \\\\\n",
       "\t3 & 3 & 1 & 877.9 & 89.24 & 0 & 0 & 1 & 1 & 0 & 400 & 1 & 1.1 & 0.9 \\\\\n",
       "\t4 & 4 & 1 & 1334.16 & 170.79 & 0 & 0 & 1 & 1 & 0 & 400 & 1 & 1.1 & 0.9 \\\\\n",
       "\t5 & 5 & 1 & 1701.55 & 341.88 & 0 & 0 & 1 & 1 & 0 & 400 & 1 & 1.1 & 0.9 \\\\\n",
       "\t6 & 6 & 1 & 1244.77 & 163.58 & 0 & 0 & 1 & 1 & 0 & 400 & 1 & 1.1 & 0.9 \\\\\n",
       "\t7 & 7 & 1 & 1341.61 & 244.76 & 0 & 0 & 1 & 1 & 0 & 400 & 1 & 1.1 & 0.9 \\\\\n",
       "\t8 & 8 & 1 & 3669.5 & 637.38 & 0 & 0 & 1 & 1 & 0 & 400 & 1 & 1.1 & 0.9 \\\\\n",
       "\t9 & 9 & 1 & 1960.02 & 362.35 & 0 & 0 & 1 & 1 & 0 & 400 & 1 & 1.1 & 0.9 \\\\\n",
       "\t10 & 10 & 1 & 490.68 & 82.59 & 0 & 0 & 1 & 1 & 0 & 400 & 1 & 1.1 & 0.9 \\\\\n",
       "\t11 & 11 & 1 & 474.51 & 88.26 & 0 & 0 & 1 & 1 & 0 & 400 & 1 & 1.1 & 0.9 \\\\\n",
       "\t12 & 12 & 1 & 1518.23 & 421.96 & 0 & 0 & 1 & 1 & 0 & 400 & 1 & 1.1 & 0.9 \\\\\n",
       "\t13 & 13 & 1 & 2429.02 & 546.6 & 0 & 0 & 1 & 1 & 0 & 400 & 1 & 1.1 & 0.9 \\\\\n",
       "\t14 & 14 & 1 & 1614.73 & 264.67 & 0 & 0 & 1 & 1 & 0 & 400 & 1 & 1.1 & 0.9 \\\\\n",
       "\t15 & 14A & 1 & 455.7 & 73.68 & 0 & 0 & 1 & 1 & 0 & 400 & 1 & 1.1 & 0.9 \\\\\n",
       "\t16 & 15 & 1 & 2584.23 & 399.68 & 0 & 0 & 1 & 1 & 0 & 400 & 1 & 1.1 & 0.9 \\\\\n",
       "\t17 & 16 & 1 & 184.39 & 29.95 & 0 & 0 & 1 & 1 & 0 & 400 & 1 & 1.1 & 0.9 \\\\\n",
       "\t18 & 17 & 1 & 161.82 & 27.26 & 0 & 0 & 1 & 1 & 0 & 400 & 1 & 1.1 & 0.9 \\\\\n",
       "\t19 & 18 & 1 & 1088.33 & 225.71 & 0 & 0 & 1 & 1 & 0 & 400 & 1 & 1.1 & 0.9 \\\\\n",
       "\t20 & 19 & 1 & 646.27 & 118.79 & 0 & 0 & 1 & 1 & 0 & 400 & 1 & 1.1 & 0.9 \\\\\n",
       "\t21 & 20 & 1 & 2079.47 & 431.91 & 0 & 0 & 1 & 1 & 0 & 400 & 1 & 1.1 & 0.9 \\\\\n",
       "\t22 & 21 & 1 & 1384.61 & 161.62 & 0 & 0 & 1 & 1 & 0 & 400 & 1 & 1.1 & 0.9 \\\\\n",
       "\t23 & 22 & 1 & 674.35 & 154.19 & 0 & 0 & 1 & 1 & 0 & 400 & 1 & 1.1 & 0.9 \\\\\n",
       "\t24 & 23 & 1 & 1973.87 & 373.93 & 0 & 0 & 1 & 1 & 0 & 400 & 1 & 1.1 & 0.9 \\\\\n",
       "\t25 & 24 & 1 & 571.88 & 120.22 & 0 & 0 & 1 & 1 & 0 & 400 & 1 & 1.1 & 0.9 \\\\\n",
       "\t26 & 25 & 1 & 717.98 & 95.21 & 0 & 0 & 1 & 1 & 0 & 400 & 1 & 1.1 & 0.9 \\\\\n",
       "\t27 & 25A & 1 & 989.55 & 181.43 & 0 & 0 & 1 & 1 & 0 & 400 & 1 & 1.1 & 0.9 \\\\\n",
       "\t28 & 26 & 1 & 170.46 & 55.44 & 0 & 0 & 1 & 1 & 0 & 400 & 1 & 1.1 & 0.9 \\\\\n",
       "\t29 & 27E & 1 & 598.87 & 119.36 & 0 & 0 & 1 & 1 & 0 & 400 & 1 & 1.1 & 0.9 \\\\\n",
       "\t30 & 27W & 1 & 827.02 & 164.84 & 0 & 0 & 1 & 1 & 0 & 400 & 1 & 1.1 & 0.9 \\\\\n",
       "\t$\\dots$ & $\\dots$ & $\\dots$ & $\\dots$ & $\\dots$ & $\\dots$ & $\\dots$ & $\\dots$ & $\\dots$ & $\\dots$ & $\\dots$ & $\\dots$ & $\\dots$ & $\\dots$ \\\\\n",
       "\\end{tabular}\n"
      ],
      "text/plain": [
       "\u001b[1m72×13 DataFrame\u001b[0m\n",
       "\u001b[1m Row \u001b[0m│\u001b[1m bus_i   \u001b[0m\u001b[1m type  \u001b[0m\u001b[1m pd      \u001b[0m\u001b[1m qd      \u001b[0m\u001b[1m gs    \u001b[0m\u001b[1m bs    \u001b[0m\u001b[1m area  \u001b[0m\u001b[1m vm    \u001b[0m\u001b[1m va    \u001b[0m\u001b[1m basekv \u001b[0m\u001b[1m zone  \u001b[0m\u001b[1m vmax    \u001b[0m\u001b[1m vmin    \u001b[0m\n",
       "     │\u001b[90m String3 \u001b[0m\u001b[90m Int64 \u001b[0m\u001b[90m Float64 \u001b[0m\u001b[90m Float64 \u001b[0m\u001b[90m Int64 \u001b[0m\u001b[90m Int64 \u001b[0m\u001b[90m Int64 \u001b[0m\u001b[90m Int64 \u001b[0m\u001b[90m Int64 \u001b[0m\u001b[90m Int64  \u001b[0m\u001b[90m Int64 \u001b[0m\u001b[90m Float64 \u001b[0m\u001b[90m Float64 \u001b[0m\n",
       "─────┼──────────────────────────────────────────────────────────────────────────────────────────────────────\n",
       "   1 │ 1            1  2036.63   409.54      0      0      1      1      0     400      1      1.1      0.9\n",
       "   2 │ 2            1  1734.71   228.96      0      0      1      1      0     400      1      1.1      0.9\n",
       "   3 │ 3            1   877.9     89.24      0      0      1      1      0     400      1      1.1      0.9\n",
       "   4 │ 4            1  1334.16   170.79      0      0      1      1      0     400      1      1.1      0.9\n",
       "   5 │ 5            1  1701.55   341.88      0      0      1      1      0     400      1      1.1      0.9\n",
       "   6 │ 6            1  1244.77   163.58      0      0      1      1      0     400      1      1.1      0.9\n",
       "   7 │ 7            1  1341.61   244.76      0      0      1      1      0     400      1      1.1      0.9\n",
       "   8 │ 8            1  3669.5    637.38      0      0      1      1      0     400      1      1.1      0.9\n",
       "   9 │ 9            1  1960.02   362.35      0      0      1      1      0     400      1      1.1      0.9\n",
       "  10 │ 10           1   490.68    82.59      0      0      1      1      0     400      1      1.1      0.9\n",
       "  11 │ 11           1   474.51    88.26      0      0      1      1      0     400      1      1.1      0.9\n",
       "  ⋮  │    ⋮       ⋮       ⋮        ⋮       ⋮      ⋮      ⋮      ⋮      ⋮      ⋮       ⋮       ⋮        ⋮\n",
       "  63 │ 25A          2   989.55   181.43      0      0      1      1      0     400      1      1.1      0.9\n",
       "  64 │ 26           2   170.46    55.44      0      0      1      1      0     400      1      1.1      0.9\n",
       "  65 │ 27E          2   598.87   119.36      0      0      1      1      0     400      1      1.1      0.9\n",
       "  66 │ 27W          2   827.02   164.84      0      0      1      1      0     400      1      1.1      0.9\n",
       "  67 │ 28           2  1680.03   475.54      0      0      1      1      0     400      1      1.1      0.9\n",
       "  68 │ 29           2   563.53   112.32      0      0      1      1      0     400      1      1.1      0.9\n",
       "  69 │ 30           2   376.51    78.24      0      0      1      1      0     400      1      1.1      0.9\n",
       "  70 │ 31           2    59.36    10.56      0      0      1      1      0     400      1      1.1      0.9\n",
       "  71 │ 32           2   375.31    66.77      0      0      1      1      0     400      1      1.1      0.9\n",
       "  72 │ 33           2   408.45    90.41      0      0      1      1      0     400      1      1.1      0.9\n",
       "\u001b[36m                                                                                             51 rows omitted\u001b[0m"
      ]
     },
     "execution_count": 2,
     "metadata": {},
     "output_type": "execute_result"
    }
   ],
   "source": [
    "datadir = joinpath(\"OPF_data\") \n",
    "gen = CSV.read(joinpath(datadir,\"gen.csv\"), DataFrame);\n",
    "gencost = CSV.read(joinpath(datadir,\"gencost.csv\"), DataFrame);\n",
    "branch = CSV.read(joinpath(datadir,\"branch.csv\"), DataFrame);\n",
    "bus = CSV.read(joinpath(datadir,\"bus.csv\"), DataFrame);\n",
    "#if the dataframe has x value it's connected to x node... then when i have the load balance constraint\n",
    "\n",
    "# Rename all columns to lowercase (by convention)\n",
    "for f in [gen, gencost, branch, bus]\n",
    "    rename!(f,lowercase.(names(f)))\n",
    "end\n",
    "\n",
    "# create generator ids \n",
    "gen.id = 1:nrow(gen);\n",
    "gencost.id = 1:nrow(gencost);\n",
    "\n",
    "# create line ids \n",
    "branch.id = 1:nrow(branch);\n",
    "# add set of rows for reverse direction with same parameters\n",
    "branch2 = copy(branch)\n",
    "branch2.f = branch2.fbus\n",
    "branch2.fbus = branch.tbus\n",
    "branch2.tbus = branch2.f\n",
    "branch2 = branch2[:,names(branch)]\n",
    "append!(branch,branch2)\n",
    "\n",
    "# Calculate the susceptance of each line, on the assumption that\n",
    "# reactance is >> resistance, such that we can approximate \n",
    "# resistance as = 0 and treat susceptance as the simple  \n",
    "# reciprocal of reactance (x). \n",
    "# See https://en.wikipedia.org/wiki/Susceptance#Relationship_to_reactance\n",
    "branch.sus = 1 ./ branch.x \n",
    "\n",
    "# Here are the buses:\n",
    "bus"
   ]
  },
  {
   "cell_type": "code",
   "execution_count": 3,
   "metadata": {},
   "outputs": [
    {
     "data": {
      "text/html": [
       "<div><div style = \"float: left;\"><span>144×15 DataFrame</span></div><div style = \"float: right;\"><span style = \"font-style: italic;\">119 rows omitted</span></div><div style = \"clear: both;\"></div></div><div class = \"data-frame\" style = \"overflow-x: scroll;\"><table class = \"data-frame\" style = \"margin-bottom: 6px;\"><thead><tr class = \"header\"><th class = \"rowNumber\" style = \"font-weight: bold; text-align: right;\">Row</th><th style = \"text-align: left;\">fbus</th><th style = \"text-align: left;\">tbus</th><th style = \"text-align: left;\">r</th><th style = \"text-align: left;\">x</th><th style = \"text-align: left;\">b</th><th style = \"text-align: left;\">ratea</th><th style = \"text-align: left;\">rateb</th><th style = \"text-align: left;\">ratec</th><th style = \"text-align: left;\">ratio</th><th style = \"text-align: left;\">angle</th><th style = \"text-align: left;\">status</th><th style = \"text-align: left;\">angmin</th><th style = \"text-align: left;\">angmax</th><th style = \"text-align: left;\">id</th><th style = \"text-align: left;\">sus</th></tr><tr class = \"subheader headerLastRow\"><th class = \"rowNumber\" style = \"font-weight: bold; text-align: right;\"></th><th title = \"String3\" style = \"text-align: left;\">String3</th><th title = \"String3\" style = \"text-align: left;\">String3</th><th title = \"Float64\" style = \"text-align: left;\">Float64</th><th title = \"Float64\" style = \"text-align: left;\">Float64</th><th title = \"Float64\" style = \"text-align: left;\">Float64</th><th title = \"Float64\" style = \"text-align: left;\">Float64</th><th title = \"Float64\" style = \"text-align: left;\">Float64</th><th title = \"Float64\" style = \"text-align: left;\">Float64</th><th title = \"Int64\" style = \"text-align: left;\">Int64</th><th title = \"Int64\" style = \"text-align: left;\">Int64</th><th title = \"Int64\" style = \"text-align: left;\">Int64</th><th title = \"Int64\" style = \"text-align: left;\">Int64</th><th title = \"Int64\" style = \"text-align: left;\">Int64</th><th title = \"Int64\" style = \"text-align: left;\">Int64</th><th title = \"Float64\" style = \"text-align: left;\">Float64</th></tr></thead><tbody><tr><td class = \"rowNumber\" style = \"font-weight: bold; text-align: right;\">1</td><td style = \"text-align: left;\">1</td><td style = \"text-align: left;\">2</td><td style = \"text-align: right;\">0.00266925</td><td style = \"text-align: right;\">0.0323779</td><td style = \"text-align: right;\">0.0196113</td><td style = \"text-align: right;\">400.0</td><td style = \"text-align: right;\">400.0</td><td style = \"text-align: right;\">400.0</td><td style = \"text-align: right;\">0</td><td style = \"text-align: right;\">0</td><td style = \"text-align: right;\">1</td><td style = \"text-align: right;\">-360</td><td style = \"text-align: right;\">360</td><td style = \"text-align: right;\">1</td><td style = \"text-align: right;\">30.8853</td></tr><tr><td class = \"rowNumber\" style = \"font-weight: bold; text-align: right;\">2</td><td style = \"text-align: left;\">1</td><td style = \"text-align: left;\">5</td><td style = \"text-align: right;\">0.00287887</td><td style = \"text-align: right;\">0.0286089</td><td style = \"text-align: right;\">0.0103084</td><td style = \"text-align: right;\">400.0</td><td style = \"text-align: right;\">400.0</td><td style = \"text-align: right;\">400.0</td><td style = \"text-align: right;\">0</td><td style = \"text-align: right;\">0</td><td style = \"text-align: right;\">1</td><td style = \"text-align: right;\">-360</td><td style = \"text-align: right;\">360</td><td style = \"text-align: right;\">2</td><td style = \"text-align: right;\">34.9541</td></tr><tr><td class = \"rowNumber\" style = \"font-weight: bold; text-align: right;\">3</td><td style = \"text-align: left;\">2</td><td style = \"text-align: left;\">3</td><td style = \"text-align: right;\">0.00131306</td><td style = \"text-align: right;\">0.0190229</td><td style = \"text-align: right;\">0.0102966</td><td style = \"text-align: right;\">400.0</td><td style = \"text-align: right;\">400.0</td><td style = \"text-align: right;\">400.0</td><td style = \"text-align: right;\">0</td><td style = \"text-align: right;\">0</td><td style = \"text-align: right;\">1</td><td style = \"text-align: right;\">-360</td><td style = \"text-align: right;\">360</td><td style = \"text-align: right;\">3</td><td style = \"text-align: right;\">52.5681</td></tr><tr><td class = \"rowNumber\" style = \"font-weight: bold; text-align: right;\">4</td><td style = \"text-align: left;\">2</td><td style = \"text-align: left;\">6</td><td style = \"text-align: right;\">0.000803188</td><td style = \"text-align: right;\">0.0149712</td><td style = \"text-align: right;\">0.00476255</td><td style = \"text-align: right;\">400.0</td><td style = \"text-align: right;\">400.0</td><td style = \"text-align: right;\">400.0</td><td style = \"text-align: right;\">0</td><td style = \"text-align: right;\">0</td><td style = \"text-align: right;\">1</td><td style = \"text-align: right;\">-360</td><td style = \"text-align: right;\">360</td><td style = \"text-align: right;\">4</td><td style = \"text-align: right;\">66.795</td></tr><tr><td class = \"rowNumber\" style = \"font-weight: bold; text-align: right;\">5</td><td style = \"text-align: left;\">3</td><td style = \"text-align: left;\">10</td><td style = \"text-align: right;\">0.000399063</td><td style = \"text-align: right;\">0.00548875</td><td style = \"text-align: right;\">0.00238071</td><td style = \"text-align: right;\">400.0</td><td style = \"text-align: right;\">400.0</td><td style = \"text-align: right;\">400.0</td><td style = \"text-align: right;\">0</td><td style = \"text-align: right;\">0</td><td style = \"text-align: right;\">1</td><td style = \"text-align: right;\">-360</td><td style = \"text-align: right;\">360</td><td style = \"text-align: right;\">5</td><td style = \"text-align: right;\">182.191</td></tr><tr><td class = \"rowNumber\" style = \"font-weight: bold; text-align: right;\">6</td><td style = \"text-align: left;\">4</td><td style = \"text-align: left;\">5</td><td style = \"text-align: right;\">0.00114981</td><td style = \"text-align: right;\">0.0183772</td><td style = \"text-align: right;\">0.0126698</td><td style = \"text-align: right;\">400.0</td><td style = \"text-align: right;\">400.0</td><td style = \"text-align: right;\">400.0</td><td style = \"text-align: right;\">0</td><td style = \"text-align: right;\">0</td><td style = \"text-align: right;\">1</td><td style = \"text-align: right;\">-360</td><td style = \"text-align: right;\">360</td><td style = \"text-align: right;\">6</td><td style = \"text-align: right;\">54.4153</td></tr><tr><td class = \"rowNumber\" style = \"font-weight: bold; text-align: right;\">7</td><td style = \"text-align: left;\">4</td><td style = \"text-align: left;\">6</td><td style = \"text-align: right;\">0.00209787</td><td style = \"text-align: right;\">0.0318498</td><td style = \"text-align: right;\">0.0106544</td><td style = \"text-align: right;\">400.0</td><td style = \"text-align: right;\">400.0</td><td style = \"text-align: right;\">400.0</td><td style = \"text-align: right;\">0</td><td style = \"text-align: right;\">0</td><td style = \"text-align: right;\">1</td><td style = \"text-align: right;\">-360</td><td style = \"text-align: right;\">360</td><td style = \"text-align: right;\">7</td><td style = \"text-align: right;\">31.3974</td></tr><tr><td class = \"rowNumber\" style = \"font-weight: bold; text-align: right;\">8</td><td style = \"text-align: left;\">4</td><td style = \"text-align: left;\">14</td><td style = \"text-align: right;\">0.00220469</td><td style = \"text-align: right;\">0.0290109</td><td style = \"text-align: right;\">0.00897751</td><td style = \"text-align: right;\">400.0</td><td style = \"text-align: right;\">400.0</td><td style = \"text-align: right;\">400.0</td><td style = \"text-align: right;\">0</td><td style = \"text-align: right;\">0</td><td style = \"text-align: right;\">1</td><td style = \"text-align: right;\">-360</td><td style = \"text-align: right;\">360</td><td style = \"text-align: right;\">8</td><td style = \"text-align: right;\">34.4698</td></tr><tr><td class = \"rowNumber\" style = \"font-weight: bold; text-align: right;\">9</td><td style = \"text-align: left;\">5</td><td style = \"text-align: left;\">6</td><td style = \"text-align: right;\">0.000706313</td><td style = \"text-align: right;\">0.00961025</td><td style = \"text-align: right;\">0.00913257</td><td style = \"text-align: right;\">400.0</td><td style = \"text-align: right;\">400.0</td><td style = \"text-align: right;\">400.0</td><td style = \"text-align: right;\">0</td><td style = \"text-align: right;\">0</td><td style = \"text-align: right;\">1</td><td style = \"text-align: right;\">-360</td><td style = \"text-align: right;\">360</td><td style = \"text-align: right;\">9</td><td style = \"text-align: right;\">104.056</td></tr><tr><td class = \"rowNumber\" style = \"font-weight: bold; text-align: right;\">10</td><td style = \"text-align: left;\">5</td><td style = \"text-align: left;\">14</td><td style = \"text-align: right;\">0.00178231</td><td style = \"text-align: right;\">0.0184703</td><td style = \"text-align: right;\">0.00196471</td><td style = \"text-align: right;\">400.0</td><td style = \"text-align: right;\">400.0</td><td style = \"text-align: right;\">400.0</td><td style = \"text-align: right;\">0</td><td style = \"text-align: right;\">0</td><td style = \"text-align: right;\">1</td><td style = \"text-align: right;\">-360</td><td style = \"text-align: right;\">360</td><td style = \"text-align: right;\">10</td><td style = \"text-align: right;\">54.1409</td></tr><tr><td class = \"rowNumber\" style = \"font-weight: bold; text-align: right;\">11</td><td style = \"text-align: left;\">6</td><td style = \"text-align: left;\">7</td><td style = \"text-align: right;\">0.00119981</td><td style = \"text-align: right;\">0.0192356</td><td style = \"text-align: right;\">0.0267716</td><td style = \"text-align: right;\">400.0</td><td style = \"text-align: right;\">400.0</td><td style = \"text-align: right;\">400.0</td><td style = \"text-align: right;\">0</td><td style = \"text-align: right;\">0</td><td style = \"text-align: right;\">1</td><td style = \"text-align: right;\">-360</td><td style = \"text-align: right;\">360</td><td style = \"text-align: right;\">11</td><td style = \"text-align: right;\">51.987</td></tr><tr><td class = \"rowNumber\" style = \"font-weight: bold; text-align: right;\">12</td><td style = \"text-align: left;\">6</td><td style = \"text-align: left;\">13</td><td style = \"text-align: right;\">0.000327813</td><td style = \"text-align: right;\">0.00569294</td><td style = \"text-align: right;\">0.00236706</td><td style = \"text-align: right;\">400.0</td><td style = \"text-align: right;\">400.0</td><td style = \"text-align: right;\">400.0</td><td style = \"text-align: right;\">0</td><td style = \"text-align: right;\">0</td><td style = \"text-align: right;\">1</td><td style = \"text-align: right;\">-360</td><td style = \"text-align: right;\">360</td><td style = \"text-align: right;\">12</td><td style = \"text-align: right;\">175.656</td></tr><tr><td class = \"rowNumber\" style = \"font-weight: bold; text-align: right;\">13</td><td style = \"text-align: left;\">7</td><td style = \"text-align: left;\">8</td><td style = \"text-align: right;\">0.000412188</td><td style = \"text-align: right;\">0.00449369</td><td style = \"text-align: right;\">0.046537</td><td style = \"text-align: right;\">400.0</td><td style = \"text-align: right;\">400.0</td><td style = \"text-align: right;\">400.0</td><td style = \"text-align: right;\">0</td><td style = \"text-align: right;\">0</td><td style = \"text-align: right;\">1</td><td style = \"text-align: right;\">-360</td><td style = \"text-align: right;\">360</td><td style = \"text-align: right;\">13</td><td style = \"text-align: right;\">222.534</td></tr><tr><td style = \"text-align: right;\">&vellip;</td><td style = \"text-align: right;\">&vellip;</td><td style = \"text-align: right;\">&vellip;</td><td style = \"text-align: right;\">&vellip;</td><td style = \"text-align: right;\">&vellip;</td><td style = \"text-align: right;\">&vellip;</td><td style = \"text-align: right;\">&vellip;</td><td style = \"text-align: right;\">&vellip;</td><td style = \"text-align: right;\">&vellip;</td><td style = \"text-align: right;\">&vellip;</td><td style = \"text-align: right;\">&vellip;</td><td style = \"text-align: right;\">&vellip;</td><td style = \"text-align: right;\">&vellip;</td><td style = \"text-align: right;\">&vellip;</td><td style = \"text-align: right;\">&vellip;</td><td style = \"text-align: right;\">&vellip;</td></tr><tr><td class = \"rowNumber\" style = \"font-weight: bold; text-align: right;\">133</td><td style = \"text-align: left;\">27E</td><td style = \"text-align: left;\">27W</td><td style = \"text-align: right;\">0.001276</td><td style = \"text-align: right;\">0.0112748</td><td style = \"text-align: right;\">0.00658752</td><td style = \"text-align: right;\">400.0</td><td style = \"text-align: right;\">400.0</td><td style = \"text-align: right;\">400.0</td><td style = \"text-align: right;\">0</td><td style = \"text-align: right;\">0</td><td style = \"text-align: right;\">1</td><td style = \"text-align: right;\">-360</td><td style = \"text-align: right;\">360</td><td style = \"text-align: right;\">61</td><td style = \"text-align: right;\">88.6938</td></tr><tr><td class = \"rowNumber\" style = \"font-weight: bold; text-align: right;\">134</td><td style = \"text-align: left;\">28</td><td style = \"text-align: left;\">27W</td><td style = \"text-align: right;\">0.000657375</td><td style = \"text-align: right;\">0.00816719</td><td style = \"text-align: right;\">0.00932489</td><td style = \"text-align: right;\">400.0</td><td style = \"text-align: right;\">400.0</td><td style = \"text-align: right;\">400.0</td><td style = \"text-align: right;\">0</td><td style = \"text-align: right;\">0</td><td style = \"text-align: right;\">1</td><td style = \"text-align: right;\">-360</td><td style = \"text-align: right;\">360</td><td style = \"text-align: right;\">62</td><td style = \"text-align: right;\">122.441</td></tr><tr><td class = \"rowNumber\" style = \"font-weight: bold; text-align: right;\">135</td><td style = \"text-align: left;\">29</td><td style = \"text-align: left;\">27W</td><td style = \"text-align: right;\">0.000516438</td><td style = \"text-align: right;\">0.0106281</td><td style = \"text-align: right;\">0.00299608</td><td style = \"text-align: right;\">400.0</td><td style = \"text-align: right;\">400.0</td><td style = \"text-align: right;\">400.0</td><td style = \"text-align: right;\">0</td><td style = \"text-align: right;\">0</td><td style = \"text-align: right;\">1</td><td style = \"text-align: right;\">-360</td><td style = \"text-align: right;\">360</td><td style = \"text-align: right;\">63</td><td style = \"text-align: right;\">94.09</td></tr><tr><td class = \"rowNumber\" style = \"font-weight: bold; text-align: right;\">136</td><td style = \"text-align: left;\">29</td><td style = \"text-align: left;\">28</td><td style = \"text-align: right;\">0.000826875</td><td style = \"text-align: right;\">0.0120264</td><td style = \"text-align: right;\">0.00355633</td><td style = \"text-align: right;\">400.0</td><td style = \"text-align: right;\">400.0</td><td style = \"text-align: right;\">400.0</td><td style = \"text-align: right;\">0</td><td style = \"text-align: right;\">0</td><td style = \"text-align: right;\">1</td><td style = \"text-align: right;\">-360</td><td style = \"text-align: right;\">360</td><td style = \"text-align: right;\">64</td><td style = \"text-align: right;\">83.1506</td></tr><tr><td class = \"rowNumber\" style = \"font-weight: bold; text-align: right;\">137</td><td style = \"text-align: left;\">31</td><td style = \"text-align: left;\">28</td><td style = \"text-align: right;\">0.00118531</td><td style = \"text-align: right;\">0.00383031</td><td style = \"text-align: right;\">0.00512333</td><td style = \"text-align: right;\">400.0</td><td style = \"text-align: right;\">400.0</td><td style = \"text-align: right;\">400.0</td><td style = \"text-align: right;\">0</td><td style = \"text-align: right;\">0</td><td style = \"text-align: right;\">1</td><td style = \"text-align: right;\">-360</td><td style = \"text-align: right;\">360</td><td style = \"text-align: right;\">65</td><td style = \"text-align: right;\">261.075</td></tr><tr><td class = \"rowNumber\" style = \"font-weight: bold; text-align: right;\">138</td><td style = \"text-align: left;\">32</td><td style = \"text-align: left;\">28</td><td style = \"text-align: right;\">0.0</td><td style = \"text-align: right;\">0.0</td><td style = \"text-align: right;\">0.0</td><td style = \"text-align: right;\">400.0</td><td style = \"text-align: right;\">400.0</td><td style = \"text-align: right;\">400.0</td><td style = \"text-align: right;\">0</td><td style = \"text-align: right;\">0</td><td style = \"text-align: right;\">1</td><td style = \"text-align: right;\">-360</td><td style = \"text-align: right;\">360</td><td style = \"text-align: right;\">66</td><td style = \"text-align: right;\">Inf</td></tr><tr><td class = \"rowNumber\" style = \"font-weight: bold; text-align: right;\">139</td><td style = \"text-align: left;\">31</td><td style = \"text-align: left;\">29</td><td style = \"text-align: right;\">0.000802688</td><td style = \"text-align: right;\">0.00834469</td><td style = \"text-align: right;\">0.00568591</td><td style = \"text-align: right;\">400.0</td><td style = \"text-align: right;\">400.0</td><td style = \"text-align: right;\">400.0</td><td style = \"text-align: right;\">0</td><td style = \"text-align: right;\">0</td><td style = \"text-align: right;\">1</td><td style = \"text-align: right;\">-360</td><td style = \"text-align: right;\">360</td><td style = \"text-align: right;\">67</td><td style = \"text-align: right;\">119.837</td></tr><tr><td class = \"rowNumber\" style = \"font-weight: bold; text-align: right;\">140</td><td style = \"text-align: left;\">33</td><td style = \"text-align: left;\">29</td><td style = \"text-align: right;\">0.00425394</td><td style = \"text-align: right;\">0.0365836</td><td style = \"text-align: right;\">0.00348308</td><td style = \"text-align: right;\">400.0</td><td style = \"text-align: right;\">400.0</td><td style = \"text-align: right;\">400.0</td><td style = \"text-align: right;\">0</td><td style = \"text-align: right;\">0</td><td style = \"text-align: right;\">1</td><td style = \"text-align: right;\">-360</td><td style = \"text-align: right;\">360</td><td style = \"text-align: right;\">68</td><td style = \"text-align: right;\">27.3346</td></tr><tr><td class = \"rowNumber\" style = \"font-weight: bold; text-align: right;\">141</td><td style = \"text-align: left;\">31</td><td style = \"text-align: left;\">30</td><td style = \"text-align: right;\">0.00625</td><td style = \"text-align: right;\">0.009375</td><td style = \"text-align: right;\">0.00555391</td><td style = \"text-align: right;\">400.0</td><td style = \"text-align: right;\">400.0</td><td style = \"text-align: right;\">400.0</td><td style = \"text-align: right;\">0</td><td style = \"text-align: right;\">0</td><td style = \"text-align: right;\">1</td><td style = \"text-align: right;\">-360</td><td style = \"text-align: right;\">360</td><td style = \"text-align: right;\">69</td><td style = \"text-align: right;\">106.667</td></tr><tr><td class = \"rowNumber\" style = \"font-weight: bold; text-align: right;\">142</td><td style = \"text-align: left;\">32</td><td style = \"text-align: left;\">31</td><td style = \"text-align: right;\">0.00845975</td><td style = \"text-align: right;\">0.0214944</td><td style = \"text-align: right;\">0.00839269</td><td style = \"text-align: right;\">400.0</td><td style = \"text-align: right;\">400.0</td><td style = \"text-align: right;\">400.0</td><td style = \"text-align: right;\">0</td><td style = \"text-align: right;\">0</td><td style = \"text-align: right;\">1</td><td style = \"text-align: right;\">-360</td><td style = \"text-align: right;\">360</td><td style = \"text-align: right;\">70</td><td style = \"text-align: right;\">46.5238</td></tr><tr><td class = \"rowNumber\" style = \"font-weight: bold; text-align: right;\">143</td><td style = \"text-align: left;\">33</td><td style = \"text-align: left;\">31</td><td style = \"text-align: right;\">0.000950375</td><td style = \"text-align: right;\">0.00830369</td><td style = \"text-align: right;\">0.00505114</td><td style = \"text-align: right;\">400.0</td><td style = \"text-align: right;\">400.0</td><td style = \"text-align: right;\">400.0</td><td style = \"text-align: right;\">0</td><td style = \"text-align: right;\">0</td><td style = \"text-align: right;\">1</td><td style = \"text-align: right;\">-360</td><td style = \"text-align: right;\">360</td><td style = \"text-align: right;\">71</td><td style = \"text-align: right;\">120.428</td></tr><tr><td class = \"rowNumber\" style = \"font-weight: bold; text-align: right;\">144</td><td style = \"text-align: left;\">33</td><td style = \"text-align: left;\">32</td><td style = \"text-align: right;\">0.00228119</td><td style = \"text-align: right;\">0.008931</td><td style = \"text-align: right;\">0.0127316</td><td style = \"text-align: right;\">400.0</td><td style = \"text-align: right;\">400.0</td><td style = \"text-align: right;\">400.0</td><td style = \"text-align: right;\">0</td><td style = \"text-align: right;\">0</td><td style = \"text-align: right;\">1</td><td style = \"text-align: right;\">-360</td><td style = \"text-align: right;\">360</td><td style = \"text-align: right;\">72</td><td style = \"text-align: right;\">111.97</td></tr></tbody></table></div>"
      ],
      "text/latex": [
       "\\begin{tabular}{r|cccccccccccccc}\n",
       "\t& fbus & tbus & r & x & b & ratea & rateb & ratec & ratio & angle & status & angmin & angmax & \\\\\n",
       "\t\\hline\n",
       "\t& String3 & String3 & Float64 & Float64 & Float64 & Float64 & Float64 & Float64 & Int64 & Int64 & Int64 & Int64 & Int64 & \\\\\n",
       "\t\\hline\n",
       "\t1 & 1 & 2 & 0.00266925 & 0.0323779 & 0.0196113 & 400.0 & 400.0 & 400.0 & 0 & 0 & 1 & -360 & 360 & $\\dots$ \\\\\n",
       "\t2 & 1 & 5 & 0.00287887 & 0.0286089 & 0.0103084 & 400.0 & 400.0 & 400.0 & 0 & 0 & 1 & -360 & 360 & $\\dots$ \\\\\n",
       "\t3 & 2 & 3 & 0.00131306 & 0.0190229 & 0.0102966 & 400.0 & 400.0 & 400.0 & 0 & 0 & 1 & -360 & 360 & $\\dots$ \\\\\n",
       "\t4 & 2 & 6 & 0.000803188 & 0.0149712 & 0.00476255 & 400.0 & 400.0 & 400.0 & 0 & 0 & 1 & -360 & 360 & $\\dots$ \\\\\n",
       "\t5 & 3 & 10 & 0.000399063 & 0.00548875 & 0.00238071 & 400.0 & 400.0 & 400.0 & 0 & 0 & 1 & -360 & 360 & $\\dots$ \\\\\n",
       "\t6 & 4 & 5 & 0.00114981 & 0.0183772 & 0.0126698 & 400.0 & 400.0 & 400.0 & 0 & 0 & 1 & -360 & 360 & $\\dots$ \\\\\n",
       "\t7 & 4 & 6 & 0.00209787 & 0.0318498 & 0.0106544 & 400.0 & 400.0 & 400.0 & 0 & 0 & 1 & -360 & 360 & $\\dots$ \\\\\n",
       "\t8 & 4 & 14 & 0.00220469 & 0.0290109 & 0.00897751 & 400.0 & 400.0 & 400.0 & 0 & 0 & 1 & -360 & 360 & $\\dots$ \\\\\n",
       "\t9 & 5 & 6 & 0.000706313 & 0.00961025 & 0.00913257 & 400.0 & 400.0 & 400.0 & 0 & 0 & 1 & -360 & 360 & $\\dots$ \\\\\n",
       "\t10 & 5 & 14 & 0.00178231 & 0.0184703 & 0.00196471 & 400.0 & 400.0 & 400.0 & 0 & 0 & 1 & -360 & 360 & $\\dots$ \\\\\n",
       "\t11 & 6 & 7 & 0.00119981 & 0.0192356 & 0.0267716 & 400.0 & 400.0 & 400.0 & 0 & 0 & 1 & -360 & 360 & $\\dots$ \\\\\n",
       "\t12 & 6 & 13 & 0.000327813 & 0.00569294 & 0.00236706 & 400.0 & 400.0 & 400.0 & 0 & 0 & 1 & -360 & 360 & $\\dots$ \\\\\n",
       "\t13 & 7 & 8 & 0.000412188 & 0.00449369 & 0.046537 & 400.0 & 400.0 & 400.0 & 0 & 0 & 1 & -360 & 360 & $\\dots$ \\\\\n",
       "\t14 & 7 & 9 & 0.000912813 & 0.00961181 & 0.0248062 & 400.0 & 400.0 & 400.0 & 0 & 0 & 1 & -360 & 360 & $\\dots$ \\\\\n",
       "\t15 & 7 & 10 & 0.000213438 & 0.00283269 & 0.00717854 & 400.0 & 400.0 & 400.0 & 0 & 0 & 1 & -360 & 360 & $\\dots$ \\\\\n",
       "\t16 & 8 & 9 & 0.00014 & 0.00176 & 0.00777599 & 400.0 & 400.0 & 400.0 & 0 & 0 & 1 & -360 & 360 & $\\dots$ \\\\\n",
       "\t17 & 8 & 10 & 0.000446188 & 0.005416 & 0.0492475 & 400.0 & 400.0 & 400.0 & 0 & 0 & 1 & -360 & 360 & $\\dots$ \\\\\n",
       "\t18 & 8 & 13 & 0.000541563 & 0.00778087 & 0.0158114 & 400.0 & 400.0 & 400.0 & 0 & 0 & 1 & -360 & 360 & $\\dots$ \\\\\n",
       "\t19 & 9 & 11 & 0.000934125 & 0.00944906 & 0.00374001 & 400.0 & 400.0 & 400.0 & 0 & 0 & 1 & -360 & 360 & $\\dots$ \\\\\n",
       "\t20 & 9 & 13 & 0.000277375 & 0.00272575 & 0.00444232 & 400.0 & 400.0 & 400.0 & 0 & 0 & 1 & -360 & 360 & $\\dots$ \\\\\n",
       "\t21 & 10 & 11 & 0.000366938 & 0.00494194 & 0.0030837 & 400.0 & 400.0 & 400.0 & 0 & 0 & 1 & -360 & 360 & $\\dots$ \\\\\n",
       "\t22 & 11 & 12 & 0.00204112 & 0.0293363 & 0.00836918 & 400.0 & 400.0 & 400.0 & 0 & 0 & 1 & -360 & 360 & $\\dots$ \\\\\n",
       "\t23 & 11 & 13 & 0.000979313 & 0.01555 & 0.0068301 & 400.0 & 400.0 & 400.0 & 0 & 0 & 1 & -360 & 360 & $\\dots$ \\\\\n",
       "\t24 & 12 & 13 & 0.000660063 & 0.0118286 & 0.00465276 & 400.0 & 400.0 & 400.0 & 0 & 0 & 1 & -360 & 360 & $\\dots$ \\\\\n",
       "\t25 & 12 & 16 & 0.000488125 & 0.00938675 & 0.00464777 & 400.0 & 400.0 & 400.0 & 0 & 0 & 1 & -360 & 360 & $\\dots$ \\\\\n",
       "\t26 & 13 & 14A & 0.00122219 & 0.0166115 & 0.00503391 & 400.0 & 400.0 & 400.0 & 0 & 0 & 1 & -360 & 360 & $\\dots$ \\\\\n",
       "\t27 & 13 & 17 & 0.000664438 & 0.00864231 & 0.0135528 & 400.0 & 400.0 & 400.0 & 0 & 0 & 1 & -360 & 360 & $\\dots$ \\\\\n",
       "\t28 & 14 & 15 & 0.00088875 & 0.00965956 & 0.00289576 & 400.0 & 400.0 & 400.0 & 0 & 0 & 1 & -360 & 360 & $\\dots$ \\\\\n",
       "\t29 & 14A & 14 & 0.001026 & 0.0118831 & 0.00622196 & 400.0 & 400.0 & 400.0 & 0 & 0 & 1 & -360 & 360 & $\\dots$ \\\\\n",
       "\t30 & 14A & 15 & 0.000270688 & 0.00299631 & 0.00137864 & 400.0 & 400.0 & 400.0 & 0 & 0 & 1 & -360 & 360 & $\\dots$ \\\\\n",
       "\t$\\dots$ & $\\dots$ & $\\dots$ & $\\dots$ & $\\dots$ & $\\dots$ & $\\dots$ & $\\dots$ & $\\dots$ & $\\dots$ & $\\dots$ & $\\dots$ & $\\dots$ & $\\dots$ &  \\\\\n",
       "\\end{tabular}\n"
      ],
      "text/plain": [
       "\u001b[1m144×15 DataFrame\u001b[0m\n",
       "\u001b[1m Row \u001b[0m│\u001b[1m fbus    \u001b[0m\u001b[1m tbus    \u001b[0m\u001b[1m r           \u001b[0m\u001b[1m x          \u001b[0m\u001b[1m b          \u001b[0m\u001b[1m ratea   \u001b[0m\u001b[1m rateb   \u001b[0m\u001b[1m ratec   \u001b[0m\u001b[1m ratio \u001b[0m\u001b[1m angle \u001b[0m\u001b[1m status \u001b[0m\u001b[1m angmin \u001b[0m\u001b[1m\u001b[0m ⋯\n",
       "     │\u001b[90m String3 \u001b[0m\u001b[90m String3 \u001b[0m\u001b[90m Float64     \u001b[0m\u001b[90m Float64    \u001b[0m\u001b[90m Float64    \u001b[0m\u001b[90m Float64 \u001b[0m\u001b[90m Float64 \u001b[0m\u001b[90m Float64 \u001b[0m\u001b[90m Int64 \u001b[0m\u001b[90m Int64 \u001b[0m\u001b[90m Int64  \u001b[0m\u001b[90m Int64  \u001b[0m\u001b[90m\u001b[0m ⋯\n",
       "─────┼──────────────────────────────────────────────────────────────────────────────────────────────────────────────────\n",
       "   1 │ 1        2        0.00266925   0.0323779   0.0196113     400.0    400.0    400.0      0      0       1    -360  ⋯\n",
       "   2 │ 1        5        0.00287887   0.0286089   0.0103084     400.0    400.0    400.0      0      0       1    -360\n",
       "   3 │ 2        3        0.00131306   0.0190229   0.0102966     400.0    400.0    400.0      0      0       1    -360\n",
       "   4 │ 2        6        0.000803188  0.0149712   0.00476255    400.0    400.0    400.0      0      0       1    -360\n",
       "   5 │ 3        10       0.000399063  0.00548875  0.00238071    400.0    400.0    400.0      0      0       1    -360  ⋯\n",
       "   6 │ 4        5        0.00114981   0.0183772   0.0126698     400.0    400.0    400.0      0      0       1    -360\n",
       "   7 │ 4        6        0.00209787   0.0318498   0.0106544     400.0    400.0    400.0      0      0       1    -360\n",
       "   8 │ 4        14       0.00220469   0.0290109   0.00897751    400.0    400.0    400.0      0      0       1    -360\n",
       "   9 │ 5        6        0.000706313  0.00961025  0.00913257    400.0    400.0    400.0      0      0       1    -360  ⋯\n",
       "  10 │ 5        14       0.00178231   0.0184703   0.00196471    400.0    400.0    400.0      0      0       1    -360\n",
       "  11 │ 6        7        0.00119981   0.0192356   0.0267716     400.0    400.0    400.0      0      0       1    -360\n",
       "  ⋮  │    ⋮        ⋮          ⋮           ⋮           ⋮          ⋮        ⋮        ⋮       ⋮      ⋮      ⋮       ⋮     ⋱\n",
       " 135 │ 29       27W      0.000516438  0.0106281   0.00299608    400.0    400.0    400.0      0      0       1    -360\n",
       " 136 │ 29       28       0.000826875  0.0120264   0.00355633    400.0    400.0    400.0      0      0       1    -360  ⋯\n",
       " 137 │ 31       28       0.00118531   0.00383031  0.00512333    400.0    400.0    400.0      0      0       1    -360\n",
       " 138 │ 32       28       0.0          0.0         0.0           400.0    400.0    400.0      0      0       1    -360\n",
       " 139 │ 31       29       0.000802688  0.00834469  0.00568591    400.0    400.0    400.0      0      0       1    -360\n",
       " 140 │ 33       29       0.00425394   0.0365836   0.00348308    400.0    400.0    400.0      0      0       1    -360  ⋯\n",
       " 141 │ 31       30       0.00625      0.009375    0.00555391    400.0    400.0    400.0      0      0       1    -360\n",
       " 142 │ 32       31       0.00845975   0.0214944   0.00839269    400.0    400.0    400.0      0      0       1    -360\n",
       " 143 │ 33       31       0.000950375  0.00830369  0.00505114    400.0    400.0    400.0      0      0       1    -360\n",
       " 144 │ 33       32       0.00228119   0.008931    0.0127316     400.0    400.0    400.0      0      0       1    -360  ⋯\n",
       "\u001b[36m                                                                                          3 columns and 123 rows omitted\u001b[0m"
      ]
     },
     "execution_count": 3,
     "metadata": {},
     "output_type": "execute_result"
    }
   ],
   "source": [
    "branch"
   ]
  },
  {
   "cell_type": "code",
   "execution_count": 4,
   "metadata": {},
   "outputs": [
    {
     "data": {
      "text/html": [
       "<div><div style = \"float: left;\"><span>72×13 DataFrame</span></div><div style = \"float: right;\"><span style = \"font-style: italic;\">47 rows omitted</span></div><div style = \"clear: both;\"></div></div><div class = \"data-frame\" style = \"overflow-x: scroll;\"><table class = \"data-frame\" style = \"margin-bottom: 6px;\"><thead><tr class = \"header\"><th class = \"rowNumber\" style = \"font-weight: bold; text-align: right;\">Row</th><th style = \"text-align: left;\">bus_i</th><th style = \"text-align: left;\">type</th><th style = \"text-align: left;\">pd</th><th style = \"text-align: left;\">qd</th><th style = \"text-align: left;\">gs</th><th style = \"text-align: left;\">bs</th><th style = \"text-align: left;\">area</th><th style = \"text-align: left;\">vm</th><th style = \"text-align: left;\">va</th><th style = \"text-align: left;\">basekv</th><th style = \"text-align: left;\">zone</th><th style = \"text-align: left;\">vmax</th><th style = \"text-align: left;\">vmin</th></tr><tr class = \"subheader headerLastRow\"><th class = \"rowNumber\" style = \"font-weight: bold; text-align: right;\"></th><th title = \"String3\" style = \"text-align: left;\">String3</th><th title = \"Int64\" style = \"text-align: left;\">Int64</th><th title = \"Float64\" style = \"text-align: left;\">Float64</th><th title = \"Float64\" style = \"text-align: left;\">Float64</th><th title = \"Int64\" style = \"text-align: left;\">Int64</th><th title = \"Int64\" style = \"text-align: left;\">Int64</th><th title = \"Int64\" style = \"text-align: left;\">Int64</th><th title = \"Int64\" style = \"text-align: left;\">Int64</th><th title = \"Int64\" style = \"text-align: left;\">Int64</th><th title = \"Int64\" style = \"text-align: left;\">Int64</th><th title = \"Int64\" style = \"text-align: left;\">Int64</th><th title = \"Float64\" style = \"text-align: left;\">Float64</th><th title = \"Float64\" style = \"text-align: left;\">Float64</th></tr></thead><tbody><tr><td class = \"rowNumber\" style = \"font-weight: bold; text-align: right;\">1</td><td style = \"text-align: left;\">1</td><td style = \"text-align: right;\">1</td><td style = \"text-align: right;\">2036.63</td><td style = \"text-align: right;\">409.54</td><td style = \"text-align: right;\">0</td><td style = \"text-align: right;\">0</td><td style = \"text-align: right;\">1</td><td style = \"text-align: right;\">1</td><td style = \"text-align: right;\">0</td><td style = \"text-align: right;\">400</td><td style = \"text-align: right;\">1</td><td style = \"text-align: right;\">1.1</td><td style = \"text-align: right;\">0.9</td></tr><tr><td class = \"rowNumber\" style = \"font-weight: bold; text-align: right;\">2</td><td style = \"text-align: left;\">2</td><td style = \"text-align: right;\">1</td><td style = \"text-align: right;\">1734.71</td><td style = \"text-align: right;\">228.96</td><td style = \"text-align: right;\">0</td><td style = \"text-align: right;\">0</td><td style = \"text-align: right;\">1</td><td style = \"text-align: right;\">1</td><td style = \"text-align: right;\">0</td><td style = \"text-align: right;\">400</td><td style = \"text-align: right;\">1</td><td style = \"text-align: right;\">1.1</td><td style = \"text-align: right;\">0.9</td></tr><tr><td class = \"rowNumber\" style = \"font-weight: bold; text-align: right;\">3</td><td style = \"text-align: left;\">3</td><td style = \"text-align: right;\">1</td><td style = \"text-align: right;\">877.9</td><td style = \"text-align: right;\">89.24</td><td style = \"text-align: right;\">0</td><td style = \"text-align: right;\">0</td><td style = \"text-align: right;\">1</td><td style = \"text-align: right;\">1</td><td style = \"text-align: right;\">0</td><td style = \"text-align: right;\">400</td><td style = \"text-align: right;\">1</td><td style = \"text-align: right;\">1.1</td><td style = \"text-align: right;\">0.9</td></tr><tr><td class = \"rowNumber\" style = \"font-weight: bold; text-align: right;\">4</td><td style = \"text-align: left;\">4</td><td style = \"text-align: right;\">1</td><td style = \"text-align: right;\">1334.16</td><td style = \"text-align: right;\">170.79</td><td style = \"text-align: right;\">0</td><td style = \"text-align: right;\">0</td><td style = \"text-align: right;\">1</td><td style = \"text-align: right;\">1</td><td style = \"text-align: right;\">0</td><td style = \"text-align: right;\">400</td><td style = \"text-align: right;\">1</td><td style = \"text-align: right;\">1.1</td><td style = \"text-align: right;\">0.9</td></tr><tr><td class = \"rowNumber\" style = \"font-weight: bold; text-align: right;\">5</td><td style = \"text-align: left;\">5</td><td style = \"text-align: right;\">1</td><td style = \"text-align: right;\">1701.55</td><td style = \"text-align: right;\">341.88</td><td style = \"text-align: right;\">0</td><td style = \"text-align: right;\">0</td><td style = \"text-align: right;\">1</td><td style = \"text-align: right;\">1</td><td style = \"text-align: right;\">0</td><td style = \"text-align: right;\">400</td><td style = \"text-align: right;\">1</td><td style = \"text-align: right;\">1.1</td><td style = \"text-align: right;\">0.9</td></tr><tr><td class = \"rowNumber\" style = \"font-weight: bold; text-align: right;\">6</td><td style = \"text-align: left;\">6</td><td style = \"text-align: right;\">1</td><td style = \"text-align: right;\">1244.77</td><td style = \"text-align: right;\">163.58</td><td style = \"text-align: right;\">0</td><td style = \"text-align: right;\">0</td><td style = \"text-align: right;\">1</td><td style = \"text-align: right;\">1</td><td style = \"text-align: right;\">0</td><td style = \"text-align: right;\">400</td><td style = \"text-align: right;\">1</td><td style = \"text-align: right;\">1.1</td><td style = \"text-align: right;\">0.9</td></tr><tr><td class = \"rowNumber\" style = \"font-weight: bold; text-align: right;\">7</td><td style = \"text-align: left;\">7</td><td style = \"text-align: right;\">1</td><td style = \"text-align: right;\">1341.61</td><td style = \"text-align: right;\">244.76</td><td style = \"text-align: right;\">0</td><td style = \"text-align: right;\">0</td><td style = \"text-align: right;\">1</td><td style = \"text-align: right;\">1</td><td style = \"text-align: right;\">0</td><td style = \"text-align: right;\">400</td><td style = \"text-align: right;\">1</td><td style = \"text-align: right;\">1.1</td><td style = \"text-align: right;\">0.9</td></tr><tr><td class = \"rowNumber\" style = \"font-weight: bold; text-align: right;\">8</td><td style = \"text-align: left;\">8</td><td style = \"text-align: right;\">1</td><td style = \"text-align: right;\">3669.5</td><td style = \"text-align: right;\">637.38</td><td style = \"text-align: right;\">0</td><td style = \"text-align: right;\">0</td><td style = \"text-align: right;\">1</td><td style = \"text-align: right;\">1</td><td style = \"text-align: right;\">0</td><td style = \"text-align: right;\">400</td><td style = \"text-align: right;\">1</td><td style = \"text-align: right;\">1.1</td><td style = \"text-align: right;\">0.9</td></tr><tr><td class = \"rowNumber\" style = \"font-weight: bold; text-align: right;\">9</td><td style = \"text-align: left;\">9</td><td style = \"text-align: right;\">1</td><td style = \"text-align: right;\">1960.02</td><td style = \"text-align: right;\">362.35</td><td style = \"text-align: right;\">0</td><td style = \"text-align: right;\">0</td><td style = \"text-align: right;\">1</td><td style = \"text-align: right;\">1</td><td style = \"text-align: right;\">0</td><td style = \"text-align: right;\">400</td><td style = \"text-align: right;\">1</td><td style = \"text-align: right;\">1.1</td><td style = \"text-align: right;\">0.9</td></tr><tr><td class = \"rowNumber\" style = \"font-weight: bold; text-align: right;\">10</td><td style = \"text-align: left;\">10</td><td style = \"text-align: right;\">1</td><td style = \"text-align: right;\">490.68</td><td style = \"text-align: right;\">82.59</td><td style = \"text-align: right;\">0</td><td style = \"text-align: right;\">0</td><td style = \"text-align: right;\">1</td><td style = \"text-align: right;\">1</td><td style = \"text-align: right;\">0</td><td style = \"text-align: right;\">400</td><td style = \"text-align: right;\">1</td><td style = \"text-align: right;\">1.1</td><td style = \"text-align: right;\">0.9</td></tr><tr><td class = \"rowNumber\" style = \"font-weight: bold; text-align: right;\">11</td><td style = \"text-align: left;\">11</td><td style = \"text-align: right;\">1</td><td style = \"text-align: right;\">474.51</td><td style = \"text-align: right;\">88.26</td><td style = \"text-align: right;\">0</td><td style = \"text-align: right;\">0</td><td style = \"text-align: right;\">1</td><td style = \"text-align: right;\">1</td><td style = \"text-align: right;\">0</td><td style = \"text-align: right;\">400</td><td style = \"text-align: right;\">1</td><td style = \"text-align: right;\">1.1</td><td style = \"text-align: right;\">0.9</td></tr><tr><td class = \"rowNumber\" style = \"font-weight: bold; text-align: right;\">12</td><td style = \"text-align: left;\">12</td><td style = \"text-align: right;\">1</td><td style = \"text-align: right;\">1518.23</td><td style = \"text-align: right;\">421.96</td><td style = \"text-align: right;\">0</td><td style = \"text-align: right;\">0</td><td style = \"text-align: right;\">1</td><td style = \"text-align: right;\">1</td><td style = \"text-align: right;\">0</td><td style = \"text-align: right;\">400</td><td style = \"text-align: right;\">1</td><td style = \"text-align: right;\">1.1</td><td style = \"text-align: right;\">0.9</td></tr><tr><td class = \"rowNumber\" style = \"font-weight: bold; text-align: right;\">13</td><td style = \"text-align: left;\">13</td><td style = \"text-align: right;\">1</td><td style = \"text-align: right;\">2429.02</td><td style = \"text-align: right;\">546.6</td><td style = \"text-align: right;\">0</td><td style = \"text-align: right;\">0</td><td style = \"text-align: right;\">1</td><td style = \"text-align: right;\">1</td><td style = \"text-align: right;\">0</td><td style = \"text-align: right;\">400</td><td style = \"text-align: right;\">1</td><td style = \"text-align: right;\">1.1</td><td style = \"text-align: right;\">0.9</td></tr><tr><td style = \"text-align: right;\">&vellip;</td><td style = \"text-align: right;\">&vellip;</td><td style = \"text-align: right;\">&vellip;</td><td style = \"text-align: right;\">&vellip;</td><td style = \"text-align: right;\">&vellip;</td><td style = \"text-align: right;\">&vellip;</td><td style = \"text-align: right;\">&vellip;</td><td style = \"text-align: right;\">&vellip;</td><td style = \"text-align: right;\">&vellip;</td><td style = \"text-align: right;\">&vellip;</td><td style = \"text-align: right;\">&vellip;</td><td style = \"text-align: right;\">&vellip;</td><td style = \"text-align: right;\">&vellip;</td><td style = \"text-align: right;\">&vellip;</td></tr><tr><td class = \"rowNumber\" style = \"font-weight: bold; text-align: right;\">61</td><td style = \"text-align: left;\">24</td><td style = \"text-align: right;\">2</td><td style = \"text-align: right;\">571.88</td><td style = \"text-align: right;\">120.22</td><td style = \"text-align: right;\">0</td><td style = \"text-align: right;\">0</td><td style = \"text-align: right;\">1</td><td style = \"text-align: right;\">1</td><td style = \"text-align: right;\">0</td><td style = \"text-align: right;\">400</td><td style = \"text-align: right;\">1</td><td style = \"text-align: right;\">1.1</td><td style = \"text-align: right;\">0.9</td></tr><tr><td class = \"rowNumber\" style = \"font-weight: bold; text-align: right;\">62</td><td style = \"text-align: left;\">25</td><td style = \"text-align: right;\">2</td><td style = \"text-align: right;\">717.98</td><td style = \"text-align: right;\">95.21</td><td style = \"text-align: right;\">0</td><td style = \"text-align: right;\">0</td><td style = \"text-align: right;\">1</td><td style = \"text-align: right;\">1</td><td style = \"text-align: right;\">0</td><td style = \"text-align: right;\">400</td><td style = \"text-align: right;\">1</td><td style = \"text-align: right;\">1.1</td><td style = \"text-align: right;\">0.9</td></tr><tr><td class = \"rowNumber\" style = \"font-weight: bold; text-align: right;\">63</td><td style = \"text-align: left;\">25A</td><td style = \"text-align: right;\">2</td><td style = \"text-align: right;\">989.55</td><td style = \"text-align: right;\">181.43</td><td style = \"text-align: right;\">0</td><td style = \"text-align: right;\">0</td><td style = \"text-align: right;\">1</td><td style = \"text-align: right;\">1</td><td style = \"text-align: right;\">0</td><td style = \"text-align: right;\">400</td><td style = \"text-align: right;\">1</td><td style = \"text-align: right;\">1.1</td><td style = \"text-align: right;\">0.9</td></tr><tr><td class = \"rowNumber\" style = \"font-weight: bold; text-align: right;\">64</td><td style = \"text-align: left;\">26</td><td style = \"text-align: right;\">2</td><td style = \"text-align: right;\">170.46</td><td style = \"text-align: right;\">55.44</td><td style = \"text-align: right;\">0</td><td style = \"text-align: right;\">0</td><td style = \"text-align: right;\">1</td><td style = \"text-align: right;\">1</td><td style = \"text-align: right;\">0</td><td style = \"text-align: right;\">400</td><td style = \"text-align: right;\">1</td><td style = \"text-align: right;\">1.1</td><td style = \"text-align: right;\">0.9</td></tr><tr><td class = \"rowNumber\" style = \"font-weight: bold; text-align: right;\">65</td><td style = \"text-align: left;\">27E</td><td style = \"text-align: right;\">2</td><td style = \"text-align: right;\">598.87</td><td style = \"text-align: right;\">119.36</td><td style = \"text-align: right;\">0</td><td style = \"text-align: right;\">0</td><td style = \"text-align: right;\">1</td><td style = \"text-align: right;\">1</td><td style = \"text-align: right;\">0</td><td style = \"text-align: right;\">400</td><td style = \"text-align: right;\">1</td><td style = \"text-align: right;\">1.1</td><td style = \"text-align: right;\">0.9</td></tr><tr><td class = \"rowNumber\" style = \"font-weight: bold; text-align: right;\">66</td><td style = \"text-align: left;\">27W</td><td style = \"text-align: right;\">2</td><td style = \"text-align: right;\">827.02</td><td style = \"text-align: right;\">164.84</td><td style = \"text-align: right;\">0</td><td style = \"text-align: right;\">0</td><td style = \"text-align: right;\">1</td><td style = \"text-align: right;\">1</td><td style = \"text-align: right;\">0</td><td style = \"text-align: right;\">400</td><td style = \"text-align: right;\">1</td><td style = \"text-align: right;\">1.1</td><td style = \"text-align: right;\">0.9</td></tr><tr><td class = \"rowNumber\" style = \"font-weight: bold; text-align: right;\">67</td><td style = \"text-align: left;\">28</td><td style = \"text-align: right;\">2</td><td style = \"text-align: right;\">1680.03</td><td style = \"text-align: right;\">475.54</td><td style = \"text-align: right;\">0</td><td style = \"text-align: right;\">0</td><td style = \"text-align: right;\">1</td><td style = \"text-align: right;\">1</td><td style = \"text-align: right;\">0</td><td style = \"text-align: right;\">400</td><td style = \"text-align: right;\">1</td><td style = \"text-align: right;\">1.1</td><td style = \"text-align: right;\">0.9</td></tr><tr><td class = \"rowNumber\" style = \"font-weight: bold; text-align: right;\">68</td><td style = \"text-align: left;\">29</td><td style = \"text-align: right;\">2</td><td style = \"text-align: right;\">563.53</td><td style = \"text-align: right;\">112.32</td><td style = \"text-align: right;\">0</td><td style = \"text-align: right;\">0</td><td style = \"text-align: right;\">1</td><td style = \"text-align: right;\">1</td><td style = \"text-align: right;\">0</td><td style = \"text-align: right;\">400</td><td style = \"text-align: right;\">1</td><td style = \"text-align: right;\">1.1</td><td style = \"text-align: right;\">0.9</td></tr><tr><td class = \"rowNumber\" style = \"font-weight: bold; text-align: right;\">69</td><td style = \"text-align: left;\">30</td><td style = \"text-align: right;\">2</td><td style = \"text-align: right;\">376.51</td><td style = \"text-align: right;\">78.24</td><td style = \"text-align: right;\">0</td><td style = \"text-align: right;\">0</td><td style = \"text-align: right;\">1</td><td style = \"text-align: right;\">1</td><td style = \"text-align: right;\">0</td><td style = \"text-align: right;\">400</td><td style = \"text-align: right;\">1</td><td style = \"text-align: right;\">1.1</td><td style = \"text-align: right;\">0.9</td></tr><tr><td class = \"rowNumber\" style = \"font-weight: bold; text-align: right;\">70</td><td style = \"text-align: left;\">31</td><td style = \"text-align: right;\">2</td><td style = \"text-align: right;\">59.36</td><td style = \"text-align: right;\">10.56</td><td style = \"text-align: right;\">0</td><td style = \"text-align: right;\">0</td><td style = \"text-align: right;\">1</td><td style = \"text-align: right;\">1</td><td style = \"text-align: right;\">0</td><td style = \"text-align: right;\">400</td><td style = \"text-align: right;\">1</td><td style = \"text-align: right;\">1.1</td><td style = \"text-align: right;\">0.9</td></tr><tr><td class = \"rowNumber\" style = \"font-weight: bold; text-align: right;\">71</td><td style = \"text-align: left;\">32</td><td style = \"text-align: right;\">2</td><td style = \"text-align: right;\">375.31</td><td style = \"text-align: right;\">66.77</td><td style = \"text-align: right;\">0</td><td style = \"text-align: right;\">0</td><td style = \"text-align: right;\">1</td><td style = \"text-align: right;\">1</td><td style = \"text-align: right;\">0</td><td style = \"text-align: right;\">400</td><td style = \"text-align: right;\">1</td><td style = \"text-align: right;\">1.1</td><td style = \"text-align: right;\">0.9</td></tr><tr><td class = \"rowNumber\" style = \"font-weight: bold; text-align: right;\">72</td><td style = \"text-align: left;\">33</td><td style = \"text-align: right;\">2</td><td style = \"text-align: right;\">408.45</td><td style = \"text-align: right;\">90.41</td><td style = \"text-align: right;\">0</td><td style = \"text-align: right;\">0</td><td style = \"text-align: right;\">1</td><td style = \"text-align: right;\">1</td><td style = \"text-align: right;\">0</td><td style = \"text-align: right;\">400</td><td style = \"text-align: right;\">1</td><td style = \"text-align: right;\">1.1</td><td style = \"text-align: right;\">0.9</td></tr></tbody></table></div>"
      ],
      "text/latex": [
       "\\begin{tabular}{r|ccccccccccccc}\n",
       "\t& bus\\_i & type & pd & qd & gs & bs & area & vm & va & basekv & zone & vmax & vmin\\\\\n",
       "\t\\hline\n",
       "\t& String3 & Int64 & Float64 & Float64 & Int64 & Int64 & Int64 & Int64 & Int64 & Int64 & Int64 & Float64 & Float64\\\\\n",
       "\t\\hline\n",
       "\t1 & 1 & 1 & 2036.63 & 409.54 & 0 & 0 & 1 & 1 & 0 & 400 & 1 & 1.1 & 0.9 \\\\\n",
       "\t2 & 2 & 1 & 1734.71 & 228.96 & 0 & 0 & 1 & 1 & 0 & 400 & 1 & 1.1 & 0.9 \\\\\n",
       "\t3 & 3 & 1 & 877.9 & 89.24 & 0 & 0 & 1 & 1 & 0 & 400 & 1 & 1.1 & 0.9 \\\\\n",
       "\t4 & 4 & 1 & 1334.16 & 170.79 & 0 & 0 & 1 & 1 & 0 & 400 & 1 & 1.1 & 0.9 \\\\\n",
       "\t5 & 5 & 1 & 1701.55 & 341.88 & 0 & 0 & 1 & 1 & 0 & 400 & 1 & 1.1 & 0.9 \\\\\n",
       "\t6 & 6 & 1 & 1244.77 & 163.58 & 0 & 0 & 1 & 1 & 0 & 400 & 1 & 1.1 & 0.9 \\\\\n",
       "\t7 & 7 & 1 & 1341.61 & 244.76 & 0 & 0 & 1 & 1 & 0 & 400 & 1 & 1.1 & 0.9 \\\\\n",
       "\t8 & 8 & 1 & 3669.5 & 637.38 & 0 & 0 & 1 & 1 & 0 & 400 & 1 & 1.1 & 0.9 \\\\\n",
       "\t9 & 9 & 1 & 1960.02 & 362.35 & 0 & 0 & 1 & 1 & 0 & 400 & 1 & 1.1 & 0.9 \\\\\n",
       "\t10 & 10 & 1 & 490.68 & 82.59 & 0 & 0 & 1 & 1 & 0 & 400 & 1 & 1.1 & 0.9 \\\\\n",
       "\t11 & 11 & 1 & 474.51 & 88.26 & 0 & 0 & 1 & 1 & 0 & 400 & 1 & 1.1 & 0.9 \\\\\n",
       "\t12 & 12 & 1 & 1518.23 & 421.96 & 0 & 0 & 1 & 1 & 0 & 400 & 1 & 1.1 & 0.9 \\\\\n",
       "\t13 & 13 & 1 & 2429.02 & 546.6 & 0 & 0 & 1 & 1 & 0 & 400 & 1 & 1.1 & 0.9 \\\\\n",
       "\t14 & 14 & 1 & 1614.73 & 264.67 & 0 & 0 & 1 & 1 & 0 & 400 & 1 & 1.1 & 0.9 \\\\\n",
       "\t15 & 14A & 1 & 455.7 & 73.68 & 0 & 0 & 1 & 1 & 0 & 400 & 1 & 1.1 & 0.9 \\\\\n",
       "\t16 & 15 & 1 & 2584.23 & 399.68 & 0 & 0 & 1 & 1 & 0 & 400 & 1 & 1.1 & 0.9 \\\\\n",
       "\t17 & 16 & 1 & 184.39 & 29.95 & 0 & 0 & 1 & 1 & 0 & 400 & 1 & 1.1 & 0.9 \\\\\n",
       "\t18 & 17 & 1 & 161.82 & 27.26 & 0 & 0 & 1 & 1 & 0 & 400 & 1 & 1.1 & 0.9 \\\\\n",
       "\t19 & 18 & 1 & 1088.33 & 225.71 & 0 & 0 & 1 & 1 & 0 & 400 & 1 & 1.1 & 0.9 \\\\\n",
       "\t20 & 19 & 1 & 646.27 & 118.79 & 0 & 0 & 1 & 1 & 0 & 400 & 1 & 1.1 & 0.9 \\\\\n",
       "\t21 & 20 & 1 & 2079.47 & 431.91 & 0 & 0 & 1 & 1 & 0 & 400 & 1 & 1.1 & 0.9 \\\\\n",
       "\t22 & 21 & 1 & 1384.61 & 161.62 & 0 & 0 & 1 & 1 & 0 & 400 & 1 & 1.1 & 0.9 \\\\\n",
       "\t23 & 22 & 1 & 674.35 & 154.19 & 0 & 0 & 1 & 1 & 0 & 400 & 1 & 1.1 & 0.9 \\\\\n",
       "\t24 & 23 & 1 & 1973.87 & 373.93 & 0 & 0 & 1 & 1 & 0 & 400 & 1 & 1.1 & 0.9 \\\\\n",
       "\t25 & 24 & 1 & 571.88 & 120.22 & 0 & 0 & 1 & 1 & 0 & 400 & 1 & 1.1 & 0.9 \\\\\n",
       "\t26 & 25 & 1 & 717.98 & 95.21 & 0 & 0 & 1 & 1 & 0 & 400 & 1 & 1.1 & 0.9 \\\\\n",
       "\t27 & 25A & 1 & 989.55 & 181.43 & 0 & 0 & 1 & 1 & 0 & 400 & 1 & 1.1 & 0.9 \\\\\n",
       "\t28 & 26 & 1 & 170.46 & 55.44 & 0 & 0 & 1 & 1 & 0 & 400 & 1 & 1.1 & 0.9 \\\\\n",
       "\t29 & 27E & 1 & 598.87 & 119.36 & 0 & 0 & 1 & 1 & 0 & 400 & 1 & 1.1 & 0.9 \\\\\n",
       "\t30 & 27W & 1 & 827.02 & 164.84 & 0 & 0 & 1 & 1 & 0 & 400 & 1 & 1.1 & 0.9 \\\\\n",
       "\t$\\dots$ & $\\dots$ & $\\dots$ & $\\dots$ & $\\dots$ & $\\dots$ & $\\dots$ & $\\dots$ & $\\dots$ & $\\dots$ & $\\dots$ & $\\dots$ & $\\dots$ & $\\dots$ \\\\\n",
       "\\end{tabular}\n"
      ],
      "text/plain": [
       "\u001b[1m72×13 DataFrame\u001b[0m\n",
       "\u001b[1m Row \u001b[0m│\u001b[1m bus_i   \u001b[0m\u001b[1m type  \u001b[0m\u001b[1m pd      \u001b[0m\u001b[1m qd      \u001b[0m\u001b[1m gs    \u001b[0m\u001b[1m bs    \u001b[0m\u001b[1m area  \u001b[0m\u001b[1m vm    \u001b[0m\u001b[1m va    \u001b[0m\u001b[1m basekv \u001b[0m\u001b[1m zone  \u001b[0m\u001b[1m vmax    \u001b[0m\u001b[1m vmin    \u001b[0m\n",
       "     │\u001b[90m String3 \u001b[0m\u001b[90m Int64 \u001b[0m\u001b[90m Float64 \u001b[0m\u001b[90m Float64 \u001b[0m\u001b[90m Int64 \u001b[0m\u001b[90m Int64 \u001b[0m\u001b[90m Int64 \u001b[0m\u001b[90m Int64 \u001b[0m\u001b[90m Int64 \u001b[0m\u001b[90m Int64  \u001b[0m\u001b[90m Int64 \u001b[0m\u001b[90m Float64 \u001b[0m\u001b[90m Float64 \u001b[0m\n",
       "─────┼──────────────────────────────────────────────────────────────────────────────────────────────────────\n",
       "   1 │ 1            1  2036.63   409.54      0      0      1      1      0     400      1      1.1      0.9\n",
       "   2 │ 2            1  1734.71   228.96      0      0      1      1      0     400      1      1.1      0.9\n",
       "   3 │ 3            1   877.9     89.24      0      0      1      1      0     400      1      1.1      0.9\n",
       "   4 │ 4            1  1334.16   170.79      0      0      1      1      0     400      1      1.1      0.9\n",
       "   5 │ 5            1  1701.55   341.88      0      0      1      1      0     400      1      1.1      0.9\n",
       "   6 │ 6            1  1244.77   163.58      0      0      1      1      0     400      1      1.1      0.9\n",
       "   7 │ 7            1  1341.61   244.76      0      0      1      1      0     400      1      1.1      0.9\n",
       "   8 │ 8            1  3669.5    637.38      0      0      1      1      0     400      1      1.1      0.9\n",
       "   9 │ 9            1  1960.02   362.35      0      0      1      1      0     400      1      1.1      0.9\n",
       "  10 │ 10           1   490.68    82.59      0      0      1      1      0     400      1      1.1      0.9\n",
       "  11 │ 11           1   474.51    88.26      0      0      1      1      0     400      1      1.1      0.9\n",
       "  ⋮  │    ⋮       ⋮       ⋮        ⋮       ⋮      ⋮      ⋮      ⋮      ⋮      ⋮       ⋮       ⋮        ⋮\n",
       "  63 │ 25A          2   989.55   181.43      0      0      1      1      0     400      1      1.1      0.9\n",
       "  64 │ 26           2   170.46    55.44      0      0      1      1      0     400      1      1.1      0.9\n",
       "  65 │ 27E          2   598.87   119.36      0      0      1      1      0     400      1      1.1      0.9\n",
       "  66 │ 27W          2   827.02   164.84      0      0      1      1      0     400      1      1.1      0.9\n",
       "  67 │ 28           2  1680.03   475.54      0      0      1      1      0     400      1      1.1      0.9\n",
       "  68 │ 29           2   563.53   112.32      0      0      1      1      0     400      1      1.1      0.9\n",
       "  69 │ 30           2   376.51    78.24      0      0      1      1      0     400      1      1.1      0.9\n",
       "  70 │ 31           2    59.36    10.56      0      0      1      1      0     400      1      1.1      0.9\n",
       "  71 │ 32           2   375.31    66.77      0      0      1      1      0     400      1      1.1      0.9\n",
       "  72 │ 33           2   408.45    90.41      0      0      1      1      0     400      1      1.1      0.9\n",
       "\u001b[36m                                                                                             51 rows omitted\u001b[0m"
      ]
     },
     "execution_count": 4,
     "metadata": {},
     "output_type": "execute_result"
    }
   ],
   "source": [
    "bus"
   ]
  },
  {
   "cell_type": "markdown",
   "metadata": {},
   "source": [
    "Columns pd and qd indicate the [active and reactive power](https://en.wikipedia.org/wiki/AC_power#Active,_reactive,_and_apparent_power) withdrawal at the bus. (We will ignore qd for this notebook, since we are not considering full AC power flows.) We do not need any of other columns for our purposes."
   ]
  },
  {
   "cell_type": "code",
   "execution_count": 5,
   "metadata": {},
   "outputs": [
    {
     "ename": "LoadError",
     "evalue": "MethodError: no method matching _replace!(::Base.var\"#new#383\"{Tuple{Pair{Missing, Int64}}}, ::DataFrame, ::DataFrame, ::Int64)\n\n\u001b[0mClosest candidates are:\n\u001b[0m  _replace!(::Union{Function, Type}, \u001b[91m::AbstractArray\u001b[39m, \u001b[91m::AbstractArray\u001b[39m, ::Int64)\n\u001b[0m\u001b[90m   @\u001b[39m \u001b[90mBase\u001b[39m \u001b[90m\u001b[4mset.jl:791\u001b[24m\u001b[39m\n\u001b[0m  _replace!(::Union{Function, Type}, \u001b[91m::Dict{K, V}\u001b[39m, \u001b[91m::AbstractDict\u001b[39m, ::Int64) where {K, V}\n\u001b[0m\u001b[90m   @\u001b[39m \u001b[90mBase\u001b[39m \u001b[90m\u001b[4mset.jl:824\u001b[24m\u001b[39m\n\u001b[0m  _replace!(::Union{Function, Type}, \u001b[91m::Set{T}\u001b[39m, \u001b[91m::AbstractSet\u001b[39m, ::Int64) where T\n\u001b[0m\u001b[90m   @\u001b[39m \u001b[90mBase\u001b[39m \u001b[90m\u001b[4mset.jl:856\u001b[24m\u001b[39m\n\u001b[0m  ...\n",
     "output_type": "error",
     "traceback": [
      "MethodError: no method matching _replace!(::Base.var\"#new#383\"{Tuple{Pair{Missing, Int64}}}, ::DataFrame, ::DataFrame, ::Int64)\n\n\u001b[0mClosest candidates are:\n\u001b[0m  _replace!(::Union{Function, Type}, \u001b[91m::AbstractArray\u001b[39m, \u001b[91m::AbstractArray\u001b[39m, ::Int64)\n\u001b[0m\u001b[90m   @\u001b[39m \u001b[90mBase\u001b[39m \u001b[90m\u001b[4mset.jl:791\u001b[24m\u001b[39m\n\u001b[0m  _replace!(::Union{Function, Type}, \u001b[91m::Dict{K, V}\u001b[39m, \u001b[91m::AbstractDict\u001b[39m, ::Int64) where {K, V}\n\u001b[0m\u001b[90m   @\u001b[39m \u001b[90mBase\u001b[39m \u001b[90m\u001b[4mset.jl:824\u001b[24m\u001b[39m\n\u001b[0m  _replace!(::Union{Function, Type}, \u001b[91m::Set{T}\u001b[39m, \u001b[91m::AbstractSet\u001b[39m, ::Int64) where T\n\u001b[0m\u001b[90m   @\u001b[39m \u001b[90mBase\u001b[39m \u001b[90m\u001b[4mset.jl:856\u001b[24m\u001b[39m\n\u001b[0m  ...\n",
      "",
      "Stacktrace:",
      " [1] replace_pairs!(res::DataFrame, A::DataFrame, count::Int64, old_new::Tuple{Pair{Missing, Int64}})",
      "   @ Base .\\set.jl:616",
      " [2] replace!(A::DataFrame, old_new::Pair{Missing, Int64}; count::Int64)",
      "   @ Base .\\set.jl:606",
      " [3] replace!(A::DataFrame, old_new::Pair{Missing, Int64})",
      "   @ Base .\\set.jl:606",
      " [4] top-level scope",
      "   @ In[5]:1"
     ]
    }
   ],
   "source": [
    "replace!(gen, missing => 0);"
   ]
  },
  {
   "cell_type": "code",
   "execution_count": 6,
   "metadata": {},
   "outputs": [
    {
     "data": {
      "text/html": [
       "<div><div style = \"float: left;\"><span>422×22 DataFrame</span></div><div style = \"float: right;\"><span style = \"font-style: italic;\">397 rows omitted</span></div><div style = \"clear: both;\"></div></div><div class = \"data-frame\" style = \"overflow-x: scroll;\"><table class = \"data-frame\" style = \"margin-bottom: 6px;\"><thead><tr class = \"header\"><th class = \"rowNumber\" style = \"font-weight: bold; text-align: right;\">Row</th><th style = \"text-align: left;\">bus</th><th style = \"text-align: left;\">pg</th><th style = \"text-align: left;\">qg</th><th style = \"text-align: left;\">qmax</th><th style = \"text-align: left;\">qmin</th><th style = \"text-align: left;\">vg</th><th style = \"text-align: left;\">mbase</th><th style = \"text-align: left;\">status</th><th style = \"text-align: left;\">pmax</th><th style = \"text-align: left;\">pmin</th><th style = \"text-align: left;\">pc1</th><th style = \"text-align: left;\">pc2</th><th style = \"text-align: left;\">qc1min</th><th style = \"text-align: left;\">qc1max</th><th style = \"text-align: left;\">qc2min</th><th style = \"text-align: left;\">qc2max</th><th style = \"text-align: left;\">ramp_agc</th><th style = \"text-align: left;\">ramp_10</th><th style = \"text-align: left;\">ramp_30</th><th style = \"text-align: left;\">ramp_q</th><th style = \"text-align: left;\">apf</th><th style = \"text-align: left;\">id</th></tr><tr class = \"subheader headerLastRow\"><th class = \"rowNumber\" style = \"font-weight: bold; text-align: right;\"></th><th title = \"String3\" style = \"text-align: left;\">String3</th><th title = \"Float64\" style = \"text-align: left;\">Float64</th><th title = \"Int64\" style = \"text-align: left;\">Int64</th><th title = \"Float64\" style = \"text-align: left;\">Float64</th><th title = \"Float64\" style = \"text-align: left;\">Float64</th><th title = \"Int64\" style = \"text-align: left;\">Int64</th><th title = \"Int64\" style = \"text-align: left;\">Int64</th><th title = \"Int64\" style = \"text-align: left;\">Int64</th><th title = \"Int64\" style = \"text-align: left;\">Int64</th><th title = \"Int64\" style = \"text-align: left;\">Int64</th><th title = \"Int64\" style = \"text-align: left;\">Int64</th><th title = \"Int64\" style = \"text-align: left;\">Int64</th><th title = \"Int64\" style = \"text-align: left;\">Int64</th><th title = \"Int64\" style = \"text-align: left;\">Int64</th><th title = \"Int64\" style = \"text-align: left;\">Int64</th><th title = \"Int64\" style = \"text-align: left;\">Int64</th><th title = \"Int64\" style = \"text-align: left;\">Int64</th><th title = \"Int64\" style = \"text-align: left;\">Int64</th><th title = \"Int64\" style = \"text-align: left;\">Int64</th><th title = \"Int64\" style = \"text-align: left;\">Int64</th><th title = \"Int64\" style = \"text-align: left;\">Int64</th><th title = \"Int64\" style = \"text-align: left;\">Int64</th></tr></thead><tbody><tr><td class = \"rowNumber\" style = \"font-weight: bold; text-align: right;\">1</td><td style = \"text-align: left;\">1</td><td style = \"text-align: right;\">0.0</td><td style = \"text-align: right;\">0</td><td style = \"text-align: right;\">0.0</td><td style = \"text-align: right;\">0.0</td><td style = \"text-align: right;\">1</td><td style = \"text-align: right;\">100</td><td style = \"text-align: right;\">1</td><td style = \"text-align: right;\">1000</td><td style = \"text-align: right;\">0</td><td style = \"text-align: right;\">0</td><td style = \"text-align: right;\">0</td><td style = \"text-align: right;\">0</td><td style = \"text-align: right;\">0</td><td style = \"text-align: right;\">0</td><td style = \"text-align: right;\">0</td><td style = \"text-align: right;\">0</td><td style = \"text-align: right;\">0</td><td style = \"text-align: right;\">0</td><td style = \"text-align: right;\">0</td><td style = \"text-align: right;\">0</td><td style = \"text-align: right;\">1</td></tr><tr><td class = \"rowNumber\" style = \"font-weight: bold; text-align: right;\">2</td><td style = \"text-align: left;\">1</td><td style = \"text-align: right;\">0.0</td><td style = \"text-align: right;\">0</td><td style = \"text-align: right;\">0.0</td><td style = \"text-align: right;\">0.0</td><td style = \"text-align: right;\">1</td><td style = \"text-align: right;\">100</td><td style = \"text-align: right;\">1</td><td style = \"text-align: right;\">1000</td><td style = \"text-align: right;\">0</td><td style = \"text-align: right;\">0</td><td style = \"text-align: right;\">0</td><td style = \"text-align: right;\">0</td><td style = \"text-align: right;\">0</td><td style = \"text-align: right;\">0</td><td style = \"text-align: right;\">0</td><td style = \"text-align: right;\">0</td><td style = \"text-align: right;\">0</td><td style = \"text-align: right;\">0</td><td style = \"text-align: right;\">0</td><td style = \"text-align: right;\">0</td><td style = \"text-align: right;\">2</td></tr><tr><td class = \"rowNumber\" style = \"font-weight: bold; text-align: right;\">3</td><td style = \"text-align: left;\">1</td><td style = \"text-align: right;\">130.0</td><td style = \"text-align: right;\">0</td><td style = \"text-align: right;\">12.18</td><td style = \"text-align: right;\">-12.18</td><td style = \"text-align: right;\">1</td><td style = \"text-align: right;\">100</td><td style = \"text-align: right;\">1</td><td style = \"text-align: right;\">1000</td><td style = \"text-align: right;\">0</td><td style = \"text-align: right;\">0</td><td style = \"text-align: right;\">0</td><td style = \"text-align: right;\">0</td><td style = \"text-align: right;\">0</td><td style = \"text-align: right;\">0</td><td style = \"text-align: right;\">0</td><td style = \"text-align: right;\">0</td><td style = \"text-align: right;\">0</td><td style = \"text-align: right;\">0</td><td style = \"text-align: right;\">0</td><td style = \"text-align: right;\">0</td><td style = \"text-align: right;\">3</td></tr><tr><td class = \"rowNumber\" style = \"font-weight: bold; text-align: right;\">4</td><td style = \"text-align: left;\">1</td><td style = \"text-align: right;\">0.0</td><td style = \"text-align: right;\">0</td><td style = \"text-align: right;\">0.0</td><td style = \"text-align: right;\">0.0</td><td style = \"text-align: right;\">1</td><td style = \"text-align: right;\">100</td><td style = \"text-align: right;\">1</td><td style = \"text-align: right;\">1000</td><td style = \"text-align: right;\">0</td><td style = \"text-align: right;\">0</td><td style = \"text-align: right;\">0</td><td style = \"text-align: right;\">0</td><td style = \"text-align: right;\">0</td><td style = \"text-align: right;\">0</td><td style = \"text-align: right;\">0</td><td style = \"text-align: right;\">0</td><td style = \"text-align: right;\">0</td><td style = \"text-align: right;\">0</td><td style = \"text-align: right;\">0</td><td style = \"text-align: right;\">0</td><td style = \"text-align: right;\">4</td></tr><tr><td class = \"rowNumber\" style = \"font-weight: bold; text-align: right;\">5</td><td style = \"text-align: left;\">1</td><td style = \"text-align: right;\">1516.8</td><td style = \"text-align: right;\">0</td><td style = \"text-align: right;\">165.7</td><td style = \"text-align: right;\">-165.7</td><td style = \"text-align: right;\">1</td><td style = \"text-align: right;\">100</td><td style = \"text-align: right;\">1</td><td style = \"text-align: right;\">1000</td><td style = \"text-align: right;\">0</td><td style = \"text-align: right;\">0</td><td style = \"text-align: right;\">0</td><td style = \"text-align: right;\">0</td><td style = \"text-align: right;\">0</td><td style = \"text-align: right;\">0</td><td style = \"text-align: right;\">0</td><td style = \"text-align: right;\">0</td><td style = \"text-align: right;\">0</td><td style = \"text-align: right;\">0</td><td style = \"text-align: right;\">0</td><td style = \"text-align: right;\">0</td><td style = \"text-align: right;\">5</td></tr><tr><td class = \"rowNumber\" style = \"font-weight: bold; text-align: right;\">6</td><td style = \"text-align: left;\">1</td><td style = \"text-align: right;\">0.0</td><td style = \"text-align: right;\">0</td><td style = \"text-align: right;\">0.0</td><td style = \"text-align: right;\">0.0</td><td style = \"text-align: right;\">1</td><td style = \"text-align: right;\">100</td><td style = \"text-align: right;\">1</td><td style = \"text-align: right;\">1000</td><td style = \"text-align: right;\">0</td><td style = \"text-align: right;\">0</td><td style = \"text-align: right;\">0</td><td style = \"text-align: right;\">0</td><td style = \"text-align: right;\">0</td><td style = \"text-align: right;\">0</td><td style = \"text-align: right;\">0</td><td style = \"text-align: right;\">0</td><td style = \"text-align: right;\">0</td><td style = \"text-align: right;\">0</td><td style = \"text-align: right;\">0</td><td style = \"text-align: right;\">0</td><td style = \"text-align: right;\">6</td></tr><tr><td class = \"rowNumber\" style = \"font-weight: bold; text-align: right;\">7</td><td style = \"text-align: left;\">1</td><td style = \"text-align: right;\">51.0</td><td style = \"text-align: right;\">0</td><td style = \"text-align: right;\">5.9</td><td style = \"text-align: right;\">-5.9</td><td style = \"text-align: right;\">1</td><td style = \"text-align: right;\">100</td><td style = \"text-align: right;\">1</td><td style = \"text-align: right;\">1000</td><td style = \"text-align: right;\">0</td><td style = \"text-align: right;\">0</td><td style = \"text-align: right;\">0</td><td style = \"text-align: right;\">0</td><td style = \"text-align: right;\">0</td><td style = \"text-align: right;\">0</td><td style = \"text-align: right;\">0</td><td style = \"text-align: right;\">0</td><td style = \"text-align: right;\">0</td><td style = \"text-align: right;\">0</td><td style = \"text-align: right;\">0</td><td style = \"text-align: right;\">0</td><td style = \"text-align: right;\">7</td></tr><tr><td class = \"rowNumber\" style = \"font-weight: bold; text-align: right;\">8</td><td style = \"text-align: left;\">1</td><td style = \"text-align: right;\">0.0</td><td style = \"text-align: right;\">0</td><td style = \"text-align: right;\">0.0</td><td style = \"text-align: right;\">0.0</td><td style = \"text-align: right;\">1</td><td style = \"text-align: right;\">100</td><td style = \"text-align: right;\">1</td><td style = \"text-align: right;\">1000</td><td style = \"text-align: right;\">0</td><td style = \"text-align: right;\">0</td><td style = \"text-align: right;\">0</td><td style = \"text-align: right;\">0</td><td style = \"text-align: right;\">0</td><td style = \"text-align: right;\">0</td><td style = \"text-align: right;\">0</td><td style = \"text-align: right;\">0</td><td style = \"text-align: right;\">0</td><td style = \"text-align: right;\">0</td><td style = \"text-align: right;\">0</td><td style = \"text-align: right;\">0</td><td style = \"text-align: right;\">8</td></tr><tr><td class = \"rowNumber\" style = \"font-weight: bold; text-align: right;\">9</td><td style = \"text-align: left;\">1</td><td style = \"text-align: right;\">0.0</td><td style = \"text-align: right;\">0</td><td style = \"text-align: right;\">0.0</td><td style = \"text-align: right;\">0.0</td><td style = \"text-align: right;\">1</td><td style = \"text-align: right;\">100</td><td style = \"text-align: right;\">1</td><td style = \"text-align: right;\">1000</td><td style = \"text-align: right;\">0</td><td style = \"text-align: right;\">0</td><td style = \"text-align: right;\">0</td><td style = \"text-align: right;\">0</td><td style = \"text-align: right;\">0</td><td style = \"text-align: right;\">0</td><td style = \"text-align: right;\">0</td><td style = \"text-align: right;\">0</td><td style = \"text-align: right;\">0</td><td style = \"text-align: right;\">0</td><td style = \"text-align: right;\">0</td><td style = \"text-align: right;\">0</td><td style = \"text-align: right;\">9</td></tr><tr><td class = \"rowNumber\" style = \"font-weight: bold; text-align: right;\">10</td><td style = \"text-align: left;\">1</td><td style = \"text-align: right;\">101.8</td><td style = \"text-align: right;\">0</td><td style = \"text-align: right;\">118.7</td><td style = \"text-align: right;\">-118.7</td><td style = \"text-align: right;\">1</td><td style = \"text-align: right;\">100</td><td style = \"text-align: right;\">1</td><td style = \"text-align: right;\">1000</td><td style = \"text-align: right;\">0</td><td style = \"text-align: right;\">0</td><td style = \"text-align: right;\">0</td><td style = \"text-align: right;\">0</td><td style = \"text-align: right;\">0</td><td style = \"text-align: right;\">0</td><td style = \"text-align: right;\">0</td><td style = \"text-align: right;\">0</td><td style = \"text-align: right;\">0</td><td style = \"text-align: right;\">0</td><td style = \"text-align: right;\">0</td><td style = \"text-align: right;\">0</td><td style = \"text-align: right;\">10</td></tr><tr><td class = \"rowNumber\" style = \"font-weight: bold; text-align: right;\">11</td><td style = \"text-align: left;\">1</td><td style = \"text-align: right;\">510.3</td><td style = \"text-align: right;\">0</td><td style = \"text-align: right;\">370.3</td><td style = \"text-align: right;\">-370.3</td><td style = \"text-align: right;\">1</td><td style = \"text-align: right;\">100</td><td style = \"text-align: right;\">1</td><td style = \"text-align: right;\">1000</td><td style = \"text-align: right;\">0</td><td style = \"text-align: right;\">0</td><td style = \"text-align: right;\">0</td><td style = \"text-align: right;\">0</td><td style = \"text-align: right;\">0</td><td style = \"text-align: right;\">0</td><td style = \"text-align: right;\">0</td><td style = \"text-align: right;\">0</td><td style = \"text-align: right;\">0</td><td style = \"text-align: right;\">0</td><td style = \"text-align: right;\">0</td><td style = \"text-align: right;\">0</td><td style = \"text-align: right;\">11</td></tr><tr><td class = \"rowNumber\" style = \"font-weight: bold; text-align: right;\">12</td><td style = \"text-align: left;\">1</td><td style = \"text-align: right;\">0.0</td><td style = \"text-align: right;\">0</td><td style = \"text-align: right;\">140.0</td><td style = \"text-align: right;\">-140.0</td><td style = \"text-align: right;\">1</td><td style = \"text-align: right;\">100</td><td style = \"text-align: right;\">1</td><td style = \"text-align: right;\">1000</td><td style = \"text-align: right;\">0</td><td style = \"text-align: right;\">0</td><td style = \"text-align: right;\">0</td><td style = \"text-align: right;\">0</td><td style = \"text-align: right;\">0</td><td style = \"text-align: right;\">0</td><td style = \"text-align: right;\">0</td><td style = \"text-align: right;\">0</td><td style = \"text-align: right;\">0</td><td style = \"text-align: right;\">0</td><td style = \"text-align: right;\">0</td><td style = \"text-align: right;\">0</td><td style = \"text-align: right;\">12</td></tr><tr><td class = \"rowNumber\" style = \"font-weight: bold; text-align: right;\">13</td><td style = \"text-align: left;\">2</td><td style = \"text-align: right;\">0.0</td><td style = \"text-align: right;\">0</td><td style = \"text-align: right;\">0.0</td><td style = \"text-align: right;\">0.0</td><td style = \"text-align: right;\">1</td><td style = \"text-align: right;\">100</td><td style = \"text-align: right;\">1</td><td style = \"text-align: right;\">1000</td><td style = \"text-align: right;\">0</td><td style = \"text-align: right;\">0</td><td style = \"text-align: right;\">0</td><td style = \"text-align: right;\">0</td><td style = \"text-align: right;\">0</td><td style = \"text-align: right;\">0</td><td style = \"text-align: right;\">0</td><td style = \"text-align: right;\">0</td><td style = \"text-align: right;\">0</td><td style = \"text-align: right;\">0</td><td style = \"text-align: right;\">0</td><td style = \"text-align: right;\">0</td><td style = \"text-align: right;\">13</td></tr><tr><td style = \"text-align: right;\">&vellip;</td><td style = \"text-align: right;\">&vellip;</td><td style = \"text-align: right;\">&vellip;</td><td style = \"text-align: right;\">&vellip;</td><td style = \"text-align: right;\">&vellip;</td><td style = \"text-align: right;\">&vellip;</td><td style = \"text-align: right;\">&vellip;</td><td style = \"text-align: right;\">&vellip;</td><td style = \"text-align: right;\">&vellip;</td><td style = \"text-align: right;\">&vellip;</td><td style = \"text-align: right;\">&vellip;</td><td style = \"text-align: right;\">&vellip;</td><td style = \"text-align: right;\">&vellip;</td><td style = \"text-align: right;\">&vellip;</td><td style = \"text-align: right;\">&vellip;</td><td style = \"text-align: right;\">&vellip;</td><td style = \"text-align: right;\">&vellip;</td><td style = \"text-align: right;\">&vellip;</td><td style = \"text-align: right;\">&vellip;</td><td style = \"text-align: right;\">&vellip;</td><td style = \"text-align: right;\">&vellip;</td><td style = \"text-align: right;\">&vellip;</td><td style = \"text-align: right;\">&vellip;</td></tr><tr><td class = \"rowNumber\" style = \"font-weight: bold; text-align: right;\">411</td><td style = \"text-align: left;\">33</td><td style = \"text-align: right;\">0.0</td><td style = \"text-align: right;\">0</td><td style = \"text-align: right;\">0.0</td><td style = \"text-align: right;\">0.0</td><td style = \"text-align: right;\">1</td><td style = \"text-align: right;\">100</td><td style = \"text-align: right;\">1</td><td style = \"text-align: right;\">1000</td><td style = \"text-align: right;\">0</td><td style = \"text-align: right;\">0</td><td style = \"text-align: right;\">0</td><td style = \"text-align: right;\">0</td><td style = \"text-align: right;\">0</td><td style = \"text-align: right;\">0</td><td style = \"text-align: right;\">0</td><td style = \"text-align: right;\">0</td><td style = \"text-align: right;\">0</td><td style = \"text-align: right;\">0</td><td style = \"text-align: right;\">0</td><td style = \"text-align: right;\">0</td><td style = \"text-align: right;\">411</td></tr><tr><td class = \"rowNumber\" style = \"font-weight: bold; text-align: right;\">412</td><td style = \"text-align: left;\">33</td><td style = \"text-align: right;\">0.0</td><td style = \"text-align: right;\">0</td><td style = \"text-align: right;\">0.0</td><td style = \"text-align: right;\">0.0</td><td style = \"text-align: right;\">1</td><td style = \"text-align: right;\">100</td><td style = \"text-align: right;\">1</td><td style = \"text-align: right;\">1000</td><td style = \"text-align: right;\">0</td><td style = \"text-align: right;\">0</td><td style = \"text-align: right;\">0</td><td style = \"text-align: right;\">0</td><td style = \"text-align: right;\">0</td><td style = \"text-align: right;\">0</td><td style = \"text-align: right;\">0</td><td style = \"text-align: right;\">0</td><td style = \"text-align: right;\">0</td><td style = \"text-align: right;\">0</td><td style = \"text-align: right;\">0</td><td style = \"text-align: right;\">0</td><td style = \"text-align: right;\">412</td></tr><tr><td class = \"rowNumber\" style = \"font-weight: bold; text-align: right;\">413</td><td style = \"text-align: left;\">33</td><td style = \"text-align: right;\">0.0</td><td style = \"text-align: right;\">0</td><td style = \"text-align: right;\">0.0</td><td style = \"text-align: right;\">0.0</td><td style = \"text-align: right;\">1</td><td style = \"text-align: right;\">100</td><td style = \"text-align: right;\">1</td><td style = \"text-align: right;\">1000</td><td style = \"text-align: right;\">0</td><td style = \"text-align: right;\">0</td><td style = \"text-align: right;\">0</td><td style = \"text-align: right;\">0</td><td style = \"text-align: right;\">0</td><td style = \"text-align: right;\">0</td><td style = \"text-align: right;\">0</td><td style = \"text-align: right;\">0</td><td style = \"text-align: right;\">0</td><td style = \"text-align: right;\">0</td><td style = \"text-align: right;\">0</td><td style = \"text-align: right;\">0</td><td style = \"text-align: right;\">413</td></tr><tr><td class = \"rowNumber\" style = \"font-weight: bold; text-align: right;\">414</td><td style = \"text-align: left;\">33</td><td style = \"text-align: right;\">0.0</td><td style = \"text-align: right;\">0</td><td style = \"text-align: right;\">0.0</td><td style = \"text-align: right;\">0.0</td><td style = \"text-align: right;\">1</td><td style = \"text-align: right;\">100</td><td style = \"text-align: right;\">1</td><td style = \"text-align: right;\">1000</td><td style = \"text-align: right;\">0</td><td style = \"text-align: right;\">0</td><td style = \"text-align: right;\">0</td><td style = \"text-align: right;\">0</td><td style = \"text-align: right;\">0</td><td style = \"text-align: right;\">0</td><td style = \"text-align: right;\">0</td><td style = \"text-align: right;\">0</td><td style = \"text-align: right;\">0</td><td style = \"text-align: right;\">0</td><td style = \"text-align: right;\">0</td><td style = \"text-align: right;\">0</td><td style = \"text-align: right;\">414</td></tr><tr><td class = \"rowNumber\" style = \"font-weight: bold; text-align: right;\">415</td><td style = \"text-align: left;\">33</td><td style = \"text-align: right;\">10.0</td><td style = \"text-align: right;\">0</td><td style = \"text-align: right;\">2.3</td><td style = \"text-align: right;\">-2.3</td><td style = \"text-align: right;\">1</td><td style = \"text-align: right;\">100</td><td style = \"text-align: right;\">1</td><td style = \"text-align: right;\">1000</td><td style = \"text-align: right;\">0</td><td style = \"text-align: right;\">0</td><td style = \"text-align: right;\">0</td><td style = \"text-align: right;\">0</td><td style = \"text-align: right;\">0</td><td style = \"text-align: right;\">0</td><td style = \"text-align: right;\">0</td><td style = \"text-align: right;\">0</td><td style = \"text-align: right;\">0</td><td style = \"text-align: right;\">0</td><td style = \"text-align: right;\">0</td><td style = \"text-align: right;\">0</td><td style = \"text-align: right;\">415</td></tr><tr><td class = \"rowNumber\" style = \"font-weight: bold; text-align: right;\">416</td><td style = \"text-align: left;\">33</td><td style = \"text-align: right;\">0.0</td><td style = \"text-align: right;\">0</td><td style = \"text-align: right;\">0.0</td><td style = \"text-align: right;\">0.0</td><td style = \"text-align: right;\">1</td><td style = \"text-align: right;\">100</td><td style = \"text-align: right;\">1</td><td style = \"text-align: right;\">1000</td><td style = \"text-align: right;\">0</td><td style = \"text-align: right;\">0</td><td style = \"text-align: right;\">0</td><td style = \"text-align: right;\">0</td><td style = \"text-align: right;\">0</td><td style = \"text-align: right;\">0</td><td style = \"text-align: right;\">0</td><td style = \"text-align: right;\">0</td><td style = \"text-align: right;\">0</td><td style = \"text-align: right;\">0</td><td style = \"text-align: right;\">0</td><td style = \"text-align: right;\">0</td><td style = \"text-align: right;\">416</td></tr><tr><td class = \"rowNumber\" style = \"font-weight: bold; text-align: right;\">417</td><td style = \"text-align: left;\">33</td><td style = \"text-align: right;\">0.0</td><td style = \"text-align: right;\">0</td><td style = \"text-align: right;\">0.0</td><td style = \"text-align: right;\">0.0</td><td style = \"text-align: right;\">1</td><td style = \"text-align: right;\">100</td><td style = \"text-align: right;\">1</td><td style = \"text-align: right;\">1000</td><td style = \"text-align: right;\">0</td><td style = \"text-align: right;\">0</td><td style = \"text-align: right;\">0</td><td style = \"text-align: right;\">0</td><td style = \"text-align: right;\">0</td><td style = \"text-align: right;\">0</td><td style = \"text-align: right;\">0</td><td style = \"text-align: right;\">0</td><td style = \"text-align: right;\">0</td><td style = \"text-align: right;\">0</td><td style = \"text-align: right;\">0</td><td style = \"text-align: right;\">0</td><td style = \"text-align: right;\">417</td></tr><tr><td class = \"rowNumber\" style = \"font-weight: bold; text-align: right;\">418</td><td style = \"text-align: left;\">33</td><td style = \"text-align: right;\">0.0</td><td style = \"text-align: right;\">0</td><td style = \"text-align: right;\">0.0</td><td style = \"text-align: right;\">0.0</td><td style = \"text-align: right;\">1</td><td style = \"text-align: right;\">100</td><td style = \"text-align: right;\">1</td><td style = \"text-align: right;\">1000</td><td style = \"text-align: right;\">0</td><td style = \"text-align: right;\">0</td><td style = \"text-align: right;\">0</td><td style = \"text-align: right;\">0</td><td style = \"text-align: right;\">0</td><td style = \"text-align: right;\">0</td><td style = \"text-align: right;\">0</td><td style = \"text-align: right;\">0</td><td style = \"text-align: right;\">0</td><td style = \"text-align: right;\">0</td><td style = \"text-align: right;\">0</td><td style = \"text-align: right;\">0</td><td style = \"text-align: right;\">418</td></tr><tr><td class = \"rowNumber\" style = \"font-weight: bold; text-align: right;\">419</td><td style = \"text-align: left;\">33</td><td style = \"text-align: right;\">0.0</td><td style = \"text-align: right;\">0</td><td style = \"text-align: right;\">0.0</td><td style = \"text-align: right;\">0.0</td><td style = \"text-align: right;\">1</td><td style = \"text-align: right;\">100</td><td style = \"text-align: right;\">1</td><td style = \"text-align: right;\">1000</td><td style = \"text-align: right;\">0</td><td style = \"text-align: right;\">0</td><td style = \"text-align: right;\">0</td><td style = \"text-align: right;\">0</td><td style = \"text-align: right;\">0</td><td style = \"text-align: right;\">0</td><td style = \"text-align: right;\">0</td><td style = \"text-align: right;\">0</td><td style = \"text-align: right;\">0</td><td style = \"text-align: right;\">0</td><td style = \"text-align: right;\">0</td><td style = \"text-align: right;\">0</td><td style = \"text-align: right;\">419</td></tr><tr><td class = \"rowNumber\" style = \"font-weight: bold; text-align: right;\">420</td><td style = \"text-align: left;\">33</td><td style = \"text-align: right;\">20.4</td><td style = \"text-align: right;\">0</td><td style = \"text-align: right;\">1.7</td><td style = \"text-align: right;\">-1.7</td><td style = \"text-align: right;\">1</td><td style = \"text-align: right;\">100</td><td style = \"text-align: right;\">1</td><td style = \"text-align: right;\">1000</td><td style = \"text-align: right;\">0</td><td style = \"text-align: right;\">0</td><td style = \"text-align: right;\">0</td><td style = \"text-align: right;\">0</td><td style = \"text-align: right;\">0</td><td style = \"text-align: right;\">0</td><td style = \"text-align: right;\">0</td><td style = \"text-align: right;\">0</td><td style = \"text-align: right;\">0</td><td style = \"text-align: right;\">0</td><td style = \"text-align: right;\">0</td><td style = \"text-align: right;\">0</td><td style = \"text-align: right;\">420</td></tr><tr><td class = \"rowNumber\" style = \"font-weight: bold; text-align: right;\">421</td><td style = \"text-align: left;\">33</td><td style = \"text-align: right;\">332.9</td><td style = \"text-align: right;\">0</td><td style = \"text-align: right;\">14.7</td><td style = \"text-align: right;\">-14.7</td><td style = \"text-align: right;\">1</td><td style = \"text-align: right;\">100</td><td style = \"text-align: right;\">1</td><td style = \"text-align: right;\">1000</td><td style = \"text-align: right;\">0</td><td style = \"text-align: right;\">0</td><td style = \"text-align: right;\">0</td><td style = \"text-align: right;\">0</td><td style = \"text-align: right;\">0</td><td style = \"text-align: right;\">0</td><td style = \"text-align: right;\">0</td><td style = \"text-align: right;\">0</td><td style = \"text-align: right;\">0</td><td style = \"text-align: right;\">0</td><td style = \"text-align: right;\">0</td><td style = \"text-align: right;\">0</td><td style = \"text-align: right;\">421</td></tr><tr><td class = \"rowNumber\" style = \"font-weight: bold; text-align: right;\">422</td><td style = \"text-align: left;\">33</td><td style = \"text-align: right;\">0.0</td><td style = \"text-align: right;\">0</td><td style = \"text-align: right;\">91.6</td><td style = \"text-align: right;\">-91.6</td><td style = \"text-align: right;\">1</td><td style = \"text-align: right;\">100</td><td style = \"text-align: right;\">1</td><td style = \"text-align: right;\">1000</td><td style = \"text-align: right;\">0</td><td style = \"text-align: right;\">0</td><td style = \"text-align: right;\">0</td><td style = \"text-align: right;\">0</td><td style = \"text-align: right;\">0</td><td style = \"text-align: right;\">0</td><td style = \"text-align: right;\">0</td><td style = \"text-align: right;\">0</td><td style = \"text-align: right;\">0</td><td style = \"text-align: right;\">0</td><td style = \"text-align: right;\">0</td><td style = \"text-align: right;\">0</td><td style = \"text-align: right;\">422</td></tr></tbody></table></div>"
      ],
      "text/latex": [
       "\\begin{tabular}{r|ccccccccccccccccc}\n",
       "\t& bus & pg & qg & qmax & qmin & vg & mbase & status & pmax & pmin & pc1 & pc2 & qc1min & qc1max & qc2min & qc2max & \\\\\n",
       "\t\\hline\n",
       "\t& String3 & Float64 & Int64 & Float64 & Float64 & Int64 & Int64 & Int64 & Int64 & Int64 & Int64 & Int64 & Int64 & Int64 & Int64 & Int64 & \\\\\n",
       "\t\\hline\n",
       "\t1 & 1 & 0.0 & 0 & 0.0 & 0.0 & 1 & 100 & 1 & 1000 & 0 & 0 & 0 & 0 & 0 & 0 & 0 & $\\dots$ \\\\\n",
       "\t2 & 1 & 0.0 & 0 & 0.0 & 0.0 & 1 & 100 & 1 & 1000 & 0 & 0 & 0 & 0 & 0 & 0 & 0 & $\\dots$ \\\\\n",
       "\t3 & 1 & 130.0 & 0 & 12.18 & -12.18 & 1 & 100 & 1 & 1000 & 0 & 0 & 0 & 0 & 0 & 0 & 0 & $\\dots$ \\\\\n",
       "\t4 & 1 & 0.0 & 0 & 0.0 & 0.0 & 1 & 100 & 1 & 1000 & 0 & 0 & 0 & 0 & 0 & 0 & 0 & $\\dots$ \\\\\n",
       "\t5 & 1 & 1516.8 & 0 & 165.7 & -165.7 & 1 & 100 & 1 & 1000 & 0 & 0 & 0 & 0 & 0 & 0 & 0 & $\\dots$ \\\\\n",
       "\t6 & 1 & 0.0 & 0 & 0.0 & 0.0 & 1 & 100 & 1 & 1000 & 0 & 0 & 0 & 0 & 0 & 0 & 0 & $\\dots$ \\\\\n",
       "\t7 & 1 & 51.0 & 0 & 5.9 & -5.9 & 1 & 100 & 1 & 1000 & 0 & 0 & 0 & 0 & 0 & 0 & 0 & $\\dots$ \\\\\n",
       "\t8 & 1 & 0.0 & 0 & 0.0 & 0.0 & 1 & 100 & 1 & 1000 & 0 & 0 & 0 & 0 & 0 & 0 & 0 & $\\dots$ \\\\\n",
       "\t9 & 1 & 0.0 & 0 & 0.0 & 0.0 & 1 & 100 & 1 & 1000 & 0 & 0 & 0 & 0 & 0 & 0 & 0 & $\\dots$ \\\\\n",
       "\t10 & 1 & 101.8 & 0 & 118.7 & -118.7 & 1 & 100 & 1 & 1000 & 0 & 0 & 0 & 0 & 0 & 0 & 0 & $\\dots$ \\\\\n",
       "\t11 & 1 & 510.3 & 0 & 370.3 & -370.3 & 1 & 100 & 1 & 1000 & 0 & 0 & 0 & 0 & 0 & 0 & 0 & $\\dots$ \\\\\n",
       "\t12 & 1 & 0.0 & 0 & 140.0 & -140.0 & 1 & 100 & 1 & 1000 & 0 & 0 & 0 & 0 & 0 & 0 & 0 & $\\dots$ \\\\\n",
       "\t13 & 2 & 0.0 & 0 & 0.0 & 0.0 & 1 & 100 & 1 & 1000 & 0 & 0 & 0 & 0 & 0 & 0 & 0 & $\\dots$ \\\\\n",
       "\t14 & 2 & 0.0 & 0 & 0.0 & 0.0 & 1 & 100 & 1 & 1000 & 0 & 0 & 0 & 0 & 0 & 0 & 0 & $\\dots$ \\\\\n",
       "\t15 & 2 & 152.0 & 0 & 21.5 & -21.5 & 1 & 100 & 1 & 1000 & 0 & 0 & 0 & 0 & 0 & 0 & 0 & $\\dots$ \\\\\n",
       "\t16 & 2 & 0.0 & 0 & 0.0 & 0.0 & 1 & 100 & 1 & 1000 & 0 & 0 & 0 & 0 & 0 & 0 & 0 & $\\dots$ \\\\\n",
       "\t17 & 2 & 0.0 & 0 & 0.0 & 0.0 & 1 & 100 & 1 & 1000 & 0 & 0 & 0 & 0 & 0 & 0 & 0 & $\\dots$ \\\\\n",
       "\t18 & 2 & 0.0 & 0 & 0.0 & 0.0 & 1 & 100 & 1 & 1000 & 0 & 0 & 0 & 0 & 0 & 0 & 0 & $\\dots$ \\\\\n",
       "\t19 & 2 & 54.0 & 0 & 8.6 & -8.6 & 1 & 100 & 1 & 1000 & 0 & 0 & 0 & 0 & 0 & 0 & 0 & $\\dots$ \\\\\n",
       "\t20 & 2 & 0.0 & 0 & 0.0 & 0.0 & 1 & 100 & 1 & 1000 & 0 & 0 & 0 & 0 & 0 & 0 & 0 & $\\dots$ \\\\\n",
       "\t21 & 2 & 1000.0 & 0 & 113.9 & -113.9 & 1 & 100 & 1 & 1000 & 0 & 0 & 0 & 0 & 0 & 0 & 0 & $\\dots$ \\\\\n",
       "\t22 & 2 & 107.7 & 0 & 97.3 & -97.3 & 1 & 100 & 1 & 1000 & 0 & 0 & 0 & 0 & 0 & 0 & 0 & $\\dots$ \\\\\n",
       "\t23 & 2 & 55.3 & 0 & 31.8 & -31.8 & 1 & 100 & 1 & 1000 & 0 & 0 & 0 & 0 & 0 & 0 & 0 & $\\dots$ \\\\\n",
       "\t24 & 2 & 0.0 & 0 & 220.4 & -220.4 & 1 & 100 & 1 & 1000 & 0 & 0 & 0 & 0 & 0 & 0 & 0 & $\\dots$ \\\\\n",
       "\t25 & 3 & 0.0 & 0 & 0.0 & 0.0 & 1 & 100 & 1 & 1000 & 0 & 0 & 0 & 0 & 0 & 0 & 0 & $\\dots$ \\\\\n",
       "\t26 & 3 & 0.0 & 0 & 0.0 & 0.0 & 1 & 100 & 1 & 1000 & 0 & 0 & 0 & 0 & 0 & 0 & 0 & $\\dots$ \\\\\n",
       "\t27 & 3 & 0.0 & 0 & 0.0 & 0.0 & 1 & 100 & 1 & 1000 & 0 & 0 & 0 & 0 & 0 & 0 & 0 & $\\dots$ \\\\\n",
       "\t28 & 3 & 0.0 & 0 & 0.0 & 0.0 & 1 & 100 & 1 & 1000 & 0 & 0 & 0 & 0 & 0 & 0 & 0 & $\\dots$ \\\\\n",
       "\t29 & 3 & 0.0 & 0 & 0.0 & 0.0 & 1 & 100 & 1 & 1000 & 0 & 0 & 0 & 0 & 0 & 0 & 0 & $\\dots$ \\\\\n",
       "\t30 & 3 & 0.0 & 0 & 0.0 & 0.0 & 1 & 100 & 1 & 1000 & 0 & 0 & 0 & 0 & 0 & 0 & 0 & $\\dots$ \\\\\n",
       "\t$\\dots$ & $\\dots$ & $\\dots$ & $\\dots$ & $\\dots$ & $\\dots$ & $\\dots$ & $\\dots$ & $\\dots$ & $\\dots$ & $\\dots$ & $\\dots$ & $\\dots$ & $\\dots$ & $\\dots$ & $\\dots$ & $\\dots$ &  \\\\\n",
       "\\end{tabular}\n"
      ],
      "text/plain": [
       "\u001b[1m422×22 DataFrame\u001b[0m\n",
       "\u001b[1m Row \u001b[0m│\u001b[1m bus     \u001b[0m\u001b[1m pg      \u001b[0m\u001b[1m qg    \u001b[0m\u001b[1m qmax    \u001b[0m\u001b[1m qmin    \u001b[0m\u001b[1m vg    \u001b[0m\u001b[1m mbase \u001b[0m\u001b[1m status \u001b[0m\u001b[1m pmax  \u001b[0m\u001b[1m pmin  \u001b[0m\u001b[1m pc1   \u001b[0m\u001b[1m pc2   \u001b[0m\u001b[1m qc1min \u001b[0m\u001b[1m qc1max \u001b[0m\u001b[1m qc\u001b[0m ⋯\n",
       "     │\u001b[90m String3 \u001b[0m\u001b[90m Float64 \u001b[0m\u001b[90m Int64 \u001b[0m\u001b[90m Float64 \u001b[0m\u001b[90m Float64 \u001b[0m\u001b[90m Int64 \u001b[0m\u001b[90m Int64 \u001b[0m\u001b[90m Int64  \u001b[0m\u001b[90m Int64 \u001b[0m\u001b[90m Int64 \u001b[0m\u001b[90m Int64 \u001b[0m\u001b[90m Int64 \u001b[0m\u001b[90m Int64  \u001b[0m\u001b[90m Int64  \u001b[0m\u001b[90m In\u001b[0m ⋯\n",
       "─────┼──────────────────────────────────────────────────────────────────────────────────────────────────────────────────\n",
       "   1 │ 1            0.0      0     0.0      0.0       1    100       1   1000      0      0      0       0       0     ⋯\n",
       "   2 │ 1            0.0      0     0.0      0.0       1    100       1   1000      0      0      0       0       0\n",
       "   3 │ 1          130.0      0    12.18   -12.18      1    100       1   1000      0      0      0       0       0\n",
       "   4 │ 1            0.0      0     0.0      0.0       1    100       1   1000      0      0      0       0       0\n",
       "   5 │ 1         1516.8      0   165.7   -165.7       1    100       1   1000      0      0      0       0       0     ⋯\n",
       "   6 │ 1            0.0      0     0.0      0.0       1    100       1   1000      0      0      0       0       0\n",
       "   7 │ 1           51.0      0     5.9     -5.9       1    100       1   1000      0      0      0       0       0\n",
       "   8 │ 1            0.0      0     0.0      0.0       1    100       1   1000      0      0      0       0       0\n",
       "   9 │ 1            0.0      0     0.0      0.0       1    100       1   1000      0      0      0       0       0     ⋯\n",
       "  10 │ 1          101.8      0   118.7   -118.7       1    100       1   1000      0      0      0       0       0\n",
       "  11 │ 1          510.3      0   370.3   -370.3       1    100       1   1000      0      0      0       0       0\n",
       "  ⋮  │    ⋮        ⋮       ⋮       ⋮        ⋮       ⋮      ⋮      ⋮       ⋮      ⋮      ⋮      ⋮      ⋮       ⋮        ⋱\n",
       " 413 │ 33           0.0      0     0.0      0.0       1    100       1   1000      0      0      0       0       0\n",
       " 414 │ 33           0.0      0     0.0      0.0       1    100       1   1000      0      0      0       0       0     ⋯\n",
       " 415 │ 33          10.0      0     2.3     -2.3       1    100       1   1000      0      0      0       0       0\n",
       " 416 │ 33           0.0      0     0.0      0.0       1    100       1   1000      0      0      0       0       0\n",
       " 417 │ 33           0.0      0     0.0      0.0       1    100       1   1000      0      0      0       0       0\n",
       " 418 │ 33           0.0      0     0.0      0.0       1    100       1   1000      0      0      0       0       0     ⋯\n",
       " 419 │ 33           0.0      0     0.0      0.0       1    100       1   1000      0      0      0       0       0\n",
       " 420 │ 33          20.4      0     1.7     -1.7       1    100       1   1000      0      0      0       0       0\n",
       " 421 │ 33         332.9      0    14.7    -14.7       1    100       1   1000      0      0      0       0       0\n",
       " 422 │ 33           0.0      0    91.6    -91.6       1    100       1   1000      0      0      0       0       0     ⋯\n",
       "\u001b[36m                                                                                          8 columns and 401 rows omitted\u001b[0m"
      ]
     },
     "execution_count": 6,
     "metadata": {},
     "output_type": "execute_result"
    }
   ],
   "source": [
    "# This is what the generator dataset looks like:https://en.wikipedia.org/wiki/AC_power#Active,_reactive,_and_apparent_power\n",
    "gen"
   ]
  },
  {
   "cell_type": "code",
   "execution_count": 7,
   "metadata": {},
   "outputs": [
    {
     "data": {
      "text/html": [
       "<div><div style = \"float: left;\"><span>35×7 DataFrame</span></div><div style = \"float: right;\"><span style = \"font-style: italic;\">10 rows omitted</span></div><div style = \"clear: both;\"></div></div><div class = \"data-frame\" style = \"overflow-x: scroll;\"><table class = \"data-frame\" style = \"margin-bottom: 6px;\"><thead><tr class = \"header\"><th class = \"rowNumber\" style = \"font-weight: bold; text-align: right;\">Row</th><th style = \"text-align: left;\">model</th><th style = \"text-align: left;\">startup</th><th style = \"text-align: left;\">shutdown</th><th style = \"text-align: left;\">n</th><th style = \"text-align: left;\">x1</th><th style = \"text-align: left;\">y1</th><th style = \"text-align: left;\">id</th></tr><tr class = \"subheader headerLastRow\"><th class = \"rowNumber\" style = \"font-weight: bold; text-align: right;\"></th><th title = \"Int64\" style = \"text-align: left;\">Int64</th><th title = \"Int64\" style = \"text-align: left;\">Int64</th><th title = \"Int64\" style = \"text-align: left;\">Int64</th><th title = \"Int64\" style = \"text-align: left;\">Int64</th><th title = \"Int64\" style = \"text-align: left;\">Int64</th><th title = \"Int64\" style = \"text-align: left;\">Int64</th><th title = \"Int64\" style = \"text-align: left;\">Int64</th></tr></thead><tbody><tr><td class = \"rowNumber\" style = \"font-weight: bold; text-align: right;\">1</td><td style = \"text-align: right;\">2</td><td style = \"text-align: right;\">0</td><td style = \"text-align: right;\">0</td><td style = \"text-align: right;\">35</td><td style = \"text-align: right;\">50</td><td style = \"text-align: right;\">0</td><td style = \"text-align: right;\">1</td></tr><tr><td class = \"rowNumber\" style = \"font-weight: bold; text-align: right;\">2</td><td style = \"text-align: right;\">2</td><td style = \"text-align: right;\">0</td><td style = \"text-align: right;\">0</td><td style = \"text-align: right;\">35</td><td style = \"text-align: right;\">100</td><td style = \"text-align: right;\">0</td><td style = \"text-align: right;\">2</td></tr><tr><td class = \"rowNumber\" style = \"font-weight: bold; text-align: right;\">3</td><td style = \"text-align: right;\">2</td><td style = \"text-align: right;\">0</td><td style = \"text-align: right;\">0</td><td style = \"text-align: right;\">35</td><td style = \"text-align: right;\">60</td><td style = \"text-align: right;\">0</td><td style = \"text-align: right;\">3</td></tr><tr><td class = \"rowNumber\" style = \"font-weight: bold; text-align: right;\">4</td><td style = \"text-align: right;\">2</td><td style = \"text-align: right;\">0</td><td style = \"text-align: right;\">0</td><td style = \"text-align: right;\">35</td><td style = \"text-align: right;\">25</td><td style = \"text-align: right;\">0</td><td style = \"text-align: right;\">4</td></tr><tr><td class = \"rowNumber\" style = \"font-weight: bold; text-align: right;\">5</td><td style = \"text-align: right;\">2</td><td style = \"text-align: right;\">0</td><td style = \"text-align: right;\">0</td><td style = \"text-align: right;\">35</td><td style = \"text-align: right;\">24</td><td style = \"text-align: right;\">0</td><td style = \"text-align: right;\">5</td></tr><tr><td class = \"rowNumber\" style = \"font-weight: bold; text-align: right;\">6</td><td style = \"text-align: right;\">2</td><td style = \"text-align: right;\">0</td><td style = \"text-align: right;\">0</td><td style = \"text-align: right;\">35</td><td style = \"text-align: right;\">120</td><td style = \"text-align: right;\">0</td><td style = \"text-align: right;\">6</td></tr><tr><td class = \"rowNumber\" style = \"font-weight: bold; text-align: right;\">7</td><td style = \"text-align: right;\">2</td><td style = \"text-align: right;\">0</td><td style = \"text-align: right;\">0</td><td style = \"text-align: right;\">35</td><td style = \"text-align: right;\">65</td><td style = \"text-align: right;\">0</td><td style = \"text-align: right;\">7</td></tr><tr><td class = \"rowNumber\" style = \"font-weight: bold; text-align: right;\">8</td><td style = \"text-align: right;\">2</td><td style = \"text-align: right;\">0</td><td style = \"text-align: right;\">0</td><td style = \"text-align: right;\">35</td><td style = \"text-align: right;\">72</td><td style = \"text-align: right;\">0</td><td style = \"text-align: right;\">8</td></tr><tr><td class = \"rowNumber\" style = \"font-weight: bold; text-align: right;\">9</td><td style = \"text-align: right;\">2</td><td style = \"text-align: right;\">0</td><td style = \"text-align: right;\">0</td><td style = \"text-align: right;\">35</td><td style = \"text-align: right;\">65</td><td style = \"text-align: right;\">0</td><td style = \"text-align: right;\">9</td></tr><tr><td class = \"rowNumber\" style = \"font-weight: bold; text-align: right;\">10</td><td style = \"text-align: right;\">2</td><td style = \"text-align: right;\">0</td><td style = \"text-align: right;\">0</td><td style = \"text-align: right;\">35</td><td style = \"text-align: right;\">80</td><td style = \"text-align: right;\">0</td><td style = \"text-align: right;\">10</td></tr><tr><td class = \"rowNumber\" style = \"font-weight: bold; text-align: right;\">11</td><td style = \"text-align: right;\">2</td><td style = \"text-align: right;\">0</td><td style = \"text-align: right;\">0</td><td style = \"text-align: right;\">35</td><td style = \"text-align: right;\">95</td><td style = \"text-align: right;\">0</td><td style = \"text-align: right;\">11</td></tr><tr><td class = \"rowNumber\" style = \"font-weight: bold; text-align: right;\">12</td><td style = \"text-align: right;\">2</td><td style = \"text-align: right;\">0</td><td style = \"text-align: right;\">0</td><td style = \"text-align: right;\">35</td><td style = \"text-align: right;\">102</td><td style = \"text-align: right;\">0</td><td style = \"text-align: right;\">12</td></tr><tr><td class = \"rowNumber\" style = \"font-weight: bold; text-align: right;\">13</td><td style = \"text-align: right;\">2</td><td style = \"text-align: right;\">0</td><td style = \"text-align: right;\">0</td><td style = \"text-align: right;\">35</td><td style = \"text-align: right;\">134</td><td style = \"text-align: right;\">0</td><td style = \"text-align: right;\">13</td></tr><tr><td style = \"text-align: right;\">&vellip;</td><td style = \"text-align: right;\">&vellip;</td><td style = \"text-align: right;\">&vellip;</td><td style = \"text-align: right;\">&vellip;</td><td style = \"text-align: right;\">&vellip;</td><td style = \"text-align: right;\">&vellip;</td><td style = \"text-align: right;\">&vellip;</td><td style = \"text-align: right;\">&vellip;</td></tr><tr><td class = \"rowNumber\" style = \"font-weight: bold; text-align: right;\">24</td><td style = \"text-align: right;\">2</td><td style = \"text-align: right;\">0</td><td style = \"text-align: right;\">0</td><td style = \"text-align: right;\">35</td><td style = \"text-align: right;\">45</td><td style = \"text-align: right;\">0</td><td style = \"text-align: right;\">24</td></tr><tr><td class = \"rowNumber\" style = \"font-weight: bold; text-align: right;\">25</td><td style = \"text-align: right;\">2</td><td style = \"text-align: right;\">0</td><td style = \"text-align: right;\">0</td><td style = \"text-align: right;\">35</td><td style = \"text-align: right;\">37</td><td style = \"text-align: right;\">0</td><td style = \"text-align: right;\">25</td></tr><tr><td class = \"rowNumber\" style = \"font-weight: bold; text-align: right;\">26</td><td style = \"text-align: right;\">2</td><td style = \"text-align: right;\">0</td><td style = \"text-align: right;\">0</td><td style = \"text-align: right;\">35</td><td style = \"text-align: right;\">29</td><td style = \"text-align: right;\">0</td><td style = \"text-align: right;\">26</td></tr><tr><td class = \"rowNumber\" style = \"font-weight: bold; text-align: right;\">27</td><td style = \"text-align: right;\">2</td><td style = \"text-align: right;\">0</td><td style = \"text-align: right;\">0</td><td style = \"text-align: right;\">35</td><td style = \"text-align: right;\">145</td><td style = \"text-align: right;\">0</td><td style = \"text-align: right;\">27</td></tr><tr><td class = \"rowNumber\" style = \"font-weight: bold; text-align: right;\">28</td><td style = \"text-align: right;\">2</td><td style = \"text-align: right;\">0</td><td style = \"text-align: right;\">0</td><td style = \"text-align: right;\">35</td><td style = \"text-align: right;\">102</td><td style = \"text-align: right;\">0</td><td style = \"text-align: right;\">28</td></tr><tr><td class = \"rowNumber\" style = \"font-weight: bold; text-align: right;\">29</td><td style = \"text-align: right;\">2</td><td style = \"text-align: right;\">0</td><td style = \"text-align: right;\">0</td><td style = \"text-align: right;\">35</td><td style = \"text-align: right;\">203</td><td style = \"text-align: right;\">0</td><td style = \"text-align: right;\">29</td></tr><tr><td class = \"rowNumber\" style = \"font-weight: bold; text-align: right;\">30</td><td style = \"text-align: right;\">2</td><td style = \"text-align: right;\">0</td><td style = \"text-align: right;\">0</td><td style = \"text-align: right;\">35</td><td style = \"text-align: right;\">134</td><td style = \"text-align: right;\">0</td><td style = \"text-align: right;\">30</td></tr><tr><td class = \"rowNumber\" style = \"font-weight: bold; text-align: right;\">31</td><td style = \"text-align: right;\">2</td><td style = \"text-align: right;\">0</td><td style = \"text-align: right;\">0</td><td style = \"text-align: right;\">35</td><td style = \"text-align: right;\">19</td><td style = \"text-align: right;\">0</td><td style = \"text-align: right;\">31</td></tr><tr><td class = \"rowNumber\" style = \"font-weight: bold; text-align: right;\">32</td><td style = \"text-align: right;\">2</td><td style = \"text-align: right;\">0</td><td style = \"text-align: right;\">0</td><td style = \"text-align: right;\">35</td><td style = \"text-align: right;\">29</td><td style = \"text-align: right;\">0</td><td style = \"text-align: right;\">32</td></tr><tr><td class = \"rowNumber\" style = \"font-weight: bold; text-align: right;\">33</td><td style = \"text-align: right;\">2</td><td style = \"text-align: right;\">0</td><td style = \"text-align: right;\">0</td><td style = \"text-align: right;\">35</td><td style = \"text-align: right;\">37</td><td style = \"text-align: right;\">0</td><td style = \"text-align: right;\">33</td></tr><tr><td class = \"rowNumber\" style = \"font-weight: bold; text-align: right;\">34</td><td style = \"text-align: right;\">2</td><td style = \"text-align: right;\">0</td><td style = \"text-align: right;\">0</td><td style = \"text-align: right;\">35</td><td style = \"text-align: right;\">48</td><td style = \"text-align: right;\">0</td><td style = \"text-align: right;\">34</td></tr><tr><td class = \"rowNumber\" style = \"font-weight: bold; text-align: right;\">35</td><td style = \"text-align: right;\">2</td><td style = \"text-align: right;\">0</td><td style = \"text-align: right;\">0</td><td style = \"text-align: right;\">35</td><td style = \"text-align: right;\">55</td><td style = \"text-align: right;\">0</td><td style = \"text-align: right;\">35</td></tr></tbody></table></div>"
      ],
      "text/latex": [
       "\\begin{tabular}{r|ccccccc}\n",
       "\t& model & startup & shutdown & n & x1 & y1 & id\\\\\n",
       "\t\\hline\n",
       "\t& Int64 & Int64 & Int64 & Int64 & Int64 & Int64 & Int64\\\\\n",
       "\t\\hline\n",
       "\t1 & 2 & 0 & 0 & 35 & 50 & 0 & 1 \\\\\n",
       "\t2 & 2 & 0 & 0 & 35 & 100 & 0 & 2 \\\\\n",
       "\t3 & 2 & 0 & 0 & 35 & 60 & 0 & 3 \\\\\n",
       "\t4 & 2 & 0 & 0 & 35 & 25 & 0 & 4 \\\\\n",
       "\t5 & 2 & 0 & 0 & 35 & 24 & 0 & 5 \\\\\n",
       "\t6 & 2 & 0 & 0 & 35 & 120 & 0 & 6 \\\\\n",
       "\t7 & 2 & 0 & 0 & 35 & 65 & 0 & 7 \\\\\n",
       "\t8 & 2 & 0 & 0 & 35 & 72 & 0 & 8 \\\\\n",
       "\t9 & 2 & 0 & 0 & 35 & 65 & 0 & 9 \\\\\n",
       "\t10 & 2 & 0 & 0 & 35 & 80 & 0 & 10 \\\\\n",
       "\t11 & 2 & 0 & 0 & 35 & 95 & 0 & 11 \\\\\n",
       "\t12 & 2 & 0 & 0 & 35 & 102 & 0 & 12 \\\\\n",
       "\t13 & 2 & 0 & 0 & 35 & 134 & 0 & 13 \\\\\n",
       "\t14 & 2 & 0 & 0 & 35 & 28 & 0 & 14 \\\\\n",
       "\t15 & 2 & 0 & 0 & 35 & 23 & 0 & 15 \\\\\n",
       "\t16 & 2 & 0 & 0 & 35 & 19 & 0 & 16 \\\\\n",
       "\t17 & 2 & 0 & 0 & 35 & 19 & 0 & 17 \\\\\n",
       "\t18 & 2 & 0 & 0 & 35 & 23 & 0 & 18 \\\\\n",
       "\t19 & 2 & 0 & 0 & 35 & 45 & 0 & 19 \\\\\n",
       "\t20 & 2 & 0 & 0 & 35 & 49 & 0 & 20 \\\\\n",
       "\t21 & 2 & 0 & 0 & 35 & 201 & 0 & 21 \\\\\n",
       "\t22 & 2 & 0 & 0 & 35 & 22 & 0 & 22 \\\\\n",
       "\t23 & 2 & 0 & 0 & 35 & 33 & 0 & 23 \\\\\n",
       "\t24 & 2 & 0 & 0 & 35 & 45 & 0 & 24 \\\\\n",
       "\t25 & 2 & 0 & 0 & 35 & 37 & 0 & 25 \\\\\n",
       "\t26 & 2 & 0 & 0 & 35 & 29 & 0 & 26 \\\\\n",
       "\t27 & 2 & 0 & 0 & 35 & 145 & 0 & 27 \\\\\n",
       "\t28 & 2 & 0 & 0 & 35 & 102 & 0 & 28 \\\\\n",
       "\t29 & 2 & 0 & 0 & 35 & 203 & 0 & 29 \\\\\n",
       "\t30 & 2 & 0 & 0 & 35 & 134 & 0 & 30 \\\\\n",
       "\t$\\dots$ & $\\dots$ & $\\dots$ & $\\dots$ & $\\dots$ & $\\dots$ & $\\dots$ & $\\dots$ \\\\\n",
       "\\end{tabular}\n"
      ],
      "text/plain": [
       "\u001b[1m35×7 DataFrame\u001b[0m\n",
       "\u001b[1m Row \u001b[0m│\u001b[1m model \u001b[0m\u001b[1m startup \u001b[0m\u001b[1m shutdown \u001b[0m\u001b[1m n     \u001b[0m\u001b[1m x1    \u001b[0m\u001b[1m y1    \u001b[0m\u001b[1m id    \u001b[0m\n",
       "     │\u001b[90m Int64 \u001b[0m\u001b[90m Int64   \u001b[0m\u001b[90m Int64    \u001b[0m\u001b[90m Int64 \u001b[0m\u001b[90m Int64 \u001b[0m\u001b[90m Int64 \u001b[0m\u001b[90m Int64 \u001b[0m\n",
       "─────┼──────────────────────────────────────────────────────\n",
       "   1 │     2        0         0     35     50      0      1\n",
       "   2 │     2        0         0     35    100      0      2\n",
       "   3 │     2        0         0     35     60      0      3\n",
       "   4 │     2        0         0     35     25      0      4\n",
       "   5 │     2        0         0     35     24      0      5\n",
       "   6 │     2        0         0     35    120      0      6\n",
       "   7 │     2        0         0     35     65      0      7\n",
       "   8 │     2        0         0     35     72      0      8\n",
       "   9 │     2        0         0     35     65      0      9\n",
       "  10 │     2        0         0     35     80      0     10\n",
       "  11 │     2        0         0     35     95      0     11\n",
       "  ⋮  │   ⋮       ⋮        ⋮        ⋮      ⋮      ⋮      ⋮\n",
       "  26 │     2        0         0     35     29      0     26\n",
       "  27 │     2        0         0     35    145      0     27\n",
       "  28 │     2        0         0     35    102      0     28\n",
       "  29 │     2        0         0     35    203      0     29\n",
       "  30 │     2        0         0     35    134      0     30\n",
       "  31 │     2        0         0     35     19      0     31\n",
       "  32 │     2        0         0     35     29      0     32\n",
       "  33 │     2        0         0     35     37      0     33\n",
       "  34 │     2        0         0     35     48      0     34\n",
       "  35 │     2        0         0     35     55      0     35\n",
       "\u001b[36m                                             14 rows omitted\u001b[0m"
      ]
     },
     "execution_count": 7,
     "metadata": {},
     "output_type": "execute_result"
    }
   ],
   "source": [
    "# and generator cost dataset:\n",
    "gencost"
   ]
  },
  {
   "cell_type": "markdown",
   "metadata": {},
   "source": [
    "In the above, model=2 indicates a polynomial variable cost formulation and the column n=2 indicates that there are two terms. Thus, we have a linear cost (in the x1 column) without any quadratic terms (and a zero constant term):\n",
    "\n",
    "$$\n",
    "VarCost_g = x1_g\n",
    "$$"
   ]
  },
  {
   "cell_type": "code",
   "execution_count": 8,
   "metadata": {},
   "outputs": [
    {
     "data": {
      "text/html": [
       "<div><div style = \"float: left;\"><span>144×15 DataFrame</span></div><div style = \"float: right;\"><span style = \"font-style: italic;\">119 rows omitted</span></div><div style = \"clear: both;\"></div></div><div class = \"data-frame\" style = \"overflow-x: scroll;\"><table class = \"data-frame\" style = \"margin-bottom: 6px;\"><thead><tr class = \"header\"><th class = \"rowNumber\" style = \"font-weight: bold; text-align: right;\">Row</th><th style = \"text-align: left;\">fbus</th><th style = \"text-align: left;\">tbus</th><th style = \"text-align: left;\">r</th><th style = \"text-align: left;\">x</th><th style = \"text-align: left;\">b</th><th style = \"text-align: left;\">ratea</th><th style = \"text-align: left;\">rateb</th><th style = \"text-align: left;\">ratec</th><th style = \"text-align: left;\">ratio</th><th style = \"text-align: left;\">angle</th><th style = \"text-align: left;\">status</th><th style = \"text-align: left;\">angmin</th><th style = \"text-align: left;\">angmax</th><th style = \"text-align: left;\">id</th><th style = \"text-align: left;\">sus</th></tr><tr class = \"subheader headerLastRow\"><th class = \"rowNumber\" style = \"font-weight: bold; text-align: right;\"></th><th title = \"String3\" style = \"text-align: left;\">String3</th><th title = \"String3\" style = \"text-align: left;\">String3</th><th title = \"Float64\" style = \"text-align: left;\">Float64</th><th title = \"Float64\" style = \"text-align: left;\">Float64</th><th title = \"Float64\" style = \"text-align: left;\">Float64</th><th title = \"Float64\" style = \"text-align: left;\">Float64</th><th title = \"Float64\" style = \"text-align: left;\">Float64</th><th title = \"Float64\" style = \"text-align: left;\">Float64</th><th title = \"Int64\" style = \"text-align: left;\">Int64</th><th title = \"Int64\" style = \"text-align: left;\">Int64</th><th title = \"Int64\" style = \"text-align: left;\">Int64</th><th title = \"Int64\" style = \"text-align: left;\">Int64</th><th title = \"Int64\" style = \"text-align: left;\">Int64</th><th title = \"Int64\" style = \"text-align: left;\">Int64</th><th title = \"Float64\" style = \"text-align: left;\">Float64</th></tr></thead><tbody><tr><td class = \"rowNumber\" style = \"font-weight: bold; text-align: right;\">1</td><td style = \"text-align: left;\">1</td><td style = \"text-align: left;\">2</td><td style = \"text-align: right;\">0.00266925</td><td style = \"text-align: right;\">0.0323779</td><td style = \"text-align: right;\">0.0196113</td><td style = \"text-align: right;\">400.0</td><td style = \"text-align: right;\">400.0</td><td style = \"text-align: right;\">400.0</td><td style = \"text-align: right;\">0</td><td style = \"text-align: right;\">0</td><td style = \"text-align: right;\">1</td><td style = \"text-align: right;\">-360</td><td style = \"text-align: right;\">360</td><td style = \"text-align: right;\">1</td><td style = \"text-align: right;\">30.8853</td></tr><tr><td class = \"rowNumber\" style = \"font-weight: bold; text-align: right;\">2</td><td style = \"text-align: left;\">1</td><td style = \"text-align: left;\">5</td><td style = \"text-align: right;\">0.00287887</td><td style = \"text-align: right;\">0.0286089</td><td style = \"text-align: right;\">0.0103084</td><td style = \"text-align: right;\">400.0</td><td style = \"text-align: right;\">400.0</td><td style = \"text-align: right;\">400.0</td><td style = \"text-align: right;\">0</td><td style = \"text-align: right;\">0</td><td style = \"text-align: right;\">1</td><td style = \"text-align: right;\">-360</td><td style = \"text-align: right;\">360</td><td style = \"text-align: right;\">2</td><td style = \"text-align: right;\">34.9541</td></tr><tr><td class = \"rowNumber\" style = \"font-weight: bold; text-align: right;\">3</td><td style = \"text-align: left;\">2</td><td style = \"text-align: left;\">3</td><td style = \"text-align: right;\">0.00131306</td><td style = \"text-align: right;\">0.0190229</td><td style = \"text-align: right;\">0.0102966</td><td style = \"text-align: right;\">400.0</td><td style = \"text-align: right;\">400.0</td><td style = \"text-align: right;\">400.0</td><td style = \"text-align: right;\">0</td><td style = \"text-align: right;\">0</td><td style = \"text-align: right;\">1</td><td style = \"text-align: right;\">-360</td><td style = \"text-align: right;\">360</td><td style = \"text-align: right;\">3</td><td style = \"text-align: right;\">52.5681</td></tr><tr><td class = \"rowNumber\" style = \"font-weight: bold; text-align: right;\">4</td><td style = \"text-align: left;\">2</td><td style = \"text-align: left;\">6</td><td style = \"text-align: right;\">0.000803188</td><td style = \"text-align: right;\">0.0149712</td><td style = \"text-align: right;\">0.00476255</td><td style = \"text-align: right;\">400.0</td><td style = \"text-align: right;\">400.0</td><td style = \"text-align: right;\">400.0</td><td style = \"text-align: right;\">0</td><td style = \"text-align: right;\">0</td><td style = \"text-align: right;\">1</td><td style = \"text-align: right;\">-360</td><td style = \"text-align: right;\">360</td><td style = \"text-align: right;\">4</td><td style = \"text-align: right;\">66.795</td></tr><tr><td class = \"rowNumber\" style = \"font-weight: bold; text-align: right;\">5</td><td style = \"text-align: left;\">3</td><td style = \"text-align: left;\">10</td><td style = \"text-align: right;\">0.000399063</td><td style = \"text-align: right;\">0.00548875</td><td style = \"text-align: right;\">0.00238071</td><td style = \"text-align: right;\">400.0</td><td style = \"text-align: right;\">400.0</td><td style = \"text-align: right;\">400.0</td><td style = \"text-align: right;\">0</td><td style = \"text-align: right;\">0</td><td style = \"text-align: right;\">1</td><td style = \"text-align: right;\">-360</td><td style = \"text-align: right;\">360</td><td style = \"text-align: right;\">5</td><td style = \"text-align: right;\">182.191</td></tr><tr><td class = \"rowNumber\" style = \"font-weight: bold; text-align: right;\">6</td><td style = \"text-align: left;\">4</td><td style = \"text-align: left;\">5</td><td style = \"text-align: right;\">0.00114981</td><td style = \"text-align: right;\">0.0183772</td><td style = \"text-align: right;\">0.0126698</td><td style = \"text-align: right;\">400.0</td><td style = \"text-align: right;\">400.0</td><td style = \"text-align: right;\">400.0</td><td style = \"text-align: right;\">0</td><td style = \"text-align: right;\">0</td><td style = \"text-align: right;\">1</td><td style = \"text-align: right;\">-360</td><td style = \"text-align: right;\">360</td><td style = \"text-align: right;\">6</td><td style = \"text-align: right;\">54.4153</td></tr><tr><td class = \"rowNumber\" style = \"font-weight: bold; text-align: right;\">7</td><td style = \"text-align: left;\">4</td><td style = \"text-align: left;\">6</td><td style = \"text-align: right;\">0.00209787</td><td style = \"text-align: right;\">0.0318498</td><td style = \"text-align: right;\">0.0106544</td><td style = \"text-align: right;\">400.0</td><td style = \"text-align: right;\">400.0</td><td style = \"text-align: right;\">400.0</td><td style = \"text-align: right;\">0</td><td style = \"text-align: right;\">0</td><td style = \"text-align: right;\">1</td><td style = \"text-align: right;\">-360</td><td style = \"text-align: right;\">360</td><td style = \"text-align: right;\">7</td><td style = \"text-align: right;\">31.3974</td></tr><tr><td class = \"rowNumber\" style = \"font-weight: bold; text-align: right;\">8</td><td style = \"text-align: left;\">4</td><td style = \"text-align: left;\">14</td><td style = \"text-align: right;\">0.00220469</td><td style = \"text-align: right;\">0.0290109</td><td style = \"text-align: right;\">0.00897751</td><td style = \"text-align: right;\">400.0</td><td style = \"text-align: right;\">400.0</td><td style = \"text-align: right;\">400.0</td><td style = \"text-align: right;\">0</td><td style = \"text-align: right;\">0</td><td style = \"text-align: right;\">1</td><td style = \"text-align: right;\">-360</td><td style = \"text-align: right;\">360</td><td style = \"text-align: right;\">8</td><td style = \"text-align: right;\">34.4698</td></tr><tr><td class = \"rowNumber\" style = \"font-weight: bold; text-align: right;\">9</td><td style = \"text-align: left;\">5</td><td style = \"text-align: left;\">6</td><td style = \"text-align: right;\">0.000706313</td><td style = \"text-align: right;\">0.00961025</td><td style = \"text-align: right;\">0.00913257</td><td style = \"text-align: right;\">400.0</td><td style = \"text-align: right;\">400.0</td><td style = \"text-align: right;\">400.0</td><td style = \"text-align: right;\">0</td><td style = \"text-align: right;\">0</td><td style = \"text-align: right;\">1</td><td style = \"text-align: right;\">-360</td><td style = \"text-align: right;\">360</td><td style = \"text-align: right;\">9</td><td style = \"text-align: right;\">104.056</td></tr><tr><td class = \"rowNumber\" style = \"font-weight: bold; text-align: right;\">10</td><td style = \"text-align: left;\">5</td><td style = \"text-align: left;\">14</td><td style = \"text-align: right;\">0.00178231</td><td style = \"text-align: right;\">0.0184703</td><td style = \"text-align: right;\">0.00196471</td><td style = \"text-align: right;\">400.0</td><td style = \"text-align: right;\">400.0</td><td style = \"text-align: right;\">400.0</td><td style = \"text-align: right;\">0</td><td style = \"text-align: right;\">0</td><td style = \"text-align: right;\">1</td><td style = \"text-align: right;\">-360</td><td style = \"text-align: right;\">360</td><td style = \"text-align: right;\">10</td><td style = \"text-align: right;\">54.1409</td></tr><tr><td class = \"rowNumber\" style = \"font-weight: bold; text-align: right;\">11</td><td style = \"text-align: left;\">6</td><td style = \"text-align: left;\">7</td><td style = \"text-align: right;\">0.00119981</td><td style = \"text-align: right;\">0.0192356</td><td style = \"text-align: right;\">0.0267716</td><td style = \"text-align: right;\">400.0</td><td style = \"text-align: right;\">400.0</td><td style = \"text-align: right;\">400.0</td><td style = \"text-align: right;\">0</td><td style = \"text-align: right;\">0</td><td style = \"text-align: right;\">1</td><td style = \"text-align: right;\">-360</td><td style = \"text-align: right;\">360</td><td style = \"text-align: right;\">11</td><td style = \"text-align: right;\">51.987</td></tr><tr><td class = \"rowNumber\" style = \"font-weight: bold; text-align: right;\">12</td><td style = \"text-align: left;\">6</td><td style = \"text-align: left;\">13</td><td style = \"text-align: right;\">0.000327813</td><td style = \"text-align: right;\">0.00569294</td><td style = \"text-align: right;\">0.00236706</td><td style = \"text-align: right;\">400.0</td><td style = \"text-align: right;\">400.0</td><td style = \"text-align: right;\">400.0</td><td style = \"text-align: right;\">0</td><td style = \"text-align: right;\">0</td><td style = \"text-align: right;\">1</td><td style = \"text-align: right;\">-360</td><td style = \"text-align: right;\">360</td><td style = \"text-align: right;\">12</td><td style = \"text-align: right;\">175.656</td></tr><tr><td class = \"rowNumber\" style = \"font-weight: bold; text-align: right;\">13</td><td style = \"text-align: left;\">7</td><td style = \"text-align: left;\">8</td><td style = \"text-align: right;\">0.000412188</td><td style = \"text-align: right;\">0.00449369</td><td style = \"text-align: right;\">0.046537</td><td style = \"text-align: right;\">400.0</td><td style = \"text-align: right;\">400.0</td><td style = \"text-align: right;\">400.0</td><td style = \"text-align: right;\">0</td><td style = \"text-align: right;\">0</td><td style = \"text-align: right;\">1</td><td style = \"text-align: right;\">-360</td><td style = \"text-align: right;\">360</td><td style = \"text-align: right;\">13</td><td style = \"text-align: right;\">222.534</td></tr><tr><td style = \"text-align: right;\">&vellip;</td><td style = \"text-align: right;\">&vellip;</td><td style = \"text-align: right;\">&vellip;</td><td style = \"text-align: right;\">&vellip;</td><td style = \"text-align: right;\">&vellip;</td><td style = \"text-align: right;\">&vellip;</td><td style = \"text-align: right;\">&vellip;</td><td style = \"text-align: right;\">&vellip;</td><td style = \"text-align: right;\">&vellip;</td><td style = \"text-align: right;\">&vellip;</td><td style = \"text-align: right;\">&vellip;</td><td style = \"text-align: right;\">&vellip;</td><td style = \"text-align: right;\">&vellip;</td><td style = \"text-align: right;\">&vellip;</td><td style = \"text-align: right;\">&vellip;</td><td style = \"text-align: right;\">&vellip;</td></tr><tr><td class = \"rowNumber\" style = \"font-weight: bold; text-align: right;\">133</td><td style = \"text-align: left;\">27E</td><td style = \"text-align: left;\">27W</td><td style = \"text-align: right;\">0.001276</td><td style = \"text-align: right;\">0.0112748</td><td style = \"text-align: right;\">0.00658752</td><td style = \"text-align: right;\">400.0</td><td style = \"text-align: right;\">400.0</td><td style = \"text-align: right;\">400.0</td><td style = \"text-align: right;\">0</td><td style = \"text-align: right;\">0</td><td style = \"text-align: right;\">1</td><td style = \"text-align: right;\">-360</td><td style = \"text-align: right;\">360</td><td style = \"text-align: right;\">61</td><td style = \"text-align: right;\">88.6938</td></tr><tr><td class = \"rowNumber\" style = \"font-weight: bold; text-align: right;\">134</td><td style = \"text-align: left;\">28</td><td style = \"text-align: left;\">27W</td><td style = \"text-align: right;\">0.000657375</td><td style = \"text-align: right;\">0.00816719</td><td style = \"text-align: right;\">0.00932489</td><td style = \"text-align: right;\">400.0</td><td style = \"text-align: right;\">400.0</td><td style = \"text-align: right;\">400.0</td><td style = \"text-align: right;\">0</td><td style = \"text-align: right;\">0</td><td style = \"text-align: right;\">1</td><td style = \"text-align: right;\">-360</td><td style = \"text-align: right;\">360</td><td style = \"text-align: right;\">62</td><td style = \"text-align: right;\">122.441</td></tr><tr><td class = \"rowNumber\" style = \"font-weight: bold; text-align: right;\">135</td><td style = \"text-align: left;\">29</td><td style = \"text-align: left;\">27W</td><td style = \"text-align: right;\">0.000516438</td><td style = \"text-align: right;\">0.0106281</td><td style = \"text-align: right;\">0.00299608</td><td style = \"text-align: right;\">400.0</td><td style = \"text-align: right;\">400.0</td><td style = \"text-align: right;\">400.0</td><td style = \"text-align: right;\">0</td><td style = \"text-align: right;\">0</td><td style = \"text-align: right;\">1</td><td style = \"text-align: right;\">-360</td><td style = \"text-align: right;\">360</td><td style = \"text-align: right;\">63</td><td style = \"text-align: right;\">94.09</td></tr><tr><td class = \"rowNumber\" style = \"font-weight: bold; text-align: right;\">136</td><td style = \"text-align: left;\">29</td><td style = \"text-align: left;\">28</td><td style = \"text-align: right;\">0.000826875</td><td style = \"text-align: right;\">0.0120264</td><td style = \"text-align: right;\">0.00355633</td><td style = \"text-align: right;\">400.0</td><td style = \"text-align: right;\">400.0</td><td style = \"text-align: right;\">400.0</td><td style = \"text-align: right;\">0</td><td style = \"text-align: right;\">0</td><td style = \"text-align: right;\">1</td><td style = \"text-align: right;\">-360</td><td style = \"text-align: right;\">360</td><td style = \"text-align: right;\">64</td><td style = \"text-align: right;\">83.1506</td></tr><tr><td class = \"rowNumber\" style = \"font-weight: bold; text-align: right;\">137</td><td style = \"text-align: left;\">31</td><td style = \"text-align: left;\">28</td><td style = \"text-align: right;\">0.00118531</td><td style = \"text-align: right;\">0.00383031</td><td style = \"text-align: right;\">0.00512333</td><td style = \"text-align: right;\">400.0</td><td style = \"text-align: right;\">400.0</td><td style = \"text-align: right;\">400.0</td><td style = \"text-align: right;\">0</td><td style = \"text-align: right;\">0</td><td style = \"text-align: right;\">1</td><td style = \"text-align: right;\">-360</td><td style = \"text-align: right;\">360</td><td style = \"text-align: right;\">65</td><td style = \"text-align: right;\">261.075</td></tr><tr><td class = \"rowNumber\" style = \"font-weight: bold; text-align: right;\">138</td><td style = \"text-align: left;\">32</td><td style = \"text-align: left;\">28</td><td style = \"text-align: right;\">0.0</td><td style = \"text-align: right;\">0.0</td><td style = \"text-align: right;\">0.0</td><td style = \"text-align: right;\">400.0</td><td style = \"text-align: right;\">400.0</td><td style = \"text-align: right;\">400.0</td><td style = \"text-align: right;\">0</td><td style = \"text-align: right;\">0</td><td style = \"text-align: right;\">1</td><td style = \"text-align: right;\">-360</td><td style = \"text-align: right;\">360</td><td style = \"text-align: right;\">66</td><td style = \"text-align: right;\">Inf</td></tr><tr><td class = \"rowNumber\" style = \"font-weight: bold; text-align: right;\">139</td><td style = \"text-align: left;\">31</td><td style = \"text-align: left;\">29</td><td style = \"text-align: right;\">0.000802688</td><td style = \"text-align: right;\">0.00834469</td><td style = \"text-align: right;\">0.00568591</td><td style = \"text-align: right;\">400.0</td><td style = \"text-align: right;\">400.0</td><td style = \"text-align: right;\">400.0</td><td style = \"text-align: right;\">0</td><td style = \"text-align: right;\">0</td><td style = \"text-align: right;\">1</td><td style = \"text-align: right;\">-360</td><td style = \"text-align: right;\">360</td><td style = \"text-align: right;\">67</td><td style = \"text-align: right;\">119.837</td></tr><tr><td class = \"rowNumber\" style = \"font-weight: bold; text-align: right;\">140</td><td style = \"text-align: left;\">33</td><td style = \"text-align: left;\">29</td><td style = \"text-align: right;\">0.00425394</td><td style = \"text-align: right;\">0.0365836</td><td style = \"text-align: right;\">0.00348308</td><td style = \"text-align: right;\">400.0</td><td style = \"text-align: right;\">400.0</td><td style = \"text-align: right;\">400.0</td><td style = \"text-align: right;\">0</td><td style = \"text-align: right;\">0</td><td style = \"text-align: right;\">1</td><td style = \"text-align: right;\">-360</td><td style = \"text-align: right;\">360</td><td style = \"text-align: right;\">68</td><td style = \"text-align: right;\">27.3346</td></tr><tr><td class = \"rowNumber\" style = \"font-weight: bold; text-align: right;\">141</td><td style = \"text-align: left;\">31</td><td style = \"text-align: left;\">30</td><td style = \"text-align: right;\">0.00625</td><td style = \"text-align: right;\">0.009375</td><td style = \"text-align: right;\">0.00555391</td><td style = \"text-align: right;\">400.0</td><td style = \"text-align: right;\">400.0</td><td style = \"text-align: right;\">400.0</td><td style = \"text-align: right;\">0</td><td style = \"text-align: right;\">0</td><td style = \"text-align: right;\">1</td><td style = \"text-align: right;\">-360</td><td style = \"text-align: right;\">360</td><td style = \"text-align: right;\">69</td><td style = \"text-align: right;\">106.667</td></tr><tr><td class = \"rowNumber\" style = \"font-weight: bold; text-align: right;\">142</td><td style = \"text-align: left;\">32</td><td style = \"text-align: left;\">31</td><td style = \"text-align: right;\">0.00845975</td><td style = \"text-align: right;\">0.0214944</td><td style = \"text-align: right;\">0.00839269</td><td style = \"text-align: right;\">400.0</td><td style = \"text-align: right;\">400.0</td><td style = \"text-align: right;\">400.0</td><td style = \"text-align: right;\">0</td><td style = \"text-align: right;\">0</td><td style = \"text-align: right;\">1</td><td style = \"text-align: right;\">-360</td><td style = \"text-align: right;\">360</td><td style = \"text-align: right;\">70</td><td style = \"text-align: right;\">46.5238</td></tr><tr><td class = \"rowNumber\" style = \"font-weight: bold; text-align: right;\">143</td><td style = \"text-align: left;\">33</td><td style = \"text-align: left;\">31</td><td style = \"text-align: right;\">0.000950375</td><td style = \"text-align: right;\">0.00830369</td><td style = \"text-align: right;\">0.00505114</td><td style = \"text-align: right;\">400.0</td><td style = \"text-align: right;\">400.0</td><td style = \"text-align: right;\">400.0</td><td style = \"text-align: right;\">0</td><td style = \"text-align: right;\">0</td><td style = \"text-align: right;\">1</td><td style = \"text-align: right;\">-360</td><td style = \"text-align: right;\">360</td><td style = \"text-align: right;\">71</td><td style = \"text-align: right;\">120.428</td></tr><tr><td class = \"rowNumber\" style = \"font-weight: bold; text-align: right;\">144</td><td style = \"text-align: left;\">33</td><td style = \"text-align: left;\">32</td><td style = \"text-align: right;\">0.00228119</td><td style = \"text-align: right;\">0.008931</td><td style = \"text-align: right;\">0.0127316</td><td style = \"text-align: right;\">400.0</td><td style = \"text-align: right;\">400.0</td><td style = \"text-align: right;\">400.0</td><td style = \"text-align: right;\">0</td><td style = \"text-align: right;\">0</td><td style = \"text-align: right;\">1</td><td style = \"text-align: right;\">-360</td><td style = \"text-align: right;\">360</td><td style = \"text-align: right;\">72</td><td style = \"text-align: right;\">111.97</td></tr></tbody></table></div>"
      ],
      "text/latex": [
       "\\begin{tabular}{r|cccccccccccccc}\n",
       "\t& fbus & tbus & r & x & b & ratea & rateb & ratec & ratio & angle & status & angmin & angmax & \\\\\n",
       "\t\\hline\n",
       "\t& String3 & String3 & Float64 & Float64 & Float64 & Float64 & Float64 & Float64 & Int64 & Int64 & Int64 & Int64 & Int64 & \\\\\n",
       "\t\\hline\n",
       "\t1 & 1 & 2 & 0.00266925 & 0.0323779 & 0.0196113 & 400.0 & 400.0 & 400.0 & 0 & 0 & 1 & -360 & 360 & $\\dots$ \\\\\n",
       "\t2 & 1 & 5 & 0.00287887 & 0.0286089 & 0.0103084 & 400.0 & 400.0 & 400.0 & 0 & 0 & 1 & -360 & 360 & $\\dots$ \\\\\n",
       "\t3 & 2 & 3 & 0.00131306 & 0.0190229 & 0.0102966 & 400.0 & 400.0 & 400.0 & 0 & 0 & 1 & -360 & 360 & $\\dots$ \\\\\n",
       "\t4 & 2 & 6 & 0.000803188 & 0.0149712 & 0.00476255 & 400.0 & 400.0 & 400.0 & 0 & 0 & 1 & -360 & 360 & $\\dots$ \\\\\n",
       "\t5 & 3 & 10 & 0.000399063 & 0.00548875 & 0.00238071 & 400.0 & 400.0 & 400.0 & 0 & 0 & 1 & -360 & 360 & $\\dots$ \\\\\n",
       "\t6 & 4 & 5 & 0.00114981 & 0.0183772 & 0.0126698 & 400.0 & 400.0 & 400.0 & 0 & 0 & 1 & -360 & 360 & $\\dots$ \\\\\n",
       "\t7 & 4 & 6 & 0.00209787 & 0.0318498 & 0.0106544 & 400.0 & 400.0 & 400.0 & 0 & 0 & 1 & -360 & 360 & $\\dots$ \\\\\n",
       "\t8 & 4 & 14 & 0.00220469 & 0.0290109 & 0.00897751 & 400.0 & 400.0 & 400.0 & 0 & 0 & 1 & -360 & 360 & $\\dots$ \\\\\n",
       "\t9 & 5 & 6 & 0.000706313 & 0.00961025 & 0.00913257 & 400.0 & 400.0 & 400.0 & 0 & 0 & 1 & -360 & 360 & $\\dots$ \\\\\n",
       "\t10 & 5 & 14 & 0.00178231 & 0.0184703 & 0.00196471 & 400.0 & 400.0 & 400.0 & 0 & 0 & 1 & -360 & 360 & $\\dots$ \\\\\n",
       "\t11 & 6 & 7 & 0.00119981 & 0.0192356 & 0.0267716 & 400.0 & 400.0 & 400.0 & 0 & 0 & 1 & -360 & 360 & $\\dots$ \\\\\n",
       "\t12 & 6 & 13 & 0.000327813 & 0.00569294 & 0.00236706 & 400.0 & 400.0 & 400.0 & 0 & 0 & 1 & -360 & 360 & $\\dots$ \\\\\n",
       "\t13 & 7 & 8 & 0.000412188 & 0.00449369 & 0.046537 & 400.0 & 400.0 & 400.0 & 0 & 0 & 1 & -360 & 360 & $\\dots$ \\\\\n",
       "\t14 & 7 & 9 & 0.000912813 & 0.00961181 & 0.0248062 & 400.0 & 400.0 & 400.0 & 0 & 0 & 1 & -360 & 360 & $\\dots$ \\\\\n",
       "\t15 & 7 & 10 & 0.000213438 & 0.00283269 & 0.00717854 & 400.0 & 400.0 & 400.0 & 0 & 0 & 1 & -360 & 360 & $\\dots$ \\\\\n",
       "\t16 & 8 & 9 & 0.00014 & 0.00176 & 0.00777599 & 400.0 & 400.0 & 400.0 & 0 & 0 & 1 & -360 & 360 & $\\dots$ \\\\\n",
       "\t17 & 8 & 10 & 0.000446188 & 0.005416 & 0.0492475 & 400.0 & 400.0 & 400.0 & 0 & 0 & 1 & -360 & 360 & $\\dots$ \\\\\n",
       "\t18 & 8 & 13 & 0.000541563 & 0.00778087 & 0.0158114 & 400.0 & 400.0 & 400.0 & 0 & 0 & 1 & -360 & 360 & $\\dots$ \\\\\n",
       "\t19 & 9 & 11 & 0.000934125 & 0.00944906 & 0.00374001 & 400.0 & 400.0 & 400.0 & 0 & 0 & 1 & -360 & 360 & $\\dots$ \\\\\n",
       "\t20 & 9 & 13 & 0.000277375 & 0.00272575 & 0.00444232 & 400.0 & 400.0 & 400.0 & 0 & 0 & 1 & -360 & 360 & $\\dots$ \\\\\n",
       "\t21 & 10 & 11 & 0.000366938 & 0.00494194 & 0.0030837 & 400.0 & 400.0 & 400.0 & 0 & 0 & 1 & -360 & 360 & $\\dots$ \\\\\n",
       "\t22 & 11 & 12 & 0.00204112 & 0.0293363 & 0.00836918 & 400.0 & 400.0 & 400.0 & 0 & 0 & 1 & -360 & 360 & $\\dots$ \\\\\n",
       "\t23 & 11 & 13 & 0.000979313 & 0.01555 & 0.0068301 & 400.0 & 400.0 & 400.0 & 0 & 0 & 1 & -360 & 360 & $\\dots$ \\\\\n",
       "\t24 & 12 & 13 & 0.000660063 & 0.0118286 & 0.00465276 & 400.0 & 400.0 & 400.0 & 0 & 0 & 1 & -360 & 360 & $\\dots$ \\\\\n",
       "\t25 & 12 & 16 & 0.000488125 & 0.00938675 & 0.00464777 & 400.0 & 400.0 & 400.0 & 0 & 0 & 1 & -360 & 360 & $\\dots$ \\\\\n",
       "\t26 & 13 & 14A & 0.00122219 & 0.0166115 & 0.00503391 & 400.0 & 400.0 & 400.0 & 0 & 0 & 1 & -360 & 360 & $\\dots$ \\\\\n",
       "\t27 & 13 & 17 & 0.000664438 & 0.00864231 & 0.0135528 & 400.0 & 400.0 & 400.0 & 0 & 0 & 1 & -360 & 360 & $\\dots$ \\\\\n",
       "\t28 & 14 & 15 & 0.00088875 & 0.00965956 & 0.00289576 & 400.0 & 400.0 & 400.0 & 0 & 0 & 1 & -360 & 360 & $\\dots$ \\\\\n",
       "\t29 & 14A & 14 & 0.001026 & 0.0118831 & 0.00622196 & 400.0 & 400.0 & 400.0 & 0 & 0 & 1 & -360 & 360 & $\\dots$ \\\\\n",
       "\t30 & 14A & 15 & 0.000270688 & 0.00299631 & 0.00137864 & 400.0 & 400.0 & 400.0 & 0 & 0 & 1 & -360 & 360 & $\\dots$ \\\\\n",
       "\t$\\dots$ & $\\dots$ & $\\dots$ & $\\dots$ & $\\dots$ & $\\dots$ & $\\dots$ & $\\dots$ & $\\dots$ & $\\dots$ & $\\dots$ & $\\dots$ & $\\dots$ & $\\dots$ &  \\\\\n",
       "\\end{tabular}\n"
      ],
      "text/plain": [
       "\u001b[1m144×15 DataFrame\u001b[0m\n",
       "\u001b[1m Row \u001b[0m│\u001b[1m fbus    \u001b[0m\u001b[1m tbus    \u001b[0m\u001b[1m r           \u001b[0m\u001b[1m x          \u001b[0m\u001b[1m b          \u001b[0m\u001b[1m ratea   \u001b[0m\u001b[1m rateb   \u001b[0m\u001b[1m ratec   \u001b[0m\u001b[1m ratio \u001b[0m\u001b[1m angle \u001b[0m\u001b[1m status \u001b[0m\u001b[1m angmin \u001b[0m\u001b[1m\u001b[0m ⋯\n",
       "     │\u001b[90m String3 \u001b[0m\u001b[90m String3 \u001b[0m\u001b[90m Float64     \u001b[0m\u001b[90m Float64    \u001b[0m\u001b[90m Float64    \u001b[0m\u001b[90m Float64 \u001b[0m\u001b[90m Float64 \u001b[0m\u001b[90m Float64 \u001b[0m\u001b[90m Int64 \u001b[0m\u001b[90m Int64 \u001b[0m\u001b[90m Int64  \u001b[0m\u001b[90m Int64  \u001b[0m\u001b[90m\u001b[0m ⋯\n",
       "─────┼──────────────────────────────────────────────────────────────────────────────────────────────────────────────────\n",
       "   1 │ 1        2        0.00266925   0.0323779   0.0196113     400.0    400.0    400.0      0      0       1    -360  ⋯\n",
       "   2 │ 1        5        0.00287887   0.0286089   0.0103084     400.0    400.0    400.0      0      0       1    -360\n",
       "   3 │ 2        3        0.00131306   0.0190229   0.0102966     400.0    400.0    400.0      0      0       1    -360\n",
       "   4 │ 2        6        0.000803188  0.0149712   0.00476255    400.0    400.0    400.0      0      0       1    -360\n",
       "   5 │ 3        10       0.000399063  0.00548875  0.00238071    400.0    400.0    400.0      0      0       1    -360  ⋯\n",
       "   6 │ 4        5        0.00114981   0.0183772   0.0126698     400.0    400.0    400.0      0      0       1    -360\n",
       "   7 │ 4        6        0.00209787   0.0318498   0.0106544     400.0    400.0    400.0      0      0       1    -360\n",
       "   8 │ 4        14       0.00220469   0.0290109   0.00897751    400.0    400.0    400.0      0      0       1    -360\n",
       "   9 │ 5        6        0.000706313  0.00961025  0.00913257    400.0    400.0    400.0      0      0       1    -360  ⋯\n",
       "  10 │ 5        14       0.00178231   0.0184703   0.00196471    400.0    400.0    400.0      0      0       1    -360\n",
       "  11 │ 6        7        0.00119981   0.0192356   0.0267716     400.0    400.0    400.0      0      0       1    -360\n",
       "  ⋮  │    ⋮        ⋮          ⋮           ⋮           ⋮          ⋮        ⋮        ⋮       ⋮      ⋮      ⋮       ⋮     ⋱\n",
       " 135 │ 29       27W      0.000516438  0.0106281   0.00299608    400.0    400.0    400.0      0      0       1    -360\n",
       " 136 │ 29       28       0.000826875  0.0120264   0.00355633    400.0    400.0    400.0      0      0       1    -360  ⋯\n",
       " 137 │ 31       28       0.00118531   0.00383031  0.00512333    400.0    400.0    400.0      0      0       1    -360\n",
       " 138 │ 32       28       0.0          0.0         0.0           400.0    400.0    400.0      0      0       1    -360\n",
       " 139 │ 31       29       0.000802688  0.00834469  0.00568591    400.0    400.0    400.0      0      0       1    -360\n",
       " 140 │ 33       29       0.00425394   0.0365836   0.00348308    400.0    400.0    400.0      0      0       1    -360  ⋯\n",
       " 141 │ 31       30       0.00625      0.009375    0.00555391    400.0    400.0    400.0      0      0       1    -360\n",
       " 142 │ 32       31       0.00845975   0.0214944   0.00839269    400.0    400.0    400.0      0      0       1    -360\n",
       " 143 │ 33       31       0.000950375  0.00830369  0.00505114    400.0    400.0    400.0      0      0       1    -360\n",
       " 144 │ 33       32       0.00228119   0.008931    0.0127316     400.0    400.0    400.0      0      0       1    -360  ⋯\n",
       "\u001b[36m                                                                                          3 columns and 123 rows omitted\u001b[0m"
      ]
     },
     "execution_count": 8,
     "metadata": {},
     "output_type": "execute_result"
    }
   ],
   "source": [
    "# Here are the transmission lines:\n",
    "branch"
   ]
  },
  {
   "cell_type": "markdown",
   "metadata": {},
   "source": [
    "Note that while there are three lines, there are six entries here. There is an entry for each 'direction' of flow the lines can accomodate, hence six entries for three lines. The column `fbus` denotes the ID of the \"from bus\" or origin bus and the column `tbus` denotes the ID of the \"to bus\" or destination bus (e.g. `fbus`=1, `tbus`=3 is the flow in the direction from bus 1 to bus 3). \n",
    "\n",
    "For this transport model formulation, we are only using transmission line capacity (known as \"ratings\"), given in `ratea`, `rateb`, and `ratec`. These correspond to different ratings based on how long the line might be overloaded, with `ratec` known as an \"emergency rating\", which could exceed the long-term rating, `ratea`. We will use `ratea` for this model. The dataset also contains resistance and reactance."
   ]
  },
  {
   "cell_type": "markdown",
   "metadata": {},
   "source": [
    "### 3. Create solver function (transport)"
   ]
  },
  {
   "cell_type": "code",
   "execution_count": 9,
   "metadata": {},
   "outputs": [
    {
     "data": {
      "text/plain": [
       "transport (generic function with 1 method)"
      ]
     },
     "execution_count": 9,
     "metadata": {},
     "output_type": "execute_result"
    }
   ],
   "source": [
    "#=\n",
    "Function to solve transport flow problem \n",
    "Inputs:\n",
    "    gen -- dataframe with generator info\n",
    "    branch -- dataframe with transmission lines info\n",
    "    gencost -- dataframe with generator info\n",
    "    bus -- dataframe with bus types and loads\n",
    "Note: it is always a good idea to include a comment blog describing your\n",
    "function's inputs clearly!\n",
    "=#\n",
    "function transport(gen, branch, gencost, bus)\n",
    "    Transport = Model(HiGHS.Optimizer) # You could use Clp as well, with Clp.Optimizer\n",
    "    \n",
    "    # Define sets\n",
    "      # Set of all generators\n",
    "    G = gen.id\n",
    "      # Set of all nodes\n",
    "    N = bus.bus_i\n",
    "      # Note: sets J_i and G_i will be described using dataframe indexing below\n",
    "\n",
    "    # Decision variables   \n",
    "    @variables(Transport, begin\n",
    "        GEN[G]  >= 0     # generation        \n",
    "        # Note: we assume Pmin = 0 for all resources for simplicty here\n",
    "        FLOW[N,N]        # flow\n",
    "        # Note: flow is not constrained to be positive\n",
    "        # By convention, positive values will indicate flow from the first to second node\n",
    "        # in the tuple, and a negative flow will indicate flow from the second to the first\n",
    "        # This matrix is thus \"anti-symmetric\", which we will ensure with an appropriate\n",
    "        # constraint.\n",
    "    end)\n",
    "                \n",
    "    # Objective function: minimize sum of generation variable costs for all generators\n",
    "    @objective(Transport, Min, \n",
    "        sum( gencost[g,:x1] * GEN[g] \n",
    "                        for g in G)\n",
    "    )\n",
    "\n",
    "    # Supply/demand balance constraints, accounting for power flows in/out of each node\n",
    "    @constraint(Transport, cBalance[i in N], \n",
    "        sum(GEN[g] for g in gen[gen.bus .== i,:id]) \n",
    "                - bus[bus.bus_i .== i,:pd][1] ==\n",
    "        sum(FLOW[i,j] for j in branch[branch.tbus .== i,:fbus]))\n",
    "\n",
    "    # Max generation constraints\n",
    "    @constraint(Transport, cMaxGen[g in G],\n",
    "                    GEN[g] <= gen[g,:pmax])\n",
    "\n",
    "    # Flow constraints on each branch\n",
    "    for l in 1:nrow(branch)\n",
    "        @constraint(Transport, \n",
    "            FLOW[branch[l,:fbus][1],branch[l,:tbus][1]] <= \n",
    "                        branch[l,:ratea])\n",
    "    end\n",
    "    \n",
    "    # Anti-symmetric flow constraints\n",
    "    @constraint(Transport, cFlowSymmetric[i in N, j in N],\n",
    "                    FLOW[i,j] == -FLOW[j,i])\n",
    "\n",
    "    # Solve statement (! indicates runs in place)\n",
    "    optimize!(Transport)\n",
    "\n",
    "    # Dataframe of optimal decision variables\n",
    "    generation = DataFrame(\n",
    "        id = gen.id,\n",
    "        node = gen.bus,\n",
    "        gen = value.(GEN).data\n",
    "        )\n",
    "    \n",
    "    flows = value.(FLOW).data\n",
    "\n",
    "    # Return the solution and objective as named tuple\n",
    "    return (\n",
    "        generation = generation, \n",
    "        flows,\n",
    "        cost = objective_value(Transport),\n",
    "        status = termination_status(Transport)\n",
    "    )\n",
    "end"
   ]
  },
  {
   "cell_type": "markdown",
   "metadata": {},
   "source": [
    "### 4. Solve"
   ]
  },
  {
   "cell_type": "code",
   "execution_count": 10,
   "metadata": {},
   "outputs": [
    {
     "ename": "LoadError",
     "evalue": "Repeated index 1. Index sets must have unique elements.",
     "output_type": "error",
     "traceback": [
      "Repeated index 1. Index sets must have unique elements.",
      "",
      "Stacktrace:",
      "  [1] error(s::String)",
      "    @ Base .\\error.jl:35",
      "  [2] build_lookup(ax::Vector{String3})",
      "    @ JuMP.Containers C:\\Users\\44780\\.julia\\packages\\JuMP\\mvUVO\\src\\Containers\\DenseAxisArray.jl:44",
      "  [3] _broadcast_getindex_evalf",
      "    @ .\\broadcast.jl:683 [inlined]",
      "  [4] _broadcast_getindex",
      "    @ .\\broadcast.jl:656 [inlined]",
      "  [5] #31",
      "    @ .\\broadcast.jl:1088 [inlined]",
      "  [6] ntuple",
      "    @ .\\ntuple.jl:49 [inlined]",
      "  [7] copy",
      "    @ .\\broadcast.jl:1088 [inlined]",
      "  [8] materialize(bc::Base.Broadcast.Broadcasted{Base.Broadcast.Style{Tuple}, Nothing, typeof(JuMP.Containers.build_lookup), Tuple{Tuple{Vector{String3}, Vector{String3}}}})",
      "    @ Base.Broadcast .\\broadcast.jl:873",
      "  [9] JuMP.Containers.DenseAxisArray(::Matrix{VariableRef}, ::Vector{String3}, ::Vararg{Vector{String3}}; names::Tuple{Symbol, Symbol})",
      "    @ JuMP.Containers C:\\Users\\44780\\.julia\\packages\\JuMP\\mvUVO\\src\\Containers\\DenseAxisArray.jl:224",
      " [10] container(f::Function, indices::JuMP.Containers.VectorizedProductIterator{Tuple{Vector{String3}, Vector{String3}}}, ::Type{JuMP.Containers.DenseAxisArray}, names::Vector{Any})",
      "    @ JuMP.Containers C:\\Users\\44780\\.julia\\packages\\JuMP\\mvUVO\\src\\Containers\\container.jl:123",
      " [11] container(f::Function, indices::JuMP.Containers.VectorizedProductIterator{Tuple{Vector{String3}, Vector{String3}}}, #unused#::Type{JuMP.Containers.AutoContainerType}, names::Vector{Any})",
      "    @ JuMP.Containers C:\\Users\\44780\\.julia\\packages\\JuMP\\mvUVO\\src\\Containers\\container.jl:75",
      " [12] macro expansion",
      "    @ C:\\Users\\44780\\.julia\\packages\\JuMP\\mvUVO\\src\\macros.jl:136 [inlined]",
      " [13] transport(gen::DataFrame, branch::DataFrame, gencost::DataFrame, bus::DataFrame)",
      "    @ Main .\\In[9]:25",
      " [14] top-level scope",
      "    @ In[10]:1"
     ]
    }
   ],
   "source": [
    "solution = transport(gen, branch, gencost, bus)\n",
    "solution.generation"
   ]
  },
  {
   "cell_type": "markdown",
   "metadata": {},
   "source": [
    "We generate all 600 MW from Gen A at Bus 1."
   ]
  },
  {
   "cell_type": "code",
   "execution_count": 11,
   "metadata": {},
   "outputs": [
    {
     "ename": "LoadError",
     "evalue": "UndefVarError: `solution` not defined",
     "output_type": "error",
     "traceback": [
      "UndefVarError: `solution` not defined",
      "",
      "Stacktrace:",
      " [1] top-level scope",
      "   @ In[11]:1"
     ]
    }
   ],
   "source": [
    "solution.flows"
   ]
  },
  {
   "cell_type": "markdown",
   "metadata": {},
   "source": [
    "In turn, the following flows are created: \n",
    "\n",
    "- $l_{13}$ = 500 MW\n",
    "- $l_{12}$ = 100 MW\n",
    "- $l_{23}$ = 100 MW\n",
    "\n",
    "Hence, we are able to maximize the capacity of the line from 1 to 3 ($l_{13}$), and then route the remaining power through Bus 2."
   ]
  },
  {
   "cell_type": "markdown",
   "metadata": {},
   "source": [
    "## The \"DC\" Optimal Power Flow problem\n",
    "\n",
    "The above model is not physically correct as we cannot arbitrarily route power through lines. We will now introduce a linear approximation to the optimal power flow problem that incorporates this limitation and is tractable and reasonably accurate. This is commonly called the \"DC\" optimal power flow problem, but in reality (as we'll see below), it is a linearization that still relates to the physics of AC power flows, it just simplifies (and ignores) certain non-convexities to produce a tractable linear programming problem that remains a valid approximation under certain circumstances.\n",
    "\n",
    "In the \"DC\" or linear approximation of the AC optimal power flow problem, power flows along a line from bus $i$ to bus $j$ are driven by voltage [phase angle](https://en.wikipedia.org/wiki/Phasor) differences, denoted by $\\theta_i$ and $\\theta_j$:\n",
    "\n",
    "$$\n",
    "FLOW_{ij} = BaseMVA \\times B_{ij} (\\theta_i-\\theta_j)\n",
    "$$\n",
    "\n",
    "Where $FLOW_{ij}$ is the flow across the line from node $i$ to node $j$ (in MW), $BaseMVA$ is the base power for the network (in MVA), $B_{ij}$ is the [susceptance](https://en.wikipedia.org/wiki/Susceptance) for the line connecting buses $i$ and $j$ (in per unit terms) and $(\\theta_i-\\theta_j)$ is the difference in voltage angles between buses (in radians).\n",
    "\n",
    "Susceptance is the imaginary part of the [admittance](https://en.wikipedia.org/wiki/Admittance) of a line, where [admittance](https://en.wikipedia.org/wiki/Admittance) is a complex number that describes how easy it is for AC current to flow across a given conductor. Power flows in parallel circuits in an AC network in proportion to their admittance (or inverse proportion to [impedance](https://en.wikipedia.org/wiki/Electrical_impedance), which describes how hard it is a measure of the opposition that a circuit presents to a current when a voltage is applied).\n",
    "\n",
    "Voltage [phase](https://www.allaboutcircuits.com/textbook/alternating-current/chpt-1/ac-phase/) angles describe the displacement of the AC voltage waveform at each node, relative to a reference or \"slack\" bus. A difference in voltage angles between buses $i$ and $j$ indicates that the peaks and troughs in the sinusoidal voltage waveform at bus $i$ are shifted in time relative to the voltage waveform at bus $j$, as in the image below.\n",
    "\n",
    "<img src=\"img/phase_shift.png\" style=\"width: 450px; height: auto\"> (*Image source: [allaboutcircuits.com](https://www.allaboutcircuits.com/textbook/alternating-current/chpt-1/ac-phase/)*)\n",
    "\n",
    "In AC circuits, power flows from nodes with higher voltage angle to buses with lower voltage angle, just as power flows from higher voltage magnitude to lower voltage magnitude in DC circuits.\n",
    "\n",
    "What causes the shift in voltage phase angle? An AC current flowing across a conductor encountering either [inductive reactance](https://en.wikipedia.org/wiki/Electrical_impedance#Inductive_reactance) (which relates to the magnetizing current, or the energy required to continually induce or establish magnetic fields around a conductor as AC current polarity flips each cycle) or [capacitive reactance](https://en.wikipedia.org/wiki/Electrical_impedance#Capacitive_reactance) (which relates to the charging current, or the energy required to sustain capacitive charges between two conductors separated by an insulator) will experience a shift in the voltage waveform, relative to the current wave form. Inductive reactance causes the voltage waveform to shift forward relative to the current, while capacitive reactive cases the voltage to shift backwards relative to the current. In overhead transmission lines, the primary source of voltage phase angle shifts is the inductance of the transmission lines themselves (although capacitance is relevant for underground lines).\n",
    "\n",
    "(For (a bit) more on the physics of power flow on AC transmissio lines, you can review [this tutorial from the PJM Interconnection](https://learn.pjm.com/~/media/training/nerc-certifications/gen-exam-materials/bet/20160104-basics-of-elec-power-flow-on-ac.ashx))\n",
    "\n",
    "The reason this approximation is known as the \"DC OPF\" is because we ignore [reactive power](https://en.wikipedia.org/wiki/AC_power#Reactive_power_flows) and focus only on flows of real power as in a DC network. But you can see why \"DC\" OPF is actually a misnomer: we're still dealing with AC voltages and susceptance terms here, we're just linearizing the problem through some simplifying assumptions. In particular, the three basic assumptions used to derive a linearized or \"DC\" OPF approximation from the underlying AC OPF problem are as follows:\n",
    "\n",
    "1. The resistance for each branch is negligible relative to the reactance, and can therefore be approximated as ~0.\n",
    "2. The voltage magnitude at each bus is constant and equal to the base voltage (e.g. equal to 1 p.u).\n",
    "3. The voltage angle difference $(\\theta_j-\\theta_i)$ across any branch from bus $i$ to $j$ is sufficiently small such that $cos(\\theta_i-\\theta_j) \\approx 1$ and $sin(\\theta_i-\\theta_j) \\approx (\\theta_i-\\theta_j)$. Note that $\\theta_i,\\theta_j$ are measured in [radians](https://en.wikipedia.org/wiki/Radian).\n",
    "\n",
    "Fortunately, under normal operating conditions, these conditions hold for electricity transmission networks (although note they are not generally acceptable simplifying assumptions for lower voltage distribution networks). "
   ]
  },
  {
   "cell_type": "markdown",
   "metadata": {},
   "source": [
    "We can now modify the above transport model to incorporate these new power flow-related decision variables and constraints:\n",
    "\n",
    "$$\n",
    "\\begin{align}\n",
    "\\min \\ & \\sum_{g \\in G} VarCost_g \\times GEN_g & \\\\\n",
    "\\text{s.t.} & \\\\\n",
    " & \\sum_{g \\in G_i} GEN_g - Demand_i = \\sum_{j\\in J(i)} FLOW_{i,j} & \\forall \\quad i \\in \\mathcal{N}\\\\\n",
    " & FLOW_{i,j} \\leq MaxFlow_{ij} & \\forall \\quad i \\in \\mathcal{N}, \\forall j \\in J_i \\\\\n",
    " & FLOW_{i,j} = BaseMVA \\times B_{ij}(\\theta_i-\\theta_j) & \\forall \\quad i \\in \\mathcal{N}, \\forall j \\in J_i \\\\\n",
    " & GEN_g \\leq Pmax_g & \\forall \\quad g \\in G \\\\\n",
    " & GEN_g \\geq Pmin_g & \\forall \\quad g \\in G \\\\\n",
    " & \\theta_{slack} = 0\n",
    "\\end{align}\n",
    "$$\n",
    "\n",
    "Note that we no longer require a constraint to enforce anti-symmetric flows.\n",
    "\n",
    "We have the following **sets**:\n",
    "- $\\mathcal{N}$, the set of all nodes (or buses) in the network\n",
    "- $J_i \\subset \\mathcal{N}$, the subset of nodes that are connected to node $i$\n",
    "- $G_i \\subset G$, the subset of generators located at node $i$\n",
    " \n",
    "The **decision variables** in the above problem are:\n",
    "\n",
    "- $GEN_{g}$, the generation (in MW) produced by each generator, $g$\n",
    "- $\\theta_i$, the voltage phase angle at bus $i$ relative to the slack or reference bus ($\\theta_{slack}$)\n",
    "- $FLOW_{i,j}$, the flow from bus i to bus j (in MW)\n",
    "\n",
    "Note that unlike the transport flow problem, in the OPF problem we *do not* directly choose the flows across lines, but rather choose the real power injections at generator buses via $GEN_{g}$ and the voltage angles $\\theta_i$, which collectively determine the power flows across lines via the collection of constraints above. The $FLOW$ decision variable is thus an \"auxialiary\" variable, as it is precisely determined by the constraint $FLOW_{i,j} = BaseMVA \\times B_{ij}(\\theta_i-\\theta_j)$ for all pairs ($i,j$) for which transmission lines exist. \n",
    "\n",
    "(Note that we create $FLOW$ decisions for some pairs of nodes ($i,j$) that are not connected by lines; these variables are \"free\" variables, as they are not constrained and do not show up in/effect the objective function, so the solver will generally remove these variables in pre-solve step. We could try a different approach to sets for the $FLOW$ variable, e.g. by setting across lines instead of pairs of nodes, to avoid creating these unecessary free variables, but for convenience, we'll create and ignore them for now).\n",
    "\n",
    "The **parameters** are:\n",
    "\n",
    "- $Pmin_g$, the minimum operating bounds for the generator (based on engineering or natural resource constraints)\n",
    "- $Pmax_g$, the maximum operating bounds for the generator (based on engineering or natural resource constraints)\n",
    "- $Demand_i$, the demand (in MW) at bus $i$\n",
    "- $MaxFlow_{ij}$, the maximum allowable flow along the line from $i$ to $j$\n",
    "- $VarCost_g$, the variable cost of generator $g$\n",
    "- $B_{ij}$, susceptance for line connecting buses $i$ and $j$\n",
    "- $\\theta_{slack}$, the \"slack\" bus or reference bus from which relative voltage angles at all other buses are calcluated. Thus $\\theta_{slack}=0$.\n",
    "- $BaseMVA$, the base power in MVA for the network (used to scale from standard units to per unit values or vice versa)."
   ]
  },
  {
   "cell_type": "markdown",
   "metadata": {},
   "source": [
    "### 3. Create solver function (dcopf)"
   ]
  },
  {
   "cell_type": "code",
   "execution_count": 12,
   "metadata": {},
   "outputs": [
    {
     "data": {
      "text/plain": [
       "dcopf (generic function with 1 method)"
      ]
     },
     "execution_count": 12,
     "metadata": {},
     "output_type": "execute_result"
    }
   ],
   "source": [
    "#=\n",
    "Function to solve DC OPF problem \n",
    "Inputs:\n",
    "    gen -- dataframe with generator info\n",
    "    branch -- dataframe with transmission lines info\n",
    "    gencost -- dataframe with generator info\n",
    "    bus -- dataframe with bus types and loads\n",
    "Note: it is always a good idea to include a comment blog describing your\n",
    "function's inputs clearly!\n",
    "=#\n",
    "function dcopf(gen, branch, gencost, bus)\n",
    "    DCOPF = Model(HiGHS.Optimizer) # You could use Clp as well, with Clp.Optimizer\n",
    "    \n",
    "    # Define sets\n",
    "      # Set of all generators\n",
    "    G = gen.id\n",
    "      # Set of all nodes\n",
    "    \n",
    "      # Set of all nodes - with unique elements ammended line\n",
    "    N = sort(union(unique(branch.fbus), \n",
    "            unique(branch.tbus)))\n",
    "    \n",
    "      # sets J_i and G_i will be described using dataframe indexing below\n",
    "\n",
    "    \n",
    "    # Define per unit base units for the system \n",
    "    # used to convert from per unit values to standard unit\n",
    "    # values (e.g. p.u. power flows to MW/MVA)\n",
    "    baseMVA = gen.mbase[1] # base MVA is 100 MVA for this system\n",
    "    \n",
    "    # Decision variables   \n",
    "    @variables(DCOPF, begin\n",
    "        GEN[G]  >= 0     # generation        \n",
    "        # Note: we assume Pmin = 0 for all resources for simplicty here\n",
    "        THETA[N]         # voltage phase angle of bus\n",
    "        FLOW[N,N]        # flows between all pairs of nodes\n",
    "    end)\n",
    "    \n",
    "    # Create slack bus with reference angle = 0\n",
    "    # Note: by convention this is a generator bus. Hence, we will select bus 1\n",
    "    fix(THETA[1],0)\n",
    "                \n",
    "    # Objective function\n",
    "    @objective(DCOPF, Min, \n",
    "        sum( gencost[g,:x1] * GEN[g] \n",
    "                        for g in G)\n",
    "    )\n",
    "    \n",
    "    # Supply demand balances\n",
    "    @constraint(DCOPF, cBalance[i in N], \n",
    "        sum(GEN[g] for g in gen[gen.bus .== i,:id]) \n",
    "                - bus[bus.bus_i .== i,:pd][1] ==\n",
    "        sum(FLOW[i,j] for j in branch[branch.fbus .== i,:tbus])\n",
    "    )#essentially this is KCL \n",
    "    \n",
    "    # Max generation constraint\n",
    "    @constraint(DCOPF, cMaxGen[g in G],\n",
    "                    GEN[g] <= gen[g,:pmax])\n",
    "\n",
    "    # Flow constraints on each branch; \n",
    "    # In DCOPF, line flow is a function of voltage angles\n",
    "         # Create an array of references to the line constraints, \n",
    "       # which we \"fill\" below in loop\n",
    "    cLineFlows = JuMP.Containers.DenseAxisArray{Any}(undef, 1:nrow(branch)) \n",
    "    for l in 1:nrow(branch)\n",
    "        cLineFlows[l] = @constraint(DCOPF, \n",
    "            FLOW[branch[l,:fbus],branch[l,:tbus]] == \n",
    "            baseMVA*branch[l,:sus]*(THETA[branch[l,:fbus]] - THETA[branch[l,:tbus]])\n",
    "        ) #this is essentially KVL (all voltages sum to 0 in the loop - this is also why we need the slack bus to solve the system\n",
    "    end\n",
    "    \n",
    "    # Max line flow constraints\n",
    "       # Create an array of references to the line constraints, \n",
    "       # which we \"fill\" below in loop\n",
    "    cLineLimits = JuMP.Containers.DenseAxisArray{Any}(undef, 1:nrow(branch)) \n",
    "    for l in 1:nrow(branch)\n",
    "        cLineLimits[l] = @constraint(DCOPF,\n",
    "           FLOW[branch[l,:fbus],branch[l,:tbus]] \n",
    "           <= branch[l,:ratea]\n",
    "        ) \n",
    "    end\n",
    "\n",
    "    # Solve statement (! indicates runs in place)\n",
    "    optimize!(DCOPF)\n",
    "\n",
    "    # Output variables\n",
    "    generation = DataFrame(\n",
    "        id = gen.id,\n",
    "        node = gen.bus,\n",
    "        gen = value.(GEN).data\n",
    "        )\n",
    "    \n",
    "    angles = value.(THETA).data\n",
    "    \n",
    "    flows = DataFrame(\n",
    "        fbus = branch.fbus,\n",
    "        tbus = branch.tbus,\n",
    "        flow = baseMVA .* branch.sus .* (angles[branch.fbus] .- angles[branch.tbus])\n",
    "    )\n",
    "    \n",
    "    # We output the marginal values of the demand constraints, \n",
    "    # which will in fact be the prices to deliver power at a given bus.\n",
    "    prices = DataFrame(\n",
    "        node = bus.bus_i,\n",
    "        value = dual.(cBalance).data) # dual of a constraint tells us if we inc/red the RHS by a small amount (i.e 1MVAr) tells us the impact on the objective function. for a linear problem it's valid to take a dual\n",
    "    \n",
    "    # Return the solution and objective as named tuple\n",
    "    return (\n",
    "        generation = generation, \n",
    "        angles,\n",
    "        flows,\n",
    "        prices,\n",
    "        cost = objective_value(DCOPF),\n",
    "        status = termination_status(DCOPF)\n",
    "    )\n",
    "end"
   ]
  },
  {
   "cell_type": "markdown",
   "metadata": {},
   "source": [
    "### 4. Solve"
   ]
  },
  {
   "cell_type": "code",
   "execution_count": 13,
   "metadata": {},
   "outputs": [
    {
     "ename": "LoadError",
     "evalue": "KeyError: key 1 not found",
     "output_type": "error",
     "traceback": [
      "KeyError: key 1 not found",
      "",
      "Stacktrace:",
      " [1] getindex(h::Dict{String3, Int64}, key::Int64)",
      "   @ Base .\\dict.jl:484",
      " [2] getindex(x::JuMP.Containers._AxisLookup{Dict{String3, Int64}}, key::Int64)",
      "   @ JuMP.Containers C:\\Users\\44780\\.julia\\packages\\JuMP\\mvUVO\\src\\Containers\\DenseAxisArray.jl:52",
      " [3] _getindex_recurse(data::Tuple{JuMP.Containers._AxisLookup{Dict{String3, Int64}}}, keys::Tuple{Int64}, condition::JuMP.Containers.var\"#20#22\")",
      "   @ JuMP.Containers C:\\Users\\44780\\.julia\\packages\\JuMP\\mvUVO\\src\\Containers\\DenseAxisArray.jl:355",
      " [4] to_index(A::JuMP.Containers.DenseAxisArray{VariableRef, 1, Tuple{Vector{String3}}, Tuple{JuMP.Containers._AxisLookup{Dict{String3, Int64}}}}, idx::Tuple{Int64})",
      "   @ JuMP.Containers C:\\Users\\44780\\.julia\\packages\\JuMP\\mvUVO\\src\\Containers\\DenseAxisArray.jl:364",
      " [5] getindex(A::JuMP.Containers.DenseAxisArray{VariableRef, 1, Tuple{Vector{String3}}, Tuple{JuMP.Containers._AxisLookup{Dict{String3, Int64}}}}, args::Int64; kwargs::Base.Pairs{Symbol, Union{}, Tuple{}, NamedTuple{(), Tuple{}}})",
      "   @ JuMP.Containers C:\\Users\\44780\\.julia\\packages\\JuMP\\mvUVO\\src\\Containers\\DenseAxisArray.jl:391",
      " [6] getindex(A::JuMP.Containers.DenseAxisArray{VariableRef, 1, Tuple{Vector{String3}}, Tuple{JuMP.Containers._AxisLookup{Dict{String3, Int64}}}}, args::Int64)",
      "   @ JuMP.Containers C:\\Users\\44780\\.julia\\packages\\JuMP\\mvUVO\\src\\Containers\\DenseAxisArray.jl:384",
      " [7] dcopf(gen::DataFrame, branch::DataFrame, gencost::DataFrame, bus::DataFrame)",
      "   @ Main .\\In[12]:41",
      " [8] top-level scope",
      "   @ In[13]:1"
     ]
    }
   ],
   "source": [
    "solution = dcopf(gen, branch, gencost, bus)\n",
    "solution.generation"
   ]
  },
  {
   "cell_type": "markdown",
   "metadata": {},
   "source": [
    "Hence, we still generate all 600 MW from Gen A at Bus 1."
   ]
  },
  {
   "cell_type": "code",
   "execution_count": 14,
   "metadata": {},
   "outputs": [
    {
     "ename": "LoadError",
     "evalue": "UndefVarError: `solution` not defined",
     "output_type": "error",
     "traceback": [
      "UndefVarError: `solution` not defined",
      "",
      "Stacktrace:",
      " [1] top-level scope",
      "   @ In[14]:2"
     ]
    }
   ],
   "source": [
    "# These are the voltage phase angles of the buses relative to Bus 1.\n",
    "solution.angles\n"
   ]
  },
  {
   "cell_type": "code",
   "execution_count": 15,
   "metadata": {},
   "outputs": [
    {
     "ename": "LoadError",
     "evalue": "UndefVarError: `solution` not defined",
     "output_type": "error",
     "traceback": [
      "UndefVarError: `solution` not defined",
      "",
      "Stacktrace:",
      " [1] top-level scope",
      "   @ In[15]:1"
     ]
    }
   ],
   "source": [
    "solution.flows"
   ]
  },
  {
   "cell_type": "markdown",
   "metadata": {},
   "source": [
    "Thus, we notice that, in contrast to the transport model, we do not max out the capacity of $l_{13}$. The following flows are created:\n",
    "\n",
    "- $l_{1,3}$ = 400 MW\n",
    "- $l_{1,2}$ = 200 MW\n",
    "- $l_{2,3}$ = 200 MW\n",
    "\n",
    "The reason we can't make maximum use of line $l_{1,3}$ is because power flows split across parallel circuits in inverse proportion to the impedance of the circuit paths. Here, all three branches have equal susceptance, and thus equal impedance (since we are assuming resistance is ~0). Thus, the path $l_{1,2} \\rightarrow l_{2,3}$ has twice the impedance as the path $l_{1,3}$ and thus takes half as much power flow coming from Gen A at Bus 1."
   ]
  },
  {
   "cell_type": "markdown",
   "metadata": {},
   "source": [
    "### 5. Solve high demand case\n",
    "\n",
    "Now, let's increase demand at Bus 3 to 800 MW. Despite spare capacity at Gen A, it turns out we will no longer be able to generate all of our power from Gen A alone."
   ]
  },
  {
   "cell_type": "code",
   "execution_count": 16,
   "metadata": {},
   "outputs": [
    {
     "ename": "LoadError",
     "evalue": "KeyError: key 1 not found",
     "output_type": "error",
     "traceback": [
      "KeyError: key 1 not found",
      "",
      "Stacktrace:",
      " [1] getindex(h::Dict{String3, Int64}, key::Int64)",
      "   @ Base .\\dict.jl:484",
      " [2] getindex(x::JuMP.Containers._AxisLookup{Dict{String3, Int64}}, key::Int64)",
      "   @ JuMP.Containers C:\\Users\\44780\\.julia\\packages\\JuMP\\mvUVO\\src\\Containers\\DenseAxisArray.jl:52",
      " [3] _getindex_recurse(data::Tuple{JuMP.Containers._AxisLookup{Dict{String3, Int64}}}, keys::Tuple{Int64}, condition::JuMP.Containers.var\"#20#22\")",
      "   @ JuMP.Containers C:\\Users\\44780\\.julia\\packages\\JuMP\\mvUVO\\src\\Containers\\DenseAxisArray.jl:355",
      " [4] to_index(A::JuMP.Containers.DenseAxisArray{VariableRef, 1, Tuple{Vector{String3}}, Tuple{JuMP.Containers._AxisLookup{Dict{String3, Int64}}}}, idx::Tuple{Int64})",
      "   @ JuMP.Containers C:\\Users\\44780\\.julia\\packages\\JuMP\\mvUVO\\src\\Containers\\DenseAxisArray.jl:364",
      " [5] getindex(A::JuMP.Containers.DenseAxisArray{VariableRef, 1, Tuple{Vector{String3}}, Tuple{JuMP.Containers._AxisLookup{Dict{String3, Int64}}}}, args::Int64; kwargs::Base.Pairs{Symbol, Union{}, Tuple{}, NamedTuple{(), Tuple{}}})",
      "   @ JuMP.Containers C:\\Users\\44780\\.julia\\packages\\JuMP\\mvUVO\\src\\Containers\\DenseAxisArray.jl:391",
      " [6] getindex(A::JuMP.Containers.DenseAxisArray{VariableRef, 1, Tuple{Vector{String3}}, Tuple{JuMP.Containers._AxisLookup{Dict{String3, Int64}}}}, args::Int64)",
      "   @ JuMP.Containers C:\\Users\\44780\\.julia\\packages\\JuMP\\mvUVO\\src\\Containers\\DenseAxisArray.jl:384",
      " [7] dcopf(gen::DataFrame, branch::DataFrame, gencost::DataFrame, bus::DataFrame)",
      "   @ Main .\\In[12]:41",
      " [8] top-level scope",
      "   @ In[16]:4"
     ]
    }
   ],
   "source": [
    "bus_high = copy(bus)\n",
    "bus_high[3,:pd] = 800 # set demand at bus 3 to 800 MW\n",
    "\n",
    "sol_high = dcopf(gen, branch, gencost, bus_high)\n",
    "sol_high.generation"
   ]
  },
  {
   "cell_type": "markdown",
   "metadata": {},
   "source": [
    "This situation is explained by flow patterns, where the capacity of $l_{13}$ is at its maximum, but in order to meet demand at Bus 3, more power needs to be injected in Bus 2, requiring the more costly generator at Bus 2 to dispatch, despite spare capacity at the generator at Bus 1."
   ]
  },
  {
   "cell_type": "code",
   "execution_count": 17,
   "metadata": {},
   "outputs": [
    {
     "ename": "LoadError",
     "evalue": "UndefVarError: `sol_high` not defined",
     "output_type": "error",
     "traceback": [
      "UndefVarError: `sol_high` not defined",
      "",
      "Stacktrace:",
      " [1] top-level scope",
      "   @ In[17]:1"
     ]
    }
   ],
   "source": [
    "sol_high.flows"
   ]
  },
  {
   "cell_type": "code",
   "execution_count": 18,
   "metadata": {},
   "outputs": [
    {
     "ename": "LoadError",
     "evalue": "UndefVarError: `sol_high` not defined",
     "output_type": "error",
     "traceback": [
      "UndefVarError: `sol_high` not defined",
      "",
      "Stacktrace:",
      " [1] top-level scope",
      "   @ In[18]:1"
     ]
    }
   ],
   "source": [
    "sol_high.angles"
   ]
  },
  {
   "cell_type": "markdown",
   "metadata": {},
   "source": [
    "The following flows are created: \n",
    "\n",
    "- $l_{1,3}$ = 500 MW\n",
    "- $l_{1,2}$ = 200 MW\n",
    "- $l_{2,3}$ = 300 MW\n",
    "\n",
    "What is going on here?\n",
    "\n",
    "Generator 1 at Bus 1 produces 700 MW, which must split in proportion to impedance once again, with 2/3 of the power or 466.67 MW flowing along $l_{13}$ and 233.33 MW must flow along the route $l_{1,2} \\rightarrow l_{2,3}$ with double the impedance. \n",
    "\n",
    "At the same time, the 100 MW injected by generator 2 at Bus 2 *also* splits with 2/3 or 66.67 flowing along $l_{2,3}$ and 1/3 or 33.33 along $l_{2,1} \\rightarrow l_{1,3}$. \n",
    "\n",
    "The total flows across each segment are thus: \n",
    "\n",
    "- $l_{1,3}$ = 466.67 + 33.33 = 500 MW\n",
    "- $l_{1,2}$ = 233.33 - 33.33 = 200 MW\n",
    "- $l_{2,3}$ = 233. 33 + 66.67 = 300 MW"
   ]
  },
  {
   "cell_type": "markdown",
   "metadata": {},
   "source": [
    "### 6. Compare prices\n",
    "\n",
    "The marginal values of the demand constraints at a given bus represent the change in the objective that results from increasing demand at the bus by one unit. This is the natural definition of a \"value\" of power at that location, and is the basis for **[locational marginal prices](https://www.iso-ne.com/participate/support/faq/lmp)** (LMPs) found in electricity markets.\n",
    "\n",
    "We examine first the regular case of demand = 600 MW, then the high demand case = 800 MW."
   ]
  },
  {
   "cell_type": "code",
   "execution_count": 19,
   "metadata": {},
   "outputs": [
    {
     "ename": "LoadError",
     "evalue": "UndefVarError: `solution` not defined",
     "output_type": "error",
     "traceback": [
      "UndefVarError: `solution` not defined",
      "",
      "Stacktrace:",
      " [1] top-level scope",
      "   @ In[19]:1"
     ]
    }
   ],
   "source": [
    "solution.prices"
   ]
  },
  {
   "cell_type": "markdown",
   "metadata": {},
   "source": [
    "All prices are the same in this case. The interpretation: if we were to add an incremental load at any of the buses, we could meet it from additional production from Gen A which has marginal cost of \\$50 / MWh. We are not going to hit any transmission limits."
   ]
  },
  {
   "cell_type": "code",
   "execution_count": 20,
   "metadata": {},
   "outputs": [
    {
     "ename": "LoadError",
     "evalue": "UndefVarError: `sol_high` not defined",
     "output_type": "error",
     "traceback": [
      "UndefVarError: `sol_high` not defined",
      "",
      "Stacktrace:",
      " [1] top-level scope",
      "   @ In[20]:1"
     ]
    }
   ],
   "source": [
    "sol_high.prices"
   ]
  },
  {
   "cell_type": "markdown",
   "metadata": {},
   "source": [
    "Something interesting has happened! \n",
    "\n",
    "First, note that the prices are different. Hence, we will not be able to meet incremental load from production by Gen A (except if we add load right at Gen A located at Bus 1). Similarly, load at Bus 2 can be met by increasing production from Gen B with marginal cost = \\$100 / MWh.\n",
    "\n",
    "However, why does Bus 3 have a marginal price of \\$150 / MWh?! That's higher than the marginal cost of either of our two generators?\n",
    "\n",
    "The answer lies in what must happen to meet an incremental load at Bus 3 while respecting transmission constraints. We must increase from Gen B, but in doing so, part of the power from Gen B will go through $l_{2,1} \\rightarrow l_{1,3}$ in addition to $l_{2,3}$, since power flows split across parallel paths in proportion to admittance (or inverse proportion to impedance). However, without adjusting Gen A's output, an increase in production from Gen B will cause us to exceed the transmission constraint on line $l_{1,3}$, requiring us to throttle back power from Gen A to keep power flows feasible.\n",
    "\n",
    "The exact change in generation for an incremental 1 MW load at Bus 3 is thus:\n",
    "- Gen B $\\uparrow$ 2 MW\n",
    "- Gen A $\\downarrow$ 1 MW\n",
    "\n",
    "Hence:\n",
    "\n",
    "$$\n",
    "Price_3 = 2 \\times VarCost_B - VarCost_A = \\$150 \\text{ / MWh}\n",
    "$$\n",
    "\n",
    "In a network with thousands of nodes and many parallel paths and loop flows, one can see quite quickly how prices may vary in unexpected ways; hence, the need for detailed mathematical models to compute locational marginal prices."
   ]
  },
  {
   "cell_type": "markdown",
   "metadata": {},
   "source": [
    "### 6. The IEEE 14 bus test system\n",
    "\n",
    "We now explore a complicated system, the 14-bus IEEE test system, illustrated here:\n",
    "\n",
    "<img src=\"ieee_test_cases/IEEE14BusTestSystem.png\" style=\"width: 450px; height: auto\" align=\"center\">\n",
    "\n",
    "The system consists of:\n",
    "- 2 generators (located at nodes 1 and 2)\n",
    "- 11 loads\n",
    "- a meshed transmission network including transformers and multiple voltages\n",
    "\n",
    "Our data files for the test system contain parameters for resistance and reactance of the transmission lines, which are related to complex impedance:\n",
    "\n",
    "$$\n",
    "Z = R + iX\n",
    "$$\n",
    "\n",
    "where $R$ = resistance is the real part, $X$ = reactance is the imaginary part. Recall from above that impedance is the inverse of admittance; hence, we have the following transformation for susceptance:\n",
    "\n",
    "$$\n",
    "B = \\text{Im}\\left(\\frac{1}{R + iX}\\right) = \\frac{-X}{|R + iX|^2} = \\frac{-X}{R^2 + X^2}\n",
    "$$\n",
    "\n",
    "But, since we neglect the resistance for the purpose of solving the DC-OPF, we can approximate the susceptance from above as:\n",
    "\n",
    "$$\n",
    "B = \\frac{1}{X}\n",
    "$$\n",
    "\n",
    "The data are converted to have positive values of both $X$ and $B$, hence we remove the negative sign."
   ]
  },
  {
   "cell_type": "code",
   "execution_count": 2,
   "metadata": {},
   "outputs": [
    {
     "data": {
      "text/html": [
       "<div><div style = \"float: left;\"><span>132×8 DataFrame</span></div><div style = \"float: right;\"><span style = \"font-style: italic;\">107 rows omitted</span></div><div style = \"clear: both;\"></div></div><div class = \"data-frame\" style = \"overflow-x: scroll;\"><table class = \"data-frame\" style = \"margin-bottom: 6px;\"><thead><tr class = \"header\"><th class = \"rowNumber\" style = \"font-weight: bold; text-align: right;\">Row</th><th style = \"text-align: left;\">fromnode</th><th style = \"text-align: left;\">tonode</th><th style = \"text-align: left;\">resistance</th><th style = \"text-align: left;\">reactance</th><th style = \"text-align: left;\">contingencymarked</th><th style = \"text-align: left;\">capacity</th><th style = \"text-align: left;\">id</th><th style = \"text-align: left;\">b</th></tr><tr class = \"subheader headerLastRow\"><th class = \"rowNumber\" style = \"font-weight: bold; text-align: right;\"></th><th title = \"Int64\" style = \"text-align: left;\">Int64</th><th title = \"Int64\" style = \"text-align: left;\">Int64</th><th title = \"Float64\" style = \"text-align: left;\">Float64</th><th title = \"Float64\" style = \"text-align: left;\">Float64</th><th title = \"Int64\" style = \"text-align: left;\">Int64</th><th title = \"Int64\" style = \"text-align: left;\">Int64</th><th title = \"Int64\" style = \"text-align: left;\">Int64</th><th title = \"Float64\" style = \"text-align: left;\">Float64</th></tr></thead><tbody><tr><td class = \"rowNumber\" style = \"font-weight: bold; text-align: right;\">1</td><td style = \"text-align: right;\">1</td><td style = \"text-align: right;\">2</td><td style = \"text-align: right;\">0.00266925</td><td style = \"text-align: right;\">0.0323779</td><td style = \"text-align: right;\">1</td><td style = \"text-align: right;\">10000</td><td style = \"text-align: right;\">1</td><td style = \"text-align: right;\">0.0196113</td></tr><tr><td class = \"rowNumber\" style = \"font-weight: bold; text-align: right;\">2</td><td style = \"text-align: right;\">1</td><td style = \"text-align: right;\">5</td><td style = \"text-align: right;\">0.00287887</td><td style = \"text-align: right;\">0.0286089</td><td style = \"text-align: right;\">1</td><td style = \"text-align: right;\">10000</td><td style = \"text-align: right;\">2</td><td style = \"text-align: right;\">0.0103084</td></tr><tr><td class = \"rowNumber\" style = \"font-weight: bold; text-align: right;\">3</td><td style = \"text-align: right;\">2</td><td style = \"text-align: right;\">3</td><td style = \"text-align: right;\">0.00131306</td><td style = \"text-align: right;\">0.0190229</td><td style = \"text-align: right;\">1</td><td style = \"text-align: right;\">10000</td><td style = \"text-align: right;\">3</td><td style = \"text-align: right;\">0.0102966</td></tr><tr><td class = \"rowNumber\" style = \"font-weight: bold; text-align: right;\">4</td><td style = \"text-align: right;\">2</td><td style = \"text-align: right;\">6</td><td style = \"text-align: right;\">0.000803188</td><td style = \"text-align: right;\">0.0149712</td><td style = \"text-align: right;\">1</td><td style = \"text-align: right;\">10000</td><td style = \"text-align: right;\">4</td><td style = \"text-align: right;\">0.00476255</td></tr><tr><td class = \"rowNumber\" style = \"font-weight: bold; text-align: right;\">5</td><td style = \"text-align: right;\">3</td><td style = \"text-align: right;\">10</td><td style = \"text-align: right;\">0.000399063</td><td style = \"text-align: right;\">0.00548875</td><td style = \"text-align: right;\">1</td><td style = \"text-align: right;\">10000</td><td style = \"text-align: right;\">5</td><td style = \"text-align: right;\">0.00238071</td></tr><tr><td class = \"rowNumber\" style = \"font-weight: bold; text-align: right;\">6</td><td style = \"text-align: right;\">4</td><td style = \"text-align: right;\">5</td><td style = \"text-align: right;\">0.00114981</td><td style = \"text-align: right;\">0.0183772</td><td style = \"text-align: right;\">1</td><td style = \"text-align: right;\">10000</td><td style = \"text-align: right;\">6</td><td style = \"text-align: right;\">0.0126698</td></tr><tr><td class = \"rowNumber\" style = \"font-weight: bold; text-align: right;\">7</td><td style = \"text-align: right;\">4</td><td style = \"text-align: right;\">6</td><td style = \"text-align: right;\">0.00209787</td><td style = \"text-align: right;\">0.0318498</td><td style = \"text-align: right;\">1</td><td style = \"text-align: right;\">10000</td><td style = \"text-align: right;\">7</td><td style = \"text-align: right;\">0.0106544</td></tr><tr><td class = \"rowNumber\" style = \"font-weight: bold; text-align: right;\">8</td><td style = \"text-align: right;\">4</td><td style = \"text-align: right;\">14</td><td style = \"text-align: right;\">0.00220469</td><td style = \"text-align: right;\">0.0290109</td><td style = \"text-align: right;\">1</td><td style = \"text-align: right;\">10000</td><td style = \"text-align: right;\">8</td><td style = \"text-align: right;\">0.00897751</td></tr><tr><td class = \"rowNumber\" style = \"font-weight: bold; text-align: right;\">9</td><td style = \"text-align: right;\">5</td><td style = \"text-align: right;\">6</td><td style = \"text-align: right;\">0.000706313</td><td style = \"text-align: right;\">0.00961025</td><td style = \"text-align: right;\">1</td><td style = \"text-align: right;\">10000</td><td style = \"text-align: right;\">9</td><td style = \"text-align: right;\">0.00913257</td></tr><tr><td class = \"rowNumber\" style = \"font-weight: bold; text-align: right;\">10</td><td style = \"text-align: right;\">5</td><td style = \"text-align: right;\">14</td><td style = \"text-align: right;\">0.00178231</td><td style = \"text-align: right;\">0.0184703</td><td style = \"text-align: right;\">1</td><td style = \"text-align: right;\">10000</td><td style = \"text-align: right;\">10</td><td style = \"text-align: right;\">0.00196471</td></tr><tr><td class = \"rowNumber\" style = \"font-weight: bold; text-align: right;\">11</td><td style = \"text-align: right;\">6</td><td style = \"text-align: right;\">7</td><td style = \"text-align: right;\">0.00119981</td><td style = \"text-align: right;\">0.0192356</td><td style = \"text-align: right;\">1</td><td style = \"text-align: right;\">10000</td><td style = \"text-align: right;\">11</td><td style = \"text-align: right;\">0.0267716</td></tr><tr><td class = \"rowNumber\" style = \"font-weight: bold; text-align: right;\">12</td><td style = \"text-align: right;\">6</td><td style = \"text-align: right;\">13</td><td style = \"text-align: right;\">0.000327813</td><td style = \"text-align: right;\">0.00569294</td><td style = \"text-align: right;\">1</td><td style = \"text-align: right;\">10000</td><td style = \"text-align: right;\">12</td><td style = \"text-align: right;\">0.00236706</td></tr><tr><td class = \"rowNumber\" style = \"font-weight: bold; text-align: right;\">13</td><td style = \"text-align: right;\">7</td><td style = \"text-align: right;\">8</td><td style = \"text-align: right;\">0.000412188</td><td style = \"text-align: right;\">0.00449369</td><td style = \"text-align: right;\">1</td><td style = \"text-align: right;\">10000</td><td style = \"text-align: right;\">13</td><td style = \"text-align: right;\">0.046537</td></tr><tr><td style = \"text-align: right;\">&vellip;</td><td style = \"text-align: right;\">&vellip;</td><td style = \"text-align: right;\">&vellip;</td><td style = \"text-align: right;\">&vellip;</td><td style = \"text-align: right;\">&vellip;</td><td style = \"text-align: right;\">&vellip;</td><td style = \"text-align: right;\">&vellip;</td><td style = \"text-align: right;\">&vellip;</td><td style = \"text-align: right;\">&vellip;</td></tr><tr><td class = \"rowNumber\" style = \"font-weight: bold; text-align: right;\">121</td><td style = \"text-align: right;\">32</td><td style = \"text-align: right;\">29</td><td style = \"text-align: right;\">0.0009215</td><td style = \"text-align: right;\">0.007555</td><td style = \"text-align: right;\">1</td><td style = \"text-align: right;\">10000</td><td style = \"text-align: right;\">55</td><td style = \"text-align: right;\">0.00302789</td></tr><tr><td class = \"rowNumber\" style = \"font-weight: bold; text-align: right;\">122</td><td style = \"text-align: right;\">29</td><td style = \"text-align: right;\">30</td><td style = \"text-align: right;\">0.001276</td><td style = \"text-align: right;\">0.0112748</td><td style = \"text-align: right;\">1</td><td style = \"text-align: right;\">10000</td><td style = \"text-align: right;\">56</td><td style = \"text-align: right;\">0.00658752</td></tr><tr><td class = \"rowNumber\" style = \"font-weight: bold; text-align: right;\">123</td><td style = \"text-align: right;\">31</td><td style = \"text-align: right;\">30</td><td style = \"text-align: right;\">0.000657375</td><td style = \"text-align: right;\">0.00816719</td><td style = \"text-align: right;\">1</td><td style = \"text-align: right;\">10000</td><td style = \"text-align: right;\">57</td><td style = \"text-align: right;\">0.00932489</td></tr><tr><td class = \"rowNumber\" style = \"font-weight: bold; text-align: right;\">124</td><td style = \"text-align: right;\">32</td><td style = \"text-align: right;\">30</td><td style = \"text-align: right;\">0.000516438</td><td style = \"text-align: right;\">0.0106281</td><td style = \"text-align: right;\">1</td><td style = \"text-align: right;\">10000</td><td style = \"text-align: right;\">58</td><td style = \"text-align: right;\">0.00299608</td></tr><tr><td class = \"rowNumber\" style = \"font-weight: bold; text-align: right;\">125</td><td style = \"text-align: right;\">32</td><td style = \"text-align: right;\">31</td><td style = \"text-align: right;\">0.000826875</td><td style = \"text-align: right;\">0.0120264</td><td style = \"text-align: right;\">1</td><td style = \"text-align: right;\">10000</td><td style = \"text-align: right;\">59</td><td style = \"text-align: right;\">0.00355633</td></tr><tr><td class = \"rowNumber\" style = \"font-weight: bold; text-align: right;\">126</td><td style = \"text-align: right;\">34</td><td style = \"text-align: right;\">31</td><td style = \"text-align: right;\">0.00118531</td><td style = \"text-align: right;\">0.00383031</td><td style = \"text-align: right;\">1</td><td style = \"text-align: right;\">10000</td><td style = \"text-align: right;\">60</td><td style = \"text-align: right;\">0.00512333</td></tr><tr><td class = \"rowNumber\" style = \"font-weight: bold; text-align: right;\">127</td><td style = \"text-align: right;\">34</td><td style = \"text-align: right;\">32</td><td style = \"text-align: right;\">0.000802688</td><td style = \"text-align: right;\">0.00834469</td><td style = \"text-align: right;\">1</td><td style = \"text-align: right;\">10000</td><td style = \"text-align: right;\">61</td><td style = \"text-align: right;\">0.00568591</td></tr><tr><td class = \"rowNumber\" style = \"font-weight: bold; text-align: right;\">128</td><td style = \"text-align: right;\">36</td><td style = \"text-align: right;\">32</td><td style = \"text-align: right;\">0.00425394</td><td style = \"text-align: right;\">0.0365836</td><td style = \"text-align: right;\">1</td><td style = \"text-align: right;\">10000</td><td style = \"text-align: right;\">62</td><td style = \"text-align: right;\">0.00348308</td></tr><tr><td class = \"rowNumber\" style = \"font-weight: bold; text-align: right;\">129</td><td style = \"text-align: right;\">34</td><td style = \"text-align: right;\">33</td><td style = \"text-align: right;\">0.00625</td><td style = \"text-align: right;\">0.009375</td><td style = \"text-align: right;\">1</td><td style = \"text-align: right;\">10000</td><td style = \"text-align: right;\">63</td><td style = \"text-align: right;\">0.00555391</td></tr><tr><td class = \"rowNumber\" style = \"font-weight: bold; text-align: right;\">130</td><td style = \"text-align: right;\">35</td><td style = \"text-align: right;\">34</td><td style = \"text-align: right;\">0.00845975</td><td style = \"text-align: right;\">0.0214944</td><td style = \"text-align: right;\">1</td><td style = \"text-align: right;\">10000</td><td style = \"text-align: right;\">64</td><td style = \"text-align: right;\">0.00839269</td></tr><tr><td class = \"rowNumber\" style = \"font-weight: bold; text-align: right;\">131</td><td style = \"text-align: right;\">36</td><td style = \"text-align: right;\">34</td><td style = \"text-align: right;\">0.000950375</td><td style = \"text-align: right;\">0.00830369</td><td style = \"text-align: right;\">1</td><td style = \"text-align: right;\">10000</td><td style = \"text-align: right;\">65</td><td style = \"text-align: right;\">0.00505114</td></tr><tr><td class = \"rowNumber\" style = \"font-weight: bold; text-align: right;\">132</td><td style = \"text-align: right;\">36</td><td style = \"text-align: right;\">35</td><td style = \"text-align: right;\">0.00228119</td><td style = \"text-align: right;\">0.008931</td><td style = \"text-align: right;\">1</td><td style = \"text-align: right;\">10000</td><td style = \"text-align: right;\">66</td><td style = \"text-align: right;\">0.0127316</td></tr></tbody></table></div>"
      ],
      "text/latex": [
       "\\begin{tabular}{r|cccccccc}\n",
       "\t& fromnode & tonode & resistance & reactance & contingencymarked & capacity & id & b\\\\\n",
       "\t\\hline\n",
       "\t& Int64 & Int64 & Float64 & Float64 & Int64 & Int64 & Int64 & Float64\\\\\n",
       "\t\\hline\n",
       "\t1 & 1 & 2 & 0.00266925 & 0.0323779 & 1 & 10000 & 1 & 0.0196113 \\\\\n",
       "\t2 & 1 & 5 & 0.00287887 & 0.0286089 & 1 & 10000 & 2 & 0.0103084 \\\\\n",
       "\t3 & 2 & 3 & 0.00131306 & 0.0190229 & 1 & 10000 & 3 & 0.0102966 \\\\\n",
       "\t4 & 2 & 6 & 0.000803188 & 0.0149712 & 1 & 10000 & 4 & 0.00476255 \\\\\n",
       "\t5 & 3 & 10 & 0.000399063 & 0.00548875 & 1 & 10000 & 5 & 0.00238071 \\\\\n",
       "\t6 & 4 & 5 & 0.00114981 & 0.0183772 & 1 & 10000 & 6 & 0.0126698 \\\\\n",
       "\t7 & 4 & 6 & 0.00209787 & 0.0318498 & 1 & 10000 & 7 & 0.0106544 \\\\\n",
       "\t8 & 4 & 14 & 0.00220469 & 0.0290109 & 1 & 10000 & 8 & 0.00897751 \\\\\n",
       "\t9 & 5 & 6 & 0.000706313 & 0.00961025 & 1 & 10000 & 9 & 0.00913257 \\\\\n",
       "\t10 & 5 & 14 & 0.00178231 & 0.0184703 & 1 & 10000 & 10 & 0.00196471 \\\\\n",
       "\t11 & 6 & 7 & 0.00119981 & 0.0192356 & 1 & 10000 & 11 & 0.0267716 \\\\\n",
       "\t12 & 6 & 13 & 0.000327813 & 0.00569294 & 1 & 10000 & 12 & 0.00236706 \\\\\n",
       "\t13 & 7 & 8 & 0.000412188 & 0.00449369 & 1 & 10000 & 13 & 0.046537 \\\\\n",
       "\t14 & 7 & 9 & 0.000912813 & 0.00961181 & 1 & 10000 & 14 & 0.0248062 \\\\\n",
       "\t15 & 7 & 10 & 0.000213438 & 0.00283269 & 1 & 10000 & 15 & 0.00717854 \\\\\n",
       "\t16 & 8 & 9 & 0.00014 & 0.00176 & 1 & 10000 & 16 & 0.00777599 \\\\\n",
       "\t17 & 8 & 10 & 0.000446188 & 0.005416 & 1 & 10000 & 17 & 0.0492475 \\\\\n",
       "\t18 & 8 & 13 & 0.000541563 & 0.00778087 & 1 & 10000 & 18 & 0.0158114 \\\\\n",
       "\t19 & 9 & 11 & 0.000934125 & 0.00944906 & 1 & 10000 & 19 & 0.00374001 \\\\\n",
       "\t20 & 9 & 13 & 0.000277375 & 0.00272575 & 1 & 10000 & 20 & 0.00444232 \\\\\n",
       "\t21 & 10 & 11 & 0.000366938 & 0.00494194 & 1 & 10000 & 21 & 0.0030837 \\\\\n",
       "\t22 & 11 & 12 & 0.00204112 & 0.0293363 & 1 & 10000 & 22 & 0.00836918 \\\\\n",
       "\t23 & 11 & 13 & 0.000979313 & 0.01555 & 1 & 10000 & 23 & 0.0068301 \\\\\n",
       "\t24 & 12 & 13 & 0.000660063 & 0.0118286 & 1 & 10000 & 24 & 0.00465276 \\\\\n",
       "\t25 & 12 & 17 & 0.000488125 & 0.00938675 & 1 & 10000 & 25 & 0.00464777 \\\\\n",
       "\t26 & 13 & 15 & 0.00122219 & 0.0166115 & 1 & 10000 & 26 & 0.00503391 \\\\\n",
       "\t27 & 13 & 18 & 0.000664438 & 0.00864231 & 1 & 10000 & 27 & 0.0135528 \\\\\n",
       "\t28 & 14 & 16 & 0.00088875 & 0.00965956 & 1 & 10000 & 28 & 0.00289576 \\\\\n",
       "\t29 & 15 & 14 & 0.001026 & 0.0118831 & 1 & 10000 & 29 & 0.00622196 \\\\\n",
       "\t30 & 15 & 16 & 0.000270688 & 0.00299631 & 1 & 10000 & 30 & 0.00137864 \\\\\n",
       "\t$\\dots$ & $\\dots$ & $\\dots$ & $\\dots$ & $\\dots$ & $\\dots$ & $\\dots$ & $\\dots$ & $\\dots$ \\\\\n",
       "\\end{tabular}\n"
      ],
      "text/plain": [
       "\u001b[1m132×8 DataFrame\u001b[0m\n",
       "\u001b[1m Row \u001b[0m│\u001b[1m fromnode \u001b[0m\u001b[1m tonode \u001b[0m\u001b[1m resistance  \u001b[0m\u001b[1m reactance  \u001b[0m\u001b[1m contingencymarked \u001b[0m\u001b[1m capacity \u001b[0m\u001b[1m id    \u001b[0m\u001b[1m b          \u001b[0m\n",
       "     │\u001b[90m Int64    \u001b[0m\u001b[90m Int64  \u001b[0m\u001b[90m Float64     \u001b[0m\u001b[90m Float64    \u001b[0m\u001b[90m Int64             \u001b[0m\u001b[90m Int64    \u001b[0m\u001b[90m Int64 \u001b[0m\u001b[90m Float64    \u001b[0m\n",
       "─────┼───────────────────────────────────────────────────────────────────────────────────────────\n",
       "   1 │        1       2  0.00266925   0.0323779                   1     10000      1  0.0196113\n",
       "   2 │        1       5  0.00287887   0.0286089                   1     10000      2  0.0103084\n",
       "   3 │        2       3  0.00131306   0.0190229                   1     10000      3  0.0102966\n",
       "   4 │        2       6  0.000803188  0.0149712                   1     10000      4  0.00476255\n",
       "   5 │        3      10  0.000399063  0.00548875                  1     10000      5  0.00238071\n",
       "   6 │        4       5  0.00114981   0.0183772                   1     10000      6  0.0126698\n",
       "   7 │        4       6  0.00209787   0.0318498                   1     10000      7  0.0106544\n",
       "   8 │        4      14  0.00220469   0.0290109                   1     10000      8  0.00897751\n",
       "   9 │        5       6  0.000706313  0.00961025                  1     10000      9  0.00913257\n",
       "  10 │        5      14  0.00178231   0.0184703                   1     10000     10  0.00196471\n",
       "  11 │        6       7  0.00119981   0.0192356                   1     10000     11  0.0267716\n",
       "  ⋮  │    ⋮        ⋮          ⋮           ⋮               ⋮             ⋮        ⋮        ⋮\n",
       " 123 │       31      30  0.000657375  0.00816719                  1     10000     57  0.00932489\n",
       " 124 │       32      30  0.000516438  0.0106281                   1     10000     58  0.00299608\n",
       " 125 │       32      31  0.000826875  0.0120264                   1     10000     59  0.00355633\n",
       " 126 │       34      31  0.00118531   0.00383031                  1     10000     60  0.00512333\n",
       " 127 │       34      32  0.000802688  0.00834469                  1     10000     61  0.00568591\n",
       " 128 │       36      32  0.00425394   0.0365836                   1     10000     62  0.00348308\n",
       " 129 │       34      33  0.00625      0.009375                    1     10000     63  0.00555391\n",
       " 130 │       35      34  0.00845975   0.0214944                   1     10000     64  0.00839269\n",
       " 131 │       36      34  0.000950375  0.00830369                  1     10000     65  0.00505114\n",
       " 132 │       36      35  0.00228119   0.008931                    1     10000     66  0.0127316\n",
       "\u001b[36m                                                                                 111 rows omitted\u001b[0m"
      ]
     },
     "execution_count": 2,
     "metadata": {},
     "output_type": "execute_result"
    }
   ],
   "source": [
    "datadir = joinpath(\"testcase\") \n",
    "gens = CSV.read(joinpath(datadir,\"Gen36.csv\"), DataFrame);\n",
    "lines = CSV.read(joinpath(datadir,\"Tran36_b_csv.csv\"), DataFrame);\n",
    "loads = CSV.read(joinpath(datadir,\"Load36_csv.csv\"), DataFrame);\n",
    "\n",
    "\n",
    "# Rename all columns to lowercase (by convention)\n",
    "for f in [gens, lines, loads]\n",
    "    rename!(f,lowercase.(names(f)))\n",
    "end\n",
    "\n",
    "# create generator ids \n",
    "gens.id = 1:nrow(gens);\n",
    "\n",
    "# create line ids \n",
    "lines.id = 1:nrow(lines);\n",
    "# add set of rows for reverse direction with same parameters\n",
    "\n",
    "lines2 = copy(lines)\n",
    "lines2.f = lines2.fromnode\n",
    "lines2.fromnode = lines.tonode\n",
    "lines2.tonode = lines2.f\n",
    "lines2 = lines2[:,names(lines)]\n",
    "append!(lines,lines2)\n",
    "\n",
    "# calculate simple susceptance, ignoring resistance as earlier \n",
    "#lines.b = 1 ./ lines.reactance\n",
    "\n",
    "# keep only a single time period\n",
    "loads = loads[:,[\"connnode\",\"interval-1_load\"]]\n",
    "rename!(loads,\"interval-1_load\" => \"demand\");\n",
    "\n",
    "lines"
   ]
  },
  {
   "cell_type": "code",
   "execution_count": 3,
   "metadata": {},
   "outputs": [
    {
     "data": {
      "text/html": [
       "<div><div style = \"float: left;\"><span>132×8 DataFrame</span></div><div style = \"float: right;\"><span style = \"font-style: italic;\">107 rows omitted</span></div><div style = \"clear: both;\"></div></div><div class = \"data-frame\" style = \"overflow-x: scroll;\"><table class = \"data-frame\" style = \"margin-bottom: 6px;\"><thead><tr class = \"header\"><th class = \"rowNumber\" style = \"font-weight: bold; text-align: right;\">Row</th><th style = \"text-align: left;\">fromnode</th><th style = \"text-align: left;\">tonode</th><th style = \"text-align: left;\">resistance</th><th style = \"text-align: left;\">reactance</th><th style = \"text-align: left;\">contingencymarked</th><th style = \"text-align: left;\">capacity</th><th style = \"text-align: left;\">id</th><th style = \"text-align: left;\">b</th></tr><tr class = \"subheader headerLastRow\"><th class = \"rowNumber\" style = \"font-weight: bold; text-align: right;\"></th><th title = \"Int64\" style = \"text-align: left;\">Int64</th><th title = \"Int64\" style = \"text-align: left;\">Int64</th><th title = \"Float64\" style = \"text-align: left;\">Float64</th><th title = \"Float64\" style = \"text-align: left;\">Float64</th><th title = \"Int64\" style = \"text-align: left;\">Int64</th><th title = \"Int64\" style = \"text-align: left;\">Int64</th><th title = \"Int64\" style = \"text-align: left;\">Int64</th><th title = \"Float64\" style = \"text-align: left;\">Float64</th></tr></thead><tbody><tr><td class = \"rowNumber\" style = \"font-weight: bold; text-align: right;\">1</td><td style = \"text-align: right;\">1</td><td style = \"text-align: right;\">2</td><td style = \"text-align: right;\">0.00266925</td><td style = \"text-align: right;\">0.0323779</td><td style = \"text-align: right;\">1</td><td style = \"text-align: right;\">10000</td><td style = \"text-align: right;\">1</td><td style = \"text-align: right;\">0.0196113</td></tr><tr><td class = \"rowNumber\" style = \"font-weight: bold; text-align: right;\">2</td><td style = \"text-align: right;\">1</td><td style = \"text-align: right;\">5</td><td style = \"text-align: right;\">0.00287887</td><td style = \"text-align: right;\">0.0286089</td><td style = \"text-align: right;\">1</td><td style = \"text-align: right;\">10000</td><td style = \"text-align: right;\">2</td><td style = \"text-align: right;\">0.0103084</td></tr><tr><td class = \"rowNumber\" style = \"font-weight: bold; text-align: right;\">3</td><td style = \"text-align: right;\">2</td><td style = \"text-align: right;\">3</td><td style = \"text-align: right;\">0.00131306</td><td style = \"text-align: right;\">0.0190229</td><td style = \"text-align: right;\">1</td><td style = \"text-align: right;\">10000</td><td style = \"text-align: right;\">3</td><td style = \"text-align: right;\">0.0102966</td></tr><tr><td class = \"rowNumber\" style = \"font-weight: bold; text-align: right;\">4</td><td style = \"text-align: right;\">2</td><td style = \"text-align: right;\">6</td><td style = \"text-align: right;\">0.000803188</td><td style = \"text-align: right;\">0.0149712</td><td style = \"text-align: right;\">1</td><td style = \"text-align: right;\">10000</td><td style = \"text-align: right;\">4</td><td style = \"text-align: right;\">0.00476255</td></tr><tr><td class = \"rowNumber\" style = \"font-weight: bold; text-align: right;\">5</td><td style = \"text-align: right;\">3</td><td style = \"text-align: right;\">10</td><td style = \"text-align: right;\">0.000399063</td><td style = \"text-align: right;\">0.00548875</td><td style = \"text-align: right;\">1</td><td style = \"text-align: right;\">10000</td><td style = \"text-align: right;\">5</td><td style = \"text-align: right;\">0.00238071</td></tr><tr><td class = \"rowNumber\" style = \"font-weight: bold; text-align: right;\">6</td><td style = \"text-align: right;\">4</td><td style = \"text-align: right;\">5</td><td style = \"text-align: right;\">0.00114981</td><td style = \"text-align: right;\">0.0183772</td><td style = \"text-align: right;\">1</td><td style = \"text-align: right;\">10000</td><td style = \"text-align: right;\">6</td><td style = \"text-align: right;\">0.0126698</td></tr><tr><td class = \"rowNumber\" style = \"font-weight: bold; text-align: right;\">7</td><td style = \"text-align: right;\">4</td><td style = \"text-align: right;\">6</td><td style = \"text-align: right;\">0.00209787</td><td style = \"text-align: right;\">0.0318498</td><td style = \"text-align: right;\">1</td><td style = \"text-align: right;\">10000</td><td style = \"text-align: right;\">7</td><td style = \"text-align: right;\">0.0106544</td></tr><tr><td class = \"rowNumber\" style = \"font-weight: bold; text-align: right;\">8</td><td style = \"text-align: right;\">4</td><td style = \"text-align: right;\">14</td><td style = \"text-align: right;\">0.00220469</td><td style = \"text-align: right;\">0.0290109</td><td style = \"text-align: right;\">1</td><td style = \"text-align: right;\">10000</td><td style = \"text-align: right;\">8</td><td style = \"text-align: right;\">0.00897751</td></tr><tr><td class = \"rowNumber\" style = \"font-weight: bold; text-align: right;\">9</td><td style = \"text-align: right;\">5</td><td style = \"text-align: right;\">6</td><td style = \"text-align: right;\">0.000706313</td><td style = \"text-align: right;\">0.00961025</td><td style = \"text-align: right;\">1</td><td style = \"text-align: right;\">10000</td><td style = \"text-align: right;\">9</td><td style = \"text-align: right;\">0.00913257</td></tr><tr><td class = \"rowNumber\" style = \"font-weight: bold; text-align: right;\">10</td><td style = \"text-align: right;\">5</td><td style = \"text-align: right;\">14</td><td style = \"text-align: right;\">0.00178231</td><td style = \"text-align: right;\">0.0184703</td><td style = \"text-align: right;\">1</td><td style = \"text-align: right;\">10000</td><td style = \"text-align: right;\">10</td><td style = \"text-align: right;\">0.00196471</td></tr><tr><td class = \"rowNumber\" style = \"font-weight: bold; text-align: right;\">11</td><td style = \"text-align: right;\">6</td><td style = \"text-align: right;\">7</td><td style = \"text-align: right;\">0.00119981</td><td style = \"text-align: right;\">0.0192356</td><td style = \"text-align: right;\">1</td><td style = \"text-align: right;\">10000</td><td style = \"text-align: right;\">11</td><td style = \"text-align: right;\">0.0267716</td></tr><tr><td class = \"rowNumber\" style = \"font-weight: bold; text-align: right;\">12</td><td style = \"text-align: right;\">6</td><td style = \"text-align: right;\">13</td><td style = \"text-align: right;\">0.000327813</td><td style = \"text-align: right;\">0.00569294</td><td style = \"text-align: right;\">1</td><td style = \"text-align: right;\">10000</td><td style = \"text-align: right;\">12</td><td style = \"text-align: right;\">0.00236706</td></tr><tr><td class = \"rowNumber\" style = \"font-weight: bold; text-align: right;\">13</td><td style = \"text-align: right;\">7</td><td style = \"text-align: right;\">8</td><td style = \"text-align: right;\">0.000412188</td><td style = \"text-align: right;\">0.00449369</td><td style = \"text-align: right;\">1</td><td style = \"text-align: right;\">10000</td><td style = \"text-align: right;\">13</td><td style = \"text-align: right;\">0.046537</td></tr><tr><td style = \"text-align: right;\">&vellip;</td><td style = \"text-align: right;\">&vellip;</td><td style = \"text-align: right;\">&vellip;</td><td style = \"text-align: right;\">&vellip;</td><td style = \"text-align: right;\">&vellip;</td><td style = \"text-align: right;\">&vellip;</td><td style = \"text-align: right;\">&vellip;</td><td style = \"text-align: right;\">&vellip;</td><td style = \"text-align: right;\">&vellip;</td></tr><tr><td class = \"rowNumber\" style = \"font-weight: bold; text-align: right;\">121</td><td style = \"text-align: right;\">32</td><td style = \"text-align: right;\">29</td><td style = \"text-align: right;\">0.0009215</td><td style = \"text-align: right;\">0.007555</td><td style = \"text-align: right;\">1</td><td style = \"text-align: right;\">10000</td><td style = \"text-align: right;\">55</td><td style = \"text-align: right;\">0.00302789</td></tr><tr><td class = \"rowNumber\" style = \"font-weight: bold; text-align: right;\">122</td><td style = \"text-align: right;\">29</td><td style = \"text-align: right;\">30</td><td style = \"text-align: right;\">0.001276</td><td style = \"text-align: right;\">0.0112748</td><td style = \"text-align: right;\">1</td><td style = \"text-align: right;\">10000</td><td style = \"text-align: right;\">56</td><td style = \"text-align: right;\">0.00658752</td></tr><tr><td class = \"rowNumber\" style = \"font-weight: bold; text-align: right;\">123</td><td style = \"text-align: right;\">31</td><td style = \"text-align: right;\">30</td><td style = \"text-align: right;\">0.000657375</td><td style = \"text-align: right;\">0.00816719</td><td style = \"text-align: right;\">1</td><td style = \"text-align: right;\">10000</td><td style = \"text-align: right;\">57</td><td style = \"text-align: right;\">0.00932489</td></tr><tr><td class = \"rowNumber\" style = \"font-weight: bold; text-align: right;\">124</td><td style = \"text-align: right;\">32</td><td style = \"text-align: right;\">30</td><td style = \"text-align: right;\">0.000516438</td><td style = \"text-align: right;\">0.0106281</td><td style = \"text-align: right;\">1</td><td style = \"text-align: right;\">10000</td><td style = \"text-align: right;\">58</td><td style = \"text-align: right;\">0.00299608</td></tr><tr><td class = \"rowNumber\" style = \"font-weight: bold; text-align: right;\">125</td><td style = \"text-align: right;\">32</td><td style = \"text-align: right;\">31</td><td style = \"text-align: right;\">0.000826875</td><td style = \"text-align: right;\">0.0120264</td><td style = \"text-align: right;\">1</td><td style = \"text-align: right;\">10000</td><td style = \"text-align: right;\">59</td><td style = \"text-align: right;\">0.00355633</td></tr><tr><td class = \"rowNumber\" style = \"font-weight: bold; text-align: right;\">126</td><td style = \"text-align: right;\">34</td><td style = \"text-align: right;\">31</td><td style = \"text-align: right;\">0.00118531</td><td style = \"text-align: right;\">0.00383031</td><td style = \"text-align: right;\">1</td><td style = \"text-align: right;\">10000</td><td style = \"text-align: right;\">60</td><td style = \"text-align: right;\">0.00512333</td></tr><tr><td class = \"rowNumber\" style = \"font-weight: bold; text-align: right;\">127</td><td style = \"text-align: right;\">34</td><td style = \"text-align: right;\">32</td><td style = \"text-align: right;\">0.000802688</td><td style = \"text-align: right;\">0.00834469</td><td style = \"text-align: right;\">1</td><td style = \"text-align: right;\">10000</td><td style = \"text-align: right;\">61</td><td style = \"text-align: right;\">0.00568591</td></tr><tr><td class = \"rowNumber\" style = \"font-weight: bold; text-align: right;\">128</td><td style = \"text-align: right;\">36</td><td style = \"text-align: right;\">32</td><td style = \"text-align: right;\">0.00425394</td><td style = \"text-align: right;\">0.0365836</td><td style = \"text-align: right;\">1</td><td style = \"text-align: right;\">10000</td><td style = \"text-align: right;\">62</td><td style = \"text-align: right;\">0.00348308</td></tr><tr><td class = \"rowNumber\" style = \"font-weight: bold; text-align: right;\">129</td><td style = \"text-align: right;\">34</td><td style = \"text-align: right;\">33</td><td style = \"text-align: right;\">0.00625</td><td style = \"text-align: right;\">0.009375</td><td style = \"text-align: right;\">1</td><td style = \"text-align: right;\">10000</td><td style = \"text-align: right;\">63</td><td style = \"text-align: right;\">0.00555391</td></tr><tr><td class = \"rowNumber\" style = \"font-weight: bold; text-align: right;\">130</td><td style = \"text-align: right;\">35</td><td style = \"text-align: right;\">34</td><td style = \"text-align: right;\">0.00845975</td><td style = \"text-align: right;\">0.0214944</td><td style = \"text-align: right;\">1</td><td style = \"text-align: right;\">10000</td><td style = \"text-align: right;\">64</td><td style = \"text-align: right;\">0.00839269</td></tr><tr><td class = \"rowNumber\" style = \"font-weight: bold; text-align: right;\">131</td><td style = \"text-align: right;\">36</td><td style = \"text-align: right;\">34</td><td style = \"text-align: right;\">0.000950375</td><td style = \"text-align: right;\">0.00830369</td><td style = \"text-align: right;\">1</td><td style = \"text-align: right;\">10000</td><td style = \"text-align: right;\">65</td><td style = \"text-align: right;\">0.00505114</td></tr><tr><td class = \"rowNumber\" style = \"font-weight: bold; text-align: right;\">132</td><td style = \"text-align: right;\">36</td><td style = \"text-align: right;\">35</td><td style = \"text-align: right;\">0.00228119</td><td style = \"text-align: right;\">0.008931</td><td style = \"text-align: right;\">1</td><td style = \"text-align: right;\">10000</td><td style = \"text-align: right;\">66</td><td style = \"text-align: right;\">0.0127316</td></tr></tbody></table></div>"
      ],
      "text/latex": [
       "\\begin{tabular}{r|cccccccc}\n",
       "\t& fromnode & tonode & resistance & reactance & contingencymarked & capacity & id & b\\\\\n",
       "\t\\hline\n",
       "\t& Int64 & Int64 & Float64 & Float64 & Int64 & Int64 & Int64 & Float64\\\\\n",
       "\t\\hline\n",
       "\t1 & 1 & 2 & 0.00266925 & 0.0323779 & 1 & 10000 & 1 & 0.0196113 \\\\\n",
       "\t2 & 1 & 5 & 0.00287887 & 0.0286089 & 1 & 10000 & 2 & 0.0103084 \\\\\n",
       "\t3 & 2 & 3 & 0.00131306 & 0.0190229 & 1 & 10000 & 3 & 0.0102966 \\\\\n",
       "\t4 & 2 & 6 & 0.000803188 & 0.0149712 & 1 & 10000 & 4 & 0.00476255 \\\\\n",
       "\t5 & 3 & 10 & 0.000399063 & 0.00548875 & 1 & 10000 & 5 & 0.00238071 \\\\\n",
       "\t6 & 4 & 5 & 0.00114981 & 0.0183772 & 1 & 10000 & 6 & 0.0126698 \\\\\n",
       "\t7 & 4 & 6 & 0.00209787 & 0.0318498 & 1 & 10000 & 7 & 0.0106544 \\\\\n",
       "\t8 & 4 & 14 & 0.00220469 & 0.0290109 & 1 & 10000 & 8 & 0.00897751 \\\\\n",
       "\t9 & 5 & 6 & 0.000706313 & 0.00961025 & 1 & 10000 & 9 & 0.00913257 \\\\\n",
       "\t10 & 5 & 14 & 0.00178231 & 0.0184703 & 1 & 10000 & 10 & 0.00196471 \\\\\n",
       "\t11 & 6 & 7 & 0.00119981 & 0.0192356 & 1 & 10000 & 11 & 0.0267716 \\\\\n",
       "\t12 & 6 & 13 & 0.000327813 & 0.00569294 & 1 & 10000 & 12 & 0.00236706 \\\\\n",
       "\t13 & 7 & 8 & 0.000412188 & 0.00449369 & 1 & 10000 & 13 & 0.046537 \\\\\n",
       "\t14 & 7 & 9 & 0.000912813 & 0.00961181 & 1 & 10000 & 14 & 0.0248062 \\\\\n",
       "\t15 & 7 & 10 & 0.000213438 & 0.00283269 & 1 & 10000 & 15 & 0.00717854 \\\\\n",
       "\t16 & 8 & 9 & 0.00014 & 0.00176 & 1 & 10000 & 16 & 0.00777599 \\\\\n",
       "\t17 & 8 & 10 & 0.000446188 & 0.005416 & 1 & 10000 & 17 & 0.0492475 \\\\\n",
       "\t18 & 8 & 13 & 0.000541563 & 0.00778087 & 1 & 10000 & 18 & 0.0158114 \\\\\n",
       "\t19 & 9 & 11 & 0.000934125 & 0.00944906 & 1 & 10000 & 19 & 0.00374001 \\\\\n",
       "\t20 & 9 & 13 & 0.000277375 & 0.00272575 & 1 & 10000 & 20 & 0.00444232 \\\\\n",
       "\t21 & 10 & 11 & 0.000366938 & 0.00494194 & 1 & 10000 & 21 & 0.0030837 \\\\\n",
       "\t22 & 11 & 12 & 0.00204112 & 0.0293363 & 1 & 10000 & 22 & 0.00836918 \\\\\n",
       "\t23 & 11 & 13 & 0.000979313 & 0.01555 & 1 & 10000 & 23 & 0.0068301 \\\\\n",
       "\t24 & 12 & 13 & 0.000660063 & 0.0118286 & 1 & 10000 & 24 & 0.00465276 \\\\\n",
       "\t25 & 12 & 17 & 0.000488125 & 0.00938675 & 1 & 10000 & 25 & 0.00464777 \\\\\n",
       "\t26 & 13 & 15 & 0.00122219 & 0.0166115 & 1 & 10000 & 26 & 0.00503391 \\\\\n",
       "\t27 & 13 & 18 & 0.000664438 & 0.00864231 & 1 & 10000 & 27 & 0.0135528 \\\\\n",
       "\t28 & 14 & 16 & 0.00088875 & 0.00965956 & 1 & 10000 & 28 & 0.00289576 \\\\\n",
       "\t29 & 15 & 14 & 0.001026 & 0.0118831 & 1 & 10000 & 29 & 0.00622196 \\\\\n",
       "\t30 & 15 & 16 & 0.000270688 & 0.00299631 & 1 & 10000 & 30 & 0.00137864 \\\\\n",
       "\t$\\dots$ & $\\dots$ & $\\dots$ & $\\dots$ & $\\dots$ & $\\dots$ & $\\dots$ & $\\dots$ & $\\dots$ \\\\\n",
       "\\end{tabular}\n"
      ],
      "text/plain": [
       "\u001b[1m132×8 DataFrame\u001b[0m\n",
       "\u001b[1m Row \u001b[0m│\u001b[1m fromnode \u001b[0m\u001b[1m tonode \u001b[0m\u001b[1m resistance  \u001b[0m\u001b[1m reactance  \u001b[0m\u001b[1m contingencymarked \u001b[0m\u001b[1m capacity \u001b[0m\u001b[1m id    \u001b[0m\u001b[1m b          \u001b[0m\n",
       "     │\u001b[90m Int64    \u001b[0m\u001b[90m Int64  \u001b[0m\u001b[90m Float64     \u001b[0m\u001b[90m Float64    \u001b[0m\u001b[90m Int64             \u001b[0m\u001b[90m Int64    \u001b[0m\u001b[90m Int64 \u001b[0m\u001b[90m Float64    \u001b[0m\n",
       "─────┼───────────────────────────────────────────────────────────────────────────────────────────\n",
       "   1 │        1       2  0.00266925   0.0323779                   1     10000      1  0.0196113\n",
       "   2 │        1       5  0.00287887   0.0286089                   1     10000      2  0.0103084\n",
       "   3 │        2       3  0.00131306   0.0190229                   1     10000      3  0.0102966\n",
       "   4 │        2       6  0.000803188  0.0149712                   1     10000      4  0.00476255\n",
       "   5 │        3      10  0.000399063  0.00548875                  1     10000      5  0.00238071\n",
       "   6 │        4       5  0.00114981   0.0183772                   1     10000      6  0.0126698\n",
       "   7 │        4       6  0.00209787   0.0318498                   1     10000      7  0.0106544\n",
       "   8 │        4      14  0.00220469   0.0290109                   1     10000      8  0.00897751\n",
       "   9 │        5       6  0.000706313  0.00961025                  1     10000      9  0.00913257\n",
       "  10 │        5      14  0.00178231   0.0184703                   1     10000     10  0.00196471\n",
       "  11 │        6       7  0.00119981   0.0192356                   1     10000     11  0.0267716\n",
       "  ⋮  │    ⋮        ⋮          ⋮           ⋮               ⋮             ⋮        ⋮        ⋮\n",
       " 123 │       31      30  0.000657375  0.00816719                  1     10000     57  0.00932489\n",
       " 124 │       32      30  0.000516438  0.0106281                   1     10000     58  0.00299608\n",
       " 125 │       32      31  0.000826875  0.0120264                   1     10000     59  0.00355633\n",
       " 126 │       34      31  0.00118531   0.00383031                  1     10000     60  0.00512333\n",
       " 127 │       34      32  0.000802688  0.00834469                  1     10000     61  0.00568591\n",
       " 128 │       36      32  0.00425394   0.0365836                   1     10000     62  0.00348308\n",
       " 129 │       34      33  0.00625      0.009375                    1     10000     63  0.00555391\n",
       " 130 │       35      34  0.00845975   0.0214944                   1     10000     64  0.00839269\n",
       " 131 │       36      34  0.000950375  0.00830369                  1     10000     65  0.00505114\n",
       " 132 │       36      35  0.00228119   0.008931                    1     10000     66  0.0127316\n",
       "\u001b[36m                                                                                 111 rows omitted\u001b[0m"
      ]
     },
     "execution_count": 3,
     "metadata": {},
     "output_type": "execute_result"
    }
   ],
   "source": [
    "lines"
   ]
  },
  {
   "cell_type": "code",
   "execution_count": 4,
   "metadata": {
    "scrolled": true
   },
   "outputs": [
    {
     "data": {
      "text/html": [
       "<div><div style = \"float: left;\"><span>150×11 DataFrame</span></div><div style = \"float: right;\"><span style = \"font-style: italic;\">125 rows omitted</span></div><div style = \"clear: both;\"></div></div><div class = \"data-frame\" style = \"overflow-x: scroll;\"><table class = \"data-frame\" style = \"margin-bottom: 6px;\"><thead><tr class = \"header\"><th class = \"rowNumber\" style = \"font-weight: bold; text-align: right;\">Row</th><th style = \"text-align: left;\">zone</th><th style = \"text-align: left;\">connnode</th><th style = \"text-align: left;\">c2</th><th style = \"text-align: left;\">c1</th><th style = \"text-align: left;\">c0</th><th style = \"text-align: left;\">pgmax</th><th style = \"text-align: left;\">pgmin</th><th style = \"text-align: left;\">rgmax</th><th style = \"text-align: left;\">rgmin</th><th style = \"text-align: left;\">pgprev</th><th style = \"text-align: left;\">id</th></tr><tr class = \"subheader headerLastRow\"><th class = \"rowNumber\" style = \"font-weight: bold; text-align: right;\"></th><th title = \"Int64\" style = \"text-align: left;\">Int64</th><th title = \"Int64\" style = \"text-align: left;\">Int64</th><th title = \"Int64\" style = \"text-align: left;\">Int64</th><th title = \"Int64\" style = \"text-align: left;\">Int64</th><th title = \"Int64\" style = \"text-align: left;\">Int64</th><th title = \"Float64\" style = \"text-align: left;\">Float64</th><th title = \"Int64\" style = \"text-align: left;\">Int64</th><th title = \"Int64\" style = \"text-align: left;\">Int64</th><th title = \"Int64\" style = \"text-align: left;\">Int64</th><th title = \"Int64\" style = \"text-align: left;\">Int64</th><th title = \"Int64\" style = \"text-align: left;\">Int64</th></tr></thead><tbody><tr><td class = \"rowNumber\" style = \"font-weight: bold; text-align: right;\">1</td><td style = \"text-align: right;\">1</td><td style = \"text-align: right;\">1</td><td style = \"text-align: right;\">0</td><td style = \"text-align: right;\">105</td><td style = \"text-align: right;\">0</td><td style = \"text-align: right;\">130.0</td><td style = \"text-align: right;\">0</td><td style = \"text-align: right;\">100</td><td style = \"text-align: right;\">-100</td><td style = \"text-align: right;\">0</td><td style = \"text-align: right;\">1</td></tr><tr><td class = \"rowNumber\" style = \"font-weight: bold; text-align: right;\">2</td><td style = \"text-align: right;\">1</td><td style = \"text-align: right;\">1</td><td style = \"text-align: right;\">0</td><td style = \"text-align: right;\">120</td><td style = \"text-align: right;\">0</td><td style = \"text-align: right;\">1516.8</td><td style = \"text-align: right;\">0</td><td style = \"text-align: right;\">100</td><td style = \"text-align: right;\">-100</td><td style = \"text-align: right;\">0</td><td style = \"text-align: right;\">2</td></tr><tr><td class = \"rowNumber\" style = \"font-weight: bold; text-align: right;\">3</td><td style = \"text-align: right;\">1</td><td style = \"text-align: right;\">1</td><td style = \"text-align: right;\">0</td><td style = \"text-align: right;\">70</td><td style = \"text-align: right;\">0</td><td style = \"text-align: right;\">51.0</td><td style = \"text-align: right;\">0</td><td style = \"text-align: right;\">100</td><td style = \"text-align: right;\">-100</td><td style = \"text-align: right;\">0</td><td style = \"text-align: right;\">3</td></tr><tr><td class = \"rowNumber\" style = \"font-weight: bold; text-align: right;\">4</td><td style = \"text-align: right;\">1</td><td style = \"text-align: right;\">1</td><td style = \"text-align: right;\">0</td><td style = \"text-align: right;\">12</td><td style = \"text-align: right;\">0</td><td style = \"text-align: right;\">101.8</td><td style = \"text-align: right;\">0</td><td style = \"text-align: right;\">100</td><td style = \"text-align: right;\">-100</td><td style = \"text-align: right;\">0</td><td style = \"text-align: right;\">4</td></tr><tr><td class = \"rowNumber\" style = \"font-weight: bold; text-align: right;\">5</td><td style = \"text-align: right;\">1</td><td style = \"text-align: right;\">1</td><td style = \"text-align: right;\">0</td><td style = \"text-align: right;\">5</td><td style = \"text-align: right;\">0</td><td style = \"text-align: right;\">510.3</td><td style = \"text-align: right;\">0</td><td style = \"text-align: right;\">100</td><td style = \"text-align: right;\">-100</td><td style = \"text-align: right;\">0</td><td style = \"text-align: right;\">5</td></tr><tr><td class = \"rowNumber\" style = \"font-weight: bold; text-align: right;\">6</td><td style = \"text-align: right;\">2</td><td style = \"text-align: right;\">2</td><td style = \"text-align: right;\">0</td><td style = \"text-align: right;\">130</td><td style = \"text-align: right;\">0</td><td style = \"text-align: right;\">152.0</td><td style = \"text-align: right;\">0</td><td style = \"text-align: right;\">100</td><td style = \"text-align: right;\">-100</td><td style = \"text-align: right;\">0</td><td style = \"text-align: right;\">6</td></tr><tr><td class = \"rowNumber\" style = \"font-weight: bold; text-align: right;\">7</td><td style = \"text-align: right;\">2</td><td style = \"text-align: right;\">2</td><td style = \"text-align: right;\">0</td><td style = \"text-align: right;\">70</td><td style = \"text-align: right;\">0</td><td style = \"text-align: right;\">54.0</td><td style = \"text-align: right;\">0</td><td style = \"text-align: right;\">100</td><td style = \"text-align: right;\">-100</td><td style = \"text-align: right;\">0</td><td style = \"text-align: right;\">7</td></tr><tr><td class = \"rowNumber\" style = \"font-weight: bold; text-align: right;\">8</td><td style = \"text-align: right;\">2</td><td style = \"text-align: right;\">2</td><td style = \"text-align: right;\">0</td><td style = \"text-align: right;\">65</td><td style = \"text-align: right;\">0</td><td style = \"text-align: right;\">1000.0</td><td style = \"text-align: right;\">0</td><td style = \"text-align: right;\">100</td><td style = \"text-align: right;\">-100</td><td style = \"text-align: right;\">0</td><td style = \"text-align: right;\">8</td></tr><tr><td class = \"rowNumber\" style = \"font-weight: bold; text-align: right;\">9</td><td style = \"text-align: right;\">2</td><td style = \"text-align: right;\">2</td><td style = \"text-align: right;\">0</td><td style = \"text-align: right;\">12</td><td style = \"text-align: right;\">0</td><td style = \"text-align: right;\">107.7</td><td style = \"text-align: right;\">0</td><td style = \"text-align: right;\">100</td><td style = \"text-align: right;\">-100</td><td style = \"text-align: right;\">0</td><td style = \"text-align: right;\">9</td></tr><tr><td class = \"rowNumber\" style = \"font-weight: bold; text-align: right;\">10</td><td style = \"text-align: right;\">2</td><td style = \"text-align: right;\">2</td><td style = \"text-align: right;\">0</td><td style = \"text-align: right;\">5</td><td style = \"text-align: right;\">0</td><td style = \"text-align: right;\">55.3</td><td style = \"text-align: right;\">0</td><td style = \"text-align: right;\">100</td><td style = \"text-align: right;\">-100</td><td style = \"text-align: right;\">0</td><td style = \"text-align: right;\">10</td></tr><tr><td class = \"rowNumber\" style = \"font-weight: bold; text-align: right;\">11</td><td style = \"text-align: right;\">3</td><td style = \"text-align: right;\">3</td><td style = \"text-align: right;\">0</td><td style = \"text-align: right;\">70</td><td style = \"text-align: right;\">0</td><td style = \"text-align: right;\">11.0</td><td style = \"text-align: right;\">0</td><td style = \"text-align: right;\">100</td><td style = \"text-align: right;\">-100</td><td style = \"text-align: right;\">0</td><td style = \"text-align: right;\">11</td></tr><tr><td class = \"rowNumber\" style = \"font-weight: bold; text-align: right;\">12</td><td style = \"text-align: right;\">3</td><td style = \"text-align: right;\">3</td><td style = \"text-align: right;\">0</td><td style = \"text-align: right;\">65</td><td style = \"text-align: right;\">0</td><td style = \"text-align: right;\">2000.0</td><td style = \"text-align: right;\">0</td><td style = \"text-align: right;\">100</td><td style = \"text-align: right;\">-100</td><td style = \"text-align: right;\">0</td><td style = \"text-align: right;\">12</td></tr><tr><td class = \"rowNumber\" style = \"font-weight: bold; text-align: right;\">13</td><td style = \"text-align: right;\">3</td><td style = \"text-align: right;\">3</td><td style = \"text-align: right;\">0</td><td style = \"text-align: right;\">65</td><td style = \"text-align: right;\">0</td><td style = \"text-align: right;\">1000.0</td><td style = \"text-align: right;\">0</td><td style = \"text-align: right;\">100</td><td style = \"text-align: right;\">-100</td><td style = \"text-align: right;\">0</td><td style = \"text-align: right;\">13</td></tr><tr><td style = \"text-align: right;\">&vellip;</td><td style = \"text-align: right;\">&vellip;</td><td style = \"text-align: right;\">&vellip;</td><td style = \"text-align: right;\">&vellip;</td><td style = \"text-align: right;\">&vellip;</td><td style = \"text-align: right;\">&vellip;</td><td style = \"text-align: right;\">&vellip;</td><td style = \"text-align: right;\">&vellip;</td><td style = \"text-align: right;\">&vellip;</td><td style = \"text-align: right;\">&vellip;</td><td style = \"text-align: right;\">&vellip;</td><td style = \"text-align: right;\">&vellip;</td></tr><tr><td class = \"rowNumber\" style = \"font-weight: bold; text-align: right;\">139</td><td style = \"text-align: right;\">33</td><td style = \"text-align: right;\">33</td><td style = \"text-align: right;\">0</td><td style = \"text-align: right;\">5</td><td style = \"text-align: right;\">0</td><td style = \"text-align: right;\">119.6</td><td style = \"text-align: right;\">0</td><td style = \"text-align: right;\">100</td><td style = \"text-align: right;\">-100</td><td style = \"text-align: right;\">0</td><td style = \"text-align: right;\">139</td></tr><tr><td class = \"rowNumber\" style = \"font-weight: bold; text-align: right;\">140</td><td style = \"text-align: right;\">34</td><td style = \"text-align: right;\">34</td><td style = \"text-align: right;\">0</td><td style = \"text-align: right;\">40</td><td style = \"text-align: right;\">0</td><td style = \"text-align: right;\">322.0</td><td style = \"text-align: right;\">0</td><td style = \"text-align: right;\">100</td><td style = \"text-align: right;\">-100</td><td style = \"text-align: right;\">0</td><td style = \"text-align: right;\">140</td></tr><tr><td class = \"rowNumber\" style = \"font-weight: bold; text-align: right;\">141</td><td style = \"text-align: right;\">34</td><td style = \"text-align: right;\">34</td><td style = \"text-align: right;\">0</td><td style = \"text-align: right;\">70</td><td style = \"text-align: right;\">0</td><td style = \"text-align: right;\">1.0</td><td style = \"text-align: right;\">0</td><td style = \"text-align: right;\">100</td><td style = \"text-align: right;\">-100</td><td style = \"text-align: right;\">0</td><td style = \"text-align: right;\">141</td></tr><tr><td class = \"rowNumber\" style = \"font-weight: bold; text-align: right;\">142</td><td style = \"text-align: right;\">34</td><td style = \"text-align: right;\">34</td><td style = \"text-align: right;\">0</td><td style = \"text-align: right;\">12</td><td style = \"text-align: right;\">0</td><td style = \"text-align: right;\">3.0</td><td style = \"text-align: right;\">0</td><td style = \"text-align: right;\">100</td><td style = \"text-align: right;\">-100</td><td style = \"text-align: right;\">0</td><td style = \"text-align: right;\">142</td></tr><tr><td class = \"rowNumber\" style = \"font-weight: bold; text-align: right;\">143</td><td style = \"text-align: right;\">34</td><td style = \"text-align: right;\">34</td><td style = \"text-align: right;\">0</td><td style = \"text-align: right;\">5</td><td style = \"text-align: right;\">0</td><td style = \"text-align: right;\">295.5</td><td style = \"text-align: right;\">0</td><td style = \"text-align: right;\">100</td><td style = \"text-align: right;\">-100</td><td style = \"text-align: right;\">0</td><td style = \"text-align: right;\">143</td></tr><tr><td class = \"rowNumber\" style = \"font-weight: bold; text-align: right;\">144</td><td style = \"text-align: right;\">35</td><td style = \"text-align: right;\">35</td><td style = \"text-align: right;\">0</td><td style = \"text-align: right;\">40</td><td style = \"text-align: right;\">0</td><td style = \"text-align: right;\">536.0</td><td style = \"text-align: right;\">0</td><td style = \"text-align: right;\">100</td><td style = \"text-align: right;\">-100</td><td style = \"text-align: right;\">0</td><td style = \"text-align: right;\">144</td></tr><tr><td class = \"rowNumber\" style = \"font-weight: bold; text-align: right;\">145</td><td style = \"text-align: right;\">35</td><td style = \"text-align: right;\">35</td><td style = \"text-align: right;\">0</td><td style = \"text-align: right;\">37</td><td style = \"text-align: right;\">0</td><td style = \"text-align: right;\">612.0</td><td style = \"text-align: right;\">0</td><td style = \"text-align: right;\">100</td><td style = \"text-align: right;\">-100</td><td style = \"text-align: right;\">0</td><td style = \"text-align: right;\">145</td></tr><tr><td class = \"rowNumber\" style = \"font-weight: bold; text-align: right;\">146</td><td style = \"text-align: right;\">35</td><td style = \"text-align: right;\">35</td><td style = \"text-align: right;\">0</td><td style = \"text-align: right;\">12</td><td style = \"text-align: right;\">0</td><td style = \"text-align: right;\">18.8</td><td style = \"text-align: right;\">0</td><td style = \"text-align: right;\">100</td><td style = \"text-align: right;\">-100</td><td style = \"text-align: right;\">0</td><td style = \"text-align: right;\">146</td></tr><tr><td class = \"rowNumber\" style = \"font-weight: bold; text-align: right;\">147</td><td style = \"text-align: right;\">35</td><td style = \"text-align: right;\">35</td><td style = \"text-align: right;\">0</td><td style = \"text-align: right;\">5</td><td style = \"text-align: right;\">0</td><td style = \"text-align: right;\">1224.2</td><td style = \"text-align: right;\">0</td><td style = \"text-align: right;\">100</td><td style = \"text-align: right;\">-100</td><td style = \"text-align: right;\">0</td><td style = \"text-align: right;\">147</td></tr><tr><td class = \"rowNumber\" style = \"font-weight: bold; text-align: right;\">148</td><td style = \"text-align: right;\">36</td><td style = \"text-align: right;\">36</td><td style = \"text-align: right;\">0</td><td style = \"text-align: right;\">70</td><td style = \"text-align: right;\">0</td><td style = \"text-align: right;\">10.0</td><td style = \"text-align: right;\">0</td><td style = \"text-align: right;\">100</td><td style = \"text-align: right;\">-100</td><td style = \"text-align: right;\">0</td><td style = \"text-align: right;\">148</td></tr><tr><td class = \"rowNumber\" style = \"font-weight: bold; text-align: right;\">149</td><td style = \"text-align: right;\">36</td><td style = \"text-align: right;\">36</td><td style = \"text-align: right;\">0</td><td style = \"text-align: right;\">12</td><td style = \"text-align: right;\">0</td><td style = \"text-align: right;\">20.4</td><td style = \"text-align: right;\">0</td><td style = \"text-align: right;\">100</td><td style = \"text-align: right;\">-100</td><td style = \"text-align: right;\">0</td><td style = \"text-align: right;\">149</td></tr><tr><td class = \"rowNumber\" style = \"font-weight: bold; text-align: right;\">150</td><td style = \"text-align: right;\">36</td><td style = \"text-align: right;\">36</td><td style = \"text-align: right;\">0</td><td style = \"text-align: right;\">5</td><td style = \"text-align: right;\">0</td><td style = \"text-align: right;\">332.9</td><td style = \"text-align: right;\">0</td><td style = \"text-align: right;\">100</td><td style = \"text-align: right;\">-100</td><td style = \"text-align: right;\">0</td><td style = \"text-align: right;\">150</td></tr></tbody></table></div>"
      ],
      "text/latex": [
       "\\begin{tabular}{r|ccccccccccc}\n",
       "\t& zone & connnode & c2 & c1 & c0 & pgmax & pgmin & rgmax & rgmin & pgprev & id\\\\\n",
       "\t\\hline\n",
       "\t& Int64 & Int64 & Int64 & Int64 & Int64 & Float64 & Int64 & Int64 & Int64 & Int64 & Int64\\\\\n",
       "\t\\hline\n",
       "\t1 & 1 & 1 & 0 & 105 & 0 & 130.0 & 0 & 100 & -100 & 0 & 1 \\\\\n",
       "\t2 & 1 & 1 & 0 & 120 & 0 & 1516.8 & 0 & 100 & -100 & 0 & 2 \\\\\n",
       "\t3 & 1 & 1 & 0 & 70 & 0 & 51.0 & 0 & 100 & -100 & 0 & 3 \\\\\n",
       "\t4 & 1 & 1 & 0 & 12 & 0 & 101.8 & 0 & 100 & -100 & 0 & 4 \\\\\n",
       "\t5 & 1 & 1 & 0 & 5 & 0 & 510.3 & 0 & 100 & -100 & 0 & 5 \\\\\n",
       "\t6 & 2 & 2 & 0 & 130 & 0 & 152.0 & 0 & 100 & -100 & 0 & 6 \\\\\n",
       "\t7 & 2 & 2 & 0 & 70 & 0 & 54.0 & 0 & 100 & -100 & 0 & 7 \\\\\n",
       "\t8 & 2 & 2 & 0 & 65 & 0 & 1000.0 & 0 & 100 & -100 & 0 & 8 \\\\\n",
       "\t9 & 2 & 2 & 0 & 12 & 0 & 107.7 & 0 & 100 & -100 & 0 & 9 \\\\\n",
       "\t10 & 2 & 2 & 0 & 5 & 0 & 55.3 & 0 & 100 & -100 & 0 & 10 \\\\\n",
       "\t11 & 3 & 3 & 0 & 70 & 0 & 11.0 & 0 & 100 & -100 & 0 & 11 \\\\\n",
       "\t12 & 3 & 3 & 0 & 65 & 0 & 2000.0 & 0 & 100 & -100 & 0 & 12 \\\\\n",
       "\t13 & 3 & 3 & 0 & 65 & 0 & 1000.0 & 0 & 100 & -100 & 0 & 13 \\\\\n",
       "\t14 & 3 & 3 & 0 & 12 & 0 & 22.9 & 0 & 100 & -100 & 0 & 14 \\\\\n",
       "\t15 & 3 & 3 & 0 & 5 & 0 & 299.7 & 0 & 100 & -100 & 0 & 15 \\\\\n",
       "\t16 & 4 & 4 & 0 & 130 & 0 & 634.0 & 0 & 100 & -100 & 0 & 16 \\\\\n",
       "\t17 & 4 & 4 & 0 & 70 & 0 & 33.0 & 0 & 100 & -100 & 0 & 17 \\\\\n",
       "\t18 & 4 & 4 & 0 & 12 & 0 & 66.7 & 0 & 100 & -100 & 0 & 18 \\\\\n",
       "\t19 & 4 & 4 & 0 & 5 & 0 & 586.1 & 0 & 100 & -100 & 0 & 19 \\\\\n",
       "\t20 & 5 & 5 & 0 & 45 & 0 & 100.0 & 0 & 100 & -100 & 0 & 20 \\\\\n",
       "\t21 & 5 & 5 & 0 & 130 & 0 & 253.0 & 0 & 100 & -100 & 0 & 21 \\\\\n",
       "\t22 & 5 & 5 & 0 & 70 & 0 & 43.0 & 0 & 100 & -100 & 0 & 22 \\\\\n",
       "\t23 & 5 & 5 & 0 & 12 & 0 & 85.1 & 0 & 100 & -100 & 0 & 23 \\\\\n",
       "\t24 & 5 & 5 & 0 & 5 & 0 & 17.5 & 0 & 100 & -100 & 0 & 24 \\\\\n",
       "\t25 & 6 & 6 & 0 & 70 & 0 & 31.0 & 0 & 100 & -100 & 0 & 25 \\\\\n",
       "\t26 & 6 & 6 & 0 & 12 & 0 & 62.2 & 0 & 100 & -100 & 0 & 26 \\\\\n",
       "\t27 & 6 & 6 & 0 & 5 & 0 & 9.3 & 0 & 100 & -100 & 0 & 27 \\\\\n",
       "\t28 & 7 & 7 & 0 & 70 & 0 & 34.0 & 0 & 100 & -100 & 0 & 28 \\\\\n",
       "\t29 & 7 & 7 & 0 & 12 & 0 & 67.1 & 0 & 100 & -100 & 0 & 29 \\\\\n",
       "\t30 & 7 & 7 & 0 & 5 & 0 & 0.2 & 0 & 100 & -100 & 0 & 30 \\\\\n",
       "\t$\\dots$ & $\\dots$ & $\\dots$ & $\\dots$ & $\\dots$ & $\\dots$ & $\\dots$ & $\\dots$ & $\\dots$ & $\\dots$ & $\\dots$ & $\\dots$ \\\\\n",
       "\\end{tabular}\n"
      ],
      "text/plain": [
       "\u001b[1m150×11 DataFrame\u001b[0m\n",
       "\u001b[1m Row \u001b[0m│\u001b[1m zone  \u001b[0m\u001b[1m connnode \u001b[0m\u001b[1m c2    \u001b[0m\u001b[1m c1    \u001b[0m\u001b[1m c0    \u001b[0m\u001b[1m pgmax   \u001b[0m\u001b[1m pgmin \u001b[0m\u001b[1m rgmax \u001b[0m\u001b[1m rgmin \u001b[0m\u001b[1m pgprev \u001b[0m\u001b[1m id    \u001b[0m\n",
       "     │\u001b[90m Int64 \u001b[0m\u001b[90m Int64    \u001b[0m\u001b[90m Int64 \u001b[0m\u001b[90m Int64 \u001b[0m\u001b[90m Int64 \u001b[0m\u001b[90m Float64 \u001b[0m\u001b[90m Int64 \u001b[0m\u001b[90m Int64 \u001b[0m\u001b[90m Int64 \u001b[0m\u001b[90m Int64  \u001b[0m\u001b[90m Int64 \u001b[0m\n",
       "─────┼───────────────────────────────────────────────────────────────────────────────────\n",
       "   1 │     1         1      0    105      0    130.0      0    100   -100       0      1\n",
       "   2 │     1         1      0    120      0   1516.8      0    100   -100       0      2\n",
       "   3 │     1         1      0     70      0     51.0      0    100   -100       0      3\n",
       "   4 │     1         1      0     12      0    101.8      0    100   -100       0      4\n",
       "   5 │     1         1      0      5      0    510.3      0    100   -100       0      5\n",
       "   6 │     2         2      0    130      0    152.0      0    100   -100       0      6\n",
       "   7 │     2         2      0     70      0     54.0      0    100   -100       0      7\n",
       "   8 │     2         2      0     65      0   1000.0      0    100   -100       0      8\n",
       "   9 │     2         2      0     12      0    107.7      0    100   -100       0      9\n",
       "  10 │     2         2      0      5      0     55.3      0    100   -100       0     10\n",
       "  11 │     3         3      0     70      0     11.0      0    100   -100       0     11\n",
       "  ⋮  │   ⋮       ⋮        ⋮      ⋮      ⋮       ⋮       ⋮      ⋮      ⋮      ⋮       ⋮\n",
       " 141 │    34        34      0     70      0      1.0      0    100   -100       0    141\n",
       " 142 │    34        34      0     12      0      3.0      0    100   -100       0    142\n",
       " 143 │    34        34      0      5      0    295.5      0    100   -100       0    143\n",
       " 144 │    35        35      0     40      0    536.0      0    100   -100       0    144\n",
       " 145 │    35        35      0     37      0    612.0      0    100   -100       0    145\n",
       " 146 │    35        35      0     12      0     18.8      0    100   -100       0    146\n",
       " 147 │    35        35      0      5      0   1224.2      0    100   -100       0    147\n",
       " 148 │    36        36      0     70      0     10.0      0    100   -100       0    148\n",
       " 149 │    36        36      0     12      0     20.4      0    100   -100       0    149\n",
       " 150 │    36        36      0      5      0    332.9      0    100   -100       0    150\n",
       "\u001b[36m                                                                         129 rows omitted\u001b[0m"
      ]
     },
     "execution_count": 4,
     "metadata": {},
     "output_type": "execute_result"
    }
   ],
   "source": [
    "gens #"
   ]
  },
  {
   "cell_type": "code",
   "execution_count": 5,
   "metadata": {},
   "outputs": [
    {
     "data": {
      "text/html": [
       "<div><div style = \"float: left;\"><span>36×2 DataFrame</span></div><div style = \"float: right;\"><span style = \"font-style: italic;\">11 rows omitted</span></div><div style = \"clear: both;\"></div></div><div class = \"data-frame\" style = \"overflow-x: scroll;\"><table class = \"data-frame\" style = \"margin-bottom: 6px;\"><thead><tr class = \"header\"><th class = \"rowNumber\" style = \"font-weight: bold; text-align: right;\">Row</th><th style = \"text-align: left;\">connnode</th><th style = \"text-align: left;\">demand</th></tr><tr class = \"subheader headerLastRow\"><th class = \"rowNumber\" style = \"font-weight: bold; text-align: right;\"></th><th title = \"Int64\" style = \"text-align: left;\">Int64</th><th title = \"Float64\" style = \"text-align: left;\">Float64</th></tr></thead><tbody><tr><td class = \"rowNumber\" style = \"font-weight: bold; text-align: right;\">1</td><td style = \"text-align: right;\">1</td><td style = \"text-align: right;\">-2036.63</td></tr><tr><td class = \"rowNumber\" style = \"font-weight: bold; text-align: right;\">2</td><td style = \"text-align: right;\">2</td><td style = \"text-align: right;\">-1734.71</td></tr><tr><td class = \"rowNumber\" style = \"font-weight: bold; text-align: right;\">3</td><td style = \"text-align: right;\">3</td><td style = \"text-align: right;\">-877.9</td></tr><tr><td class = \"rowNumber\" style = \"font-weight: bold; text-align: right;\">4</td><td style = \"text-align: right;\">4</td><td style = \"text-align: right;\">-1334.16</td></tr><tr><td class = \"rowNumber\" style = \"font-weight: bold; text-align: right;\">5</td><td style = \"text-align: right;\">5</td><td style = \"text-align: right;\">-1701.55</td></tr><tr><td class = \"rowNumber\" style = \"font-weight: bold; text-align: right;\">6</td><td style = \"text-align: right;\">6</td><td style = \"text-align: right;\">-1244.77</td></tr><tr><td class = \"rowNumber\" style = \"font-weight: bold; text-align: right;\">7</td><td style = \"text-align: right;\">7</td><td style = \"text-align: right;\">-1341.61</td></tr><tr><td class = \"rowNumber\" style = \"font-weight: bold; text-align: right;\">8</td><td style = \"text-align: right;\">8</td><td style = \"text-align: right;\">-3669.5</td></tr><tr><td class = \"rowNumber\" style = \"font-weight: bold; text-align: right;\">9</td><td style = \"text-align: right;\">9</td><td style = \"text-align: right;\">-1960.02</td></tr><tr><td class = \"rowNumber\" style = \"font-weight: bold; text-align: right;\">10</td><td style = \"text-align: right;\">10</td><td style = \"text-align: right;\">-490.68</td></tr><tr><td class = \"rowNumber\" style = \"font-weight: bold; text-align: right;\">11</td><td style = \"text-align: right;\">11</td><td style = \"text-align: right;\">-474.51</td></tr><tr><td class = \"rowNumber\" style = \"font-weight: bold; text-align: right;\">12</td><td style = \"text-align: right;\">12</td><td style = \"text-align: right;\">-1518.23</td></tr><tr><td class = \"rowNumber\" style = \"font-weight: bold; text-align: right;\">13</td><td style = \"text-align: right;\">13</td><td style = \"text-align: right;\">-2429.02</td></tr><tr><td style = \"text-align: right;\">&vellip;</td><td style = \"text-align: right;\">&vellip;</td><td style = \"text-align: right;\">&vellip;</td></tr><tr><td class = \"rowNumber\" style = \"font-weight: bold; text-align: right;\">25</td><td style = \"text-align: right;\">25</td><td style = \"text-align: right;\">-717.98</td></tr><tr><td class = \"rowNumber\" style = \"font-weight: bold; text-align: right;\">26</td><td style = \"text-align: right;\">26</td><td style = \"text-align: right;\">-170.46</td></tr><tr><td class = \"rowNumber\" style = \"font-weight: bold; text-align: right;\">27</td><td style = \"text-align: right;\">27</td><td style = \"text-align: right;\">-1680.03</td></tr><tr><td class = \"rowNumber\" style = \"font-weight: bold; text-align: right;\">28</td><td style = \"text-align: right;\">28</td><td style = \"text-align: right;\">-563.53</td></tr><tr><td class = \"rowNumber\" style = \"font-weight: bold; text-align: right;\">29</td><td style = \"text-align: right;\">29</td><td style = \"text-align: right;\">-376.51</td></tr><tr><td class = \"rowNumber\" style = \"font-weight: bold; text-align: right;\">30</td><td style = \"text-align: right;\">30</td><td style = \"text-align: right;\">-59.36</td></tr><tr><td class = \"rowNumber\" style = \"font-weight: bold; text-align: right;\">31</td><td style = \"text-align: right;\">31</td><td style = \"text-align: right;\">-375.31</td></tr><tr><td class = \"rowNumber\" style = \"font-weight: bold; text-align: right;\">32</td><td style = \"text-align: right;\">32</td><td style = \"text-align: right;\">-408.45</td></tr><tr><td class = \"rowNumber\" style = \"font-weight: bold; text-align: right;\">33</td><td style = \"text-align: right;\">33</td><td style = \"text-align: right;\">-455.7</td></tr><tr><td class = \"rowNumber\" style = \"font-weight: bold; text-align: right;\">34</td><td style = \"text-align: right;\">34</td><td style = \"text-align: right;\">-989.55</td></tr><tr><td class = \"rowNumber\" style = \"font-weight: bold; text-align: right;\">35</td><td style = \"text-align: right;\">35</td><td style = \"text-align: right;\">-598.87</td></tr><tr><td class = \"rowNumber\" style = \"font-weight: bold; text-align: right;\">36</td><td style = \"text-align: right;\">36</td><td style = \"text-align: right;\">-827.02</td></tr></tbody></table></div>"
      ],
      "text/latex": [
       "\\begin{tabular}{r|cc}\n",
       "\t& connnode & demand\\\\\n",
       "\t\\hline\n",
       "\t& Int64 & Float64\\\\\n",
       "\t\\hline\n",
       "\t1 & 1 & -2036.63 \\\\\n",
       "\t2 & 2 & -1734.71 \\\\\n",
       "\t3 & 3 & -877.9 \\\\\n",
       "\t4 & 4 & -1334.16 \\\\\n",
       "\t5 & 5 & -1701.55 \\\\\n",
       "\t6 & 6 & -1244.77 \\\\\n",
       "\t7 & 7 & -1341.61 \\\\\n",
       "\t8 & 8 & -3669.5 \\\\\n",
       "\t9 & 9 & -1960.02 \\\\\n",
       "\t10 & 10 & -490.68 \\\\\n",
       "\t11 & 11 & -474.51 \\\\\n",
       "\t12 & 12 & -1518.23 \\\\\n",
       "\t13 & 13 & -2429.02 \\\\\n",
       "\t14 & 14 & -1614.73 \\\\\n",
       "\t15 & 15 & -2584.23 \\\\\n",
       "\t16 & 16 & -184.39 \\\\\n",
       "\t17 & 17 & -161.82 \\\\\n",
       "\t18 & 18 & -1088.33 \\\\\n",
       "\t19 & 19 & -646.27 \\\\\n",
       "\t20 & 20 & -2079.47 \\\\\n",
       "\t21 & 21 & -1384.61 \\\\\n",
       "\t22 & 22 & -674.35 \\\\\n",
       "\t23 & 23 & -1973.87 \\\\\n",
       "\t24 & 24 & -571.88 \\\\\n",
       "\t25 & 25 & -717.98 \\\\\n",
       "\t26 & 26 & -170.46 \\\\\n",
       "\t27 & 27 & -1680.03 \\\\\n",
       "\t28 & 28 & -563.53 \\\\\n",
       "\t29 & 29 & -376.51 \\\\\n",
       "\t30 & 30 & -59.36 \\\\\n",
       "\t$\\dots$ & $\\dots$ & $\\dots$ \\\\\n",
       "\\end{tabular}\n"
      ],
      "text/plain": [
       "\u001b[1m36×2 DataFrame\u001b[0m\n",
       "\u001b[1m Row \u001b[0m│\u001b[1m connnode \u001b[0m\u001b[1m demand   \u001b[0m\n",
       "     │\u001b[90m Int64    \u001b[0m\u001b[90m Float64  \u001b[0m\n",
       "─────┼────────────────────\n",
       "   1 │        1  -2036.63\n",
       "   2 │        2  -1734.71\n",
       "   3 │        3   -877.9\n",
       "   4 │        4  -1334.16\n",
       "   5 │        5  -1701.55\n",
       "   6 │        6  -1244.77\n",
       "   7 │        7  -1341.61\n",
       "   8 │        8  -3669.5\n",
       "   9 │        9  -1960.02\n",
       "  10 │       10   -490.68\n",
       "  11 │       11   -474.51\n",
       "  ⋮  │    ⋮         ⋮\n",
       "  27 │       27  -1680.03\n",
       "  28 │       28   -563.53\n",
       "  29 │       29   -376.51\n",
       "  30 │       30    -59.36\n",
       "  31 │       31   -375.31\n",
       "  32 │       32   -408.45\n",
       "  33 │       33   -455.7\n",
       "  34 │       34   -989.55\n",
       "  35 │       35   -598.87\n",
       "  36 │       36   -827.02\n",
       "\u001b[36m           15 rows omitted\u001b[0m"
      ]
     },
     "execution_count": 5,
     "metadata": {},
     "output_type": "execute_result"
    }
   ],
   "source": [
    "loads"
   ]
  },
  {
   "cell_type": "markdown",
   "metadata": {},
   "source": [
    "The structure of these data are different than the above case formats, hence we write a modified solver function:"
   ]
  },
  {
   "cell_type": "code",
   "execution_count": 9,
   "metadata": {},
   "outputs": [
    {
     "data": {
      "text/plain": [
       "dcopf_ieee (generic function with 1 method)"
      ]
     },
     "execution_count": 9,
     "metadata": {},
     "output_type": "execute_result"
    }
   ],
   "source": [
    "#=\n",
    "Function to solve DC OPF problem using IEEE test cases\n",
    "Inputs:\n",
    "    gen_info -- dataframe with generator info\n",
    "    line_info -- dataframe with transmission lines info\n",
    "    loads  -- dataframe with load info\n",
    "=#\n",
    "function dcopf_ieee(gens, lines, loads)\n",
    "    DCOPF = Model(HiGHS.Optimizer) # You could use Clp as well, with Clp.Optimizer\n",
    "    \n",
    "    # Define sets based on data\n",
    "      # Set of generator buses\n",
    "    G = gens.id #the way it defines gens are by looking at which bus it's connected to - list gens as unique elements then create another matrix showing which gens are associated with which node in the system\n",
    "                #set to id instead of connnode\n",
    "    \n",
    "      # Set of all nodes\n",
    "    N = sort(union(unique(lines.fromnode), \n",
    "            unique(lines.tonode))) \n",
    "    \n",
    "      # sets J_i and G_i will be described using dataframe indexing below\n",
    "\n",
    "    # Define per unit base units for the system \n",
    "    # used to convert from per unit values to standard unit\n",
    "    # values (e.g. p.u. power flows to MW/MVA)\n",
    "    baseMVA = 100000000 # base MVA is 100 MVA for this system *LOOK INTO THIS FURTHER*\n",
    "    \n",
    "    # Decision variables   \n",
    "    @variables(DCOPF, begin\n",
    "        GEN[G]  >= -5000     # generation        \n",
    "        # Note: we assume Pmin = 0 for all resources for simplicty here\n",
    "        THETA[N]         # voltage phase angle of bus\n",
    "        FLOW[N,N]        # flows between all pairs of nodes\n",
    "    end)\n",
    "    \n",
    "    # Create slack bus with reference angle = 0; use bus 1 with generator\n",
    "    fix(THETA[1],0)\n",
    "                \n",
    "    # Objective function\n",
    "    @objective(DCOPF, Min, \n",
    "        sum( gens[g,:c1] * GEN[g] for g in G)\n",
    "    )\n",
    "    \n",
    "    # Supply demand balances\n",
    "    @constraint(DCOPF, cBalance[i in N], \n",
    "        sum(GEN[g] for g in gens[gens.connnode .== i,:id]) \n",
    "            + sum(load for load in loads[loads.connnode .== i,:demand]) \n",
    "        == sum(FLOW[i,j] for j in lines[lines.fromnode .== i,:tonode])\n",
    "    )\n",
    "\n",
    "    # Max generation constraint\n",
    "    @constraint(DCOPF, cMaxGen[g in G],\n",
    "                    GEN[g] <= gens[g,:pgmax])\n",
    "    \n",
    "    # Flow constraints on each branch \n",
    "    @constraint(DCOPF, cLineFlows[l in 1:nrow(lines)],\n",
    "            FLOW[lines[l,:fromnode],lines[l,:tonode]] == \n",
    "            baseMVA * lines[l,:b] * \n",
    "            (THETA[lines[l,:fromnode]] - THETA[lines[l,:tonode]])\n",
    "    )\n",
    "    \n",
    "    # Max line flow constraints\n",
    "    @constraint(DCOPF, cLineLimits[l in 1:nrow(lines)], \n",
    "            FLOW[lines[l,:fromnode],lines[l,:tonode]] <=\n",
    "            lines[l,:capacity]\n",
    "    ) \n",
    "\n",
    "\n",
    "    # Solve statement (! indicates runs in place)\n",
    "    optimize!(DCOPF)\n",
    "\n",
    "    # Output variables\n",
    "    generation = DataFrame(\n",
    "        node = gens.connnode,\n",
    "        gen = value.(GEN).data[gens.connnode]\n",
    "        )\n",
    "    \n",
    "    angles = value.(THETA).data\n",
    "    \n",
    "    flows = DataFrame(\n",
    "        fbus = lines.fromnode,\n",
    "        tbus = lines.tonode,\n",
    "        flow = baseMVA * lines.b .* (angles[lines.fromnode] .- \n",
    "                        angles[lines.tonode]))\n",
    "    \n",
    "    # We output the marginal values of the demand constraints, \n",
    "    # which will in fact be the prices to deliver power at a given bus.\n",
    "    prices = DataFrame(\n",
    "        node = N,\n",
    "        value = dual.(cBalance).data)\n",
    "\n",
    "    # Return the solution and objective as named tuple\n",
    "    return (\n",
    "        generation = generation, \n",
    "        angles,\n",
    "        flows,\n",
    "        prices,\n",
    "        cost = objective_value(DCOPF),\n",
    "        status = termination_status(DCOPF)\n",
    "    )\n",
    "end"
   ]
  },
  {
   "cell_type": "code",
   "execution_count": 113,
   "metadata": {},
   "outputs": [
    {
     "data": {
      "text/html": [
       "<div><div style = \"float: left;\"><span>150×11 DataFrame</span></div><div style = \"float: right;\"><span style = \"font-style: italic;\">125 rows omitted</span></div><div style = \"clear: both;\"></div></div><div class = \"data-frame\" style = \"overflow-x: scroll;\"><table class = \"data-frame\" style = \"margin-bottom: 6px;\"><thead><tr class = \"header\"><th class = \"rowNumber\" style = \"font-weight: bold; text-align: right;\">Row</th><th style = \"text-align: left;\">zone</th><th style = \"text-align: left;\">connnode</th><th style = \"text-align: left;\">c2</th><th style = \"text-align: left;\">c1</th><th style = \"text-align: left;\">c0</th><th style = \"text-align: left;\">pgmax</th><th style = \"text-align: left;\">pgmin</th><th style = \"text-align: left;\">rgmax</th><th style = \"text-align: left;\">rgmin</th><th style = \"text-align: left;\">pgprev</th><th style = \"text-align: left;\">id</th></tr><tr class = \"subheader headerLastRow\"><th class = \"rowNumber\" style = \"font-weight: bold; text-align: right;\"></th><th title = \"Int64\" style = \"text-align: left;\">Int64</th><th title = \"Int64\" style = \"text-align: left;\">Int64</th><th title = \"Int64\" style = \"text-align: left;\">Int64</th><th title = \"Int64\" style = \"text-align: left;\">Int64</th><th title = \"Int64\" style = \"text-align: left;\">Int64</th><th title = \"Float64\" style = \"text-align: left;\">Float64</th><th title = \"Int64\" style = \"text-align: left;\">Int64</th><th title = \"Int64\" style = \"text-align: left;\">Int64</th><th title = \"Int64\" style = \"text-align: left;\">Int64</th><th title = \"Int64\" style = \"text-align: left;\">Int64</th><th title = \"Int64\" style = \"text-align: left;\">Int64</th></tr></thead><tbody><tr><td class = \"rowNumber\" style = \"font-weight: bold; text-align: right;\">1</td><td style = \"text-align: right;\">1</td><td style = \"text-align: right;\">1</td><td style = \"text-align: right;\">0</td><td style = \"text-align: right;\">105</td><td style = \"text-align: right;\">0</td><td style = \"text-align: right;\">130.0</td><td style = \"text-align: right;\">0</td><td style = \"text-align: right;\">100</td><td style = \"text-align: right;\">-100</td><td style = \"text-align: right;\">0</td><td style = \"text-align: right;\">1</td></tr><tr><td class = \"rowNumber\" style = \"font-weight: bold; text-align: right;\">2</td><td style = \"text-align: right;\">1</td><td style = \"text-align: right;\">1</td><td style = \"text-align: right;\">0</td><td style = \"text-align: right;\">120</td><td style = \"text-align: right;\">0</td><td style = \"text-align: right;\">1516.8</td><td style = \"text-align: right;\">0</td><td style = \"text-align: right;\">100</td><td style = \"text-align: right;\">-100</td><td style = \"text-align: right;\">0</td><td style = \"text-align: right;\">2</td></tr><tr><td class = \"rowNumber\" style = \"font-weight: bold; text-align: right;\">3</td><td style = \"text-align: right;\">1</td><td style = \"text-align: right;\">1</td><td style = \"text-align: right;\">0</td><td style = \"text-align: right;\">70</td><td style = \"text-align: right;\">0</td><td style = \"text-align: right;\">51.0</td><td style = \"text-align: right;\">0</td><td style = \"text-align: right;\">100</td><td style = \"text-align: right;\">-100</td><td style = \"text-align: right;\">0</td><td style = \"text-align: right;\">3</td></tr><tr><td class = \"rowNumber\" style = \"font-weight: bold; text-align: right;\">4</td><td style = \"text-align: right;\">1</td><td style = \"text-align: right;\">1</td><td style = \"text-align: right;\">0</td><td style = \"text-align: right;\">12</td><td style = \"text-align: right;\">0</td><td style = \"text-align: right;\">101.8</td><td style = \"text-align: right;\">0</td><td style = \"text-align: right;\">100</td><td style = \"text-align: right;\">-100</td><td style = \"text-align: right;\">0</td><td style = \"text-align: right;\">4</td></tr><tr><td class = \"rowNumber\" style = \"font-weight: bold; text-align: right;\">5</td><td style = \"text-align: right;\">1</td><td style = \"text-align: right;\">1</td><td style = \"text-align: right;\">0</td><td style = \"text-align: right;\">5</td><td style = \"text-align: right;\">0</td><td style = \"text-align: right;\">510.3</td><td style = \"text-align: right;\">0</td><td style = \"text-align: right;\">100</td><td style = \"text-align: right;\">-100</td><td style = \"text-align: right;\">0</td><td style = \"text-align: right;\">5</td></tr><tr><td class = \"rowNumber\" style = \"font-weight: bold; text-align: right;\">6</td><td style = \"text-align: right;\">2</td><td style = \"text-align: right;\">2</td><td style = \"text-align: right;\">0</td><td style = \"text-align: right;\">130</td><td style = \"text-align: right;\">0</td><td style = \"text-align: right;\">152.0</td><td style = \"text-align: right;\">0</td><td style = \"text-align: right;\">100</td><td style = \"text-align: right;\">-100</td><td style = \"text-align: right;\">0</td><td style = \"text-align: right;\">6</td></tr><tr><td class = \"rowNumber\" style = \"font-weight: bold; text-align: right;\">7</td><td style = \"text-align: right;\">2</td><td style = \"text-align: right;\">2</td><td style = \"text-align: right;\">0</td><td style = \"text-align: right;\">70</td><td style = \"text-align: right;\">0</td><td style = \"text-align: right;\">54.0</td><td style = \"text-align: right;\">0</td><td style = \"text-align: right;\">100</td><td style = \"text-align: right;\">-100</td><td style = \"text-align: right;\">0</td><td style = \"text-align: right;\">7</td></tr><tr><td class = \"rowNumber\" style = \"font-weight: bold; text-align: right;\">8</td><td style = \"text-align: right;\">2</td><td style = \"text-align: right;\">2</td><td style = \"text-align: right;\">0</td><td style = \"text-align: right;\">65</td><td style = \"text-align: right;\">0</td><td style = \"text-align: right;\">1000.0</td><td style = \"text-align: right;\">0</td><td style = \"text-align: right;\">100</td><td style = \"text-align: right;\">-100</td><td style = \"text-align: right;\">0</td><td style = \"text-align: right;\">8</td></tr><tr><td class = \"rowNumber\" style = \"font-weight: bold; text-align: right;\">9</td><td style = \"text-align: right;\">2</td><td style = \"text-align: right;\">2</td><td style = \"text-align: right;\">0</td><td style = \"text-align: right;\">12</td><td style = \"text-align: right;\">0</td><td style = \"text-align: right;\">107.7</td><td style = \"text-align: right;\">0</td><td style = \"text-align: right;\">100</td><td style = \"text-align: right;\">-100</td><td style = \"text-align: right;\">0</td><td style = \"text-align: right;\">9</td></tr><tr><td class = \"rowNumber\" style = \"font-weight: bold; text-align: right;\">10</td><td style = \"text-align: right;\">2</td><td style = \"text-align: right;\">2</td><td style = \"text-align: right;\">0</td><td style = \"text-align: right;\">5</td><td style = \"text-align: right;\">0</td><td style = \"text-align: right;\">55.3</td><td style = \"text-align: right;\">0</td><td style = \"text-align: right;\">100</td><td style = \"text-align: right;\">-100</td><td style = \"text-align: right;\">0</td><td style = \"text-align: right;\">10</td></tr><tr><td class = \"rowNumber\" style = \"font-weight: bold; text-align: right;\">11</td><td style = \"text-align: right;\">3</td><td style = \"text-align: right;\">3</td><td style = \"text-align: right;\">0</td><td style = \"text-align: right;\">70</td><td style = \"text-align: right;\">0</td><td style = \"text-align: right;\">11.0</td><td style = \"text-align: right;\">0</td><td style = \"text-align: right;\">100</td><td style = \"text-align: right;\">-100</td><td style = \"text-align: right;\">0</td><td style = \"text-align: right;\">11</td></tr><tr><td class = \"rowNumber\" style = \"font-weight: bold; text-align: right;\">12</td><td style = \"text-align: right;\">3</td><td style = \"text-align: right;\">3</td><td style = \"text-align: right;\">0</td><td style = \"text-align: right;\">65</td><td style = \"text-align: right;\">0</td><td style = \"text-align: right;\">2000.0</td><td style = \"text-align: right;\">0</td><td style = \"text-align: right;\">100</td><td style = \"text-align: right;\">-100</td><td style = \"text-align: right;\">0</td><td style = \"text-align: right;\">12</td></tr><tr><td class = \"rowNumber\" style = \"font-weight: bold; text-align: right;\">13</td><td style = \"text-align: right;\">3</td><td style = \"text-align: right;\">3</td><td style = \"text-align: right;\">0</td><td style = \"text-align: right;\">65</td><td style = \"text-align: right;\">0</td><td style = \"text-align: right;\">1000.0</td><td style = \"text-align: right;\">0</td><td style = \"text-align: right;\">100</td><td style = \"text-align: right;\">-100</td><td style = \"text-align: right;\">0</td><td style = \"text-align: right;\">13</td></tr><tr><td style = \"text-align: right;\">&vellip;</td><td style = \"text-align: right;\">&vellip;</td><td style = \"text-align: right;\">&vellip;</td><td style = \"text-align: right;\">&vellip;</td><td style = \"text-align: right;\">&vellip;</td><td style = \"text-align: right;\">&vellip;</td><td style = \"text-align: right;\">&vellip;</td><td style = \"text-align: right;\">&vellip;</td><td style = \"text-align: right;\">&vellip;</td><td style = \"text-align: right;\">&vellip;</td><td style = \"text-align: right;\">&vellip;</td><td style = \"text-align: right;\">&vellip;</td></tr><tr><td class = \"rowNumber\" style = \"font-weight: bold; text-align: right;\">139</td><td style = \"text-align: right;\">33</td><td style = \"text-align: right;\">33</td><td style = \"text-align: right;\">0</td><td style = \"text-align: right;\">5</td><td style = \"text-align: right;\">0</td><td style = \"text-align: right;\">119.6</td><td style = \"text-align: right;\">0</td><td style = \"text-align: right;\">100</td><td style = \"text-align: right;\">-100</td><td style = \"text-align: right;\">0</td><td style = \"text-align: right;\">139</td></tr><tr><td class = \"rowNumber\" style = \"font-weight: bold; text-align: right;\">140</td><td style = \"text-align: right;\">34</td><td style = \"text-align: right;\">34</td><td style = \"text-align: right;\">0</td><td style = \"text-align: right;\">40</td><td style = \"text-align: right;\">0</td><td style = \"text-align: right;\">322.0</td><td style = \"text-align: right;\">0</td><td style = \"text-align: right;\">100</td><td style = \"text-align: right;\">-100</td><td style = \"text-align: right;\">0</td><td style = \"text-align: right;\">140</td></tr><tr><td class = \"rowNumber\" style = \"font-weight: bold; text-align: right;\">141</td><td style = \"text-align: right;\">34</td><td style = \"text-align: right;\">34</td><td style = \"text-align: right;\">0</td><td style = \"text-align: right;\">70</td><td style = \"text-align: right;\">0</td><td style = \"text-align: right;\">1.0</td><td style = \"text-align: right;\">0</td><td style = \"text-align: right;\">100</td><td style = \"text-align: right;\">-100</td><td style = \"text-align: right;\">0</td><td style = \"text-align: right;\">141</td></tr><tr><td class = \"rowNumber\" style = \"font-weight: bold; text-align: right;\">142</td><td style = \"text-align: right;\">34</td><td style = \"text-align: right;\">34</td><td style = \"text-align: right;\">0</td><td style = \"text-align: right;\">12</td><td style = \"text-align: right;\">0</td><td style = \"text-align: right;\">3.0</td><td style = \"text-align: right;\">0</td><td style = \"text-align: right;\">100</td><td style = \"text-align: right;\">-100</td><td style = \"text-align: right;\">0</td><td style = \"text-align: right;\">142</td></tr><tr><td class = \"rowNumber\" style = \"font-weight: bold; text-align: right;\">143</td><td style = \"text-align: right;\">34</td><td style = \"text-align: right;\">34</td><td style = \"text-align: right;\">0</td><td style = \"text-align: right;\">5</td><td style = \"text-align: right;\">0</td><td style = \"text-align: right;\">295.5</td><td style = \"text-align: right;\">0</td><td style = \"text-align: right;\">100</td><td style = \"text-align: right;\">-100</td><td style = \"text-align: right;\">0</td><td style = \"text-align: right;\">143</td></tr><tr><td class = \"rowNumber\" style = \"font-weight: bold; text-align: right;\">144</td><td style = \"text-align: right;\">35</td><td style = \"text-align: right;\">35</td><td style = \"text-align: right;\">0</td><td style = \"text-align: right;\">40</td><td style = \"text-align: right;\">0</td><td style = \"text-align: right;\">536.0</td><td style = \"text-align: right;\">0</td><td style = \"text-align: right;\">100</td><td style = \"text-align: right;\">-100</td><td style = \"text-align: right;\">0</td><td style = \"text-align: right;\">144</td></tr><tr><td class = \"rowNumber\" style = \"font-weight: bold; text-align: right;\">145</td><td style = \"text-align: right;\">35</td><td style = \"text-align: right;\">35</td><td style = \"text-align: right;\">0</td><td style = \"text-align: right;\">37</td><td style = \"text-align: right;\">0</td><td style = \"text-align: right;\">612.0</td><td style = \"text-align: right;\">0</td><td style = \"text-align: right;\">100</td><td style = \"text-align: right;\">-100</td><td style = \"text-align: right;\">0</td><td style = \"text-align: right;\">145</td></tr><tr><td class = \"rowNumber\" style = \"font-weight: bold; text-align: right;\">146</td><td style = \"text-align: right;\">35</td><td style = \"text-align: right;\">35</td><td style = \"text-align: right;\">0</td><td style = \"text-align: right;\">12</td><td style = \"text-align: right;\">0</td><td style = \"text-align: right;\">18.8</td><td style = \"text-align: right;\">0</td><td style = \"text-align: right;\">100</td><td style = \"text-align: right;\">-100</td><td style = \"text-align: right;\">0</td><td style = \"text-align: right;\">146</td></tr><tr><td class = \"rowNumber\" style = \"font-weight: bold; text-align: right;\">147</td><td style = \"text-align: right;\">35</td><td style = \"text-align: right;\">35</td><td style = \"text-align: right;\">0</td><td style = \"text-align: right;\">5</td><td style = \"text-align: right;\">0</td><td style = \"text-align: right;\">1224.2</td><td style = \"text-align: right;\">0</td><td style = \"text-align: right;\">100</td><td style = \"text-align: right;\">-100</td><td style = \"text-align: right;\">0</td><td style = \"text-align: right;\">147</td></tr><tr><td class = \"rowNumber\" style = \"font-weight: bold; text-align: right;\">148</td><td style = \"text-align: right;\">36</td><td style = \"text-align: right;\">36</td><td style = \"text-align: right;\">0</td><td style = \"text-align: right;\">70</td><td style = \"text-align: right;\">0</td><td style = \"text-align: right;\">10.0</td><td style = \"text-align: right;\">0</td><td style = \"text-align: right;\">100</td><td style = \"text-align: right;\">-100</td><td style = \"text-align: right;\">0</td><td style = \"text-align: right;\">148</td></tr><tr><td class = \"rowNumber\" style = \"font-weight: bold; text-align: right;\">149</td><td style = \"text-align: right;\">36</td><td style = \"text-align: right;\">36</td><td style = \"text-align: right;\">0</td><td style = \"text-align: right;\">12</td><td style = \"text-align: right;\">0</td><td style = \"text-align: right;\">20.4</td><td style = \"text-align: right;\">0</td><td style = \"text-align: right;\">100</td><td style = \"text-align: right;\">-100</td><td style = \"text-align: right;\">0</td><td style = \"text-align: right;\">149</td></tr><tr><td class = \"rowNumber\" style = \"font-weight: bold; text-align: right;\">150</td><td style = \"text-align: right;\">36</td><td style = \"text-align: right;\">36</td><td style = \"text-align: right;\">0</td><td style = \"text-align: right;\">5</td><td style = \"text-align: right;\">0</td><td style = \"text-align: right;\">332.9</td><td style = \"text-align: right;\">0</td><td style = \"text-align: right;\">100</td><td style = \"text-align: right;\">-100</td><td style = \"text-align: right;\">0</td><td style = \"text-align: right;\">150</td></tr></tbody></table></div>"
      ],
      "text/latex": [
       "\\begin{tabular}{r|ccccccccccc}\n",
       "\t& zone & connnode & c2 & c1 & c0 & pgmax & pgmin & rgmax & rgmin & pgprev & id\\\\\n",
       "\t\\hline\n",
       "\t& Int64 & Int64 & Int64 & Int64 & Int64 & Float64 & Int64 & Int64 & Int64 & Int64 & Int64\\\\\n",
       "\t\\hline\n",
       "\t1 & 1 & 1 & 0 & 105 & 0 & 130.0 & 0 & 100 & -100 & 0 & 1 \\\\\n",
       "\t2 & 1 & 1 & 0 & 120 & 0 & 1516.8 & 0 & 100 & -100 & 0 & 2 \\\\\n",
       "\t3 & 1 & 1 & 0 & 70 & 0 & 51.0 & 0 & 100 & -100 & 0 & 3 \\\\\n",
       "\t4 & 1 & 1 & 0 & 12 & 0 & 101.8 & 0 & 100 & -100 & 0 & 4 \\\\\n",
       "\t5 & 1 & 1 & 0 & 5 & 0 & 510.3 & 0 & 100 & -100 & 0 & 5 \\\\\n",
       "\t6 & 2 & 2 & 0 & 130 & 0 & 152.0 & 0 & 100 & -100 & 0 & 6 \\\\\n",
       "\t7 & 2 & 2 & 0 & 70 & 0 & 54.0 & 0 & 100 & -100 & 0 & 7 \\\\\n",
       "\t8 & 2 & 2 & 0 & 65 & 0 & 1000.0 & 0 & 100 & -100 & 0 & 8 \\\\\n",
       "\t9 & 2 & 2 & 0 & 12 & 0 & 107.7 & 0 & 100 & -100 & 0 & 9 \\\\\n",
       "\t10 & 2 & 2 & 0 & 5 & 0 & 55.3 & 0 & 100 & -100 & 0 & 10 \\\\\n",
       "\t11 & 3 & 3 & 0 & 70 & 0 & 11.0 & 0 & 100 & -100 & 0 & 11 \\\\\n",
       "\t12 & 3 & 3 & 0 & 65 & 0 & 2000.0 & 0 & 100 & -100 & 0 & 12 \\\\\n",
       "\t13 & 3 & 3 & 0 & 65 & 0 & 1000.0 & 0 & 100 & -100 & 0 & 13 \\\\\n",
       "\t14 & 3 & 3 & 0 & 12 & 0 & 22.9 & 0 & 100 & -100 & 0 & 14 \\\\\n",
       "\t15 & 3 & 3 & 0 & 5 & 0 & 299.7 & 0 & 100 & -100 & 0 & 15 \\\\\n",
       "\t16 & 4 & 4 & 0 & 130 & 0 & 634.0 & 0 & 100 & -100 & 0 & 16 \\\\\n",
       "\t17 & 4 & 4 & 0 & 70 & 0 & 33.0 & 0 & 100 & -100 & 0 & 17 \\\\\n",
       "\t18 & 4 & 4 & 0 & 12 & 0 & 66.7 & 0 & 100 & -100 & 0 & 18 \\\\\n",
       "\t19 & 4 & 4 & 0 & 5 & 0 & 586.1 & 0 & 100 & -100 & 0 & 19 \\\\\n",
       "\t20 & 5 & 5 & 0 & 45 & 0 & 100.0 & 0 & 100 & -100 & 0 & 20 \\\\\n",
       "\t21 & 5 & 5 & 0 & 130 & 0 & 253.0 & 0 & 100 & -100 & 0 & 21 \\\\\n",
       "\t22 & 5 & 5 & 0 & 70 & 0 & 43.0 & 0 & 100 & -100 & 0 & 22 \\\\\n",
       "\t23 & 5 & 5 & 0 & 12 & 0 & 85.1 & 0 & 100 & -100 & 0 & 23 \\\\\n",
       "\t24 & 5 & 5 & 0 & 5 & 0 & 17.5 & 0 & 100 & -100 & 0 & 24 \\\\\n",
       "\t25 & 6 & 6 & 0 & 70 & 0 & 31.0 & 0 & 100 & -100 & 0 & 25 \\\\\n",
       "\t26 & 6 & 6 & 0 & 12 & 0 & 62.2 & 0 & 100 & -100 & 0 & 26 \\\\\n",
       "\t27 & 6 & 6 & 0 & 5 & 0 & 9.3 & 0 & 100 & -100 & 0 & 27 \\\\\n",
       "\t28 & 7 & 7 & 0 & 70 & 0 & 34.0 & 0 & 100 & -100 & 0 & 28 \\\\\n",
       "\t29 & 7 & 7 & 0 & 12 & 0 & 67.1 & 0 & 100 & -100 & 0 & 29 \\\\\n",
       "\t30 & 7 & 7 & 0 & 5 & 0 & 0.2 & 0 & 100 & -100 & 0 & 30 \\\\\n",
       "\t$\\dots$ & $\\dots$ & $\\dots$ & $\\dots$ & $\\dots$ & $\\dots$ & $\\dots$ & $\\dots$ & $\\dots$ & $\\dots$ & $\\dots$ & $\\dots$ \\\\\n",
       "\\end{tabular}\n"
      ],
      "text/plain": [
       "\u001b[1m150×11 DataFrame\u001b[0m\n",
       "\u001b[1m Row \u001b[0m│\u001b[1m zone  \u001b[0m\u001b[1m connnode \u001b[0m\u001b[1m c2    \u001b[0m\u001b[1m c1    \u001b[0m\u001b[1m c0    \u001b[0m\u001b[1m pgmax   \u001b[0m\u001b[1m pgmin \u001b[0m\u001b[1m rgmax \u001b[0m\u001b[1m rgmin \u001b[0m\u001b[1m pgprev \u001b[0m\u001b[1m id    \u001b[0m\n",
       "     │\u001b[90m Int64 \u001b[0m\u001b[90m Int64    \u001b[0m\u001b[90m Int64 \u001b[0m\u001b[90m Int64 \u001b[0m\u001b[90m Int64 \u001b[0m\u001b[90m Float64 \u001b[0m\u001b[90m Int64 \u001b[0m\u001b[90m Int64 \u001b[0m\u001b[90m Int64 \u001b[0m\u001b[90m Int64  \u001b[0m\u001b[90m Int64 \u001b[0m\n",
       "─────┼───────────────────────────────────────────────────────────────────────────────────\n",
       "   1 │     1         1      0    105      0    130.0      0    100   -100       0      1\n",
       "   2 │     1         1      0    120      0   1516.8      0    100   -100       0      2\n",
       "   3 │     1         1      0     70      0     51.0      0    100   -100       0      3\n",
       "   4 │     1         1      0     12      0    101.8      0    100   -100       0      4\n",
       "   5 │     1         1      0      5      0    510.3      0    100   -100       0      5\n",
       "   6 │     2         2      0    130      0    152.0      0    100   -100       0      6\n",
       "   7 │     2         2      0     70      0     54.0      0    100   -100       0      7\n",
       "   8 │     2         2      0     65      0   1000.0      0    100   -100       0      8\n",
       "   9 │     2         2      0     12      0    107.7      0    100   -100       0      9\n",
       "  10 │     2         2      0      5      0     55.3      0    100   -100       0     10\n",
       "  11 │     3         3      0     70      0     11.0      0    100   -100       0     11\n",
       "  ⋮  │   ⋮       ⋮        ⋮      ⋮      ⋮       ⋮       ⋮      ⋮      ⋮      ⋮       ⋮\n",
       " 141 │    34        34      0     70      0      1.0      0    100   -100       0    141\n",
       " 142 │    34        34      0     12      0      3.0      0    100   -100       0    142\n",
       " 143 │    34        34      0      5      0    295.5      0    100   -100       0    143\n",
       " 144 │    35        35      0     40      0    536.0      0    100   -100       0    144\n",
       " 145 │    35        35      0     37      0    612.0      0    100   -100       0    145\n",
       " 146 │    35        35      0     12      0     18.8      0    100   -100       0    146\n",
       " 147 │    35        35      0      5      0   1224.2      0    100   -100       0    147\n",
       " 148 │    36        36      0     70      0     10.0      0    100   -100       0    148\n",
       " 149 │    36        36      0     12      0     20.4      0    100   -100       0    149\n",
       " 150 │    36        36      0      5      0    332.9      0    100   -100       0    150\n",
       "\u001b[36m                                                                         129 rows omitted\u001b[0m"
      ]
     },
     "execution_count": 113,
     "metadata": {},
     "output_type": "execute_result"
    }
   ],
   "source": [
    "gens"
   ]
  },
  {
   "cell_type": "code",
   "execution_count": 10,
   "metadata": {},
   "outputs": [
    {
     "name": "stdout",
     "output_type": "stream",
     "text": [
      "Running HiGHS 1.5.3 [date: 1970-01-01, git hash: 45a127b78]\n",
      "Copyright (c) 2023 HiGHS under MIT licence terms\n",
      "Presolving model\n",
      "168 rows, 317 cols, 674 nonzeros\n",
      "163 rows, 311 cols, 663 nonzeros\n",
      "Presolve : Reductions: rows 163(-287); columns 311(-1171); elements 663(-297)\n",
      "Solving the presolved LP\n",
      "Using EKK dual simplex solver - serial\n",
      "  Iteration        Objective     Infeasibilities num(sum)\n",
      "          0    -4.0776082034e-11 Ph1: 68(56625.6); Du: 0(2.35069e-11) 0s\n",
      "        173     2.5277377000e+06 Pr: 0(0) 0s\n",
      "Solving the original LP from the solution after postsolve\n",
      "Model   status      : Optimal\n",
      "Simplex   iterations: 173\n",
      "Objective value     :  2.5277377000e+06\n",
      "HiGHS run time      :          0.01\n"
     ]
    }
   ],
   "source": [
    "solution = dcopf_ieee(gens, lines, loads);"
   ]
  },
  {
   "cell_type": "code",
   "execution_count": 11,
   "metadata": {},
   "outputs": [
    {
     "data": {
      "text/html": [
       "<div><div style = \"float: left;\"><span>150×2 DataFrame</span></div><div style = \"float: right;\"><span style = \"font-style: italic;\">125 rows omitted</span></div><div style = \"clear: both;\"></div></div><div class = \"data-frame\" style = \"overflow-x: scroll;\"><table class = \"data-frame\" style = \"margin-bottom: 6px;\"><thead><tr class = \"header\"><th class = \"rowNumber\" style = \"font-weight: bold; text-align: right;\">Row</th><th style = \"text-align: left;\">node</th><th style = \"text-align: left;\">gen</th></tr><tr class = \"subheader headerLastRow\"><th class = \"rowNumber\" style = \"font-weight: bold; text-align: right;\"></th><th title = \"Int64\" style = \"text-align: left;\">Int64</th><th title = \"Float64\" style = \"text-align: left;\">Float64</th></tr></thead><tbody><tr><td class = \"rowNumber\" style = \"font-weight: bold; text-align: right;\">1</td><td style = \"text-align: right;\">1</td><td style = \"text-align: right;\">130.0</td></tr><tr><td class = \"rowNumber\" style = \"font-weight: bold; text-align: right;\">2</td><td style = \"text-align: right;\">1</td><td style = \"text-align: right;\">130.0</td></tr><tr><td class = \"rowNumber\" style = \"font-weight: bold; text-align: right;\">3</td><td style = \"text-align: right;\">1</td><td style = \"text-align: right;\">130.0</td></tr><tr><td class = \"rowNumber\" style = \"font-weight: bold; text-align: right;\">4</td><td style = \"text-align: right;\">1</td><td style = \"text-align: right;\">130.0</td></tr><tr><td class = \"rowNumber\" style = \"font-weight: bold; text-align: right;\">5</td><td style = \"text-align: right;\">1</td><td style = \"text-align: right;\">130.0</td></tr><tr><td class = \"rowNumber\" style = \"font-weight: bold; text-align: right;\">6</td><td style = \"text-align: right;\">2</td><td style = \"text-align: right;\">1516.8</td></tr><tr><td class = \"rowNumber\" style = \"font-weight: bold; text-align: right;\">7</td><td style = \"text-align: right;\">2</td><td style = \"text-align: right;\">1516.8</td></tr><tr><td class = \"rowNumber\" style = \"font-weight: bold; text-align: right;\">8</td><td style = \"text-align: right;\">2</td><td style = \"text-align: right;\">1516.8</td></tr><tr><td class = \"rowNumber\" style = \"font-weight: bold; text-align: right;\">9</td><td style = \"text-align: right;\">2</td><td style = \"text-align: right;\">1516.8</td></tr><tr><td class = \"rowNumber\" style = \"font-weight: bold; text-align: right;\">10</td><td style = \"text-align: right;\">2</td><td style = \"text-align: right;\">1516.8</td></tr><tr><td class = \"rowNumber\" style = \"font-weight: bold; text-align: right;\">11</td><td style = \"text-align: right;\">3</td><td style = \"text-align: right;\">51.0</td></tr><tr><td class = \"rowNumber\" style = \"font-weight: bold; text-align: right;\">12</td><td style = \"text-align: right;\">3</td><td style = \"text-align: right;\">51.0</td></tr><tr><td class = \"rowNumber\" style = \"font-weight: bold; text-align: right;\">13</td><td style = \"text-align: right;\">3</td><td style = \"text-align: right;\">51.0</td></tr><tr><td style = \"text-align: right;\">&vellip;</td><td style = \"text-align: right;\">&vellip;</td><td style = \"text-align: right;\">&vellip;</td></tr><tr><td class = \"rowNumber\" style = \"font-weight: bold; text-align: right;\">139</td><td style = \"text-align: right;\">33</td><td style = \"text-align: right;\">183.5</td></tr><tr><td class = \"rowNumber\" style = \"font-weight: bold; text-align: right;\">140</td><td style = \"text-align: right;\">34</td><td style = \"text-align: right;\">0.7</td></tr><tr><td class = \"rowNumber\" style = \"font-weight: bold; text-align: right;\">141</td><td style = \"text-align: right;\">34</td><td style = \"text-align: right;\">0.7</td></tr><tr><td class = \"rowNumber\" style = \"font-weight: bold; text-align: right;\">142</td><td style = \"text-align: right;\">34</td><td style = \"text-align: right;\">0.7</td></tr><tr><td class = \"rowNumber\" style = \"font-weight: bold; text-align: right;\">143</td><td style = \"text-align: right;\">34</td><td style = \"text-align: right;\">0.7</td></tr><tr><td class = \"rowNumber\" style = \"font-weight: bold; text-align: right;\">144</td><td style = \"text-align: right;\">35</td><td style = \"text-align: right;\">49.0</td></tr><tr><td class = \"rowNumber\" style = \"font-weight: bold; text-align: right;\">145</td><td style = \"text-align: right;\">35</td><td style = \"text-align: right;\">49.0</td></tr><tr><td class = \"rowNumber\" style = \"font-weight: bold; text-align: right;\">146</td><td style = \"text-align: right;\">35</td><td style = \"text-align: right;\">49.0</td></tr><tr><td class = \"rowNumber\" style = \"font-weight: bold; text-align: right;\">147</td><td style = \"text-align: right;\">35</td><td style = \"text-align: right;\">49.0</td></tr><tr><td class = \"rowNumber\" style = \"font-weight: bold; text-align: right;\">148</td><td style = \"text-align: right;\">36</td><td style = \"text-align: right;\">98.0</td></tr><tr><td class = \"rowNumber\" style = \"font-weight: bold; text-align: right;\">149</td><td style = \"text-align: right;\">36</td><td style = \"text-align: right;\">98.0</td></tr><tr><td class = \"rowNumber\" style = \"font-weight: bold; text-align: right;\">150</td><td style = \"text-align: right;\">36</td><td style = \"text-align: right;\">98.0</td></tr></tbody></table></div>"
      ],
      "text/latex": [
       "\\begin{tabular}{r|cc}\n",
       "\t& node & gen\\\\\n",
       "\t\\hline\n",
       "\t& Int64 & Float64\\\\\n",
       "\t\\hline\n",
       "\t1 & 1 & 130.0 \\\\\n",
       "\t2 & 1 & 130.0 \\\\\n",
       "\t3 & 1 & 130.0 \\\\\n",
       "\t4 & 1 & 130.0 \\\\\n",
       "\t5 & 1 & 130.0 \\\\\n",
       "\t6 & 2 & 1516.8 \\\\\n",
       "\t7 & 2 & 1516.8 \\\\\n",
       "\t8 & 2 & 1516.8 \\\\\n",
       "\t9 & 2 & 1516.8 \\\\\n",
       "\t10 & 2 & 1516.8 \\\\\n",
       "\t11 & 3 & 51.0 \\\\\n",
       "\t12 & 3 & 51.0 \\\\\n",
       "\t13 & 3 & 51.0 \\\\\n",
       "\t14 & 3 & 51.0 \\\\\n",
       "\t15 & 3 & 51.0 \\\\\n",
       "\t16 & 4 & 101.8 \\\\\n",
       "\t17 & 4 & 101.8 \\\\\n",
       "\t18 & 4 & 101.8 \\\\\n",
       "\t19 & 4 & 101.8 \\\\\n",
       "\t20 & 5 & 510.3 \\\\\n",
       "\t21 & 5 & 510.3 \\\\\n",
       "\t22 & 5 & 510.3 \\\\\n",
       "\t23 & 5 & 510.3 \\\\\n",
       "\t24 & 5 & 510.3 \\\\\n",
       "\t25 & 6 & 152.0 \\\\\n",
       "\t26 & 6 & 152.0 \\\\\n",
       "\t27 & 6 & 152.0 \\\\\n",
       "\t28 & 7 & 54.0 \\\\\n",
       "\t29 & 7 & 54.0 \\\\\n",
       "\t30 & 7 & 54.0 \\\\\n",
       "\t$\\dots$ & $\\dots$ & $\\dots$ \\\\\n",
       "\\end{tabular}\n"
      ],
      "text/plain": [
       "\u001b[1m150×2 DataFrame\u001b[0m\n",
       "\u001b[1m Row \u001b[0m│\u001b[1m node  \u001b[0m\u001b[1m gen     \u001b[0m\n",
       "     │\u001b[90m Int64 \u001b[0m\u001b[90m Float64 \u001b[0m\n",
       "─────┼────────────────\n",
       "   1 │     1    130.0\n",
       "   2 │     1    130.0\n",
       "   3 │     1    130.0\n",
       "   4 │     1    130.0\n",
       "   5 │     1    130.0\n",
       "   6 │     2   1516.8\n",
       "   7 │     2   1516.8\n",
       "   8 │     2   1516.8\n",
       "   9 │     2   1516.8\n",
       "  10 │     2   1516.8\n",
       "  11 │     3     51.0\n",
       "  ⋮  │   ⋮       ⋮\n",
       " 141 │    34      0.7\n",
       " 142 │    34      0.7\n",
       " 143 │    34      0.7\n",
       " 144 │    35     49.0\n",
       " 145 │    35     49.0\n",
       " 146 │    35     49.0\n",
       " 147 │    35     49.0\n",
       " 148 │    36     98.0\n",
       " 149 │    36     98.0\n",
       " 150 │    36     98.0\n",
       "\u001b[36m      129 rows omitted\u001b[0m"
      ]
     },
     "execution_count": 11,
     "metadata": {},
     "output_type": "execute_result"
    }
   ],
   "source": [
    "solution.generation"
   ]
  },
  {
   "cell_type": "code",
   "execution_count": 117,
   "metadata": {},
   "outputs": [
    {
     "data": {
      "text/plain": [
       "39006.709710998235"
      ]
     },
     "execution_count": 117,
     "metadata": {},
     "output_type": "execute_result"
    }
   ],
   "source": [
    "sum(solution.generation.gen)"
   ]
  },
  {
   "cell_type": "code",
   "execution_count": 118,
   "metadata": {},
   "outputs": [
    {
     "data": {
      "text/plain": [
       "36-element Vector{Float64}:\n",
       "   130.0\n",
       "   416.3720190754051\n",
       "   523.3759702231284\n",
       "  3770.3891706899994\n",
       "   622.435814431743\n",
       "   481.5209851013266\n",
       " -2107.300754891985\n",
       " -2282.665215331108\n",
       "   387.0275581972113\n",
       "   688.4734269041152\n",
       "  -481.52098510133\n",
       "   473.77075489198506\n",
       "   -73.03417841173223\n",
       "     ⋮\n",
       "   181.78196935783808\n",
       "   208.2351577551774\n",
       "   -70.80669544746343\n",
       "  -260.6504316655737\n",
       "  1189.0114541618736\n",
       "    70.80669544744262\n",
       "  -282.3865500943739\n",
       "  -874.1215995149751\n",
       "   359.13141872507776\n",
       "   260.65043166557354\n",
       "   282.3865500943739\n",
       "  -518.6232220967531"
      ]
     },
     "execution_count": 118,
     "metadata": {},
     "output_type": "execute_result"
    }
   ],
   "source": [
    "solution.angles"
   ]
  },
  {
   "cell_type": "code",
   "execution_count": 119,
   "metadata": {},
   "outputs": [
    {
     "data": {
      "text/html": [
       "<div><div style = \"float: left;\"><span>36×2 DataFrame</span></div><div style = \"float: right;\"><span style = \"font-style: italic;\">11 rows omitted</span></div><div style = \"clear: both;\"></div></div><div class = \"data-frame\" style = \"overflow-x: scroll;\"><table class = \"data-frame\" style = \"margin-bottom: 6px;\"><thead><tr class = \"header\"><th class = \"rowNumber\" style = \"font-weight: bold; text-align: right;\">Row</th><th style = \"text-align: left;\">node</th><th style = \"text-align: left;\">value</th></tr><tr class = \"subheader headerLastRow\"><th class = \"rowNumber\" style = \"font-weight: bold; text-align: right;\"></th><th title = \"Int64\" style = \"text-align: left;\">Int64</th><th title = \"Float64\" style = \"text-align: left;\">Float64</th></tr></thead><tbody><tr><td class = \"rowNumber\" style = \"font-weight: bold; text-align: right;\">1</td><td style = \"text-align: right;\">1</td><td style = \"text-align: right;\">43.3333</td></tr><tr><td class = \"rowNumber\" style = \"font-weight: bold; text-align: right;\">2</td><td style = \"text-align: right;\">2</td><td style = \"text-align: right;\">43.3333</td></tr><tr><td class = \"rowNumber\" style = \"font-weight: bold; text-align: right;\">3</td><td style = \"text-align: right;\">3</td><td style = \"text-align: right;\">43.3333</td></tr><tr><td class = \"rowNumber\" style = \"font-weight: bold; text-align: right;\">4</td><td style = \"text-align: right;\">4</td><td style = \"text-align: right;\">43.3333</td></tr><tr><td class = \"rowNumber\" style = \"font-weight: bold; text-align: right;\">5</td><td style = \"text-align: right;\">5</td><td style = \"text-align: right;\">43.3333</td></tr><tr><td class = \"rowNumber\" style = \"font-weight: bold; text-align: right;\">6</td><td style = \"text-align: right;\">6</td><td style = \"text-align: right;\">43.3333</td></tr><tr><td class = \"rowNumber\" style = \"font-weight: bold; text-align: right;\">7</td><td style = \"text-align: right;\">7</td><td style = \"text-align: right;\">43.3333</td></tr><tr><td class = \"rowNumber\" style = \"font-weight: bold; text-align: right;\">8</td><td style = \"text-align: right;\">8</td><td style = \"text-align: right;\">43.3333</td></tr><tr><td class = \"rowNumber\" style = \"font-weight: bold; text-align: right;\">9</td><td style = \"text-align: right;\">9</td><td style = \"text-align: right;\">43.3333</td></tr><tr><td class = \"rowNumber\" style = \"font-weight: bold; text-align: right;\">10</td><td style = \"text-align: right;\">10</td><td style = \"text-align: right;\">43.3333</td></tr><tr><td class = \"rowNumber\" style = \"font-weight: bold; text-align: right;\">11</td><td style = \"text-align: right;\">11</td><td style = \"text-align: right;\">43.3333</td></tr><tr><td class = \"rowNumber\" style = \"font-weight: bold; text-align: right;\">12</td><td style = \"text-align: right;\">12</td><td style = \"text-align: right;\">43.3333</td></tr><tr><td class = \"rowNumber\" style = \"font-weight: bold; text-align: right;\">13</td><td style = \"text-align: right;\">13</td><td style = \"text-align: right;\">43.3333</td></tr><tr><td style = \"text-align: right;\">&vellip;</td><td style = \"text-align: right;\">&vellip;</td><td style = \"text-align: right;\">&vellip;</td></tr><tr><td class = \"rowNumber\" style = \"font-weight: bold; text-align: right;\">25</td><td style = \"text-align: right;\">25</td><td style = \"text-align: right;\">43.3333</td></tr><tr><td class = \"rowNumber\" style = \"font-weight: bold; text-align: right;\">26</td><td style = \"text-align: right;\">26</td><td style = \"text-align: right;\">43.3333</td></tr><tr><td class = \"rowNumber\" style = \"font-weight: bold; text-align: right;\">27</td><td style = \"text-align: right;\">27</td><td style = \"text-align: right;\">43.3333</td></tr><tr><td class = \"rowNumber\" style = \"font-weight: bold; text-align: right;\">28</td><td style = \"text-align: right;\">28</td><td style = \"text-align: right;\">43.3333</td></tr><tr><td class = \"rowNumber\" style = \"font-weight: bold; text-align: right;\">29</td><td style = \"text-align: right;\">29</td><td style = \"text-align: right;\">43.3333</td></tr><tr><td class = \"rowNumber\" style = \"font-weight: bold; text-align: right;\">30</td><td style = \"text-align: right;\">30</td><td style = \"text-align: right;\">43.3333</td></tr><tr><td class = \"rowNumber\" style = \"font-weight: bold; text-align: right;\">31</td><td style = \"text-align: right;\">31</td><td style = \"text-align: right;\">43.3333</td></tr><tr><td class = \"rowNumber\" style = \"font-weight: bold; text-align: right;\">32</td><td style = \"text-align: right;\">32</td><td style = \"text-align: right;\">43.3333</td></tr><tr><td class = \"rowNumber\" style = \"font-weight: bold; text-align: right;\">33</td><td style = \"text-align: right;\">33</td><td style = \"text-align: right;\">43.3333</td></tr><tr><td class = \"rowNumber\" style = \"font-weight: bold; text-align: right;\">34</td><td style = \"text-align: right;\">34</td><td style = \"text-align: right;\">43.3333</td></tr><tr><td class = \"rowNumber\" style = \"font-weight: bold; text-align: right;\">35</td><td style = \"text-align: right;\">35</td><td style = \"text-align: right;\">43.3333</td></tr><tr><td class = \"rowNumber\" style = \"font-weight: bold; text-align: right;\">36</td><td style = \"text-align: right;\">36</td><td style = \"text-align: right;\">43.3333</td></tr></tbody></table></div>"
      ],
      "text/latex": [
       "\\begin{tabular}{r|cc}\n",
       "\t& node & value\\\\\n",
       "\t\\hline\n",
       "\t& Int64 & Float64\\\\\n",
       "\t\\hline\n",
       "\t1 & 1 & 43.3333 \\\\\n",
       "\t2 & 2 & 43.3333 \\\\\n",
       "\t3 & 3 & 43.3333 \\\\\n",
       "\t4 & 4 & 43.3333 \\\\\n",
       "\t5 & 5 & 43.3333 \\\\\n",
       "\t6 & 6 & 43.3333 \\\\\n",
       "\t7 & 7 & 43.3333 \\\\\n",
       "\t8 & 8 & 43.3333 \\\\\n",
       "\t9 & 9 & 43.3333 \\\\\n",
       "\t10 & 10 & 43.3333 \\\\\n",
       "\t11 & 11 & 43.3333 \\\\\n",
       "\t12 & 12 & 43.3333 \\\\\n",
       "\t13 & 13 & 43.3333 \\\\\n",
       "\t14 & 14 & 43.3333 \\\\\n",
       "\t15 & 15 & 43.3333 \\\\\n",
       "\t16 & 16 & 43.3333 \\\\\n",
       "\t17 & 17 & 43.3333 \\\\\n",
       "\t18 & 18 & 43.3333 \\\\\n",
       "\t19 & 19 & 43.3333 \\\\\n",
       "\t20 & 20 & 43.3333 \\\\\n",
       "\t21 & 21 & 43.3333 \\\\\n",
       "\t22 & 22 & 43.3333 \\\\\n",
       "\t23 & 23 & 43.3333 \\\\\n",
       "\t24 & 24 & 43.3333 \\\\\n",
       "\t25 & 25 & 43.3333 \\\\\n",
       "\t26 & 26 & 43.3333 \\\\\n",
       "\t27 & 27 & 43.3333 \\\\\n",
       "\t28 & 28 & 43.3333 \\\\\n",
       "\t29 & 29 & 43.3333 \\\\\n",
       "\t30 & 30 & 43.3333 \\\\\n",
       "\t$\\dots$ & $\\dots$ & $\\dots$ \\\\\n",
       "\\end{tabular}\n"
      ],
      "text/plain": [
       "\u001b[1m36×2 DataFrame\u001b[0m\n",
       "\u001b[1m Row \u001b[0m│\u001b[1m node  \u001b[0m\u001b[1m value   \u001b[0m\n",
       "     │\u001b[90m Int64 \u001b[0m\u001b[90m Float64 \u001b[0m\n",
       "─────┼────────────────\n",
       "   1 │     1  43.3333\n",
       "   2 │     2  43.3333\n",
       "   3 │     3  43.3333\n",
       "   4 │     4  43.3333\n",
       "   5 │     5  43.3333\n",
       "   6 │     6  43.3333\n",
       "   7 │     7  43.3333\n",
       "   8 │     8  43.3333\n",
       "   9 │     9  43.3333\n",
       "  10 │    10  43.3333\n",
       "  11 │    11  43.3333\n",
       "  ⋮  │   ⋮       ⋮\n",
       "  27 │    27  43.3333\n",
       "  28 │    28  43.3333\n",
       "  29 │    29  43.3333\n",
       "  30 │    30  43.3333\n",
       "  31 │    31  43.3333\n",
       "  32 │    32  43.3333\n",
       "  33 │    33  43.3333\n",
       "  34 │    34  43.3333\n",
       "  35 │    35  43.3333\n",
       "  36 │    36  43.3333\n",
       "\u001b[36m       15 rows omitted\u001b[0m"
      ]
     },
     "execution_count": 119,
     "metadata": {},
     "output_type": "execute_result"
    }
   ],
   "source": [
    "solution.prices"
   ]
  },
  {
   "cell_type": "code",
   "execution_count": 54,
   "metadata": {},
   "outputs": [
    {
     "data": {
      "text/html": [
       "<div><div style = \"float: left;\"><span>36×2 DataFrame</span></div><div style = \"float: right;\"><span style = \"font-style: italic;\">11 rows omitted</span></div><div style = \"clear: both;\"></div></div><div class = \"data-frame\" style = \"overflow-x: scroll;\"><table class = \"data-frame\" style = \"margin-bottom: 6px;\"><thead><tr class = \"header\"><th class = \"rowNumber\" style = \"font-weight: bold; text-align: right;\">Row</th><th style = \"text-align: left;\">node</th><th style = \"text-align: left;\">value</th></tr><tr class = \"subheader headerLastRow\"><th class = \"rowNumber\" style = \"font-weight: bold; text-align: right;\"></th><th title = \"Int64\" style = \"text-align: left;\">Int64</th><th title = \"Float64\" style = \"text-align: left;\">Float64</th></tr></thead><tbody><tr><td class = \"rowNumber\" style = \"font-weight: bold; text-align: right;\">1</td><td style = \"text-align: right;\">1</td><td style = \"text-align: right;\">43.3333</td></tr><tr><td class = \"rowNumber\" style = \"font-weight: bold; text-align: right;\">2</td><td style = \"text-align: right;\">2</td><td style = \"text-align: right;\">43.3333</td></tr><tr><td class = \"rowNumber\" style = \"font-weight: bold; text-align: right;\">3</td><td style = \"text-align: right;\">3</td><td style = \"text-align: right;\">43.3333</td></tr><tr><td class = \"rowNumber\" style = \"font-weight: bold; text-align: right;\">4</td><td style = \"text-align: right;\">4</td><td style = \"text-align: right;\">43.3333</td></tr><tr><td class = \"rowNumber\" style = \"font-weight: bold; text-align: right;\">5</td><td style = \"text-align: right;\">5</td><td style = \"text-align: right;\">43.3333</td></tr><tr><td class = \"rowNumber\" style = \"font-weight: bold; text-align: right;\">6</td><td style = \"text-align: right;\">6</td><td style = \"text-align: right;\">43.3333</td></tr><tr><td class = \"rowNumber\" style = \"font-weight: bold; text-align: right;\">7</td><td style = \"text-align: right;\">7</td><td style = \"text-align: right;\">43.3333</td></tr><tr><td class = \"rowNumber\" style = \"font-weight: bold; text-align: right;\">8</td><td style = \"text-align: right;\">8</td><td style = \"text-align: right;\">43.3333</td></tr><tr><td class = \"rowNumber\" style = \"font-weight: bold; text-align: right;\">9</td><td style = \"text-align: right;\">9</td><td style = \"text-align: right;\">43.3333</td></tr><tr><td class = \"rowNumber\" style = \"font-weight: bold; text-align: right;\">10</td><td style = \"text-align: right;\">10</td><td style = \"text-align: right;\">43.3333</td></tr><tr><td class = \"rowNumber\" style = \"font-weight: bold; text-align: right;\">11</td><td style = \"text-align: right;\">11</td><td style = \"text-align: right;\">43.3333</td></tr><tr><td class = \"rowNumber\" style = \"font-weight: bold; text-align: right;\">12</td><td style = \"text-align: right;\">12</td><td style = \"text-align: right;\">43.3333</td></tr><tr><td class = \"rowNumber\" style = \"font-weight: bold; text-align: right;\">13</td><td style = \"text-align: right;\">13</td><td style = \"text-align: right;\">43.3333</td></tr><tr><td style = \"text-align: right;\">&vellip;</td><td style = \"text-align: right;\">&vellip;</td><td style = \"text-align: right;\">&vellip;</td></tr><tr><td class = \"rowNumber\" style = \"font-weight: bold; text-align: right;\">25</td><td style = \"text-align: right;\">25</td><td style = \"text-align: right;\">43.3333</td></tr><tr><td class = \"rowNumber\" style = \"font-weight: bold; text-align: right;\">26</td><td style = \"text-align: right;\">26</td><td style = \"text-align: right;\">43.3333</td></tr><tr><td class = \"rowNumber\" style = \"font-weight: bold; text-align: right;\">27</td><td style = \"text-align: right;\">27</td><td style = \"text-align: right;\">43.3333</td></tr><tr><td class = \"rowNumber\" style = \"font-weight: bold; text-align: right;\">28</td><td style = \"text-align: right;\">28</td><td style = \"text-align: right;\">43.3333</td></tr><tr><td class = \"rowNumber\" style = \"font-weight: bold; text-align: right;\">29</td><td style = \"text-align: right;\">29</td><td style = \"text-align: right;\">43.3333</td></tr><tr><td class = \"rowNumber\" style = \"font-weight: bold; text-align: right;\">30</td><td style = \"text-align: right;\">30</td><td style = \"text-align: right;\">43.3333</td></tr><tr><td class = \"rowNumber\" style = \"font-weight: bold; text-align: right;\">31</td><td style = \"text-align: right;\">31</td><td style = \"text-align: right;\">43.3333</td></tr><tr><td class = \"rowNumber\" style = \"font-weight: bold; text-align: right;\">32</td><td style = \"text-align: right;\">32</td><td style = \"text-align: right;\">43.3333</td></tr><tr><td class = \"rowNumber\" style = \"font-weight: bold; text-align: right;\">33</td><td style = \"text-align: right;\">33</td><td style = \"text-align: right;\">43.3333</td></tr><tr><td class = \"rowNumber\" style = \"font-weight: bold; text-align: right;\">34</td><td style = \"text-align: right;\">34</td><td style = \"text-align: right;\">43.3333</td></tr><tr><td class = \"rowNumber\" style = \"font-weight: bold; text-align: right;\">35</td><td style = \"text-align: right;\">35</td><td style = \"text-align: right;\">43.3333</td></tr><tr><td class = \"rowNumber\" style = \"font-weight: bold; text-align: right;\">36</td><td style = \"text-align: right;\">36</td><td style = \"text-align: right;\">43.3333</td></tr></tbody></table></div>"
      ],
      "text/latex": [
       "\\begin{tabular}{r|cc}\n",
       "\t& node & value\\\\\n",
       "\t\\hline\n",
       "\t& Int64 & Float64\\\\\n",
       "\t\\hline\n",
       "\t1 & 1 & 43.3333 \\\\\n",
       "\t2 & 2 & 43.3333 \\\\\n",
       "\t3 & 3 & 43.3333 \\\\\n",
       "\t4 & 4 & 43.3333 \\\\\n",
       "\t5 & 5 & 43.3333 \\\\\n",
       "\t6 & 6 & 43.3333 \\\\\n",
       "\t7 & 7 & 43.3333 \\\\\n",
       "\t8 & 8 & 43.3333 \\\\\n",
       "\t9 & 9 & 43.3333 \\\\\n",
       "\t10 & 10 & 43.3333 \\\\\n",
       "\t11 & 11 & 43.3333 \\\\\n",
       "\t12 & 12 & 43.3333 \\\\\n",
       "\t13 & 13 & 43.3333 \\\\\n",
       "\t14 & 14 & 43.3333 \\\\\n",
       "\t15 & 15 & 43.3333 \\\\\n",
       "\t16 & 16 & 43.3333 \\\\\n",
       "\t17 & 17 & 43.3333 \\\\\n",
       "\t18 & 18 & 43.3333 \\\\\n",
       "\t19 & 19 & 43.3333 \\\\\n",
       "\t20 & 20 & 43.3333 \\\\\n",
       "\t21 & 21 & 43.3333 \\\\\n",
       "\t22 & 22 & 43.3333 \\\\\n",
       "\t23 & 23 & 43.3333 \\\\\n",
       "\t24 & 24 & 43.3333 \\\\\n",
       "\t25 & 25 & 43.3333 \\\\\n",
       "\t26 & 26 & 43.3333 \\\\\n",
       "\t27 & 27 & 43.3333 \\\\\n",
       "\t28 & 28 & 43.3333 \\\\\n",
       "\t29 & 29 & 43.3333 \\\\\n",
       "\t30 & 30 & 43.3333 \\\\\n",
       "\t$\\dots$ & $\\dots$ & $\\dots$ \\\\\n",
       "\\end{tabular}\n"
      ],
      "text/plain": [
       "\u001b[1m36×2 DataFrame\u001b[0m\n",
       "\u001b[1m Row \u001b[0m│\u001b[1m node  \u001b[0m\u001b[1m value   \u001b[0m\n",
       "     │\u001b[90m Int64 \u001b[0m\u001b[90m Float64 \u001b[0m\n",
       "─────┼────────────────\n",
       "   1 │     1  43.3333\n",
       "   2 │     2  43.3333\n",
       "   3 │     3  43.3333\n",
       "   4 │     4  43.3333\n",
       "   5 │     5  43.3333\n",
       "   6 │     6  43.3333\n",
       "   7 │     7  43.3333\n",
       "   8 │     8  43.3333\n",
       "   9 │     9  43.3333\n",
       "  10 │    10  43.3333\n",
       "  11 │    11  43.3333\n",
       "  ⋮  │   ⋮       ⋮\n",
       "  27 │    27  43.3333\n",
       "  28 │    28  43.3333\n",
       "  29 │    29  43.3333\n",
       "  30 │    30  43.3333\n",
       "  31 │    31  43.3333\n",
       "  32 │    32  43.3333\n",
       "  33 │    33  43.3333\n",
       "  34 │    34  43.3333\n",
       "  35 │    35  43.3333\n",
       "  36 │    36  43.3333\n",
       "\u001b[36m       15 rows omitted\u001b[0m"
      ]
     },
     "execution_count": 54,
     "metadata": {},
     "output_type": "execute_result"
    }
   ],
   "source": [
    "df1 = solution.prices"
   ]
  },
  {
   "cell_type": "code",
   "execution_count": 120,
   "metadata": {},
   "outputs": [
    {
     "data": {
      "text/html": [
       "<div><div style = \"float: left;\"><span>132×3 DataFrame</span></div><div style = \"float: right;\"><span style = \"font-style: italic;\">107 rows omitted</span></div><div style = \"clear: both;\"></div></div><div class = \"data-frame\" style = \"overflow-x: scroll;\"><table class = \"data-frame\" style = \"margin-bottom: 6px;\"><thead><tr class = \"header\"><th class = \"rowNumber\" style = \"font-weight: bold; text-align: right;\">Row</th><th style = \"text-align: left;\">fbus</th><th style = \"text-align: left;\">tbus</th><th style = \"text-align: left;\">flow</th></tr><tr class = \"subheader headerLastRow\"><th class = \"rowNumber\" style = \"font-weight: bold; text-align: right;\"></th><th title = \"Int64\" style = \"text-align: left;\">Int64</th><th title = \"Int64\" style = \"text-align: left;\">Int64</th><th title = \"Float64\" style = \"text-align: left;\">Float64</th></tr></thead><tbody><tr><td class = \"rowNumber\" style = \"font-weight: bold; text-align: right;\">1</td><td style = \"text-align: right;\">1</td><td style = \"text-align: right;\">2</td><td style = \"text-align: right;\">-5.61614e8</td></tr><tr><td class = \"rowNumber\" style = \"font-weight: bold; text-align: right;\">2</td><td style = \"text-align: right;\">1</td><td style = \"text-align: right;\">5</td><td style = \"text-align: right;\">-5.07623e8</td></tr><tr><td class = \"rowNumber\" style = \"font-weight: bold; text-align: right;\">3</td><td style = \"text-align: right;\">2</td><td style = \"text-align: right;\">3</td><td style = \"text-align: right;\">-1.10178e8</td></tr><tr><td class = \"rowNumber\" style = \"font-weight: bold; text-align: right;\">4</td><td style = \"text-align: right;\">2</td><td style = \"text-align: right;\">6</td><td style = \"text-align: right;\">-3.10275e7</td></tr><tr><td class = \"rowNumber\" style = \"font-weight: bold; text-align: right;\">5</td><td style = \"text-align: right;\">3</td><td style = \"text-align: right;\">10</td><td style = \"text-align: right;\">-3.93049e7</td></tr><tr><td class = \"rowNumber\" style = \"font-weight: bold; text-align: right;\">6</td><td style = \"text-align: right;\">4</td><td style = \"text-align: right;\">5</td><td style = \"text-align: right;\">3.98841e9</td></tr><tr><td class = \"rowNumber\" style = \"font-weight: bold; text-align: right;\">7</td><td style = \"text-align: right;\">4</td><td style = \"text-align: right;\">6</td><td style = \"text-align: right;\">3.50408e9</td></tr><tr><td class = \"rowNumber\" style = \"font-weight: bold; text-align: right;\">8</td><td style = \"text-align: right;\">4</td><td style = \"text-align: right;\">14</td><td style = \"text-align: right;\">3.8708e9</td></tr><tr><td class = \"rowNumber\" style = \"font-weight: bold; text-align: right;\">9</td><td style = \"text-align: right;\">5</td><td style = \"text-align: right;\">6</td><td style = \"text-align: right;\">1.28691e8</td></tr><tr><td class = \"rowNumber\" style = \"font-weight: bold; text-align: right;\">10</td><td style = \"text-align: right;\">5</td><td style = \"text-align: right;\">14</td><td style = \"text-align: right;\">2.28636e8</td></tr><tr><td class = \"rowNumber\" style = \"font-weight: bold; text-align: right;\">11</td><td style = \"text-align: right;\">6</td><td style = \"text-align: right;\">7</td><td style = \"text-align: right;\">6.93069e9</td></tr><tr><td class = \"rowNumber\" style = \"font-weight: bold; text-align: right;\">12</td><td style = \"text-align: right;\">6</td><td style = \"text-align: right;\">13</td><td style = \"text-align: right;\">1.31267e8</td></tr><tr><td class = \"rowNumber\" style = \"font-weight: bold; text-align: right;\">13</td><td style = \"text-align: right;\">7</td><td style = \"text-align: right;\">8</td><td style = \"text-align: right;\">8.16094e8</td></tr><tr><td style = \"text-align: right;\">&vellip;</td><td style = \"text-align: right;\">&vellip;</td><td style = \"text-align: right;\">&vellip;</td><td style = \"text-align: right;\">&vellip;</td></tr><tr><td class = \"rowNumber\" style = \"font-weight: bold; text-align: right;\">121</td><td style = \"text-align: right;\">32</td><td style = \"text-align: right;\">29</td><td style = \"text-align: right;\">-6.24695e8</td></tr><tr><td class = \"rowNumber\" style = \"font-weight: bold; text-align: right;\">122</td><td style = \"text-align: right;\">29</td><td style = \"text-align: right;\">30</td><td style = \"text-align: right;\">7.3662e8</td></tr><tr><td class = \"rowNumber\" style = \"font-weight: bold; text-align: right;\">123</td><td style = \"text-align: right;\">31</td><td style = \"text-align: right;\">30</td><td style = \"text-align: right;\">-3.29349e8</td></tr><tr><td class = \"rowNumber\" style = \"font-weight: bold; text-align: right;\">124</td><td style = \"text-align: right;\">32</td><td style = \"text-align: right;\">30</td><td style = \"text-align: right;\">-2.83108e8</td></tr><tr><td class = \"rowNumber\" style = \"font-weight: bold; text-align: right;\">125</td><td style = \"text-align: right;\">32</td><td style = \"text-align: right;\">31</td><td style = \"text-align: right;\">-2.10441e8</td></tr><tr><td class = \"rowNumber\" style = \"font-weight: bold; text-align: right;\">126</td><td style = \"text-align: right;\">34</td><td style = \"text-align: right;\">31</td><td style = \"text-align: right;\">2.78216e8</td></tr><tr><td class = \"rowNumber\" style = \"font-weight: bold; text-align: right;\">127</td><td style = \"text-align: right;\">34</td><td style = \"text-align: right;\">32</td><td style = \"text-align: right;\">6.45222e8</td></tr><tr><td class = \"rowNumber\" style = \"font-weight: bold; text-align: right;\">128</td><td style = \"text-align: right;\">36</td><td style = \"text-align: right;\">32</td><td style = \"text-align: right;\">1.23823e8</td></tr><tr><td class = \"rowNumber\" style = \"font-weight: bold; text-align: right;\">129</td><td style = \"text-align: right;\">34</td><td style = \"text-align: right;\">33</td><td style = \"text-align: right;\">-5.46955e7</td></tr><tr><td class = \"rowNumber\" style = \"font-weight: bold; text-align: right;\">130</td><td style = \"text-align: right;\">35</td><td style = \"text-align: right;\">34</td><td style = \"text-align: right;\">1.82424e7</td></tr><tr><td class = \"rowNumber\" style = \"font-weight: bold; text-align: right;\">131</td><td style = \"text-align: right;\">36</td><td style = \"text-align: right;\">34</td><td style = \"text-align: right;\">-3.93622e8</td></tr><tr><td class = \"rowNumber\" style = \"font-weight: bold; text-align: right;\">132</td><td style = \"text-align: right;\">36</td><td style = \"text-align: right;\">35</td><td style = \"text-align: right;\">-1.01981e9</td></tr></tbody></table></div>"
      ],
      "text/latex": [
       "\\begin{tabular}{r|ccc}\n",
       "\t& fbus & tbus & flow\\\\\n",
       "\t\\hline\n",
       "\t& Int64 & Int64 & Float64\\\\\n",
       "\t\\hline\n",
       "\t1 & 1 & 2 & -5.61614e8 \\\\\n",
       "\t2 & 1 & 5 & -5.07623e8 \\\\\n",
       "\t3 & 2 & 3 & -1.10178e8 \\\\\n",
       "\t4 & 2 & 6 & -3.10275e7 \\\\\n",
       "\t5 & 3 & 10 & -3.93049e7 \\\\\n",
       "\t6 & 4 & 5 & 3.98841e9 \\\\\n",
       "\t7 & 4 & 6 & 3.50408e9 \\\\\n",
       "\t8 & 4 & 14 & 3.8708e9 \\\\\n",
       "\t9 & 5 & 6 & 1.28691e8 \\\\\n",
       "\t10 & 5 & 14 & 2.28636e8 \\\\\n",
       "\t11 & 6 & 7 & 6.93069e9 \\\\\n",
       "\t12 & 6 & 13 & 1.31267e8 \\\\\n",
       "\t13 & 7 & 8 & 8.16094e8 \\\\\n",
       "\t14 & 7 & 9 & -6.18748e9 \\\\\n",
       "\t15 & 7 & 10 & -2.00696e9 \\\\\n",
       "\t16 & 8 & 9 & -2.07595e9 \\\\\n",
       "\t17 & 8 & 10 & -1.46321e10 \\\\\n",
       "\t18 & 8 & 13 & -3.49373e9 \\\\\n",
       "\t19 & 9 & 11 & 3.24838e8 \\\\\n",
       "\t20 & 9 & 13 & 2.04374e8 \\\\\n",
       "\t21 & 10 & 11 & 3.60791e8 \\\\\n",
       "\t22 & 11 & 12 & -7.99501e8 \\\\\n",
       "\t23 & 11 & 13 & -2.79e8 \\\\\n",
       "\t24 & 12 & 13 & 2.54415e8 \\\\\n",
       "\t25 & 12 & 17 & 4.63451e8 \\\\\n",
       "\t26 & 13 & 15 & -1.09756e9 \\\\\n",
       "\t27 & 13 & 18 & -3.19263e9 \\\\\n",
       "\t28 & 14 & 16 & -1.95481e7 \\\\\n",
       "\t29 & 15 & 14 & 1.64794e9 \\\\\n",
       "\t30 & 15 & 16 & 3.55836e8 \\\\\n",
       "\t$\\dots$ & $\\dots$ & $\\dots$ & $\\dots$ \\\\\n",
       "\\end{tabular}\n"
      ],
      "text/plain": [
       "\u001b[1m132×3 DataFrame\u001b[0m\n",
       "\u001b[1m Row \u001b[0m│\u001b[1m fbus  \u001b[0m\u001b[1m tbus  \u001b[0m\u001b[1m flow       \u001b[0m\n",
       "     │\u001b[90m Int64 \u001b[0m\u001b[90m Int64 \u001b[0m\u001b[90m Float64    \u001b[0m\n",
       "─────┼──────────────────────────\n",
       "   1 │     1      2  -5.61614e8\n",
       "   2 │     1      5  -5.07623e8\n",
       "   3 │     2      3  -1.10178e8\n",
       "   4 │     2      6  -3.10275e7\n",
       "   5 │     3     10  -3.93049e7\n",
       "   6 │     4      5   3.98841e9\n",
       "   7 │     4      6   3.50408e9\n",
       "   8 │     4     14   3.8708e9\n",
       "   9 │     5      6   1.28691e8\n",
       "  10 │     5     14   2.28636e8\n",
       "  11 │     6      7   6.93069e9\n",
       "  ⋮  │   ⋮      ⋮        ⋮\n",
       " 123 │    31     30  -3.29349e8\n",
       " 124 │    32     30  -2.83108e8\n",
       " 125 │    32     31  -2.10441e8\n",
       " 126 │    34     31   2.78216e8\n",
       " 127 │    34     32   6.45222e8\n",
       " 128 │    36     32   1.23823e8\n",
       " 129 │    34     33  -5.46955e7\n",
       " 130 │    35     34   1.82424e7\n",
       " 131 │    36     34  -3.93622e8\n",
       " 132 │    36     35  -1.01981e9\n",
       "\u001b[36m                111 rows omitted\u001b[0m"
      ]
     },
     "execution_count": 120,
     "metadata": {},
     "output_type": "execute_result"
    }
   ],
   "source": [
    "solution.flows"
   ]
  },
  {
   "cell_type": "code",
   "execution_count": 34,
   "metadata": {},
   "outputs": [
    {
     "data": {
      "text/html": [
       "<div><div style = \"float: left;\"><span>132×3 DataFrame</span></div><div style = \"float: right;\"><span style = \"font-style: italic;\">107 rows omitted</span></div><div style = \"clear: both;\"></div></div><div class = \"data-frame\" style = \"overflow-x: scroll;\"><table class = \"data-frame\" style = \"margin-bottom: 6px;\"><thead><tr class = \"header\"><th class = \"rowNumber\" style = \"font-weight: bold; text-align: right;\">Row</th><th style = \"text-align: left;\">fbus</th><th style = \"text-align: left;\">tbus</th><th style = \"text-align: left;\">flow</th></tr><tr class = \"subheader headerLastRow\"><th class = \"rowNumber\" style = \"font-weight: bold; text-align: right;\"></th><th title = \"Int64\" style = \"text-align: left;\">Int64</th><th title = \"Int64\" style = \"text-align: left;\">Int64</th><th title = \"Float64\" style = \"text-align: left;\">Float64</th></tr></thead><tbody><tr><td class = \"rowNumber\" style = \"font-weight: bold; text-align: right;\">1</td><td style = \"text-align: right;\">1</td><td style = \"text-align: right;\">2</td><td style = \"text-align: right;\">-5.03635e8</td></tr><tr><td class = \"rowNumber\" style = \"font-weight: bold; text-align: right;\">2</td><td style = \"text-align: right;\">1</td><td style = \"text-align: right;\">5</td><td style = \"text-align: right;\">-4.38346e8</td></tr><tr><td class = \"rowNumber\" style = \"font-weight: bold; text-align: right;\">3</td><td style = \"text-align: right;\">2</td><td style = \"text-align: right;\">3</td><td style = \"text-align: right;\">-1.75204e8</td></tr><tr><td class = \"rowNumber\" style = \"font-weight: bold; text-align: right;\">4</td><td style = \"text-align: right;\">2</td><td style = \"text-align: right;\">6</td><td style = \"text-align: right;\">-1.27188e7</td></tr><tr><td class = \"rowNumber\" style = \"font-weight: bold; text-align: right;\">5</td><td style = \"text-align: right;\">3</td><td style = \"text-align: right;\">10</td><td style = \"text-align: right;\">-1.4222e7</td></tr><tr><td class = \"rowNumber\" style = \"font-weight: bold; text-align: right;\">6</td><td style = \"text-align: right;\">4</td><td style = \"text-align: right;\">5</td><td style = \"text-align: right;\">4.28742e9</td></tr><tr><td class = \"rowNumber\" style = \"font-weight: bold; text-align: right;\">7</td><td style = \"text-align: right;\">4</td><td style = \"text-align: right;\">6</td><td style = \"text-align: right;\">3.75638e9</td></tr><tr><td class = \"rowNumber\" style = \"font-weight: bold; text-align: right;\">8</td><td style = \"text-align: right;\">4</td><td style = \"text-align: right;\">14</td><td style = \"text-align: right;\">4.02562e9</td></tr><tr><td class = \"rowNumber\" style = \"font-weight: bold; text-align: right;\">9</td><td style = \"text-align: right;\">5</td><td style = \"text-align: right;\">6</td><td style = \"text-align: right;\">1.29425e8</td></tr><tr><td class = \"rowNumber\" style = \"font-weight: bold; text-align: right;\">10</td><td style = \"text-align: right;\">5</td><td style = \"text-align: right;\">14</td><td style = \"text-align: right;\">2.1615e8</td></tr><tr><td class = \"rowNumber\" style = \"font-weight: bold; text-align: right;\">11</td><td style = \"text-align: right;\">6</td><td style = \"text-align: right;\">7</td><td style = \"text-align: right;\">6.76662e9</td></tr><tr><td class = \"rowNumber\" style = \"font-weight: bold; text-align: right;\">12</td><td style = \"text-align: right;\">6</td><td style = \"text-align: right;\">13</td><td style = \"text-align: right;\">1.15895e8</td></tr><tr><td class = \"rowNumber\" style = \"font-weight: bold; text-align: right;\">13</td><td style = \"text-align: right;\">7</td><td style = \"text-align: right;\">8</td><td style = \"text-align: right;\">9.09852e8</td></tr><tr><td style = \"text-align: right;\">&vellip;</td><td style = \"text-align: right;\">&vellip;</td><td style = \"text-align: right;\">&vellip;</td><td style = \"text-align: right;\">&vellip;</td></tr><tr><td class = \"rowNumber\" style = \"font-weight: bold; text-align: right;\">121</td><td style = \"text-align: right;\">32</td><td style = \"text-align: right;\">29</td><td style = \"text-align: right;\">-6.23736e8</td></tr><tr><td class = \"rowNumber\" style = \"font-weight: bold; text-align: right;\">122</td><td style = \"text-align: right;\">29</td><td style = \"text-align: right;\">30</td><td style = \"text-align: right;\">7.33888e8</td></tr><tr><td class = \"rowNumber\" style = \"font-weight: bold; text-align: right;\">123</td><td style = \"text-align: right;\">31</td><td style = \"text-align: right;\">30</td><td style = \"text-align: right;\">-3.30204e8</td></tr><tr><td class = \"rowNumber\" style = \"font-weight: bold; text-align: right;\">124</td><td style = \"text-align: right;\">32</td><td style = \"text-align: right;\">30</td><td style = \"text-align: right;\">-2.83402e8</td></tr><tr><td class = \"rowNumber\" style = \"font-weight: bold; text-align: right;\">125</td><td style = \"text-align: right;\">32</td><td style = \"text-align: right;\">31</td><td style = \"text-align: right;\">-2.10464e8</td></tr><tr><td class = \"rowNumber\" style = \"font-weight: bold; text-align: right;\">126</td><td style = \"text-align: right;\">34</td><td style = \"text-align: right;\">31</td><td style = \"text-align: right;\">2.77903e8</td></tr><tr><td class = \"rowNumber\" style = \"font-weight: bold; text-align: right;\">127</td><td style = \"text-align: right;\">34</td><td style = \"text-align: right;\">32</td><td style = \"text-align: right;\">6.44912e8</td></tr><tr><td class = \"rowNumber\" style = \"font-weight: bold; text-align: right;\">128</td><td style = \"text-align: right;\">36</td><td style = \"text-align: right;\">32</td><td style = \"text-align: right;\">1.23512e8</td></tr><tr><td class = \"rowNumber\" style = \"font-weight: bold; text-align: right;\">129</td><td style = \"text-align: right;\">34</td><td style = \"text-align: right;\">33</td><td style = \"text-align: right;\">-5.53368e7</td></tr><tr><td class = \"rowNumber\" style = \"font-weight: bold; text-align: right;\">130</td><td style = \"text-align: right;\">35</td><td style = \"text-align: right;\">34</td><td style = \"text-align: right;\">1.77562e7</td></tr><tr><td class = \"rowNumber\" style = \"font-weight: bold; text-align: right;\">131</td><td style = \"text-align: right;\">36</td><td style = \"text-align: right;\">34</td><td style = \"text-align: right;\">-3.93798e8</td></tr><tr><td class = \"rowNumber\" style = \"font-weight: bold; text-align: right;\">132</td><td style = \"text-align: right;\">36</td><td style = \"text-align: right;\">35</td><td style = \"text-align: right;\">-1.01952e9</td></tr></tbody></table></div>"
      ],
      "text/latex": [
       "\\begin{tabular}{r|ccc}\n",
       "\t& fbus & tbus & flow\\\\\n",
       "\t\\hline\n",
       "\t& Int64 & Int64 & Float64\\\\\n",
       "\t\\hline\n",
       "\t1 & 1 & 2 & -5.03635e8 \\\\\n",
       "\t2 & 1 & 5 & -4.38346e8 \\\\\n",
       "\t3 & 2 & 3 & -1.75204e8 \\\\\n",
       "\t4 & 2 & 6 & -1.27188e7 \\\\\n",
       "\t5 & 3 & 10 & -1.4222e7 \\\\\n",
       "\t6 & 4 & 5 & 4.28742e9 \\\\\n",
       "\t7 & 4 & 6 & 3.75638e9 \\\\\n",
       "\t8 & 4 & 14 & 4.02562e9 \\\\\n",
       "\t9 & 5 & 6 & 1.29425e8 \\\\\n",
       "\t10 & 5 & 14 & 2.1615e8 \\\\\n",
       "\t11 & 6 & 7 & 6.76662e9 \\\\\n",
       "\t12 & 6 & 13 & 1.15895e8 \\\\\n",
       "\t13 & 7 & 8 & 9.09852e8 \\\\\n",
       "\t14 & 7 & 9 & -6.21349e9 \\\\\n",
       "\t15 & 7 & 10 & -1.96026e9 \\\\\n",
       "\t16 & 8 & 9 & -2.09977e9 \\\\\n",
       "\t17 & 8 & 10 & -1.4411e10 \\\\\n",
       "\t18 & 8 & 13 & -3.53136e9 \\\\\n",
       "\t19 & 9 & 11 & 3.00811e8 \\\\\n",
       "\t20 & 9 & 13 & 2.07409e8 \\\\\n",
       "\t21 & 10 & 11 & 3.17688e8 \\\\\n",
       "\t22 & 11 & 12 & -7.4821e8 \\\\\n",
       "\t23 & 11 & 13 & -2.30455e8 \\\\\n",
       "\t24 & 12 & 13 & 2.5897e8 \\\\\n",
       "\t25 & 12 & 17 & 4.82186e8 \\\\\n",
       "\t26 & 13 & 15 & -1.10249e9 \\\\\n",
       "\t27 & 13 & 18 & -3.2332e9 \\\\\n",
       "\t28 & 14 & 16 & -1.86595e7 \\\\\n",
       "\t29 & 15 & 14 & 1.65439e9 \\\\\n",
       "\t30 & 15 & 16 & 3.57689e8 \\\\\n",
       "\t$\\dots$ & $\\dots$ & $\\dots$ & $\\dots$ \\\\\n",
       "\\end{tabular}\n"
      ],
      "text/plain": [
       "\u001b[1m132×3 DataFrame\u001b[0m\n",
       "\u001b[1m Row \u001b[0m│\u001b[1m fbus  \u001b[0m\u001b[1m tbus  \u001b[0m\u001b[1m flow       \u001b[0m\n",
       "     │\u001b[90m Int64 \u001b[0m\u001b[90m Int64 \u001b[0m\u001b[90m Float64    \u001b[0m\n",
       "─────┼──────────────────────────\n",
       "   1 │     1      2  -5.03635e8\n",
       "   2 │     1      5  -4.38346e8\n",
       "   3 │     2      3  -1.75204e8\n",
       "   4 │     2      6  -1.27188e7\n",
       "   5 │     3     10  -1.4222e7\n",
       "   6 │     4      5   4.28742e9\n",
       "   7 │     4      6   3.75638e9\n",
       "   8 │     4     14   4.02562e9\n",
       "   9 │     5      6   1.29425e8\n",
       "  10 │     5     14   2.1615e8\n",
       "  11 │     6      7   6.76662e9\n",
       "  ⋮  │   ⋮      ⋮        ⋮\n",
       " 123 │    31     30  -3.30204e8\n",
       " 124 │    32     30  -2.83402e8\n",
       " 125 │    32     31  -2.10464e8\n",
       " 126 │    34     31   2.77903e8\n",
       " 127 │    34     32   6.44912e8\n",
       " 128 │    36     32   1.23512e8\n",
       " 129 │    34     33  -5.53368e7\n",
       " 130 │    35     34   1.77562e7\n",
       " 131 │    36     34  -3.93798e8\n",
       " 132 │    36     35  -1.01952e9\n",
       "\u001b[36m                111 rows omitted\u001b[0m"
      ]
     },
     "execution_count": 34,
     "metadata": {},
     "output_type": "execute_result"
    }
   ],
   "source": [
    "using DataFrames\n",
    "df = DataFrame(solution.flows) #set lines to 10% of current capacity - stress testing to understand if its a bug or not "
   ]
  },
  {
   "cell_type": "code",
   "execution_count": 69,
   "metadata": {},
   "outputs": [
    {
     "data": {
      "text/html": [
       "<div><div style = \"float: left;\"><span>198×8 DataFrame</span></div><div style = \"float: right;\"><span style = \"font-style: italic;\">173 rows omitted</span></div><div style = \"clear: both;\"></div></div><div class = \"data-frame\" style = \"overflow-x: scroll;\"><table class = \"data-frame\" style = \"margin-bottom: 6px;\"><thead><tr class = \"header\"><th class = \"rowNumber\" style = \"font-weight: bold; text-align: right;\">Row</th><th style = \"text-align: left;\">fromnode</th><th style = \"text-align: left;\">tonode</th><th style = \"text-align: left;\">resistance</th><th style = \"text-align: left;\">reactance</th><th style = \"text-align: left;\">contingencymarked</th><th style = \"text-align: left;\">capacity</th><th style = \"text-align: left;\">id</th><th style = \"text-align: left;\">b</th></tr><tr class = \"subheader headerLastRow\"><th class = \"rowNumber\" style = \"font-weight: bold; text-align: right;\"></th><th title = \"Int64\" style = \"text-align: left;\">Int64</th><th title = \"Int64\" style = \"text-align: left;\">Int64</th><th title = \"Float64\" style = \"text-align: left;\">Float64</th><th title = \"Float64\" style = \"text-align: left;\">Float64</th><th title = \"Int64\" style = \"text-align: left;\">Int64</th><th title = \"Float64\" style = \"text-align: left;\">Float64</th><th title = \"Int64\" style = \"text-align: left;\">Int64</th><th title = \"Float64\" style = \"text-align: left;\">Float64</th></tr></thead><tbody><tr><td class = \"rowNumber\" style = \"font-weight: bold; text-align: right;\">1</td><td style = \"text-align: right;\">1</td><td style = \"text-align: right;\">2</td><td style = \"text-align: right;\">0.00266925</td><td style = \"text-align: right;\">0.0323779</td><td style = \"text-align: right;\">1</td><td style = \"text-align: right;\">1000.0</td><td style = \"text-align: right;\">1</td><td style = \"text-align: right;\">0.0196113</td></tr><tr><td class = \"rowNumber\" style = \"font-weight: bold; text-align: right;\">2</td><td style = \"text-align: right;\">1</td><td style = \"text-align: right;\">5</td><td style = \"text-align: right;\">0.00287887</td><td style = \"text-align: right;\">0.0286089</td><td style = \"text-align: right;\">1</td><td style = \"text-align: right;\">1000.0</td><td style = \"text-align: right;\">2</td><td style = \"text-align: right;\">0.0103084</td></tr><tr><td class = \"rowNumber\" style = \"font-weight: bold; text-align: right;\">3</td><td style = \"text-align: right;\">2</td><td style = \"text-align: right;\">3</td><td style = \"text-align: right;\">0.00131306</td><td style = \"text-align: right;\">0.0190229</td><td style = \"text-align: right;\">1</td><td style = \"text-align: right;\">1000.0</td><td style = \"text-align: right;\">3</td><td style = \"text-align: right;\">0.0102966</td></tr><tr><td class = \"rowNumber\" style = \"font-weight: bold; text-align: right;\">4</td><td style = \"text-align: right;\">2</td><td style = \"text-align: right;\">6</td><td style = \"text-align: right;\">0.000803188</td><td style = \"text-align: right;\">0.0149712</td><td style = \"text-align: right;\">1</td><td style = \"text-align: right;\">1000.0</td><td style = \"text-align: right;\">4</td><td style = \"text-align: right;\">0.00476255</td></tr><tr><td class = \"rowNumber\" style = \"font-weight: bold; text-align: right;\">5</td><td style = \"text-align: right;\">3</td><td style = \"text-align: right;\">10</td><td style = \"text-align: right;\">0.000399063</td><td style = \"text-align: right;\">0.00548875</td><td style = \"text-align: right;\">1</td><td style = \"text-align: right;\">1000.0</td><td style = \"text-align: right;\">5</td><td style = \"text-align: right;\">0.00238071</td></tr><tr><td class = \"rowNumber\" style = \"font-weight: bold; text-align: right;\">6</td><td style = \"text-align: right;\">4</td><td style = \"text-align: right;\">5</td><td style = \"text-align: right;\">0.00114981</td><td style = \"text-align: right;\">0.0183772</td><td style = \"text-align: right;\">1</td><td style = \"text-align: right;\">1000.0</td><td style = \"text-align: right;\">6</td><td style = \"text-align: right;\">0.0126698</td></tr><tr><td class = \"rowNumber\" style = \"font-weight: bold; text-align: right;\">7</td><td style = \"text-align: right;\">4</td><td style = \"text-align: right;\">6</td><td style = \"text-align: right;\">0.00209787</td><td style = \"text-align: right;\">0.0318498</td><td style = \"text-align: right;\">1</td><td style = \"text-align: right;\">1000.0</td><td style = \"text-align: right;\">7</td><td style = \"text-align: right;\">0.0106544</td></tr><tr><td class = \"rowNumber\" style = \"font-weight: bold; text-align: right;\">8</td><td style = \"text-align: right;\">4</td><td style = \"text-align: right;\">14</td><td style = \"text-align: right;\">0.00220469</td><td style = \"text-align: right;\">0.0290109</td><td style = \"text-align: right;\">1</td><td style = \"text-align: right;\">1000.0</td><td style = \"text-align: right;\">8</td><td style = \"text-align: right;\">0.00897751</td></tr><tr><td class = \"rowNumber\" style = \"font-weight: bold; text-align: right;\">9</td><td style = \"text-align: right;\">5</td><td style = \"text-align: right;\">6</td><td style = \"text-align: right;\">0.000706313</td><td style = \"text-align: right;\">0.00961025</td><td style = \"text-align: right;\">1</td><td style = \"text-align: right;\">1000.0</td><td style = \"text-align: right;\">9</td><td style = \"text-align: right;\">0.00913257</td></tr><tr><td class = \"rowNumber\" style = \"font-weight: bold; text-align: right;\">10</td><td style = \"text-align: right;\">5</td><td style = \"text-align: right;\">14</td><td style = \"text-align: right;\">0.00178231</td><td style = \"text-align: right;\">0.0184703</td><td style = \"text-align: right;\">1</td><td style = \"text-align: right;\">1000.0</td><td style = \"text-align: right;\">10</td><td style = \"text-align: right;\">0.00196471</td></tr><tr><td class = \"rowNumber\" style = \"font-weight: bold; text-align: right;\">11</td><td style = \"text-align: right;\">6</td><td style = \"text-align: right;\">7</td><td style = \"text-align: right;\">0.00119981</td><td style = \"text-align: right;\">0.0192356</td><td style = \"text-align: right;\">1</td><td style = \"text-align: right;\">1000.0</td><td style = \"text-align: right;\">11</td><td style = \"text-align: right;\">0.0267716</td></tr><tr><td class = \"rowNumber\" style = \"font-weight: bold; text-align: right;\">12</td><td style = \"text-align: right;\">6</td><td style = \"text-align: right;\">13</td><td style = \"text-align: right;\">0.000327813</td><td style = \"text-align: right;\">0.00569294</td><td style = \"text-align: right;\">1</td><td style = \"text-align: right;\">1000.0</td><td style = \"text-align: right;\">12</td><td style = \"text-align: right;\">0.00236706</td></tr><tr><td class = \"rowNumber\" style = \"font-weight: bold; text-align: right;\">13</td><td style = \"text-align: right;\">7</td><td style = \"text-align: right;\">8</td><td style = \"text-align: right;\">0.000412188</td><td style = \"text-align: right;\">0.00449369</td><td style = \"text-align: right;\">1</td><td style = \"text-align: right;\">1000.0</td><td style = \"text-align: right;\">13</td><td style = \"text-align: right;\">0.046537</td></tr><tr><td style = \"text-align: right;\">&vellip;</td><td style = \"text-align: right;\">&vellip;</td><td style = \"text-align: right;\">&vellip;</td><td style = \"text-align: right;\">&vellip;</td><td style = \"text-align: right;\">&vellip;</td><td style = \"text-align: right;\">&vellip;</td><td style = \"text-align: right;\">&vellip;</td><td style = \"text-align: right;\">&vellip;</td><td style = \"text-align: right;\">&vellip;</td></tr><tr><td class = \"rowNumber\" style = \"font-weight: bold; text-align: right;\">187</td><td style = \"text-align: right;\">32</td><td style = \"text-align: right;\">29</td><td style = \"text-align: right;\">0.0009215</td><td style = \"text-align: right;\">0.007555</td><td style = \"text-align: right;\">1</td><td style = \"text-align: right;\">10000.0</td><td style = \"text-align: right;\">55</td><td style = \"text-align: right;\">0.00302789</td></tr><tr><td class = \"rowNumber\" style = \"font-weight: bold; text-align: right;\">188</td><td style = \"text-align: right;\">29</td><td style = \"text-align: right;\">30</td><td style = \"text-align: right;\">0.001276</td><td style = \"text-align: right;\">0.0112748</td><td style = \"text-align: right;\">1</td><td style = \"text-align: right;\">10000.0</td><td style = \"text-align: right;\">56</td><td style = \"text-align: right;\">0.00658752</td></tr><tr><td class = \"rowNumber\" style = \"font-weight: bold; text-align: right;\">189</td><td style = \"text-align: right;\">31</td><td style = \"text-align: right;\">30</td><td style = \"text-align: right;\">0.000657375</td><td style = \"text-align: right;\">0.00816719</td><td style = \"text-align: right;\">1</td><td style = \"text-align: right;\">10000.0</td><td style = \"text-align: right;\">57</td><td style = \"text-align: right;\">0.00932489</td></tr><tr><td class = \"rowNumber\" style = \"font-weight: bold; text-align: right;\">190</td><td style = \"text-align: right;\">32</td><td style = \"text-align: right;\">30</td><td style = \"text-align: right;\">0.000516438</td><td style = \"text-align: right;\">0.0106281</td><td style = \"text-align: right;\">1</td><td style = \"text-align: right;\">10000.0</td><td style = \"text-align: right;\">58</td><td style = \"text-align: right;\">0.00299608</td></tr><tr><td class = \"rowNumber\" style = \"font-weight: bold; text-align: right;\">191</td><td style = \"text-align: right;\">32</td><td style = \"text-align: right;\">31</td><td style = \"text-align: right;\">0.000826875</td><td style = \"text-align: right;\">0.0120264</td><td style = \"text-align: right;\">1</td><td style = \"text-align: right;\">10000.0</td><td style = \"text-align: right;\">59</td><td style = \"text-align: right;\">0.00355633</td></tr><tr><td class = \"rowNumber\" style = \"font-weight: bold; text-align: right;\">192</td><td style = \"text-align: right;\">34</td><td style = \"text-align: right;\">31</td><td style = \"text-align: right;\">0.00118531</td><td style = \"text-align: right;\">0.00383031</td><td style = \"text-align: right;\">1</td><td style = \"text-align: right;\">10000.0</td><td style = \"text-align: right;\">60</td><td style = \"text-align: right;\">0.00512333</td></tr><tr><td class = \"rowNumber\" style = \"font-weight: bold; text-align: right;\">193</td><td style = \"text-align: right;\">34</td><td style = \"text-align: right;\">32</td><td style = \"text-align: right;\">0.000802688</td><td style = \"text-align: right;\">0.00834469</td><td style = \"text-align: right;\">1</td><td style = \"text-align: right;\">10000.0</td><td style = \"text-align: right;\">61</td><td style = \"text-align: right;\">0.00568591</td></tr><tr><td class = \"rowNumber\" style = \"font-weight: bold; text-align: right;\">194</td><td style = \"text-align: right;\">36</td><td style = \"text-align: right;\">32</td><td style = \"text-align: right;\">0.00425394</td><td style = \"text-align: right;\">0.0365836</td><td style = \"text-align: right;\">1</td><td style = \"text-align: right;\">10000.0</td><td style = \"text-align: right;\">62</td><td style = \"text-align: right;\">0.00348308</td></tr><tr><td class = \"rowNumber\" style = \"font-weight: bold; text-align: right;\">195</td><td style = \"text-align: right;\">34</td><td style = \"text-align: right;\">33</td><td style = \"text-align: right;\">0.00625</td><td style = \"text-align: right;\">0.009375</td><td style = \"text-align: right;\">1</td><td style = \"text-align: right;\">10000.0</td><td style = \"text-align: right;\">63</td><td style = \"text-align: right;\">0.00555391</td></tr><tr><td class = \"rowNumber\" style = \"font-weight: bold; text-align: right;\">196</td><td style = \"text-align: right;\">35</td><td style = \"text-align: right;\">34</td><td style = \"text-align: right;\">0.00845975</td><td style = \"text-align: right;\">0.0214944</td><td style = \"text-align: right;\">1</td><td style = \"text-align: right;\">10000.0</td><td style = \"text-align: right;\">64</td><td style = \"text-align: right;\">0.00839269</td></tr><tr><td class = \"rowNumber\" style = \"font-weight: bold; text-align: right;\">197</td><td style = \"text-align: right;\">36</td><td style = \"text-align: right;\">34</td><td style = \"text-align: right;\">0.000950375</td><td style = \"text-align: right;\">0.00830369</td><td style = \"text-align: right;\">1</td><td style = \"text-align: right;\">10000.0</td><td style = \"text-align: right;\">65</td><td style = \"text-align: right;\">0.00505114</td></tr><tr><td class = \"rowNumber\" style = \"font-weight: bold; text-align: right;\">198</td><td style = \"text-align: right;\">36</td><td style = \"text-align: right;\">35</td><td style = \"text-align: right;\">0.00228119</td><td style = \"text-align: right;\">0.008931</td><td style = \"text-align: right;\">1</td><td style = \"text-align: right;\">10000.0</td><td style = \"text-align: right;\">66</td><td style = \"text-align: right;\">0.0127316</td></tr></tbody></table></div>"
      ],
      "text/latex": [
       "\\begin{tabular}{r|cccccccc}\n",
       "\t& fromnode & tonode & resistance & reactance & contingencymarked & capacity & id & b\\\\\n",
       "\t\\hline\n",
       "\t& Int64 & Int64 & Float64 & Float64 & Int64 & Float64 & Int64 & Float64\\\\\n",
       "\t\\hline\n",
       "\t1 & 1 & 2 & 0.00266925 & 0.0323779 & 1 & 1000.0 & 1 & 0.0196113 \\\\\n",
       "\t2 & 1 & 5 & 0.00287887 & 0.0286089 & 1 & 1000.0 & 2 & 0.0103084 \\\\\n",
       "\t3 & 2 & 3 & 0.00131306 & 0.0190229 & 1 & 1000.0 & 3 & 0.0102966 \\\\\n",
       "\t4 & 2 & 6 & 0.000803188 & 0.0149712 & 1 & 1000.0 & 4 & 0.00476255 \\\\\n",
       "\t5 & 3 & 10 & 0.000399063 & 0.00548875 & 1 & 1000.0 & 5 & 0.00238071 \\\\\n",
       "\t6 & 4 & 5 & 0.00114981 & 0.0183772 & 1 & 1000.0 & 6 & 0.0126698 \\\\\n",
       "\t7 & 4 & 6 & 0.00209787 & 0.0318498 & 1 & 1000.0 & 7 & 0.0106544 \\\\\n",
       "\t8 & 4 & 14 & 0.00220469 & 0.0290109 & 1 & 1000.0 & 8 & 0.00897751 \\\\\n",
       "\t9 & 5 & 6 & 0.000706313 & 0.00961025 & 1 & 1000.0 & 9 & 0.00913257 \\\\\n",
       "\t10 & 5 & 14 & 0.00178231 & 0.0184703 & 1 & 1000.0 & 10 & 0.00196471 \\\\\n",
       "\t11 & 6 & 7 & 0.00119981 & 0.0192356 & 1 & 1000.0 & 11 & 0.0267716 \\\\\n",
       "\t12 & 6 & 13 & 0.000327813 & 0.00569294 & 1 & 1000.0 & 12 & 0.00236706 \\\\\n",
       "\t13 & 7 & 8 & 0.000412188 & 0.00449369 & 1 & 1000.0 & 13 & 0.046537 \\\\\n",
       "\t14 & 7 & 9 & 0.000912813 & 0.00961181 & 1 & 1000.0 & 14 & 0.0248062 \\\\\n",
       "\t15 & 7 & 10 & 0.000213438 & 0.00283269 & 1 & 1000.0 & 15 & 0.00717854 \\\\\n",
       "\t16 & 8 & 9 & 0.00014 & 0.00176 & 1 & 1000.0 & 16 & 0.00777599 \\\\\n",
       "\t17 & 8 & 10 & 0.000446188 & 0.005416 & 1 & 1000.0 & 17 & 0.0492475 \\\\\n",
       "\t18 & 8 & 13 & 0.000541563 & 0.00778087 & 1 & 1000.0 & 18 & 0.0158114 \\\\\n",
       "\t19 & 9 & 11 & 0.000934125 & 0.00944906 & 1 & 1000.0 & 19 & 0.00374001 \\\\\n",
       "\t20 & 9 & 13 & 0.000277375 & 0.00272575 & 1 & 1000.0 & 20 & 0.00444232 \\\\\n",
       "\t21 & 10 & 11 & 0.000366938 & 0.00494194 & 1 & 1000.0 & 21 & 0.0030837 \\\\\n",
       "\t22 & 11 & 12 & 0.00204112 & 0.0293363 & 1 & 1000.0 & 22 & 0.00836918 \\\\\n",
       "\t23 & 11 & 13 & 0.000979313 & 0.01555 & 1 & 1000.0 & 23 & 0.0068301 \\\\\n",
       "\t24 & 12 & 13 & 0.000660063 & 0.0118286 & 1 & 1000.0 & 24 & 0.00465276 \\\\\n",
       "\t25 & 12 & 17 & 0.000488125 & 0.00938675 & 1 & 1000.0 & 25 & 0.00464777 \\\\\n",
       "\t26 & 13 & 15 & 0.00122219 & 0.0166115 & 1 & 1000.0 & 26 & 0.00503391 \\\\\n",
       "\t27 & 13 & 18 & 0.000664438 & 0.00864231 & 1 & 1000.0 & 27 & 0.0135528 \\\\\n",
       "\t28 & 14 & 16 & 0.00088875 & 0.00965956 & 1 & 1000.0 & 28 & 0.00289576 \\\\\n",
       "\t29 & 15 & 14 & 0.001026 & 0.0118831 & 1 & 1000.0 & 29 & 0.00622196 \\\\\n",
       "\t30 & 15 & 16 & 0.000270688 & 0.00299631 & 1 & 1000.0 & 30 & 0.00137864 \\\\\n",
       "\t$\\dots$ & $\\dots$ & $\\dots$ & $\\dots$ & $\\dots$ & $\\dots$ & $\\dots$ & $\\dots$ & $\\dots$ \\\\\n",
       "\\end{tabular}\n"
      ],
      "text/plain": [
       "\u001b[1m198×8 DataFrame\u001b[0m\n",
       "\u001b[1m Row \u001b[0m│\u001b[1m fromnode \u001b[0m\u001b[1m tonode \u001b[0m\u001b[1m resistance  \u001b[0m\u001b[1m reactance  \u001b[0m\u001b[1m contingencymarked \u001b[0m\u001b[1m capacity \u001b[0m\u001b[1m id    \u001b[0m\u001b[1m b          \u001b[0m\n",
       "     │\u001b[90m Int64    \u001b[0m\u001b[90m Int64  \u001b[0m\u001b[90m Float64     \u001b[0m\u001b[90m Float64    \u001b[0m\u001b[90m Int64             \u001b[0m\u001b[90m Float64  \u001b[0m\u001b[90m Int64 \u001b[0m\u001b[90m Float64    \u001b[0m\n",
       "─────┼───────────────────────────────────────────────────────────────────────────────────────────\n",
       "   1 │        1       2  0.00266925   0.0323779                   1    1000.0      1  0.0196113\n",
       "   2 │        1       5  0.00287887   0.0286089                   1    1000.0      2  0.0103084\n",
       "   3 │        2       3  0.00131306   0.0190229                   1    1000.0      3  0.0102966\n",
       "   4 │        2       6  0.000803188  0.0149712                   1    1000.0      4  0.00476255\n",
       "   5 │        3      10  0.000399063  0.00548875                  1    1000.0      5  0.00238071\n",
       "   6 │        4       5  0.00114981   0.0183772                   1    1000.0      6  0.0126698\n",
       "   7 │        4       6  0.00209787   0.0318498                   1    1000.0      7  0.0106544\n",
       "   8 │        4      14  0.00220469   0.0290109                   1    1000.0      8  0.00897751\n",
       "   9 │        5       6  0.000706313  0.00961025                  1    1000.0      9  0.00913257\n",
       "  10 │        5      14  0.00178231   0.0184703                   1    1000.0     10  0.00196471\n",
       "  11 │        6       7  0.00119981   0.0192356                   1    1000.0     11  0.0267716\n",
       "  ⋮  │    ⋮        ⋮          ⋮           ⋮               ⋮             ⋮        ⋮        ⋮\n",
       " 189 │       31      30  0.000657375  0.00816719                  1   10000.0     57  0.00932489\n",
       " 190 │       32      30  0.000516438  0.0106281                   1   10000.0     58  0.00299608\n",
       " 191 │       32      31  0.000826875  0.0120264                   1   10000.0     59  0.00355633\n",
       " 192 │       34      31  0.00118531   0.00383031                  1   10000.0     60  0.00512333\n",
       " 193 │       34      32  0.000802688  0.00834469                  1   10000.0     61  0.00568591\n",
       " 194 │       36      32  0.00425394   0.0365836                   1   10000.0     62  0.00348308\n",
       " 195 │       34      33  0.00625      0.009375                    1   10000.0     63  0.00555391\n",
       " 196 │       35      34  0.00845975   0.0214944                   1   10000.0     64  0.00839269\n",
       " 197 │       36      34  0.000950375  0.00830369                  1   10000.0     65  0.00505114\n",
       " 198 │       36      35  0.00228119   0.008931                    1   10000.0     66  0.0127316\n",
       "\u001b[36m                                                                                 177 rows omitted\u001b[0m"
      ]
     },
     "execution_count": 69,
     "metadata": {},
     "output_type": "execute_result"
    }
   ],
   "source": [
    "df3 = lines"
   ]
  },
  {
   "cell_type": "code",
   "execution_count": 83,
   "metadata": {},
   "outputs": [
    {
     "data": {
      "text/plain": [
       "264-element Vector{Float64}:\n",
       " 12500.0\n",
       " 12500.0\n",
       " 12500.0\n",
       " 12500.0\n",
       " 12500.0\n",
       " 12500.0\n",
       " 12500.0\n",
       " 12500.0\n",
       " 12500.0\n",
       " 12500.0\n",
       " 12500.0\n",
       " 12500.0\n",
       " 12500.0\n",
       "     ⋮\n",
       "  1249.9999999999998\n",
       "  1249.9999999999998\n",
       "  1249.9999999999998\n",
       "  1249.9999999999998\n",
       "  1249.9999999999998\n",
       "  1249.9999999999998\n",
       "  1249.9999999999998\n",
       "  1249.9999999999998\n",
       "  1249.9999999999998\n",
       "  1249.9999999999998\n",
       "  1249.9999999999998\n",
       "  1249.9999999999998"
      ]
     },
     "execution_count": 83,
     "metadata": {},
     "output_type": "execute_result"
    }
   ],
   "source": [
    "df3[!, 6] = (df3[!, 6] .*1.25)"
   ]
  },
  {
   "cell_type": "code",
   "execution_count": 84,
   "metadata": {},
   "outputs": [
    {
     "data": {
      "text/html": [
       "<div><div style = \"float: left;\"><span>264×8 DataFrame</span></div><div style = \"float: right;\"><span style = \"font-style: italic;\">239 rows omitted</span></div><div style = \"clear: both;\"></div></div><div class = \"data-frame\" style = \"overflow-x: scroll;\"><table class = \"data-frame\" style = \"margin-bottom: 6px;\"><thead><tr class = \"header\"><th class = \"rowNumber\" style = \"font-weight: bold; text-align: right;\">Row</th><th style = \"text-align: left;\">fromnode</th><th style = \"text-align: left;\">tonode</th><th style = \"text-align: left;\">resistance</th><th style = \"text-align: left;\">reactance</th><th style = \"text-align: left;\">contingencymarked</th><th style = \"text-align: left;\">capacity</th><th style = \"text-align: left;\">id</th><th style = \"text-align: left;\">b</th></tr><tr class = \"subheader headerLastRow\"><th class = \"rowNumber\" style = \"font-weight: bold; text-align: right;\"></th><th title = \"Int64\" style = \"text-align: left;\">Int64</th><th title = \"Int64\" style = \"text-align: left;\">Int64</th><th title = \"Float64\" style = \"text-align: left;\">Float64</th><th title = \"Float64\" style = \"text-align: left;\">Float64</th><th title = \"Int64\" style = \"text-align: left;\">Int64</th><th title = \"Float64\" style = \"text-align: left;\">Float64</th><th title = \"Int64\" style = \"text-align: left;\">Int64</th><th title = \"Float64\" style = \"text-align: left;\">Float64</th></tr></thead><tbody><tr><td class = \"rowNumber\" style = \"font-weight: bold; text-align: right;\">1</td><td style = \"text-align: right;\">1</td><td style = \"text-align: right;\">2</td><td style = \"text-align: right;\">0.00266925</td><td style = \"text-align: right;\">0.0323779</td><td style = \"text-align: right;\">1</td><td style = \"text-align: right;\">12500.0</td><td style = \"text-align: right;\">1</td><td style = \"text-align: right;\">0.0196113</td></tr><tr><td class = \"rowNumber\" style = \"font-weight: bold; text-align: right;\">2</td><td style = \"text-align: right;\">1</td><td style = \"text-align: right;\">5</td><td style = \"text-align: right;\">0.00287887</td><td style = \"text-align: right;\">0.0286089</td><td style = \"text-align: right;\">1</td><td style = \"text-align: right;\">12500.0</td><td style = \"text-align: right;\">2</td><td style = \"text-align: right;\">0.0103084</td></tr><tr><td class = \"rowNumber\" style = \"font-weight: bold; text-align: right;\">3</td><td style = \"text-align: right;\">2</td><td style = \"text-align: right;\">3</td><td style = \"text-align: right;\">0.00131306</td><td style = \"text-align: right;\">0.0190229</td><td style = \"text-align: right;\">1</td><td style = \"text-align: right;\">12500.0</td><td style = \"text-align: right;\">3</td><td style = \"text-align: right;\">0.0102966</td></tr><tr><td class = \"rowNumber\" style = \"font-weight: bold; text-align: right;\">4</td><td style = \"text-align: right;\">2</td><td style = \"text-align: right;\">6</td><td style = \"text-align: right;\">0.000803188</td><td style = \"text-align: right;\">0.0149712</td><td style = \"text-align: right;\">1</td><td style = \"text-align: right;\">12500.0</td><td style = \"text-align: right;\">4</td><td style = \"text-align: right;\">0.00476255</td></tr><tr><td class = \"rowNumber\" style = \"font-weight: bold; text-align: right;\">5</td><td style = \"text-align: right;\">3</td><td style = \"text-align: right;\">10</td><td style = \"text-align: right;\">0.000399063</td><td style = \"text-align: right;\">0.00548875</td><td style = \"text-align: right;\">1</td><td style = \"text-align: right;\">12500.0</td><td style = \"text-align: right;\">5</td><td style = \"text-align: right;\">0.00238071</td></tr><tr><td class = \"rowNumber\" style = \"font-weight: bold; text-align: right;\">6</td><td style = \"text-align: right;\">4</td><td style = \"text-align: right;\">5</td><td style = \"text-align: right;\">0.00114981</td><td style = \"text-align: right;\">0.0183772</td><td style = \"text-align: right;\">1</td><td style = \"text-align: right;\">12500.0</td><td style = \"text-align: right;\">6</td><td style = \"text-align: right;\">0.0126698</td></tr><tr><td class = \"rowNumber\" style = \"font-weight: bold; text-align: right;\">7</td><td style = \"text-align: right;\">4</td><td style = \"text-align: right;\">6</td><td style = \"text-align: right;\">0.00209787</td><td style = \"text-align: right;\">0.0318498</td><td style = \"text-align: right;\">1</td><td style = \"text-align: right;\">12500.0</td><td style = \"text-align: right;\">7</td><td style = \"text-align: right;\">0.0106544</td></tr><tr><td class = \"rowNumber\" style = \"font-weight: bold; text-align: right;\">8</td><td style = \"text-align: right;\">4</td><td style = \"text-align: right;\">14</td><td style = \"text-align: right;\">0.00220469</td><td style = \"text-align: right;\">0.0290109</td><td style = \"text-align: right;\">1</td><td style = \"text-align: right;\">12500.0</td><td style = \"text-align: right;\">8</td><td style = \"text-align: right;\">0.00897751</td></tr><tr><td class = \"rowNumber\" style = \"font-weight: bold; text-align: right;\">9</td><td style = \"text-align: right;\">5</td><td style = \"text-align: right;\">6</td><td style = \"text-align: right;\">0.000706313</td><td style = \"text-align: right;\">0.00961025</td><td style = \"text-align: right;\">1</td><td style = \"text-align: right;\">12500.0</td><td style = \"text-align: right;\">9</td><td style = \"text-align: right;\">0.00913257</td></tr><tr><td class = \"rowNumber\" style = \"font-weight: bold; text-align: right;\">10</td><td style = \"text-align: right;\">5</td><td style = \"text-align: right;\">14</td><td style = \"text-align: right;\">0.00178231</td><td style = \"text-align: right;\">0.0184703</td><td style = \"text-align: right;\">1</td><td style = \"text-align: right;\">12500.0</td><td style = \"text-align: right;\">10</td><td style = \"text-align: right;\">0.00196471</td></tr><tr><td class = \"rowNumber\" style = \"font-weight: bold; text-align: right;\">11</td><td style = \"text-align: right;\">6</td><td style = \"text-align: right;\">7</td><td style = \"text-align: right;\">0.00119981</td><td style = \"text-align: right;\">0.0192356</td><td style = \"text-align: right;\">1</td><td style = \"text-align: right;\">12500.0</td><td style = \"text-align: right;\">11</td><td style = \"text-align: right;\">0.0267716</td></tr><tr><td class = \"rowNumber\" style = \"font-weight: bold; text-align: right;\">12</td><td style = \"text-align: right;\">6</td><td style = \"text-align: right;\">13</td><td style = \"text-align: right;\">0.000327813</td><td style = \"text-align: right;\">0.00569294</td><td style = \"text-align: right;\">1</td><td style = \"text-align: right;\">12500.0</td><td style = \"text-align: right;\">12</td><td style = \"text-align: right;\">0.00236706</td></tr><tr><td class = \"rowNumber\" style = \"font-weight: bold; text-align: right;\">13</td><td style = \"text-align: right;\">7</td><td style = \"text-align: right;\">8</td><td style = \"text-align: right;\">0.000412188</td><td style = \"text-align: right;\">0.00449369</td><td style = \"text-align: right;\">1</td><td style = \"text-align: right;\">12500.0</td><td style = \"text-align: right;\">13</td><td style = \"text-align: right;\">0.046537</td></tr><tr><td style = \"text-align: right;\">&vellip;</td><td style = \"text-align: right;\">&vellip;</td><td style = \"text-align: right;\">&vellip;</td><td style = \"text-align: right;\">&vellip;</td><td style = \"text-align: right;\">&vellip;</td><td style = \"text-align: right;\">&vellip;</td><td style = \"text-align: right;\">&vellip;</td><td style = \"text-align: right;\">&vellip;</td><td style = \"text-align: right;\">&vellip;</td></tr><tr><td class = \"rowNumber\" style = \"font-weight: bold; text-align: right;\">253</td><td style = \"text-align: right;\">32</td><td style = \"text-align: right;\">29</td><td style = \"text-align: right;\">0.0009215</td><td style = \"text-align: right;\">0.007555</td><td style = \"text-align: right;\">1</td><td style = \"text-align: right;\">1250.0</td><td style = \"text-align: right;\">55</td><td style = \"text-align: right;\">0.00302789</td></tr><tr><td class = \"rowNumber\" style = \"font-weight: bold; text-align: right;\">254</td><td style = \"text-align: right;\">29</td><td style = \"text-align: right;\">30</td><td style = \"text-align: right;\">0.001276</td><td style = \"text-align: right;\">0.0112748</td><td style = \"text-align: right;\">1</td><td style = \"text-align: right;\">1250.0</td><td style = \"text-align: right;\">56</td><td style = \"text-align: right;\">0.00658752</td></tr><tr><td class = \"rowNumber\" style = \"font-weight: bold; text-align: right;\">255</td><td style = \"text-align: right;\">31</td><td style = \"text-align: right;\">30</td><td style = \"text-align: right;\">0.000657375</td><td style = \"text-align: right;\">0.00816719</td><td style = \"text-align: right;\">1</td><td style = \"text-align: right;\">1250.0</td><td style = \"text-align: right;\">57</td><td style = \"text-align: right;\">0.00932489</td></tr><tr><td class = \"rowNumber\" style = \"font-weight: bold; text-align: right;\">256</td><td style = \"text-align: right;\">32</td><td style = \"text-align: right;\">30</td><td style = \"text-align: right;\">0.000516438</td><td style = \"text-align: right;\">0.0106281</td><td style = \"text-align: right;\">1</td><td style = \"text-align: right;\">1250.0</td><td style = \"text-align: right;\">58</td><td style = \"text-align: right;\">0.00299608</td></tr><tr><td class = \"rowNumber\" style = \"font-weight: bold; text-align: right;\">257</td><td style = \"text-align: right;\">32</td><td style = \"text-align: right;\">31</td><td style = \"text-align: right;\">0.000826875</td><td style = \"text-align: right;\">0.0120264</td><td style = \"text-align: right;\">1</td><td style = \"text-align: right;\">1250.0</td><td style = \"text-align: right;\">59</td><td style = \"text-align: right;\">0.00355633</td></tr><tr><td class = \"rowNumber\" style = \"font-weight: bold; text-align: right;\">258</td><td style = \"text-align: right;\">34</td><td style = \"text-align: right;\">31</td><td style = \"text-align: right;\">0.00118531</td><td style = \"text-align: right;\">0.00383031</td><td style = \"text-align: right;\">1</td><td style = \"text-align: right;\">1250.0</td><td style = \"text-align: right;\">60</td><td style = \"text-align: right;\">0.00512333</td></tr><tr><td class = \"rowNumber\" style = \"font-weight: bold; text-align: right;\">259</td><td style = \"text-align: right;\">34</td><td style = \"text-align: right;\">32</td><td style = \"text-align: right;\">0.000802688</td><td style = \"text-align: right;\">0.00834469</td><td style = \"text-align: right;\">1</td><td style = \"text-align: right;\">1250.0</td><td style = \"text-align: right;\">61</td><td style = \"text-align: right;\">0.00568591</td></tr><tr><td class = \"rowNumber\" style = \"font-weight: bold; text-align: right;\">260</td><td style = \"text-align: right;\">36</td><td style = \"text-align: right;\">32</td><td style = \"text-align: right;\">0.00425394</td><td style = \"text-align: right;\">0.0365836</td><td style = \"text-align: right;\">1</td><td style = \"text-align: right;\">1250.0</td><td style = \"text-align: right;\">62</td><td style = \"text-align: right;\">0.00348308</td></tr><tr><td class = \"rowNumber\" style = \"font-weight: bold; text-align: right;\">261</td><td style = \"text-align: right;\">34</td><td style = \"text-align: right;\">33</td><td style = \"text-align: right;\">0.00625</td><td style = \"text-align: right;\">0.009375</td><td style = \"text-align: right;\">1</td><td style = \"text-align: right;\">1250.0</td><td style = \"text-align: right;\">63</td><td style = \"text-align: right;\">0.00555391</td></tr><tr><td class = \"rowNumber\" style = \"font-weight: bold; text-align: right;\">262</td><td style = \"text-align: right;\">35</td><td style = \"text-align: right;\">34</td><td style = \"text-align: right;\">0.00845975</td><td style = \"text-align: right;\">0.0214944</td><td style = \"text-align: right;\">1</td><td style = \"text-align: right;\">1250.0</td><td style = \"text-align: right;\">64</td><td style = \"text-align: right;\">0.00839269</td></tr><tr><td class = \"rowNumber\" style = \"font-weight: bold; text-align: right;\">263</td><td style = \"text-align: right;\">36</td><td style = \"text-align: right;\">34</td><td style = \"text-align: right;\">0.000950375</td><td style = \"text-align: right;\">0.00830369</td><td style = \"text-align: right;\">1</td><td style = \"text-align: right;\">1250.0</td><td style = \"text-align: right;\">65</td><td style = \"text-align: right;\">0.00505114</td></tr><tr><td class = \"rowNumber\" style = \"font-weight: bold; text-align: right;\">264</td><td style = \"text-align: right;\">36</td><td style = \"text-align: right;\">35</td><td style = \"text-align: right;\">0.00228119</td><td style = \"text-align: right;\">0.008931</td><td style = \"text-align: right;\">1</td><td style = \"text-align: right;\">1250.0</td><td style = \"text-align: right;\">66</td><td style = \"text-align: right;\">0.0127316</td></tr></tbody></table></div>"
      ],
      "text/latex": [
       "\\begin{tabular}{r|cccccccc}\n",
       "\t& fromnode & tonode & resistance & reactance & contingencymarked & capacity & id & b\\\\\n",
       "\t\\hline\n",
       "\t& Int64 & Int64 & Float64 & Float64 & Int64 & Float64 & Int64 & Float64\\\\\n",
       "\t\\hline\n",
       "\t1 & 1 & 2 & 0.00266925 & 0.0323779 & 1 & 12500.0 & 1 & 0.0196113 \\\\\n",
       "\t2 & 1 & 5 & 0.00287887 & 0.0286089 & 1 & 12500.0 & 2 & 0.0103084 \\\\\n",
       "\t3 & 2 & 3 & 0.00131306 & 0.0190229 & 1 & 12500.0 & 3 & 0.0102966 \\\\\n",
       "\t4 & 2 & 6 & 0.000803188 & 0.0149712 & 1 & 12500.0 & 4 & 0.00476255 \\\\\n",
       "\t5 & 3 & 10 & 0.000399063 & 0.00548875 & 1 & 12500.0 & 5 & 0.00238071 \\\\\n",
       "\t6 & 4 & 5 & 0.00114981 & 0.0183772 & 1 & 12500.0 & 6 & 0.0126698 \\\\\n",
       "\t7 & 4 & 6 & 0.00209787 & 0.0318498 & 1 & 12500.0 & 7 & 0.0106544 \\\\\n",
       "\t8 & 4 & 14 & 0.00220469 & 0.0290109 & 1 & 12500.0 & 8 & 0.00897751 \\\\\n",
       "\t9 & 5 & 6 & 0.000706313 & 0.00961025 & 1 & 12500.0 & 9 & 0.00913257 \\\\\n",
       "\t10 & 5 & 14 & 0.00178231 & 0.0184703 & 1 & 12500.0 & 10 & 0.00196471 \\\\\n",
       "\t11 & 6 & 7 & 0.00119981 & 0.0192356 & 1 & 12500.0 & 11 & 0.0267716 \\\\\n",
       "\t12 & 6 & 13 & 0.000327813 & 0.00569294 & 1 & 12500.0 & 12 & 0.00236706 \\\\\n",
       "\t13 & 7 & 8 & 0.000412188 & 0.00449369 & 1 & 12500.0 & 13 & 0.046537 \\\\\n",
       "\t14 & 7 & 9 & 0.000912813 & 0.00961181 & 1 & 12500.0 & 14 & 0.0248062 \\\\\n",
       "\t15 & 7 & 10 & 0.000213438 & 0.00283269 & 1 & 12500.0 & 15 & 0.00717854 \\\\\n",
       "\t16 & 8 & 9 & 0.00014 & 0.00176 & 1 & 12500.0 & 16 & 0.00777599 \\\\\n",
       "\t17 & 8 & 10 & 0.000446188 & 0.005416 & 1 & 12500.0 & 17 & 0.0492475 \\\\\n",
       "\t18 & 8 & 13 & 0.000541563 & 0.00778087 & 1 & 12500.0 & 18 & 0.0158114 \\\\\n",
       "\t19 & 9 & 11 & 0.000934125 & 0.00944906 & 1 & 12500.0 & 19 & 0.00374001 \\\\\n",
       "\t20 & 9 & 13 & 0.000277375 & 0.00272575 & 1 & 12500.0 & 20 & 0.00444232 \\\\\n",
       "\t21 & 10 & 11 & 0.000366938 & 0.00494194 & 1 & 12500.0 & 21 & 0.0030837 \\\\\n",
       "\t22 & 11 & 12 & 0.00204112 & 0.0293363 & 1 & 12500.0 & 22 & 0.00836918 \\\\\n",
       "\t23 & 11 & 13 & 0.000979313 & 0.01555 & 1 & 12500.0 & 23 & 0.0068301 \\\\\n",
       "\t24 & 12 & 13 & 0.000660063 & 0.0118286 & 1 & 12500.0 & 24 & 0.00465276 \\\\\n",
       "\t25 & 12 & 17 & 0.000488125 & 0.00938675 & 1 & 12500.0 & 25 & 0.00464777 \\\\\n",
       "\t26 & 13 & 15 & 0.00122219 & 0.0166115 & 1 & 12500.0 & 26 & 0.00503391 \\\\\n",
       "\t27 & 13 & 18 & 0.000664438 & 0.00864231 & 1 & 12500.0 & 27 & 0.0135528 \\\\\n",
       "\t28 & 14 & 16 & 0.00088875 & 0.00965956 & 1 & 12500.0 & 28 & 0.00289576 \\\\\n",
       "\t29 & 15 & 14 & 0.001026 & 0.0118831 & 1 & 12500.0 & 29 & 0.00622196 \\\\\n",
       "\t30 & 15 & 16 & 0.000270688 & 0.00299631 & 1 & 12500.0 & 30 & 0.00137864 \\\\\n",
       "\t$\\dots$ & $\\dots$ & $\\dots$ & $\\dots$ & $\\dots$ & $\\dots$ & $\\dots$ & $\\dots$ & $\\dots$ \\\\\n",
       "\\end{tabular}\n"
      ],
      "text/plain": [
       "\u001b[1m264×8 DataFrame\u001b[0m\n",
       "\u001b[1m Row \u001b[0m│\u001b[1m fromnode \u001b[0m\u001b[1m tonode \u001b[0m\u001b[1m resistance  \u001b[0m\u001b[1m reactance  \u001b[0m\u001b[1m contingencymarked \u001b[0m\u001b[1m capacity \u001b[0m\u001b[1m id    \u001b[0m\u001b[1m b          \u001b[0m\n",
       "     │\u001b[90m Int64    \u001b[0m\u001b[90m Int64  \u001b[0m\u001b[90m Float64     \u001b[0m\u001b[90m Float64    \u001b[0m\u001b[90m Int64             \u001b[0m\u001b[90m Float64  \u001b[0m\u001b[90m Int64 \u001b[0m\u001b[90m Float64    \u001b[0m\n",
       "─────┼───────────────────────────────────────────────────────────────────────────────────────────\n",
       "   1 │        1       2  0.00266925   0.0323779                   1   12500.0      1  0.0196113\n",
       "   2 │        1       5  0.00287887   0.0286089                   1   12500.0      2  0.0103084\n",
       "   3 │        2       3  0.00131306   0.0190229                   1   12500.0      3  0.0102966\n",
       "   4 │        2       6  0.000803188  0.0149712                   1   12500.0      4  0.00476255\n",
       "   5 │        3      10  0.000399063  0.00548875                  1   12500.0      5  0.00238071\n",
       "   6 │        4       5  0.00114981   0.0183772                   1   12500.0      6  0.0126698\n",
       "   7 │        4       6  0.00209787   0.0318498                   1   12500.0      7  0.0106544\n",
       "   8 │        4      14  0.00220469   0.0290109                   1   12500.0      8  0.00897751\n",
       "   9 │        5       6  0.000706313  0.00961025                  1   12500.0      9  0.00913257\n",
       "  10 │        5      14  0.00178231   0.0184703                   1   12500.0     10  0.00196471\n",
       "  11 │        6       7  0.00119981   0.0192356                   1   12500.0     11  0.0267716\n",
       "  ⋮  │    ⋮        ⋮          ⋮           ⋮               ⋮             ⋮        ⋮        ⋮\n",
       " 255 │       31      30  0.000657375  0.00816719                  1    1250.0     57  0.00932489\n",
       " 256 │       32      30  0.000516438  0.0106281                   1    1250.0     58  0.00299608\n",
       " 257 │       32      31  0.000826875  0.0120264                   1    1250.0     59  0.00355633\n",
       " 258 │       34      31  0.00118531   0.00383031                  1    1250.0     60  0.00512333\n",
       " 259 │       34      32  0.000802688  0.00834469                  1    1250.0     61  0.00568591\n",
       " 260 │       36      32  0.00425394   0.0365836                   1    1250.0     62  0.00348308\n",
       " 261 │       34      33  0.00625      0.009375                    1    1250.0     63  0.00555391\n",
       " 262 │       35      34  0.00845975   0.0214944                   1    1250.0     64  0.00839269\n",
       " 263 │       36      34  0.000950375  0.00830369                  1    1250.0     65  0.00505114\n",
       " 264 │       36      35  0.00228119   0.008931                    1    1250.0     66  0.0127316\n",
       "\u001b[36m                                                                                 243 rows omitted\u001b[0m"
      ]
     },
     "execution_count": 84,
     "metadata": {},
     "output_type": "execute_result"
    }
   ],
   "source": [
    "df3"
   ]
  },
  {
   "cell_type": "code",
   "execution_count": 107,
   "metadata": {},
   "outputs": [
    {
     "data": {
      "text/html": [
       "<div><div style = \"float: left;\"><span>396×8 DataFrame</span></div><div style = \"float: right;\"><span style = \"font-style: italic;\">371 rows omitted</span></div><div style = \"clear: both;\"></div></div><div class = \"data-frame\" style = \"overflow-x: scroll;\"><table class = \"data-frame\" style = \"margin-bottom: 6px;\"><thead><tr class = \"header\"><th class = \"rowNumber\" style = \"font-weight: bold; text-align: right;\">Row</th><th style = \"text-align: left;\">fromnode</th><th style = \"text-align: left;\">tonode</th><th style = \"text-align: left;\">resistance</th><th style = \"text-align: left;\">reactance</th><th style = \"text-align: left;\">contingencymarked</th><th style = \"text-align: left;\">capacity</th><th style = \"text-align: left;\">id</th><th style = \"text-align: left;\">b</th></tr><tr class = \"subheader headerLastRow\"><th class = \"rowNumber\" style = \"font-weight: bold; text-align: right;\"></th><th title = \"Int64\" style = \"text-align: left;\">Int64</th><th title = \"Int64\" style = \"text-align: left;\">Int64</th><th title = \"Float64\" style = \"text-align: left;\">Float64</th><th title = \"Float64\" style = \"text-align: left;\">Float64</th><th title = \"Int64\" style = \"text-align: left;\">Int64</th><th title = \"Float64\" style = \"text-align: left;\">Float64</th><th title = \"Int64\" style = \"text-align: left;\">Int64</th><th title = \"Float64\" style = \"text-align: left;\">Float64</th></tr></thead><tbody><tr><td class = \"rowNumber\" style = \"font-weight: bold; text-align: right;\">1</td><td style = \"text-align: right;\">1</td><td style = \"text-align: right;\">2</td><td style = \"text-align: right;\">0.00266925</td><td style = \"text-align: right;\">0.0323779</td><td style = \"text-align: right;\">1</td><td style = \"text-align: right;\">12500.0</td><td style = \"text-align: right;\">1</td><td style = \"text-align: right;\">0.0196113</td></tr><tr><td class = \"rowNumber\" style = \"font-weight: bold; text-align: right;\">2</td><td style = \"text-align: right;\">1</td><td style = \"text-align: right;\">5</td><td style = \"text-align: right;\">0.00287887</td><td style = \"text-align: right;\">0.0286089</td><td style = \"text-align: right;\">1</td><td style = \"text-align: right;\">12500.0</td><td style = \"text-align: right;\">2</td><td style = \"text-align: right;\">0.0103084</td></tr><tr><td class = \"rowNumber\" style = \"font-weight: bold; text-align: right;\">3</td><td style = \"text-align: right;\">2</td><td style = \"text-align: right;\">3</td><td style = \"text-align: right;\">0.00131306</td><td style = \"text-align: right;\">0.0190229</td><td style = \"text-align: right;\">1</td><td style = \"text-align: right;\">12500.0</td><td style = \"text-align: right;\">3</td><td style = \"text-align: right;\">0.0102966</td></tr><tr><td class = \"rowNumber\" style = \"font-weight: bold; text-align: right;\">4</td><td style = \"text-align: right;\">2</td><td style = \"text-align: right;\">6</td><td style = \"text-align: right;\">0.000803188</td><td style = \"text-align: right;\">0.0149712</td><td style = \"text-align: right;\">1</td><td style = \"text-align: right;\">12500.0</td><td style = \"text-align: right;\">4</td><td style = \"text-align: right;\">0.00476255</td></tr><tr><td class = \"rowNumber\" style = \"font-weight: bold; text-align: right;\">5</td><td style = \"text-align: right;\">3</td><td style = \"text-align: right;\">10</td><td style = \"text-align: right;\">0.000399063</td><td style = \"text-align: right;\">0.00548875</td><td style = \"text-align: right;\">1</td><td style = \"text-align: right;\">12500.0</td><td style = \"text-align: right;\">5</td><td style = \"text-align: right;\">0.00238071</td></tr><tr><td class = \"rowNumber\" style = \"font-weight: bold; text-align: right;\">6</td><td style = \"text-align: right;\">4</td><td style = \"text-align: right;\">5</td><td style = \"text-align: right;\">0.00114981</td><td style = \"text-align: right;\">0.0183772</td><td style = \"text-align: right;\">1</td><td style = \"text-align: right;\">12500.0</td><td style = \"text-align: right;\">6</td><td style = \"text-align: right;\">0.0126698</td></tr><tr><td class = \"rowNumber\" style = \"font-weight: bold; text-align: right;\">7</td><td style = \"text-align: right;\">4</td><td style = \"text-align: right;\">6</td><td style = \"text-align: right;\">0.00209787</td><td style = \"text-align: right;\">0.0318498</td><td style = \"text-align: right;\">1</td><td style = \"text-align: right;\">12500.0</td><td style = \"text-align: right;\">7</td><td style = \"text-align: right;\">0.0106544</td></tr><tr><td class = \"rowNumber\" style = \"font-weight: bold; text-align: right;\">8</td><td style = \"text-align: right;\">4</td><td style = \"text-align: right;\">14</td><td style = \"text-align: right;\">0.00220469</td><td style = \"text-align: right;\">0.0290109</td><td style = \"text-align: right;\">1</td><td style = \"text-align: right;\">12500.0</td><td style = \"text-align: right;\">8</td><td style = \"text-align: right;\">0.00897751</td></tr><tr><td class = \"rowNumber\" style = \"font-weight: bold; text-align: right;\">9</td><td style = \"text-align: right;\">5</td><td style = \"text-align: right;\">6</td><td style = \"text-align: right;\">0.000706313</td><td style = \"text-align: right;\">0.00961025</td><td style = \"text-align: right;\">1</td><td style = \"text-align: right;\">12500.0</td><td style = \"text-align: right;\">9</td><td style = \"text-align: right;\">0.00913257</td></tr><tr><td class = \"rowNumber\" style = \"font-weight: bold; text-align: right;\">10</td><td style = \"text-align: right;\">5</td><td style = \"text-align: right;\">14</td><td style = \"text-align: right;\">0.00178231</td><td style = \"text-align: right;\">0.0184703</td><td style = \"text-align: right;\">1</td><td style = \"text-align: right;\">12500.0</td><td style = \"text-align: right;\">10</td><td style = \"text-align: right;\">0.00196471</td></tr><tr><td class = \"rowNumber\" style = \"font-weight: bold; text-align: right;\">11</td><td style = \"text-align: right;\">6</td><td style = \"text-align: right;\">7</td><td style = \"text-align: right;\">0.00119981</td><td style = \"text-align: right;\">0.0192356</td><td style = \"text-align: right;\">1</td><td style = \"text-align: right;\">12500.0</td><td style = \"text-align: right;\">11</td><td style = \"text-align: right;\">0.0267716</td></tr><tr><td class = \"rowNumber\" style = \"font-weight: bold; text-align: right;\">12</td><td style = \"text-align: right;\">6</td><td style = \"text-align: right;\">13</td><td style = \"text-align: right;\">0.000327813</td><td style = \"text-align: right;\">0.00569294</td><td style = \"text-align: right;\">1</td><td style = \"text-align: right;\">12500.0</td><td style = \"text-align: right;\">12</td><td style = \"text-align: right;\">0.00236706</td></tr><tr><td class = \"rowNumber\" style = \"font-weight: bold; text-align: right;\">13</td><td style = \"text-align: right;\">7</td><td style = \"text-align: right;\">8</td><td style = \"text-align: right;\">0.000412188</td><td style = \"text-align: right;\">0.00449369</td><td style = \"text-align: right;\">1</td><td style = \"text-align: right;\">12500.0</td><td style = \"text-align: right;\">13</td><td style = \"text-align: right;\">0.046537</td></tr><tr><td style = \"text-align: right;\">&vellip;</td><td style = \"text-align: right;\">&vellip;</td><td style = \"text-align: right;\">&vellip;</td><td style = \"text-align: right;\">&vellip;</td><td style = \"text-align: right;\">&vellip;</td><td style = \"text-align: right;\">&vellip;</td><td style = \"text-align: right;\">&vellip;</td><td style = \"text-align: right;\">&vellip;</td><td style = \"text-align: right;\">&vellip;</td></tr><tr><td class = \"rowNumber\" style = \"font-weight: bold; text-align: right;\">385</td><td style = \"text-align: right;\">32</td><td style = \"text-align: right;\">29</td><td style = \"text-align: right;\">0.0009215</td><td style = \"text-align: right;\">0.007555</td><td style = \"text-align: right;\">1</td><td style = \"text-align: right;\">10000.0</td><td style = \"text-align: right;\">55</td><td style = \"text-align: right;\">0.00302789</td></tr><tr><td class = \"rowNumber\" style = \"font-weight: bold; text-align: right;\">386</td><td style = \"text-align: right;\">29</td><td style = \"text-align: right;\">30</td><td style = \"text-align: right;\">0.001276</td><td style = \"text-align: right;\">0.0112748</td><td style = \"text-align: right;\">1</td><td style = \"text-align: right;\">10000.0</td><td style = \"text-align: right;\">56</td><td style = \"text-align: right;\">0.00658752</td></tr><tr><td class = \"rowNumber\" style = \"font-weight: bold; text-align: right;\">387</td><td style = \"text-align: right;\">31</td><td style = \"text-align: right;\">30</td><td style = \"text-align: right;\">0.000657375</td><td style = \"text-align: right;\">0.00816719</td><td style = \"text-align: right;\">1</td><td style = \"text-align: right;\">10000.0</td><td style = \"text-align: right;\">57</td><td style = \"text-align: right;\">0.00932489</td></tr><tr><td class = \"rowNumber\" style = \"font-weight: bold; text-align: right;\">388</td><td style = \"text-align: right;\">32</td><td style = \"text-align: right;\">30</td><td style = \"text-align: right;\">0.000516438</td><td style = \"text-align: right;\">0.0106281</td><td style = \"text-align: right;\">1</td><td style = \"text-align: right;\">10000.0</td><td style = \"text-align: right;\">58</td><td style = \"text-align: right;\">0.00299608</td></tr><tr><td class = \"rowNumber\" style = \"font-weight: bold; text-align: right;\">389</td><td style = \"text-align: right;\">32</td><td style = \"text-align: right;\">31</td><td style = \"text-align: right;\">0.000826875</td><td style = \"text-align: right;\">0.0120264</td><td style = \"text-align: right;\">1</td><td style = \"text-align: right;\">10000.0</td><td style = \"text-align: right;\">59</td><td style = \"text-align: right;\">0.00355633</td></tr><tr><td class = \"rowNumber\" style = \"font-weight: bold; text-align: right;\">390</td><td style = \"text-align: right;\">34</td><td style = \"text-align: right;\">31</td><td style = \"text-align: right;\">0.00118531</td><td style = \"text-align: right;\">0.00383031</td><td style = \"text-align: right;\">1</td><td style = \"text-align: right;\">10000.0</td><td style = \"text-align: right;\">60</td><td style = \"text-align: right;\">0.00512333</td></tr><tr><td class = \"rowNumber\" style = \"font-weight: bold; text-align: right;\">391</td><td style = \"text-align: right;\">34</td><td style = \"text-align: right;\">32</td><td style = \"text-align: right;\">0.000802688</td><td style = \"text-align: right;\">0.00834469</td><td style = \"text-align: right;\">1</td><td style = \"text-align: right;\">10000.0</td><td style = \"text-align: right;\">61</td><td style = \"text-align: right;\">0.00568591</td></tr><tr><td class = \"rowNumber\" style = \"font-weight: bold; text-align: right;\">392</td><td style = \"text-align: right;\">36</td><td style = \"text-align: right;\">32</td><td style = \"text-align: right;\">0.00425394</td><td style = \"text-align: right;\">0.0365836</td><td style = \"text-align: right;\">1</td><td style = \"text-align: right;\">10000.0</td><td style = \"text-align: right;\">62</td><td style = \"text-align: right;\">0.00348308</td></tr><tr><td class = \"rowNumber\" style = \"font-weight: bold; text-align: right;\">393</td><td style = \"text-align: right;\">34</td><td style = \"text-align: right;\">33</td><td style = \"text-align: right;\">0.00625</td><td style = \"text-align: right;\">0.009375</td><td style = \"text-align: right;\">1</td><td style = \"text-align: right;\">10000.0</td><td style = \"text-align: right;\">63</td><td style = \"text-align: right;\">0.00555391</td></tr><tr><td class = \"rowNumber\" style = \"font-weight: bold; text-align: right;\">394</td><td style = \"text-align: right;\">35</td><td style = \"text-align: right;\">34</td><td style = \"text-align: right;\">0.00845975</td><td style = \"text-align: right;\">0.0214944</td><td style = \"text-align: right;\">1</td><td style = \"text-align: right;\">10000.0</td><td style = \"text-align: right;\">64</td><td style = \"text-align: right;\">0.00839269</td></tr><tr><td class = \"rowNumber\" style = \"font-weight: bold; text-align: right;\">395</td><td style = \"text-align: right;\">36</td><td style = \"text-align: right;\">34</td><td style = \"text-align: right;\">0.000950375</td><td style = \"text-align: right;\">0.00830369</td><td style = \"text-align: right;\">1</td><td style = \"text-align: right;\">10000.0</td><td style = \"text-align: right;\">65</td><td style = \"text-align: right;\">0.00505114</td></tr><tr><td class = \"rowNumber\" style = \"font-weight: bold; text-align: right;\">396</td><td style = \"text-align: right;\">36</td><td style = \"text-align: right;\">35</td><td style = \"text-align: right;\">0.00228119</td><td style = \"text-align: right;\">0.008931</td><td style = \"text-align: right;\">1</td><td style = \"text-align: right;\">10000.0</td><td style = \"text-align: right;\">66</td><td style = \"text-align: right;\">0.0127316</td></tr></tbody></table></div>"
      ],
      "text/latex": [
       "\\begin{tabular}{r|cccccccc}\n",
       "\t& fromnode & tonode & resistance & reactance & contingencymarked & capacity & id & b\\\\\n",
       "\t\\hline\n",
       "\t& Int64 & Int64 & Float64 & Float64 & Int64 & Float64 & Int64 & Float64\\\\\n",
       "\t\\hline\n",
       "\t1 & 1 & 2 & 0.00266925 & 0.0323779 & 1 & 12500.0 & 1 & 0.0196113 \\\\\n",
       "\t2 & 1 & 5 & 0.00287887 & 0.0286089 & 1 & 12500.0 & 2 & 0.0103084 \\\\\n",
       "\t3 & 2 & 3 & 0.00131306 & 0.0190229 & 1 & 12500.0 & 3 & 0.0102966 \\\\\n",
       "\t4 & 2 & 6 & 0.000803188 & 0.0149712 & 1 & 12500.0 & 4 & 0.00476255 \\\\\n",
       "\t5 & 3 & 10 & 0.000399063 & 0.00548875 & 1 & 12500.0 & 5 & 0.00238071 \\\\\n",
       "\t6 & 4 & 5 & 0.00114981 & 0.0183772 & 1 & 12500.0 & 6 & 0.0126698 \\\\\n",
       "\t7 & 4 & 6 & 0.00209787 & 0.0318498 & 1 & 12500.0 & 7 & 0.0106544 \\\\\n",
       "\t8 & 4 & 14 & 0.00220469 & 0.0290109 & 1 & 12500.0 & 8 & 0.00897751 \\\\\n",
       "\t9 & 5 & 6 & 0.000706313 & 0.00961025 & 1 & 12500.0 & 9 & 0.00913257 \\\\\n",
       "\t10 & 5 & 14 & 0.00178231 & 0.0184703 & 1 & 12500.0 & 10 & 0.00196471 \\\\\n",
       "\t11 & 6 & 7 & 0.00119981 & 0.0192356 & 1 & 12500.0 & 11 & 0.0267716 \\\\\n",
       "\t12 & 6 & 13 & 0.000327813 & 0.00569294 & 1 & 12500.0 & 12 & 0.00236706 \\\\\n",
       "\t13 & 7 & 8 & 0.000412188 & 0.00449369 & 1 & 12500.0 & 13 & 0.046537 \\\\\n",
       "\t14 & 7 & 9 & 0.000912813 & 0.00961181 & 1 & 12500.0 & 14 & 0.0248062 \\\\\n",
       "\t15 & 7 & 10 & 0.000213438 & 0.00283269 & 1 & 12500.0 & 15 & 0.00717854 \\\\\n",
       "\t16 & 8 & 9 & 0.00014 & 0.00176 & 1 & 12500.0 & 16 & 0.00777599 \\\\\n",
       "\t17 & 8 & 10 & 0.000446188 & 0.005416 & 1 & 12500.0 & 17 & 0.0492475 \\\\\n",
       "\t18 & 8 & 13 & 0.000541563 & 0.00778087 & 1 & 12500.0 & 18 & 0.0158114 \\\\\n",
       "\t19 & 9 & 11 & 0.000934125 & 0.00944906 & 1 & 12500.0 & 19 & 0.00374001 \\\\\n",
       "\t20 & 9 & 13 & 0.000277375 & 0.00272575 & 1 & 12500.0 & 20 & 0.00444232 \\\\\n",
       "\t21 & 10 & 11 & 0.000366938 & 0.00494194 & 1 & 12500.0 & 21 & 0.0030837 \\\\\n",
       "\t22 & 11 & 12 & 0.00204112 & 0.0293363 & 1 & 12500.0 & 22 & 0.00836918 \\\\\n",
       "\t23 & 11 & 13 & 0.000979313 & 0.01555 & 1 & 12500.0 & 23 & 0.0068301 \\\\\n",
       "\t24 & 12 & 13 & 0.000660063 & 0.0118286 & 1 & 12500.0 & 24 & 0.00465276 \\\\\n",
       "\t25 & 12 & 17 & 0.000488125 & 0.00938675 & 1 & 12500.0 & 25 & 0.00464777 \\\\\n",
       "\t26 & 13 & 15 & 0.00122219 & 0.0166115 & 1 & 12500.0 & 26 & 0.00503391 \\\\\n",
       "\t27 & 13 & 18 & 0.000664438 & 0.00864231 & 1 & 12500.0 & 27 & 0.0135528 \\\\\n",
       "\t28 & 14 & 16 & 0.00088875 & 0.00965956 & 1 & 12500.0 & 28 & 0.00289576 \\\\\n",
       "\t29 & 15 & 14 & 0.001026 & 0.0118831 & 1 & 12500.0 & 29 & 0.00622196 \\\\\n",
       "\t30 & 15 & 16 & 0.000270688 & 0.00299631 & 1 & 12500.0 & 30 & 0.00137864 \\\\\n",
       "\t$\\dots$ & $\\dots$ & $\\dots$ & $\\dots$ & $\\dots$ & $\\dots$ & $\\dots$ & $\\dots$ & $\\dots$ \\\\\n",
       "\\end{tabular}\n"
      ],
      "text/plain": [
       "\u001b[1m396×8 DataFrame\u001b[0m\n",
       "\u001b[1m Row \u001b[0m│\u001b[1m fromnode \u001b[0m\u001b[1m tonode \u001b[0m\u001b[1m resistance  \u001b[0m\u001b[1m reactance  \u001b[0m\u001b[1m contingencymarked \u001b[0m\u001b[1m capacity \u001b[0m\u001b[1m id    \u001b[0m\u001b[1m b          \u001b[0m\n",
       "     │\u001b[90m Int64    \u001b[0m\u001b[90m Int64  \u001b[0m\u001b[90m Float64     \u001b[0m\u001b[90m Float64    \u001b[0m\u001b[90m Int64             \u001b[0m\u001b[90m Float64  \u001b[0m\u001b[90m Int64 \u001b[0m\u001b[90m Float64    \u001b[0m\n",
       "─────┼───────────────────────────────────────────────────────────────────────────────────────────\n",
       "   1 │        1       2  0.00266925   0.0323779                   1   12500.0      1  0.0196113\n",
       "   2 │        1       5  0.00287887   0.0286089                   1   12500.0      2  0.0103084\n",
       "   3 │        2       3  0.00131306   0.0190229                   1   12500.0      3  0.0102966\n",
       "   4 │        2       6  0.000803188  0.0149712                   1   12500.0      4  0.00476255\n",
       "   5 │        3      10  0.000399063  0.00548875                  1   12500.0      5  0.00238071\n",
       "   6 │        4       5  0.00114981   0.0183772                   1   12500.0      6  0.0126698\n",
       "   7 │        4       6  0.00209787   0.0318498                   1   12500.0      7  0.0106544\n",
       "   8 │        4      14  0.00220469   0.0290109                   1   12500.0      8  0.00897751\n",
       "   9 │        5       6  0.000706313  0.00961025                  1   12500.0      9  0.00913257\n",
       "  10 │        5      14  0.00178231   0.0184703                   1   12500.0     10  0.00196471\n",
       "  11 │        6       7  0.00119981   0.0192356                   1   12500.0     11  0.0267716\n",
       "  ⋮  │    ⋮        ⋮          ⋮           ⋮               ⋮             ⋮        ⋮        ⋮\n",
       " 387 │       31      30  0.000657375  0.00816719                  1   10000.0     57  0.00932489\n",
       " 388 │       32      30  0.000516438  0.0106281                   1   10000.0     58  0.00299608\n",
       " 389 │       32      31  0.000826875  0.0120264                   1   10000.0     59  0.00355633\n",
       " 390 │       34      31  0.00118531   0.00383031                  1   10000.0     60  0.00512333\n",
       " 391 │       34      32  0.000802688  0.00834469                  1   10000.0     61  0.00568591\n",
       " 392 │       36      32  0.00425394   0.0365836                   1   10000.0     62  0.00348308\n",
       " 393 │       34      33  0.00625      0.009375                    1   10000.0     63  0.00555391\n",
       " 394 │       35      34  0.00845975   0.0214944                   1   10000.0     64  0.00839269\n",
       " 395 │       36      34  0.000950375  0.00830369                  1   10000.0     65  0.00505114\n",
       " 396 │       36      35  0.00228119   0.008931                    1   10000.0     66  0.0127316\n",
       "\u001b[36m                                                                                 375 rows omitted\u001b[0m"
      ]
     },
     "execution_count": 107,
     "metadata": {},
     "output_type": "execute_result"
    }
   ],
   "source": [
    "datadir = joinpath(\"testcase\") \n",
    "gens = CSV.read(joinpath(datadir,\"Gen36.csv\"), DataFrame);\n",
    "linesnew = df3;\n",
    "loads = CSV.read(joinpath(datadir,\"Load36_csv.csv\"), DataFrame);\n",
    "\n",
    "\n",
    "# Rename all columns to lowercase (by convention)\n",
    "for f in [gens, lines, loads]\n",
    "    rename!(f,lowercase.(names(f)))\n",
    "end\n",
    "\n",
    "# create generator ids \n",
    "gens.id = 1:nrow(gens);\n",
    "\n",
    "# create line ids \n",
    "linesnew.id = 1:nrow(linesnew);\n",
    "# add set of rows for reverse direction with same parameters\n",
    "\n",
    "linesnew2 = copy(linesnew)\n",
    "linesnew2.f = linesnew2.fromnode\n",
    "linesnew2.fromnode = linesnew.tonode\n",
    "linesnew2.tonode = linesnew2.f\n",
    "linesnew2 = lines2[:,names(linesnew)]\n",
    "append!(linesnew,linesnew2)\n",
    "\n",
    "# calculate simple susceptance, ignoring resistance as earlier \n",
    "#lines.b = 1 ./ lines.reactance\n",
    "\n",
    "# keep only a single time period\n",
    "loads = loads[:,[\"connnode\",\"interval-1_load\"]]\n",
    "rename!(loads,\"interval-1_load\" => \"demand\");\n",
    "\n",
    "linesnew"
   ]
  },
  {
   "cell_type": "code",
   "execution_count": 126,
   "metadata": {},
   "outputs": [
    {
     "data": {
      "text/plain": [
       "dcopf_ieee (generic function with 1 method)"
      ]
     },
     "execution_count": 126,
     "metadata": {},
     "output_type": "execute_result"
    }
   ],
   "source": [
    "#=\n",
    "Function to solve DC OPF problem using IEEE test cases\n",
    "Inputs:\n",
    "    gen_info -- dataframe with generator info\n",
    "    line_info -- dataframe with transmission linesnew info\n",
    "    loads  -- dataframe with load info\n",
    "=#\n",
    "function dcopf_ieee(gens, linesnew, loads)\n",
    "    DCOPF = Model(HiGHS.Optimizer) # You could use Clp as well, with Clp.Optimizer\n",
    "    \n",
    "    # Define sets based on data\n",
    "      # Set of generator buses\n",
    "    G = gens.id #the way it defines gens are by looking at which bus it's connected to - list gens as unique elements then create another matrix showing which gens are associated with which node in the system\n",
    "                #set to id instead of connnode\n",
    "    \n",
    "      # Set of all nodes\n",
    "    N = sort(union(unique(linesnew.fromnode), \n",
    "            unique(linesnew.tonode))) \n",
    "    \n",
    "      # sets J_i and G_i will be described using dataframe indexing below\n",
    "\n",
    "    # Define per unit base units for the system \n",
    "    # used to convert from per unit values to standard unit\n",
    "    # values (e.g. p.u. power flows to MW/MVA)\n",
    "    baseMVA = 100000000 # base MVA is 100 MVA for this system *LOOK INTO THIS FURTHER*\n",
    "    \n",
    "    # Decision variables   \n",
    "    @variables(DCOPF, begin\n",
    "        GEN[G]  >= -10000000000000    # generation        \n",
    "        # Note: we assume Pmin = 0 for all resources for simplicty here\n",
    "        THETA[N]         # voltage phase angle of bus\n",
    "        FLOW[N,N]        # flows between all pairs of nodes\n",
    "    end)\n",
    "    \n",
    "    # Create slack bus with reference angle = 0; use bus 1 with generator\n",
    "    fix(THETA[1],0)\n",
    "                \n",
    "    # Objective function\n",
    "    @objective(DCOPF, Min, \n",
    "        sum( gens[g,:c1] * GEN[g] for g in G)\n",
    "    )\n",
    "    \n",
    "    # Supply demand balances\n",
    "    @constraint(DCOPF, cBalance[i in N], \n",
    "        sum(GEN[g] for g in gens[gens.connnode .== i,:connnode]) \n",
    "            + sum(load for load in loads[loads.connnode .== i,:demand]) \n",
    "        == sum(FLOW[i,j] for j in linesnew[linesnew.fromnode .== i,:tonode])\n",
    "    )\n",
    "\n",
    "    # Max generation constraint\n",
    "    @constraint(DCOPF, cMaxGen[g in G],\n",
    "                    GEN[g] <= gens[g,:pgmax])\n",
    "    \n",
    "    # Flow constraints on each branch \n",
    "    @constraint(DCOPF, cLineFlows[l in 1:nrow(linesnew)],\n",
    "            FLOW[linesnew[l,:fromnode],linesnew[l,:tonode]] == \n",
    "            baseMVA * linesnew[l,:b] * \n",
    "            (THETA[linesnew[l,:fromnode]] - THETA[linesnew[l,:tonode]])\n",
    "    )\n",
    "    \n",
    "    # Max line flow constraints\n",
    "    @constraint(DCOPF, cLineLimits[l in 1:nrow(linesnew)], \n",
    "            FLOW[linesnew[l,:fromnode],linesnew[l,:tonode]] <=\n",
    "            linesnew[l,:capacity]\n",
    "    ) \n",
    "\n",
    "\n",
    "    # Solve statement (! indicates runs in place)\n",
    "    optimize!(DCOPF)\n",
    "\n",
    "    # Output variables\n",
    "    generation = DataFrame(\n",
    "        node = gens.connnode,\n",
    "        gen = value.(GEN).data[gens.connnode]\n",
    "        )\n",
    "    \n",
    "    angles = value.(THETA).data\n",
    "    \n",
    "    flows = DataFrame(\n",
    "        fbus = linesnew.fromnode,\n",
    "        tbus = linesnew.tonode,\n",
    "        flow = baseMVA * linesnew.b .* (angles[linesnew.fromnode] .- \n",
    "                        angles[linesnew.tonode]))\n",
    "    \n",
    "    # We output the marginal values of the demand constraints, \n",
    "    # which will in fact be the prices to deliver power at a given bus.\n",
    "    prices = DataFrame(\n",
    "        node = N,\n",
    "        value = dual.(cBalance).data)\n",
    "\n",
    "    # Return the solution and objective as named tuple\n",
    "    return (\n",
    "        generation = generation, \n",
    "        angles,\n",
    "        flows,\n",
    "        prices,\n",
    "        cost = objective_value(DCOPF),\n",
    "        status = termination_status(DCOPF)\n",
    "    )\n",
    "end"
   ]
  },
  {
   "cell_type": "code",
   "execution_count": 127,
   "metadata": {},
   "outputs": [
    {
     "name": "stdout",
     "output_type": "stream",
     "text": [
      "Running HiGHS 1.5.3 [date: 1970-01-01, git hash: 45a127b78]\n",
      "Copyright (c) 2023 HiGHS under MIT licence terms\n",
      "Presolving model\n",
      "431 rows, 202 cols, 1342 nonzeros\n",
      "163 rows, 198 cols, 550 nonzeros\n",
      "163 rows, 198 cols, 550 nonzeros\n",
      "Presolve : Reductions: rows 163(-815); columns 198(-1284); elements 550(-1352)\n",
      "Solving the presolved LP\n",
      "Using EKK dual simplex solver - serial\n",
      "  Iteration        Objective     Infeasibilities num(sum)\n",
      "          0    -2.4369941761e-09 Ph1: 64(68534.2); Du: 0(3.20212e-11) 0s\n",
      "        231    -5.3709980465e+16 0s\n",
      "Using EKK dual simplex solver - serial\n",
      "  Iteration        Objective     Infeasibilities num(sum)\n",
      "        231    -5.3709980466e+16 Pr: 38(8.19556e+08) 0s\n",
      "        242    -5.3702883714e+16 0s\n",
      "Model   status      : Unknown\n",
      "Simplex   iterations: 242\n",
      "Objective value     : -5.3702883729e+16\n",
      "HiGHS run time      :          0.02\n"
     ]
    }
   ],
   "source": [
    "solution = dcopf_ieee(gens, linesnew, loads);"
   ]
  },
  {
   "cell_type": "code",
   "execution_count": 123,
   "metadata": {},
   "outputs": [
    {
     "data": {
      "text/html": [
       "<div><div style = \"float: left;\"><span>150×2 DataFrame</span></div><div style = \"float: right;\"><span style = \"font-style: italic;\">125 rows omitted</span></div><div style = \"clear: both;\"></div></div><div class = \"data-frame\" style = \"overflow-x: scroll;\"><table class = \"data-frame\" style = \"margin-bottom: 6px;\"><thead><tr class = \"header\"><th class = \"rowNumber\" style = \"font-weight: bold; text-align: right;\">Row</th><th style = \"text-align: left;\">node</th><th style = \"text-align: left;\">gen</th></tr><tr class = \"subheader headerLastRow\"><th class = \"rowNumber\" style = \"font-weight: bold; text-align: right;\"></th><th title = \"Int64\" style = \"text-align: left;\">Int64</th><th title = \"Float64\" style = \"text-align: left;\">Float64</th></tr></thead><tbody><tr><td class = \"rowNumber\" style = \"font-weight: bold; text-align: right;\">1</td><td style = \"text-align: right;\">1</td><td style = \"text-align: right;\">1516.8</td></tr><tr><td class = \"rowNumber\" style = \"font-weight: bold; text-align: right;\">2</td><td style = \"text-align: right;\">1</td><td style = \"text-align: right;\">1516.8</td></tr><tr><td class = \"rowNumber\" style = \"font-weight: bold; text-align: right;\">3</td><td style = \"text-align: right;\">1</td><td style = \"text-align: right;\">1516.8</td></tr><tr><td class = \"rowNumber\" style = \"font-weight: bold; text-align: right;\">4</td><td style = \"text-align: right;\">1</td><td style = \"text-align: right;\">1516.8</td></tr><tr><td class = \"rowNumber\" style = \"font-weight: bold; text-align: right;\">5</td><td style = \"text-align: right;\">1</td><td style = \"text-align: right;\">1516.8</td></tr><tr><td class = \"rowNumber\" style = \"font-weight: bold; text-align: right;\">6</td><td style = \"text-align: right;\">2</td><td style = \"text-align: right;\">51.0</td></tr><tr><td class = \"rowNumber\" style = \"font-weight: bold; text-align: right;\">7</td><td style = \"text-align: right;\">2</td><td style = \"text-align: right;\">51.0</td></tr><tr><td class = \"rowNumber\" style = \"font-weight: bold; text-align: right;\">8</td><td style = \"text-align: right;\">2</td><td style = \"text-align: right;\">51.0</td></tr><tr><td class = \"rowNumber\" style = \"font-weight: bold; text-align: right;\">9</td><td style = \"text-align: right;\">2</td><td style = \"text-align: right;\">51.0</td></tr><tr><td class = \"rowNumber\" style = \"font-weight: bold; text-align: right;\">10</td><td style = \"text-align: right;\">2</td><td style = \"text-align: right;\">51.0</td></tr><tr><td class = \"rowNumber\" style = \"font-weight: bold; text-align: right;\">11</td><td style = \"text-align: right;\">3</td><td style = \"text-align: right;\">101.8</td></tr><tr><td class = \"rowNumber\" style = \"font-weight: bold; text-align: right;\">12</td><td style = \"text-align: right;\">3</td><td style = \"text-align: right;\">101.8</td></tr><tr><td class = \"rowNumber\" style = \"font-weight: bold; text-align: right;\">13</td><td style = \"text-align: right;\">3</td><td style = \"text-align: right;\">101.8</td></tr><tr><td style = \"text-align: right;\">&vellip;</td><td style = \"text-align: right;\">&vellip;</td><td style = \"text-align: right;\">&vellip;</td></tr><tr><td class = \"rowNumber\" style = \"font-weight: bold; text-align: right;\">139</td><td style = \"text-align: right;\">33</td><td style = \"text-align: right;\">7.98527e10</td></tr><tr><td class = \"rowNumber\" style = \"font-weight: bold; text-align: right;\">140</td><td style = \"text-align: right;\">34</td><td style = \"text-align: right;\">-2.1305e11</td></tr><tr><td class = \"rowNumber\" style = \"font-weight: bold; text-align: right;\">141</td><td style = \"text-align: right;\">34</td><td style = \"text-align: right;\">-2.1305e11</td></tr><tr><td class = \"rowNumber\" style = \"font-weight: bold; text-align: right;\">142</td><td style = \"text-align: right;\">34</td><td style = \"text-align: right;\">-2.1305e11</td></tr><tr><td class = \"rowNumber\" style = \"font-weight: bold; text-align: right;\">143</td><td style = \"text-align: right;\">34</td><td style = \"text-align: right;\">-2.1305e11</td></tr><tr><td class = \"rowNumber\" style = \"font-weight: bold; text-align: right;\">144</td><td style = \"text-align: right;\">35</td><td style = \"text-align: right;\">0.000436544</td></tr><tr><td class = \"rowNumber\" style = \"font-weight: bold; text-align: right;\">145</td><td style = \"text-align: right;\">35</td><td style = \"text-align: right;\">0.000436544</td></tr><tr><td class = \"rowNumber\" style = \"font-weight: bold; text-align: right;\">146</td><td style = \"text-align: right;\">35</td><td style = \"text-align: right;\">0.000436544</td></tr><tr><td class = \"rowNumber\" style = \"font-weight: bold; text-align: right;\">147</td><td style = \"text-align: right;\">35</td><td style = \"text-align: right;\">0.000436544</td></tr><tr><td class = \"rowNumber\" style = \"font-weight: bold; text-align: right;\">148</td><td style = \"text-align: right;\">36</td><td style = \"text-align: right;\">0.000308799</td></tr><tr><td class = \"rowNumber\" style = \"font-weight: bold; text-align: right;\">149</td><td style = \"text-align: right;\">36</td><td style = \"text-align: right;\">0.000308799</td></tr><tr><td class = \"rowNumber\" style = \"font-weight: bold; text-align: right;\">150</td><td style = \"text-align: right;\">36</td><td style = \"text-align: right;\">0.000308799</td></tr></tbody></table></div>"
      ],
      "text/latex": [
       "\\begin{tabular}{r|cc}\n",
       "\t& node & gen\\\\\n",
       "\t\\hline\n",
       "\t& Int64 & Float64\\\\\n",
       "\t\\hline\n",
       "\t1 & 1 & 1516.8 \\\\\n",
       "\t2 & 1 & 1516.8 \\\\\n",
       "\t3 & 1 & 1516.8 \\\\\n",
       "\t4 & 1 & 1516.8 \\\\\n",
       "\t5 & 1 & 1516.8 \\\\\n",
       "\t6 & 2 & 51.0 \\\\\n",
       "\t7 & 2 & 51.0 \\\\\n",
       "\t8 & 2 & 51.0 \\\\\n",
       "\t9 & 2 & 51.0 \\\\\n",
       "\t10 & 2 & 51.0 \\\\\n",
       "\t11 & 3 & 101.8 \\\\\n",
       "\t12 & 3 & 101.8 \\\\\n",
       "\t13 & 3 & 101.8 \\\\\n",
       "\t14 & 3 & 101.8 \\\\\n",
       "\t15 & 3 & 101.8 \\\\\n",
       "\t16 & 4 & 510.3 \\\\\n",
       "\t17 & 4 & 510.3 \\\\\n",
       "\t18 & 4 & 510.3 \\\\\n",
       "\t19 & 4 & 510.3 \\\\\n",
       "\t20 & 5 & 152.0 \\\\\n",
       "\t21 & 5 & 152.0 \\\\\n",
       "\t22 & 5 & 152.0 \\\\\n",
       "\t23 & 5 & 152.0 \\\\\n",
       "\t24 & 5 & 152.0 \\\\\n",
       "\t25 & 6 & 54.0 \\\\\n",
       "\t26 & 6 & 54.0 \\\\\n",
       "\t27 & 6 & 54.0 \\\\\n",
       "\t28 & 7 & 1000.0 \\\\\n",
       "\t29 & 7 & 1000.0 \\\\\n",
       "\t30 & 7 & 1000.0 \\\\\n",
       "\t$\\dots$ & $\\dots$ & $\\dots$ \\\\\n",
       "\\end{tabular}\n"
      ],
      "text/plain": [
       "\u001b[1m150×2 DataFrame\u001b[0m\n",
       "\u001b[1m Row \u001b[0m│\u001b[1m node  \u001b[0m\u001b[1m gen            \u001b[0m\n",
       "     │\u001b[90m Int64 \u001b[0m\u001b[90m Float64        \u001b[0m\n",
       "─────┼───────────────────────\n",
       "   1 │     1  1516.8\n",
       "   2 │     1  1516.8\n",
       "   3 │     1  1516.8\n",
       "   4 │     1  1516.8\n",
       "   5 │     1  1516.8\n",
       "   6 │     2    51.0\n",
       "   7 │     2    51.0\n",
       "   8 │     2    51.0\n",
       "   9 │     2    51.0\n",
       "  10 │     2    51.0\n",
       "  11 │     3   101.8\n",
       "  ⋮  │   ⋮          ⋮\n",
       " 141 │    34    -2.1305e11\n",
       " 142 │    34    -2.1305e11\n",
       " 143 │    34    -2.1305e11\n",
       " 144 │    35     0.000436544\n",
       " 145 │    35     0.000436544\n",
       " 146 │    35     0.000436544\n",
       " 147 │    35     0.000436544\n",
       " 148 │    36     0.000308799\n",
       " 149 │    36     0.000308799\n",
       " 150 │    36     0.000308799\n",
       "\u001b[36m             129 rows omitted\u001b[0m"
      ]
     },
     "execution_count": 123,
     "metadata": {},
     "output_type": "execute_result"
    }
   ],
   "source": [
    "solution.generation"
   ]
  },
  {
   "cell_type": "code",
   "execution_count": 124,
   "metadata": {},
   "outputs": [
    {
     "data": {
      "text/plain": [
       "-6.126284818002821e11"
      ]
     },
     "execution_count": 124,
     "metadata": {},
     "output_type": "execute_result"
    }
   ],
   "source": [
    "sum(solution.generation.gen)\n"
   ]
  },
  {
   "cell_type": "code",
   "execution_count": 125,
   "metadata": {},
   "outputs": [
    {
     "data": {
      "text/html": [
       "<div><div style = \"float: left;\"><span>36×2 DataFrame</span></div><div style = \"float: right;\"><span style = \"font-style: italic;\">11 rows omitted</span></div><div style = \"clear: both;\"></div></div><div class = \"data-frame\" style = \"overflow-x: scroll;\"><table class = \"data-frame\" style = \"margin-bottom: 6px;\"><thead><tr class = \"header\"><th class = \"rowNumber\" style = \"font-weight: bold; text-align: right;\">Row</th><th style = \"text-align: left;\">node</th><th style = \"text-align: left;\">value</th></tr><tr class = \"subheader headerLastRow\"><th class = \"rowNumber\" style = \"font-weight: bold; text-align: right;\"></th><th title = \"Int64\" style = \"text-align: left;\">Int64</th><th title = \"Float64\" style = \"text-align: left;\">Float64</th></tr></thead><tbody><tr><td class = \"rowNumber\" style = \"font-weight: bold; text-align: right;\">1</td><td style = \"text-align: right;\">1</td><td style = \"text-align: right;\">4.55453e9</td></tr><tr><td class = \"rowNumber\" style = \"font-weight: bold; text-align: right;\">2</td><td style = \"text-align: right;\">2</td><td style = \"text-align: right;\">9.60061e8</td></tr><tr><td class = \"rowNumber\" style = \"font-weight: bold; text-align: right;\">3</td><td style = \"text-align: right;\">3</td><td style = \"text-align: right;\">1.88035e8</td></tr><tr><td class = \"rowNumber\" style = \"font-weight: bold; text-align: right;\">4</td><td style = \"text-align: right;\">4</td><td style = \"text-align: right;\">2.71846e9</td></tr><tr><td class = \"rowNumber\" style = \"font-weight: bold; text-align: right;\">5</td><td style = \"text-align: right;\">5</td><td style = \"text-align: right;\">8.17392e8</td></tr><tr><td class = \"rowNumber\" style = \"font-weight: bold; text-align: right;\">6</td><td style = \"text-align: right;\">6</td><td style = \"text-align: right;\">4.03022e8</td></tr><tr><td class = \"rowNumber\" style = \"font-weight: bold; text-align: right;\">7</td><td style = \"text-align: right;\">7</td><td style = \"text-align: right;\">1.455e8</td></tr><tr><td class = \"rowNumber\" style = \"font-weight: bold; text-align: right;\">8</td><td style = \"text-align: right;\">8</td><td style = \"text-align: right;\">6.02141e7</td></tr><tr><td class = \"rowNumber\" style = \"font-weight: bold; text-align: right;\">9</td><td style = \"text-align: right;\">9</td><td style = \"text-align: right;\">4.32837e7</td></tr><tr><td class = \"rowNumber\" style = \"font-weight: bold; text-align: right;\">10</td><td style = \"text-align: right;\">10</td><td style = \"text-align: right;\">2.04031e7</td></tr><tr><td class = \"rowNumber\" style = \"font-weight: bold; text-align: right;\">11</td><td style = \"text-align: right;\">11</td><td style = \"text-align: right;\">1.04069e8</td></tr><tr><td class = \"rowNumber\" style = \"font-weight: bold; text-align: right;\">12</td><td style = \"text-align: right;\">12</td><td style = \"text-align: right;\">13.0</td></tr><tr><td class = \"rowNumber\" style = \"font-weight: bold; text-align: right;\">13</td><td style = \"text-align: right;\">13</td><td style = \"text-align: right;\">6.22157e7</td></tr><tr><td style = \"text-align: right;\">&vellip;</td><td style = \"text-align: right;\">&vellip;</td><td style = \"text-align: right;\">&vellip;</td></tr><tr><td class = \"rowNumber\" style = \"font-weight: bold; text-align: right;\">25</td><td style = \"text-align: right;\">25</td><td style = \"text-align: right;\">1.67523e6</td></tr><tr><td class = \"rowNumber\" style = \"font-weight: bold; text-align: right;\">26</td><td style = \"text-align: right;\">26</td><td style = \"text-align: right;\">2.4</td></tr><tr><td class = \"rowNumber\" style = \"font-weight: bold; text-align: right;\">27</td><td style = \"text-align: right;\">27</td><td style = \"text-align: right;\">-12436.1</td></tr><tr><td class = \"rowNumber\" style = \"font-weight: bold; text-align: right;\">28</td><td style = \"text-align: right;\">28</td><td style = \"text-align: right;\">11955.2</td></tr><tr><td class = \"rowNumber\" style = \"font-weight: bold; text-align: right;\">29</td><td style = \"text-align: right;\">29</td><td style = \"text-align: right;\">5366.51</td></tr><tr><td class = \"rowNumber\" style = \"font-weight: bold; text-align: right;\">30</td><td style = \"text-align: right;\">30</td><td style = \"text-align: right;\">-8644.5</td></tr><tr><td class = \"rowNumber\" style = \"font-weight: bold; text-align: right;\">31</td><td style = \"text-align: right;\">31</td><td style = \"text-align: right;\">1009.83</td></tr><tr><td class = \"rowNumber\" style = \"font-weight: bold; text-align: right;\">32</td><td style = \"text-align: right;\">32</td><td style = \"text-align: right;\">-63.2499</td></tr><tr><td class = \"rowNumber\" style = \"font-weight: bold; text-align: right;\">33</td><td style = \"text-align: right;\">33</td><td style = \"text-align: right;\">83.7075</td></tr><tr><td class = \"rowNumber\" style = \"font-weight: bold; text-align: right;\">34</td><td style = \"text-align: right;\">34</td><td style = \"text-align: right;\">17.5</td></tr><tr><td class = \"rowNumber\" style = \"font-weight: bold; text-align: right;\">35</td><td style = \"text-align: right;\">35</td><td style = \"text-align: right;\">4.0</td></tr><tr><td class = \"rowNumber\" style = \"font-weight: bold; text-align: right;\">36</td><td style = \"text-align: right;\">36</td><td style = \"text-align: right;\">9.60061e8</td></tr></tbody></table></div>"
      ],
      "text/latex": [
       "\\begin{tabular}{r|cc}\n",
       "\t& node & value\\\\\n",
       "\t\\hline\n",
       "\t& Int64 & Float64\\\\\n",
       "\t\\hline\n",
       "\t1 & 1 & 4.55453e9 \\\\\n",
       "\t2 & 2 & 9.60061e8 \\\\\n",
       "\t3 & 3 & 1.88035e8 \\\\\n",
       "\t4 & 4 & 2.71846e9 \\\\\n",
       "\t5 & 5 & 8.17392e8 \\\\\n",
       "\t6 & 6 & 4.03022e8 \\\\\n",
       "\t7 & 7 & 1.455e8 \\\\\n",
       "\t8 & 8 & 6.02141e7 \\\\\n",
       "\t9 & 9 & 4.32837e7 \\\\\n",
       "\t10 & 10 & 2.04031e7 \\\\\n",
       "\t11 & 11 & 1.04069e8 \\\\\n",
       "\t12 & 12 & 13.0 \\\\\n",
       "\t13 & 13 & 6.22157e7 \\\\\n",
       "\t14 & 14 & 3.24368e8 \\\\\n",
       "\t15 & 15 & 3.09821e8 \\\\\n",
       "\t16 & 16 & 5.78929e7 \\\\\n",
       "\t17 & 17 & 1.99937e7 \\\\\n",
       "\t18 & 18 & 1.70904e7 \\\\\n",
       "\t19 & 19 & 1.66667 \\\\\n",
       "\t20 & 20 & 7.5 \\\\\n",
       "\t21 & 21 & 3.14873e6 \\\\\n",
       "\t22 & 22 & 14.0 \\\\\n",
       "\t23 & 23 & 2.77901e5 \\\\\n",
       "\t24 & 24 & -86077.9 \\\\\n",
       "\t25 & 25 & 1.67523e6 \\\\\n",
       "\t26 & 26 & 2.4 \\\\\n",
       "\t27 & 27 & -12436.1 \\\\\n",
       "\t28 & 28 & 11955.2 \\\\\n",
       "\t29 & 29 & 5366.51 \\\\\n",
       "\t30 & 30 & -8644.5 \\\\\n",
       "\t$\\dots$ & $\\dots$ & $\\dots$ \\\\\n",
       "\\end{tabular}\n"
      ],
      "text/plain": [
       "\u001b[1m36×2 DataFrame\u001b[0m\n",
       "\u001b[1m Row \u001b[0m│\u001b[1m node  \u001b[0m\u001b[1m value          \u001b[0m\n",
       "     │\u001b[90m Int64 \u001b[0m\u001b[90m Float64        \u001b[0m\n",
       "─────┼───────────────────────\n",
       "   1 │     1       4.55453e9\n",
       "   2 │     2       9.60061e8\n",
       "   3 │     3       1.88035e8\n",
       "   4 │     4       2.71846e9\n",
       "   5 │     5       8.17392e8\n",
       "   6 │     6       4.03022e8\n",
       "   7 │     7       1.455e8\n",
       "   8 │     8       6.02141e7\n",
       "   9 │     9       4.32837e7\n",
       "  10 │    10       2.04031e7\n",
       "  11 │    11       1.04069e8\n",
       "  ⋮  │   ⋮          ⋮\n",
       "  27 │    27  -12436.1\n",
       "  28 │    28   11955.2\n",
       "  29 │    29    5366.51\n",
       "  30 │    30   -8644.5\n",
       "  31 │    31    1009.83\n",
       "  32 │    32     -63.2499\n",
       "  33 │    33      83.7075\n",
       "  34 │    34      17.5\n",
       "  35 │    35       4.0\n",
       "  36 │    36       9.60061e8\n",
       "\u001b[36m              15 rows omitted\u001b[0m"
      ]
     },
     "execution_count": 125,
     "metadata": {},
     "output_type": "execute_result"
    }
   ],
   "source": [
    "solution.prices"
   ]
  },
  {
   "cell_type": "code",
   "execution_count": 35,
   "metadata": {},
   "outputs": [
    {
     "name": "stderr",
     "output_type": "stream",
     "text": [
      "\u001b[32m\u001b[1m   Resolving\u001b[22m\u001b[39m package versions...\n",
      "\u001b[32m\u001b[1m  No Changes\u001b[22m\u001b[39m to `C:\\Users\\44780\\.julia\\environments\\v1.9\\Project.toml`\n",
      "\u001b[32m\u001b[1m  No Changes\u001b[22m\u001b[39m to `C:\\Users\\44780\\.julia\\environments\\v1.9\\Manifest.toml`\n"
     ]
    }
   ],
   "source": [
    "Pkg.add(\"CSV\")"
   ]
  },
  {
   "cell_type": "code",
   "execution_count": null,
   "metadata": {},
   "outputs": [],
   "source": []
  },
  {
   "cell_type": "code",
   "execution_count": 36,
   "metadata": {},
   "outputs": [],
   "source": [
    "using CSV"
   ]
  },
  {
   "cell_type": "code",
   "execution_count": 37,
   "metadata": {},
   "outputs": [
    {
     "data": {
      "text/plain": [
       "\"C:\\\\Users\\\\44780\\\\OneDrive\\\\Documents\\\\FYP-Modelling\\\\testcase\\\\price.csv\""
      ]
     },
     "execution_count": 37,
     "metadata": {},
     "output_type": "execute_result"
    }
   ],
   "source": [
    "CSV.write(\"C:\\\\Users\\\\44780\\\\OneDrive\\\\Documents\\\\FYP-Modelling\\\\testcase\\\\price.csv\", df1)"
   ]
  },
  {
   "cell_type": "code",
   "execution_count": 38,
   "metadata": {},
   "outputs": [
    {
     "data": {
      "text/plain": [
       "\"C:\\\\Users\\\\44780\\\\OneDrive\\\\Documents\\\\FYP-Modelling\\\\testcase\\\\demand.csv\""
      ]
     },
     "execution_count": 38,
     "metadata": {},
     "output_type": "execute_result"
    }
   ],
   "source": [
    "CSV.write(\"C:\\\\Users\\\\44780\\\\OneDrive\\\\Documents\\\\FYP-Modelling\\\\testcase\\\\demand.csv\", loads)"
   ]
  },
  {
   "cell_type": "code",
   "execution_count": 39,
   "metadata": {},
   "outputs": [
    {
     "data": {
      "text/plain": [
       "#101 (generic function with 1 method)"
      ]
     },
     "execution_count": 39,
     "metadata": {},
     "output_type": "execute_result"
    }
   ],
   "source": [
    "CSV.write(\"C:\\\\Users\\\\44780\\\\OneDrive\\\\Documents\\\\FYP-Modelling\\\\testcase\\\\Flows.csv\", )"
   ]
  },
  {
   "cell_type": "code",
   "execution_count": 40,
   "metadata": {},
   "outputs": [
    {
     "ename": "LoadError",
     "evalue": "syntax: use \"x^y\" instead of \"x**y\" for exponentiation, and \"x...\" instead of \"**x\" for splatting.",
     "output_type": "error",
     "traceback": [
      "syntax: use \"x^y\" instead of \"x**y\" for exponentiation, and \"x...\" instead of \"**x\" for splatting.",
      "",
      "Stacktrace:",
      " [1] top-level scope",
      "   @ In[40]:48"
     ]
    }
   ],
   "source": [
    "#=\n",
    "Function to solve DC OPF problem using IEEE test cases\n",
    "Inputs:\n",
    "    gen_info -- dataframe with generator info\n",
    "    line_info -- dataframe with transmission lines info\n",
    "    loads  -- dataframe with load info\n",
    "=#\n",
    "function npr(gens, lines, loads)\n",
    "    NPR = Model(HiGHS.Optimizer) # You could use Clp as well, with Clp.Optimizer\n",
    "    \n",
    "    # Define sets based on data\n",
    "      # Set of generator buses\n",
    "    G = gens.id #the way it defines gens are by looking at which bus it's connected to - list gens as unique elements then create another matrix showing which gens are associated with which node in the system\n",
    "                #set to id instead of connnode\n",
    "    \n",
    "      # Set of all nodes\n",
    "    N = sort(union(unique(lines.fromnode), \n",
    "            unique(lines.tonode))) \n",
    "    \n",
    "      # sets J_i and G_i will be described using dataframe indexing below\n",
    "\n",
    "    # Define per unit base units for the system \n",
    "    # used to convert from per unit values to standard unit\n",
    "    # values (e.g. p.u. power flows to MW/MVA)\n",
    "    baseMVA = 100000000 # base MVA is 100 MVA for this system *LOOK INTO THIS FURTHER*\n",
    "    \n",
    "    # Decision variables   \n",
    "    @variables(NPR, begin\n",
    "        GEN[G]  >= 0     # generation        \n",
    "        # Note: we assume Pmin = 0 for all resources for simplicty here\n",
    "        THETA[N]         # voltage phase angle of bus\n",
    "        FLOW[N,N]        # flows between all pairs of nodes\n",
    "    end)\n",
    "    \n",
    "    # Create slack bus with reference angle = 0; use bus 1 with generator\n",
    "    fix(THETA[1],0)\n",
    "                \n",
    "    # Objective function\n",
    "    @objective(NPR, Min, \n",
    "        sum( gens[g,:c1] * GEN[g] for g in G) - sum(value[]) #what is B(d_k)? B could be benefit function\n",
    "        \n",
    "    )\n",
    "    \n",
    "    # Supply demand balances\n",
    "    @constraint(NPR, cBalance[i in N], \n",
    "        sum(GEN[g] for g in gens[gens.connnode .== i,:connnode]) \n",
    "            + sum(load for load in loads[loads.connnode .== i,:demand]) \n",
    "        == sum(FLOW[i,j] for j in lines[lines.fromnode .== i,:tonode]) + *** sum(GEN[G]) + c_j?? ***\n",
    "    )\n",
    "\n",
    "    # Max generation constraint\n",
    "    @constraint(NPR, cMaxGen[g in G],\n",
    "                    GEN[g] <= gens[g,:pgmax]\n",
    "                    GEN[value] >= 0) #gen constrained off at zero price\n",
    "    \n",
    "    # Flow constraints on each branch \n",
    "    @constraint(NPR, cLineFlows[l in 1:nrow(lines)],\n",
    "            FLOW[lines[l,:fromnode],lines[l,:tonode]] == \n",
    "            baseMVA * lines[l,:b] * \n",
    "            (THETA[lines[l,:fromnode]] - THETA[lines[l,:tonode]])\n",
    "    )\n",
    "    \n",
    "    # Max line flow constraints\n",
    "    @constraint(NPR, cLineLimits[l in 1:nrow(lines)], \n",
    "            FLOW[lines[l,:fromnode],lines[l,:tonode]] <=\n",
    "            lines[l,:capacity]\n",
    "    ) \n",
    "    \n",
    "  ****  # Tx surplus constraint\n",
    "    @constraint(NPR, cTxSurplus[i in N],\n",
    "            sum(cost * value[N]) - sum(value in prices[prices.value] * ) ***** #first part of Eq\n",
    "    \n",
    "    #below is R\n",
    "            -sum(load for load in loads[loads.connnode .== i,:demand])\n",
    "            - sum(GEN[g] for g in gens[gens.connnode .== i,:connnode]) == 0) \n",
    "\n",
    "\n",
    "    # Solve statement (! indicates runs in place)\n",
    "    optimize!(NPR)\n",
    "\n",
    "    # Output variables\n",
    "    generation = DataFrame(\n",
    "        node = gens.connnode,\n",
    "        gen = value.(GEN).data[gens.connnode]\n",
    "        )\n",
    "    \n",
    "    angles = value.(THETA).data\n",
    "    \n",
    "    flows = DataFrame(\n",
    "        fbus = lines.fromnode,\n",
    "        tbus = lines.tonode,\n",
    "        flow = baseMVA * lines.b .* (angles[lines.fromnode] .- \n",
    "                        angles[lines.tonode]))\n",
    "    \n",
    "    # We output the marginal values of the demand constraints, \n",
    "    # which will in fact be the prices to deliver power at a given bus.\n",
    "    prices = DataFrame(\n",
    "        node = N,\n",
    "        value = dual.(cBalance).data)\n",
    "\n",
    "    # Return the solution and objective as named tuple\n",
    "    return (\n",
    "        generation = generation, \n",
    "        angles,\n",
    "        flows,\n",
    "        prices,\n",
    "        cost = objective_value(NPR),\n",
    "        status = termination_status(NPR)\n",
    "    )\n",
    "end"
   ]
  },
  {
   "cell_type": "markdown",
   "metadata": {},
   "source": [
    "Note that this system is uncongested, we ignore transmissions losses here, and the lowest cost generator supplies demand at all nodes, leading to equal locational marginal price at all nodes. In [Homework 4](https://github.com/east-winds/power-systems-optimization/tree/master/Homeworks), you can explore more complicated examples that modify this test system..."
   ]
  },
  {
   "cell_type": "code",
   "execution_count": 41,
   "metadata": {},
   "outputs": [],
   "source": [
    "#given that a single gen can fulfil demand then the marginal price at all nodes will be the same?\n",
    "#could be possible gen doesn't have any room to go up - if it doesn't then other gens will set the price \n",
    "#reason is based on the system being uncongested not the single gen fulfiling demand "
   ]
  }
 ],
 "metadata": {
  "@webio": {
   "lastCommId": null,
   "lastKernelId": null
  },
  "kernelspec": {
   "display_name": "Julia 1.9.3",
   "language": "julia",
   "name": "julia-1.9"
  },
  "language_info": {
   "file_extension": ".jl",
   "mimetype": "application/julia",
   "name": "julia",
   "version": "1.9.3"
  }
 },
 "nbformat": 4,
 "nbformat_minor": 4
}
