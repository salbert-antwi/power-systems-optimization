{
 "cells": [
  {
   "cell_type": "code",
   "execution_count": 1,
   "id": "17b2c57a",
   "metadata": {},
   "outputs": [
    {
     "name": "stderr",
     "output_type": "stream",
     "text": [
      "\u001b[32m\u001b[1m    Updating\u001b[22m\u001b[39m registry at `C:\\Users\\44780\\.julia\\registries\\General.toml`\n",
      "\u001b[32m\u001b[1m   Resolving\u001b[22m\u001b[39m package versions...\n",
      "\u001b[32m\u001b[1m  No Changes\u001b[22m\u001b[39m to `C:\\Users\\44780\\.julia\\environments\\v1.9\\Project.toml`\n",
      "\u001b[32m\u001b[1m  No Changes\u001b[22m\u001b[39m to `C:\\Users\\44780\\.julia\\environments\\v1.9\\Manifest.toml`\n",
      "\u001b[32m\u001b[1m   Resolving\u001b[22m\u001b[39m package versions...\n",
      "\u001b[32m\u001b[1m  No Changes\u001b[22m\u001b[39m to `C:\\Users\\44780\\.julia\\environments\\v1.9\\Project.toml`\n",
      "\u001b[32m\u001b[1m  No Changes\u001b[22m\u001b[39m to `C:\\Users\\44780\\.julia\\environments\\v1.9\\Manifest.toml`\n"
     ]
    }
   ],
   "source": [
    "# load all packages in Julia\n",
    "import Pkg; Pkg.add(\"VegaLite\"); Pkg.add(\"PrettyTables\")\n",
    "using JuMP, HiGHS\n",
    "using Plots;\n",
    "using VegaLite  # to make some nice plots\n",
    "using DataFrames, CSV, PrettyTables\n",
    "ENV[\"COLUMNS\"]=120; # Set so all columns of DataFrames and Matrices are displayed"
   ]
  },
  {
   "cell_type": "code",
   "execution_count": 48,
   "id": "0b37038b",
   "metadata": {},
   "outputs": [
    {
     "data": {
      "text/html": [
       "<div><div style = \"float: left;\"><span>102×8 DataFrame</span></div><div style = \"float: right;\"><span style = \"font-style: italic;\">77 rows omitted</span></div><div style = \"clear: both;\"></div></div><div class = \"data-frame\" style = \"overflow-x: scroll;\"><table class = \"data-frame\" style = \"margin-bottom: 6px;\"><thead><tr class = \"header\"><th class = \"rowNumber\" style = \"font-weight: bold; text-align: right;\">Row</th><th style = \"text-align: left;\">fromnode</th><th style = \"text-align: left;\">tonode</th><th style = \"text-align: left;\">resistance</th><th style = \"text-align: left;\">reactance</th><th style = \"text-align: left;\">contingencymarked</th><th style = \"text-align: left;\">capacity</th><th style = \"text-align: left;\">id</th><th style = \"text-align: left;\">b</th></tr><tr class = \"subheader headerLastRow\"><th class = \"rowNumber\" style = \"font-weight: bold; text-align: right;\"></th><th title = \"Int64\" style = \"text-align: left;\">Int64</th><th title = \"Int64\" style = \"text-align: left;\">Int64</th><th title = \"Float64\" style = \"text-align: left;\">Float64</th><th title = \"Float64\" style = \"text-align: left;\">Float64</th><th title = \"Int64\" style = \"text-align: left;\">Int64</th><th title = \"Int64\" style = \"text-align: left;\">Int64</th><th title = \"Int64\" style = \"text-align: left;\">Int64</th><th title = \"Float64\" style = \"text-align: left;\">Float64</th></tr></thead><tbody><tr><td class = \"rowNumber\" style = \"font-weight: bold; text-align: right;\">1</td><td style = \"text-align: right;\">1</td><td style = \"text-align: right;\">2</td><td style = \"text-align: right;\">0.0122</td><td style = \"text-align: right;\">0.02</td><td style = \"text-align: right;\">1</td><td style = \"text-align: right;\">5250</td><td style = \"text-align: right;\">1</td><td style = \"text-align: right;\">0.0856</td></tr><tr><td class = \"rowNumber\" style = \"font-weight: bold; text-align: right;\">2</td><td style = \"text-align: right;\">1</td><td style = \"text-align: right;\">3</td><td style = \"text-align: right;\">0.007</td><td style = \"text-align: right;\">0.15</td><td style = \"text-align: right;\">1</td><td style = \"text-align: right;\">1320</td><td style = \"text-align: right;\">2</td><td style = \"text-align: right;\">0.052</td></tr><tr><td class = \"rowNumber\" style = \"font-weight: bold; text-align: right;\">3</td><td style = \"text-align: right;\">2</td><td style = \"text-align: right;\">4</td><td style = \"text-align: right;\">0.0004</td><td style = \"text-align: right;\">0.065</td><td style = \"text-align: right;\">1</td><td style = \"text-align: right;\">7600</td><td style = \"text-align: right;\">3</td><td style = \"text-align: right;\">0.4454</td></tr><tr><td class = \"rowNumber\" style = \"font-weight: bold; text-align: right;\">4</td><td style = \"text-align: right;\">3</td><td style = \"text-align: right;\">4</td><td style = \"text-align: right;\">0.003</td><td style = \"text-align: right;\">0.041</td><td style = \"text-align: right;\">1</td><td style = \"text-align: right;\">6480</td><td style = \"text-align: right;\">4</td><td style = \"text-align: right;\">0.0044</td></tr><tr><td class = \"rowNumber\" style = \"font-weight: bold; text-align: right;\">5</td><td style = \"text-align: right;\">4</td><td style = \"text-align: right;\">6</td><td style = \"text-align: right;\">0.0013</td><td style = \"text-align: right;\">0.023</td><td style = \"text-align: right;\">1</td><td style = \"text-align: right;\">15000</td><td style = \"text-align: right;\">5</td><td style = \"text-align: right;\">0.1496</td></tr><tr><td class = \"rowNumber\" style = \"font-weight: bold; text-align: right;\">6</td><td style = \"text-align: right;\">4</td><td style = \"text-align: right;\">7</td><td style = \"text-align: right;\">0.001</td><td style = \"text-align: right;\">0.024</td><td style = \"text-align: right;\">1</td><td style = \"text-align: right;\">10000</td><td style = \"text-align: right;\">6</td><td style = \"text-align: right;\">0.125</td></tr><tr><td class = \"rowNumber\" style = \"font-weight: bold; text-align: right;\">7</td><td style = \"text-align: right;\">4</td><td style = \"text-align: right;\">5</td><td style = \"text-align: right;\">0.0021</td><td style = \"text-align: right;\">0.0135</td><td style = \"text-align: right;\">1</td><td style = \"text-align: right;\">10900</td><td style = \"text-align: right;\">7</td><td style = \"text-align: right;\">0.1538</td></tr><tr><td class = \"rowNumber\" style = \"font-weight: bold; text-align: right;\">8</td><td style = \"text-align: right;\">7</td><td style = \"text-align: right;\">6</td><td style = \"text-align: right;\">0.00151</td><td style = \"text-align: right;\">0.01613</td><td style = \"text-align: right;\">1</td><td style = \"text-align: right;\">13900</td><td style = \"text-align: right;\">8</td><td style = \"text-align: right;\">0.59296</td></tr><tr><td class = \"rowNumber\" style = \"font-weight: bold; text-align: right;\">9</td><td style = \"text-align: right;\">7</td><td style = \"text-align: right;\">8</td><td style = \"text-align: right;\">1.0e-6</td><td style = \"text-align: right;\">0.0001</td><td style = \"text-align: right;\">1</td><td style = \"text-align: right;\">22000</td><td style = \"text-align: right;\">9</td><td style = \"text-align: right;\">1.0e-6</td></tr><tr><td class = \"rowNumber\" style = \"font-weight: bold; text-align: right;\">10</td><td style = \"text-align: right;\">6</td><td style = \"text-align: right;\">9</td><td style = \"text-align: right;\">0.00078</td><td style = \"text-align: right;\">0.00852</td><td style = \"text-align: right;\">1</td><td style = \"text-align: right;\">21000</td><td style = \"text-align: right;\">10</td><td style = \"text-align: right;\">0.0737</td></tr><tr><td class = \"rowNumber\" style = \"font-weight: bold; text-align: right;\">11</td><td style = \"text-align: right;\">5</td><td style = \"text-align: right;\">10</td><td style = \"text-align: right;\">0.0004</td><td style = \"text-align: right;\">0.0001</td><td style = \"text-align: right;\">1</td><td style = \"text-align: right;\">21800</td><td style = \"text-align: right;\">11</td><td style = \"text-align: right;\">0.728</td></tr><tr><td class = \"rowNumber\" style = \"font-weight: bold; text-align: right;\">12</td><td style = \"text-align: right;\">5</td><td style = \"text-align: right;\">6</td><td style = \"text-align: right;\">0.003</td><td style = \"text-align: right;\">0.2</td><td style = \"text-align: right;\">1</td><td style = \"text-align: right;\">9500</td><td style = \"text-align: right;\">12</td><td style = \"text-align: right;\">0.2939</td></tr><tr><td class = \"rowNumber\" style = \"font-weight: bold; text-align: right;\">13</td><td style = \"text-align: right;\">10</td><td style = \"text-align: right;\">11</td><td style = \"text-align: right;\">0.00083</td><td style = \"text-align: right;\">0.0175</td><td style = \"text-align: right;\">1</td><td style = \"text-align: right;\">30700</td><td style = \"text-align: right;\">13</td><td style = \"text-align: right;\">0.6624</td></tr><tr><td style = \"text-align: right;\">&vellip;</td><td style = \"text-align: right;\">&vellip;</td><td style = \"text-align: right;\">&vellip;</td><td style = \"text-align: right;\">&vellip;</td><td style = \"text-align: right;\">&vellip;</td><td style = \"text-align: right;\">&vellip;</td><td style = \"text-align: right;\">&vellip;</td><td style = \"text-align: right;\">&vellip;</td><td style = \"text-align: right;\">&vellip;</td></tr><tr><td class = \"rowNumber\" style = \"font-weight: bold; text-align: right;\">91</td><td style = \"text-align: right;\">17</td><td style = \"text-align: right;\">19</td><td style = \"text-align: right;\">0.00178</td><td style = \"text-align: right;\">0.0172</td><td style = \"text-align: right;\">1</td><td style = \"text-align: right;\">20100</td><td style = \"text-align: right;\">40</td><td style = \"text-align: right;\">0.8403</td></tr><tr><td class = \"rowNumber\" style = \"font-weight: bold; text-align: right;\">92</td><td style = \"text-align: right;\">25</td><td style = \"text-align: right;\">19</td><td style = \"text-align: right;\">0.00034</td><td style = \"text-align: right;\">0.0041</td><td style = \"text-align: right;\">1</td><td style = \"text-align: right;\">32750</td><td style = \"text-align: right;\">41</td><td style = \"text-align: right;\">0.429</td></tr><tr><td class = \"rowNumber\" style = \"font-weight: bold; text-align: right;\">93</td><td style = \"text-align: right;\">24</td><td style = \"text-align: right;\">19</td><td style = \"text-align: right;\">0.00048</td><td style = \"text-align: right;\">0.0061</td><td style = \"text-align: right;\">1</td><td style = \"text-align: right;\">27800</td><td style = \"text-align: right;\">42</td><td style = \"text-align: right;\">0.3041</td></tr><tr><td class = \"rowNumber\" style = \"font-weight: bold; text-align: right;\">94</td><td style = \"text-align: right;\">26</td><td style = \"text-align: right;\">20</td><td style = \"text-align: right;\">0.00151</td><td style = \"text-align: right;\">0.0182</td><td style = \"text-align: right;\">1</td><td style = \"text-align: right;\">20100</td><td style = \"text-align: right;\">43</td><td style = \"text-align: right;\">0.53</td></tr><tr><td class = \"rowNumber\" style = \"font-weight: bold; text-align: right;\">95</td><td style = \"text-align: right;\">29</td><td style = \"text-align: right;\">20</td><td style = \"text-align: right;\">0.00086</td><td style = \"text-align: right;\">0.0008</td><td style = \"text-align: right;\">1</td><td style = \"text-align: right;\">27800</td><td style = \"text-align: right;\">44</td><td style = \"text-align: right;\">0.9622</td></tr><tr><td class = \"rowNumber\" style = \"font-weight: bold; text-align: right;\">96</td><td style = \"text-align: right;\">19</td><td style = \"text-align: right;\">20</td><td style = \"text-align: right;\">0.00039</td><td style = \"text-align: right;\">0.003</td><td style = \"text-align: right;\">1</td><td style = \"text-align: right;\">27700</td><td style = \"text-align: right;\">45</td><td style = \"text-align: right;\">0.2466</td></tr><tr><td class = \"rowNumber\" style = \"font-weight: bold; text-align: right;\">97</td><td style = \"text-align: right;\">27</td><td style = \"text-align: right;\">29</td><td style = \"text-align: right;\">0.00068</td><td style = \"text-align: right;\">0.007</td><td style = \"text-align: right;\">1</td><td style = \"text-align: right;\">22100</td><td style = \"text-align: right;\">46</td><td style = \"text-align: right;\">0.2388</td></tr><tr><td class = \"rowNumber\" style = \"font-weight: bold; text-align: right;\">98</td><td style = \"text-align: right;\">25</td><td style = \"text-align: right;\">29</td><td style = \"text-align: right;\">0.00104</td><td style = \"text-align: right;\">0.0091</td><td style = \"text-align: right;\">1</td><td style = \"text-align: right;\">13900</td><td style = \"text-align: right;\">47</td><td style = \"text-align: right;\">0.2918</td></tr><tr><td class = \"rowNumber\" style = \"font-weight: bold; text-align: right;\">99</td><td style = \"text-align: right;\">22</td><td style = \"text-align: right;\">25</td><td style = \"text-align: right;\">0.0002</td><td style = \"text-align: right;\">0.0057</td><td style = \"text-align: right;\">1</td><td style = \"text-align: right;\">69600</td><td style = \"text-align: right;\">48</td><td style = \"text-align: right;\">0.532</td></tr><tr><td class = \"rowNumber\" style = \"font-weight: bold; text-align: right;\">100</td><td style = \"text-align: right;\">22</td><td style = \"text-align: right;\">28</td><td style = \"text-align: right;\">0.0002</td><td style = \"text-align: right;\">0.00503</td><td style = \"text-align: right;\">1</td><td style = \"text-align: right;\">31000</td><td style = \"text-align: right;\">49</td><td style = \"text-align: right;\">0.1797</td></tr><tr><td class = \"rowNumber\" style = \"font-weight: bold; text-align: right;\">101</td><td style = \"text-align: right;\">28</td><td style = \"text-align: right;\">27</td><td style = \"text-align: right;\">0.00038</td><td style = \"text-align: right;\">0.00711</td><td style = \"text-align: right;\">1</td><td style = \"text-align: right;\">30700</td><td style = \"text-align: right;\">50</td><td style = \"text-align: right;\">0.2998</td></tr><tr><td class = \"rowNumber\" style = \"font-weight: bold; text-align: right;\">102</td><td style = \"text-align: right;\">27</td><td style = \"text-align: right;\">26</td><td style = \"text-align: right;\">0.00051</td><td style = \"text-align: right;\">0.00796</td><td style = \"text-align: right;\">1</td><td style = \"text-align: right;\">27800</td><td style = \"text-align: right;\">51</td><td style = \"text-align: right;\">0.34</td></tr></tbody></table></div>"
      ],
      "text/latex": [
       "\\begin{tabular}{r|cccccccc}\n",
       "\t& fromnode & tonode & resistance & reactance & contingencymarked & capacity & id & b\\\\\n",
       "\t\\hline\n",
       "\t& Int64 & Int64 & Float64 & Float64 & Int64 & Int64 & Int64 & Float64\\\\\n",
       "\t\\hline\n",
       "\t1 & 1 & 2 & 0.0122 & 0.02 & 1 & 5250 & 1 & 0.0856 \\\\\n",
       "\t2 & 1 & 3 & 0.007 & 0.15 & 1 & 1320 & 2 & 0.052 \\\\\n",
       "\t3 & 2 & 4 & 0.0004 & 0.065 & 1 & 7600 & 3 & 0.4454 \\\\\n",
       "\t4 & 3 & 4 & 0.003 & 0.041 & 1 & 6480 & 4 & 0.0044 \\\\\n",
       "\t5 & 4 & 6 & 0.0013 & 0.023 & 1 & 15000 & 5 & 0.1496 \\\\\n",
       "\t6 & 4 & 7 & 0.001 & 0.024 & 1 & 10000 & 6 & 0.125 \\\\\n",
       "\t7 & 4 & 5 & 0.0021 & 0.0135 & 1 & 10900 & 7 & 0.1538 \\\\\n",
       "\t8 & 7 & 6 & 0.00151 & 0.01613 & 1 & 13900 & 8 & 0.59296 \\\\\n",
       "\t9 & 7 & 8 & 1.0e-6 & 0.0001 & 1 & 22000 & 9 & 1.0e-6 \\\\\n",
       "\t10 & 6 & 9 & 0.00078 & 0.00852 & 1 & 21000 & 10 & 0.0737 \\\\\n",
       "\t11 & 5 & 10 & 0.0004 & 0.0001 & 1 & 21800 & 11 & 0.728 \\\\\n",
       "\t12 & 5 & 6 & 0.003 & 0.2 & 1 & 9500 & 12 & 0.2939 \\\\\n",
       "\t13 & 10 & 11 & 0.00083 & 0.0175 & 1 & 30700 & 13 & 0.6624 \\\\\n",
       "\t14 & 9 & 13 & 0.00164 & 0.0163 & 1 & 13900 & 14 & 0.4868 \\\\\n",
       "\t15 & 9 & 11 & 0.00492 & 0.0343 & 1 & 7750 & 15 & 0.2502 \\\\\n",
       "\t16 & 11 & 12 & 0.00053 & 0.00835 & 1 & 48400 & 16 & 5.373 \\\\\n",
       "\t17 & 13 & 12 & 0.0007 & 0.042 & 1 & 25200 & 17 & 0.3907 \\\\\n",
       "\t18 & 13 & 14 & 0.0004 & 0.0052 & 1 & 22100 & 18 & 0.2664 \\\\\n",
       "\t19 & 13 & 8 & 0.0001 & 0.0085 & 1 & 33200 & 19 & 0.0798 \\\\\n",
       "\t20 & 8 & 15 & 0.00097 & 0.009 & 1 & 24000 & 20 & 0.3835 \\\\\n",
       "\t21 & 8 & 14 & 0.00096 & 0.01078 & 1 & 31000 & 21 & 0.385 \\\\\n",
       "\t22 & 14 & 15 & 0.00049 & 0.007 & 1 & 24000 & 22 & 0.1943 \\\\\n",
       "\t23 & 14 & 12 & 0.00164 & 0.023 & 1 & 9550 & 23 & 0.1104 \\\\\n",
       "\t24 & 14 & 16 & 0.00107 & 0.01163 & 1 & 10400 & 24 & 1.1745 \\\\\n",
       "\t25 & 16 & 17 & 0.0005 & 0.016 & 1 & 25800 & 25 & 0.2795 \\\\\n",
       "\t26 & 12 & 17 & 0.00033 & 0.0052 & 1 & 27700 & 26 & 0.3534 \\\\\n",
       "\t27 & 12 & 16 & 0.00018 & 0.00222 & 1 & 50000 & 27 & 0.5573 \\\\\n",
       "\t28 & 17 & 15 & 0.00056 & 0.0141 & 1 & 38200 & 28 & 0.4496 \\\\\n",
       "\t29 & 26 & 17 & 0.001 & 0.01072 & 1 & 21500 & 29 & 0.2651 \\\\\n",
       "\t30 & 18 & 17 & 0.001 & 0.01072 & 1 & 18900 & 30 & 0.4573 \\\\\n",
       "\t$\\dots$ & $\\dots$ & $\\dots$ & $\\dots$ & $\\dots$ & $\\dots$ & $\\dots$ & $\\dots$ & $\\dots$ \\\\\n",
       "\\end{tabular}\n"
      ],
      "text/plain": [
       "\u001b[1m102×8 DataFrame\u001b[0m\n",
       "\u001b[1m Row \u001b[0m│\u001b[1m fromnode \u001b[0m\u001b[1m tonode \u001b[0m\u001b[1m resistance \u001b[0m\u001b[1m reactance \u001b[0m\u001b[1m contingencymarked \u001b[0m\u001b[1m capacity \u001b[0m\u001b[1m id    \u001b[0m\u001b[1m b       \u001b[0m\n",
       "     │\u001b[90m Int64    \u001b[0m\u001b[90m Int64  \u001b[0m\u001b[90m Float64    \u001b[0m\u001b[90m Float64   \u001b[0m\u001b[90m Int64             \u001b[0m\u001b[90m Int64    \u001b[0m\u001b[90m Int64 \u001b[0m\u001b[90m Float64 \u001b[0m\n",
       "─────┼──────────────────────────────────────────────────────────────────────────────────────\n",
       "   1 │        1       2     0.0122     0.02                     1      5250      1  0.0856\n",
       "   2 │        1       3     0.007      0.15                     1      1320      2  0.052\n",
       "   3 │        2       4     0.0004     0.065                    1      7600      3  0.4454\n",
       "   4 │        3       4     0.003      0.041                    1      6480      4  0.0044\n",
       "   5 │        4       6     0.0013     0.023                    1     15000      5  0.1496\n",
       "   6 │        4       7     0.001      0.024                    1     10000      6  0.125\n",
       "   7 │        4       5     0.0021     0.0135                   1     10900      7  0.1538\n",
       "   8 │        7       6     0.00151    0.01613                  1     13900      8  0.59296\n",
       "   9 │        7       8     1.0e-6     0.0001                   1     22000      9  1.0e-6\n",
       "  10 │        6       9     0.00078    0.00852                  1     21000     10  0.0737\n",
       "  11 │        5      10     0.0004     0.0001                   1     21800     11  0.728\n",
       "  ⋮  │    ⋮        ⋮         ⋮           ⋮              ⋮             ⋮        ⋮       ⋮\n",
       "  93 │       24      19     0.00048    0.0061                   1     27800     42  0.3041\n",
       "  94 │       26      20     0.00151    0.0182                   1     20100     43  0.53\n",
       "  95 │       29      20     0.00086    0.0008                   1     27800     44  0.9622\n",
       "  96 │       19      20     0.00039    0.003                    1     27700     45  0.2466\n",
       "  97 │       27      29     0.00068    0.007                    1     22100     46  0.2388\n",
       "  98 │       25      29     0.00104    0.0091                   1     13900     47  0.2918\n",
       "  99 │       22      25     0.0002     0.0057                   1     69600     48  0.532\n",
       " 100 │       22      28     0.0002     0.00503                  1     31000     49  0.1797\n",
       " 101 │       28      27     0.00038    0.00711                  1     30700     50  0.2998\n",
       " 102 │       27      26     0.00051    0.00796                  1     27800     51  0.34\n",
       "\u001b[36m                                                                             81 rows omitted\u001b[0m"
      ]
     },
     "execution_count": 48,
     "metadata": {},
     "output_type": "execute_result"
    }
   ],
   "source": [
    "#open csv files to define sets, lines, gens and and loads/demand\n",
    "datadir = joinpath(\"ReducedNetwork\") \n",
    "gens = CSV.read(joinpath(datadir,\"UpdateGenRedNet.csv\"), DataFrame);\n",
    "lines = CSV.read(joinpath(datadir,\"NoParTransRedNet.csv\"), DataFrame);\n",
    "loads = CSV.read(joinpath(datadir,\"demandRedNet.csv\"), DataFrame);\n",
    "\n",
    "\n",
    "# Rename all columns to lowercase (by convention)\n",
    "for f in [gens, lines, loads]\n",
    "    rename!(f,lowercase.(names(f)))\n",
    "end\n",
    "\n",
    "# create generator ids #changed to read columns rather than rows\n",
    "gens.id = 1:nrow(gens);\n",
    "\n",
    "# create line ids \n",
    "lines.id = 1:nrow(lines);\n",
    "# add set of rows for reverse direction with same parameters\n",
    "\n",
    "lines2 = copy(lines)\n",
    "lines2.f = lines2.fromnode\n",
    "lines2.fromnode = lines.tonode\n",
    "lines2.tonode = lines.fromnode\n",
    "lines2 = lines2[:,names(lines)]\n",
    "append!(lines,lines2)\n",
    "\n",
    "lines.capacity = 10*lines.capacity\n",
    "# calculate simple susceptance, ignoring resistance as earlier \n",
    "#lines.b = 1 ./ lines.reactance\n",
    "\n",
    "# keep only a single time period\n",
    "#loads = loads[:,[\"connnode\",\"interval-1_load\"]]\n",
    "#rename!(loads,\"interval-1_load\" => \"demand\");\n",
    "\n",
    "lines"
   ]
  },
  {
   "cell_type": "code",
   "execution_count": 31,
   "id": "c47c5316",
   "metadata": {},
   "outputs": [
    {
     "data": {
      "text/plain": [
       "237270.089959114"
      ]
     },
     "execution_count": 31,
     "metadata": {},
     "output_type": "execute_result"
    }
   ],
   "source": [
    "sum(gens.pgmax)"
   ]
  },
  {
   "cell_type": "code",
   "execution_count": 32,
   "id": "cdd9e16a",
   "metadata": {},
   "outputs": [
    {
     "data": {
      "text/plain": [
       "-73847.1343515"
      ]
     },
     "execution_count": 32,
     "metadata": {},
     "output_type": "execute_result"
    }
   ],
   "source": [
    "sum(loads.demand)"
   ]
  },
  {
   "cell_type": "code",
   "execution_count": 5,
   "id": "eb918835",
   "metadata": {},
   "outputs": [
    {
     "data": {
      "text/html": [
       "<div><div style = \"float: left;\"><span>29×7 DataFrame</span></div><div style = \"float: right;\"><span style = \"font-style: italic;\">4 rows omitted</span></div><div style = \"clear: both;\"></div></div><div class = \"data-frame\" style = \"overflow-x: scroll;\"><table class = \"data-frame\" style = \"margin-bottom: 6px;\"><thead><tr class = \"header\"><th class = \"rowNumber\" style = \"font-weight: bold; text-align: right;\">Row</th><th style = \"text-align: left;\">connnode</th><th style = \"text-align: left;\">demand</th><th style = \"text-align: left;\">column3</th><th style = \"text-align: left;\">column4</th><th style = \"text-align: left;\">column5</th><th style = \"text-align: left;\">column6</th><th style = \"text-align: left;\">column7</th></tr><tr class = \"subheader headerLastRow\"><th class = \"rowNumber\" style = \"font-weight: bold; text-align: right;\"></th><th title = \"Int64\" style = \"text-align: left;\">Int64</th><th title = \"Float64\" style = \"text-align: left;\">Float64</th><th title = \"Missing\" style = \"text-align: left;\">Missing</th><th title = \"Missing\" style = \"text-align: left;\">Missing</th><th title = \"Missing\" style = \"text-align: left;\">Missing</th><th title = \"String31\" style = \"text-align: left;\">String31</th><th title = \"Int64\" style = \"text-align: left;\">Int64</th></tr></thead><tbody><tr><td class = \"rowNumber\" style = \"font-weight: bold; text-align: right;\">1</td><td style = \"text-align: right;\">1</td><td style = \"text-align: right;\">-390.3</td><td style = \"font-style: italic; text-align: right;\">missing</td><td style = \"font-style: italic; text-align: right;\">missing</td><td style = \"font-style: italic; text-align: right;\">missing</td><td style = \"text-align: left;\">Beauly</td><td style = \"text-align: right;\">1</td></tr><tr><td class = \"rowNumber\" style = \"font-weight: bold; text-align: right;\">2</td><td style = \"text-align: right;\">2</td><td style = \"text-align: right;\">-624.695</td><td style = \"font-style: italic; text-align: right;\">missing</td><td style = \"font-style: italic; text-align: right;\">missing</td><td style = \"font-style: italic; text-align: right;\">missing</td><td style = \"text-align: left;\">Peterhead</td><td style = \"text-align: right;\">2</td></tr><tr><td class = \"rowNumber\" style = \"font-weight: bold; text-align: right;\">3</td><td style = \"text-align: right;\">3</td><td style = \"text-align: right;\">-202.172</td><td style = \"font-style: italic; text-align: right;\">missing</td><td style = \"font-style: italic; text-align: right;\">missing</td><td style = \"font-style: italic; text-align: right;\">missing</td><td style = \"text-align: left;\">Errochty</td><td style = \"text-align: right;\">3</td></tr><tr><td class = \"rowNumber\" style = \"font-weight: bold; text-align: right;\">4</td><td style = \"text-align: right;\">4</td><td style = \"text-align: right;\">-1828.53</td><td style = \"font-style: italic; text-align: right;\">missing</td><td style = \"font-style: italic; text-align: right;\">missing</td><td style = \"font-style: italic; text-align: right;\">missing</td><td style = \"text-align: left;\">Denny/Bonnybridge</td><td style = \"text-align: right;\">4</td></tr><tr><td class = \"rowNumber\" style = \"font-weight: bold; text-align: right;\">5</td><td style = \"text-align: right;\">7</td><td style = \"text-align: right;\">-2168.74</td><td style = \"font-style: italic; text-align: right;\">missing</td><td style = \"font-style: italic; text-align: right;\">missing</td><td style = \"font-style: italic; text-align: right;\">missing</td><td style = \"text-align: left;\">Neilston</td><td style = \"text-align: right;\">7</td></tr><tr><td class = \"rowNumber\" style = \"font-weight: bold; text-align: right;\">6</td><td style = \"text-align: right;\">6</td><td style = \"text-align: right;\">-660.162</td><td style = \"font-style: italic; text-align: right;\">missing</td><td style = \"font-style: italic; text-align: right;\">missing</td><td style = \"font-style: italic; text-align: right;\">missing</td><td style = \"text-align: left;\">Strathaven</td><td style = \"text-align: right;\">6</td></tr><tr><td class = \"rowNumber\" style = \"font-weight: bold; text-align: right;\">7</td><td style = \"text-align: right;\">5</td><td style = \"text-align: right;\">-572.218</td><td style = \"font-style: italic; text-align: right;\">missing</td><td style = \"font-style: italic; text-align: right;\">missing</td><td style = \"font-style: italic; text-align: right;\">missing</td><td style = \"text-align: left;\">Torness</td><td style = \"text-align: right;\">5</td></tr><tr><td class = \"rowNumber\" style = \"font-weight: bold; text-align: right;\">8</td><td style = \"text-align: right;\">10</td><td style = \"text-align: right;\">-162.219</td><td style = \"font-style: italic; text-align: right;\">missing</td><td style = \"font-style: italic; text-align: right;\">missing</td><td style = \"font-style: italic; text-align: right;\">missing</td><td style = \"text-align: left;\">Eccles</td><td style = \"text-align: right;\">10</td></tr><tr><td class = \"rowNumber\" style = \"font-weight: bold; text-align: right;\">9</td><td style = \"text-align: right;\">9</td><td style = \"text-align: right;\">-581.174</td><td style = \"font-style: italic; text-align: right;\">missing</td><td style = \"font-style: italic; text-align: right;\">missing</td><td style = \"font-style: italic; text-align: right;\">missing</td><td style = \"text-align: left;\">Harker</td><td style = \"text-align: right;\">9</td></tr><tr><td class = \"rowNumber\" style = \"font-weight: bold; text-align: right;\">10</td><td style = \"text-align: right;\">11</td><td style = \"text-align: right;\">-3507.74</td><td style = \"font-style: italic; text-align: right;\">missing</td><td style = \"font-style: italic; text-align: right;\">missing</td><td style = \"font-style: italic; text-align: right;\">missing</td><td style = \"text-align: left;\">Stella West</td><td style = \"text-align: right;\">11</td></tr><tr><td class = \"rowNumber\" style = \"font-weight: bold; text-align: right;\">11</td><td style = \"text-align: right;\">13</td><td style = \"text-align: right;\">-1959.87</td><td style = \"font-style: italic; text-align: right;\">missing</td><td style = \"font-style: italic; text-align: right;\">missing</td><td style = \"font-style: italic; text-align: right;\">missing</td><td style = \"text-align: left;\">Penwortham</td><td style = \"text-align: right;\">13</td></tr><tr><td class = \"rowNumber\" style = \"font-weight: bold; text-align: right;\">12</td><td style = \"text-align: right;\">8</td><td style = \"text-align: right;\">-3956.87</td><td style = \"font-style: italic; text-align: right;\">missing</td><td style = \"font-style: italic; text-align: right;\">missing</td><td style = \"font-style: italic; text-align: right;\">missing</td><td style = \"text-align: left;\">Deeside</td><td style = \"text-align: right;\">8</td></tr><tr><td class = \"rowNumber\" style = \"font-weight: bold; text-align: right;\">13</td><td style = \"text-align: right;\">14</td><td style = \"text-align: right;\">-4011.53</td><td style = \"font-style: italic; text-align: right;\">missing</td><td style = \"font-style: italic; text-align: right;\">missing</td><td style = \"font-style: italic; text-align: right;\">missing</td><td style = \"text-align: left;\">Daines</td><td style = \"text-align: right;\">14</td></tr><tr><td style = \"text-align: right;\">&vellip;</td><td style = \"text-align: right;\">&vellip;</td><td style = \"text-align: right;\">&vellip;</td><td style = \"text-align: right;\">&vellip;</td><td style = \"text-align: right;\">&vellip;</td><td style = \"text-align: right;\">&vellip;</td><td style = \"text-align: right;\">&vellip;</td><td style = \"text-align: right;\">&vellip;</td></tr><tr><td class = \"rowNumber\" style = \"font-weight: bold; text-align: right;\">18</td><td style = \"text-align: right;\">15</td><td style = \"text-align: right;\">-5457.76</td><td style = \"font-style: italic; text-align: right;\">missing</td><td style = \"font-style: italic; text-align: right;\">missing</td><td style = \"font-style: italic; text-align: right;\">missing</td><td style = \"text-align: left;\">Feckenham</td><td style = \"text-align: right;\">15</td></tr><tr><td class = \"rowNumber\" style = \"font-weight: bold; text-align: right;\">19</td><td style = \"text-align: right;\">23</td><td style = \"text-align: right;\">-1280.02</td><td style = \"font-style: italic; text-align: right;\">missing</td><td style = \"font-style: italic; text-align: right;\">missing</td><td style = \"font-style: italic; text-align: right;\">missing</td><td style = \"text-align: left;\">Walpole</td><td style = \"text-align: right;\">23</td></tr><tr><td class = \"rowNumber\" style = \"font-weight: bold; text-align: right;\">20</td><td style = \"text-align: right;\">21</td><td style = \"text-align: right;\">-1938.79</td><td style = \"font-style: italic; text-align: right;\">missing</td><td style = \"font-style: italic; text-align: right;\">missing</td><td style = \"font-style: italic; text-align: right;\">missing</td><td style = \"text-align: left;\">Bramford</td><td style = \"text-align: right;\">21</td></tr><tr><td class = \"rowNumber\" style = \"font-weight: bold; text-align: right;\">21</td><td style = \"text-align: right;\">24</td><td style = \"text-align: right;\">-1217.97</td><td style = \"font-style: italic; text-align: right;\">missing</td><td style = \"font-style: italic; text-align: right;\">missing</td><td style = \"font-style: italic; text-align: right;\">missing</td><td style = \"text-align: left;\">Pelham</td><td style = \"text-align: right;\">24</td></tr><tr><td class = \"rowNumber\" style = \"font-weight: bold; text-align: right;\">22</td><td style = \"text-align: right;\">19</td><td style = \"text-align: right;\">-4018.08</td><td style = \"font-style: italic; text-align: right;\">missing</td><td style = \"font-style: italic; text-align: right;\">missing</td><td style = \"font-style: italic; text-align: right;\">missing</td><td style = \"text-align: left;\">Sundon/East Claydon</td><td style = \"text-align: right;\">19</td></tr><tr><td class = \"rowNumber\" style = \"font-weight: bold; text-align: right;\">23</td><td style = \"text-align: right;\">20</td><td style = \"text-align: right;\">-5241.23</td><td style = \"font-style: italic; text-align: right;\">missing</td><td style = \"font-style: italic; text-align: right;\">missing</td><td style = \"font-style: italic; text-align: right;\">missing</td><td style = \"text-align: left;\">Melksham</td><td style = \"text-align: right;\">20</td></tr><tr><td class = \"rowNumber\" style = \"font-weight: bold; text-align: right;\">24</td><td style = \"text-align: right;\">29</td><td style = \"text-align: right;\">-1812.56</td><td style = \"font-style: italic; text-align: right;\">missing</td><td style = \"font-style: italic; text-align: right;\">missing</td><td style = \"font-style: italic; text-align: right;\">missing</td><td style = \"text-align: left;\">Bramley</td><td style = \"text-align: right;\">29</td></tr><tr><td class = \"rowNumber\" style = \"font-weight: bold; text-align: right;\">25</td><td style = \"text-align: right;\">25</td><td style = \"text-align: right;\">-12013.2</td><td style = \"font-style: italic; text-align: right;\">missing</td><td style = \"font-style: italic; text-align: right;\">missing</td><td style = \"font-style: italic; text-align: right;\">missing</td><td style = \"text-align: left;\">London</td><td style = \"text-align: right;\">25</td></tr><tr><td class = \"rowNumber\" style = \"font-weight: bold; text-align: right;\">26</td><td style = \"text-align: right;\">22</td><td style = \"text-align: right;\">-2016.52</td><td style = \"font-style: italic; text-align: right;\">missing</td><td style = \"font-style: italic; text-align: right;\">missing</td><td style = \"font-style: italic; text-align: right;\">missing</td><td style = \"text-align: left;\">Kemsley</td><td style = \"text-align: right;\">22</td></tr><tr><td class = \"rowNumber\" style = \"font-weight: bold; text-align: right;\">27</td><td style = \"text-align: right;\">28</td><td style = \"text-align: right;\">-1212.66</td><td style = \"font-style: italic; text-align: right;\">missing</td><td style = \"font-style: italic; text-align: right;\">missing</td><td style = \"font-style: italic; text-align: right;\">missing</td><td style = \"text-align: left;\">Sellindge</td><td style = \"text-align: right;\">28</td></tr><tr><td class = \"rowNumber\" style = \"font-weight: bold; text-align: right;\">28</td><td style = \"text-align: right;\">27</td><td style = \"text-align: right;\">-2999.87</td><td style = \"font-style: italic; text-align: right;\">missing</td><td style = \"font-style: italic; text-align: right;\">missing</td><td style = \"font-style: italic; text-align: right;\">missing</td><td style = \"text-align: left;\">Lovedean</td><td style = \"text-align: right;\">27</td></tr><tr><td class = \"rowNumber\" style = \"font-weight: bold; text-align: right;\">29</td><td style = \"text-align: right;\">26</td><td style = \"text-align: right;\">-3965.64</td><td style = \"font-style: italic; text-align: right;\">missing</td><td style = \"font-style: italic; text-align: right;\">missing</td><td style = \"font-style: italic; text-align: right;\">missing</td><td style = \"text-align: left;\">S.W.Penisula</td><td style = \"text-align: right;\">26</td></tr></tbody></table></div>"
      ],
      "text/latex": [
       "\\begin{tabular}{r|ccccccc}\n",
       "\t& connnode & demand & column3 & column4 & column5 & column6 & column7\\\\\n",
       "\t\\hline\n",
       "\t& Int64 & Float64 & Missing & Missing & Missing & String31 & Int64\\\\\n",
       "\t\\hline\n",
       "\t1 & 1 & -390.3 & \\emph{missing} & \\emph{missing} & \\emph{missing} & Beauly & 1 \\\\\n",
       "\t2 & 2 & -624.695 & \\emph{missing} & \\emph{missing} & \\emph{missing} & Peterhead & 2 \\\\\n",
       "\t3 & 3 & -202.172 & \\emph{missing} & \\emph{missing} & \\emph{missing} & Errochty & 3 \\\\\n",
       "\t4 & 4 & -1828.53 & \\emph{missing} & \\emph{missing} & \\emph{missing} & Denny/Bonnybridge & 4 \\\\\n",
       "\t5 & 7 & -2168.74 & \\emph{missing} & \\emph{missing} & \\emph{missing} & Neilston & 7 \\\\\n",
       "\t6 & 6 & -660.162 & \\emph{missing} & \\emph{missing} & \\emph{missing} & Strathaven & 6 \\\\\n",
       "\t7 & 5 & -572.218 & \\emph{missing} & \\emph{missing} & \\emph{missing} & Torness & 5 \\\\\n",
       "\t8 & 10 & -162.219 & \\emph{missing} & \\emph{missing} & \\emph{missing} & Eccles & 10 \\\\\n",
       "\t9 & 9 & -581.174 & \\emph{missing} & \\emph{missing} & \\emph{missing} & Harker & 9 \\\\\n",
       "\t10 & 11 & -3507.74 & \\emph{missing} & \\emph{missing} & \\emph{missing} & Stella West & 11 \\\\\n",
       "\t11 & 13 & -1959.87 & \\emph{missing} & \\emph{missing} & \\emph{missing} & Penwortham & 13 \\\\\n",
       "\t12 & 8 & -3956.87 & \\emph{missing} & \\emph{missing} & \\emph{missing} & Deeside & 8 \\\\\n",
       "\t13 & 14 & -4011.53 & \\emph{missing} & \\emph{missing} & \\emph{missing} & Daines & 14 \\\\\n",
       "\t14 & 16 & -3385.08 & \\emph{missing} & \\emph{missing} & \\emph{missing} & Th. Marsh/Stocksbridge & 16 \\\\\n",
       "\t15 & 12 & -2901.78 & \\emph{missing} & \\emph{missing} & \\emph{missing} & Thornton/Drax/Eggborough & 12 \\\\\n",
       "\t16 & 17 & -1046.22 & \\emph{missing} & \\emph{missing} & \\emph{missing} & Keadby & 17 \\\\\n",
       "\t17 & 18 & -2713.56 & \\emph{missing} & \\emph{missing} & \\emph{missing} & Ratcliffe & 18 \\\\\n",
       "\t18 & 15 & -5457.76 & \\emph{missing} & \\emph{missing} & \\emph{missing} & Feckenham & 15 \\\\\n",
       "\t19 & 23 & -1280.02 & \\emph{missing} & \\emph{missing} & \\emph{missing} & Walpole & 23 \\\\\n",
       "\t20 & 21 & -1938.79 & \\emph{missing} & \\emph{missing} & \\emph{missing} & Bramford & 21 \\\\\n",
       "\t21 & 24 & -1217.97 & \\emph{missing} & \\emph{missing} & \\emph{missing} & Pelham & 24 \\\\\n",
       "\t22 & 19 & -4018.08 & \\emph{missing} & \\emph{missing} & \\emph{missing} & Sundon/East Claydon & 19 \\\\\n",
       "\t23 & 20 & -5241.23 & \\emph{missing} & \\emph{missing} & \\emph{missing} & Melksham & 20 \\\\\n",
       "\t24 & 29 & -1812.56 & \\emph{missing} & \\emph{missing} & \\emph{missing} & Bramley & 29 \\\\\n",
       "\t25 & 25 & -12013.2 & \\emph{missing} & \\emph{missing} & \\emph{missing} & London & 25 \\\\\n",
       "\t26 & 22 & -2016.52 & \\emph{missing} & \\emph{missing} & \\emph{missing} & Kemsley & 22 \\\\\n",
       "\t27 & 28 & -1212.66 & \\emph{missing} & \\emph{missing} & \\emph{missing} & Sellindge & 28 \\\\\n",
       "\t28 & 27 & -2999.87 & \\emph{missing} & \\emph{missing} & \\emph{missing} & Lovedean & 27 \\\\\n",
       "\t29 & 26 & -3965.64 & \\emph{missing} & \\emph{missing} & \\emph{missing} & S.W.Penisula & 26 \\\\\n",
       "\\end{tabular}\n"
      ],
      "text/plain": [
       "\u001b[1m29×7 DataFrame\u001b[0m\n",
       "\u001b[1m Row \u001b[0m│\u001b[1m connnode \u001b[0m\u001b[1m demand     \u001b[0m\u001b[1m column3 \u001b[0m\u001b[1m column4 \u001b[0m\u001b[1m column5 \u001b[0m\u001b[1m column6                \u001b[0m\u001b[1m column7 \u001b[0m\n",
       "     │\u001b[90m Int64    \u001b[0m\u001b[90m Float64    \u001b[0m\u001b[90m Missing \u001b[0m\u001b[90m Missing \u001b[0m\u001b[90m Missing \u001b[0m\u001b[90m String31               \u001b[0m\u001b[90m Int64   \u001b[0m\n",
       "─────┼──────────────────────────────────────────────────────────────────────────────────\n",
       "   1 │        1    -390.3   \u001b[90m missing \u001b[0m\u001b[90m missing \u001b[0m\u001b[90m missing \u001b[0m Beauly                        1\n",
       "   2 │        2    -624.695 \u001b[90m missing \u001b[0m\u001b[90m missing \u001b[0m\u001b[90m missing \u001b[0m Peterhead                     2\n",
       "   3 │        3    -202.172 \u001b[90m missing \u001b[0m\u001b[90m missing \u001b[0m\u001b[90m missing \u001b[0m Errochty                      3\n",
       "   4 │        4   -1828.53  \u001b[90m missing \u001b[0m\u001b[90m missing \u001b[0m\u001b[90m missing \u001b[0m Denny/Bonnybridge             4\n",
       "   5 │        7   -2168.74  \u001b[90m missing \u001b[0m\u001b[90m missing \u001b[0m\u001b[90m missing \u001b[0m Neilston                      7\n",
       "   6 │        6    -660.162 \u001b[90m missing \u001b[0m\u001b[90m missing \u001b[0m\u001b[90m missing \u001b[0m Strathaven                    6\n",
       "   7 │        5    -572.218 \u001b[90m missing \u001b[0m\u001b[90m missing \u001b[0m\u001b[90m missing \u001b[0m Torness                       5\n",
       "   8 │       10    -162.219 \u001b[90m missing \u001b[0m\u001b[90m missing \u001b[0m\u001b[90m missing \u001b[0m Eccles                       10\n",
       "   9 │        9    -581.174 \u001b[90m missing \u001b[0m\u001b[90m missing \u001b[0m\u001b[90m missing \u001b[0m Harker                        9\n",
       "  10 │       11   -3507.74  \u001b[90m missing \u001b[0m\u001b[90m missing \u001b[0m\u001b[90m missing \u001b[0m Stella West                  11\n",
       "  11 │       13   -1959.87  \u001b[90m missing \u001b[0m\u001b[90m missing \u001b[0m\u001b[90m missing \u001b[0m Penwortham                   13\n",
       "  ⋮  │    ⋮          ⋮          ⋮        ⋮        ⋮               ⋮                ⋮\n",
       "  20 │       21   -1938.79  \u001b[90m missing \u001b[0m\u001b[90m missing \u001b[0m\u001b[90m missing \u001b[0m Bramford                     21\n",
       "  21 │       24   -1217.97  \u001b[90m missing \u001b[0m\u001b[90m missing \u001b[0m\u001b[90m missing \u001b[0m Pelham                       24\n",
       "  22 │       19   -4018.08  \u001b[90m missing \u001b[0m\u001b[90m missing \u001b[0m\u001b[90m missing \u001b[0m Sundon/East Claydon          19\n",
       "  23 │       20   -5241.23  \u001b[90m missing \u001b[0m\u001b[90m missing \u001b[0m\u001b[90m missing \u001b[0m Melksham                     20\n",
       "  24 │       29   -1812.56  \u001b[90m missing \u001b[0m\u001b[90m missing \u001b[0m\u001b[90m missing \u001b[0m Bramley                      29\n",
       "  25 │       25  -12013.2   \u001b[90m missing \u001b[0m\u001b[90m missing \u001b[0m\u001b[90m missing \u001b[0m London                       25\n",
       "  26 │       22   -2016.52  \u001b[90m missing \u001b[0m\u001b[90m missing \u001b[0m\u001b[90m missing \u001b[0m Kemsley                      22\n",
       "  27 │       28   -1212.66  \u001b[90m missing \u001b[0m\u001b[90m missing \u001b[0m\u001b[90m missing \u001b[0m Sellindge                    28\n",
       "  28 │       27   -2999.87  \u001b[90m missing \u001b[0m\u001b[90m missing \u001b[0m\u001b[90m missing \u001b[0m Lovedean                     27\n",
       "  29 │       26   -3965.64  \u001b[90m missing \u001b[0m\u001b[90m missing \u001b[0m\u001b[90m missing \u001b[0m S.W.Penisula                 26\n",
       "\u001b[36m                                                                          8 rows omitted\u001b[0m"
      ]
     },
     "execution_count": 5,
     "metadata": {},
     "output_type": "execute_result"
    }
   ],
   "source": [
    "loads"
   ]
  },
  {
   "cell_type": "code",
   "execution_count": 34,
   "id": "2dee3437",
   "metadata": {},
   "outputs": [
    {
     "data": {
      "text/plain": [
       "dcopf_ieee (generic function with 1 method)"
      ]
     },
     "execution_count": 34,
     "metadata": {},
     "output_type": "execute_result"
    }
   ],
   "source": [
    "#attempt 2 using PyPSA-GB network - works properly for the 36 bus network\n",
    "#=\n",
    "Function to solve DC OPF problem using IEEE test cases\n",
    "Inputs:\n",
    "    gen_info -- dataframe with generator info\n",
    "    line_info -- dataframe with transmission lines info\n",
    "    loads  -- dataframe with load info\n",
    "=#\n",
    "function dcopf_ieee(gens, lines, loads)\n",
    "    DCOPF = Model(HiGHS.Optimizer) # You could use Clp as well, with Clp.Optimizer\n",
    "    \n",
    "    # Define sets based on data\n",
    "      # Set of generator buses\n",
    "    G = gens.id #the way it defines gens are by looking at which bus it's connected to - list gens as unique elements then create another matrix showing which gens are associated with which node in the system\n",
    "                #set to id instead of connnode\n",
    "    \n",
    "      # Set of all nodes\n",
    "    N = sort(union(unique(lines.fromnode), \n",
    "            unique(lines.tonode))) \n",
    "    \n",
    "      # sets J_i and G_i will be described using dataframe indexing below\n",
    "\n",
    "    # Define per unit base units for the system \n",
    "    # used to convert from per unit values to standard unit\n",
    "    # values (e.g. p.u. power flows to MW/MVA)\n",
    "    baseMVA = 100 # base MVA is 100 MVA for this system \n",
    "    \n",
    "    # Decision variables   \n",
    "    @variables(DCOPF, begin\n",
    "        GEN[G]  >= 0     # generation        \n",
    "        # Note: we assume Pmin = 0 for all resources for simplicty here\n",
    "        THETA[N]         # voltage phase angle of bus\n",
    "        FLOW[N,N]        # flows between all pairs of nodes\n",
    "    end)\n",
    "    \n",
    "    # Create slack bus with reference angle = 0; use bus 1 with generator\n",
    "    fix(THETA[1],0)\n",
    "                \n",
    "    # Objective function\n",
    "    @objective(DCOPF, Min, \n",
    "        sum( gens[g,:c1] * GEN[g] for g in G)\n",
    "    )\n",
    "    \n",
    " # Supply demand balances\n",
    "    @constraint(DCOPF, cBalance[i in N], \n",
    "        sum(GEN[g] for g in gens[gens.connnode .== i,:id]) \n",
    "            + sum(load for load in loads[loads.connnode .== i,:demand]) \n",
    "        == sum(FLOW[i,j] for j in lines[lines.fromnode .== i,:tonode])\n",
    "    )\n",
    "\n",
    "    # Max generation constraint\n",
    "    @constraint(DCOPF, cMaxGen[g in G],\n",
    "                    GEN[g] <= gens[g,:pgmax])\n",
    "    \n",
    "    # Flow constraints on each branch \n",
    "    @constraint(DCOPF, cLineFlows[l in 1:nrow(lines)],\n",
    "            FLOW[lines[l,:fromnode],lines[l,:tonode]] == \n",
    "            baseMVA * lines[l,:b] * \n",
    "            (THETA[lines[l,:fromnode]] - THETA[lines[l,:tonode]])\n",
    "    )\n",
    "    \n",
    "    # Max line flow constraints\n",
    "    @constraint(DCOPF, cLineLimits[l in 1:nrow(lines)], \n",
    "            FLOW[lines[l,:fromnode],lines[l,:tonode]] <=\n",
    "            lines[l,:capacity]\n",
    "    ) \n",
    "\n",
    "\n",
    "    # Solve statement (! indicates runs in place)\n",
    "    optimize!(DCOPF)\n",
    "\n",
    "    # Output variables\n",
    "    generation = DataFrame(\n",
    "        node = gens.connnode,\n",
    "        gen = value.(GEN).data[gens.connnode]\n",
    "        )\n",
    "    \n",
    "    angles = value.(THETA).data\n",
    "    \n",
    "    flows = DataFrame(\n",
    "        fbus = lines.fromnode,\n",
    "        tbus = lines.tonode,\n",
    "        flow = baseMVA * lines.b .* (angles[lines.fromnode] .- \n",
    "                        angles[lines.tonode]))\n",
    "    \n",
    "    # We output the marginal values of the demand constraints, \n",
    "    # which will in fact be the prices to deliver power at a given bus.\n",
    "    prices = DataFrame(\n",
    "        node = N,\n",
    "        value = dual.(cBalance).data)\n",
    "\n",
    "    # Return the solution and objective as named tuple\n",
    "    return (\n",
    "        generation = generation, \n",
    "        angles,\n",
    "        flows,\n",
    "        prices,\n",
    "        cost = objective_value(DCOPF),\n",
    "        status = termination_status(DCOPF)\n",
    "    )\n",
    "end"
   ]
  },
  {
   "cell_type": "code",
   "execution_count": 20,
   "id": "076d585c",
   "metadata": {},
   "outputs": [
    {
     "data": {
      "text/plain": [
       "-56325.86"
      ]
     },
     "execution_count": 20,
     "metadata": {},
     "output_type": "execute_result"
    }
   ],
   "source": [
    "sum(loads.demand)"
   ]
  },
  {
   "cell_type": "code",
   "execution_count": 49,
   "id": "41bfb84f",
   "metadata": {},
   "outputs": [
    {
     "name": "stdout",
     "output_type": "stream",
     "text": [
      "Running HiGHS 1.5.3 [date: 1970-01-01, git hash: 45a127b78]\n",
      "Copyright (c) 2023 HiGHS under MIT licence terms\n",
      "Presolving model\n",
      "131 rows, 456 cols, 730 nonzeros\n",
      "126 rows, 255 cols, 523 nonzeros\n",
      "126 rows, 255 cols, 523 nonzeros\n",
      "Presolve : Reductions: rows 126(-442); columns 255(-950); elements 523(-657)\n",
      "Solving the presolved LP\n",
      "Using EKK dual simplex solver - serial\n",
      "  Iteration        Objective     Infeasibilities num(sum)\n",
      "          0    -7.1988072714e+00 Pr: 126(5.72008e+06); Du: 0(2.68791e-11) 0s\n",
      "        134     7.3823499351e+04 Pr: 0(0); Du: 0(2.91767e-13) 0s\n",
      "Solving the original LP from the solution after postsolve\n",
      "Model   status      : Optimal\n",
      "Simplex   iterations: 134\n",
      "Objective value     :  7.3823499351e+04\n",
      "HiGHS run time      :          0.01\n"
     ]
    }
   ],
   "source": [
    "solution = dcopf_ieee(gens, lines, loads);"
   ]
  },
  {
   "cell_type": "code",
   "execution_count": 50,
   "id": "4a8751a1",
   "metadata": {
    "scrolled": true
   },
   "outputs": [
    {
     "data": {
      "text/html": [
       "<div><div style = \"float: left;\"><span>335×2 DataFrame</span></div><div style = \"float: right;\"><span style = \"font-style: italic;\">310 rows omitted</span></div><div style = \"clear: both;\"></div></div><div class = \"data-frame\" style = \"overflow-x: scroll;\"><table class = \"data-frame\" style = \"margin-bottom: 6px;\"><thead><tr class = \"header\"><th class = \"rowNumber\" style = \"font-weight: bold; text-align: right;\">Row</th><th style = \"text-align: left;\">node</th><th style = \"text-align: left;\">gen</th></tr><tr class = \"subheader headerLastRow\"><th class = \"rowNumber\" style = \"font-weight: bold; text-align: right;\"></th><th title = \"Int64\" style = \"text-align: left;\">Int64</th><th title = \"Float64\" style = \"text-align: left;\">Float64</th></tr></thead><tbody><tr><td class = \"rowNumber\" style = \"font-weight: bold; text-align: right;\">1</td><td style = \"text-align: right;\">1</td><td style = \"text-align: right;\">0.0</td></tr><tr><td class = \"rowNumber\" style = \"font-weight: bold; text-align: right;\">2</td><td style = \"text-align: right;\">1</td><td style = \"text-align: right;\">0.0</td></tr><tr><td class = \"rowNumber\" style = \"font-weight: bold; text-align: right;\">3</td><td style = \"text-align: right;\">1</td><td style = \"text-align: right;\">0.0</td></tr><tr><td class = \"rowNumber\" style = \"font-weight: bold; text-align: right;\">4</td><td style = \"text-align: right;\">1</td><td style = \"text-align: right;\">0.0</td></tr><tr><td class = \"rowNumber\" style = \"font-weight: bold; text-align: right;\">5</td><td style = \"text-align: right;\">1</td><td style = \"text-align: right;\">0.0</td></tr><tr><td class = \"rowNumber\" style = \"font-weight: bold; text-align: right;\">6</td><td style = \"text-align: right;\">1</td><td style = \"text-align: right;\">0.0</td></tr><tr><td class = \"rowNumber\" style = \"font-weight: bold; text-align: right;\">7</td><td style = \"text-align: right;\">1</td><td style = \"text-align: right;\">0.0</td></tr><tr><td class = \"rowNumber\" style = \"font-weight: bold; text-align: right;\">8</td><td style = \"text-align: right;\">1</td><td style = \"text-align: right;\">0.0</td></tr><tr><td class = \"rowNumber\" style = \"font-weight: bold; text-align: right;\">9</td><td style = \"text-align: right;\">1</td><td style = \"text-align: right;\">0.0</td></tr><tr><td class = \"rowNumber\" style = \"font-weight: bold; text-align: right;\">10</td><td style = \"text-align: right;\">1</td><td style = \"text-align: right;\">0.0</td></tr><tr><td class = \"rowNumber\" style = \"font-weight: bold; text-align: right;\">11</td><td style = \"text-align: right;\">2</td><td style = \"text-align: right;\">0.0</td></tr><tr><td class = \"rowNumber\" style = \"font-weight: bold; text-align: right;\">12</td><td style = \"text-align: right;\">2</td><td style = \"text-align: right;\">0.0</td></tr><tr><td class = \"rowNumber\" style = \"font-weight: bold; text-align: right;\">13</td><td style = \"text-align: right;\">2</td><td style = \"text-align: right;\">0.0</td></tr><tr><td style = \"text-align: right;\">&vellip;</td><td style = \"text-align: right;\">&vellip;</td><td style = \"text-align: right;\">&vellip;</td></tr><tr><td class = \"rowNumber\" style = \"font-weight: bold; text-align: right;\">324</td><td style = \"text-align: right;\">27</td><td style = \"text-align: right;\">0.0</td></tr><tr><td class = \"rowNumber\" style = \"font-weight: bold; text-align: right;\">325</td><td style = \"text-align: right;\">28</td><td style = \"text-align: right;\">0.0</td></tr><tr><td class = \"rowNumber\" style = \"font-weight: bold; text-align: right;\">326</td><td style = \"text-align: right;\">28</td><td style = \"text-align: right;\">0.0</td></tr><tr><td class = \"rowNumber\" style = \"font-weight: bold; text-align: right;\">327</td><td style = \"text-align: right;\">28</td><td style = \"text-align: right;\">0.0</td></tr><tr><td class = \"rowNumber\" style = \"font-weight: bold; text-align: right;\">328</td><td style = \"text-align: right;\">28</td><td style = \"text-align: right;\">0.0</td></tr><tr><td class = \"rowNumber\" style = \"font-weight: bold; text-align: right;\">329</td><td style = \"text-align: right;\">28</td><td style = \"text-align: right;\">0.0</td></tr><tr><td class = \"rowNumber\" style = \"font-weight: bold; text-align: right;\">330</td><td style = \"text-align: right;\">29</td><td style = \"text-align: right;\">0.0</td></tr><tr><td class = \"rowNumber\" style = \"font-weight: bold; text-align: right;\">331</td><td style = \"text-align: right;\">29</td><td style = \"text-align: right;\">0.0</td></tr><tr><td class = \"rowNumber\" style = \"font-weight: bold; text-align: right;\">332</td><td style = \"text-align: right;\">29</td><td style = \"text-align: right;\">0.0</td></tr><tr><td class = \"rowNumber\" style = \"font-weight: bold; text-align: right;\">333</td><td style = \"text-align: right;\">29</td><td style = \"text-align: right;\">0.0</td></tr><tr><td class = \"rowNumber\" style = \"font-weight: bold; text-align: right;\">334</td><td style = \"text-align: right;\">29</td><td style = \"text-align: right;\">0.0</td></tr><tr><td class = \"rowNumber\" style = \"font-weight: bold; text-align: right;\">335</td><td style = \"text-align: right;\">29</td><td style = \"text-align: right;\">0.0</td></tr></tbody></table></div>"
      ],
      "text/latex": [
       "\\begin{tabular}{r|cc}\n",
       "\t& node & gen\\\\\n",
       "\t\\hline\n",
       "\t& Int64 & Float64\\\\\n",
       "\t\\hline\n",
       "\t1 & 1 & 0.0 \\\\\n",
       "\t2 & 1 & 0.0 \\\\\n",
       "\t3 & 1 & 0.0 \\\\\n",
       "\t4 & 1 & 0.0 \\\\\n",
       "\t5 & 1 & 0.0 \\\\\n",
       "\t6 & 1 & 0.0 \\\\\n",
       "\t7 & 1 & 0.0 \\\\\n",
       "\t8 & 1 & 0.0 \\\\\n",
       "\t9 & 1 & 0.0 \\\\\n",
       "\t10 & 1 & 0.0 \\\\\n",
       "\t11 & 2 & 0.0 \\\\\n",
       "\t12 & 2 & 0.0 \\\\\n",
       "\t13 & 2 & 0.0 \\\\\n",
       "\t14 & 2 & 0.0 \\\\\n",
       "\t15 & 2 & 0.0 \\\\\n",
       "\t16 & 2 & 0.0 \\\\\n",
       "\t17 & 2 & 0.0 \\\\\n",
       "\t18 & 2 & 0.0 \\\\\n",
       "\t19 & 2 & 0.0 \\\\\n",
       "\t20 & 3 & 0.0 \\\\\n",
       "\t21 & 3 & 0.0 \\\\\n",
       "\t22 & 3 & 0.0 \\\\\n",
       "\t23 & 3 & 0.0 \\\\\n",
       "\t24 & 3 & 0.0 \\\\\n",
       "\t25 & 4 & 0.0 \\\\\n",
       "\t26 & 4 & 0.0 \\\\\n",
       "\t27 & 4 & 0.0 \\\\\n",
       "\t28 & 4 & 0.0 \\\\\n",
       "\t29 & 4 & 0.0 \\\\\n",
       "\t30 & 4 & 0.0 \\\\\n",
       "\t$\\dots$ & $\\dots$ & $\\dots$ \\\\\n",
       "\\end{tabular}\n"
      ],
      "text/plain": [
       "\u001b[1m335×2 DataFrame\u001b[0m\n",
       "\u001b[1m Row \u001b[0m│\u001b[1m node  \u001b[0m\u001b[1m gen     \u001b[0m\n",
       "     │\u001b[90m Int64 \u001b[0m\u001b[90m Float64 \u001b[0m\n",
       "─────┼────────────────\n",
       "   1 │     1      0.0\n",
       "   2 │     1      0.0\n",
       "   3 │     1      0.0\n",
       "   4 │     1      0.0\n",
       "   5 │     1      0.0\n",
       "   6 │     1      0.0\n",
       "   7 │     1      0.0\n",
       "   8 │     1      0.0\n",
       "   9 │     1      0.0\n",
       "  10 │     1      0.0\n",
       "  11 │     2      0.0\n",
       "  ⋮  │   ⋮       ⋮\n",
       " 326 │    28      0.0\n",
       " 327 │    28      0.0\n",
       " 328 │    28      0.0\n",
       " 329 │    28      0.0\n",
       " 330 │    29      0.0\n",
       " 331 │    29      0.0\n",
       " 332 │    29      0.0\n",
       " 333 │    29      0.0\n",
       " 334 │    29      0.0\n",
       " 335 │    29      0.0\n",
       "\u001b[36m      314 rows omitted\u001b[0m"
      ]
     },
     "execution_count": 50,
     "metadata": {},
     "output_type": "execute_result"
    }
   ],
   "source": [
    "solution.generation #pypsa-gb results below"
   ]
  },
  {
   "cell_type": "code",
   "execution_count": 52,
   "id": "27bcf218",
   "metadata": {
    "collapsed": true
   },
   "outputs": [
    {
     "data": {
      "text/html": [
       "<div><div style = \"float: left;\"><span>335×2 DataFrame</span></div><div style = \"float: right;\"><span style = \"font-style: italic;\">310 rows omitted</span></div><div style = \"clear: both;\"></div></div><div class = \"data-frame\" style = \"overflow-x: scroll;\"><table class = \"data-frame\" style = \"margin-bottom: 6px;\"><thead><tr class = \"header\"><th class = \"rowNumber\" style = \"font-weight: bold; text-align: right;\">Row</th><th style = \"text-align: left;\">node</th><th style = \"text-align: left;\">gen</th></tr><tr class = \"subheader headerLastRow\"><th class = \"rowNumber\" style = \"font-weight: bold; text-align: right;\"></th><th title = \"Int64\" style = \"text-align: left;\">Int64</th><th title = \"Float64\" style = \"text-align: left;\">Float64</th></tr></thead><tbody><tr><td class = \"rowNumber\" style = \"font-weight: bold; text-align: right;\">1</td><td style = \"text-align: right;\">1</td><td style = \"text-align: right;\">0.0</td></tr><tr><td class = \"rowNumber\" style = \"font-weight: bold; text-align: right;\">2</td><td style = \"text-align: right;\">1</td><td style = \"text-align: right;\">0.0</td></tr><tr><td class = \"rowNumber\" style = \"font-weight: bold; text-align: right;\">3</td><td style = \"text-align: right;\">1</td><td style = \"text-align: right;\">0.0</td></tr><tr><td class = \"rowNumber\" style = \"font-weight: bold; text-align: right;\">4</td><td style = \"text-align: right;\">1</td><td style = \"text-align: right;\">0.0</td></tr><tr><td class = \"rowNumber\" style = \"font-weight: bold; text-align: right;\">5</td><td style = \"text-align: right;\">1</td><td style = \"text-align: right;\">0.0</td></tr><tr><td class = \"rowNumber\" style = \"font-weight: bold; text-align: right;\">6</td><td style = \"text-align: right;\">1</td><td style = \"text-align: right;\">0.0</td></tr><tr><td class = \"rowNumber\" style = \"font-weight: bold; text-align: right;\">7</td><td style = \"text-align: right;\">1</td><td style = \"text-align: right;\">0.0</td></tr><tr><td class = \"rowNumber\" style = \"font-weight: bold; text-align: right;\">8</td><td style = \"text-align: right;\">1</td><td style = \"text-align: right;\">0.0</td></tr><tr><td class = \"rowNumber\" style = \"font-weight: bold; text-align: right;\">9</td><td style = \"text-align: right;\">1</td><td style = \"text-align: right;\">0.0</td></tr><tr><td class = \"rowNumber\" style = \"font-weight: bold; text-align: right;\">10</td><td style = \"text-align: right;\">1</td><td style = \"text-align: right;\">0.0</td></tr><tr><td class = \"rowNumber\" style = \"font-weight: bold; text-align: right;\">11</td><td style = \"text-align: right;\">2</td><td style = \"text-align: right;\">0.0</td></tr><tr><td class = \"rowNumber\" style = \"font-weight: bold; text-align: right;\">12</td><td style = \"text-align: right;\">2</td><td style = \"text-align: right;\">0.0</td></tr><tr><td class = \"rowNumber\" style = \"font-weight: bold; text-align: right;\">13</td><td style = \"text-align: right;\">2</td><td style = \"text-align: right;\">0.0</td></tr><tr><td style = \"text-align: right;\">&vellip;</td><td style = \"text-align: right;\">&vellip;</td><td style = \"text-align: right;\">&vellip;</td></tr><tr><td class = \"rowNumber\" style = \"font-weight: bold; text-align: right;\">324</td><td style = \"text-align: right;\">27</td><td style = \"text-align: right;\">0.0</td></tr><tr><td class = \"rowNumber\" style = \"font-weight: bold; text-align: right;\">325</td><td style = \"text-align: right;\">28</td><td style = \"text-align: right;\">0.0</td></tr><tr><td class = \"rowNumber\" style = \"font-weight: bold; text-align: right;\">326</td><td style = \"text-align: right;\">28</td><td style = \"text-align: right;\">0.0</td></tr><tr><td class = \"rowNumber\" style = \"font-weight: bold; text-align: right;\">327</td><td style = \"text-align: right;\">28</td><td style = \"text-align: right;\">0.0</td></tr><tr><td class = \"rowNumber\" style = \"font-weight: bold; text-align: right;\">328</td><td style = \"text-align: right;\">28</td><td style = \"text-align: right;\">0.0</td></tr><tr><td class = \"rowNumber\" style = \"font-weight: bold; text-align: right;\">329</td><td style = \"text-align: right;\">28</td><td style = \"text-align: right;\">0.0</td></tr><tr><td class = \"rowNumber\" style = \"font-weight: bold; text-align: right;\">330</td><td style = \"text-align: right;\">29</td><td style = \"text-align: right;\">0.0</td></tr><tr><td class = \"rowNumber\" style = \"font-weight: bold; text-align: right;\">331</td><td style = \"text-align: right;\">29</td><td style = \"text-align: right;\">0.0</td></tr><tr><td class = \"rowNumber\" style = \"font-weight: bold; text-align: right;\">332</td><td style = \"text-align: right;\">29</td><td style = \"text-align: right;\">0.0</td></tr><tr><td class = \"rowNumber\" style = \"font-weight: bold; text-align: right;\">333</td><td style = \"text-align: right;\">29</td><td style = \"text-align: right;\">0.0</td></tr><tr><td class = \"rowNumber\" style = \"font-weight: bold; text-align: right;\">334</td><td style = \"text-align: right;\">29</td><td style = \"text-align: right;\">0.0</td></tr><tr><td class = \"rowNumber\" style = \"font-weight: bold; text-align: right;\">335</td><td style = \"text-align: right;\">29</td><td style = \"text-align: right;\">0.0</td></tr></tbody></table></div>"
      ],
      "text/latex": [
       "\\begin{tabular}{r|cc}\n",
       "\t& node & gen\\\\\n",
       "\t\\hline\n",
       "\t& Int64 & Float64\\\\\n",
       "\t\\hline\n",
       "\t1 & 1 & 0.0 \\\\\n",
       "\t2 & 1 & 0.0 \\\\\n",
       "\t3 & 1 & 0.0 \\\\\n",
       "\t4 & 1 & 0.0 \\\\\n",
       "\t5 & 1 & 0.0 \\\\\n",
       "\t6 & 1 & 0.0 \\\\\n",
       "\t7 & 1 & 0.0 \\\\\n",
       "\t8 & 1 & 0.0 \\\\\n",
       "\t9 & 1 & 0.0 \\\\\n",
       "\t10 & 1 & 0.0 \\\\\n",
       "\t11 & 2 & 0.0 \\\\\n",
       "\t12 & 2 & 0.0 \\\\\n",
       "\t13 & 2 & 0.0 \\\\\n",
       "\t14 & 2 & 0.0 \\\\\n",
       "\t15 & 2 & 0.0 \\\\\n",
       "\t16 & 2 & 0.0 \\\\\n",
       "\t17 & 2 & 0.0 \\\\\n",
       "\t18 & 2 & 0.0 \\\\\n",
       "\t19 & 2 & 0.0 \\\\\n",
       "\t20 & 3 & 0.0 \\\\\n",
       "\t21 & 3 & 0.0 \\\\\n",
       "\t22 & 3 & 0.0 \\\\\n",
       "\t23 & 3 & 0.0 \\\\\n",
       "\t24 & 3 & 0.0 \\\\\n",
       "\t25 & 4 & 0.0 \\\\\n",
       "\t26 & 4 & 0.0 \\\\\n",
       "\t27 & 4 & 0.0 \\\\\n",
       "\t28 & 4 & 0.0 \\\\\n",
       "\t29 & 4 & 0.0 \\\\\n",
       "\t30 & 4 & 0.0 \\\\\n",
       "\t$\\dots$ & $\\dots$ & $\\dots$ \\\\\n",
       "\\end{tabular}\n"
      ],
      "text/plain": [
       "\u001b[1m335×2 DataFrame\u001b[0m\n",
       "\u001b[1m Row \u001b[0m│\u001b[1m node  \u001b[0m\u001b[1m gen     \u001b[0m\n",
       "     │\u001b[90m Int64 \u001b[0m\u001b[90m Float64 \u001b[0m\n",
       "─────┼────────────────\n",
       "   1 │     1      0.0\n",
       "   2 │     1      0.0\n",
       "   3 │     1      0.0\n",
       "   4 │     1      0.0\n",
       "   5 │     1      0.0\n",
       "   6 │     1      0.0\n",
       "   7 │     1      0.0\n",
       "   8 │     1      0.0\n",
       "   9 │     1      0.0\n",
       "  10 │     1      0.0\n",
       "  11 │     2      0.0\n",
       "  ⋮  │   ⋮       ⋮\n",
       " 326 │    28      0.0\n",
       " 327 │    28      0.0\n",
       " 328 │    28      0.0\n",
       " 329 │    28      0.0\n",
       " 330 │    29      0.0\n",
       " 331 │    29      0.0\n",
       " 332 │    29      0.0\n",
       " 333 │    29      0.0\n",
       " 334 │    29      0.0\n",
       " 335 │    29      0.0\n",
       "\u001b[36m      314 rows omitted\u001b[0m"
      ]
     },
     "execution_count": 52,
     "metadata": {},
     "output_type": "execute_result"
    }
   ],
   "source": [
    "gentest = solution.generation"
   ]
  },
  {
   "cell_type": "code",
   "execution_count": 51,
   "id": "530a3997",
   "metadata": {},
   "outputs": [],
   "source": [
    "using CSV"
   ]
  },
  {
   "cell_type": "code",
   "execution_count": 54,
   "id": "5fa890cc",
   "metadata": {},
   "outputs": [
    {
     "data": {
      "text/plain": [
       "\"ReducedNetwork\\\\GenTestCap4.csv\""
      ]
     },
     "execution_count": 54,
     "metadata": {},
     "output_type": "execute_result"
    }
   ],
   "source": [
    "CSV.write(joinpath(datadir,\"GenTestCap4.csv\"), gentest)"
   ]
  },
  {
   "cell_type": "code",
   "execution_count": 11,
   "id": "12e6e6d4",
   "metadata": {},
   "outputs": [
    {
     "ename": "LoadError",
     "evalue": "syntax: character literal contains multiple characters",
     "output_type": "error",
     "traceback": [
      "syntax: character literal contains multiple characters",
      "",
      "Stacktrace:",
      " [1] top-level scope",
      "   @ In[11]:1"
     ]
    }
   ],
   "source": [
    "sum(solution.generation['gen'])"
   ]
  },
  {
   "cell_type": "code",
   "execution_count": 41,
   "id": "1fe0adb4",
   "metadata": {},
   "outputs": [
    {
     "data": {
      "text/html": [
       "<div><div style = \"float: left;\"><span>29×2 DataFrame</span></div><div style = \"float: right;\"><span style = \"font-style: italic;\">4 rows omitted</span></div><div style = \"clear: both;\"></div></div><div class = \"data-frame\" style = \"overflow-x: scroll;\"><table class = \"data-frame\" style = \"margin-bottom: 6px;\"><thead><tr class = \"header\"><th class = \"rowNumber\" style = \"font-weight: bold; text-align: right;\">Row</th><th style = \"text-align: left;\">node</th><th style = \"text-align: left;\">value</th></tr><tr class = \"subheader headerLastRow\"><th class = \"rowNumber\" style = \"font-weight: bold; text-align: right;\"></th><th title = \"Int64\" style = \"text-align: left;\">Int64</th><th title = \"Float64\" style = \"text-align: left;\">Float64</th></tr></thead><tbody><tr><td class = \"rowNumber\" style = \"font-weight: bold; text-align: right;\">1</td><td style = \"text-align: right;\">1</td><td style = \"text-align: right;\">1.0</td></tr><tr><td class = \"rowNumber\" style = \"font-weight: bold; text-align: right;\">2</td><td style = \"text-align: right;\">2</td><td style = \"text-align: right;\">1.0</td></tr><tr><td class = \"rowNumber\" style = \"font-weight: bold; text-align: right;\">3</td><td style = \"text-align: right;\">3</td><td style = \"text-align: right;\">1.0</td></tr><tr><td class = \"rowNumber\" style = \"font-weight: bold; text-align: right;\">4</td><td style = \"text-align: right;\">4</td><td style = \"text-align: right;\">1.0</td></tr><tr><td class = \"rowNumber\" style = \"font-weight: bold; text-align: right;\">5</td><td style = \"text-align: right;\">5</td><td style = \"text-align: right;\">1.0</td></tr><tr><td class = \"rowNumber\" style = \"font-weight: bold; text-align: right;\">6</td><td style = \"text-align: right;\">6</td><td style = \"text-align: right;\">1.0</td></tr><tr><td class = \"rowNumber\" style = \"font-weight: bold; text-align: right;\">7</td><td style = \"text-align: right;\">7</td><td style = \"text-align: right;\">1.0</td></tr><tr><td class = \"rowNumber\" style = \"font-weight: bold; text-align: right;\">8</td><td style = \"text-align: right;\">8</td><td style = \"text-align: right;\">1.0</td></tr><tr><td class = \"rowNumber\" style = \"font-weight: bold; text-align: right;\">9</td><td style = \"text-align: right;\">9</td><td style = \"text-align: right;\">1.0</td></tr><tr><td class = \"rowNumber\" style = \"font-weight: bold; text-align: right;\">10</td><td style = \"text-align: right;\">10</td><td style = \"text-align: right;\">1.0</td></tr><tr><td class = \"rowNumber\" style = \"font-weight: bold; text-align: right;\">11</td><td style = \"text-align: right;\">11</td><td style = \"text-align: right;\">1.0</td></tr><tr><td class = \"rowNumber\" style = \"font-weight: bold; text-align: right;\">12</td><td style = \"text-align: right;\">12</td><td style = \"text-align: right;\">1.0</td></tr><tr><td class = \"rowNumber\" style = \"font-weight: bold; text-align: right;\">13</td><td style = \"text-align: right;\">13</td><td style = \"text-align: right;\">1.0</td></tr><tr><td style = \"text-align: right;\">&vellip;</td><td style = \"text-align: right;\">&vellip;</td><td style = \"text-align: right;\">&vellip;</td></tr><tr><td class = \"rowNumber\" style = \"font-weight: bold; text-align: right;\">18</td><td style = \"text-align: right;\">18</td><td style = \"text-align: right;\">1.0</td></tr><tr><td class = \"rowNumber\" style = \"font-weight: bold; text-align: right;\">19</td><td style = \"text-align: right;\">19</td><td style = \"text-align: right;\">1.0</td></tr><tr><td class = \"rowNumber\" style = \"font-weight: bold; text-align: right;\">20</td><td style = \"text-align: right;\">20</td><td style = \"text-align: right;\">1.0</td></tr><tr><td class = \"rowNumber\" style = \"font-weight: bold; text-align: right;\">21</td><td style = \"text-align: right;\">21</td><td style = \"text-align: right;\">1.0</td></tr><tr><td class = \"rowNumber\" style = \"font-weight: bold; text-align: right;\">22</td><td style = \"text-align: right;\">22</td><td style = \"text-align: right;\">1.0</td></tr><tr><td class = \"rowNumber\" style = \"font-weight: bold; text-align: right;\">23</td><td style = \"text-align: right;\">23</td><td style = \"text-align: right;\">1.0</td></tr><tr><td class = \"rowNumber\" style = \"font-weight: bold; text-align: right;\">24</td><td style = \"text-align: right;\">24</td><td style = \"text-align: right;\">1.0</td></tr><tr><td class = \"rowNumber\" style = \"font-weight: bold; text-align: right;\">25</td><td style = \"text-align: right;\">25</td><td style = \"text-align: right;\">1.0</td></tr><tr><td class = \"rowNumber\" style = \"font-weight: bold; text-align: right;\">26</td><td style = \"text-align: right;\">26</td><td style = \"text-align: right;\">1.0</td></tr><tr><td class = \"rowNumber\" style = \"font-weight: bold; text-align: right;\">27</td><td style = \"text-align: right;\">27</td><td style = \"text-align: right;\">1.0</td></tr><tr><td class = \"rowNumber\" style = \"font-weight: bold; text-align: right;\">28</td><td style = \"text-align: right;\">28</td><td style = \"text-align: right;\">1.0</td></tr><tr><td class = \"rowNumber\" style = \"font-weight: bold; text-align: right;\">29</td><td style = \"text-align: right;\">29</td><td style = \"text-align: right;\">1.0</td></tr></tbody></table></div>"
      ],
      "text/latex": [
       "\\begin{tabular}{r|cc}\n",
       "\t& node & value\\\\\n",
       "\t\\hline\n",
       "\t& Int64 & Float64\\\\\n",
       "\t\\hline\n",
       "\t1 & 1 & 1.0 \\\\\n",
       "\t2 & 2 & 1.0 \\\\\n",
       "\t3 & 3 & 1.0 \\\\\n",
       "\t4 & 4 & 1.0 \\\\\n",
       "\t5 & 5 & 1.0 \\\\\n",
       "\t6 & 6 & 1.0 \\\\\n",
       "\t7 & 7 & 1.0 \\\\\n",
       "\t8 & 8 & 1.0 \\\\\n",
       "\t9 & 9 & 1.0 \\\\\n",
       "\t10 & 10 & 1.0 \\\\\n",
       "\t11 & 11 & 1.0 \\\\\n",
       "\t12 & 12 & 1.0 \\\\\n",
       "\t13 & 13 & 1.0 \\\\\n",
       "\t14 & 14 & 1.0 \\\\\n",
       "\t15 & 15 & 1.0 \\\\\n",
       "\t16 & 16 & 1.0 \\\\\n",
       "\t17 & 17 & 1.0 \\\\\n",
       "\t18 & 18 & 1.0 \\\\\n",
       "\t19 & 19 & 1.0 \\\\\n",
       "\t20 & 20 & 1.0 \\\\\n",
       "\t21 & 21 & 1.0 \\\\\n",
       "\t22 & 22 & 1.0 \\\\\n",
       "\t23 & 23 & 1.0 \\\\\n",
       "\t24 & 24 & 1.0 \\\\\n",
       "\t25 & 25 & 1.0 \\\\\n",
       "\t26 & 26 & 1.0 \\\\\n",
       "\t27 & 27 & 1.0 \\\\\n",
       "\t28 & 28 & 1.0 \\\\\n",
       "\t29 & 29 & 1.0 \\\\\n",
       "\\end{tabular}\n"
      ],
      "text/plain": [
       "\u001b[1m29×2 DataFrame\u001b[0m\n",
       "\u001b[1m Row \u001b[0m│\u001b[1m node  \u001b[0m\u001b[1m value   \u001b[0m\n",
       "     │\u001b[90m Int64 \u001b[0m\u001b[90m Float64 \u001b[0m\n",
       "─────┼────────────────\n",
       "   1 │     1      1.0\n",
       "   2 │     2      1.0\n",
       "   3 │     3      1.0\n",
       "   4 │     4      1.0\n",
       "   5 │     5      1.0\n",
       "   6 │     6      1.0\n",
       "   7 │     7      1.0\n",
       "   8 │     8      1.0\n",
       "   9 │     9      1.0\n",
       "  10 │    10      1.0\n",
       "  11 │    11      1.0\n",
       "  ⋮  │   ⋮       ⋮\n",
       "  20 │    20      1.0\n",
       "  21 │    21      1.0\n",
       "  22 │    22      1.0\n",
       "  23 │    23      1.0\n",
       "  24 │    24      1.0\n",
       "  25 │    25      1.0\n",
       "  26 │    26      1.0\n",
       "  27 │    27      1.0\n",
       "  28 │    28      1.0\n",
       "  29 │    29      1.0\n",
       "\u001b[36m        8 rows omitted\u001b[0m"
      ]
     },
     "execution_count": 41,
     "metadata": {},
     "output_type": "execute_result"
    }
   ],
   "source": [
    "solution.prices"
   ]
  },
  {
   "cell_type": "code",
   "execution_count": 42,
   "id": "2c266e7c",
   "metadata": {},
   "outputs": [
    {
     "data": {
      "text/html": [
       "<div><div style = \"float: left;\"><span>102×3 DataFrame</span></div><div style = \"float: right;\"><span style = \"font-style: italic;\">77 rows omitted</span></div><div style = \"clear: both;\"></div></div><div class = \"data-frame\" style = \"overflow-x: scroll;\"><table class = \"data-frame\" style = \"margin-bottom: 6px;\"><thead><tr class = \"header\"><th class = \"rowNumber\" style = \"font-weight: bold; text-align: right;\">Row</th><th style = \"text-align: left;\">fbus</th><th style = \"text-align: left;\">tbus</th><th style = \"text-align: left;\">flow</th></tr><tr class = \"subheader headerLastRow\"><th class = \"rowNumber\" style = \"font-weight: bold; text-align: right;\"></th><th title = \"Int64\" style = \"text-align: left;\">Int64</th><th title = \"Int64\" style = \"text-align: left;\">Int64</th><th title = \"Float64\" style = \"text-align: left;\">Float64</th></tr></thead><tbody><tr><td class = \"rowNumber\" style = \"font-weight: bold; text-align: right;\">1</td><td style = \"text-align: right;\">1</td><td style = \"text-align: right;\">2</td><td style = \"text-align: right;\">-540.473</td></tr><tr><td class = \"rowNumber\" style = \"font-weight: bold; text-align: right;\">2</td><td style = \"text-align: right;\">1</td><td style = \"text-align: right;\">3</td><td style = \"text-align: right;\">150.173</td></tr><tr><td class = \"rowNumber\" style = \"font-weight: bold; text-align: right;\">3</td><td style = \"text-align: right;\">2</td><td style = \"text-align: right;\">4</td><td style = \"text-align: right;\">-1165.17</td></tr><tr><td class = \"rowNumber\" style = \"font-weight: bold; text-align: right;\">4</td><td style = \"text-align: right;\">3</td><td style = \"text-align: right;\">4</td><td style = \"text-align: right;\">-51.9987</td></tr><tr><td class = \"rowNumber\" style = \"font-weight: bold; text-align: right;\">5</td><td style = \"text-align: right;\">4</td><td style = \"text-align: right;\">6</td><td style = \"text-align: right;\">-1423.11</td></tr><tr><td class = \"rowNumber\" style = \"font-weight: bold; text-align: right;\">6</td><td style = \"text-align: right;\">4</td><td style = \"text-align: right;\">7</td><td style = \"text-align: right;\">-604.482</td></tr><tr><td class = \"rowNumber\" style = \"font-weight: bold; text-align: right;\">7</td><td style = \"text-align: right;\">4</td><td style = \"text-align: right;\">5</td><td style = \"text-align: right;\">-1018.1</td></tr><tr><td class = \"rowNumber\" style = \"font-weight: bold; text-align: right;\">8</td><td style = \"text-align: right;\">7</td><td style = \"text-align: right;\">6</td><td style = \"text-align: right;\">-2773.23</td></tr><tr><td class = \"rowNumber\" style = \"font-weight: bold; text-align: right;\">9</td><td style = \"text-align: right;\">7</td><td style = \"text-align: right;\">8</td><td style = \"text-align: right;\">0.00705203</td></tr><tr><td class = \"rowNumber\" style = \"font-weight: bold; text-align: right;\">10</td><td style = \"text-align: right;\">6</td><td style = \"text-align: right;\">9</td><td style = \"text-align: right;\">-160.922</td></tr><tr><td class = \"rowNumber\" style = \"font-weight: bold; text-align: right;\">11</td><td style = \"text-align: right;\">5</td><td style = \"text-align: right;\">10</td><td style = \"text-align: right;\">-740.024</td></tr><tr><td class = \"rowNumber\" style = \"font-weight: bold; text-align: right;\">12</td><td style = \"text-align: right;\">5</td><td style = \"text-align: right;\">6</td><td style = \"text-align: right;\">-850.295</td></tr><tr><td class = \"rowNumber\" style = \"font-weight: bold; text-align: right;\">13</td><td style = \"text-align: right;\">10</td><td style = \"text-align: right;\">11</td><td style = \"text-align: right;\">-902.243</td></tr><tr><td style = \"text-align: right;\">&vellip;</td><td style = \"text-align: right;\">&vellip;</td><td style = \"text-align: right;\">&vellip;</td><td style = \"text-align: right;\">&vellip;</td></tr><tr><td class = \"rowNumber\" style = \"font-weight: bold; text-align: right;\">91</td><td style = \"text-align: right;\">17</td><td style = \"text-align: right;\">19</td><td style = \"text-align: right;\">3647.99</td></tr><tr><td class = \"rowNumber\" style = \"font-weight: bold; text-align: right;\">92</td><td style = \"text-align: right;\">25</td><td style = \"text-align: right;\">19</td><td style = \"text-align: right;\">-4425.69</td></tr><tr><td class = \"rowNumber\" style = \"font-weight: bold; text-align: right;\">93</td><td style = \"text-align: right;\">24</td><td style = \"text-align: right;\">19</td><td style = \"text-align: right;\">-561.658</td></tr><tr><td class = \"rowNumber\" style = \"font-weight: bold; text-align: right;\">94</td><td style = \"text-align: right;\">26</td><td style = \"text-align: right;\">20</td><td style = \"text-align: right;\">2402.18</td></tr><tr><td class = \"rowNumber\" style = \"font-weight: bold; text-align: right;\">95</td><td style = \"text-align: right;\">29</td><td style = \"text-align: right;\">20</td><td style = \"text-align: right;\">-5032.99</td></tr><tr><td class = \"rowNumber\" style = \"font-weight: bold; text-align: right;\">96</td><td style = \"text-align: right;\">19</td><td style = \"text-align: right;\">20</td><td style = \"text-align: right;\">-3444.65</td></tr><tr><td class = \"rowNumber\" style = \"font-weight: bold; text-align: right;\">97</td><td style = \"text-align: right;\">27</td><td style = \"text-align: right;\">29</td><td style = \"text-align: right;\">-347.707</td></tr><tr><td class = \"rowNumber\" style = \"font-weight: bold; text-align: right;\">98</td><td style = \"text-align: right;\">25</td><td style = \"text-align: right;\">29</td><td style = \"text-align: right;\">-5560.0</td></tr><tr><td class = \"rowNumber\" style = \"font-weight: bold; text-align: right;\">99</td><td style = \"text-align: right;\">22</td><td style = \"text-align: right;\">25</td><td style = \"text-align: right;\">684.241</td></tr><tr><td class = \"rowNumber\" style = \"font-weight: bold; text-align: right;\">100</td><td style = \"text-align: right;\">22</td><td style = \"text-align: right;\">28</td><td style = \"text-align: right;\">-2234.53</td></tr><tr><td class = \"rowNumber\" style = \"font-weight: bold; text-align: right;\">101</td><td style = \"text-align: right;\">28</td><td style = \"text-align: right;\">27</td><td style = \"text-align: right;\">-1162.36</td></tr><tr><td class = \"rowNumber\" style = \"font-weight: bold; text-align: right;\">102</td><td style = \"text-align: right;\">27</td><td style = \"text-align: right;\">26</td><td style = \"text-align: right;\">-3814.52</td></tr></tbody></table></div>"
      ],
      "text/latex": [
       "\\begin{tabular}{r|ccc}\n",
       "\t& fbus & tbus & flow\\\\\n",
       "\t\\hline\n",
       "\t& Int64 & Int64 & Float64\\\\\n",
       "\t\\hline\n",
       "\t1 & 1 & 2 & -540.473 \\\\\n",
       "\t2 & 1 & 3 & 150.173 \\\\\n",
       "\t3 & 2 & 4 & -1165.17 \\\\\n",
       "\t4 & 3 & 4 & -51.9987 \\\\\n",
       "\t5 & 4 & 6 & -1423.11 \\\\\n",
       "\t6 & 4 & 7 & -604.482 \\\\\n",
       "\t7 & 4 & 5 & -1018.1 \\\\\n",
       "\t8 & 7 & 6 & -2773.23 \\\\\n",
       "\t9 & 7 & 8 & 0.00705203 \\\\\n",
       "\t10 & 6 & 9 & -160.922 \\\\\n",
       "\t11 & 5 & 10 & -740.024 \\\\\n",
       "\t12 & 5 & 6 & -850.295 \\\\\n",
       "\t13 & 10 & 11 & -902.243 \\\\\n",
       "\t14 & 9 & 13 & 919.631 \\\\\n",
       "\t15 & 9 & 11 & 675.045 \\\\\n",
       "\t16 & 11 & 12 & 6222.84 \\\\\n",
       "\t17 & 13 & 12 & 768.528 \\\\\n",
       "\t18 & 13 & 14 & 2532.76 \\\\\n",
       "\t19 & 13 & 8 & 959.46 \\\\\n",
       "\t20 & 8 & 15 & -2028.77 \\\\\n",
       "\t21 & 8 & 14 & -968.636 \\\\\n",
       "\t22 & 14 & 15 & -539.027 \\\\\n",
       "\t23 & 14 & 12 & -832.45 \\\\\n",
       "\t24 & 14 & 16 & -1075.92 \\\\\n",
       "\t25 & 16 & 17 & -769.313 \\\\\n",
       "\t26 & 12 & 17 & 1368.29 \\\\\n",
       "\t27 & 12 & 16 & 3691.69 \\\\\n",
       "\t28 & 17 & 15 & 402.091 \\\\\n",
       "\t29 & 26 & 17 & 3753.74 \\\\\n",
       "\t30 & 18 & 17 & -72.9026 \\\\\n",
       "\t$\\dots$ & $\\dots$ & $\\dots$ & $\\dots$ \\\\\n",
       "\\end{tabular}\n"
      ],
      "text/plain": [
       "\u001b[1m102×3 DataFrame\u001b[0m\n",
       "\u001b[1m Row \u001b[0m│\u001b[1m fbus  \u001b[0m\u001b[1m tbus  \u001b[0m\u001b[1m flow           \u001b[0m\n",
       "     │\u001b[90m Int64 \u001b[0m\u001b[90m Int64 \u001b[0m\u001b[90m Float64        \u001b[0m\n",
       "─────┼──────────────────────────────\n",
       "   1 │     1      2   -540.473\n",
       "   2 │     1      3    150.173\n",
       "   3 │     2      4  -1165.17\n",
       "   4 │     3      4    -51.9987\n",
       "   5 │     4      6  -1423.11\n",
       "   6 │     4      7   -604.482\n",
       "   7 │     4      5  -1018.1\n",
       "   8 │     7      6  -2773.23\n",
       "   9 │     7      8      0.00705203\n",
       "  10 │     6      9   -160.922\n",
       "  11 │     5     10   -740.024\n",
       "  ⋮  │   ⋮      ⋮          ⋮\n",
       "  93 │    24     19   -561.658\n",
       "  94 │    26     20   2402.18\n",
       "  95 │    29     20  -5032.99\n",
       "  96 │    19     20  -3444.65\n",
       "  97 │    27     29   -347.707\n",
       "  98 │    25     29  -5560.0\n",
       "  99 │    22     25    684.241\n",
       " 100 │    22     28  -2234.53\n",
       " 101 │    28     27  -1162.36\n",
       " 102 │    27     26  -3814.52\n",
       "\u001b[36m                     81 rows omitted\u001b[0m"
      ]
     },
     "execution_count": 42,
     "metadata": {},
     "output_type": "execute_result"
    }
   ],
   "source": [
    "solution.flows"
   ]
  },
  {
   "cell_type": "code",
   "execution_count": null,
   "id": "4611b9f6",
   "metadata": {},
   "outputs": [],
   "source": []
  }
 ],
 "metadata": {
  "kernelspec": {
   "display_name": "Julia 1.9.3",
   "language": "julia",
   "name": "julia-1.9"
  },
  "language_info": {
   "file_extension": ".jl",
   "mimetype": "application/julia",
   "name": "julia",
   "version": "1.9.3"
  }
 },
 "nbformat": 4,
 "nbformat_minor": 5
}
