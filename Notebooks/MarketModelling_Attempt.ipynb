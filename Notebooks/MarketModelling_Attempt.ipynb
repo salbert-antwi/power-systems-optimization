{
 "cells": [
  {
   "cell_type": "code",
   "execution_count": 1,
   "id": "17b2c57a",
   "metadata": {},
   "outputs": [
    {
     "name": "stderr",
     "output_type": "stream",
     "text": [
      "\u001b[32m\u001b[1m    Updating\u001b[22m\u001b[39m registry at `C:\\Users\\44780\\.julia\\registries\\General.toml`\n",
      "\u001b[32m\u001b[1m   Resolving\u001b[22m\u001b[39m package versions...\n",
      "\u001b[32m\u001b[1m  No Changes\u001b[22m\u001b[39m to `C:\\Users\\44780\\.julia\\environments\\v1.9\\Project.toml`\n",
      "\u001b[32m\u001b[1m  No Changes\u001b[22m\u001b[39m to `C:\\Users\\44780\\.julia\\environments\\v1.9\\Manifest.toml`\n",
      "\u001b[32m\u001b[1m   Resolving\u001b[22m\u001b[39m package versions...\n",
      "\u001b[32m\u001b[1m  No Changes\u001b[22m\u001b[39m to `C:\\Users\\44780\\.julia\\environments\\v1.9\\Project.toml`\n",
      "\u001b[32m\u001b[1m  No Changes\u001b[22m\u001b[39m to `C:\\Users\\44780\\.julia\\environments\\v1.9\\Manifest.toml`\n"
     ]
    }
   ],
   "source": [
    "# load all packages in Julia\n",
    "import Pkg; Pkg.add(\"VegaLite\"); Pkg.add(\"PrettyTables\")\n",
    "using JuMP, HiGHS\n",
    "using Plots;\n",
    "using VegaLite  # to make some nice plots\n",
    "using DataFrames, CSV, PrettyTables\n",
    "ENV[\"COLUMNS\"]=120; # Set so all columns of DataFrames and Matrices are displayed"
   ]
  },
  {
   "cell_type": "code",
   "execution_count": 2,
   "id": "0b37038b",
   "metadata": {},
   "outputs": [
    {
     "data": {
      "text/html": [
       "<div><div style = \"float: left;\"><span>198×13 DataFrame</span></div><div style = \"float: right;\"><span style = \"font-style: italic;\">173 rows omitted</span></div><div style = \"clear: both;\"></div></div><div class = \"data-frame\" style = \"overflow-x: scroll;\"><table class = \"data-frame\" style = \"margin-bottom: 6px;\"><thead><tr class = \"header\"><th class = \"rowNumber\" style = \"font-weight: bold; text-align: right;\">Row</th><th style = \"text-align: left;\">fromnode</th><th style = \"text-align: left;\">tonode</th><th style = \"text-align: left;\">resistance</th><th style = \"text-align: left;\">reactance</th><th style = \"text-align: left;\">contingencymarked</th><th style = \"text-align: left;\">capacity</th><th style = \"text-align: left;\">id</th><th style = \"text-align: left;\">b</th><th style = \"text-align: left;\">column9</th><th style = \"text-align: left;\">column10</th><th style = \"text-align: left;\">column11</th><th style = \"text-align: left;\">column12</th><th style = \"text-align: left;\">column13</th></tr><tr class = \"subheader headerLastRow\"><th class = \"rowNumber\" style = \"font-weight: bold; text-align: right;\"></th><th title = \"Int64\" style = \"text-align: left;\">Int64</th><th title = \"Int64\" style = \"text-align: left;\">Int64</th><th title = \"Float64\" style = \"text-align: left;\">Float64</th><th title = \"Float64\" style = \"text-align: left;\">Float64</th><th title = \"Int64\" style = \"text-align: left;\">Int64</th><th title = \"Int64\" style = \"text-align: left;\">Int64</th><th title = \"Int64\" style = \"text-align: left;\">Int64</th><th title = \"Float64\" style = \"text-align: left;\">Float64</th><th title = \"Missing\" style = \"text-align: left;\">Missing</th><th title = \"Missing\" style = \"text-align: left;\">Missing</th><th title = \"Missing\" style = \"text-align: left;\">Missing</th><th title = \"Missing\" style = \"text-align: left;\">Missing</th><th title = \"Int64\" style = \"text-align: left;\">Int64</th></tr></thead><tbody><tr><td class = \"rowNumber\" style = \"font-weight: bold; text-align: right;\">1</td><td style = \"text-align: right;\">1</td><td style = \"text-align: right;\">2</td><td style = \"text-align: right;\">0.0122</td><td style = \"text-align: right;\">0.02</td><td style = \"text-align: right;\">1</td><td style = \"text-align: right;\">10000</td><td style = \"text-align: right;\">1</td><td style = \"text-align: right;\">50.0</td><td style = \"font-style: italic; text-align: right;\">missing</td><td style = \"font-style: italic; text-align: right;\">missing</td><td style = \"font-style: italic; text-align: right;\">missing</td><td style = \"font-style: italic; text-align: right;\">missing</td><td style = \"text-align: right;\">525</td></tr><tr><td class = \"rowNumber\" style = \"font-weight: bold; text-align: right;\">2</td><td style = \"text-align: right;\">1</td><td style = \"text-align: right;\">3</td><td style = \"text-align: right;\">0.007</td><td style = \"text-align: right;\">0.15</td><td style = \"text-align: right;\">1</td><td style = \"text-align: right;\">10000</td><td style = \"text-align: right;\">2</td><td style = \"text-align: right;\">6.66667</td><td style = \"font-style: italic; text-align: right;\">missing</td><td style = \"font-style: italic; text-align: right;\">missing</td><td style = \"font-style: italic; text-align: right;\">missing</td><td style = \"font-style: italic; text-align: right;\">missing</td><td style = \"text-align: right;\">132</td></tr><tr><td class = \"rowNumber\" style = \"font-weight: bold; text-align: right;\">3</td><td style = \"text-align: right;\">1</td><td style = \"text-align: right;\">2</td><td style = \"text-align: right;\">0.0122</td><td style = \"text-align: right;\">0.02</td><td style = \"text-align: right;\">1</td><td style = \"text-align: right;\">10000</td><td style = \"text-align: right;\">3</td><td style = \"text-align: right;\">50.0</td><td style = \"font-style: italic; text-align: right;\">missing</td><td style = \"font-style: italic; text-align: right;\">missing</td><td style = \"font-style: italic; text-align: right;\">missing</td><td style = \"font-style: italic; text-align: right;\">missing</td><td style = \"text-align: right;\">525</td></tr><tr><td class = \"rowNumber\" style = \"font-weight: bold; text-align: right;\">4</td><td style = \"text-align: right;\">1</td><td style = \"text-align: right;\">3</td><td style = \"text-align: right;\">0.007</td><td style = \"text-align: right;\">0.15</td><td style = \"text-align: right;\">1</td><td style = \"text-align: right;\">10000</td><td style = \"text-align: right;\">4</td><td style = \"text-align: right;\">6.66667</td><td style = \"font-style: italic; text-align: right;\">missing</td><td style = \"font-style: italic; text-align: right;\">missing</td><td style = \"font-style: italic; text-align: right;\">missing</td><td style = \"font-style: italic; text-align: right;\">missing</td><td style = \"text-align: right;\">132</td></tr><tr><td class = \"rowNumber\" style = \"font-weight: bold; text-align: right;\">5</td><td style = \"text-align: right;\">2</td><td style = \"text-align: right;\">4</td><td style = \"text-align: right;\">0.0004</td><td style = \"text-align: right;\">0.065</td><td style = \"text-align: right;\">1</td><td style = \"text-align: right;\">10000</td><td style = \"text-align: right;\">5</td><td style = \"text-align: right;\">15.3846</td><td style = \"font-style: italic; text-align: right;\">missing</td><td style = \"font-style: italic; text-align: right;\">missing</td><td style = \"font-style: italic; text-align: right;\">missing</td><td style = \"font-style: italic; text-align: right;\">missing</td><td style = \"text-align: right;\">760</td></tr><tr><td class = \"rowNumber\" style = \"font-weight: bold; text-align: right;\">6</td><td style = \"text-align: right;\">2</td><td style = \"text-align: right;\">4</td><td style = \"text-align: right;\">0.0004</td><td style = \"text-align: right;\">0.065</td><td style = \"text-align: right;\">1</td><td style = \"text-align: right;\">10000</td><td style = \"text-align: right;\">6</td><td style = \"text-align: right;\">15.3846</td><td style = \"font-style: italic; text-align: right;\">missing</td><td style = \"font-style: italic; text-align: right;\">missing</td><td style = \"font-style: italic; text-align: right;\">missing</td><td style = \"font-style: italic; text-align: right;\">missing</td><td style = \"text-align: right;\">760</td></tr><tr><td class = \"rowNumber\" style = \"font-weight: bold; text-align: right;\">7</td><td style = \"text-align: right;\">3</td><td style = \"text-align: right;\">4</td><td style = \"text-align: right;\">0.003</td><td style = \"text-align: right;\">0.041</td><td style = \"text-align: right;\">1</td><td style = \"text-align: right;\">10000</td><td style = \"text-align: right;\">7</td><td style = \"text-align: right;\">24.3902</td><td style = \"font-style: italic; text-align: right;\">missing</td><td style = \"font-style: italic; text-align: right;\">missing</td><td style = \"font-style: italic; text-align: right;\">missing</td><td style = \"font-style: italic; text-align: right;\">missing</td><td style = \"text-align: right;\">648</td></tr><tr><td class = \"rowNumber\" style = \"font-weight: bold; text-align: right;\">8</td><td style = \"text-align: right;\">3</td><td style = \"text-align: right;\">4</td><td style = \"text-align: right;\">0.003</td><td style = \"text-align: right;\">0.041</td><td style = \"text-align: right;\">1</td><td style = \"text-align: right;\">10000</td><td style = \"text-align: right;\">8</td><td style = \"text-align: right;\">24.3902</td><td style = \"font-style: italic; text-align: right;\">missing</td><td style = \"font-style: italic; text-align: right;\">missing</td><td style = \"font-style: italic; text-align: right;\">missing</td><td style = \"font-style: italic; text-align: right;\">missing</td><td style = \"text-align: right;\">648</td></tr><tr><td class = \"rowNumber\" style = \"font-weight: bold; text-align: right;\">9</td><td style = \"text-align: right;\">4</td><td style = \"text-align: right;\">5</td><td style = \"text-align: right;\">0.00211</td><td style = \"text-align: right;\">0.0135</td><td style = \"text-align: right;\">1</td><td style = \"text-align: right;\">10000</td><td style = \"text-align: right;\">9</td><td style = \"text-align: right;\">74.0741</td><td style = \"font-style: italic; text-align: right;\">missing</td><td style = \"font-style: italic; text-align: right;\">missing</td><td style = \"font-style: italic; text-align: right;\">missing</td><td style = \"font-style: italic; text-align: right;\">missing</td><td style = \"text-align: right;\">1090</td></tr><tr><td class = \"rowNumber\" style = \"font-weight: bold; text-align: right;\">10</td><td style = \"text-align: right;\">4</td><td style = \"text-align: right;\">6</td><td style = \"text-align: right;\">0.0013</td><td style = \"text-align: right;\">0.023</td><td style = \"text-align: right;\">1</td><td style = \"text-align: right;\">10000</td><td style = \"text-align: right;\">10</td><td style = \"text-align: right;\">43.4783</td><td style = \"font-style: italic; text-align: right;\">missing</td><td style = \"font-style: italic; text-align: right;\">missing</td><td style = \"font-style: italic; text-align: right;\">missing</td><td style = \"font-style: italic; text-align: right;\">missing</td><td style = \"text-align: right;\">1500</td></tr><tr><td class = \"rowNumber\" style = \"font-weight: bold; text-align: right;\">11</td><td style = \"text-align: right;\">4</td><td style = \"text-align: right;\">6</td><td style = \"text-align: right;\">0.0013</td><td style = \"text-align: right;\">0.023</td><td style = \"text-align: right;\">1</td><td style = \"text-align: right;\">10000</td><td style = \"text-align: right;\">11</td><td style = \"text-align: right;\">43.4783</td><td style = \"font-style: italic; text-align: right;\">missing</td><td style = \"font-style: italic; text-align: right;\">missing</td><td style = \"font-style: italic; text-align: right;\">missing</td><td style = \"font-style: italic; text-align: right;\">missing</td><td style = \"text-align: right;\">1120</td></tr><tr><td class = \"rowNumber\" style = \"font-weight: bold; text-align: right;\">12</td><td style = \"text-align: right;\">4</td><td style = \"text-align: right;\">7</td><td style = \"text-align: right;\">0.001</td><td style = \"text-align: right;\">0.024</td><td style = \"text-align: right;\">1</td><td style = \"text-align: right;\">10000</td><td style = \"text-align: right;\">12</td><td style = \"text-align: right;\">41.6667</td><td style = \"font-style: italic; text-align: right;\">missing</td><td style = \"font-style: italic; text-align: right;\">missing</td><td style = \"font-style: italic; text-align: right;\">missing</td><td style = \"font-style: italic; text-align: right;\">missing</td><td style = \"text-align: right;\">1000</td></tr><tr><td class = \"rowNumber\" style = \"font-weight: bold; text-align: right;\">13</td><td style = \"text-align: right;\">4</td><td style = \"text-align: right;\">7</td><td style = \"text-align: right;\">0.001</td><td style = \"text-align: right;\">0.024</td><td style = \"text-align: right;\">1</td><td style = \"text-align: right;\">10000</td><td style = \"text-align: right;\">13</td><td style = \"text-align: right;\">41.6667</td><td style = \"font-style: italic; text-align: right;\">missing</td><td style = \"font-style: italic; text-align: right;\">missing</td><td style = \"font-style: italic; text-align: right;\">missing</td><td style = \"font-style: italic; text-align: right;\">missing</td><td style = \"text-align: right;\">1000</td></tr><tr><td style = \"text-align: right;\">&vellip;</td><td style = \"text-align: right;\">&vellip;</td><td style = \"text-align: right;\">&vellip;</td><td style = \"text-align: right;\">&vellip;</td><td style = \"text-align: right;\">&vellip;</td><td style = \"text-align: right;\">&vellip;</td><td style = \"text-align: right;\">&vellip;</td><td style = \"text-align: right;\">&vellip;</td><td style = \"text-align: right;\">&vellip;</td><td style = \"text-align: right;\">&vellip;</td><td style = \"text-align: right;\">&vellip;</td><td style = \"text-align: right;\">&vellip;</td><td style = \"text-align: right;\">&vellip;</td><td style = \"text-align: right;\">&vellip;</td></tr><tr><td class = \"rowNumber\" style = \"font-weight: bold; text-align: right;\">187</td><td style = \"text-align: right;\">27</td><td style = \"text-align: right;\">29</td><td style = \"text-align: right;\">0.00068</td><td style = \"text-align: right;\">0.007</td><td style = \"text-align: right;\">1</td><td style = \"text-align: right;\">10000</td><td style = \"text-align: right;\">88</td><td style = \"text-align: right;\">142.857</td><td style = \"font-style: italic; text-align: right;\">missing</td><td style = \"font-style: italic; text-align: right;\">missing</td><td style = \"font-style: italic; text-align: right;\">missing</td><td style = \"font-style: italic; text-align: right;\">missing</td><td style = \"text-align: right;\">2210</td></tr><tr><td class = \"rowNumber\" style = \"font-weight: bold; text-align: right;\">188</td><td style = \"text-align: right;\">25</td><td style = \"text-align: right;\">29</td><td style = \"text-align: right;\">0.00104</td><td style = \"text-align: right;\">0.0091</td><td style = \"text-align: right;\">1</td><td style = \"text-align: right;\">10000</td><td style = \"text-align: right;\">89</td><td style = \"text-align: right;\">109.89</td><td style = \"font-style: italic; text-align: right;\">missing</td><td style = \"font-style: italic; text-align: right;\">missing</td><td style = \"font-style: italic; text-align: right;\">missing</td><td style = \"font-style: italic; text-align: right;\">missing</td><td style = \"text-align: right;\">1390</td></tr><tr><td class = \"rowNumber\" style = \"font-weight: bold; text-align: right;\">189</td><td style = \"text-align: right;\">25</td><td style = \"text-align: right;\">29</td><td style = \"text-align: right;\">0.00104</td><td style = \"text-align: right;\">0.0091</td><td style = \"text-align: right;\">1</td><td style = \"text-align: right;\">10000</td><td style = \"text-align: right;\">90</td><td style = \"text-align: right;\">109.89</td><td style = \"font-style: italic; text-align: right;\">missing</td><td style = \"font-style: italic; text-align: right;\">missing</td><td style = \"font-style: italic; text-align: right;\">missing</td><td style = \"font-style: italic; text-align: right;\">missing</td><td style = \"text-align: right;\">1390</td></tr><tr><td class = \"rowNumber\" style = \"font-weight: bold; text-align: right;\">190</td><td style = \"text-align: right;\">27</td><td style = \"text-align: right;\">29</td><td style = \"text-align: right;\">0.00068</td><td style = \"text-align: right;\">0.007</td><td style = \"text-align: right;\">1</td><td style = \"text-align: right;\">10000</td><td style = \"text-align: right;\">91</td><td style = \"text-align: right;\">142.857</td><td style = \"font-style: italic; text-align: right;\">missing</td><td style = \"font-style: italic; text-align: right;\">missing</td><td style = \"font-style: italic; text-align: right;\">missing</td><td style = \"font-style: italic; text-align: right;\">missing</td><td style = \"text-align: right;\">2210</td></tr><tr><td class = \"rowNumber\" style = \"font-weight: bold; text-align: right;\">191</td><td style = \"text-align: right;\">22</td><td style = \"text-align: right;\">25</td><td style = \"text-align: right;\">0.0002</td><td style = \"text-align: right;\">0.0057</td><td style = \"text-align: right;\">1</td><td style = \"text-align: right;\">10000</td><td style = \"text-align: right;\">92</td><td style = \"text-align: right;\">175.439</td><td style = \"font-style: italic; text-align: right;\">missing</td><td style = \"font-style: italic; text-align: right;\">missing</td><td style = \"font-style: italic; text-align: right;\">missing</td><td style = \"font-style: italic; text-align: right;\">missing</td><td style = \"text-align: right;\">6960</td></tr><tr><td class = \"rowNumber\" style = \"font-weight: bold; text-align: right;\">192</td><td style = \"text-align: right;\">22</td><td style = \"text-align: right;\">25</td><td style = \"text-align: right;\">0.0002</td><td style = \"text-align: right;\">0.0057</td><td style = \"text-align: right;\">1</td><td style = \"text-align: right;\">10000</td><td style = \"text-align: right;\">93</td><td style = \"text-align: right;\">175.439</td><td style = \"font-style: italic; text-align: right;\">missing</td><td style = \"font-style: italic; text-align: right;\">missing</td><td style = \"font-style: italic; text-align: right;\">missing</td><td style = \"font-style: italic; text-align: right;\">missing</td><td style = \"text-align: right;\">5540</td></tr><tr><td class = \"rowNumber\" style = \"font-weight: bold; text-align: right;\">193</td><td style = \"text-align: right;\">22</td><td style = \"text-align: right;\">28</td><td style = \"text-align: right;\">0.0002</td><td style = \"text-align: right;\">0.00503</td><td style = \"text-align: right;\">1</td><td style = \"text-align: right;\">10000</td><td style = \"text-align: right;\">94</td><td style = \"text-align: right;\">198.807</td><td style = \"font-style: italic; text-align: right;\">missing</td><td style = \"font-style: italic; text-align: right;\">missing</td><td style = \"font-style: italic; text-align: right;\">missing</td><td style = \"font-style: italic; text-align: right;\">missing</td><td style = \"text-align: right;\">3100</td></tr><tr><td class = \"rowNumber\" style = \"font-weight: bold; text-align: right;\">194</td><td style = \"text-align: right;\">22</td><td style = \"text-align: right;\">28</td><td style = \"text-align: right;\">0.0002</td><td style = \"text-align: right;\">0.00503</td><td style = \"text-align: right;\">1</td><td style = \"text-align: right;\">10000</td><td style = \"text-align: right;\">95</td><td style = \"text-align: right;\">198.807</td><td style = \"font-style: italic; text-align: right;\">missing</td><td style = \"font-style: italic; text-align: right;\">missing</td><td style = \"font-style: italic; text-align: right;\">missing</td><td style = \"font-style: italic; text-align: right;\">missing</td><td style = \"text-align: right;\">3100</td></tr><tr><td class = \"rowNumber\" style = \"font-weight: bold; text-align: right;\">195</td><td style = \"text-align: right;\">28</td><td style = \"text-align: right;\">27</td><td style = \"text-align: right;\">0.00038</td><td style = \"text-align: right;\">0.00711</td><td style = \"text-align: right;\">1</td><td style = \"text-align: right;\">10000</td><td style = \"text-align: right;\">96</td><td style = \"text-align: right;\">140.647</td><td style = \"font-style: italic; text-align: right;\">missing</td><td style = \"font-style: italic; text-align: right;\">missing</td><td style = \"font-style: italic; text-align: right;\">missing</td><td style = \"font-style: italic; text-align: right;\">missing</td><td style = \"text-align: right;\">3070</td></tr><tr><td class = \"rowNumber\" style = \"font-weight: bold; text-align: right;\">196</td><td style = \"text-align: right;\">28</td><td style = \"text-align: right;\">27</td><td style = \"text-align: right;\">0.00038</td><td style = \"text-align: right;\">0.00711</td><td style = \"text-align: right;\">1</td><td style = \"text-align: right;\">10000</td><td style = \"text-align: right;\">97</td><td style = \"text-align: right;\">140.647</td><td style = \"font-style: italic; text-align: right;\">missing</td><td style = \"font-style: italic; text-align: right;\">missing</td><td style = \"font-style: italic; text-align: right;\">missing</td><td style = \"font-style: italic; text-align: right;\">missing</td><td style = \"text-align: right;\">3070</td></tr><tr><td class = \"rowNumber\" style = \"font-weight: bold; text-align: right;\">197</td><td style = \"text-align: right;\">27</td><td style = \"text-align: right;\">26</td><td style = \"text-align: right;\">0.00051</td><td style = \"text-align: right;\">0.00796</td><td style = \"text-align: right;\">1</td><td style = \"text-align: right;\">10000</td><td style = \"text-align: right;\">98</td><td style = \"text-align: right;\">125.628</td><td style = \"font-style: italic; text-align: right;\">missing</td><td style = \"font-style: italic; text-align: right;\">missing</td><td style = \"font-style: italic; text-align: right;\">missing</td><td style = \"font-style: italic; text-align: right;\">missing</td><td style = \"text-align: right;\">2780</td></tr><tr><td class = \"rowNumber\" style = \"font-weight: bold; text-align: right;\">198</td><td style = \"text-align: right;\">27</td><td style = \"text-align: right;\">26</td><td style = \"text-align: right;\">0.00051</td><td style = \"text-align: right;\">0.00796</td><td style = \"text-align: right;\">1</td><td style = \"text-align: right;\">10000</td><td style = \"text-align: right;\">99</td><td style = \"text-align: right;\">125.628</td><td style = \"font-style: italic; text-align: right;\">missing</td><td style = \"font-style: italic; text-align: right;\">missing</td><td style = \"font-style: italic; text-align: right;\">missing</td><td style = \"font-style: italic; text-align: right;\">missing</td><td style = \"text-align: right;\">2780</td></tr></tbody></table></div>"
      ],
      "text/latex": [
       "\\begin{tabular}{r|ccccccccccccc}\n",
       "\t& fromnode & tonode & resistance & reactance & contingencymarked & capacity & id & b & column9 & column10 & column11 & column12 & \\\\\n",
       "\t\\hline\n",
       "\t& Int64 & Int64 & Float64 & Float64 & Int64 & Int64 & Int64 & Float64 & Missing & Missing & Missing & Missing & \\\\\n",
       "\t\\hline\n",
       "\t1 & 1 & 2 & 0.0122 & 0.02 & 1 & 10000 & 1 & 50.0 & \\emph{missing} & \\emph{missing} & \\emph{missing} & \\emph{missing} & $\\dots$ \\\\\n",
       "\t2 & 1 & 3 & 0.007 & 0.15 & 1 & 10000 & 2 & 6.66667 & \\emph{missing} & \\emph{missing} & \\emph{missing} & \\emph{missing} & $\\dots$ \\\\\n",
       "\t3 & 1 & 2 & 0.0122 & 0.02 & 1 & 10000 & 3 & 50.0 & \\emph{missing} & \\emph{missing} & \\emph{missing} & \\emph{missing} & $\\dots$ \\\\\n",
       "\t4 & 1 & 3 & 0.007 & 0.15 & 1 & 10000 & 4 & 6.66667 & \\emph{missing} & \\emph{missing} & \\emph{missing} & \\emph{missing} & $\\dots$ \\\\\n",
       "\t5 & 2 & 4 & 0.0004 & 0.065 & 1 & 10000 & 5 & 15.3846 & \\emph{missing} & \\emph{missing} & \\emph{missing} & \\emph{missing} & $\\dots$ \\\\\n",
       "\t6 & 2 & 4 & 0.0004 & 0.065 & 1 & 10000 & 6 & 15.3846 & \\emph{missing} & \\emph{missing} & \\emph{missing} & \\emph{missing} & $\\dots$ \\\\\n",
       "\t7 & 3 & 4 & 0.003 & 0.041 & 1 & 10000 & 7 & 24.3902 & \\emph{missing} & \\emph{missing} & \\emph{missing} & \\emph{missing} & $\\dots$ \\\\\n",
       "\t8 & 3 & 4 & 0.003 & 0.041 & 1 & 10000 & 8 & 24.3902 & \\emph{missing} & \\emph{missing} & \\emph{missing} & \\emph{missing} & $\\dots$ \\\\\n",
       "\t9 & 4 & 5 & 0.00211 & 0.0135 & 1 & 10000 & 9 & 74.0741 & \\emph{missing} & \\emph{missing} & \\emph{missing} & \\emph{missing} & $\\dots$ \\\\\n",
       "\t10 & 4 & 6 & 0.0013 & 0.023 & 1 & 10000 & 10 & 43.4783 & \\emph{missing} & \\emph{missing} & \\emph{missing} & \\emph{missing} & $\\dots$ \\\\\n",
       "\t11 & 4 & 6 & 0.0013 & 0.023 & 1 & 10000 & 11 & 43.4783 & \\emph{missing} & \\emph{missing} & \\emph{missing} & \\emph{missing} & $\\dots$ \\\\\n",
       "\t12 & 4 & 7 & 0.001 & 0.024 & 1 & 10000 & 12 & 41.6667 & \\emph{missing} & \\emph{missing} & \\emph{missing} & \\emph{missing} & $\\dots$ \\\\\n",
       "\t13 & 4 & 7 & 0.001 & 0.024 & 1 & 10000 & 13 & 41.6667 & \\emph{missing} & \\emph{missing} & \\emph{missing} & \\emph{missing} & $\\dots$ \\\\\n",
       "\t14 & 4 & 5 & 0.0021 & 0.0135 & 1 & 10000 & 14 & 74.0741 & \\emph{missing} & \\emph{missing} & \\emph{missing} & \\emph{missing} & $\\dots$ \\\\\n",
       "\t15 & 7 & 6 & 0.00085 & 0.01051 & 1 & 10000 & 15 & 95.1475 & \\emph{missing} & \\emph{missing} & \\emph{missing} & \\emph{missing} & $\\dots$ \\\\\n",
       "\t16 & 7 & 6 & 0.00151 & 0.01613 & 1 & 10000 & 16 & 61.9963 & \\emph{missing} & \\emph{missing} & \\emph{missing} & \\emph{missing} & $\\dots$ \\\\\n",
       "\t17 & 7 & 8 & 0.0 & 0.0001 & 1 & 10000 & 17 & 10000.0 & \\emph{missing} & \\emph{missing} & \\emph{missing} & \\emph{missing} & $\\dots$ \\\\\n",
       "\t18 & 6 & 9 & 0.00078 & 0.00852 & 1 & 10000 & 18 & 117.371 & \\emph{missing} & \\emph{missing} & \\emph{missing} & \\emph{missing} & $\\dots$ \\\\\n",
       "\t19 & 6 & 9 & 0.00078 & 0.00852 & 1 & 10000 & 19 & 117.371 & \\emph{missing} & \\emph{missing} & \\emph{missing} & \\emph{missing} & $\\dots$ \\\\\n",
       "\t20 & 5 & 10 & 0.0004 & 0.0001 & 1 & 10000 & 20 & 10000.0 & \\emph{missing} & \\emph{missing} & \\emph{missing} & \\emph{missing} & $\\dots$ \\\\\n",
       "\t21 & 5 & 10 & 0.0004 & 0.0001 & 1 & 10000 & 21 & 10000.0 & \\emph{missing} & \\emph{missing} & \\emph{missing} & \\emph{missing} & $\\dots$ \\\\\n",
       "\t22 & 5 & 6 & 0.003 & 0.2 & 1 & 10000 & 22 & 5.0 & \\emph{missing} & \\emph{missing} & \\emph{missing} & \\emph{missing} & $\\dots$ \\\\\n",
       "\t23 & 5 & 6 & 0.003 & 0.2 & 1 & 10000 & 23 & 5.0 & \\emph{missing} & \\emph{missing} & \\emph{missing} & \\emph{missing} & $\\dots$ \\\\\n",
       "\t24 & 10 & 11 & 0.00083 & 0.0175 & 1 & 10000 & 24 & 57.1429 & \\emph{missing} & \\emph{missing} & \\emph{missing} & \\emph{missing} & $\\dots$ \\\\\n",
       "\t25 & 10 & 11 & 0.00083 & 0.0175 & 1 & 10000 & 25 & 57.1429 & \\emph{missing} & \\emph{missing} & \\emph{missing} & \\emph{missing} & $\\dots$ \\\\\n",
       "\t26 & 9 & 13 & 0.00164 & 0.0163 & 1 & 10000 & 26 & 61.3497 & \\emph{missing} & \\emph{missing} & \\emph{missing} & \\emph{missing} & $\\dots$ \\\\\n",
       "\t27 & 9 & 13 & 0.00164 & 0.0163 & 1 & 10000 & 27 & 61.3497 & \\emph{missing} & \\emph{missing} & \\emph{missing} & \\emph{missing} & $\\dots$ \\\\\n",
       "\t28 & 9 & 11 & 0.00352 & 0.02453 & 1 & 10000 & 28 & 40.7664 & \\emph{missing} & \\emph{missing} & \\emph{missing} & \\emph{missing} & $\\dots$ \\\\\n",
       "\t29 & 9 & 11 & 0.00492 & 0.0343 & 1 & 10000 & 29 & 29.1545 & \\emph{missing} & \\emph{missing} & \\emph{missing} & \\emph{missing} & $\\dots$ \\\\\n",
       "\t30 & 11 & 12 & 0.00053 & 0.00835 & 1 & 10000 & 30 & 119.76 & \\emph{missing} & \\emph{missing} & \\emph{missing} & \\emph{missing} & $\\dots$ \\\\\n",
       "\t$\\dots$ & $\\dots$ & $\\dots$ & $\\dots$ & $\\dots$ & $\\dots$ & $\\dots$ & $\\dots$ & $\\dots$ & $\\dots$ & $\\dots$ & $\\dots$ & $\\dots$ &  \\\\\n",
       "\\end{tabular}\n"
      ],
      "text/plain": [
       "\u001b[1m198×13 DataFrame\u001b[0m\n",
       "\u001b[1m Row \u001b[0m│\u001b[1m fromnode \u001b[0m\u001b[1m tonode \u001b[0m\u001b[1m resistance \u001b[0m\u001b[1m reactance \u001b[0m\u001b[1m contingencymarked \u001b[0m\u001b[1m capacity \u001b[0m\u001b[1m id    \u001b[0m\u001b[1m b         \u001b[0m\u001b[1m column9 \u001b[0m\u001b[1m column10 \u001b[0m\u001b[1m colu\u001b[0m ⋯\n",
       "     │\u001b[90m Int64    \u001b[0m\u001b[90m Int64  \u001b[0m\u001b[90m Float64    \u001b[0m\u001b[90m Float64   \u001b[0m\u001b[90m Int64             \u001b[0m\u001b[90m Int64    \u001b[0m\u001b[90m Int64 \u001b[0m\u001b[90m Float64   \u001b[0m\u001b[90m Missing \u001b[0m\u001b[90m Missing  \u001b[0m\u001b[90m Miss\u001b[0m ⋯\n",
       "─────┼──────────────────────────────────────────────────────────────────────────────────────────────────────────────────\n",
       "   1 │        1       2     0.0122     0.02                     1     10000      1   50.0     \u001b[90m missing \u001b[0m\u001b[90m  missing \u001b[0m\u001b[90m  mis\u001b[0m ⋯\n",
       "   2 │        1       3     0.007      0.15                     1     10000      2    6.66667 \u001b[90m missing \u001b[0m\u001b[90m  missing \u001b[0m\u001b[90m  mis\u001b[0m\n",
       "   3 │        1       2     0.0122     0.02                     1     10000      3   50.0     \u001b[90m missing \u001b[0m\u001b[90m  missing \u001b[0m\u001b[90m  mis\u001b[0m\n",
       "   4 │        1       3     0.007      0.15                     1     10000      4    6.66667 \u001b[90m missing \u001b[0m\u001b[90m  missing \u001b[0m\u001b[90m  mis\u001b[0m\n",
       "   5 │        2       4     0.0004     0.065                    1     10000      5   15.3846  \u001b[90m missing \u001b[0m\u001b[90m  missing \u001b[0m\u001b[90m  mis\u001b[0m ⋯\n",
       "   6 │        2       4     0.0004     0.065                    1     10000      6   15.3846  \u001b[90m missing \u001b[0m\u001b[90m  missing \u001b[0m\u001b[90m  mis\u001b[0m\n",
       "   7 │        3       4     0.003      0.041                    1     10000      7   24.3902  \u001b[90m missing \u001b[0m\u001b[90m  missing \u001b[0m\u001b[90m  mis\u001b[0m\n",
       "   8 │        3       4     0.003      0.041                    1     10000      8   24.3902  \u001b[90m missing \u001b[0m\u001b[90m  missing \u001b[0m\u001b[90m  mis\u001b[0m\n",
       "   9 │        4       5     0.00211    0.0135                   1     10000      9   74.0741  \u001b[90m missing \u001b[0m\u001b[90m  missing \u001b[0m\u001b[90m  mis\u001b[0m ⋯\n",
       "  10 │        4       6     0.0013     0.023                    1     10000     10   43.4783  \u001b[90m missing \u001b[0m\u001b[90m  missing \u001b[0m\u001b[90m  mis\u001b[0m\n",
       "  11 │        4       6     0.0013     0.023                    1     10000     11   43.4783  \u001b[90m missing \u001b[0m\u001b[90m  missing \u001b[0m\u001b[90m  mis\u001b[0m\n",
       "  ⋮  │    ⋮        ⋮         ⋮           ⋮              ⋮             ⋮        ⋮        ⋮         ⋮        ⋮         ⋮ ⋱\n",
       " 189 │       25      29     0.00104    0.0091                   1     10000     90  109.89    \u001b[90m missing \u001b[0m\u001b[90m  missing \u001b[0m\u001b[90m  mis\u001b[0m\n",
       " 190 │       27      29     0.00068    0.007                    1     10000     91  142.857   \u001b[90m missing \u001b[0m\u001b[90m  missing \u001b[0m\u001b[90m  mis\u001b[0m ⋯\n",
       " 191 │       22      25     0.0002     0.0057                   1     10000     92  175.439   \u001b[90m missing \u001b[0m\u001b[90m  missing \u001b[0m\u001b[90m  mis\u001b[0m\n",
       " 192 │       22      25     0.0002     0.0057                   1     10000     93  175.439   \u001b[90m missing \u001b[0m\u001b[90m  missing \u001b[0m\u001b[90m  mis\u001b[0m\n",
       " 193 │       22      28     0.0002     0.00503                  1     10000     94  198.807   \u001b[90m missing \u001b[0m\u001b[90m  missing \u001b[0m\u001b[90m  mis\u001b[0m\n",
       " 194 │       22      28     0.0002     0.00503                  1     10000     95  198.807   \u001b[90m missing \u001b[0m\u001b[90m  missing \u001b[0m\u001b[90m  mis\u001b[0m ⋯\n",
       " 195 │       28      27     0.00038    0.00711                  1     10000     96  140.647   \u001b[90m missing \u001b[0m\u001b[90m  missing \u001b[0m\u001b[90m  mis\u001b[0m\n",
       " 196 │       28      27     0.00038    0.00711                  1     10000     97  140.647   \u001b[90m missing \u001b[0m\u001b[90m  missing \u001b[0m\u001b[90m  mis\u001b[0m\n",
       " 197 │       27      26     0.00051    0.00796                  1     10000     98  125.628   \u001b[90m missing \u001b[0m\u001b[90m  missing \u001b[0m\u001b[90m  mis\u001b[0m\n",
       " 198 │       27      26     0.00051    0.00796                  1     10000     99  125.628   \u001b[90m missing \u001b[0m\u001b[90m  missing \u001b[0m\u001b[90m  mis\u001b[0m ⋯\n",
       "\u001b[36m                                                                                          3 columns and 177 rows omitted\u001b[0m"
      ]
     },
     "execution_count": 2,
     "metadata": {},
     "output_type": "execute_result"
    }
   ],
   "source": [
    "#open csv files to define sets, lines, gens and and loads/demand\n",
    "datadir = joinpath(\"ReducedNetwork\") \n",
    "gens = CSV.read(joinpath(datadir,\"UpdateGenRedNet.csv\"), DataFrame);\n",
    "lines = CSV.read(joinpath(datadir,\"UpdateTransRedNet.csv\"), DataFrame);\n",
    "loads = CSV.read(joinpath(datadir,\"demandRedNet.csv\"), DataFrame);\n",
    "\n",
    "\n",
    "# Rename all columns to lowercase (by convention)\n",
    "for f in [gens, lines, loads]\n",
    "    rename!(f,lowercase.(names(f)))\n",
    "end\n",
    "\n",
    "# create generator ids #changed to read columns rather than rows\n",
    "gens.id = 1:nrow(gens);\n",
    "\n",
    "# create line ids \n",
    "lines.id = 1:nrow(lines);\n",
    "# add set of rows for reverse direction with same parameters\n",
    "\n",
    "lines2 = copy(lines)\n",
    "lines2.f = lines2.fromnode\n",
    "lines2.fromnode = lines.tonode\n",
    "lines2.tonode = lines.fromnode\n",
    "lines2 = lines2[:,names(lines)]\n",
    "append!(lines,lines2)\n",
    "\n",
    "#lines.capacity = *lines.capacity\n",
    "# calculate simple susceptance, ignoring resistance as earlier \n",
    "lines.b = 1 ./ lines.reactance\n",
    "\n",
    "# keep only a single time period\n",
    "#loads = loads[:,[\"connnode\",\"interval-1_load\"]]\n",
    "#rename!(loads,\"interval-1_load\" => \"demand\");\n",
    "\n",
    "lines"
   ]
  },
  {
   "cell_type": "code",
   "execution_count": 18,
   "id": "c47c5316",
   "metadata": {},
   "outputs": [
    {
     "data": {
      "text/plain": [
       "237270.089959114"
      ]
     },
     "execution_count": 18,
     "metadata": {},
     "output_type": "execute_result"
    }
   ],
   "source": [
    "sum(gens.pgmax)"
   ]
  },
  {
   "cell_type": "code",
   "execution_count": 19,
   "id": "cdd9e16a",
   "metadata": {},
   "outputs": [
    {
     "data": {
      "text/plain": [
       "-73847.1343515"
      ]
     },
     "execution_count": 19,
     "metadata": {},
     "output_type": "execute_result"
    }
   ],
   "source": [
    "sum(loads.demand)"
   ]
  },
  {
   "cell_type": "code",
   "execution_count": 5,
   "id": "eb918835",
   "metadata": {},
   "outputs": [
    {
     "data": {
      "text/html": [
       "<div><div style = \"float: left;\"><span>29×7 DataFrame</span></div><div style = \"float: right;\"><span style = \"font-style: italic;\">4 rows omitted</span></div><div style = \"clear: both;\"></div></div><div class = \"data-frame\" style = \"overflow-x: scroll;\"><table class = \"data-frame\" style = \"margin-bottom: 6px;\"><thead><tr class = \"header\"><th class = \"rowNumber\" style = \"font-weight: bold; text-align: right;\">Row</th><th style = \"text-align: left;\">connnode</th><th style = \"text-align: left;\">demand</th><th style = \"text-align: left;\">column3</th><th style = \"text-align: left;\">column4</th><th style = \"text-align: left;\">column5</th><th style = \"text-align: left;\">column6</th><th style = \"text-align: left;\">column7</th></tr><tr class = \"subheader headerLastRow\"><th class = \"rowNumber\" style = \"font-weight: bold; text-align: right;\"></th><th title = \"Int64\" style = \"text-align: left;\">Int64</th><th title = \"Float64\" style = \"text-align: left;\">Float64</th><th title = \"Missing\" style = \"text-align: left;\">Missing</th><th title = \"Missing\" style = \"text-align: left;\">Missing</th><th title = \"Missing\" style = \"text-align: left;\">Missing</th><th title = \"String31\" style = \"text-align: left;\">String31</th><th title = \"Int64\" style = \"text-align: left;\">Int64</th></tr></thead><tbody><tr><td class = \"rowNumber\" style = \"font-weight: bold; text-align: right;\">1</td><td style = \"text-align: right;\">1</td><td style = \"text-align: right;\">-390.3</td><td style = \"font-style: italic; text-align: right;\">missing</td><td style = \"font-style: italic; text-align: right;\">missing</td><td style = \"font-style: italic; text-align: right;\">missing</td><td style = \"text-align: left;\">Beauly</td><td style = \"text-align: right;\">1</td></tr><tr><td class = \"rowNumber\" style = \"font-weight: bold; text-align: right;\">2</td><td style = \"text-align: right;\">2</td><td style = \"text-align: right;\">-624.695</td><td style = \"font-style: italic; text-align: right;\">missing</td><td style = \"font-style: italic; text-align: right;\">missing</td><td style = \"font-style: italic; text-align: right;\">missing</td><td style = \"text-align: left;\">Peterhead</td><td style = \"text-align: right;\">2</td></tr><tr><td class = \"rowNumber\" style = \"font-weight: bold; text-align: right;\">3</td><td style = \"text-align: right;\">3</td><td style = \"text-align: right;\">-202.172</td><td style = \"font-style: italic; text-align: right;\">missing</td><td style = \"font-style: italic; text-align: right;\">missing</td><td style = \"font-style: italic; text-align: right;\">missing</td><td style = \"text-align: left;\">Errochty</td><td style = \"text-align: right;\">3</td></tr><tr><td class = \"rowNumber\" style = \"font-weight: bold; text-align: right;\">4</td><td style = \"text-align: right;\">4</td><td style = \"text-align: right;\">-1828.53</td><td style = \"font-style: italic; text-align: right;\">missing</td><td style = \"font-style: italic; text-align: right;\">missing</td><td style = \"font-style: italic; text-align: right;\">missing</td><td style = \"text-align: left;\">Denny/Bonnybridge</td><td style = \"text-align: right;\">4</td></tr><tr><td class = \"rowNumber\" style = \"font-weight: bold; text-align: right;\">5</td><td style = \"text-align: right;\">7</td><td style = \"text-align: right;\">-2168.74</td><td style = \"font-style: italic; text-align: right;\">missing</td><td style = \"font-style: italic; text-align: right;\">missing</td><td style = \"font-style: italic; text-align: right;\">missing</td><td style = \"text-align: left;\">Neilston</td><td style = \"text-align: right;\">7</td></tr><tr><td class = \"rowNumber\" style = \"font-weight: bold; text-align: right;\">6</td><td style = \"text-align: right;\">6</td><td style = \"text-align: right;\">-660.162</td><td style = \"font-style: italic; text-align: right;\">missing</td><td style = \"font-style: italic; text-align: right;\">missing</td><td style = \"font-style: italic; text-align: right;\">missing</td><td style = \"text-align: left;\">Strathaven</td><td style = \"text-align: right;\">6</td></tr><tr><td class = \"rowNumber\" style = \"font-weight: bold; text-align: right;\">7</td><td style = \"text-align: right;\">5</td><td style = \"text-align: right;\">-572.218</td><td style = \"font-style: italic; text-align: right;\">missing</td><td style = \"font-style: italic; text-align: right;\">missing</td><td style = \"font-style: italic; text-align: right;\">missing</td><td style = \"text-align: left;\">Torness</td><td style = \"text-align: right;\">5</td></tr><tr><td class = \"rowNumber\" style = \"font-weight: bold; text-align: right;\">8</td><td style = \"text-align: right;\">10</td><td style = \"text-align: right;\">-162.219</td><td style = \"font-style: italic; text-align: right;\">missing</td><td style = \"font-style: italic; text-align: right;\">missing</td><td style = \"font-style: italic; text-align: right;\">missing</td><td style = \"text-align: left;\">Eccles</td><td style = \"text-align: right;\">10</td></tr><tr><td class = \"rowNumber\" style = \"font-weight: bold; text-align: right;\">9</td><td style = \"text-align: right;\">9</td><td style = \"text-align: right;\">-581.174</td><td style = \"font-style: italic; text-align: right;\">missing</td><td style = \"font-style: italic; text-align: right;\">missing</td><td style = \"font-style: italic; text-align: right;\">missing</td><td style = \"text-align: left;\">Harker</td><td style = \"text-align: right;\">9</td></tr><tr><td class = \"rowNumber\" style = \"font-weight: bold; text-align: right;\">10</td><td style = \"text-align: right;\">11</td><td style = \"text-align: right;\">-3507.74</td><td style = \"font-style: italic; text-align: right;\">missing</td><td style = \"font-style: italic; text-align: right;\">missing</td><td style = \"font-style: italic; text-align: right;\">missing</td><td style = \"text-align: left;\">Stella West</td><td style = \"text-align: right;\">11</td></tr><tr><td class = \"rowNumber\" style = \"font-weight: bold; text-align: right;\">11</td><td style = \"text-align: right;\">13</td><td style = \"text-align: right;\">-1959.87</td><td style = \"font-style: italic; text-align: right;\">missing</td><td style = \"font-style: italic; text-align: right;\">missing</td><td style = \"font-style: italic; text-align: right;\">missing</td><td style = \"text-align: left;\">Penwortham</td><td style = \"text-align: right;\">13</td></tr><tr><td class = \"rowNumber\" style = \"font-weight: bold; text-align: right;\">12</td><td style = \"text-align: right;\">8</td><td style = \"text-align: right;\">-3956.87</td><td style = \"font-style: italic; text-align: right;\">missing</td><td style = \"font-style: italic; text-align: right;\">missing</td><td style = \"font-style: italic; text-align: right;\">missing</td><td style = \"text-align: left;\">Deeside</td><td style = \"text-align: right;\">8</td></tr><tr><td class = \"rowNumber\" style = \"font-weight: bold; text-align: right;\">13</td><td style = \"text-align: right;\">14</td><td style = \"text-align: right;\">-4011.53</td><td style = \"font-style: italic; text-align: right;\">missing</td><td style = \"font-style: italic; text-align: right;\">missing</td><td style = \"font-style: italic; text-align: right;\">missing</td><td style = \"text-align: left;\">Daines</td><td style = \"text-align: right;\">14</td></tr><tr><td style = \"text-align: right;\">&vellip;</td><td style = \"text-align: right;\">&vellip;</td><td style = \"text-align: right;\">&vellip;</td><td style = \"text-align: right;\">&vellip;</td><td style = \"text-align: right;\">&vellip;</td><td style = \"text-align: right;\">&vellip;</td><td style = \"text-align: right;\">&vellip;</td><td style = \"text-align: right;\">&vellip;</td></tr><tr><td class = \"rowNumber\" style = \"font-weight: bold; text-align: right;\">18</td><td style = \"text-align: right;\">15</td><td style = \"text-align: right;\">-5457.76</td><td style = \"font-style: italic; text-align: right;\">missing</td><td style = \"font-style: italic; text-align: right;\">missing</td><td style = \"font-style: italic; text-align: right;\">missing</td><td style = \"text-align: left;\">Feckenham</td><td style = \"text-align: right;\">15</td></tr><tr><td class = \"rowNumber\" style = \"font-weight: bold; text-align: right;\">19</td><td style = \"text-align: right;\">23</td><td style = \"text-align: right;\">-1280.02</td><td style = \"font-style: italic; text-align: right;\">missing</td><td style = \"font-style: italic; text-align: right;\">missing</td><td style = \"font-style: italic; text-align: right;\">missing</td><td style = \"text-align: left;\">Walpole</td><td style = \"text-align: right;\">23</td></tr><tr><td class = \"rowNumber\" style = \"font-weight: bold; text-align: right;\">20</td><td style = \"text-align: right;\">21</td><td style = \"text-align: right;\">-1938.79</td><td style = \"font-style: italic; text-align: right;\">missing</td><td style = \"font-style: italic; text-align: right;\">missing</td><td style = \"font-style: italic; text-align: right;\">missing</td><td style = \"text-align: left;\">Bramford</td><td style = \"text-align: right;\">21</td></tr><tr><td class = \"rowNumber\" style = \"font-weight: bold; text-align: right;\">21</td><td style = \"text-align: right;\">24</td><td style = \"text-align: right;\">-1217.97</td><td style = \"font-style: italic; text-align: right;\">missing</td><td style = \"font-style: italic; text-align: right;\">missing</td><td style = \"font-style: italic; text-align: right;\">missing</td><td style = \"text-align: left;\">Pelham</td><td style = \"text-align: right;\">24</td></tr><tr><td class = \"rowNumber\" style = \"font-weight: bold; text-align: right;\">22</td><td style = \"text-align: right;\">19</td><td style = \"text-align: right;\">-4018.08</td><td style = \"font-style: italic; text-align: right;\">missing</td><td style = \"font-style: italic; text-align: right;\">missing</td><td style = \"font-style: italic; text-align: right;\">missing</td><td style = \"text-align: left;\">Sundon/East Claydon</td><td style = \"text-align: right;\">19</td></tr><tr><td class = \"rowNumber\" style = \"font-weight: bold; text-align: right;\">23</td><td style = \"text-align: right;\">20</td><td style = \"text-align: right;\">-5241.23</td><td style = \"font-style: italic; text-align: right;\">missing</td><td style = \"font-style: italic; text-align: right;\">missing</td><td style = \"font-style: italic; text-align: right;\">missing</td><td style = \"text-align: left;\">Melksham</td><td style = \"text-align: right;\">20</td></tr><tr><td class = \"rowNumber\" style = \"font-weight: bold; text-align: right;\">24</td><td style = \"text-align: right;\">29</td><td style = \"text-align: right;\">-1812.56</td><td style = \"font-style: italic; text-align: right;\">missing</td><td style = \"font-style: italic; text-align: right;\">missing</td><td style = \"font-style: italic; text-align: right;\">missing</td><td style = \"text-align: left;\">Bramley</td><td style = \"text-align: right;\">29</td></tr><tr><td class = \"rowNumber\" style = \"font-weight: bold; text-align: right;\">25</td><td style = \"text-align: right;\">25</td><td style = \"text-align: right;\">-12013.2</td><td style = \"font-style: italic; text-align: right;\">missing</td><td style = \"font-style: italic; text-align: right;\">missing</td><td style = \"font-style: italic; text-align: right;\">missing</td><td style = \"text-align: left;\">London</td><td style = \"text-align: right;\">25</td></tr><tr><td class = \"rowNumber\" style = \"font-weight: bold; text-align: right;\">26</td><td style = \"text-align: right;\">22</td><td style = \"text-align: right;\">-2016.52</td><td style = \"font-style: italic; text-align: right;\">missing</td><td style = \"font-style: italic; text-align: right;\">missing</td><td style = \"font-style: italic; text-align: right;\">missing</td><td style = \"text-align: left;\">Kemsley</td><td style = \"text-align: right;\">22</td></tr><tr><td class = \"rowNumber\" style = \"font-weight: bold; text-align: right;\">27</td><td style = \"text-align: right;\">28</td><td style = \"text-align: right;\">-1212.66</td><td style = \"font-style: italic; text-align: right;\">missing</td><td style = \"font-style: italic; text-align: right;\">missing</td><td style = \"font-style: italic; text-align: right;\">missing</td><td style = \"text-align: left;\">Sellindge</td><td style = \"text-align: right;\">28</td></tr><tr><td class = \"rowNumber\" style = \"font-weight: bold; text-align: right;\">28</td><td style = \"text-align: right;\">27</td><td style = \"text-align: right;\">-2999.87</td><td style = \"font-style: italic; text-align: right;\">missing</td><td style = \"font-style: italic; text-align: right;\">missing</td><td style = \"font-style: italic; text-align: right;\">missing</td><td style = \"text-align: left;\">Lovedean</td><td style = \"text-align: right;\">27</td></tr><tr><td class = \"rowNumber\" style = \"font-weight: bold; text-align: right;\">29</td><td style = \"text-align: right;\">26</td><td style = \"text-align: right;\">-3965.64</td><td style = \"font-style: italic; text-align: right;\">missing</td><td style = \"font-style: italic; text-align: right;\">missing</td><td style = \"font-style: italic; text-align: right;\">missing</td><td style = \"text-align: left;\">S.W.Penisula</td><td style = \"text-align: right;\">26</td></tr></tbody></table></div>"
      ],
      "text/latex": [
       "\\begin{tabular}{r|ccccccc}\n",
       "\t& connnode & demand & column3 & column4 & column5 & column6 & column7\\\\\n",
       "\t\\hline\n",
       "\t& Int64 & Float64 & Missing & Missing & Missing & String31 & Int64\\\\\n",
       "\t\\hline\n",
       "\t1 & 1 & -390.3 & \\emph{missing} & \\emph{missing} & \\emph{missing} & Beauly & 1 \\\\\n",
       "\t2 & 2 & -624.695 & \\emph{missing} & \\emph{missing} & \\emph{missing} & Peterhead & 2 \\\\\n",
       "\t3 & 3 & -202.172 & \\emph{missing} & \\emph{missing} & \\emph{missing} & Errochty & 3 \\\\\n",
       "\t4 & 4 & -1828.53 & \\emph{missing} & \\emph{missing} & \\emph{missing} & Denny/Bonnybridge & 4 \\\\\n",
       "\t5 & 7 & -2168.74 & \\emph{missing} & \\emph{missing} & \\emph{missing} & Neilston & 7 \\\\\n",
       "\t6 & 6 & -660.162 & \\emph{missing} & \\emph{missing} & \\emph{missing} & Strathaven & 6 \\\\\n",
       "\t7 & 5 & -572.218 & \\emph{missing} & \\emph{missing} & \\emph{missing} & Torness & 5 \\\\\n",
       "\t8 & 10 & -162.219 & \\emph{missing} & \\emph{missing} & \\emph{missing} & Eccles & 10 \\\\\n",
       "\t9 & 9 & -581.174 & \\emph{missing} & \\emph{missing} & \\emph{missing} & Harker & 9 \\\\\n",
       "\t10 & 11 & -3507.74 & \\emph{missing} & \\emph{missing} & \\emph{missing} & Stella West & 11 \\\\\n",
       "\t11 & 13 & -1959.87 & \\emph{missing} & \\emph{missing} & \\emph{missing} & Penwortham & 13 \\\\\n",
       "\t12 & 8 & -3956.87 & \\emph{missing} & \\emph{missing} & \\emph{missing} & Deeside & 8 \\\\\n",
       "\t13 & 14 & -4011.53 & \\emph{missing} & \\emph{missing} & \\emph{missing} & Daines & 14 \\\\\n",
       "\t14 & 16 & -3385.08 & \\emph{missing} & \\emph{missing} & \\emph{missing} & Th. Marsh/Stocksbridge & 16 \\\\\n",
       "\t15 & 12 & -2901.78 & \\emph{missing} & \\emph{missing} & \\emph{missing} & Thornton/Drax/Eggborough & 12 \\\\\n",
       "\t16 & 17 & -1046.22 & \\emph{missing} & \\emph{missing} & \\emph{missing} & Keadby & 17 \\\\\n",
       "\t17 & 18 & -2713.56 & \\emph{missing} & \\emph{missing} & \\emph{missing} & Ratcliffe & 18 \\\\\n",
       "\t18 & 15 & -5457.76 & \\emph{missing} & \\emph{missing} & \\emph{missing} & Feckenham & 15 \\\\\n",
       "\t19 & 23 & -1280.02 & \\emph{missing} & \\emph{missing} & \\emph{missing} & Walpole & 23 \\\\\n",
       "\t20 & 21 & -1938.79 & \\emph{missing} & \\emph{missing} & \\emph{missing} & Bramford & 21 \\\\\n",
       "\t21 & 24 & -1217.97 & \\emph{missing} & \\emph{missing} & \\emph{missing} & Pelham & 24 \\\\\n",
       "\t22 & 19 & -4018.08 & \\emph{missing} & \\emph{missing} & \\emph{missing} & Sundon/East Claydon & 19 \\\\\n",
       "\t23 & 20 & -5241.23 & \\emph{missing} & \\emph{missing} & \\emph{missing} & Melksham & 20 \\\\\n",
       "\t24 & 29 & -1812.56 & \\emph{missing} & \\emph{missing} & \\emph{missing} & Bramley & 29 \\\\\n",
       "\t25 & 25 & -12013.2 & \\emph{missing} & \\emph{missing} & \\emph{missing} & London & 25 \\\\\n",
       "\t26 & 22 & -2016.52 & \\emph{missing} & \\emph{missing} & \\emph{missing} & Kemsley & 22 \\\\\n",
       "\t27 & 28 & -1212.66 & \\emph{missing} & \\emph{missing} & \\emph{missing} & Sellindge & 28 \\\\\n",
       "\t28 & 27 & -2999.87 & \\emph{missing} & \\emph{missing} & \\emph{missing} & Lovedean & 27 \\\\\n",
       "\t29 & 26 & -3965.64 & \\emph{missing} & \\emph{missing} & \\emph{missing} & S.W.Penisula & 26 \\\\\n",
       "\\end{tabular}\n"
      ],
      "text/plain": [
       "\u001b[1m29×7 DataFrame\u001b[0m\n",
       "\u001b[1m Row \u001b[0m│\u001b[1m connnode \u001b[0m\u001b[1m demand     \u001b[0m\u001b[1m column3 \u001b[0m\u001b[1m column4 \u001b[0m\u001b[1m column5 \u001b[0m\u001b[1m column6                \u001b[0m\u001b[1m column7 \u001b[0m\n",
       "     │\u001b[90m Int64    \u001b[0m\u001b[90m Float64    \u001b[0m\u001b[90m Missing \u001b[0m\u001b[90m Missing \u001b[0m\u001b[90m Missing \u001b[0m\u001b[90m String31               \u001b[0m\u001b[90m Int64   \u001b[0m\n",
       "─────┼──────────────────────────────────────────────────────────────────────────────────\n",
       "   1 │        1    -390.3   \u001b[90m missing \u001b[0m\u001b[90m missing \u001b[0m\u001b[90m missing \u001b[0m Beauly                        1\n",
       "   2 │        2    -624.695 \u001b[90m missing \u001b[0m\u001b[90m missing \u001b[0m\u001b[90m missing \u001b[0m Peterhead                     2\n",
       "   3 │        3    -202.172 \u001b[90m missing \u001b[0m\u001b[90m missing \u001b[0m\u001b[90m missing \u001b[0m Errochty                      3\n",
       "   4 │        4   -1828.53  \u001b[90m missing \u001b[0m\u001b[90m missing \u001b[0m\u001b[90m missing \u001b[0m Denny/Bonnybridge             4\n",
       "   5 │        7   -2168.74  \u001b[90m missing \u001b[0m\u001b[90m missing \u001b[0m\u001b[90m missing \u001b[0m Neilston                      7\n",
       "   6 │        6    -660.162 \u001b[90m missing \u001b[0m\u001b[90m missing \u001b[0m\u001b[90m missing \u001b[0m Strathaven                    6\n",
       "   7 │        5    -572.218 \u001b[90m missing \u001b[0m\u001b[90m missing \u001b[0m\u001b[90m missing \u001b[0m Torness                       5\n",
       "   8 │       10    -162.219 \u001b[90m missing \u001b[0m\u001b[90m missing \u001b[0m\u001b[90m missing \u001b[0m Eccles                       10\n",
       "   9 │        9    -581.174 \u001b[90m missing \u001b[0m\u001b[90m missing \u001b[0m\u001b[90m missing \u001b[0m Harker                        9\n",
       "  10 │       11   -3507.74  \u001b[90m missing \u001b[0m\u001b[90m missing \u001b[0m\u001b[90m missing \u001b[0m Stella West                  11\n",
       "  11 │       13   -1959.87  \u001b[90m missing \u001b[0m\u001b[90m missing \u001b[0m\u001b[90m missing \u001b[0m Penwortham                   13\n",
       "  ⋮  │    ⋮          ⋮          ⋮        ⋮        ⋮               ⋮                ⋮\n",
       "  20 │       21   -1938.79  \u001b[90m missing \u001b[0m\u001b[90m missing \u001b[0m\u001b[90m missing \u001b[0m Bramford                     21\n",
       "  21 │       24   -1217.97  \u001b[90m missing \u001b[0m\u001b[90m missing \u001b[0m\u001b[90m missing \u001b[0m Pelham                       24\n",
       "  22 │       19   -4018.08  \u001b[90m missing \u001b[0m\u001b[90m missing \u001b[0m\u001b[90m missing \u001b[0m Sundon/East Claydon          19\n",
       "  23 │       20   -5241.23  \u001b[90m missing \u001b[0m\u001b[90m missing \u001b[0m\u001b[90m missing \u001b[0m Melksham                     20\n",
       "  24 │       29   -1812.56  \u001b[90m missing \u001b[0m\u001b[90m missing \u001b[0m\u001b[90m missing \u001b[0m Bramley                      29\n",
       "  25 │       25  -12013.2   \u001b[90m missing \u001b[0m\u001b[90m missing \u001b[0m\u001b[90m missing \u001b[0m London                       25\n",
       "  26 │       22   -2016.52  \u001b[90m missing \u001b[0m\u001b[90m missing \u001b[0m\u001b[90m missing \u001b[0m Kemsley                      22\n",
       "  27 │       28   -1212.66  \u001b[90m missing \u001b[0m\u001b[90m missing \u001b[0m\u001b[90m missing \u001b[0m Sellindge                    28\n",
       "  28 │       27   -2999.87  \u001b[90m missing \u001b[0m\u001b[90m missing \u001b[0m\u001b[90m missing \u001b[0m Lovedean                     27\n",
       "  29 │       26   -3965.64  \u001b[90m missing \u001b[0m\u001b[90m missing \u001b[0m\u001b[90m missing \u001b[0m S.W.Penisula                 26\n",
       "\u001b[36m                                                                          8 rows omitted\u001b[0m"
      ]
     },
     "execution_count": 5,
     "metadata": {},
     "output_type": "execute_result"
    }
   ],
   "source": [
    "loads"
   ]
  },
  {
   "cell_type": "code",
   "execution_count": 15,
   "id": "2dee3437",
   "metadata": {},
   "outputs": [
    {
     "data": {
      "text/plain": [
       "dcopf_ieee (generic function with 1 method)"
      ]
     },
     "execution_count": 15,
     "metadata": {},
     "output_type": "execute_result"
    }
   ],
   "source": [
    "#attempt 2 using PyPSA-GB network - works properly for the 36 bus network\n",
    "#=\n",
    "Function to solve DC OPF problem using IEEE test cases\n",
    "Inputs:\n",
    "    gen_info -- dataframe with generator info\n",
    "    line_info -- dataframe with transmission lines info\n",
    "    loads  -- dataframe with load info\n",
    "=#\n",
    "function dcopf_ieee(gens, lines, loads)\n",
    "    DCOPF = Model(HiGHS.Optimizer) # You could use Clp as well, with Clp.Optimizer\n",
    "    \n",
    "    # Define sets based on data\n",
    "      # Set of generator buses\n",
    "    G = gens.id #the way it defines gens are by looking at which bus it's connected to - list gens as unique elements then create another matrix showing which gens are associated with which node in the system\n",
    "                #set to id instead of connnode\n",
    "    \n",
    "      # Set of all nodes\n",
    "    N = sort(union(unique(lines.fromnode), \n",
    "            unique(lines.tonode))) \n",
    "    \n",
    "      # sets J_i and G_i will be described using dataframe indexing below\n",
    "\n",
    "    # Define per unit base units for the system \n",
    "    # used to convert from per unit values to standard unit\n",
    "    # values (e.g. p.u. power flows to MW/MVA)\n",
    "    baseMVA = 100 # base MVA is 100 MVA for this system \n",
    "    \n",
    "    # Decision variables   \n",
    "    @variables(DCOPF, begin\n",
    "        GEN[G]  >= 0     # generation        \n",
    "        # Note: we assume Pmin = 0 for all resources for simplicty here\n",
    "        THETA[N]         # voltage phase angle of bus\n",
    "        FLOW[N,N]        # flows between all pairs of nodes\n",
    "    end)\n",
    "    \n",
    "    # Create slack bus with reference angle = 0; use bus 1 with generator\n",
    "    fix(THETA[1],0)\n",
    "                \n",
    "    # Objective function\n",
    "    @objective(DCOPF, Min, \n",
    "        sum( gens[g,:c1] * GEN[g] for g in G)\n",
    "    )\n",
    "    \n",
    " # Supply demand balances\n",
    "    @constraint(DCOPF, cBalance[i in N], \n",
    "        sum(GEN[g] for g in gens[gens.connnode .== i,:id]) \n",
    "            + sum(load for load in loads[loads.connnode .== i,:demand]) \n",
    "        == sum(FLOW[i,j] for j in lines[lines.fromnode .== i,:tonode])\n",
    "    )\n",
    "\n",
    "    # Max generation constraint\n",
    "    @constraint(DCOPF, cMaxGen[g in G],\n",
    "                    GEN[g] <= gens[g,:pgmax])\n",
    "    \n",
    "    # Flow constraints on each branch \n",
    "    @constraint(DCOPF, cLineFlows[l in 1:nrow(lines)],\n",
    "            FLOW[lines[l,:fromnode],lines[l,:tonode]] == \n",
    "            baseMVA * lines[l,:b] * \n",
    "            (THETA[lines[l,:fromnode]] - THETA[lines[l,:tonode]])\n",
    "    )\n",
    "    \n",
    "    # Max line flow constraints\n",
    "    @constraint(DCOPF, cLineLimits[l in 1:nrow(lines)], \n",
    "            FLOW[lines[l,:fromnode],lines[l,:tonode]] <=\n",
    "            lines[l,:capacity]\n",
    "    ) \n",
    "\n",
    "\n",
    "    # Solve statement (! indicates runs in place)\n",
    "    optimize!(DCOPF)\n",
    "\n",
    "    # Output variables\n",
    "    generation = DataFrame(\n",
    "        node = gens.connnode,\n",
    "        gen = value.(GEN).data[gens.connnode]\n",
    "        )\n",
    "    \n",
    "    angles = value.(THETA).data\n",
    "    \n",
    "    flows = DataFrame(\n",
    "        fbus = lines.fromnode,\n",
    "        tbus = lines.tonode,\n",
    "        flow = baseMVA * lines.b .* (angles[lines.fromnode] .- \n",
    "                        angles[lines.tonode]))\n",
    "    \n",
    "    # We output the marginal values of the demand constraints, \n",
    "    # which will in fact be the prices to deliver power at a given bus.\n",
    "    prices = DataFrame(\n",
    "        node = N,\n",
    "        value = dual.(cBalance).data)\n",
    "\n",
    "    # Return the solution and objective as named tuple\n",
    "    return (\n",
    "        generation = generation, \n",
    "        angles,\n",
    "        flows,\n",
    "        prices,\n",
    "        cost = objective_value(DCOPF),\n",
    "        status = termination_status(DCOPF)\n",
    "    )\n",
    "end"
   ]
  },
  {
   "cell_type": "code",
   "execution_count": 20,
   "id": "076d585c",
   "metadata": {},
   "outputs": [
    {
     "data": {
      "text/plain": [
       "-56325.86"
      ]
     },
     "execution_count": 20,
     "metadata": {},
     "output_type": "execute_result"
    }
   ],
   "source": [
    "sum(loads.demand)"
   ]
  },
  {
   "cell_type": "code",
   "execution_count": 16,
   "id": "41bfb84f",
   "metadata": {},
   "outputs": [
    {
     "name": "stdout",
     "output_type": "stream",
     "text": [
      "Running HiGHS 1.5.3 [date: 1970-01-01, git hash: 45a127b78]\n",
      "Copyright (c) 2023 HiGHS under MIT licence terms\n",
      "Presolving model\n",
      "227 rows, 465 cols, 1023 nonzeros\n",
      "145 rows, 261 cols, 585 nonzeros\n",
      "133 rows, 257 cols, 545 nonzeros\n",
      "Presolve : Reductions: rows 133(-627); columns 257(-948); elements 545(-1019)\n",
      "Solving the presolved LP\n",
      "Using EKK dual simplex solver - serial\n",
      "  Iteration        Objective     Infeasibilities num(sum)\n",
      "          0    -5.6090693553e+00 Pr: 133(4.36639e+06); Du: 0(2.14743e-11) 0s\n",
      "        142     5.7949957914e+05 0s\n",
      "Model   status      : Infeasible\n",
      "Simplex   iterations: 142\n",
      "Objective value     :  5.7949762405e+05\n",
      "HiGHS run time      :          0.01\n",
      "ERROR:   No invertible representation for getDualRay\n"
     ]
    },
    {
     "ename": "LoadError",
     "evalue": "Result index of attribute MathOptInterface.VariablePrimal(1) out of bounds. There are currently 0 solution(s) in the model.",
     "output_type": "error",
     "traceback": [
      "Result index of attribute MathOptInterface.VariablePrimal(1) out of bounds. There are currently 0 solution(s) in the model.",
      "",
      "Stacktrace:",
      "  [1] check_result_index_bounds",
      "    @ C:\\Users\\44780\\.julia\\packages\\MathOptInterface\\tWT4o\\src\\attributes.jl:207 [inlined]",
      "  [2] get",
      "    @ C:\\Users\\44780\\.julia\\packages\\HiGHS\\CS71r\\src\\MOI_wrapper.jl:1989 [inlined]",
      "  [3] get(b::MathOptInterface.Bridges.LazyBridgeOptimizer{HiGHS.Optimizer}, attr::MathOptInterface.VariablePrimal, index::MathOptInterface.VariableIndex)",
      "    @ MathOptInterface.Bridges C:\\Users\\44780\\.julia\\packages\\MathOptInterface\\tWT4o\\src\\Bridges\\bridge_optimizer.jl:1195",
      "  [4] get(model::MathOptInterface.Utilities.CachingOptimizer{MathOptInterface.Bridges.LazyBridgeOptimizer{HiGHS.Optimizer}, MathOptInterface.Utilities.UniversalFallback{MathOptInterface.Utilities.Model{Float64}}}, attr::MathOptInterface.VariablePrimal, index::MathOptInterface.VariableIndex)",
      "    @ MathOptInterface.Utilities C:\\Users\\44780\\.julia\\packages\\MathOptInterface\\tWT4o\\src\\Utilities\\cachingoptimizer.jl:911",
      "  [5] _moi_get_result(::MathOptInterface.Utilities.CachingOptimizer{MathOptInterface.Bridges.LazyBridgeOptimizer{HiGHS.Optimizer}, MathOptInterface.Utilities.UniversalFallback{MathOptInterface.Utilities.Model{Float64}}}, ::MathOptInterface.VariablePrimal, ::Vararg{Any})",
      "    @ JuMP C:\\Users\\44780\\.julia\\packages\\JuMP\\mvUVO\\src\\optimizer_interface.jl:642",
      "  [6] get(model::Model, attr::MathOptInterface.VariablePrimal, v::VariableRef)",
      "    @ JuMP C:\\Users\\44780\\.julia\\packages\\JuMP\\mvUVO\\src\\optimizer_interface.jl:682",
      "  [7] value(v::VariableRef; result::Int64)",
      "    @ JuMP C:\\Users\\44780\\.julia\\packages\\JuMP\\mvUVO\\src\\variables.jl:1297",
      "  [8] value",
      "    @ C:\\Users\\44780\\.julia\\packages\\JuMP\\mvUVO\\src\\variables.jl:1296 [inlined]",
      "  [9] _broadcast_getindex_evalf",
      "    @ .\\broadcast.jl:683 [inlined]",
      " [10] _broadcast_getindex",
      "    @ .\\broadcast.jl:656 [inlined]",
      " [11] getindex",
      "    @ .\\broadcast.jl:610 [inlined]",
      " [12] macro expansion",
      "    @ .\\broadcast.jl:974 [inlined]",
      " [13] macro expansion",
      "    @ .\\simdloop.jl:77 [inlined]",
      " [14] copyto!",
      "    @ .\\broadcast.jl:973 [inlined]",
      " [15] copyto!",
      "    @ .\\broadcast.jl:926 [inlined]",
      " [16] copy",
      "    @ .\\broadcast.jl:898 [inlined]",
      " [17] materialize",
      "    @ .\\broadcast.jl:873 [inlined]",
      " [18] broadcast(f::typeof(value), As::Vector{VariableRef})",
      "    @ Base.Broadcast .\\broadcast.jl:811",
      " [19] broadcasted(#unused#::Base.Broadcast.ArrayStyle{JuMP.Containers.DenseAxisArray}, f::Function, args::JuMP.Containers.DenseAxisArray{VariableRef, 1, Tuple{Vector{Int64}}, Tuple{JuMP.Containers._AxisLookup{Dict{Int64, Int64}}}})",
      "    @ JuMP.Containers C:\\Users\\44780\\.julia\\packages\\JuMP\\mvUVO\\src\\Containers\\DenseAxisArray.jl:554",
      " [20] broadcasted(::Function, ::JuMP.Containers.DenseAxisArray{VariableRef, 1, Tuple{Vector{Int64}}, Tuple{JuMP.Containers._AxisLookup{Dict{Int64, Int64}}}})",
      "    @ Base.Broadcast .\\broadcast.jl:1311",
      " [21] dcopf_ieee(gens::DataFrame, lines::DataFrame, loads::DataFrame)",
      "    @ Main .\\In[15]:73",
      " [22] top-level scope",
      "    @ In[16]:1"
     ]
    }
   ],
   "source": [
    "solution = dcopf_ieee(gens, lines, loads);"
   ]
  },
  {
   "cell_type": "code",
   "execution_count": 17,
   "id": "4a8751a1",
   "metadata": {
    "scrolled": true
   },
   "outputs": [
    {
     "ename": "LoadError",
     "evalue": "UndefVarError: `solution` not defined",
     "output_type": "error",
     "traceback": [
      "UndefVarError: `solution` not defined",
      "",
      "Stacktrace:",
      " [1] top-level scope",
      "   @ In[17]:1"
     ]
    }
   ],
   "source": [
    "solution.generation #pypsa-gb results below"
   ]
  },
  {
   "cell_type": "code",
   "execution_count": 11,
   "id": "12e6e6d4",
   "metadata": {},
   "outputs": [
    {
     "ename": "LoadError",
     "evalue": "syntax: character literal contains multiple characters",
     "output_type": "error",
     "traceback": [
      "syntax: character literal contains multiple characters",
      "",
      "Stacktrace:",
      " [1] top-level scope",
      "   @ In[11]:1"
     ]
    }
   ],
   "source": [
    "sum(solution.generation['gen'])"
   ]
  },
  {
   "cell_type": "code",
   "execution_count": 32,
   "id": "1fe0adb4",
   "metadata": {},
   "outputs": [
    {
     "data": {
      "text/html": [
       "<div><div style = \"float: left;\"><span>29×2 DataFrame</span></div><div style = \"float: right;\"><span style = \"font-style: italic;\">4 rows omitted</span></div><div style = \"clear: both;\"></div></div><div class = \"data-frame\" style = \"overflow-x: scroll;\"><table class = \"data-frame\" style = \"margin-bottom: 6px;\"><thead><tr class = \"header\"><th class = \"rowNumber\" style = \"font-weight: bold; text-align: right;\">Row</th><th style = \"text-align: left;\">node</th><th style = \"text-align: left;\">value</th></tr><tr class = \"subheader headerLastRow\"><th class = \"rowNumber\" style = \"font-weight: bold; text-align: right;\"></th><th title = \"Int64\" style = \"text-align: left;\">Int64</th><th title = \"Float64\" style = \"text-align: left;\">Float64</th></tr></thead><tbody><tr><td class = \"rowNumber\" style = \"font-weight: bold; text-align: right;\">1</td><td style = \"text-align: right;\">1</td><td style = \"text-align: right;\">120.0</td></tr><tr><td class = \"rowNumber\" style = \"font-weight: bold; text-align: right;\">2</td><td style = \"text-align: right;\">2</td><td style = \"text-align: right;\">120.0</td></tr><tr><td class = \"rowNumber\" style = \"font-weight: bold; text-align: right;\">3</td><td style = \"text-align: right;\">3</td><td style = \"text-align: right;\">-0.0</td></tr><tr><td class = \"rowNumber\" style = \"font-weight: bold; text-align: right;\">4</td><td style = \"text-align: right;\">4</td><td style = \"text-align: right;\">120.0</td></tr><tr><td class = \"rowNumber\" style = \"font-weight: bold; text-align: right;\">5</td><td style = \"text-align: right;\">5</td><td style = \"text-align: right;\">120.0</td></tr><tr><td class = \"rowNumber\" style = \"font-weight: bold; text-align: right;\">6</td><td style = \"text-align: right;\">6</td><td style = \"text-align: right;\">-10746.5</td></tr><tr><td class = \"rowNumber\" style = \"font-weight: bold; text-align: right;\">7</td><td style = \"text-align: right;\">7</td><td style = \"text-align: right;\">-3.42619e6</td></tr><tr><td class = \"rowNumber\" style = \"font-weight: bold; text-align: right;\">8</td><td style = \"text-align: right;\">8</td><td style = \"text-align: right;\">7570.27</td></tr><tr><td class = \"rowNumber\" style = \"font-weight: bold; text-align: right;\">9</td><td style = \"text-align: right;\">9</td><td style = \"text-align: right;\">4.39637e5</td></tr><tr><td class = \"rowNumber\" style = \"font-weight: bold; text-align: right;\">10</td><td style = \"text-align: right;\">10</td><td style = \"text-align: right;\">2.74779e6</td></tr><tr><td class = \"rowNumber\" style = \"font-weight: bold; text-align: right;\">11</td><td style = \"text-align: right;\">11</td><td style = \"text-align: right;\">80.0</td></tr><tr><td class = \"rowNumber\" style = \"font-weight: bold; text-align: right;\">12</td><td style = \"text-align: right;\">12</td><td style = \"text-align: right;\">2.71003e7</td></tr><tr><td class = \"rowNumber\" style = \"font-weight: bold; text-align: right;\">13</td><td style = \"text-align: right;\">13</td><td style = \"text-align: right;\">673788.0</td></tr><tr><td style = \"text-align: right;\">&vellip;</td><td style = \"text-align: right;\">&vellip;</td><td style = \"text-align: right;\">&vellip;</td></tr><tr><td class = \"rowNumber\" style = \"font-weight: bold; text-align: right;\">18</td><td style = \"text-align: right;\">18</td><td style = \"text-align: right;\">1.25868e8</td></tr><tr><td class = \"rowNumber\" style = \"font-weight: bold; text-align: right;\">19</td><td style = \"text-align: right;\">19</td><td style = \"text-align: right;\">1.34874e8</td></tr><tr><td class = \"rowNumber\" style = \"font-weight: bold; text-align: right;\">20</td><td style = \"text-align: right;\">20</td><td style = \"text-align: right;\">3.29812e7</td></tr><tr><td class = \"rowNumber\" style = \"font-weight: bold; text-align: right;\">21</td><td style = \"text-align: right;\">21</td><td style = \"text-align: right;\">1.94619e7</td></tr><tr><td class = \"rowNumber\" style = \"font-weight: bold; text-align: right;\">22</td><td style = \"text-align: right;\">22</td><td style = \"text-align: right;\">2.51379e7</td></tr><tr><td class = \"rowNumber\" style = \"font-weight: bold; text-align: right;\">23</td><td style = \"text-align: right;\">23</td><td style = \"text-align: right;\">4.29159e6</td></tr><tr><td class = \"rowNumber\" style = \"font-weight: bold; text-align: right;\">24</td><td style = \"text-align: right;\">24</td><td style = \"text-align: right;\">240.0</td></tr><tr><td class = \"rowNumber\" style = \"font-weight: bold; text-align: right;\">25</td><td style = \"text-align: right;\">25</td><td style = \"text-align: right;\">240.0</td></tr><tr><td class = \"rowNumber\" style = \"font-weight: bold; text-align: right;\">26</td><td style = \"text-align: right;\">26</td><td style = \"text-align: right;\">-0.0</td></tr><tr><td class = \"rowNumber\" style = \"font-weight: bold; text-align: right;\">27</td><td style = \"text-align: right;\">27</td><td style = \"text-align: right;\">-0.0</td></tr><tr><td class = \"rowNumber\" style = \"font-weight: bold; text-align: right;\">28</td><td style = \"text-align: right;\">28</td><td style = \"text-align: right;\">-0.0</td></tr><tr><td class = \"rowNumber\" style = \"font-weight: bold; text-align: right;\">29</td><td style = \"text-align: right;\">29</td><td style = \"text-align: right;\">122.817</td></tr></tbody></table></div>"
      ],
      "text/latex": [
       "\\begin{tabular}{r|cc}\n",
       "\t& node & value\\\\\n",
       "\t\\hline\n",
       "\t& Int64 & Float64\\\\\n",
       "\t\\hline\n",
       "\t1 & 1 & 120.0 \\\\\n",
       "\t2 & 2 & 120.0 \\\\\n",
       "\t3 & 3 & -0.0 \\\\\n",
       "\t4 & 4 & 120.0 \\\\\n",
       "\t5 & 5 & 120.0 \\\\\n",
       "\t6 & 6 & -10746.5 \\\\\n",
       "\t7 & 7 & -3.42619e6 \\\\\n",
       "\t8 & 8 & 7570.27 \\\\\n",
       "\t9 & 9 & 4.39637e5 \\\\\n",
       "\t10 & 10 & 2.74779e6 \\\\\n",
       "\t11 & 11 & 80.0 \\\\\n",
       "\t12 & 12 & 2.71003e7 \\\\\n",
       "\t13 & 13 & 673788.0 \\\\\n",
       "\t14 & 14 & -2.24588e7 \\\\\n",
       "\t15 & 15 & 80.0 \\\\\n",
       "\t16 & 16 & 9.33538e7 \\\\\n",
       "\t17 & 17 & 6.99479e7 \\\\\n",
       "\t18 & 18 & 1.25868e8 \\\\\n",
       "\t19 & 19 & 1.34874e8 \\\\\n",
       "\t20 & 20 & 3.29812e7 \\\\\n",
       "\t21 & 21 & 1.94619e7 \\\\\n",
       "\t22 & 22 & 2.51379e7 \\\\\n",
       "\t23 & 23 & 4.29159e6 \\\\\n",
       "\t24 & 24 & 240.0 \\\\\n",
       "\t25 & 25 & 240.0 \\\\\n",
       "\t26 & 26 & -0.0 \\\\\n",
       "\t27 & 27 & -0.0 \\\\\n",
       "\t28 & 28 & -0.0 \\\\\n",
       "\t29 & 29 & 122.817 \\\\\n",
       "\\end{tabular}\n"
      ],
      "text/plain": [
       "\u001b[1m29×2 DataFrame\u001b[0m\n",
       "\u001b[1m Row \u001b[0m│\u001b[1m node  \u001b[0m\u001b[1m value          \u001b[0m\n",
       "     │\u001b[90m Int64 \u001b[0m\u001b[90m Float64        \u001b[0m\n",
       "─────┼───────────────────────\n",
       "   1 │     1     120.0\n",
       "   2 │     2     120.0\n",
       "   3 │     3      -0.0\n",
       "   4 │     4     120.0\n",
       "   5 │     5     120.0\n",
       "   6 │     6  -10746.5\n",
       "   7 │     7      -3.42619e6\n",
       "   8 │     8    7570.27\n",
       "   9 │     9       4.39637e5\n",
       "  10 │    10       2.74779e6\n",
       "  11 │    11      80.0\n",
       "  ⋮  │   ⋮          ⋮\n",
       "  20 │    20       3.29812e7\n",
       "  21 │    21       1.94619e7\n",
       "  22 │    22       2.51379e7\n",
       "  23 │    23       4.29159e6\n",
       "  24 │    24     240.0\n",
       "  25 │    25     240.0\n",
       "  26 │    26      -0.0\n",
       "  27 │    27      -0.0\n",
       "  28 │    28      -0.0\n",
       "  29 │    29     122.817\n",
       "\u001b[36m               8 rows omitted\u001b[0m"
      ]
     },
     "execution_count": 32,
     "metadata": {},
     "output_type": "execute_result"
    }
   ],
   "source": [
    "solution.prices"
   ]
  },
  {
   "cell_type": "code",
   "execution_count": 33,
   "id": "2c266e7c",
   "metadata": {},
   "outputs": [
    {
     "data": {
      "text/html": [
       "<div><div style = \"float: left;\"><span>198×3 DataFrame</span></div><div style = \"float: right;\"><span style = \"font-style: italic;\">173 rows omitted</span></div><div style = \"clear: both;\"></div></div><div class = \"data-frame\" style = \"overflow-x: scroll;\"><table class = \"data-frame\" style = \"margin-bottom: 6px;\"><thead><tr class = \"header\"><th class = \"rowNumber\" style = \"font-weight: bold; text-align: right;\">Row</th><th style = \"text-align: left;\">fbus</th><th style = \"text-align: left;\">tbus</th><th style = \"text-align: left;\">flow</th></tr><tr class = \"subheader headerLastRow\"><th class = \"rowNumber\" style = \"font-weight: bold; text-align: right;\"></th><th title = \"Int64\" style = \"text-align: left;\">Int64</th><th title = \"Int64\" style = \"text-align: left;\">Int64</th><th title = \"Float64\" style = \"text-align: left;\">Float64</th></tr></thead><tbody><tr><td class = \"rowNumber\" style = \"font-weight: bold; text-align: right;\">1</td><td style = \"text-align: right;\">1</td><td style = \"text-align: right;\">2</td><td style = \"text-align: right;\">4.02993e10</td></tr><tr><td class = \"rowNumber\" style = \"font-weight: bold; text-align: right;\">2</td><td style = \"text-align: right;\">1</td><td style = \"text-align: right;\">3</td><td style = \"text-align: right;\">1.12065e5</td></tr><tr><td class = \"rowNumber\" style = \"font-weight: bold; text-align: right;\">3</td><td style = \"text-align: right;\">1</td><td style = \"text-align: right;\">2</td><td style = \"text-align: right;\">4.02993e10</td></tr><tr><td class = \"rowNumber\" style = \"font-weight: bold; text-align: right;\">4</td><td style = \"text-align: right;\">1</td><td style = \"text-align: right;\">3</td><td style = \"text-align: right;\">1.12065e5</td></tr><tr><td class = \"rowNumber\" style = \"font-weight: bold; text-align: right;\">5</td><td style = \"text-align: right;\">2</td><td style = \"text-align: right;\">4</td><td style = \"text-align: right;\">2.03367e10</td></tr><tr><td class = \"rowNumber\" style = \"font-weight: bold; text-align: right;\">6</td><td style = \"text-align: right;\">2</td><td style = \"text-align: right;\">4</td><td style = \"text-align: right;\">2.03367e10</td></tr><tr><td class = \"rowNumber\" style = \"font-weight: bold; text-align: right;\">7</td><td style = \"text-align: right;\">3</td><td style = \"text-align: right;\">4</td><td style = \"text-align: right;\">5.18989e10</td></tr><tr><td class = \"rowNumber\" style = \"font-weight: bold; text-align: right;\">8</td><td style = \"text-align: right;\">3</td><td style = \"text-align: right;\">4</td><td style = \"text-align: right;\">5.18989e10</td></tr><tr><td class = \"rowNumber\" style = \"font-weight: bold; text-align: right;\">9</td><td style = \"text-align: right;\">4</td><td style = \"text-align: right;\">5</td><td style = \"text-align: right;\">-5.3013e11</td></tr><tr><td class = \"rowNumber\" style = \"font-weight: bold; text-align: right;\">10</td><td style = \"text-align: right;\">4</td><td style = \"text-align: right;\">6</td><td style = \"text-align: right;\">-7.16904e10</td></tr><tr><td class = \"rowNumber\" style = \"font-weight: bold; text-align: right;\">11</td><td style = \"text-align: right;\">4</td><td style = \"text-align: right;\">6</td><td style = \"text-align: right;\">-7.16904e10</td></tr><tr><td class = \"rowNumber\" style = \"font-weight: bold; text-align: right;\">12</td><td style = \"text-align: right;\">4</td><td style = \"text-align: right;\">7</td><td style = \"text-align: right;\">1.22594e10</td></tr><tr><td class = \"rowNumber\" style = \"font-weight: bold; text-align: right;\">13</td><td style = \"text-align: right;\">4</td><td style = \"text-align: right;\">7</td><td style = \"text-align: right;\">1.22594e10</td></tr><tr><td style = \"text-align: right;\">&vellip;</td><td style = \"text-align: right;\">&vellip;</td><td style = \"text-align: right;\">&vellip;</td><td style = \"text-align: right;\">&vellip;</td></tr><tr><td class = \"rowNumber\" style = \"font-weight: bold; text-align: right;\">187</td><td style = \"text-align: right;\">27</td><td style = \"text-align: right;\">29</td><td style = \"text-align: right;\">8.28764e9</td></tr><tr><td class = \"rowNumber\" style = \"font-weight: bold; text-align: right;\">188</td><td style = \"text-align: right;\">25</td><td style = \"text-align: right;\">29</td><td style = \"text-align: right;\">1.1246e10</td></tr><tr><td class = \"rowNumber\" style = \"font-weight: bold; text-align: right;\">189</td><td style = \"text-align: right;\">25</td><td style = \"text-align: right;\">29</td><td style = \"text-align: right;\">1.1246e10</td></tr><tr><td class = \"rowNumber\" style = \"font-weight: bold; text-align: right;\">190</td><td style = \"text-align: right;\">27</td><td style = \"text-align: right;\">29</td><td style = \"text-align: right;\">8.28764e9</td></tr><tr><td class = \"rowNumber\" style = \"font-weight: bold; text-align: right;\">191</td><td style = \"text-align: right;\">22</td><td style = \"text-align: right;\">25</td><td style = \"text-align: right;\">3.18673e10</td></tr><tr><td class = \"rowNumber\" style = \"font-weight: bold; text-align: right;\">192</td><td style = \"text-align: right;\">22</td><td style = \"text-align: right;\">25</td><td style = \"text-align: right;\">3.18673e10</td></tr><tr><td class = \"rowNumber\" style = \"font-weight: bold; text-align: right;\">193</td><td style = \"text-align: right;\">22</td><td style = \"text-align: right;\">28</td><td style = \"text-align: right;\">-2.94678e10</td></tr><tr><td class = \"rowNumber\" style = \"font-weight: bold; text-align: right;\">194</td><td style = \"text-align: right;\">22</td><td style = \"text-align: right;\">28</td><td style = \"text-align: right;\">-2.94678e10</td></tr><tr><td class = \"rowNumber\" style = \"font-weight: bold; text-align: right;\">195</td><td style = \"text-align: right;\">28</td><td style = \"text-align: right;\">27</td><td style = \"text-align: right;\">5.2629e10</td></tr><tr><td class = \"rowNumber\" style = \"font-weight: bold; text-align: right;\">196</td><td style = \"text-align: right;\">28</td><td style = \"text-align: right;\">27</td><td style = \"text-align: right;\">5.2629e10</td></tr><tr><td class = \"rowNumber\" style = \"font-weight: bold; text-align: right;\">197</td><td style = \"text-align: right;\">27</td><td style = \"text-align: right;\">26</td><td style = \"text-align: right;\">-5.83933e9</td></tr><tr><td class = \"rowNumber\" style = \"font-weight: bold; text-align: right;\">198</td><td style = \"text-align: right;\">27</td><td style = \"text-align: right;\">26</td><td style = \"text-align: right;\">-5.83933e9</td></tr></tbody></table></div>"
      ],
      "text/latex": [
       "\\begin{tabular}{r|ccc}\n",
       "\t& fbus & tbus & flow\\\\\n",
       "\t\\hline\n",
       "\t& Int64 & Int64 & Float64\\\\\n",
       "\t\\hline\n",
       "\t1 & 1 & 2 & 4.02993e10 \\\\\n",
       "\t2 & 1 & 3 & 1.12065e5 \\\\\n",
       "\t3 & 1 & 2 & 4.02993e10 \\\\\n",
       "\t4 & 1 & 3 & 1.12065e5 \\\\\n",
       "\t5 & 2 & 4 & 2.03367e10 \\\\\n",
       "\t6 & 2 & 4 & 2.03367e10 \\\\\n",
       "\t7 & 3 & 4 & 5.18989e10 \\\\\n",
       "\t8 & 3 & 4 & 5.18989e10 \\\\\n",
       "\t9 & 4 & 5 & -5.3013e11 \\\\\n",
       "\t10 & 4 & 6 & -7.16904e10 \\\\\n",
       "\t11 & 4 & 6 & -7.16904e10 \\\\\n",
       "\t12 & 4 & 7 & 1.22594e10 \\\\\n",
       "\t13 & 4 & 7 & 1.22594e10 \\\\\n",
       "\t14 & 4 & 5 & -5.3013e11 \\\\\n",
       "\t15 & 7 & 6 & -1.84881e11 \\\\\n",
       "\t16 & 7 & 6 & -1.20465e11 \\\\\n",
       "\t17 & 7 & 8 & -1.91262e13 \\\\\n",
       "\t18 & 6 & 9 & -1.78315e10 \\\\\n",
       "\t19 & 6 & 9 & -1.78315e10 \\\\\n",
       "\t20 & 5 & 10 & 2.60682e13 \\\\\n",
       "\t21 & 5 & 10 & 2.60682e13 \\\\\n",
       "\t22 & 5 & 6 & 2.75394e10 \\\\\n",
       "\t23 & 5 & 6 & 2.75394e10 \\\\\n",
       "\t24 & 10 & 11 & 1.83254e11 \\\\\n",
       "\t25 & 10 & 11 & 1.83254e11 \\\\\n",
       "\t26 & 9 & 13 & -2.00792e10 \\\\\n",
       "\t27 & 9 & 13 & -2.00792e10 \\\\\n",
       "\t28 & 9 & 11 & 1.86637e10 \\\\\n",
       "\t29 & 9 & 11 & 1.33476e10 \\\\\n",
       "\t30 & 11 & 12 & -1.14558e9 \\\\\n",
       "\t$\\dots$ & $\\dots$ & $\\dots$ & $\\dots$ \\\\\n",
       "\\end{tabular}\n"
      ],
      "text/plain": [
       "\u001b[1m198×3 DataFrame\u001b[0m\n",
       "\u001b[1m Row \u001b[0m│\u001b[1m fbus  \u001b[0m\u001b[1m tbus  \u001b[0m\u001b[1m flow        \u001b[0m\n",
       "     │\u001b[90m Int64 \u001b[0m\u001b[90m Int64 \u001b[0m\u001b[90m Float64     \u001b[0m\n",
       "─────┼───────────────────────────\n",
       "   1 │     1      2   4.02993e10\n",
       "   2 │     1      3   1.12065e5\n",
       "   3 │     1      2   4.02993e10\n",
       "   4 │     1      3   1.12065e5\n",
       "   5 │     2      4   2.03367e10\n",
       "   6 │     2      4   2.03367e10\n",
       "   7 │     3      4   5.18989e10\n",
       "   8 │     3      4   5.18989e10\n",
       "   9 │     4      5  -5.3013e11\n",
       "  10 │     4      6  -7.16904e10\n",
       "  11 │     4      6  -7.16904e10\n",
       "  ⋮  │   ⋮      ⋮         ⋮\n",
       " 189 │    25     29   1.1246e10\n",
       " 190 │    27     29   8.28764e9\n",
       " 191 │    22     25   3.18673e10\n",
       " 192 │    22     25   3.18673e10\n",
       " 193 │    22     28  -2.94678e10\n",
       " 194 │    22     28  -2.94678e10\n",
       " 195 │    28     27   5.2629e10\n",
       " 196 │    28     27   5.2629e10\n",
       " 197 │    27     26  -5.83933e9\n",
       " 198 │    27     26  -5.83933e9\n",
       "\u001b[36m                 177 rows omitted\u001b[0m"
      ]
     },
     "execution_count": 33,
     "metadata": {},
     "output_type": "execute_result"
    }
   ],
   "source": [
    "solution.flows"
   ]
  },
  {
   "cell_type": "code",
   "execution_count": null,
   "id": "4611b9f6",
   "metadata": {},
   "outputs": [],
   "source": []
  }
 ],
 "metadata": {
  "kernelspec": {
   "display_name": "Julia 1.9.3",
   "language": "julia",
   "name": "julia-1.9"
  },
  "language_info": {
   "file_extension": ".jl",
   "mimetype": "application/julia",
   "name": "julia",
   "version": "1.9.3"
  }
 },
 "nbformat": 4,
 "nbformat_minor": 5
}
