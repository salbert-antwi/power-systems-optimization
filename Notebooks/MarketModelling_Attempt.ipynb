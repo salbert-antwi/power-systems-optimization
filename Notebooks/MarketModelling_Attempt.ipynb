{
 "cells": [
  {
   "cell_type": "code",
   "execution_count": 1,
   "id": "17b2c57a",
   "metadata": {},
   "outputs": [
    {
     "name": "stderr",
     "output_type": "stream",
     "text": [
      "\u001b[32m\u001b[1m   Resolving\u001b[22m\u001b[39m package versions...\n",
      "\u001b[32m\u001b[1m  No Changes\u001b[22m\u001b[39m to `C:\\Users\\44780\\.julia\\environments\\v1.9\\Project.toml`\n",
      "\u001b[32m\u001b[1m  No Changes\u001b[22m\u001b[39m to `C:\\Users\\44780\\.julia\\environments\\v1.9\\Manifest.toml`\n",
      "\u001b[32m\u001b[1m   Resolving\u001b[22m\u001b[39m package versions...\n",
      "\u001b[32m\u001b[1m  No Changes\u001b[22m\u001b[39m to `C:\\Users\\44780\\.julia\\environments\\v1.9\\Project.toml`\n",
      "\u001b[32m\u001b[1m  No Changes\u001b[22m\u001b[39m to `C:\\Users\\44780\\.julia\\environments\\v1.9\\Manifest.toml`\n"
     ]
    }
   ],
   "source": [
    "# load all packages in Julia\n",
    "import Pkg; Pkg.add(\"VegaLite\"); Pkg.add(\"PrettyTables\")\n",
    "using JuMP, HiGHS\n",
    "using Plots;\n",
    "using VegaLite  # to make some nice plots\n",
    "using DataFrames, CSV, PrettyTables\n",
    "ENV[\"COLUMNS\"]=120; # Set so all columns of DataFrames and Matrices are displayed"
   ]
  },
  {
   "cell_type": "code",
   "execution_count": 2,
   "id": "0b37038b",
   "metadata": {},
   "outputs": [
    {
     "data": {
      "text/html": [
       "<div><div style = \"float: left;\"><span>198×8 DataFrame</span></div><div style = \"float: right;\"><span style = \"font-style: italic;\">173 rows omitted</span></div><div style = \"clear: both;\"></div></div><div class = \"data-frame\" style = \"overflow-x: scroll;\"><table class = \"data-frame\" style = \"margin-bottom: 6px;\"><thead><tr class = \"header\"><th class = \"rowNumber\" style = \"font-weight: bold; text-align: right;\">Row</th><th style = \"text-align: left;\">fromnode</th><th style = \"text-align: left;\">tonode</th><th style = \"text-align: left;\">resistance</th><th style = \"text-align: left;\">reactance</th><th style = \"text-align: left;\">contingencymarked</th><th style = \"text-align: left;\">capacity</th><th style = \"text-align: left;\">id</th><th style = \"text-align: left;\">b</th></tr><tr class = \"subheader headerLastRow\"><th class = \"rowNumber\" style = \"font-weight: bold; text-align: right;\"></th><th title = \"Int64\" style = \"text-align: left;\">Int64</th><th title = \"Int64\" style = \"text-align: left;\">Int64</th><th title = \"Float64\" style = \"text-align: left;\">Float64</th><th title = \"Float64\" style = \"text-align: left;\">Float64</th><th title = \"Int64\" style = \"text-align: left;\">Int64</th><th title = \"Int64\" style = \"text-align: left;\">Int64</th><th title = \"Int64\" style = \"text-align: left;\">Int64</th><th title = \"Float64\" style = \"text-align: left;\">Float64</th></tr></thead><tbody><tr><td class = \"rowNumber\" style = \"font-weight: bold; text-align: right;\">1</td><td style = \"text-align: right;\">1</td><td style = \"text-align: right;\">2</td><td style = \"text-align: right;\">0.0122</td><td style = \"text-align: right;\">0.02</td><td style = \"text-align: right;\">1</td><td style = \"text-align: right;\">10000</td><td style = \"text-align: right;\">1</td><td style = \"text-align: right;\">50.0</td></tr><tr><td class = \"rowNumber\" style = \"font-weight: bold; text-align: right;\">2</td><td style = \"text-align: right;\">1</td><td style = \"text-align: right;\">3</td><td style = \"text-align: right;\">0.007</td><td style = \"text-align: right;\">0.15</td><td style = \"text-align: right;\">1</td><td style = \"text-align: right;\">10000</td><td style = \"text-align: right;\">2</td><td style = \"text-align: right;\">6.66667</td></tr><tr><td class = \"rowNumber\" style = \"font-weight: bold; text-align: right;\">3</td><td style = \"text-align: right;\">1</td><td style = \"text-align: right;\">2</td><td style = \"text-align: right;\">0.0122</td><td style = \"text-align: right;\">0.02</td><td style = \"text-align: right;\">1</td><td style = \"text-align: right;\">10000</td><td style = \"text-align: right;\">3</td><td style = \"text-align: right;\">50.0</td></tr><tr><td class = \"rowNumber\" style = \"font-weight: bold; text-align: right;\">4</td><td style = \"text-align: right;\">1</td><td style = \"text-align: right;\">3</td><td style = \"text-align: right;\">0.007</td><td style = \"text-align: right;\">0.15</td><td style = \"text-align: right;\">1</td><td style = \"text-align: right;\">10000</td><td style = \"text-align: right;\">4</td><td style = \"text-align: right;\">6.66667</td></tr><tr><td class = \"rowNumber\" style = \"font-weight: bold; text-align: right;\">5</td><td style = \"text-align: right;\">2</td><td style = \"text-align: right;\">4</td><td style = \"text-align: right;\">0.0004</td><td style = \"text-align: right;\">0.065</td><td style = \"text-align: right;\">1</td><td style = \"text-align: right;\">10000</td><td style = \"text-align: right;\">5</td><td style = \"text-align: right;\">15.3846</td></tr><tr><td class = \"rowNumber\" style = \"font-weight: bold; text-align: right;\">6</td><td style = \"text-align: right;\">2</td><td style = \"text-align: right;\">4</td><td style = \"text-align: right;\">0.0004</td><td style = \"text-align: right;\">0.065</td><td style = \"text-align: right;\">1</td><td style = \"text-align: right;\">10000</td><td style = \"text-align: right;\">6</td><td style = \"text-align: right;\">15.3846</td></tr><tr><td class = \"rowNumber\" style = \"font-weight: bold; text-align: right;\">7</td><td style = \"text-align: right;\">4</td><td style = \"text-align: right;\">7</td><td style = \"text-align: right;\">0.00211</td><td style = \"text-align: right;\">0.0135</td><td style = \"text-align: right;\">1</td><td style = \"text-align: right;\">10000</td><td style = \"text-align: right;\">7</td><td style = \"text-align: right;\">74.0741</td></tr><tr><td class = \"rowNumber\" style = \"font-weight: bold; text-align: right;\">8</td><td style = \"text-align: right;\">4</td><td style = \"text-align: right;\">6</td><td style = \"text-align: right;\">0.0013</td><td style = \"text-align: right;\">0.023</td><td style = \"text-align: right;\">1</td><td style = \"text-align: right;\">10000</td><td style = \"text-align: right;\">8</td><td style = \"text-align: right;\">43.4783</td></tr><tr><td class = \"rowNumber\" style = \"font-weight: bold; text-align: right;\">9</td><td style = \"text-align: right;\">4</td><td style = \"text-align: right;\">6</td><td style = \"text-align: right;\">0.0013</td><td style = \"text-align: right;\">0.023</td><td style = \"text-align: right;\">1</td><td style = \"text-align: right;\">10000</td><td style = \"text-align: right;\">9</td><td style = \"text-align: right;\">43.4783</td></tr><tr><td class = \"rowNumber\" style = \"font-weight: bold; text-align: right;\">10</td><td style = \"text-align: right;\">4</td><td style = \"text-align: right;\">5</td><td style = \"text-align: right;\">0.001</td><td style = \"text-align: right;\">0.024</td><td style = \"text-align: right;\">1</td><td style = \"text-align: right;\">10000</td><td style = \"text-align: right;\">10</td><td style = \"text-align: right;\">41.6667</td></tr><tr><td class = \"rowNumber\" style = \"font-weight: bold; text-align: right;\">11</td><td style = \"text-align: right;\">4</td><td style = \"text-align: right;\">5</td><td style = \"text-align: right;\">0.001</td><td style = \"text-align: right;\">0.024</td><td style = \"text-align: right;\">1</td><td style = \"text-align: right;\">10000</td><td style = \"text-align: right;\">11</td><td style = \"text-align: right;\">41.6667</td></tr><tr><td class = \"rowNumber\" style = \"font-weight: bold; text-align: right;\">12</td><td style = \"text-align: right;\">4</td><td style = \"text-align: right;\">7</td><td style = \"text-align: right;\">0.0021</td><td style = \"text-align: right;\">0.0135</td><td style = \"text-align: right;\">1</td><td style = \"text-align: right;\">10000</td><td style = \"text-align: right;\">12</td><td style = \"text-align: right;\">74.0741</td></tr><tr><td class = \"rowNumber\" style = \"font-weight: bold; text-align: right;\">13</td><td style = \"text-align: right;\">5</td><td style = \"text-align: right;\">6</td><td style = \"text-align: right;\">0.00085</td><td style = \"text-align: right;\">0.01051</td><td style = \"text-align: right;\">1</td><td style = \"text-align: right;\">10000</td><td style = \"text-align: right;\">13</td><td style = \"text-align: right;\">95.1475</td></tr><tr><td style = \"text-align: right;\">&vellip;</td><td style = \"text-align: right;\">&vellip;</td><td style = \"text-align: right;\">&vellip;</td><td style = \"text-align: right;\">&vellip;</td><td style = \"text-align: right;\">&vellip;</td><td style = \"text-align: right;\">&vellip;</td><td style = \"text-align: right;\">&vellip;</td><td style = \"text-align: right;\">&vellip;</td><td style = \"text-align: right;\">&vellip;</td></tr><tr><td class = \"rowNumber\" style = \"font-weight: bold; text-align: right;\">187</td><td style = \"text-align: right;\">28</td><td style = \"text-align: right;\">24</td><td style = \"text-align: right;\">0.00068</td><td style = \"text-align: right;\">0.007</td><td style = \"text-align: right;\">1</td><td style = \"text-align: right;\">10000</td><td style = \"text-align: right;\">88</td><td style = \"text-align: right;\">142.857</td></tr><tr><td class = \"rowNumber\" style = \"font-weight: bold; text-align: right;\">188</td><td style = \"text-align: right;\">26</td><td style = \"text-align: right;\">25</td><td style = \"text-align: right;\">0.0002</td><td style = \"text-align: right;\">0.0057</td><td style = \"text-align: right;\">1</td><td style = \"text-align: right;\">10000</td><td style = \"text-align: right;\">89</td><td style = \"text-align: right;\">175.439</td></tr><tr><td class = \"rowNumber\" style = \"font-weight: bold; text-align: right;\">189</td><td style = \"text-align: right;\">26</td><td style = \"text-align: right;\">25</td><td style = \"text-align: right;\">0.0002</td><td style = \"text-align: right;\">0.0057</td><td style = \"text-align: right;\">1</td><td style = \"text-align: right;\">10000</td><td style = \"text-align: right;\">90</td><td style = \"text-align: right;\">175.439</td></tr><tr><td class = \"rowNumber\" style = \"font-weight: bold; text-align: right;\">190</td><td style = \"text-align: right;\">26</td><td style = \"text-align: right;\">27</td><td style = \"text-align: right;\">0.0002</td><td style = \"text-align: right;\">0.00503</td><td style = \"text-align: right;\">1</td><td style = \"text-align: right;\">10000</td><td style = \"text-align: right;\">91</td><td style = \"text-align: right;\">198.807</td></tr><tr><td class = \"rowNumber\" style = \"font-weight: bold; text-align: right;\">191</td><td style = \"text-align: right;\">26</td><td style = \"text-align: right;\">27</td><td style = \"text-align: right;\">0.0002</td><td style = \"text-align: right;\">0.00503</td><td style = \"text-align: right;\">1</td><td style = \"text-align: right;\">10000</td><td style = \"text-align: right;\">92</td><td style = \"text-align: right;\">198.807</td></tr><tr><td class = \"rowNumber\" style = \"font-weight: bold; text-align: right;\">192</td><td style = \"text-align: right;\">27</td><td style = \"text-align: right;\">28</td><td style = \"text-align: right;\">0.00038</td><td style = \"text-align: right;\">0.00711</td><td style = \"text-align: right;\">1</td><td style = \"text-align: right;\">10000</td><td style = \"text-align: right;\">93</td><td style = \"text-align: right;\">140.647</td></tr><tr><td class = \"rowNumber\" style = \"font-weight: bold; text-align: right;\">193</td><td style = \"text-align: right;\">27</td><td style = \"text-align: right;\">28</td><td style = \"text-align: right;\">0.00038</td><td style = \"text-align: right;\">0.00711</td><td style = \"text-align: right;\">1</td><td style = \"text-align: right;\">10000</td><td style = \"text-align: right;\">94</td><td style = \"text-align: right;\">140.647</td></tr><tr><td class = \"rowNumber\" style = \"font-weight: bold; text-align: right;\">194</td><td style = \"text-align: right;\">28</td><td style = \"text-align: right;\">29</td><td style = \"text-align: right;\">0.00051</td><td style = \"text-align: right;\">0.00796</td><td style = \"text-align: right;\">1</td><td style = \"text-align: right;\">10000</td><td style = \"text-align: right;\">95</td><td style = \"text-align: right;\">125.628</td></tr><tr><td class = \"rowNumber\" style = \"font-weight: bold; text-align: right;\">195</td><td style = \"text-align: right;\">28</td><td style = \"text-align: right;\">29</td><td style = \"text-align: right;\">0.00051</td><td style = \"text-align: right;\">0.00796</td><td style = \"text-align: right;\">1</td><td style = \"text-align: right;\">10000</td><td style = \"text-align: right;\">96</td><td style = \"text-align: right;\">125.628</td></tr><tr><td class = \"rowNumber\" style = \"font-weight: bold; text-align: right;\">196</td><td style = \"text-align: right;\">4</td><td style = \"text-align: right;\">3</td><td style = \"text-align: right;\">0.003</td><td style = \"text-align: right;\">0.041</td><td style = \"text-align: right;\">1</td><td style = \"text-align: right;\">10000</td><td style = \"text-align: right;\">97</td><td style = \"text-align: right;\">24.3902</td></tr><tr><td class = \"rowNumber\" style = \"font-weight: bold; text-align: right;\">197</td><td style = \"text-align: right;\">4</td><td style = \"text-align: right;\">3</td><td style = \"text-align: right;\">0.003</td><td style = \"text-align: right;\">0.041</td><td style = \"text-align: right;\">1</td><td style = \"text-align: right;\">10000</td><td style = \"text-align: right;\">98</td><td style = \"text-align: right;\">24.3902</td></tr><tr><td class = \"rowNumber\" style = \"font-weight: bold; text-align: right;\">198</td><td style = \"text-align: right;\">2</td><td style = \"text-align: right;\">3</td><td style = \"text-align: right;\">0.03004</td><td style = \"text-align: right;\">0.077</td><td style = \"text-align: right;\">1</td><td style = \"text-align: right;\">10000</td><td style = \"text-align: right;\">99</td><td style = \"text-align: right;\">12.987</td></tr></tbody></table></div>"
      ],
      "text/latex": [
       "\\begin{tabular}{r|cccccccc}\n",
       "\t& fromnode & tonode & resistance & reactance & contingencymarked & capacity & id & b\\\\\n",
       "\t\\hline\n",
       "\t& Int64 & Int64 & Float64 & Float64 & Int64 & Int64 & Int64 & Float64\\\\\n",
       "\t\\hline\n",
       "\t1 & 1 & 2 & 0.0122 & 0.02 & 1 & 10000 & 1 & 50.0 \\\\\n",
       "\t2 & 1 & 3 & 0.007 & 0.15 & 1 & 10000 & 2 & 6.66667 \\\\\n",
       "\t3 & 1 & 2 & 0.0122 & 0.02 & 1 & 10000 & 3 & 50.0 \\\\\n",
       "\t4 & 1 & 3 & 0.007 & 0.15 & 1 & 10000 & 4 & 6.66667 \\\\\n",
       "\t5 & 2 & 4 & 0.0004 & 0.065 & 1 & 10000 & 5 & 15.3846 \\\\\n",
       "\t6 & 2 & 4 & 0.0004 & 0.065 & 1 & 10000 & 6 & 15.3846 \\\\\n",
       "\t7 & 4 & 7 & 0.00211 & 0.0135 & 1 & 10000 & 7 & 74.0741 \\\\\n",
       "\t8 & 4 & 6 & 0.0013 & 0.023 & 1 & 10000 & 8 & 43.4783 \\\\\n",
       "\t9 & 4 & 6 & 0.0013 & 0.023 & 1 & 10000 & 9 & 43.4783 \\\\\n",
       "\t10 & 4 & 5 & 0.001 & 0.024 & 1 & 10000 & 10 & 41.6667 \\\\\n",
       "\t11 & 4 & 5 & 0.001 & 0.024 & 1 & 10000 & 11 & 41.6667 \\\\\n",
       "\t12 & 4 & 7 & 0.0021 & 0.0135 & 1 & 10000 & 12 & 74.0741 \\\\\n",
       "\t13 & 5 & 6 & 0.00085 & 0.01051 & 1 & 10000 & 13 & 95.1475 \\\\\n",
       "\t14 & 5 & 6 & 0.00151 & 0.01613 & 1 & 10000 & 14 & 61.9963 \\\\\n",
       "\t15 & 6 & 9 & 0.00078 & 0.00852 & 1 & 10000 & 15 & 117.371 \\\\\n",
       "\t16 & 6 & 9 & 0.00078 & 0.00852 & 1 & 10000 & 16 & 117.371 \\\\\n",
       "\t17 & 7 & 8 & 0.0004 & 0.0001 & 1 & 10000 & 17 & 10000.0 \\\\\n",
       "\t18 & 7 & 8 & 0.0004 & 0.0001 & 1 & 10000 & 18 & 10000.0 \\\\\n",
       "\t19 & 7 & 6 & 0.003 & 0.2 & 1 & 10000 & 19 & 5.0 \\\\\n",
       "\t20 & 7 & 6 & 0.003 & 0.2 & 1 & 10000 & 20 & 5.0 \\\\\n",
       "\t21 & 8 & 10 & 0.00083 & 0.0175 & 1 & 10000 & 21 & 57.1429 \\\\\n",
       "\t22 & 8 & 10 & 0.00083 & 0.0175 & 1 & 10000 & 22 & 57.1429 \\\\\n",
       "\t23 & 9 & 11 & 0.00164 & 0.0163 & 1 & 10000 & 23 & 61.3497 \\\\\n",
       "\t24 & 9 & 11 & 0.00164 & 0.0163 & 1 & 10000 & 24 & 61.3497 \\\\\n",
       "\t25 & 9 & 10 & 0.00352 & 0.02453 & 1 & 10000 & 25 & 40.7664 \\\\\n",
       "\t26 & 9 & 10 & 0.00492 & 0.0343 & 1 & 10000 & 26 & 29.1545 \\\\\n",
       "\t27 & 10 & 15 & 0.00053 & 0.00835 & 1 & 10000 & 27 & 119.76 \\\\\n",
       "\t28 & 10 & 15 & 0.00052 & 0.0063 & 1 & 10000 & 28 & 158.73 \\\\\n",
       "\t29 & 11 & 15 & 0.0007 & 0.042 & 1 & 10000 & 29 & 23.8095 \\\\\n",
       "\t30 & 11 & 15 & 0.00099 & 0.042 & 1 & 10000 & 30 & 23.8095 \\\\\n",
       "\t$\\dots$ & $\\dots$ & $\\dots$ & $\\dots$ & $\\dots$ & $\\dots$ & $\\dots$ & $\\dots$ & $\\dots$ \\\\\n",
       "\\end{tabular}\n"
      ],
      "text/plain": [
       "\u001b[1m198×8 DataFrame\u001b[0m\n",
       "\u001b[1m Row \u001b[0m│\u001b[1m fromnode \u001b[0m\u001b[1m tonode \u001b[0m\u001b[1m resistance \u001b[0m\u001b[1m reactance \u001b[0m\u001b[1m contingencymarked \u001b[0m\u001b[1m capacity \u001b[0m\u001b[1m id    \u001b[0m\u001b[1m b         \u001b[0m\n",
       "     │\u001b[90m Int64    \u001b[0m\u001b[90m Int64  \u001b[0m\u001b[90m Float64    \u001b[0m\u001b[90m Float64   \u001b[0m\u001b[90m Int64             \u001b[0m\u001b[90m Int64    \u001b[0m\u001b[90m Int64 \u001b[0m\u001b[90m Float64   \u001b[0m\n",
       "─────┼────────────────────────────────────────────────────────────────────────────────────────\n",
       "   1 │        1       2     0.0122     0.02                     1     10000      1   50.0\n",
       "   2 │        1       3     0.007      0.15                     1     10000      2    6.66667\n",
       "   3 │        1       2     0.0122     0.02                     1     10000      3   50.0\n",
       "   4 │        1       3     0.007      0.15                     1     10000      4    6.66667\n",
       "   5 │        2       4     0.0004     0.065                    1     10000      5   15.3846\n",
       "   6 │        2       4     0.0004     0.065                    1     10000      6   15.3846\n",
       "   7 │        4       7     0.00211    0.0135                   1     10000      7   74.0741\n",
       "   8 │        4       6     0.0013     0.023                    1     10000      8   43.4783\n",
       "   9 │        4       6     0.0013     0.023                    1     10000      9   43.4783\n",
       "  10 │        4       5     0.001      0.024                    1     10000     10   41.6667\n",
       "  11 │        4       5     0.001      0.024                    1     10000     11   41.6667\n",
       "  ⋮  │    ⋮        ⋮         ⋮           ⋮              ⋮             ⋮        ⋮        ⋮\n",
       " 189 │       26      25     0.0002     0.0057                   1     10000     90  175.439\n",
       " 190 │       26      27     0.0002     0.00503                  1     10000     91  198.807\n",
       " 191 │       26      27     0.0002     0.00503                  1     10000     92  198.807\n",
       " 192 │       27      28     0.00038    0.00711                  1     10000     93  140.647\n",
       " 193 │       27      28     0.00038    0.00711                  1     10000     94  140.647\n",
       " 194 │       28      29     0.00051    0.00796                  1     10000     95  125.628\n",
       " 195 │       28      29     0.00051    0.00796                  1     10000     96  125.628\n",
       " 196 │        4       3     0.003      0.041                    1     10000     97   24.3902\n",
       " 197 │        4       3     0.003      0.041                    1     10000     98   24.3902\n",
       " 198 │        2       3     0.03004    0.077                    1     10000     99   12.987\n",
       "\u001b[36m                                                                              177 rows omitted\u001b[0m"
      ]
     },
     "execution_count": 2,
     "metadata": {},
     "output_type": "execute_result"
    }
   ],
   "source": [
    "#open csv files to define sets, lines, gens and and loads/demand\n",
    "datadir = joinpath(\"ReducedNetwork\") \n",
    "gens = CSV.read(joinpath(datadir,\"GenRedNet2.csv\"), DataFrame);\n",
    "lines = CSV.read(joinpath(datadir,\"TransRedNet.csv\"), DataFrame);\n",
    "loads = CSV.read(joinpath(datadir,\"demandRedNet.csv\"), DataFrame);\n",
    "\n",
    "\n",
    "# Rename all columns to lowercase (by convention)\n",
    "for f in [gens, lines, loads]\n",
    "    rename!(f,lowercase.(names(f)))\n",
    "end\n",
    "\n",
    "# create generator ids #changed to read columns rather than rows\n",
    "gens.id = 1:nrow(gens);\n",
    "\n",
    "# create line ids \n",
    "lines.id = 1:nrow(lines);\n",
    "# add set of rows for reverse direction with same parameters\n",
    "\n",
    "lines2 = copy(lines)\n",
    "lines2.f = lines2.fromnode\n",
    "lines2.fromnode = lines.tonode\n",
    "lines2.tonode = lines.fromnode\n",
    "lines2 = lines2[:,names(lines)]\n",
    "append!(lines,lines2)\n",
    "\n",
    "#lines.capacity = 0.4*lines.capacity\n",
    "# calculate simple susceptance, ignoring resistance as earlier \n",
    "lines.b = 1 ./ lines.reactance\n",
    "\n",
    "# keep only a single time period\n",
    "#loads = loads[:,[\"connnode\",\"interval-1_load\"]]\n",
    "#rename!(loads,\"interval-1_load\" => \"demand\");\n",
    "\n",
    "lines"
   ]
  },
  {
   "cell_type": "code",
   "execution_count": 3,
   "id": "c47c5316",
   "metadata": {},
   "outputs": [
    {
     "data": {
      "text/html": [
       "<div><div style = \"float: left;\"><span>66×10 DataFrame</span></div><div style = \"float: right;\"><span style = \"font-style: italic;\">41 rows omitted</span></div><div style = \"clear: both;\"></div></div><div class = \"data-frame\" style = \"overflow-x: scroll;\"><table class = \"data-frame\" style = \"margin-bottom: 6px;\"><thead><tr class = \"header\"><th class = \"rowNumber\" style = \"font-weight: bold; text-align: right;\">Row</th><th style = \"text-align: left;\">connnode</th><th style = \"text-align: left;\">c2</th><th style = \"text-align: left;\">c1</th><th style = \"text-align: left;\">c0</th><th style = \"text-align: left;\">pgmax</th><th style = \"text-align: left;\">pgmin</th><th style = \"text-align: left;\">rgmax</th><th style = \"text-align: left;\">rgmin</th><th style = \"text-align: left;\">pgprev</th><th style = \"text-align: left;\">id</th></tr><tr class = \"subheader headerLastRow\"><th class = \"rowNumber\" style = \"font-weight: bold; text-align: right;\"></th><th title = \"Int64\" style = \"text-align: left;\">Int64</th><th title = \"Int64\" style = \"text-align: left;\">Int64</th><th title = \"Float64\" style = \"text-align: left;\">Float64</th><th title = \"Int64\" style = \"text-align: left;\">Int64</th><th title = \"Float64\" style = \"text-align: left;\">Float64</th><th title = \"Int64\" style = \"text-align: left;\">Int64</th><th title = \"Int64\" style = \"text-align: left;\">Int64</th><th title = \"Int64\" style = \"text-align: left;\">Int64</th><th title = \"Int64\" style = \"text-align: left;\">Int64</th><th title = \"Int64\" style = \"text-align: left;\">Int64</th></tr></thead><tbody><tr><td class = \"rowNumber\" style = \"font-weight: bold; text-align: right;\">1</td><td style = \"text-align: right;\">1</td><td style = \"text-align: right;\">0</td><td style = \"text-align: right;\">12.0</td><td style = \"text-align: right;\">0</td><td style = \"text-align: right;\">668.0</td><td style = \"text-align: right;\">0</td><td style = \"text-align: right;\">100</td><td style = \"text-align: right;\">-100</td><td style = \"text-align: right;\">0</td><td style = \"text-align: right;\">1</td></tr><tr><td class = \"rowNumber\" style = \"font-weight: bold; text-align: right;\">2</td><td style = \"text-align: right;\">1</td><td style = \"text-align: right;\">0</td><td style = \"text-align: right;\">395.37</td><td style = \"text-align: right;\">0</td><td style = \"text-align: right;\">554.28</td><td style = \"text-align: right;\">0</td><td style = \"text-align: right;\">100</td><td style = \"text-align: right;\">-100</td><td style = \"text-align: right;\">0</td><td style = \"text-align: right;\">2</td></tr><tr><td class = \"rowNumber\" style = \"font-weight: bold; text-align: right;\">3</td><td style = \"text-align: right;\">1</td><td style = \"text-align: right;\">0</td><td style = \"text-align: right;\">86.38</td><td style = \"text-align: right;\">0</td><td style = \"text-align: right;\">300.0</td><td style = \"text-align: right;\">0</td><td style = \"text-align: right;\">100</td><td style = \"text-align: right;\">-100</td><td style = \"text-align: right;\">0</td><td style = \"text-align: right;\">3</td></tr><tr><td class = \"rowNumber\" style = \"font-weight: bold; text-align: right;\">4</td><td style = \"text-align: right;\">1</td><td style = \"text-align: right;\">0</td><td style = \"text-align: right;\">32.0</td><td style = \"text-align: right;\">0</td><td style = \"text-align: right;\">18.72</td><td style = \"text-align: right;\">0</td><td style = \"text-align: right;\">100</td><td style = \"text-align: right;\">-100</td><td style = \"text-align: right;\">0</td><td style = \"text-align: right;\">4</td></tr><tr><td class = \"rowNumber\" style = \"font-weight: bold; text-align: right;\">5</td><td style = \"text-align: right;\">2</td><td style = \"text-align: right;\">0</td><td style = \"text-align: right;\">37.0</td><td style = \"text-align: right;\">0</td><td style = \"text-align: right;\">50.6</td><td style = \"text-align: right;\">0</td><td style = \"text-align: right;\">100</td><td style = \"text-align: right;\">-100</td><td style = \"text-align: right;\">0</td><td style = \"text-align: right;\">5</td></tr><tr><td class = \"rowNumber\" style = \"font-weight: bold; text-align: right;\">6</td><td style = \"text-align: right;\">2</td><td style = \"text-align: right;\">0</td><td style = \"text-align: right;\">400.68</td><td style = \"text-align: right;\">0</td><td style = \"text-align: right;\">1524.0</td><td style = \"text-align: right;\">0</td><td style = \"text-align: right;\">100</td><td style = \"text-align: right;\">-100</td><td style = \"text-align: right;\">0</td><td style = \"text-align: right;\">6</td></tr><tr><td class = \"rowNumber\" style = \"font-weight: bold; text-align: right;\">7</td><td style = \"text-align: right;\">2</td><td style = \"text-align: right;\">0</td><td style = \"text-align: right;\">400.68</td><td style = \"text-align: right;\">0</td><td style = \"text-align: right;\">12.0</td><td style = \"text-align: right;\">0</td><td style = \"text-align: right;\">100</td><td style = \"text-align: right;\">-100</td><td style = \"text-align: right;\">0</td><td style = \"text-align: right;\">7</td></tr><tr><td class = \"rowNumber\" style = \"font-weight: bold; text-align: right;\">8</td><td style = \"text-align: right;\">3</td><td style = \"text-align: right;\">0</td><td style = \"text-align: right;\">32.0</td><td style = \"text-align: right;\">0</td><td style = \"text-align: right;\">550.99</td><td style = \"text-align: right;\">0</td><td style = \"text-align: right;\">100</td><td style = \"text-align: right;\">-100</td><td style = \"text-align: right;\">0</td><td style = \"text-align: right;\">8</td></tr><tr><td class = \"rowNumber\" style = \"font-weight: bold; text-align: right;\">9</td><td style = \"text-align: right;\">3</td><td style = \"text-align: right;\">0</td><td style = \"text-align: right;\">27.0</td><td style = \"text-align: right;\">0</td><td style = \"text-align: right;\">19.0</td><td style = \"text-align: right;\">0</td><td style = \"text-align: right;\">100</td><td style = \"text-align: right;\">-100</td><td style = \"text-align: right;\">0</td><td style = \"text-align: right;\">9</td></tr><tr><td class = \"rowNumber\" style = \"font-weight: bold; text-align: right;\">10</td><td style = \"text-align: right;\">3</td><td style = \"text-align: right;\">0</td><td style = \"text-align: right;\">395.37</td><td style = \"text-align: right;\">0</td><td style = \"text-align: right;\">553.12</td><td style = \"text-align: right;\">0</td><td style = \"text-align: right;\">100</td><td style = \"text-align: right;\">-100</td><td style = \"text-align: right;\">0</td><td style = \"text-align: right;\">10</td></tr><tr><td class = \"rowNumber\" style = \"font-weight: bold; text-align: right;\">11</td><td style = \"text-align: right;\">3</td><td style = \"text-align: right;\">0</td><td style = \"text-align: right;\">29.0</td><td style = \"text-align: right;\">0</td><td style = \"text-align: right;\">15.12</td><td style = \"text-align: right;\">0</td><td style = \"text-align: right;\">100</td><td style = \"text-align: right;\">-100</td><td style = \"text-align: right;\">0</td><td style = \"text-align: right;\">11</td></tr><tr><td class = \"rowNumber\" style = \"font-weight: bold; text-align: right;\">12</td><td style = \"text-align: right;\">4</td><td style = \"text-align: right;\">0</td><td style = \"text-align: right;\">33.0</td><td style = \"text-align: right;\">0</td><td style = \"text-align: right;\">35.0</td><td style = \"text-align: right;\">0</td><td style = \"text-align: right;\">100</td><td style = \"text-align: right;\">-100</td><td style = \"text-align: right;\">0</td><td style = \"text-align: right;\">12</td></tr><tr><td class = \"rowNumber\" style = \"font-weight: bold; text-align: right;\">13</td><td style = \"text-align: right;\">4</td><td style = \"text-align: right;\">0</td><td style = \"text-align: right;\">382.24</td><td style = \"text-align: right;\">0</td><td style = \"text-align: right;\">2284.0</td><td style = \"text-align: right;\">0</td><td style = \"text-align: right;\">100</td><td style = \"text-align: right;\">-100</td><td style = \"text-align: right;\">0</td><td style = \"text-align: right;\">13</td></tr><tr><td style = \"text-align: right;\">&vellip;</td><td style = \"text-align: right;\">&vellip;</td><td style = \"text-align: right;\">&vellip;</td><td style = \"text-align: right;\">&vellip;</td><td style = \"text-align: right;\">&vellip;</td><td style = \"text-align: right;\">&vellip;</td><td style = \"text-align: right;\">&vellip;</td><td style = \"text-align: right;\">&vellip;</td><td style = \"text-align: right;\">&vellip;</td><td style = \"text-align: right;\">&vellip;</td><td style = \"text-align: right;\">&vellip;</td></tr><tr><td class = \"rowNumber\" style = \"font-weight: bold; text-align: right;\">55</td><td style = \"text-align: right;\">25</td><td style = \"text-align: right;\">0</td><td style = \"text-align: right;\">665.11</td><td style = \"text-align: right;\">0</td><td style = \"text-align: right;\">1245.0</td><td style = \"text-align: right;\">0</td><td style = \"text-align: right;\">100</td><td style = \"text-align: right;\">-100</td><td style = \"text-align: right;\">0</td><td style = \"text-align: right;\">55</td></tr><tr><td class = \"rowNumber\" style = \"font-weight: bold; text-align: right;\">56</td><td style = \"text-align: right;\">26</td><td style = \"text-align: right;\">0</td><td style = \"text-align: right;\">382.24</td><td style = \"text-align: right;\">0</td><td style = \"text-align: right;\">1966.0</td><td style = \"text-align: right;\">0</td><td style = \"text-align: right;\">100</td><td style = \"text-align: right;\">-100</td><td style = \"text-align: right;\">0</td><td style = \"text-align: right;\">56</td></tr><tr><td class = \"rowNumber\" style = \"font-weight: bold; text-align: right;\">57</td><td style = \"text-align: right;\">26</td><td style = \"text-align: right;\">0</td><td style = \"text-align: right;\">400.68</td><td style = \"text-align: right;\">0</td><td style = \"text-align: right;\">1131.0</td><td style = \"text-align: right;\">0</td><td style = \"text-align: right;\">100</td><td style = \"text-align: right;\">-100</td><td style = \"text-align: right;\">0</td><td style = \"text-align: right;\">57</td></tr><tr><td class = \"rowNumber\" style = \"font-weight: bold; text-align: right;\">58</td><td style = \"text-align: right;\">26</td><td style = \"text-align: right;\">0</td><td style = \"text-align: right;\">400.68</td><td style = \"text-align: right;\">0</td><td style = \"text-align: right;\">3165.0</td><td style = \"text-align: right;\">0</td><td style = \"text-align: right;\">100</td><td style = \"text-align: right;\">-100</td><td style = \"text-align: right;\">0</td><td style = \"text-align: right;\">58</td></tr><tr><td class = \"rowNumber\" style = \"font-weight: bold; text-align: right;\">59</td><td style = \"text-align: right;\">26</td><td style = \"text-align: right;\">0</td><td style = \"text-align: right;\">665.11</td><td style = \"text-align: right;\">0</td><td style = \"text-align: right;\">1355.0</td><td style = \"text-align: right;\">0</td><td style = \"text-align: right;\">100</td><td style = \"text-align: right;\">-100</td><td style = \"text-align: right;\">0</td><td style = \"text-align: right;\">59</td></tr><tr><td class = \"rowNumber\" style = \"font-weight: bold; text-align: right;\">60</td><td style = \"text-align: right;\">27</td><td style = \"text-align: right;\">0</td><td style = \"text-align: right;\">86.38</td><td style = \"text-align: right;\">0</td><td style = \"text-align: right;\">1081.0</td><td style = \"text-align: right;\">0</td><td style = \"text-align: right;\">100</td><td style = \"text-align: right;\">-100</td><td style = \"text-align: right;\">0</td><td style = \"text-align: right;\">60</td></tr><tr><td class = \"rowNumber\" style = \"font-weight: bold; text-align: right;\">61</td><td style = \"text-align: right;\">27</td><td style = \"text-align: right;\">0</td><td style = \"text-align: right;\">28.0</td><td style = \"text-align: right;\">0</td><td style = \"text-align: right;\">300.0</td><td style = \"text-align: right;\">0</td><td style = \"text-align: right;\">100</td><td style = \"text-align: right;\">-100</td><td style = \"text-align: right;\">0</td><td style = \"text-align: right;\">61</td></tr><tr><td class = \"rowNumber\" style = \"font-weight: bold; text-align: right;\">62</td><td style = \"text-align: right;\">28</td><td style = \"text-align: right;\">0</td><td style = \"text-align: right;\">400.68</td><td style = \"text-align: right;\">0</td><td style = \"text-align: right;\">1320.0</td><td style = \"text-align: right;\">0</td><td style = \"text-align: right;\">100</td><td style = \"text-align: right;\">-100</td><td style = \"text-align: right;\">0</td><td style = \"text-align: right;\">62</td></tr><tr><td class = \"rowNumber\" style = \"font-weight: bold; text-align: right;\">63</td><td style = \"text-align: right;\">28</td><td style = \"text-align: right;\">0</td><td style = \"text-align: right;\">400.68</td><td style = \"text-align: right;\">0</td><td style = \"text-align: right;\">208.0</td><td style = \"text-align: right;\">0</td><td style = \"text-align: right;\">100</td><td style = \"text-align: right;\">-100</td><td style = \"text-align: right;\">0</td><td style = \"text-align: right;\">63</td></tr><tr><td class = \"rowNumber\" style = \"font-weight: bold; text-align: right;\">64</td><td style = \"text-align: right;\">29</td><td style = \"text-align: right;\">0</td><td style = \"text-align: right;\">86.38</td><td style = \"text-align: right;\">0</td><td style = \"text-align: right;\">1261.0</td><td style = \"text-align: right;\">0</td><td style = \"text-align: right;\">100</td><td style = \"text-align: right;\">-100</td><td style = \"text-align: right;\">0</td><td style = \"text-align: right;\">64</td></tr><tr><td class = \"rowNumber\" style = \"font-weight: bold; text-align: right;\">65</td><td style = \"text-align: right;\">29</td><td style = \"text-align: right;\">0</td><td style = \"text-align: right;\">400.68</td><td style = \"text-align: right;\">0</td><td style = \"text-align: right;\">905.0</td><td style = \"text-align: right;\">0</td><td style = \"text-align: right;\">100</td><td style = \"text-align: right;\">-100</td><td style = \"text-align: right;\">0</td><td style = \"text-align: right;\">65</td></tr><tr><td class = \"rowNumber\" style = \"font-weight: bold; text-align: right;\">66</td><td style = \"text-align: right;\">29</td><td style = \"text-align: right;\">0</td><td style = \"text-align: right;\">650.0</td><td style = \"text-align: right;\">0</td><td style = \"text-align: right;\">140.0</td><td style = \"text-align: right;\">0</td><td style = \"text-align: right;\">100</td><td style = \"text-align: right;\">-100</td><td style = \"text-align: right;\">0</td><td style = \"text-align: right;\">66</td></tr></tbody></table></div>"
      ],
      "text/latex": [
       "\\begin{tabular}{r|cccccccccc}\n",
       "\t& connnode & c2 & c1 & c0 & pgmax & pgmin & rgmax & rgmin & pgprev & id\\\\\n",
       "\t\\hline\n",
       "\t& Int64 & Int64 & Float64 & Int64 & Float64 & Int64 & Int64 & Int64 & Int64 & Int64\\\\\n",
       "\t\\hline\n",
       "\t1 & 1 & 0 & 12.0 & 0 & 668.0 & 0 & 100 & -100 & 0 & 1 \\\\\n",
       "\t2 & 1 & 0 & 395.37 & 0 & 554.28 & 0 & 100 & -100 & 0 & 2 \\\\\n",
       "\t3 & 1 & 0 & 86.38 & 0 & 300.0 & 0 & 100 & -100 & 0 & 3 \\\\\n",
       "\t4 & 1 & 0 & 32.0 & 0 & 18.72 & 0 & 100 & -100 & 0 & 4 \\\\\n",
       "\t5 & 2 & 0 & 37.0 & 0 & 50.6 & 0 & 100 & -100 & 0 & 5 \\\\\n",
       "\t6 & 2 & 0 & 400.68 & 0 & 1524.0 & 0 & 100 & -100 & 0 & 6 \\\\\n",
       "\t7 & 2 & 0 & 400.68 & 0 & 12.0 & 0 & 100 & -100 & 0 & 7 \\\\\n",
       "\t8 & 3 & 0 & 32.0 & 0 & 550.99 & 0 & 100 & -100 & 0 & 8 \\\\\n",
       "\t9 & 3 & 0 & 27.0 & 0 & 19.0 & 0 & 100 & -100 & 0 & 9 \\\\\n",
       "\t10 & 3 & 0 & 395.37 & 0 & 553.12 & 0 & 100 & -100 & 0 & 10 \\\\\n",
       "\t11 & 3 & 0 & 29.0 & 0 & 15.12 & 0 & 100 & -100 & 0 & 11 \\\\\n",
       "\t12 & 4 & 0 & 33.0 & 0 & 35.0 & 0 & 100 & -100 & 0 & 12 \\\\\n",
       "\t13 & 4 & 0 & 382.24 & 0 & 2284.0 & 0 & 100 & -100 & 0 & 13 \\\\\n",
       "\t14 & 4 & 0 & 86.38 & 0 & 440.0 & 0 & 100 & -100 & 0 & 14 \\\\\n",
       "\t15 & 4 & 0 & 400.68 & 0 & 259.0 & 0 & 100 & -100 & 0 & 15 \\\\\n",
       "\t16 & 5 & 0 & 86.38 & 0 & 1074.0 & 0 & 100 & -100 & 0 & 16 \\\\\n",
       "\t17 & 5 & 0 & 400.68 & 0 & 23.2 & 0 & 100 & -100 & 0 & 17 \\\\\n",
       "\t18 & 6 & 0 & 32.0 & 0 & 1390.92 & 0 & 100 & -100 & 0 & 18 \\\\\n",
       "\t19 & 6 & 0 & 395.37 & 0 & 33.0 & 0 & 100 & -100 & 0 & 19 \\\\\n",
       "\t20 & 6 & 0 & 46.0 & 0 & 49.4 & 0 & 100 & -100 & 0 & 20 \\\\\n",
       "\t21 & 7 & 0 & 49.0 & 0 & 314.25 & 0 & 100 & -100 & 0 & 21 \\\\\n",
       "\t22 & 7 & 0 & 86.38 & 0 & 1215.0 & 0 & 100 & -100 & 0 & 22 \\\\\n",
       "\t23 & 7 & 0 & 400.68 & 0 & 1102.0 & 0 & 100 & -100 & 0 & 23 \\\\\n",
       "\t24 & 10 & 0 & 86.38 & 0 & 1207.0 & 0 & 100 & -100 & 0 & 24 \\\\\n",
       "\t25 & 10 & 0 & 400.68 & 0 & 1875.0 & 0 & 100 & -100 & 0 & 25 \\\\\n",
       "\t26 & 10 & 0 & 639.98 & 0 & 420.0 & 0 & 100 & -100 & 0 & 26 \\\\\n",
       "\t27 & 11 & 0 & 28.0 & 0 & 180.0 & 0 & 100 & -100 & 0 & 27 \\\\\n",
       "\t28 & 11 & 0 & 86.38 & 0 & 2406.0 & 0 & 100 & -100 & 0 & 28 \\\\\n",
       "\t29 & 11 & 0 & 382.24 & 0 & 1987.0 & 0 & 100 & -100 & 0 & 29 \\\\\n",
       "\t30 & 11 & 0 & 400.68 & 0 & 155.0 & 0 & 100 & -100 & 0 & 30 \\\\\n",
       "\t$\\dots$ & $\\dots$ & $\\dots$ & $\\dots$ & $\\dots$ & $\\dots$ & $\\dots$ & $\\dots$ & $\\dots$ & $\\dots$ & $\\dots$ \\\\\n",
       "\\end{tabular}\n"
      ],
      "text/plain": [
       "\u001b[1m66×10 DataFrame\u001b[0m\n",
       "\u001b[1m Row \u001b[0m│\u001b[1m connnode \u001b[0m\u001b[1m c2    \u001b[0m\u001b[1m c1      \u001b[0m\u001b[1m c0    \u001b[0m\u001b[1m pgmax   \u001b[0m\u001b[1m pgmin \u001b[0m\u001b[1m rgmax \u001b[0m\u001b[1m rgmin \u001b[0m\u001b[1m pgprev \u001b[0m\u001b[1m id    \u001b[0m\n",
       "     │\u001b[90m Int64    \u001b[0m\u001b[90m Int64 \u001b[0m\u001b[90m Float64 \u001b[0m\u001b[90m Int64 \u001b[0m\u001b[90m Float64 \u001b[0m\u001b[90m Int64 \u001b[0m\u001b[90m Int64 \u001b[0m\u001b[90m Int64 \u001b[0m\u001b[90m Int64  \u001b[0m\u001b[90m Int64 \u001b[0m\n",
       "─────┼──────────────────────────────────────────────────────────────────────────────\n",
       "   1 │        1      0    12.0       0   668.0       0    100   -100       0      1\n",
       "   2 │        1      0   395.37      0   554.28      0    100   -100       0      2\n",
       "   3 │        1      0    86.38      0   300.0       0    100   -100       0      3\n",
       "   4 │        1      0    32.0       0    18.72      0    100   -100       0      4\n",
       "   5 │        2      0    37.0       0    50.6       0    100   -100       0      5\n",
       "   6 │        2      0   400.68      0  1524.0       0    100   -100       0      6\n",
       "   7 │        2      0   400.68      0    12.0       0    100   -100       0      7\n",
       "   8 │        3      0    32.0       0   550.99      0    100   -100       0      8\n",
       "   9 │        3      0    27.0       0    19.0       0    100   -100       0      9\n",
       "  10 │        3      0   395.37      0   553.12      0    100   -100       0     10\n",
       "  11 │        3      0    29.0       0    15.12      0    100   -100       0     11\n",
       "  ⋮  │    ⋮        ⋮       ⋮       ⋮       ⋮       ⋮      ⋮      ⋮      ⋮       ⋮\n",
       "  57 │       26      0   400.68      0  1131.0       0    100   -100       0     57\n",
       "  58 │       26      0   400.68      0  3165.0       0    100   -100       0     58\n",
       "  59 │       26      0   665.11      0  1355.0       0    100   -100       0     59\n",
       "  60 │       27      0    86.38      0  1081.0       0    100   -100       0     60\n",
       "  61 │       27      0    28.0       0   300.0       0    100   -100       0     61\n",
       "  62 │       28      0   400.68      0  1320.0       0    100   -100       0     62\n",
       "  63 │       28      0   400.68      0   208.0       0    100   -100       0     63\n",
       "  64 │       29      0    86.38      0  1261.0       0    100   -100       0     64\n",
       "  65 │       29      0   400.68      0   905.0       0    100   -100       0     65\n",
       "  66 │       29      0   650.0       0   140.0       0    100   -100       0     66\n",
       "\u001b[36m                                                                     45 rows omitted\u001b[0m"
      ]
     },
     "execution_count": 3,
     "metadata": {},
     "output_type": "execute_result"
    }
   ],
   "source": [
    "gens"
   ]
  },
  {
   "cell_type": "code",
   "execution_count": 15,
   "id": "ba65dd13",
   "metadata": {},
   "outputs": [
    {
     "data": {
      "text/plain": [
       "np_attempt (generic function with 1 method)"
      ]
     },
     "execution_count": 15,
     "metadata": {},
     "output_type": "execute_result"
    }
   ],
   "source": [
    "#define optimization function \n",
    "#Nodal pricing - thiswill form the second step of the National pricing (re-dispatch)\n",
    "#Function to solve DC F problem using IEEE test cases\n",
    "#Inputs:\n",
    "    #gen_info -- dataframe with generator info\n",
    "    #line_info -- dataframe with transmission lines info\n",
    "    #loads  -- dataframe with load info\n",
    "#\n",
    "function np_attempt(gens, lines, loads)\n",
    "    NP = Model(HiGHS.Optimizer) # You could use Clp as well, with Clp.Optimizer\n",
    "    \n",
    "    # Define sets based on data\n",
    "      # Set of generator buses\n",
    "    G = gens.id #the way it defines gens are by looking at which bus it's connected to - list gens as unique elements then create another matrix showing which gens are associated with which node in the system\n",
    "                #set to id instead of connnode\n",
    "    \n",
    "    \n",
    "      # Set of all nodes\n",
    "    N = sort(union((lines.fromnode), \n",
    "            (lines.tonode))) #took out unique\n",
    "    \n",
    "      # sets J_i and G_i will be described using dataframe indexing below\n",
    "\n",
    "    # Define per unit base units for the system \n",
    "    # used to convert from per unit values to standard unit\n",
    "    # values (e.g. p.u. power flows to MW/MVA)\n",
    "    baseMVA = 100 # base MVA is 100 MVA for this system *LOOK INTO THIS FURTHER*\n",
    "    \n",
    "    # Decision variables   \n",
    "    @variables(NP, begin\n",
    "        GEN[G]  >= 0     # generation        \n",
    "        # Note: we assume Pmin = 0 for all resources for simplicty here\n",
    "        THETA[N]         # voltage phase angle of bus\n",
    "        FLOW[N,N]        # flows along each line\n",
    "    end)\n",
    "    \n",
    "    # Create slack bus with reference angle = 0; use bus 1 with generator\n",
    "    fix(THETA[1],0)\n",
    "                \n",
    "    # Objective function\n",
    "    @objective(NP, Min, \n",
    "        sum(gens[g,:c1] * GEN[g] for g in G)\n",
    "    )\n",
    "    \n",
    "    # Supply demand balances\n",
    "    @constraint(NP, cBalance[i in N], \n",
    "        sum(GEN[g] for g in gens[gens.connnode .== i,:id]) \n",
    "            + sum(load for load in loads[loads.connnode .== i,:demand]) \n",
    "        == sum(FLOW[i,j] for j in lines[lines.fromnode .== i,:tonode])\n",
    "    )\n",
    "\n",
    "    # Max generation constraint\n",
    "    @constraint(NP, cMaxGen[g in G],\n",
    "                   GEN[g] <= gens[g,:pgmax])\n",
    "    \n",
    " \n",
    "    \n",
    "\n",
    "\n",
    "    # Solve statement (! indicates runs in place)\n",
    "    optimize!(NP)\n",
    "\n",
    "    # Output variables\n",
    "    generation = DataFrame(\n",
    "        node = gens.connnode,\n",
    "        gen = value.(GEN).data[gens.connnode]\n",
    "        )\n",
    "    \n",
    "    angles = value.(THETA).data\n",
    "    \n",
    "    flows = DataFrame(\n",
    "        fbus = lines.fromnode,\n",
    "        tbus = lines.tonode,\n",
    "        flow = baseMVA * lines.b .* (angles[lines.fromnode] .- \n",
    "                        angles[lines.tonode]))\n",
    "\n",
    "    #load payment\n",
    "    #loadpay = sum(dual.(cBalance)*(loads for loads in loads[loads.connnode, :demand]))\n",
    "    \n",
    "\n",
    "    #congestion cost\n",
    "    \n",
    "    \n",
    "    #Total Gen prof\n",
    "    #genprof = sum(GEN[g] for g in gens[gens.connnode .== i,:id]) * sum()\n",
    "    \n",
    "    # We output the marginal values of the demand constraints, \n",
    "    # which will in fact be the prices to deliver power at a given bus.\n",
    "    prices = DataFrame(\n",
    "        node = N,\n",
    "        value = dual.(cBalance).data)\n",
    "\n",
    "    # Return the solution and objective as named tuple\n",
    "    return (\n",
    "        generation = generation, \n",
    "        angles,\n",
    "        flows,\n",
    "        prices,\n",
    "        #loadpay,\n",
    "        cost = objective_value(NP),\n",
    "        status = termination_status(NP)\n",
    "    )\n",
    "end"
   ]
  },
  {
   "cell_type": "code",
   "execution_count": 16,
   "id": "3c9c0f30",
   "metadata": {},
   "outputs": [
    {
     "name": "stdout",
     "output_type": "stream",
     "text": [
      "Running HiGHS 1.5.3 [date: 1970-01-01, git hash: 45a127b78]\n",
      "Copyright (c) 2023 HiGHS under MIT licence terms\n",
      "Presolving model\n",
      "0 rows, 150 cols, 0 nonzeros\n",
      "0 rows, 0 cols, 0 nonzeros\n",
      "Presolve : Reductions: rows 0(-186); columns 0(-1482); elements 0(-432) - Reduced to empty\n",
      "Solving the original LP from the solution after postsolve\n",
      "Model   status      : Optimal\n",
      "Objective value     :  0.0000000000e+00\n",
      "HiGHS run time      :          0.02\n"
     ]
    }
   ],
   "source": [
    "#solve \n",
    "sol = np_attempt(gens, lines, loads);"
   ]
  },
  {
   "cell_type": "code",
   "execution_count": 17,
   "id": "627f2a22",
   "metadata": {},
   "outputs": [
    {
     "data": {
      "text/html": [
       "<div><div style = \"float: left;\"><span>150×2 DataFrame</span></div><div style = \"float: right;\"><span style = \"font-style: italic;\">125 rows omitted</span></div><div style = \"clear: both;\"></div></div><div class = \"data-frame\" style = \"overflow-x: scroll;\"><table class = \"data-frame\" style = \"margin-bottom: 6px;\"><thead><tr class = \"header\"><th class = \"rowNumber\" style = \"font-weight: bold; text-align: right;\">Row</th><th style = \"text-align: left;\">node</th><th style = \"text-align: left;\">gen</th></tr><tr class = \"subheader headerLastRow\"><th class = \"rowNumber\" style = \"font-weight: bold; text-align: right;\"></th><th title = \"Int64\" style = \"text-align: left;\">Int64</th><th title = \"Float64\" style = \"text-align: left;\">Float64</th></tr></thead><tbody><tr><td class = \"rowNumber\" style = \"font-weight: bold; text-align: right;\">1</td><td style = \"text-align: right;\">1</td><td style = \"text-align: right;\">0.0</td></tr><tr><td class = \"rowNumber\" style = \"font-weight: bold; text-align: right;\">2</td><td style = \"text-align: right;\">1</td><td style = \"text-align: right;\">0.0</td></tr><tr><td class = \"rowNumber\" style = \"font-weight: bold; text-align: right;\">3</td><td style = \"text-align: right;\">1</td><td style = \"text-align: right;\">0.0</td></tr><tr><td class = \"rowNumber\" style = \"font-weight: bold; text-align: right;\">4</td><td style = \"text-align: right;\">1</td><td style = \"text-align: right;\">0.0</td></tr><tr><td class = \"rowNumber\" style = \"font-weight: bold; text-align: right;\">5</td><td style = \"text-align: right;\">1</td><td style = \"text-align: right;\">0.0</td></tr><tr><td class = \"rowNumber\" style = \"font-weight: bold; text-align: right;\">6</td><td style = \"text-align: right;\">2</td><td style = \"text-align: right;\">0.0</td></tr><tr><td class = \"rowNumber\" style = \"font-weight: bold; text-align: right;\">7</td><td style = \"text-align: right;\">2</td><td style = \"text-align: right;\">0.0</td></tr><tr><td class = \"rowNumber\" style = \"font-weight: bold; text-align: right;\">8</td><td style = \"text-align: right;\">2</td><td style = \"text-align: right;\">0.0</td></tr><tr><td class = \"rowNumber\" style = \"font-weight: bold; text-align: right;\">9</td><td style = \"text-align: right;\">2</td><td style = \"text-align: right;\">0.0</td></tr><tr><td class = \"rowNumber\" style = \"font-weight: bold; text-align: right;\">10</td><td style = \"text-align: right;\">2</td><td style = \"text-align: right;\">0.0</td></tr><tr><td class = \"rowNumber\" style = \"font-weight: bold; text-align: right;\">11</td><td style = \"text-align: right;\">3</td><td style = \"text-align: right;\">0.0</td></tr><tr><td class = \"rowNumber\" style = \"font-weight: bold; text-align: right;\">12</td><td style = \"text-align: right;\">3</td><td style = \"text-align: right;\">0.0</td></tr><tr><td class = \"rowNumber\" style = \"font-weight: bold; text-align: right;\">13</td><td style = \"text-align: right;\">3</td><td style = \"text-align: right;\">0.0</td></tr><tr><td style = \"text-align: right;\">&vellip;</td><td style = \"text-align: right;\">&vellip;</td><td style = \"text-align: right;\">&vellip;</td></tr><tr><td class = \"rowNumber\" style = \"font-weight: bold; text-align: right;\">139</td><td style = \"text-align: right;\">33</td><td style = \"text-align: right;\">0.0</td></tr><tr><td class = \"rowNumber\" style = \"font-weight: bold; text-align: right;\">140</td><td style = \"text-align: right;\">34</td><td style = \"text-align: right;\">0.0</td></tr><tr><td class = \"rowNumber\" style = \"font-weight: bold; text-align: right;\">141</td><td style = \"text-align: right;\">34</td><td style = \"text-align: right;\">0.0</td></tr><tr><td class = \"rowNumber\" style = \"font-weight: bold; text-align: right;\">142</td><td style = \"text-align: right;\">34</td><td style = \"text-align: right;\">0.0</td></tr><tr><td class = \"rowNumber\" style = \"font-weight: bold; text-align: right;\">143</td><td style = \"text-align: right;\">34</td><td style = \"text-align: right;\">0.0</td></tr><tr><td class = \"rowNumber\" style = \"font-weight: bold; text-align: right;\">144</td><td style = \"text-align: right;\">35</td><td style = \"text-align: right;\">0.0</td></tr><tr><td class = \"rowNumber\" style = \"font-weight: bold; text-align: right;\">145</td><td style = \"text-align: right;\">35</td><td style = \"text-align: right;\">0.0</td></tr><tr><td class = \"rowNumber\" style = \"font-weight: bold; text-align: right;\">146</td><td style = \"text-align: right;\">35</td><td style = \"text-align: right;\">0.0</td></tr><tr><td class = \"rowNumber\" style = \"font-weight: bold; text-align: right;\">147</td><td style = \"text-align: right;\">35</td><td style = \"text-align: right;\">0.0</td></tr><tr><td class = \"rowNumber\" style = \"font-weight: bold; text-align: right;\">148</td><td style = \"text-align: right;\">36</td><td style = \"text-align: right;\">0.0</td></tr><tr><td class = \"rowNumber\" style = \"font-weight: bold; text-align: right;\">149</td><td style = \"text-align: right;\">36</td><td style = \"text-align: right;\">0.0</td></tr><tr><td class = \"rowNumber\" style = \"font-weight: bold; text-align: right;\">150</td><td style = \"text-align: right;\">36</td><td style = \"text-align: right;\">0.0</td></tr></tbody></table></div>"
      ],
      "text/latex": [
       "\\begin{tabular}{r|cc}\n",
       "\t& node & gen\\\\\n",
       "\t\\hline\n",
       "\t& Int64 & Float64\\\\\n",
       "\t\\hline\n",
       "\t1 & 1 & 0.0 \\\\\n",
       "\t2 & 1 & 0.0 \\\\\n",
       "\t3 & 1 & 0.0 \\\\\n",
       "\t4 & 1 & 0.0 \\\\\n",
       "\t5 & 1 & 0.0 \\\\\n",
       "\t6 & 2 & 0.0 \\\\\n",
       "\t7 & 2 & 0.0 \\\\\n",
       "\t8 & 2 & 0.0 \\\\\n",
       "\t9 & 2 & 0.0 \\\\\n",
       "\t10 & 2 & 0.0 \\\\\n",
       "\t11 & 3 & 0.0 \\\\\n",
       "\t12 & 3 & 0.0 \\\\\n",
       "\t13 & 3 & 0.0 \\\\\n",
       "\t14 & 3 & 0.0 \\\\\n",
       "\t15 & 3 & 0.0 \\\\\n",
       "\t16 & 4 & 0.0 \\\\\n",
       "\t17 & 4 & 0.0 \\\\\n",
       "\t18 & 4 & 0.0 \\\\\n",
       "\t19 & 4 & 0.0 \\\\\n",
       "\t20 & 5 & 0.0 \\\\\n",
       "\t21 & 5 & 0.0 \\\\\n",
       "\t22 & 5 & 0.0 \\\\\n",
       "\t23 & 5 & 0.0 \\\\\n",
       "\t24 & 5 & 0.0 \\\\\n",
       "\t25 & 6 & 0.0 \\\\\n",
       "\t26 & 6 & 0.0 \\\\\n",
       "\t27 & 6 & 0.0 \\\\\n",
       "\t28 & 7 & 0.0 \\\\\n",
       "\t29 & 7 & 0.0 \\\\\n",
       "\t30 & 7 & 0.0 \\\\\n",
       "\t$\\dots$ & $\\dots$ & $\\dots$ \\\\\n",
       "\\end{tabular}\n"
      ],
      "text/plain": [
       "\u001b[1m150×2 DataFrame\u001b[0m\n",
       "\u001b[1m Row \u001b[0m│\u001b[1m node  \u001b[0m\u001b[1m gen     \u001b[0m\n",
       "     │\u001b[90m Int64 \u001b[0m\u001b[90m Float64 \u001b[0m\n",
       "─────┼────────────────\n",
       "   1 │     1      0.0\n",
       "   2 │     1      0.0\n",
       "   3 │     1      0.0\n",
       "   4 │     1      0.0\n",
       "   5 │     1      0.0\n",
       "   6 │     2      0.0\n",
       "   7 │     2      0.0\n",
       "   8 │     2      0.0\n",
       "   9 │     2      0.0\n",
       "  10 │     2      0.0\n",
       "  11 │     3      0.0\n",
       "  ⋮  │   ⋮       ⋮\n",
       " 141 │    34      0.0\n",
       " 142 │    34      0.0\n",
       " 143 │    34      0.0\n",
       " 144 │    35      0.0\n",
       " 145 │    35      0.0\n",
       " 146 │    35      0.0\n",
       " 147 │    35      0.0\n",
       " 148 │    36      0.0\n",
       " 149 │    36      0.0\n",
       " 150 │    36      0.0\n",
       "\u001b[36m      129 rows omitted\u001b[0m"
      ]
     },
     "execution_count": 17,
     "metadata": {},
     "output_type": "execute_result"
    }
   ],
   "source": [
    "#generation output\n",
    "sol.generation"
   ]
  },
  {
   "cell_type": "code",
   "execution_count": 18,
   "id": "4e1bc55d",
   "metadata": {},
   "outputs": [
    {
     "data": {
      "text/html": [
       "<div><div style = \"float: left;\"><span>36×2 DataFrame</span></div><div style = \"float: right;\"><span style = \"font-style: italic;\">11 rows omitted</span></div><div style = \"clear: both;\"></div></div><div class = \"data-frame\" style = \"overflow-x: scroll;\"><table class = \"data-frame\" style = \"margin-bottom: 6px;\"><thead><tr class = \"header\"><th class = \"rowNumber\" style = \"font-weight: bold; text-align: right;\">Row</th><th style = \"text-align: left;\">node</th><th style = \"text-align: left;\">value</th></tr><tr class = \"subheader headerLastRow\"><th class = \"rowNumber\" style = \"font-weight: bold; text-align: right;\"></th><th title = \"Int64\" style = \"text-align: left;\">Int64</th><th title = \"Float64\" style = \"text-align: left;\">Float64</th></tr></thead><tbody><tr><td class = \"rowNumber\" style = \"font-weight: bold; text-align: right;\">1</td><td style = \"text-align: right;\">1</td><td style = \"text-align: right;\">-0.0</td></tr><tr><td class = \"rowNumber\" style = \"font-weight: bold; text-align: right;\">2</td><td style = \"text-align: right;\">2</td><td style = \"text-align: right;\">-0.0</td></tr><tr><td class = \"rowNumber\" style = \"font-weight: bold; text-align: right;\">3</td><td style = \"text-align: right;\">3</td><td style = \"text-align: right;\">-0.0</td></tr><tr><td class = \"rowNumber\" style = \"font-weight: bold; text-align: right;\">4</td><td style = \"text-align: right;\">4</td><td style = \"text-align: right;\">-0.0</td></tr><tr><td class = \"rowNumber\" style = \"font-weight: bold; text-align: right;\">5</td><td style = \"text-align: right;\">5</td><td style = \"text-align: right;\">-0.0</td></tr><tr><td class = \"rowNumber\" style = \"font-weight: bold; text-align: right;\">6</td><td style = \"text-align: right;\">6</td><td style = \"text-align: right;\">-0.0</td></tr><tr><td class = \"rowNumber\" style = \"font-weight: bold; text-align: right;\">7</td><td style = \"text-align: right;\">7</td><td style = \"text-align: right;\">-0.0</td></tr><tr><td class = \"rowNumber\" style = \"font-weight: bold; text-align: right;\">8</td><td style = \"text-align: right;\">8</td><td style = \"text-align: right;\">-0.0</td></tr><tr><td class = \"rowNumber\" style = \"font-weight: bold; text-align: right;\">9</td><td style = \"text-align: right;\">9</td><td style = \"text-align: right;\">-0.0</td></tr><tr><td class = \"rowNumber\" style = \"font-weight: bold; text-align: right;\">10</td><td style = \"text-align: right;\">10</td><td style = \"text-align: right;\">-0.0</td></tr><tr><td class = \"rowNumber\" style = \"font-weight: bold; text-align: right;\">11</td><td style = \"text-align: right;\">11</td><td style = \"text-align: right;\">-0.0</td></tr><tr><td class = \"rowNumber\" style = \"font-weight: bold; text-align: right;\">12</td><td style = \"text-align: right;\">12</td><td style = \"text-align: right;\">-0.0</td></tr><tr><td class = \"rowNumber\" style = \"font-weight: bold; text-align: right;\">13</td><td style = \"text-align: right;\">13</td><td style = \"text-align: right;\">-0.0</td></tr><tr><td style = \"text-align: right;\">&vellip;</td><td style = \"text-align: right;\">&vellip;</td><td style = \"text-align: right;\">&vellip;</td></tr><tr><td class = \"rowNumber\" style = \"font-weight: bold; text-align: right;\">25</td><td style = \"text-align: right;\">25</td><td style = \"text-align: right;\">-0.0</td></tr><tr><td class = \"rowNumber\" style = \"font-weight: bold; text-align: right;\">26</td><td style = \"text-align: right;\">26</td><td style = \"text-align: right;\">-0.0</td></tr><tr><td class = \"rowNumber\" style = \"font-weight: bold; text-align: right;\">27</td><td style = \"text-align: right;\">27</td><td style = \"text-align: right;\">-0.0</td></tr><tr><td class = \"rowNumber\" style = \"font-weight: bold; text-align: right;\">28</td><td style = \"text-align: right;\">28</td><td style = \"text-align: right;\">-0.0</td></tr><tr><td class = \"rowNumber\" style = \"font-weight: bold; text-align: right;\">29</td><td style = \"text-align: right;\">29</td><td style = \"text-align: right;\">-0.0</td></tr><tr><td class = \"rowNumber\" style = \"font-weight: bold; text-align: right;\">30</td><td style = \"text-align: right;\">30</td><td style = \"text-align: right;\">-0.0</td></tr><tr><td class = \"rowNumber\" style = \"font-weight: bold; text-align: right;\">31</td><td style = \"text-align: right;\">31</td><td style = \"text-align: right;\">-0.0</td></tr><tr><td class = \"rowNumber\" style = \"font-weight: bold; text-align: right;\">32</td><td style = \"text-align: right;\">32</td><td style = \"text-align: right;\">-0.0</td></tr><tr><td class = \"rowNumber\" style = \"font-weight: bold; text-align: right;\">33</td><td style = \"text-align: right;\">33</td><td style = \"text-align: right;\">-0.0</td></tr><tr><td class = \"rowNumber\" style = \"font-weight: bold; text-align: right;\">34</td><td style = \"text-align: right;\">34</td><td style = \"text-align: right;\">-0.0</td></tr><tr><td class = \"rowNumber\" style = \"font-weight: bold; text-align: right;\">35</td><td style = \"text-align: right;\">35</td><td style = \"text-align: right;\">-0.0</td></tr><tr><td class = \"rowNumber\" style = \"font-weight: bold; text-align: right;\">36</td><td style = \"text-align: right;\">36</td><td style = \"text-align: right;\">-0.0</td></tr></tbody></table></div>"
      ],
      "text/latex": [
       "\\begin{tabular}{r|cc}\n",
       "\t& node & value\\\\\n",
       "\t\\hline\n",
       "\t& Int64 & Float64\\\\\n",
       "\t\\hline\n",
       "\t1 & 1 & -0.0 \\\\\n",
       "\t2 & 2 & -0.0 \\\\\n",
       "\t3 & 3 & -0.0 \\\\\n",
       "\t4 & 4 & -0.0 \\\\\n",
       "\t5 & 5 & -0.0 \\\\\n",
       "\t6 & 6 & -0.0 \\\\\n",
       "\t7 & 7 & -0.0 \\\\\n",
       "\t8 & 8 & -0.0 \\\\\n",
       "\t9 & 9 & -0.0 \\\\\n",
       "\t10 & 10 & -0.0 \\\\\n",
       "\t11 & 11 & -0.0 \\\\\n",
       "\t12 & 12 & -0.0 \\\\\n",
       "\t13 & 13 & -0.0 \\\\\n",
       "\t14 & 14 & -0.0 \\\\\n",
       "\t15 & 15 & -0.0 \\\\\n",
       "\t16 & 16 & -0.0 \\\\\n",
       "\t17 & 17 & -0.0 \\\\\n",
       "\t18 & 18 & -0.0 \\\\\n",
       "\t19 & 19 & -0.0 \\\\\n",
       "\t20 & 20 & -0.0 \\\\\n",
       "\t21 & 21 & -0.0 \\\\\n",
       "\t22 & 22 & -0.0 \\\\\n",
       "\t23 & 23 & -0.0 \\\\\n",
       "\t24 & 24 & -0.0 \\\\\n",
       "\t25 & 25 & -0.0 \\\\\n",
       "\t26 & 26 & -0.0 \\\\\n",
       "\t27 & 27 & -0.0 \\\\\n",
       "\t28 & 28 & -0.0 \\\\\n",
       "\t29 & 29 & -0.0 \\\\\n",
       "\t30 & 30 & -0.0 \\\\\n",
       "\t$\\dots$ & $\\dots$ & $\\dots$ \\\\\n",
       "\\end{tabular}\n"
      ],
      "text/plain": [
       "\u001b[1m36×2 DataFrame\u001b[0m\n",
       "\u001b[1m Row \u001b[0m│\u001b[1m node  \u001b[0m\u001b[1m value   \u001b[0m\n",
       "     │\u001b[90m Int64 \u001b[0m\u001b[90m Float64 \u001b[0m\n",
       "─────┼────────────────\n",
       "   1 │     1     -0.0\n",
       "   2 │     2     -0.0\n",
       "   3 │     3     -0.0\n",
       "   4 │     4     -0.0\n",
       "   5 │     5     -0.0\n",
       "   6 │     6     -0.0\n",
       "   7 │     7     -0.0\n",
       "   8 │     8     -0.0\n",
       "   9 │     9     -0.0\n",
       "  10 │    10     -0.0\n",
       "  11 │    11     -0.0\n",
       "  ⋮  │   ⋮       ⋮\n",
       "  27 │    27     -0.0\n",
       "  28 │    28     -0.0\n",
       "  29 │    29     -0.0\n",
       "  30 │    30     -0.0\n",
       "  31 │    31     -0.0\n",
       "  32 │    32     -0.0\n",
       "  33 │    33     -0.0\n",
       "  34 │    34     -0.0\n",
       "  35 │    35     -0.0\n",
       "  36 │    36     -0.0\n",
       "\u001b[36m       15 rows omitted\u001b[0m"
      ]
     },
     "execution_count": 18,
     "metadata": {},
     "output_type": "execute_result"
    }
   ],
   "source": [
    "#prices output\n",
    "sol.prices"
   ]
  },
  {
   "cell_type": "code",
   "execution_count": 19,
   "id": "1a95de24",
   "metadata": {},
   "outputs": [
    {
     "data": {
      "text/html": [
       "<div><div style = \"float: left;\"><span>132×3 DataFrame</span></div><div style = \"float: right;\"><span style = \"font-style: italic;\">107 rows omitted</span></div><div style = \"clear: both;\"></div></div><div class = \"data-frame\" style = \"overflow-x: scroll;\"><table class = \"data-frame\" style = \"margin-bottom: 6px;\"><thead><tr class = \"header\"><th class = \"rowNumber\" style = \"font-weight: bold; text-align: right;\">Row</th><th style = \"text-align: left;\">fbus</th><th style = \"text-align: left;\">tbus</th><th style = \"text-align: left;\">flow</th></tr><tr class = \"subheader headerLastRow\"><th class = \"rowNumber\" style = \"font-weight: bold; text-align: right;\"></th><th title = \"Int64\" style = \"text-align: left;\">Int64</th><th title = \"Int64\" style = \"text-align: left;\">Int64</th><th title = \"Float64\" style = \"text-align: left;\">Float64</th></tr></thead><tbody><tr><td class = \"rowNumber\" style = \"font-weight: bold; text-align: right;\">1</td><td style = \"text-align: right;\">1</td><td style = \"text-align: right;\">2</td><td style = \"text-align: right;\">0.0</td></tr><tr><td class = \"rowNumber\" style = \"font-weight: bold; text-align: right;\">2</td><td style = \"text-align: right;\">1</td><td style = \"text-align: right;\">5</td><td style = \"text-align: right;\">0.0</td></tr><tr><td class = \"rowNumber\" style = \"font-weight: bold; text-align: right;\">3</td><td style = \"text-align: right;\">2</td><td style = \"text-align: right;\">3</td><td style = \"text-align: right;\">0.0</td></tr><tr><td class = \"rowNumber\" style = \"font-weight: bold; text-align: right;\">4</td><td style = \"text-align: right;\">2</td><td style = \"text-align: right;\">6</td><td style = \"text-align: right;\">0.0</td></tr><tr><td class = \"rowNumber\" style = \"font-weight: bold; text-align: right;\">5</td><td style = \"text-align: right;\">3</td><td style = \"text-align: right;\">10</td><td style = \"text-align: right;\">0.0</td></tr><tr><td class = \"rowNumber\" style = \"font-weight: bold; text-align: right;\">6</td><td style = \"text-align: right;\">4</td><td style = \"text-align: right;\">5</td><td style = \"text-align: right;\">0.0</td></tr><tr><td class = \"rowNumber\" style = \"font-weight: bold; text-align: right;\">7</td><td style = \"text-align: right;\">4</td><td style = \"text-align: right;\">6</td><td style = \"text-align: right;\">0.0</td></tr><tr><td class = \"rowNumber\" style = \"font-weight: bold; text-align: right;\">8</td><td style = \"text-align: right;\">4</td><td style = \"text-align: right;\">14</td><td style = \"text-align: right;\">0.0</td></tr><tr><td class = \"rowNumber\" style = \"font-weight: bold; text-align: right;\">9</td><td style = \"text-align: right;\">5</td><td style = \"text-align: right;\">6</td><td style = \"text-align: right;\">0.0</td></tr><tr><td class = \"rowNumber\" style = \"font-weight: bold; text-align: right;\">10</td><td style = \"text-align: right;\">5</td><td style = \"text-align: right;\">14</td><td style = \"text-align: right;\">0.0</td></tr><tr><td class = \"rowNumber\" style = \"font-weight: bold; text-align: right;\">11</td><td style = \"text-align: right;\">6</td><td style = \"text-align: right;\">7</td><td style = \"text-align: right;\">0.0</td></tr><tr><td class = \"rowNumber\" style = \"font-weight: bold; text-align: right;\">12</td><td style = \"text-align: right;\">6</td><td style = \"text-align: right;\">13</td><td style = \"text-align: right;\">0.0</td></tr><tr><td class = \"rowNumber\" style = \"font-weight: bold; text-align: right;\">13</td><td style = \"text-align: right;\">7</td><td style = \"text-align: right;\">8</td><td style = \"text-align: right;\">0.0</td></tr><tr><td style = \"text-align: right;\">&vellip;</td><td style = \"text-align: right;\">&vellip;</td><td style = \"text-align: right;\">&vellip;</td><td style = \"text-align: right;\">&vellip;</td></tr><tr><td class = \"rowNumber\" style = \"font-weight: bold; text-align: right;\">121</td><td style = \"text-align: right;\">32</td><td style = \"text-align: right;\">29</td><td style = \"text-align: right;\">0.0</td></tr><tr><td class = \"rowNumber\" style = \"font-weight: bold; text-align: right;\">122</td><td style = \"text-align: right;\">29</td><td style = \"text-align: right;\">30</td><td style = \"text-align: right;\">0.0</td></tr><tr><td class = \"rowNumber\" style = \"font-weight: bold; text-align: right;\">123</td><td style = \"text-align: right;\">31</td><td style = \"text-align: right;\">30</td><td style = \"text-align: right;\">0.0</td></tr><tr><td class = \"rowNumber\" style = \"font-weight: bold; text-align: right;\">124</td><td style = \"text-align: right;\">32</td><td style = \"text-align: right;\">30</td><td style = \"text-align: right;\">0.0</td></tr><tr><td class = \"rowNumber\" style = \"font-weight: bold; text-align: right;\">125</td><td style = \"text-align: right;\">32</td><td style = \"text-align: right;\">31</td><td style = \"text-align: right;\">0.0</td></tr><tr><td class = \"rowNumber\" style = \"font-weight: bold; text-align: right;\">126</td><td style = \"text-align: right;\">34</td><td style = \"text-align: right;\">31</td><td style = \"text-align: right;\">0.0</td></tr><tr><td class = \"rowNumber\" style = \"font-weight: bold; text-align: right;\">127</td><td style = \"text-align: right;\">34</td><td style = \"text-align: right;\">32</td><td style = \"text-align: right;\">0.0</td></tr><tr><td class = \"rowNumber\" style = \"font-weight: bold; text-align: right;\">128</td><td style = \"text-align: right;\">36</td><td style = \"text-align: right;\">32</td><td style = \"text-align: right;\">0.0</td></tr><tr><td class = \"rowNumber\" style = \"font-weight: bold; text-align: right;\">129</td><td style = \"text-align: right;\">34</td><td style = \"text-align: right;\">33</td><td style = \"text-align: right;\">0.0</td></tr><tr><td class = \"rowNumber\" style = \"font-weight: bold; text-align: right;\">130</td><td style = \"text-align: right;\">35</td><td style = \"text-align: right;\">34</td><td style = \"text-align: right;\">0.0</td></tr><tr><td class = \"rowNumber\" style = \"font-weight: bold; text-align: right;\">131</td><td style = \"text-align: right;\">36</td><td style = \"text-align: right;\">34</td><td style = \"text-align: right;\">0.0</td></tr><tr><td class = \"rowNumber\" style = \"font-weight: bold; text-align: right;\">132</td><td style = \"text-align: right;\">36</td><td style = \"text-align: right;\">35</td><td style = \"text-align: right;\">0.0</td></tr></tbody></table></div>"
      ],
      "text/latex": [
       "\\begin{tabular}{r|ccc}\n",
       "\t& fbus & tbus & flow\\\\\n",
       "\t\\hline\n",
       "\t& Int64 & Int64 & Float64\\\\\n",
       "\t\\hline\n",
       "\t1 & 1 & 2 & 0.0 \\\\\n",
       "\t2 & 1 & 5 & 0.0 \\\\\n",
       "\t3 & 2 & 3 & 0.0 \\\\\n",
       "\t4 & 2 & 6 & 0.0 \\\\\n",
       "\t5 & 3 & 10 & 0.0 \\\\\n",
       "\t6 & 4 & 5 & 0.0 \\\\\n",
       "\t7 & 4 & 6 & 0.0 \\\\\n",
       "\t8 & 4 & 14 & 0.0 \\\\\n",
       "\t9 & 5 & 6 & 0.0 \\\\\n",
       "\t10 & 5 & 14 & 0.0 \\\\\n",
       "\t11 & 6 & 7 & 0.0 \\\\\n",
       "\t12 & 6 & 13 & 0.0 \\\\\n",
       "\t13 & 7 & 8 & 0.0 \\\\\n",
       "\t14 & 7 & 9 & 0.0 \\\\\n",
       "\t15 & 7 & 10 & 0.0 \\\\\n",
       "\t16 & 8 & 9 & 0.0 \\\\\n",
       "\t17 & 8 & 10 & 0.0 \\\\\n",
       "\t18 & 8 & 13 & 0.0 \\\\\n",
       "\t19 & 9 & 11 & 0.0 \\\\\n",
       "\t20 & 9 & 13 & 0.0 \\\\\n",
       "\t21 & 10 & 11 & 0.0 \\\\\n",
       "\t22 & 11 & 12 & 0.0 \\\\\n",
       "\t23 & 11 & 13 & 0.0 \\\\\n",
       "\t24 & 12 & 13 & 0.0 \\\\\n",
       "\t25 & 12 & 17 & 0.0 \\\\\n",
       "\t26 & 13 & 15 & 0.0 \\\\\n",
       "\t27 & 13 & 18 & 0.0 \\\\\n",
       "\t28 & 14 & 16 & 0.0 \\\\\n",
       "\t29 & 15 & 14 & 0.0 \\\\\n",
       "\t30 & 15 & 16 & 0.0 \\\\\n",
       "\t$\\dots$ & $\\dots$ & $\\dots$ & $\\dots$ \\\\\n",
       "\\end{tabular}\n"
      ],
      "text/plain": [
       "\u001b[1m132×3 DataFrame\u001b[0m\n",
       "\u001b[1m Row \u001b[0m│\u001b[1m fbus  \u001b[0m\u001b[1m tbus  \u001b[0m\u001b[1m flow    \u001b[0m\n",
       "     │\u001b[90m Int64 \u001b[0m\u001b[90m Int64 \u001b[0m\u001b[90m Float64 \u001b[0m\n",
       "─────┼───────────────────────\n",
       "   1 │     1      2      0.0\n",
       "   2 │     1      5      0.0\n",
       "   3 │     2      3      0.0\n",
       "   4 │     2      6      0.0\n",
       "   5 │     3     10      0.0\n",
       "   6 │     4      5      0.0\n",
       "   7 │     4      6      0.0\n",
       "   8 │     4     14      0.0\n",
       "   9 │     5      6      0.0\n",
       "  10 │     5     14      0.0\n",
       "  11 │     6      7      0.0\n",
       "  ⋮  │   ⋮      ⋮       ⋮\n",
       " 123 │    31     30      0.0\n",
       " 124 │    32     30      0.0\n",
       " 125 │    32     31      0.0\n",
       " 126 │    34     31      0.0\n",
       " 127 │    34     32      0.0\n",
       " 128 │    36     32      0.0\n",
       " 129 │    34     33      0.0\n",
       " 130 │    35     34      0.0\n",
       " 131 │    36     34      0.0\n",
       " 132 │    36     35      0.0\n",
       "\u001b[36m             111 rows omitted\u001b[0m"
      ]
     },
     "execution_count": 19,
     "metadata": {},
     "output_type": "execute_result"
    }
   ],
   "source": [
    "#flows output\n",
    "sol.flows"
   ]
  },
  {
   "cell_type": "code",
   "execution_count": 20,
   "id": "159d2fe2",
   "metadata": {},
   "outputs": [
    {
     "data": {
      "text/plain": [
       "0.0"
      ]
     },
     "execution_count": 20,
     "metadata": {},
     "output_type": "execute_result"
    }
   ],
   "source": [
    "#sum of gens\n",
    "sum(sol.generation[:,2])"
   ]
  },
  {
   "cell_type": "code",
   "execution_count": 21,
   "id": "60c57f50",
   "metadata": {},
   "outputs": [
    {
     "data": {
      "text/plain": [
       "0.0"
      ]
     },
     "execution_count": 21,
     "metadata": {},
     "output_type": "execute_result"
    }
   ],
   "source": [
    "#sum of prices per node\n",
    "sum(sol.prices[:,2])"
   ]
  },
  {
   "cell_type": "code",
   "execution_count": 22,
   "id": "3879a3f6",
   "metadata": {},
   "outputs": [
    {
     "data": {
      "text/plain": [
       "0.0"
      ]
     },
     "execution_count": 22,
     "metadata": {},
     "output_type": "execute_result"
    }
   ],
   "source": [
    "#sum of flows per node\n",
    "sum(sol.flows[:,3])"
   ]
  },
  {
   "cell_type": "code",
   "execution_count": 12,
   "id": "892ebdf7",
   "metadata": {},
   "outputs": [
    {
     "data": {
      "text/html": [
       "<div><div style = \"float: left;\"><span>132×8 DataFrame</span></div><div style = \"float: right;\"><span style = \"font-style: italic;\">107 rows omitted</span></div><div style = \"clear: both;\"></div></div><div class = \"data-frame\" style = \"overflow-x: scroll;\"><table class = \"data-frame\" style = \"margin-bottom: 6px;\"><thead><tr class = \"header\"><th class = \"rowNumber\" style = \"font-weight: bold; text-align: right;\">Row</th><th style = \"text-align: left;\">fromnode</th><th style = \"text-align: left;\">tonode</th><th style = \"text-align: left;\">resistance</th><th style = \"text-align: left;\">reactance</th><th style = \"text-align: left;\">contingencymarked</th><th style = \"text-align: left;\">capacity</th><th style = \"text-align: left;\">id</th><th style = \"text-align: left;\">b</th></tr><tr class = \"subheader headerLastRow\"><th class = \"rowNumber\" style = \"font-weight: bold; text-align: right;\"></th><th title = \"Int64\" style = \"text-align: left;\">Int64</th><th title = \"Int64\" style = \"text-align: left;\">Int64</th><th title = \"Float64\" style = \"text-align: left;\">Float64</th><th title = \"Float64\" style = \"text-align: left;\">Float64</th><th title = \"Int64\" style = \"text-align: left;\">Int64</th><th title = \"Int64\" style = \"text-align: left;\">Int64</th><th title = \"Int64\" style = \"text-align: left;\">Int64</th><th title = \"Float64\" style = \"text-align: left;\">Float64</th></tr></thead><tbody><tr><td class = \"rowNumber\" style = \"font-weight: bold; text-align: right;\">1</td><td style = \"text-align: right;\">1</td><td style = \"text-align: right;\">2</td><td style = \"text-align: right;\">0.00266925</td><td style = \"text-align: right;\">0.0323779</td><td style = \"text-align: right;\">1</td><td style = \"text-align: right;\">10000</td><td style = \"text-align: right;\">1</td><td style = \"text-align: right;\">0.0196113</td></tr><tr><td class = \"rowNumber\" style = \"font-weight: bold; text-align: right;\">2</td><td style = \"text-align: right;\">1</td><td style = \"text-align: right;\">5</td><td style = \"text-align: right;\">0.00287887</td><td style = \"text-align: right;\">0.0286089</td><td style = \"text-align: right;\">1</td><td style = \"text-align: right;\">10000</td><td style = \"text-align: right;\">2</td><td style = \"text-align: right;\">0.0103084</td></tr><tr><td class = \"rowNumber\" style = \"font-weight: bold; text-align: right;\">3</td><td style = \"text-align: right;\">2</td><td style = \"text-align: right;\">3</td><td style = \"text-align: right;\">0.00131306</td><td style = \"text-align: right;\">0.0190229</td><td style = \"text-align: right;\">1</td><td style = \"text-align: right;\">10000</td><td style = \"text-align: right;\">3</td><td style = \"text-align: right;\">0.0102966</td></tr><tr><td class = \"rowNumber\" style = \"font-weight: bold; text-align: right;\">4</td><td style = \"text-align: right;\">2</td><td style = \"text-align: right;\">6</td><td style = \"text-align: right;\">0.000803188</td><td style = \"text-align: right;\">0.0149712</td><td style = \"text-align: right;\">1</td><td style = \"text-align: right;\">10000</td><td style = \"text-align: right;\">4</td><td style = \"text-align: right;\">0.00476255</td></tr><tr><td class = \"rowNumber\" style = \"font-weight: bold; text-align: right;\">5</td><td style = \"text-align: right;\">3</td><td style = \"text-align: right;\">10</td><td style = \"text-align: right;\">0.000399063</td><td style = \"text-align: right;\">0.00548875</td><td style = \"text-align: right;\">1</td><td style = \"text-align: right;\">10000</td><td style = \"text-align: right;\">5</td><td style = \"text-align: right;\">0.00238071</td></tr><tr><td class = \"rowNumber\" style = \"font-weight: bold; text-align: right;\">6</td><td style = \"text-align: right;\">4</td><td style = \"text-align: right;\">5</td><td style = \"text-align: right;\">0.00114981</td><td style = \"text-align: right;\">0.0183772</td><td style = \"text-align: right;\">1</td><td style = \"text-align: right;\">10000</td><td style = \"text-align: right;\">6</td><td style = \"text-align: right;\">0.0126698</td></tr><tr><td class = \"rowNumber\" style = \"font-weight: bold; text-align: right;\">7</td><td style = \"text-align: right;\">4</td><td style = \"text-align: right;\">6</td><td style = \"text-align: right;\">0.00209787</td><td style = \"text-align: right;\">0.0318498</td><td style = \"text-align: right;\">1</td><td style = \"text-align: right;\">10000</td><td style = \"text-align: right;\">7</td><td style = \"text-align: right;\">0.0106544</td></tr><tr><td class = \"rowNumber\" style = \"font-weight: bold; text-align: right;\">8</td><td style = \"text-align: right;\">4</td><td style = \"text-align: right;\">14</td><td style = \"text-align: right;\">0.00220469</td><td style = \"text-align: right;\">0.0290109</td><td style = \"text-align: right;\">1</td><td style = \"text-align: right;\">10000</td><td style = \"text-align: right;\">8</td><td style = \"text-align: right;\">0.00897751</td></tr><tr><td class = \"rowNumber\" style = \"font-weight: bold; text-align: right;\">9</td><td style = \"text-align: right;\">5</td><td style = \"text-align: right;\">6</td><td style = \"text-align: right;\">0.000706313</td><td style = \"text-align: right;\">0.00961025</td><td style = \"text-align: right;\">1</td><td style = \"text-align: right;\">10000</td><td style = \"text-align: right;\">9</td><td style = \"text-align: right;\">0.00913257</td></tr><tr><td class = \"rowNumber\" style = \"font-weight: bold; text-align: right;\">10</td><td style = \"text-align: right;\">5</td><td style = \"text-align: right;\">14</td><td style = \"text-align: right;\">0.00178231</td><td style = \"text-align: right;\">0.0184703</td><td style = \"text-align: right;\">1</td><td style = \"text-align: right;\">10000</td><td style = \"text-align: right;\">10</td><td style = \"text-align: right;\">0.00196471</td></tr><tr><td class = \"rowNumber\" style = \"font-weight: bold; text-align: right;\">11</td><td style = \"text-align: right;\">6</td><td style = \"text-align: right;\">7</td><td style = \"text-align: right;\">0.00119981</td><td style = \"text-align: right;\">0.0192356</td><td style = \"text-align: right;\">1</td><td style = \"text-align: right;\">10000</td><td style = \"text-align: right;\">11</td><td style = \"text-align: right;\">0.0267716</td></tr><tr><td class = \"rowNumber\" style = \"font-weight: bold; text-align: right;\">12</td><td style = \"text-align: right;\">6</td><td style = \"text-align: right;\">13</td><td style = \"text-align: right;\">0.000327813</td><td style = \"text-align: right;\">0.00569294</td><td style = \"text-align: right;\">1</td><td style = \"text-align: right;\">10000</td><td style = \"text-align: right;\">12</td><td style = \"text-align: right;\">0.00236706</td></tr><tr><td class = \"rowNumber\" style = \"font-weight: bold; text-align: right;\">13</td><td style = \"text-align: right;\">7</td><td style = \"text-align: right;\">8</td><td style = \"text-align: right;\">0.000412188</td><td style = \"text-align: right;\">0.00449369</td><td style = \"text-align: right;\">1</td><td style = \"text-align: right;\">10000</td><td style = \"text-align: right;\">13</td><td style = \"text-align: right;\">0.046537</td></tr><tr><td style = \"text-align: right;\">&vellip;</td><td style = \"text-align: right;\">&vellip;</td><td style = \"text-align: right;\">&vellip;</td><td style = \"text-align: right;\">&vellip;</td><td style = \"text-align: right;\">&vellip;</td><td style = \"text-align: right;\">&vellip;</td><td style = \"text-align: right;\">&vellip;</td><td style = \"text-align: right;\">&vellip;</td><td style = \"text-align: right;\">&vellip;</td></tr><tr><td class = \"rowNumber\" style = \"font-weight: bold; text-align: right;\">121</td><td style = \"text-align: right;\">32</td><td style = \"text-align: right;\">29</td><td style = \"text-align: right;\">0.0009215</td><td style = \"text-align: right;\">0.007555</td><td style = \"text-align: right;\">1</td><td style = \"text-align: right;\">10000</td><td style = \"text-align: right;\">55</td><td style = \"text-align: right;\">0.00302789</td></tr><tr><td class = \"rowNumber\" style = \"font-weight: bold; text-align: right;\">122</td><td style = \"text-align: right;\">29</td><td style = \"text-align: right;\">30</td><td style = \"text-align: right;\">0.001276</td><td style = \"text-align: right;\">0.0112748</td><td style = \"text-align: right;\">1</td><td style = \"text-align: right;\">10000</td><td style = \"text-align: right;\">56</td><td style = \"text-align: right;\">0.00658752</td></tr><tr><td class = \"rowNumber\" style = \"font-weight: bold; text-align: right;\">123</td><td style = \"text-align: right;\">31</td><td style = \"text-align: right;\">30</td><td style = \"text-align: right;\">0.000657375</td><td style = \"text-align: right;\">0.00816719</td><td style = \"text-align: right;\">1</td><td style = \"text-align: right;\">10000</td><td style = \"text-align: right;\">57</td><td style = \"text-align: right;\">0.00932489</td></tr><tr><td class = \"rowNumber\" style = \"font-weight: bold; text-align: right;\">124</td><td style = \"text-align: right;\">32</td><td style = \"text-align: right;\">30</td><td style = \"text-align: right;\">0.000516438</td><td style = \"text-align: right;\">0.0106281</td><td style = \"text-align: right;\">1</td><td style = \"text-align: right;\">10000</td><td style = \"text-align: right;\">58</td><td style = \"text-align: right;\">0.00299608</td></tr><tr><td class = \"rowNumber\" style = \"font-weight: bold; text-align: right;\">125</td><td style = \"text-align: right;\">32</td><td style = \"text-align: right;\">31</td><td style = \"text-align: right;\">0.000826875</td><td style = \"text-align: right;\">0.0120264</td><td style = \"text-align: right;\">1</td><td style = \"text-align: right;\">10000</td><td style = \"text-align: right;\">59</td><td style = \"text-align: right;\">0.00355633</td></tr><tr><td class = \"rowNumber\" style = \"font-weight: bold; text-align: right;\">126</td><td style = \"text-align: right;\">34</td><td style = \"text-align: right;\">31</td><td style = \"text-align: right;\">0.00118531</td><td style = \"text-align: right;\">0.00383031</td><td style = \"text-align: right;\">1</td><td style = \"text-align: right;\">10000</td><td style = \"text-align: right;\">60</td><td style = \"text-align: right;\">0.00512333</td></tr><tr><td class = \"rowNumber\" style = \"font-weight: bold; text-align: right;\">127</td><td style = \"text-align: right;\">34</td><td style = \"text-align: right;\">32</td><td style = \"text-align: right;\">0.000802688</td><td style = \"text-align: right;\">0.00834469</td><td style = \"text-align: right;\">1</td><td style = \"text-align: right;\">10000</td><td style = \"text-align: right;\">61</td><td style = \"text-align: right;\">0.00568591</td></tr><tr><td class = \"rowNumber\" style = \"font-weight: bold; text-align: right;\">128</td><td style = \"text-align: right;\">36</td><td style = \"text-align: right;\">32</td><td style = \"text-align: right;\">0.00425394</td><td style = \"text-align: right;\">0.0365836</td><td style = \"text-align: right;\">1</td><td style = \"text-align: right;\">10000</td><td style = \"text-align: right;\">62</td><td style = \"text-align: right;\">0.00348308</td></tr><tr><td class = \"rowNumber\" style = \"font-weight: bold; text-align: right;\">129</td><td style = \"text-align: right;\">34</td><td style = \"text-align: right;\">33</td><td style = \"text-align: right;\">0.00625</td><td style = \"text-align: right;\">0.009375</td><td style = \"text-align: right;\">1</td><td style = \"text-align: right;\">10000</td><td style = \"text-align: right;\">63</td><td style = \"text-align: right;\">0.00555391</td></tr><tr><td class = \"rowNumber\" style = \"font-weight: bold; text-align: right;\">130</td><td style = \"text-align: right;\">35</td><td style = \"text-align: right;\">34</td><td style = \"text-align: right;\">0.00845975</td><td style = \"text-align: right;\">0.0214944</td><td style = \"text-align: right;\">1</td><td style = \"text-align: right;\">10000</td><td style = \"text-align: right;\">64</td><td style = \"text-align: right;\">0.00839269</td></tr><tr><td class = \"rowNumber\" style = \"font-weight: bold; text-align: right;\">131</td><td style = \"text-align: right;\">36</td><td style = \"text-align: right;\">34</td><td style = \"text-align: right;\">0.000950375</td><td style = \"text-align: right;\">0.00830369</td><td style = \"text-align: right;\">1</td><td style = \"text-align: right;\">10000</td><td style = \"text-align: right;\">65</td><td style = \"text-align: right;\">0.00505114</td></tr><tr><td class = \"rowNumber\" style = \"font-weight: bold; text-align: right;\">132</td><td style = \"text-align: right;\">36</td><td style = \"text-align: right;\">35</td><td style = \"text-align: right;\">0.00228119</td><td style = \"text-align: right;\">0.008931</td><td style = \"text-align: right;\">1</td><td style = \"text-align: right;\">10000</td><td style = \"text-align: right;\">66</td><td style = \"text-align: right;\">0.0127316</td></tr></tbody></table></div>"
      ],
      "text/latex": [
       "\\begin{tabular}{r|cccccccc}\n",
       "\t& fromnode & tonode & resistance & reactance & contingencymarked & capacity & id & b\\\\\n",
       "\t\\hline\n",
       "\t& Int64 & Int64 & Float64 & Float64 & Int64 & Int64 & Int64 & Float64\\\\\n",
       "\t\\hline\n",
       "\t1 & 1 & 2 & 0.00266925 & 0.0323779 & 1 & 10000 & 1 & 0.0196113 \\\\\n",
       "\t2 & 1 & 5 & 0.00287887 & 0.0286089 & 1 & 10000 & 2 & 0.0103084 \\\\\n",
       "\t3 & 2 & 3 & 0.00131306 & 0.0190229 & 1 & 10000 & 3 & 0.0102966 \\\\\n",
       "\t4 & 2 & 6 & 0.000803188 & 0.0149712 & 1 & 10000 & 4 & 0.00476255 \\\\\n",
       "\t5 & 3 & 10 & 0.000399063 & 0.00548875 & 1 & 10000 & 5 & 0.00238071 \\\\\n",
       "\t6 & 4 & 5 & 0.00114981 & 0.0183772 & 1 & 10000 & 6 & 0.0126698 \\\\\n",
       "\t7 & 4 & 6 & 0.00209787 & 0.0318498 & 1 & 10000 & 7 & 0.0106544 \\\\\n",
       "\t8 & 4 & 14 & 0.00220469 & 0.0290109 & 1 & 10000 & 8 & 0.00897751 \\\\\n",
       "\t9 & 5 & 6 & 0.000706313 & 0.00961025 & 1 & 10000 & 9 & 0.00913257 \\\\\n",
       "\t10 & 5 & 14 & 0.00178231 & 0.0184703 & 1 & 10000 & 10 & 0.00196471 \\\\\n",
       "\t11 & 6 & 7 & 0.00119981 & 0.0192356 & 1 & 10000 & 11 & 0.0267716 \\\\\n",
       "\t12 & 6 & 13 & 0.000327813 & 0.00569294 & 1 & 10000 & 12 & 0.00236706 \\\\\n",
       "\t13 & 7 & 8 & 0.000412188 & 0.00449369 & 1 & 10000 & 13 & 0.046537 \\\\\n",
       "\t14 & 7 & 9 & 0.000912813 & 0.00961181 & 1 & 10000 & 14 & 0.0248062 \\\\\n",
       "\t15 & 7 & 10 & 0.000213438 & 0.00283269 & 1 & 10000 & 15 & 0.00717854 \\\\\n",
       "\t16 & 8 & 9 & 0.00014 & 0.00176 & 1 & 10000 & 16 & 0.00777599 \\\\\n",
       "\t17 & 8 & 10 & 0.000446188 & 0.005416 & 1 & 10000 & 17 & 0.0492475 \\\\\n",
       "\t18 & 8 & 13 & 0.000541563 & 0.00778087 & 1 & 10000 & 18 & 0.0158114 \\\\\n",
       "\t19 & 9 & 11 & 0.000934125 & 0.00944906 & 1 & 10000 & 19 & 0.00374001 \\\\\n",
       "\t20 & 9 & 13 & 0.000277375 & 0.00272575 & 1 & 10000 & 20 & 0.00444232 \\\\\n",
       "\t21 & 10 & 11 & 0.000366938 & 0.00494194 & 1 & 10000 & 21 & 0.0030837 \\\\\n",
       "\t22 & 11 & 12 & 0.00204112 & 0.0293363 & 1 & 10000 & 22 & 0.00836918 \\\\\n",
       "\t23 & 11 & 13 & 0.000979313 & 0.01555 & 1 & 10000 & 23 & 0.0068301 \\\\\n",
       "\t24 & 12 & 13 & 0.000660063 & 0.0118286 & 1 & 10000 & 24 & 0.00465276 \\\\\n",
       "\t25 & 12 & 17 & 0.000488125 & 0.00938675 & 1 & 10000 & 25 & 0.00464777 \\\\\n",
       "\t26 & 13 & 15 & 0.00122219 & 0.0166115 & 1 & 10000 & 26 & 0.00503391 \\\\\n",
       "\t27 & 13 & 18 & 0.000664438 & 0.00864231 & 1 & 10000 & 27 & 0.0135528 \\\\\n",
       "\t28 & 14 & 16 & 0.00088875 & 0.00965956 & 1 & 10000 & 28 & 0.00289576 \\\\\n",
       "\t29 & 15 & 14 & 0.001026 & 0.0118831 & 1 & 10000 & 29 & 0.00622196 \\\\\n",
       "\t30 & 15 & 16 & 0.000270688 & 0.00299631 & 1 & 10000 & 30 & 0.00137864 \\\\\n",
       "\t$\\dots$ & $\\dots$ & $\\dots$ & $\\dots$ & $\\dots$ & $\\dots$ & $\\dots$ & $\\dots$ & $\\dots$ \\\\\n",
       "\\end{tabular}\n"
      ],
      "text/plain": [
       "\u001b[1m132×8 DataFrame\u001b[0m\n",
       "\u001b[1m Row \u001b[0m│\u001b[1m fromnode \u001b[0m\u001b[1m tonode \u001b[0m\u001b[1m resistance  \u001b[0m\u001b[1m reactance  \u001b[0m\u001b[1m contingencymarked \u001b[0m\u001b[1m capacity \u001b[0m\u001b[1m id    \u001b[0m\u001b[1m b          \u001b[0m\n",
       "     │\u001b[90m Int64    \u001b[0m\u001b[90m Int64  \u001b[0m\u001b[90m Float64     \u001b[0m\u001b[90m Float64    \u001b[0m\u001b[90m Int64             \u001b[0m\u001b[90m Int64    \u001b[0m\u001b[90m Int64 \u001b[0m\u001b[90m Float64    \u001b[0m\n",
       "─────┼───────────────────────────────────────────────────────────────────────────────────────────\n",
       "   1 │        1       2  0.00266925   0.0323779                   1     10000      1  0.0196113\n",
       "   2 │        1       5  0.00287887   0.0286089                   1     10000      2  0.0103084\n",
       "   3 │        2       3  0.00131306   0.0190229                   1     10000      3  0.0102966\n",
       "   4 │        2       6  0.000803188  0.0149712                   1     10000      4  0.00476255\n",
       "   5 │        3      10  0.000399063  0.00548875                  1     10000      5  0.00238071\n",
       "   6 │        4       5  0.00114981   0.0183772                   1     10000      6  0.0126698\n",
       "   7 │        4       6  0.00209787   0.0318498                   1     10000      7  0.0106544\n",
       "   8 │        4      14  0.00220469   0.0290109                   1     10000      8  0.00897751\n",
       "   9 │        5       6  0.000706313  0.00961025                  1     10000      9  0.00913257\n",
       "  10 │        5      14  0.00178231   0.0184703                   1     10000     10  0.00196471\n",
       "  11 │        6       7  0.00119981   0.0192356                   1     10000     11  0.0267716\n",
       "  ⋮  │    ⋮        ⋮          ⋮           ⋮               ⋮             ⋮        ⋮        ⋮\n",
       " 123 │       31      30  0.000657375  0.00816719                  1     10000     57  0.00932489\n",
       " 124 │       32      30  0.000516438  0.0106281                   1     10000     58  0.00299608\n",
       " 125 │       32      31  0.000826875  0.0120264                   1     10000     59  0.00355633\n",
       " 126 │       34      31  0.00118531   0.00383031                  1     10000     60  0.00512333\n",
       " 127 │       34      32  0.000802688  0.00834469                  1     10000     61  0.00568591\n",
       " 128 │       36      32  0.00425394   0.0365836                   1     10000     62  0.00348308\n",
       " 129 │       34      33  0.00625      0.009375                    1     10000     63  0.00555391\n",
       " 130 │       35      34  0.00845975   0.0214944                   1     10000     64  0.00839269\n",
       " 131 │       36      34  0.000950375  0.00830369                  1     10000     65  0.00505114\n",
       " 132 │       36      35  0.00228119   0.008931                    1     10000     66  0.0127316\n",
       "\u001b[36m                                                                                 111 rows omitted\u001b[0m"
      ]
     },
     "execution_count": 12,
     "metadata": {},
     "output_type": "execute_result"
    }
   ],
   "source": [
    "#test using old 36 bus network \n",
    "datadir = joinpath(\"testcase\") \n",
    "gens = CSV.read(joinpath(datadir,\"Gen36.csv\"), DataFrame);\n",
    "lines = CSV.read(joinpath(datadir,\"Tran36_b_csv.csv\"), DataFrame);\n",
    "loads = CSV.read(joinpath(datadir,\"Load36_csv.csv\"), DataFrame);\n",
    "\n",
    "\n",
    "# Rename all columns to lowercase (by convention)\n",
    "for f in [gens, lines, loads]\n",
    "    rename!(f,lowercase.(names(f)))\n",
    "end\n",
    "\n",
    "# create generator ids \n",
    "gens.id = 1:nrow(gens);\n",
    "\n",
    "# create line ids \n",
    "lines.id = 1:nrow(lines);\n",
    "# add set of rows for reverse direction with same parameters\n",
    "\n",
    "lines2 = copy(lines)\n",
    "lines2.f = lines2.fromnode\n",
    "lines2.fromnode = lines.tonode\n",
    "lines2.tonode = lines2.f\n",
    "lines2 = lines2[:,names(lines)]\n",
    "append!(lines,lines2)\n",
    "\n",
    "# calculate simple susceptance, ignoring resistance as earlier \n",
    "#lines.b = 1 ./ lines.reactance\n",
    "\n",
    "# keep only a single time period\n",
    "loads = loads[:,[\"connnode\",\"interval-1_load\"]]\n",
    "rename!(loads,\"interval-1_load\" => \"demand\");\n",
    "\n",
    "lines"
   ]
  },
  {
   "cell_type": "code",
   "execution_count": null,
   "id": "2946164c",
   "metadata": {},
   "outputs": [],
   "source": []
  }
 ],
 "metadata": {
  "kernelspec": {
   "display_name": "Julia 1.9.3",
   "language": "julia",
   "name": "julia-1.9"
  },
  "language_info": {
   "file_extension": ".jl",
   "mimetype": "application/julia",
   "name": "julia",
   "version": "1.9.3"
  }
 },
 "nbformat": 4,
 "nbformat_minor": 5
}
