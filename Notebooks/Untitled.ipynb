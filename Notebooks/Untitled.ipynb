{
 "cells": [
  {
   "cell_type": "code",
   "execution_count": 22,
   "id": "7715ef6a",
   "metadata": {},
   "outputs": [
    {
     "name": "stderr",
     "output_type": "stream",
     "text": [
      "\u001b[32m\u001b[1m   Resolving\u001b[22m\u001b[39m package versions...\n",
      "\u001b[32m\u001b[1m  No Changes\u001b[22m\u001b[39m to `C:\\Users\\44780\\.julia\\environments\\v1.9\\Project.toml`\n",
      "\u001b[32m\u001b[1m  No Changes\u001b[22m\u001b[39m to `C:\\Users\\44780\\.julia\\environments\\v1.9\\Manifest.toml`\n",
      "\u001b[32m\u001b[1m   Resolving\u001b[22m\u001b[39m package versions...\n",
      "\u001b[32m\u001b[1m  No Changes\u001b[22m\u001b[39m to `C:\\Users\\44780\\.julia\\environments\\v1.9\\Project.toml`\n",
      "\u001b[32m\u001b[1m  No Changes\u001b[22m\u001b[39m to `C:\\Users\\44780\\.julia\\environments\\v1.9\\Manifest.toml`\n"
     ]
    }
   ],
   "source": [
    "import Pkg; Pkg.add(\"VegaLite\"); Pkg.add(\"PrettyTables\")\n",
    "using JuMP, HiGHS\n",
    "using Plots;\n",
    "using VegaLite  # to make some nice plots\n",
    "using DataFrames, CSV, PrettyTables\n",
    "ENV[\"COLUMNS\"]=120; # Set so all columns of DataFrames and Matrices are displayed"
   ]
  },
  {
   "cell_type": "code",
   "execution_count": 27,
   "id": "9abb96c6",
   "metadata": {},
   "outputs": [],
   "source": [
    "datadir = joinpath(\"testcase\") \n",
    "gens = CSV.read(joinpath(datadir,\"Gen36.csv\"), DataFrame);"
   ]
  },
  {
   "cell_type": "code",
   "execution_count": 28,
   "id": "4ec0b7b9",
   "metadata": {},
   "outputs": [
    {
     "data": {
      "text/html": [
       "<div><div style = \"float: left;\"><span>150×10 DataFrame</span></div><div style = \"float: right;\"><span style = \"font-style: italic;\">125 rows omitted</span></div><div style = \"clear: both;\"></div></div><div class = \"data-frame\" style = \"overflow-x: scroll;\"><table class = \"data-frame\" style = \"margin-bottom: 6px;\"><thead><tr class = \"header\"><th class = \"rowNumber\" style = \"font-weight: bold; text-align: right;\">Row</th><th style = \"text-align: left;\">Zone</th><th style = \"text-align: left;\">connnode</th><th style = \"text-align: left;\">c2</th><th style = \"text-align: left;\">c1</th><th style = \"text-align: left;\">c0</th><th style = \"text-align: left;\">PgMax</th><th style = \"text-align: left;\">PgMin</th><th style = \"text-align: left;\">RgMax</th><th style = \"text-align: left;\">RgMin</th><th style = \"text-align: left;\">PgPrev</th></tr><tr class = \"subheader headerLastRow\"><th class = \"rowNumber\" style = \"font-weight: bold; text-align: right;\"></th><th title = \"Int64\" style = \"text-align: left;\">Int64</th><th title = \"Int64\" style = \"text-align: left;\">Int64</th><th title = \"Int64\" style = \"text-align: left;\">Int64</th><th title = \"Int64\" style = \"text-align: left;\">Int64</th><th title = \"Int64\" style = \"text-align: left;\">Int64</th><th title = \"Float64\" style = \"text-align: left;\">Float64</th><th title = \"Int64\" style = \"text-align: left;\">Int64</th><th title = \"Int64\" style = \"text-align: left;\">Int64</th><th title = \"Int64\" style = \"text-align: left;\">Int64</th><th title = \"Int64\" style = \"text-align: left;\">Int64</th></tr></thead><tbody><tr><td class = \"rowNumber\" style = \"font-weight: bold; text-align: right;\">1</td><td style = \"text-align: right;\">1</td><td style = \"text-align: right;\">1</td><td style = \"text-align: right;\">0</td><td style = \"text-align: right;\">105</td><td style = \"text-align: right;\">0</td><td style = \"text-align: right;\">130.0</td><td style = \"text-align: right;\">0</td><td style = \"text-align: right;\">100</td><td style = \"text-align: right;\">-100</td><td style = \"text-align: right;\">0</td></tr><tr><td class = \"rowNumber\" style = \"font-weight: bold; text-align: right;\">2</td><td style = \"text-align: right;\">1</td><td style = \"text-align: right;\">2</td><td style = \"text-align: right;\">0</td><td style = \"text-align: right;\">120</td><td style = \"text-align: right;\">0</td><td style = \"text-align: right;\">1516.8</td><td style = \"text-align: right;\">0</td><td style = \"text-align: right;\">100</td><td style = \"text-align: right;\">-100</td><td style = \"text-align: right;\">0</td></tr><tr><td class = \"rowNumber\" style = \"font-weight: bold; text-align: right;\">3</td><td style = \"text-align: right;\">1</td><td style = \"text-align: right;\">3</td><td style = \"text-align: right;\">0</td><td style = \"text-align: right;\">70</td><td style = \"text-align: right;\">0</td><td style = \"text-align: right;\">51.0</td><td style = \"text-align: right;\">0</td><td style = \"text-align: right;\">100</td><td style = \"text-align: right;\">-100</td><td style = \"text-align: right;\">0</td></tr><tr><td class = \"rowNumber\" style = \"font-weight: bold; text-align: right;\">4</td><td style = \"text-align: right;\">1</td><td style = \"text-align: right;\">4</td><td style = \"text-align: right;\">0</td><td style = \"text-align: right;\">12</td><td style = \"text-align: right;\">0</td><td style = \"text-align: right;\">101.8</td><td style = \"text-align: right;\">0</td><td style = \"text-align: right;\">100</td><td style = \"text-align: right;\">-100</td><td style = \"text-align: right;\">0</td></tr><tr><td class = \"rowNumber\" style = \"font-weight: bold; text-align: right;\">5</td><td style = \"text-align: right;\">1</td><td style = \"text-align: right;\">5</td><td style = \"text-align: right;\">0</td><td style = \"text-align: right;\">5</td><td style = \"text-align: right;\">0</td><td style = \"text-align: right;\">510.3</td><td style = \"text-align: right;\">0</td><td style = \"text-align: right;\">100</td><td style = \"text-align: right;\">-100</td><td style = \"text-align: right;\">0</td></tr><tr><td class = \"rowNumber\" style = \"font-weight: bold; text-align: right;\">6</td><td style = \"text-align: right;\">2</td><td style = \"text-align: right;\">6</td><td style = \"text-align: right;\">0</td><td style = \"text-align: right;\">130</td><td style = \"text-align: right;\">0</td><td style = \"text-align: right;\">152.0</td><td style = \"text-align: right;\">0</td><td style = \"text-align: right;\">100</td><td style = \"text-align: right;\">-100</td><td style = \"text-align: right;\">0</td></tr><tr><td class = \"rowNumber\" style = \"font-weight: bold; text-align: right;\">7</td><td style = \"text-align: right;\">2</td><td style = \"text-align: right;\">7</td><td style = \"text-align: right;\">0</td><td style = \"text-align: right;\">70</td><td style = \"text-align: right;\">0</td><td style = \"text-align: right;\">54.0</td><td style = \"text-align: right;\">0</td><td style = \"text-align: right;\">100</td><td style = \"text-align: right;\">-100</td><td style = \"text-align: right;\">0</td></tr><tr><td class = \"rowNumber\" style = \"font-weight: bold; text-align: right;\">8</td><td style = \"text-align: right;\">2</td><td style = \"text-align: right;\">8</td><td style = \"text-align: right;\">0</td><td style = \"text-align: right;\">65</td><td style = \"text-align: right;\">0</td><td style = \"text-align: right;\">1000.0</td><td style = \"text-align: right;\">0</td><td style = \"text-align: right;\">100</td><td style = \"text-align: right;\">-100</td><td style = \"text-align: right;\">0</td></tr><tr><td class = \"rowNumber\" style = \"font-weight: bold; text-align: right;\">9</td><td style = \"text-align: right;\">2</td><td style = \"text-align: right;\">9</td><td style = \"text-align: right;\">0</td><td style = \"text-align: right;\">12</td><td style = \"text-align: right;\">0</td><td style = \"text-align: right;\">107.7</td><td style = \"text-align: right;\">0</td><td style = \"text-align: right;\">100</td><td style = \"text-align: right;\">-100</td><td style = \"text-align: right;\">0</td></tr><tr><td class = \"rowNumber\" style = \"font-weight: bold; text-align: right;\">10</td><td style = \"text-align: right;\">2</td><td style = \"text-align: right;\">10</td><td style = \"text-align: right;\">0</td><td style = \"text-align: right;\">5</td><td style = \"text-align: right;\">0</td><td style = \"text-align: right;\">55.3</td><td style = \"text-align: right;\">0</td><td style = \"text-align: right;\">100</td><td style = \"text-align: right;\">-100</td><td style = \"text-align: right;\">0</td></tr><tr><td class = \"rowNumber\" style = \"font-weight: bold; text-align: right;\">11</td><td style = \"text-align: right;\">3</td><td style = \"text-align: right;\">11</td><td style = \"text-align: right;\">0</td><td style = \"text-align: right;\">70</td><td style = \"text-align: right;\">0</td><td style = \"text-align: right;\">11.0</td><td style = \"text-align: right;\">0</td><td style = \"text-align: right;\">100</td><td style = \"text-align: right;\">-100</td><td style = \"text-align: right;\">0</td></tr><tr><td class = \"rowNumber\" style = \"font-weight: bold; text-align: right;\">12</td><td style = \"text-align: right;\">3</td><td style = \"text-align: right;\">12</td><td style = \"text-align: right;\">0</td><td style = \"text-align: right;\">65</td><td style = \"text-align: right;\">0</td><td style = \"text-align: right;\">2000.0</td><td style = \"text-align: right;\">0</td><td style = \"text-align: right;\">100</td><td style = \"text-align: right;\">-100</td><td style = \"text-align: right;\">0</td></tr><tr><td class = \"rowNumber\" style = \"font-weight: bold; text-align: right;\">13</td><td style = \"text-align: right;\">3</td><td style = \"text-align: right;\">13</td><td style = \"text-align: right;\">0</td><td style = \"text-align: right;\">65</td><td style = \"text-align: right;\">0</td><td style = \"text-align: right;\">1000.0</td><td style = \"text-align: right;\">0</td><td style = \"text-align: right;\">100</td><td style = \"text-align: right;\">-100</td><td style = \"text-align: right;\">0</td></tr><tr><td style = \"text-align: right;\">&vellip;</td><td style = \"text-align: right;\">&vellip;</td><td style = \"text-align: right;\">&vellip;</td><td style = \"text-align: right;\">&vellip;</td><td style = \"text-align: right;\">&vellip;</td><td style = \"text-align: right;\">&vellip;</td><td style = \"text-align: right;\">&vellip;</td><td style = \"text-align: right;\">&vellip;</td><td style = \"text-align: right;\">&vellip;</td><td style = \"text-align: right;\">&vellip;</td><td style = \"text-align: right;\">&vellip;</td></tr><tr><td class = \"rowNumber\" style = \"font-weight: bold; text-align: right;\">139</td><td style = \"text-align: right;\">33</td><td style = \"text-align: right;\">139</td><td style = \"text-align: right;\">0</td><td style = \"text-align: right;\">5</td><td style = \"text-align: right;\">0</td><td style = \"text-align: right;\">119.6</td><td style = \"text-align: right;\">0</td><td style = \"text-align: right;\">100</td><td style = \"text-align: right;\">-100</td><td style = \"text-align: right;\">0</td></tr><tr><td class = \"rowNumber\" style = \"font-weight: bold; text-align: right;\">140</td><td style = \"text-align: right;\">34</td><td style = \"text-align: right;\">140</td><td style = \"text-align: right;\">0</td><td style = \"text-align: right;\">40</td><td style = \"text-align: right;\">0</td><td style = \"text-align: right;\">322.0</td><td style = \"text-align: right;\">0</td><td style = \"text-align: right;\">100</td><td style = \"text-align: right;\">-100</td><td style = \"text-align: right;\">0</td></tr><tr><td class = \"rowNumber\" style = \"font-weight: bold; text-align: right;\">141</td><td style = \"text-align: right;\">34</td><td style = \"text-align: right;\">141</td><td style = \"text-align: right;\">0</td><td style = \"text-align: right;\">70</td><td style = \"text-align: right;\">0</td><td style = \"text-align: right;\">1.0</td><td style = \"text-align: right;\">0</td><td style = \"text-align: right;\">100</td><td style = \"text-align: right;\">-100</td><td style = \"text-align: right;\">0</td></tr><tr><td class = \"rowNumber\" style = \"font-weight: bold; text-align: right;\">142</td><td style = \"text-align: right;\">34</td><td style = \"text-align: right;\">142</td><td style = \"text-align: right;\">0</td><td style = \"text-align: right;\">12</td><td style = \"text-align: right;\">0</td><td style = \"text-align: right;\">3.0</td><td style = \"text-align: right;\">0</td><td style = \"text-align: right;\">100</td><td style = \"text-align: right;\">-100</td><td style = \"text-align: right;\">0</td></tr><tr><td class = \"rowNumber\" style = \"font-weight: bold; text-align: right;\">143</td><td style = \"text-align: right;\">34</td><td style = \"text-align: right;\">143</td><td style = \"text-align: right;\">0</td><td style = \"text-align: right;\">5</td><td style = \"text-align: right;\">0</td><td style = \"text-align: right;\">295.5</td><td style = \"text-align: right;\">0</td><td style = \"text-align: right;\">100</td><td style = \"text-align: right;\">-100</td><td style = \"text-align: right;\">0</td></tr><tr><td class = \"rowNumber\" style = \"font-weight: bold; text-align: right;\">144</td><td style = \"text-align: right;\">35</td><td style = \"text-align: right;\">144</td><td style = \"text-align: right;\">0</td><td style = \"text-align: right;\">40</td><td style = \"text-align: right;\">0</td><td style = \"text-align: right;\">536.0</td><td style = \"text-align: right;\">0</td><td style = \"text-align: right;\">100</td><td style = \"text-align: right;\">-100</td><td style = \"text-align: right;\">0</td></tr><tr><td class = \"rowNumber\" style = \"font-weight: bold; text-align: right;\">145</td><td style = \"text-align: right;\">35</td><td style = \"text-align: right;\">145</td><td style = \"text-align: right;\">0</td><td style = \"text-align: right;\">37</td><td style = \"text-align: right;\">0</td><td style = \"text-align: right;\">612.0</td><td style = \"text-align: right;\">0</td><td style = \"text-align: right;\">100</td><td style = \"text-align: right;\">-100</td><td style = \"text-align: right;\">0</td></tr><tr><td class = \"rowNumber\" style = \"font-weight: bold; text-align: right;\">146</td><td style = \"text-align: right;\">35</td><td style = \"text-align: right;\">146</td><td style = \"text-align: right;\">0</td><td style = \"text-align: right;\">12</td><td style = \"text-align: right;\">0</td><td style = \"text-align: right;\">18.8</td><td style = \"text-align: right;\">0</td><td style = \"text-align: right;\">100</td><td style = \"text-align: right;\">-100</td><td style = \"text-align: right;\">0</td></tr><tr><td class = \"rowNumber\" style = \"font-weight: bold; text-align: right;\">147</td><td style = \"text-align: right;\">35</td><td style = \"text-align: right;\">147</td><td style = \"text-align: right;\">0</td><td style = \"text-align: right;\">5</td><td style = \"text-align: right;\">0</td><td style = \"text-align: right;\">1224.2</td><td style = \"text-align: right;\">0</td><td style = \"text-align: right;\">100</td><td style = \"text-align: right;\">-100</td><td style = \"text-align: right;\">0</td></tr><tr><td class = \"rowNumber\" style = \"font-weight: bold; text-align: right;\">148</td><td style = \"text-align: right;\">36</td><td style = \"text-align: right;\">148</td><td style = \"text-align: right;\">0</td><td style = \"text-align: right;\">70</td><td style = \"text-align: right;\">0</td><td style = \"text-align: right;\">10.0</td><td style = \"text-align: right;\">0</td><td style = \"text-align: right;\">100</td><td style = \"text-align: right;\">-100</td><td style = \"text-align: right;\">0</td></tr><tr><td class = \"rowNumber\" style = \"font-weight: bold; text-align: right;\">149</td><td style = \"text-align: right;\">36</td><td style = \"text-align: right;\">149</td><td style = \"text-align: right;\">0</td><td style = \"text-align: right;\">12</td><td style = \"text-align: right;\">0</td><td style = \"text-align: right;\">20.4</td><td style = \"text-align: right;\">0</td><td style = \"text-align: right;\">100</td><td style = \"text-align: right;\">-100</td><td style = \"text-align: right;\">0</td></tr><tr><td class = \"rowNumber\" style = \"font-weight: bold; text-align: right;\">150</td><td style = \"text-align: right;\">36</td><td style = \"text-align: right;\">150</td><td style = \"text-align: right;\">0</td><td style = \"text-align: right;\">5</td><td style = \"text-align: right;\">0</td><td style = \"text-align: right;\">332.9</td><td style = \"text-align: right;\">0</td><td style = \"text-align: right;\">100</td><td style = \"text-align: right;\">-100</td><td style = \"text-align: right;\">0</td></tr></tbody></table></div>"
      ],
      "text/latex": [
       "\\begin{tabular}{r|cccccccccc}\n",
       "\t& Zone & connnode & c2 & c1 & c0 & PgMax & PgMin & RgMax & RgMin & PgPrev\\\\\n",
       "\t\\hline\n",
       "\t& Int64 & Int64 & Int64 & Int64 & Int64 & Float64 & Int64 & Int64 & Int64 & Int64\\\\\n",
       "\t\\hline\n",
       "\t1 & 1 & 1 & 0 & 105 & 0 & 130.0 & 0 & 100 & -100 & 0 \\\\\n",
       "\t2 & 1 & 2 & 0 & 120 & 0 & 1516.8 & 0 & 100 & -100 & 0 \\\\\n",
       "\t3 & 1 & 3 & 0 & 70 & 0 & 51.0 & 0 & 100 & -100 & 0 \\\\\n",
       "\t4 & 1 & 4 & 0 & 12 & 0 & 101.8 & 0 & 100 & -100 & 0 \\\\\n",
       "\t5 & 1 & 5 & 0 & 5 & 0 & 510.3 & 0 & 100 & -100 & 0 \\\\\n",
       "\t6 & 2 & 6 & 0 & 130 & 0 & 152.0 & 0 & 100 & -100 & 0 \\\\\n",
       "\t7 & 2 & 7 & 0 & 70 & 0 & 54.0 & 0 & 100 & -100 & 0 \\\\\n",
       "\t8 & 2 & 8 & 0 & 65 & 0 & 1000.0 & 0 & 100 & -100 & 0 \\\\\n",
       "\t9 & 2 & 9 & 0 & 12 & 0 & 107.7 & 0 & 100 & -100 & 0 \\\\\n",
       "\t10 & 2 & 10 & 0 & 5 & 0 & 55.3 & 0 & 100 & -100 & 0 \\\\\n",
       "\t11 & 3 & 11 & 0 & 70 & 0 & 11.0 & 0 & 100 & -100 & 0 \\\\\n",
       "\t12 & 3 & 12 & 0 & 65 & 0 & 2000.0 & 0 & 100 & -100 & 0 \\\\\n",
       "\t13 & 3 & 13 & 0 & 65 & 0 & 1000.0 & 0 & 100 & -100 & 0 \\\\\n",
       "\t14 & 3 & 14 & 0 & 12 & 0 & 22.9 & 0 & 100 & -100 & 0 \\\\\n",
       "\t15 & 3 & 15 & 0 & 5 & 0 & 299.7 & 0 & 100 & -100 & 0 \\\\\n",
       "\t16 & 4 & 16 & 0 & 130 & 0 & 634.0 & 0 & 100 & -100 & 0 \\\\\n",
       "\t17 & 4 & 17 & 0 & 70 & 0 & 33.0 & 0 & 100 & -100 & 0 \\\\\n",
       "\t18 & 4 & 18 & 0 & 12 & 0 & 66.7 & 0 & 100 & -100 & 0 \\\\\n",
       "\t19 & 4 & 19 & 0 & 5 & 0 & 586.1 & 0 & 100 & -100 & 0 \\\\\n",
       "\t20 & 5 & 20 & 0 & 45 & 0 & 100.0 & 0 & 100 & -100 & 0 \\\\\n",
       "\t21 & 5 & 21 & 0 & 130 & 0 & 253.0 & 0 & 100 & -100 & 0 \\\\\n",
       "\t22 & 5 & 22 & 0 & 70 & 0 & 43.0 & 0 & 100 & -100 & 0 \\\\\n",
       "\t23 & 5 & 23 & 0 & 12 & 0 & 85.1 & 0 & 100 & -100 & 0 \\\\\n",
       "\t24 & 5 & 24 & 0 & 5 & 0 & 17.5 & 0 & 100 & -100 & 0 \\\\\n",
       "\t25 & 6 & 25 & 0 & 70 & 0 & 31.0 & 0 & 100 & -100 & 0 \\\\\n",
       "\t26 & 6 & 26 & 0 & 12 & 0 & 62.2 & 0 & 100 & -100 & 0 \\\\\n",
       "\t27 & 6 & 27 & 0 & 5 & 0 & 9.3 & 0 & 100 & -100 & 0 \\\\\n",
       "\t28 & 7 & 28 & 0 & 70 & 0 & 34.0 & 0 & 100 & -100 & 0 \\\\\n",
       "\t29 & 7 & 29 & 0 & 12 & 0 & 67.1 & 0 & 100 & -100 & 0 \\\\\n",
       "\t30 & 7 & 30 & 0 & 5 & 0 & 0.2 & 0 & 100 & -100 & 0 \\\\\n",
       "\t$\\dots$ & $\\dots$ & $\\dots$ & $\\dots$ & $\\dots$ & $\\dots$ & $\\dots$ & $\\dots$ & $\\dots$ & $\\dots$ & $\\dots$ \\\\\n",
       "\\end{tabular}\n"
      ],
      "text/plain": [
       "\u001b[1m150×10 DataFrame\u001b[0m\n",
       "\u001b[1m Row \u001b[0m│\u001b[1m Zone  \u001b[0m\u001b[1m connnode \u001b[0m\u001b[1m c2    \u001b[0m\u001b[1m c1    \u001b[0m\u001b[1m c0    \u001b[0m\u001b[1m PgMax   \u001b[0m\u001b[1m PgMin \u001b[0m\u001b[1m RgMax \u001b[0m\u001b[1m RgMin \u001b[0m\u001b[1m PgPrev \u001b[0m\n",
       "     │\u001b[90m Int64 \u001b[0m\u001b[90m Int64    \u001b[0m\u001b[90m Int64 \u001b[0m\u001b[90m Int64 \u001b[0m\u001b[90m Int64 \u001b[0m\u001b[90m Float64 \u001b[0m\u001b[90m Int64 \u001b[0m\u001b[90m Int64 \u001b[0m\u001b[90m Int64 \u001b[0m\u001b[90m Int64  \u001b[0m\n",
       "─────┼────────────────────────────────────────────────────────────────────────────\n",
       "   1 │     1         1      0    105      0    130.0      0    100   -100       0\n",
       "   2 │     1         2      0    120      0   1516.8      0    100   -100       0\n",
       "   3 │     1         3      0     70      0     51.0      0    100   -100       0\n",
       "   4 │     1         4      0     12      0    101.8      0    100   -100       0\n",
       "   5 │     1         5      0      5      0    510.3      0    100   -100       0\n",
       "   6 │     2         6      0    130      0    152.0      0    100   -100       0\n",
       "   7 │     2         7      0     70      0     54.0      0    100   -100       0\n",
       "   8 │     2         8      0     65      0   1000.0      0    100   -100       0\n",
       "   9 │     2         9      0     12      0    107.7      0    100   -100       0\n",
       "  10 │     2        10      0      5      0     55.3      0    100   -100       0\n",
       "  11 │     3        11      0     70      0     11.0      0    100   -100       0\n",
       "  ⋮  │   ⋮       ⋮        ⋮      ⋮      ⋮       ⋮       ⋮      ⋮      ⋮      ⋮\n",
       " 141 │    34       141      0     70      0      1.0      0    100   -100       0\n",
       " 142 │    34       142      0     12      0      3.0      0    100   -100       0\n",
       " 143 │    34       143      0      5      0    295.5      0    100   -100       0\n",
       " 144 │    35       144      0     40      0    536.0      0    100   -100       0\n",
       " 145 │    35       145      0     37      0    612.0      0    100   -100       0\n",
       " 146 │    35       146      0     12      0     18.8      0    100   -100       0\n",
       " 147 │    35       147      0      5      0   1224.2      0    100   -100       0\n",
       " 148 │    36       148      0     70      0     10.0      0    100   -100       0\n",
       " 149 │    36       149      0     12      0     20.4      0    100   -100       0\n",
       " 150 │    36       150      0      5      0    332.9      0    100   -100       0\n",
       "\u001b[36m                                                                  129 rows omitted\u001b[0m"
      ]
     },
     "execution_count": 28,
     "metadata": {},
     "output_type": "execute_result"
    }
   ],
   "source": [
    "gens"
   ]
  },
  {
   "cell_type": "code",
   "execution_count": 29,
   "id": "5cfa21e9",
   "metadata": {},
   "outputs": [
    {
     "data": {
      "text/html": [
       "<p><b>GroupedDataFrame with 36 groups based on key: Zone</b></p><div><div style = \"float: left;\"><span>First Group (5 rows): Zone = 1</span></div><div style = \"clear: both;\"></div></div><div class = \"data-frame\" style = \"overflow-x: scroll;\"><table class = \"data-frame\" style = \"margin-bottom: 6px;\"><thead><tr class = \"header\"><th class = \"rowNumber\" style = \"font-weight: bold; text-align: right;\">Row</th><th style = \"text-align: left;\">Zone</th><th style = \"text-align: left;\">connnode</th><th style = \"text-align: left;\">c2</th><th style = \"text-align: left;\">c1</th><th style = \"text-align: left;\">c0</th><th style = \"text-align: left;\">PgMax</th><th style = \"text-align: left;\">PgMin</th><th style = \"text-align: left;\">RgMax</th><th style = \"text-align: left;\">RgMin</th><th style = \"text-align: left;\">PgPrev</th></tr><tr class = \"subheader headerLastRow\"><th class = \"rowNumber\" style = \"font-weight: bold; text-align: right;\"></th><th title = \"Int64\" style = \"text-align: left;\">Int64</th><th title = \"Int64\" style = \"text-align: left;\">Int64</th><th title = \"Int64\" style = \"text-align: left;\">Int64</th><th title = \"Int64\" style = \"text-align: left;\">Int64</th><th title = \"Int64\" style = \"text-align: left;\">Int64</th><th title = \"Float64\" style = \"text-align: left;\">Float64</th><th title = \"Int64\" style = \"text-align: left;\">Int64</th><th title = \"Int64\" style = \"text-align: left;\">Int64</th><th title = \"Int64\" style = \"text-align: left;\">Int64</th><th title = \"Int64\" style = \"text-align: left;\">Int64</th></tr></thead><tbody><tr><td class = \"rowNumber\" style = \"font-weight: bold; text-align: right;\">1</td><td style = \"text-align: right;\">1</td><td style = \"text-align: right;\">1</td><td style = \"text-align: right;\">0</td><td style = \"text-align: right;\">105</td><td style = \"text-align: right;\">0</td><td style = \"text-align: right;\">130.0</td><td style = \"text-align: right;\">0</td><td style = \"text-align: right;\">100</td><td style = \"text-align: right;\">-100</td><td style = \"text-align: right;\">0</td></tr><tr><td class = \"rowNumber\" style = \"font-weight: bold; text-align: right;\">2</td><td style = \"text-align: right;\">1</td><td style = \"text-align: right;\">2</td><td style = \"text-align: right;\">0</td><td style = \"text-align: right;\">120</td><td style = \"text-align: right;\">0</td><td style = \"text-align: right;\">1516.8</td><td style = \"text-align: right;\">0</td><td style = \"text-align: right;\">100</td><td style = \"text-align: right;\">-100</td><td style = \"text-align: right;\">0</td></tr><tr><td class = \"rowNumber\" style = \"font-weight: bold; text-align: right;\">3</td><td style = \"text-align: right;\">1</td><td style = \"text-align: right;\">3</td><td style = \"text-align: right;\">0</td><td style = \"text-align: right;\">70</td><td style = \"text-align: right;\">0</td><td style = \"text-align: right;\">51.0</td><td style = \"text-align: right;\">0</td><td style = \"text-align: right;\">100</td><td style = \"text-align: right;\">-100</td><td style = \"text-align: right;\">0</td></tr><tr><td class = \"rowNumber\" style = \"font-weight: bold; text-align: right;\">4</td><td style = \"text-align: right;\">1</td><td style = \"text-align: right;\">4</td><td style = \"text-align: right;\">0</td><td style = \"text-align: right;\">12</td><td style = \"text-align: right;\">0</td><td style = \"text-align: right;\">101.8</td><td style = \"text-align: right;\">0</td><td style = \"text-align: right;\">100</td><td style = \"text-align: right;\">-100</td><td style = \"text-align: right;\">0</td></tr><tr><td class = \"rowNumber\" style = \"font-weight: bold; text-align: right;\">5</td><td style = \"text-align: right;\">1</td><td style = \"text-align: right;\">5</td><td style = \"text-align: right;\">0</td><td style = \"text-align: right;\">5</td><td style = \"text-align: right;\">0</td><td style = \"text-align: right;\">510.3</td><td style = \"text-align: right;\">0</td><td style = \"text-align: right;\">100</td><td style = \"text-align: right;\">-100</td><td style = \"text-align: right;\">0</td></tr></tbody></table></div><p>&vellip;</p><div><div style = \"float: left;\"><span>Last Group (3 rows): Zone = 36</span></div><div style = \"clear: both;\"></div></div><div class = \"data-frame\" style = \"overflow-x: scroll;\"><table class = \"data-frame\" style = \"margin-bottom: 6px;\"><thead><tr class = \"header\"><th class = \"rowNumber\" style = \"font-weight: bold; text-align: right;\">Row</th><th style = \"text-align: left;\">Zone</th><th style = \"text-align: left;\">connnode</th><th style = \"text-align: left;\">c2</th><th style = \"text-align: left;\">c1</th><th style = \"text-align: left;\">c0</th><th style = \"text-align: left;\">PgMax</th><th style = \"text-align: left;\">PgMin</th><th style = \"text-align: left;\">RgMax</th><th style = \"text-align: left;\">RgMin</th><th style = \"text-align: left;\">PgPrev</th></tr><tr class = \"subheader headerLastRow\"><th class = \"rowNumber\" style = \"font-weight: bold; text-align: right;\"></th><th title = \"Int64\" style = \"text-align: left;\">Int64</th><th title = \"Int64\" style = \"text-align: left;\">Int64</th><th title = \"Int64\" style = \"text-align: left;\">Int64</th><th title = \"Int64\" style = \"text-align: left;\">Int64</th><th title = \"Int64\" style = \"text-align: left;\">Int64</th><th title = \"Float64\" style = \"text-align: left;\">Float64</th><th title = \"Int64\" style = \"text-align: left;\">Int64</th><th title = \"Int64\" style = \"text-align: left;\">Int64</th><th title = \"Int64\" style = \"text-align: left;\">Int64</th><th title = \"Int64\" style = \"text-align: left;\">Int64</th></tr></thead><tbody><tr><td class = \"rowNumber\" style = \"font-weight: bold; text-align: right;\">1</td><td style = \"text-align: right;\">36</td><td style = \"text-align: right;\">148</td><td style = \"text-align: right;\">0</td><td style = \"text-align: right;\">70</td><td style = \"text-align: right;\">0</td><td style = \"text-align: right;\">10.0</td><td style = \"text-align: right;\">0</td><td style = \"text-align: right;\">100</td><td style = \"text-align: right;\">-100</td><td style = \"text-align: right;\">0</td></tr><tr><td class = \"rowNumber\" style = \"font-weight: bold; text-align: right;\">2</td><td style = \"text-align: right;\">36</td><td style = \"text-align: right;\">149</td><td style = \"text-align: right;\">0</td><td style = \"text-align: right;\">12</td><td style = \"text-align: right;\">0</td><td style = \"text-align: right;\">20.4</td><td style = \"text-align: right;\">0</td><td style = \"text-align: right;\">100</td><td style = \"text-align: right;\">-100</td><td style = \"text-align: right;\">0</td></tr><tr><td class = \"rowNumber\" style = \"font-weight: bold; text-align: right;\">3</td><td style = \"text-align: right;\">36</td><td style = \"text-align: right;\">150</td><td style = \"text-align: right;\">0</td><td style = \"text-align: right;\">5</td><td style = \"text-align: right;\">0</td><td style = \"text-align: right;\">332.9</td><td style = \"text-align: right;\">0</td><td style = \"text-align: right;\">100</td><td style = \"text-align: right;\">-100</td><td style = \"text-align: right;\">0</td></tr></tbody></table></div>"
      ],
      "text/latex": [
       "GroupedDataFrame with 36 groups based on key: Zone\n",
       "\n",
       "First Group (5 rows): Zone = 1\n",
       "\n",
       "\\begin{tabular}{r|cccccccccc}\n",
       "\t& Zone & connnode & c2 & c1 & c0 & PgMax & PgMin & RgMax & RgMin & PgPrev\\\\\n",
       "\t\\hline\n",
       "\t& Int64 & Int64 & Int64 & Int64 & Int64 & Float64 & Int64 & Int64 & Int64 & Int64\\\\\n",
       "\t\\hline\n",
       "\t1 & 1 & 1 & 0 & 105 & 0 & 130.0 & 0 & 100 & -100 & 0 \\\\\n",
       "\t2 & 1 & 2 & 0 & 120 & 0 & 1516.8 & 0 & 100 & -100 & 0 \\\\\n",
       "\t3 & 1 & 3 & 0 & 70 & 0 & 51.0 & 0 & 100 & -100 & 0 \\\\\n",
       "\t4 & 1 & 4 & 0 & 12 & 0 & 101.8 & 0 & 100 & -100 & 0 \\\\\n",
       "\t5 & 1 & 5 & 0 & 5 & 0 & 510.3 & 0 & 100 & -100 & 0 \\\\\n",
       "\\end{tabular}\n",
       "\n",
       "$\\dots$\n",
       "\n",
       "Last Group (3 rows): Zone = 36\n",
       "\n",
       "\\begin{tabular}{r|cccccccccc}\n",
       "\t& Zone & connnode & c2 & c1 & c0 & PgMax & PgMin & RgMax & RgMin & PgPrev\\\\\n",
       "\t\\hline\n",
       "\t& Int64 & Int64 & Int64 & Int64 & Int64 & Float64 & Int64 & Int64 & Int64 & Int64\\\\\n",
       "\t\\hline\n",
       "\t1 & 36 & 148 & 0 & 70 & 0 & 10.0 & 0 & 100 & -100 & 0 \\\\\n",
       "\t2 & 36 & 149 & 0 & 12 & 0 & 20.4 & 0 & 100 & -100 & 0 \\\\\n",
       "\t3 & 36 & 150 & 0 & 5 & 0 & 332.9 & 0 & 100 & -100 & 0 \\\\\n",
       "\\end{tabular}\n"
      ],
      "text/plain": [
       "GroupedDataFrame with 36 groups based on key: Zone\n",
       "First Group (5 rows): Zone = 1\n",
       "\u001b[1m Row \u001b[0m│\u001b[1m Zone  \u001b[0m\u001b[1m connnode \u001b[0m\u001b[1m c2    \u001b[0m\u001b[1m c1    \u001b[0m\u001b[1m c0    \u001b[0m\u001b[1m PgMax   \u001b[0m\u001b[1m PgMin \u001b[0m\u001b[1m RgMax \u001b[0m\u001b[1m RgMin \u001b[0m\u001b[1m PgPrev \u001b[0m\n",
       "     │\u001b[90m Int64 \u001b[0m\u001b[90m Int64    \u001b[0m\u001b[90m Int64 \u001b[0m\u001b[90m Int64 \u001b[0m\u001b[90m Int64 \u001b[0m\u001b[90m Float64 \u001b[0m\u001b[90m Int64 \u001b[0m\u001b[90m Int64 \u001b[0m\u001b[90m Int64 \u001b[0m\u001b[90m Int64  \u001b[0m\n",
       "─────┼────────────────────────────────────────────────────────────────────────────\n",
       "   1 │     1         1      0    105      0    130.0      0    100   -100       0\n",
       "   2 │     1         2      0    120      0   1516.8      0    100   -100       0\n",
       "   3 │     1         3      0     70      0     51.0      0    100   -100       0\n",
       "   4 │     1         4      0     12      0    101.8      0    100   -100       0\n",
       "   5 │     1         5      0      5      0    510.3      0    100   -100       0\n",
       "⋮\n",
       "Last Group (3 rows): Zone = 36\n",
       "\u001b[1m Row \u001b[0m│\u001b[1m Zone  \u001b[0m\u001b[1m connnode \u001b[0m\u001b[1m c2    \u001b[0m\u001b[1m c1    \u001b[0m\u001b[1m c0    \u001b[0m\u001b[1m PgMax   \u001b[0m\u001b[1m PgMin \u001b[0m\u001b[1m RgMax \u001b[0m\u001b[1m RgMin \u001b[0m\u001b[1m PgPrev \u001b[0m\n",
       "     │\u001b[90m Int64 \u001b[0m\u001b[90m Int64    \u001b[0m\u001b[90m Int64 \u001b[0m\u001b[90m Int64 \u001b[0m\u001b[90m Int64 \u001b[0m\u001b[90m Float64 \u001b[0m\u001b[90m Int64 \u001b[0m\u001b[90m Int64 \u001b[0m\u001b[90m Int64 \u001b[0m\u001b[90m Int64  \u001b[0m\n",
       "─────┼────────────────────────────────────────────────────────────────────────────\n",
       "   1 │    36       148      0     70      0     10.0      0    100   -100       0\n",
       "   2 │    36       149      0     12      0     20.4      0    100   -100       0\n",
       "   3 │    36       150      0      5      0    332.9      0    100   -100       0"
      ]
     },
     "execution_count": 29,
     "metadata": {},
     "output_type": "execute_result"
    }
   ],
   "source": [
    "gdf = groupby(gens, :Zone)"
   ]
  },
  {
   "cell_type": "code",
   "execution_count": 30,
   "id": "b9ef4354",
   "metadata": {},
   "outputs": [
    {
     "data": {
      "text/html": [
       "<p><b>GroupedDataFrame with 36 groups based on key: Zone</b></p><div><div style = \"float: left;\"><span>First Group (5 rows): Zone = 1</span></div><div style = \"clear: both;\"></div></div><div class = \"data-frame\" style = \"overflow-x: scroll;\"><table class = \"data-frame\" style = \"margin-bottom: 6px;\"><thead><tr class = \"header\"><th class = \"rowNumber\" style = \"font-weight: bold; text-align: right;\">Row</th><th style = \"text-align: left;\">Zone</th><th style = \"text-align: left;\">connnode</th><th style = \"text-align: left;\">c2</th><th style = \"text-align: left;\">c1</th><th style = \"text-align: left;\">c0</th><th style = \"text-align: left;\">PgMax</th><th style = \"text-align: left;\">PgMin</th><th style = \"text-align: left;\">RgMax</th><th style = \"text-align: left;\">RgMin</th><th style = \"text-align: left;\">PgPrev</th></tr><tr class = \"subheader headerLastRow\"><th class = \"rowNumber\" style = \"font-weight: bold; text-align: right;\"></th><th title = \"Int64\" style = \"text-align: left;\">Int64</th><th title = \"Int64\" style = \"text-align: left;\">Int64</th><th title = \"Int64\" style = \"text-align: left;\">Int64</th><th title = \"Int64\" style = \"text-align: left;\">Int64</th><th title = \"Int64\" style = \"text-align: left;\">Int64</th><th title = \"Float64\" style = \"text-align: left;\">Float64</th><th title = \"Int64\" style = \"text-align: left;\">Int64</th><th title = \"Int64\" style = \"text-align: left;\">Int64</th><th title = \"Int64\" style = \"text-align: left;\">Int64</th><th title = \"Int64\" style = \"text-align: left;\">Int64</th></tr></thead><tbody><tr><td class = \"rowNumber\" style = \"font-weight: bold; text-align: right;\">1</td><td style = \"text-align: right;\">1</td><td style = \"text-align: right;\">1</td><td style = \"text-align: right;\">0</td><td style = \"text-align: right;\">105</td><td style = \"text-align: right;\">0</td><td style = \"text-align: right;\">130.0</td><td style = \"text-align: right;\">0</td><td style = \"text-align: right;\">100</td><td style = \"text-align: right;\">-100</td><td style = \"text-align: right;\">0</td></tr><tr><td class = \"rowNumber\" style = \"font-weight: bold; text-align: right;\">2</td><td style = \"text-align: right;\">1</td><td style = \"text-align: right;\">2</td><td style = \"text-align: right;\">0</td><td style = \"text-align: right;\">120</td><td style = \"text-align: right;\">0</td><td style = \"text-align: right;\">1516.8</td><td style = \"text-align: right;\">0</td><td style = \"text-align: right;\">100</td><td style = \"text-align: right;\">-100</td><td style = \"text-align: right;\">0</td></tr><tr><td class = \"rowNumber\" style = \"font-weight: bold; text-align: right;\">3</td><td style = \"text-align: right;\">1</td><td style = \"text-align: right;\">3</td><td style = \"text-align: right;\">0</td><td style = \"text-align: right;\">70</td><td style = \"text-align: right;\">0</td><td style = \"text-align: right;\">51.0</td><td style = \"text-align: right;\">0</td><td style = \"text-align: right;\">100</td><td style = \"text-align: right;\">-100</td><td style = \"text-align: right;\">0</td></tr><tr><td class = \"rowNumber\" style = \"font-weight: bold; text-align: right;\">4</td><td style = \"text-align: right;\">1</td><td style = \"text-align: right;\">4</td><td style = \"text-align: right;\">0</td><td style = \"text-align: right;\">12</td><td style = \"text-align: right;\">0</td><td style = \"text-align: right;\">101.8</td><td style = \"text-align: right;\">0</td><td style = \"text-align: right;\">100</td><td style = \"text-align: right;\">-100</td><td style = \"text-align: right;\">0</td></tr><tr><td class = \"rowNumber\" style = \"font-weight: bold; text-align: right;\">5</td><td style = \"text-align: right;\">1</td><td style = \"text-align: right;\">5</td><td style = \"text-align: right;\">0</td><td style = \"text-align: right;\">5</td><td style = \"text-align: right;\">0</td><td style = \"text-align: right;\">510.3</td><td style = \"text-align: right;\">0</td><td style = \"text-align: right;\">100</td><td style = \"text-align: right;\">-100</td><td style = \"text-align: right;\">0</td></tr></tbody></table></div><p>&vellip;</p><div><div style = \"float: left;\"><span>Last Group (3 rows): Zone = 36</span></div><div style = \"clear: both;\"></div></div><div class = \"data-frame\" style = \"overflow-x: scroll;\"><table class = \"data-frame\" style = \"margin-bottom: 6px;\"><thead><tr class = \"header\"><th class = \"rowNumber\" style = \"font-weight: bold; text-align: right;\">Row</th><th style = \"text-align: left;\">Zone</th><th style = \"text-align: left;\">connnode</th><th style = \"text-align: left;\">c2</th><th style = \"text-align: left;\">c1</th><th style = \"text-align: left;\">c0</th><th style = \"text-align: left;\">PgMax</th><th style = \"text-align: left;\">PgMin</th><th style = \"text-align: left;\">RgMax</th><th style = \"text-align: left;\">RgMin</th><th style = \"text-align: left;\">PgPrev</th></tr><tr class = \"subheader headerLastRow\"><th class = \"rowNumber\" style = \"font-weight: bold; text-align: right;\"></th><th title = \"Int64\" style = \"text-align: left;\">Int64</th><th title = \"Int64\" style = \"text-align: left;\">Int64</th><th title = \"Int64\" style = \"text-align: left;\">Int64</th><th title = \"Int64\" style = \"text-align: left;\">Int64</th><th title = \"Int64\" style = \"text-align: left;\">Int64</th><th title = \"Float64\" style = \"text-align: left;\">Float64</th><th title = \"Int64\" style = \"text-align: left;\">Int64</th><th title = \"Int64\" style = \"text-align: left;\">Int64</th><th title = \"Int64\" style = \"text-align: left;\">Int64</th><th title = \"Int64\" style = \"text-align: left;\">Int64</th></tr></thead><tbody><tr><td class = \"rowNumber\" style = \"font-weight: bold; text-align: right;\">1</td><td style = \"text-align: right;\">36</td><td style = \"text-align: right;\">148</td><td style = \"text-align: right;\">0</td><td style = \"text-align: right;\">70</td><td style = \"text-align: right;\">0</td><td style = \"text-align: right;\">10.0</td><td style = \"text-align: right;\">0</td><td style = \"text-align: right;\">100</td><td style = \"text-align: right;\">-100</td><td style = \"text-align: right;\">0</td></tr><tr><td class = \"rowNumber\" style = \"font-weight: bold; text-align: right;\">2</td><td style = \"text-align: right;\">36</td><td style = \"text-align: right;\">149</td><td style = \"text-align: right;\">0</td><td style = \"text-align: right;\">12</td><td style = \"text-align: right;\">0</td><td style = \"text-align: right;\">20.4</td><td style = \"text-align: right;\">0</td><td style = \"text-align: right;\">100</td><td style = \"text-align: right;\">-100</td><td style = \"text-align: right;\">0</td></tr><tr><td class = \"rowNumber\" style = \"font-weight: bold; text-align: right;\">3</td><td style = \"text-align: right;\">36</td><td style = \"text-align: right;\">150</td><td style = \"text-align: right;\">0</td><td style = \"text-align: right;\">5</td><td style = \"text-align: right;\">0</td><td style = \"text-align: right;\">332.9</td><td style = \"text-align: right;\">0</td><td style = \"text-align: right;\">100</td><td style = \"text-align: right;\">-100</td><td style = \"text-align: right;\">0</td></tr></tbody></table></div>"
      ],
      "text/latex": [
       "GroupedDataFrame with 36 groups based on key: Zone\n",
       "\n",
       "First Group (5 rows): Zone = 1\n",
       "\n",
       "\\begin{tabular}{r|cccccccccc}\n",
       "\t& Zone & connnode & c2 & c1 & c0 & PgMax & PgMin & RgMax & RgMin & PgPrev\\\\\n",
       "\t\\hline\n",
       "\t& Int64 & Int64 & Int64 & Int64 & Int64 & Float64 & Int64 & Int64 & Int64 & Int64\\\\\n",
       "\t\\hline\n",
       "\t1 & 1 & 1 & 0 & 105 & 0 & 130.0 & 0 & 100 & -100 & 0 \\\\\n",
       "\t2 & 1 & 2 & 0 & 120 & 0 & 1516.8 & 0 & 100 & -100 & 0 \\\\\n",
       "\t3 & 1 & 3 & 0 & 70 & 0 & 51.0 & 0 & 100 & -100 & 0 \\\\\n",
       "\t4 & 1 & 4 & 0 & 12 & 0 & 101.8 & 0 & 100 & -100 & 0 \\\\\n",
       "\t5 & 1 & 5 & 0 & 5 & 0 & 510.3 & 0 & 100 & -100 & 0 \\\\\n",
       "\\end{tabular}\n",
       "\n",
       "$\\dots$\n",
       "\n",
       "Last Group (3 rows): Zone = 36\n",
       "\n",
       "\\begin{tabular}{r|cccccccccc}\n",
       "\t& Zone & connnode & c2 & c1 & c0 & PgMax & PgMin & RgMax & RgMin & PgPrev\\\\\n",
       "\t\\hline\n",
       "\t& Int64 & Int64 & Int64 & Int64 & Int64 & Float64 & Int64 & Int64 & Int64 & Int64\\\\\n",
       "\t\\hline\n",
       "\t1 & 36 & 148 & 0 & 70 & 0 & 10.0 & 0 & 100 & -100 & 0 \\\\\n",
       "\t2 & 36 & 149 & 0 & 12 & 0 & 20.4 & 0 & 100 & -100 & 0 \\\\\n",
       "\t3 & 36 & 150 & 0 & 5 & 0 & 332.9 & 0 & 100 & -100 & 0 \\\\\n",
       "\\end{tabular}\n"
      ],
      "text/plain": [
       "GroupedDataFrame with 36 groups based on key: Zone\n",
       "First Group (5 rows): Zone = 1\n",
       "\u001b[1m Row \u001b[0m│\u001b[1m Zone  \u001b[0m\u001b[1m connnode \u001b[0m\u001b[1m c2    \u001b[0m\u001b[1m c1    \u001b[0m\u001b[1m c0    \u001b[0m\u001b[1m PgMax   \u001b[0m\u001b[1m PgMin \u001b[0m\u001b[1m RgMax \u001b[0m\u001b[1m RgMin \u001b[0m\u001b[1m PgPrev \u001b[0m\n",
       "     │\u001b[90m Int64 \u001b[0m\u001b[90m Int64    \u001b[0m\u001b[90m Int64 \u001b[0m\u001b[90m Int64 \u001b[0m\u001b[90m Int64 \u001b[0m\u001b[90m Float64 \u001b[0m\u001b[90m Int64 \u001b[0m\u001b[90m Int64 \u001b[0m\u001b[90m Int64 \u001b[0m\u001b[90m Int64  \u001b[0m\n",
       "─────┼────────────────────────────────────────────────────────────────────────────\n",
       "   1 │     1         1      0    105      0    130.0      0    100   -100       0\n",
       "   2 │     1         2      0    120      0   1516.8      0    100   -100       0\n",
       "   3 │     1         3      0     70      0     51.0      0    100   -100       0\n",
       "   4 │     1         4      0     12      0    101.8      0    100   -100       0\n",
       "   5 │     1         5      0      5      0    510.3      0    100   -100       0\n",
       "⋮\n",
       "Last Group (3 rows): Zone = 36\n",
       "\u001b[1m Row \u001b[0m│\u001b[1m Zone  \u001b[0m\u001b[1m connnode \u001b[0m\u001b[1m c2    \u001b[0m\u001b[1m c1    \u001b[0m\u001b[1m c0    \u001b[0m\u001b[1m PgMax   \u001b[0m\u001b[1m PgMin \u001b[0m\u001b[1m RgMax \u001b[0m\u001b[1m RgMin \u001b[0m\u001b[1m PgPrev \u001b[0m\n",
       "     │\u001b[90m Int64 \u001b[0m\u001b[90m Int64    \u001b[0m\u001b[90m Int64 \u001b[0m\u001b[90m Int64 \u001b[0m\u001b[90m Int64 \u001b[0m\u001b[90m Float64 \u001b[0m\u001b[90m Int64 \u001b[0m\u001b[90m Int64 \u001b[0m\u001b[90m Int64 \u001b[0m\u001b[90m Int64  \u001b[0m\n",
       "─────┼────────────────────────────────────────────────────────────────────────────\n",
       "   1 │    36       148      0     70      0     10.0      0    100   -100       0\n",
       "   2 │    36       149      0     12      0     20.4      0    100   -100       0\n",
       "   3 │    36       150      0      5      0    332.9      0    100   -100       0"
      ]
     },
     "execution_count": 30,
     "metadata": {},
     "output_type": "execute_result"
    }
   ],
   "source": [
    "gdf"
   ]
  },
  {
   "cell_type": "code",
   "execution_count": 31,
   "id": "91d8c5a3",
   "metadata": {},
   "outputs": [
    {
     "data": {
      "text/plain": [
       "36-element DataFrames.GroupKeys{GroupedDataFrame{DataFrame}}:\n",
       " GroupKey: (Zone = 1,)\n",
       " GroupKey: (Zone = 2,)\n",
       " GroupKey: (Zone = 3,)\n",
       " GroupKey: (Zone = 4,)\n",
       " GroupKey: (Zone = 5,)\n",
       " GroupKey: (Zone = 6,)\n",
       " GroupKey: (Zone = 7,)\n",
       " GroupKey: (Zone = 8,)\n",
       " GroupKey: (Zone = 9,)\n",
       " GroupKey: (Zone = 10,)\n",
       " GroupKey: (Zone = 11,)\n",
       " GroupKey: (Zone = 12,)\n",
       " GroupKey: (Zone = 13,)\n",
       " ⋮\n",
       " GroupKey: (Zone = 25,)\n",
       " GroupKey: (Zone = 26,)\n",
       " GroupKey: (Zone = 27,)\n",
       " GroupKey: (Zone = 28,)\n",
       " GroupKey: (Zone = 29,)\n",
       " GroupKey: (Zone = 30,)\n",
       " GroupKey: (Zone = 31,)\n",
       " GroupKey: (Zone = 32,)\n",
       " GroupKey: (Zone = 33,)\n",
       " GroupKey: (Zone = 34,)\n",
       " GroupKey: (Zone = 35,)\n",
       " GroupKey: (Zone = 36,)"
      ]
     },
     "execution_count": 31,
     "metadata": {},
     "output_type": "execute_result"
    }
   ],
   "source": [
    "keys(gdf)"
   ]
  },
  {
   "cell_type": "code",
   "execution_count": null,
   "id": "ecf72c84",
   "metadata": {},
   "outputs": [],
   "source": []
  }
 ],
 "metadata": {
  "kernelspec": {
   "display_name": "Julia 1.9.3",
   "language": "julia",
   "name": "julia-1.9"
  },
  "language_info": {
   "file_extension": ".jl",
   "mimetype": "application/julia",
   "name": "julia",
   "version": "1.9.3"
  }
 },
 "nbformat": 4,
 "nbformat_minor": 5
}
