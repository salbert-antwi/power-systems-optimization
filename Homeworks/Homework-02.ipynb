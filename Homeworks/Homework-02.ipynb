{
 "cells": [
  {
   "cell_type": "markdown",
   "metadata": {},
   "source": [
    "# Homework 2"
   ]
  },
  {
   "cell_type": "markdown",
   "metadata": {},
   "source": [
    "This Notebook will detail Homework 2, which involves a basic capacity expansion model formulation described in [Notebook 3](https://github.com/east-winds/power-systems-optimization/tree/master/Notebooks)\n",
    "\n",
    "First, load (or install if necessary) a set of packages you'll need for this assignment..."
   ]
  },
  {
   "cell_type": "code",
   "execution_count": 1,
   "metadata": {},
   "outputs": [],
   "source": [
    "# Uncomment and run this first line if you need to install or update packages\n",
    "#import Pkg; Pkg.add(\"JuMP\"); Pkg.add(\"HiGHS\"); Pkg.add(\"DataFrames\"); Pkg.add(\"CSV\")\n",
    "using JuMP\n",
    "using HiGHS\n",
    "using DataFrames\n",
    "using CSV"
   ]
  },
  {
   "cell_type": "markdown",
   "metadata": {},
   "source": [
    "### Question 1 - Build the basic thermal generation expansion model\n",
    "\n",
    "Using the example model in [Notebook 3](https://github.com/east-winds/power-systems-optimization/tree/master/Notebooks) as your guide, input the code to create a basic thermal generator capacity expansion model, including [downloading the data for Notebook 3 here](https://github.com/east-winds/power-systems-optimization/tree/master/Notebooks/expansion_data) and loading the appropriate csv files."
   ]
  },
  {
   "cell_type": "code",
   "execution_count": 2,
   "metadata": {},
   "outputs": [
    {
     "data": {
      "text/html": [
       "<div><div style = \"float: left;\"><span>8760×2 DataFrame</span></div><div style = \"float: right;\"><span style = \"font-style: italic;\">8735 rows omitted</span></div><div style = \"clear: both;\"></div></div><div class = \"data-frame\" style = \"overflow-x: scroll;\"><table class = \"data-frame\" style = \"margin-bottom: 6px;\"><thead><tr class = \"header\"><th class = \"rowNumber\" style = \"font-weight: bold; text-align: right;\">Row</th><th style = \"text-align: left;\">Hour</th><th style = \"text-align: left;\">Demand</th></tr><tr class = \"subheader headerLastRow\"><th class = \"rowNumber\" style = \"font-weight: bold; text-align: right;\"></th><th title = \"Int64\" style = \"text-align: left;\">Int64</th><th title = \"Int64\" style = \"text-align: left;\">Int64</th></tr></thead><tbody><tr><td class = \"rowNumber\" style = \"font-weight: bold; text-align: right;\">1</td><td style = \"text-align: right;\">1</td><td style = \"text-align: right;\">2274</td></tr><tr><td class = \"rowNumber\" style = \"font-weight: bold; text-align: right;\">2</td><td style = \"text-align: right;\">2</td><td style = \"text-align: right;\">2581</td></tr><tr><td class = \"rowNumber\" style = \"font-weight: bold; text-align: right;\">3</td><td style = \"text-align: right;\">3</td><td style = \"text-align: right;\">2576</td></tr><tr><td class = \"rowNumber\" style = \"font-weight: bold; text-align: right;\">4</td><td style = \"text-align: right;\">4</td><td style = \"text-align: right;\">2482</td></tr><tr><td class = \"rowNumber\" style = \"font-weight: bold; text-align: right;\">5</td><td style = \"text-align: right;\">5</td><td style = \"text-align: right;\">2396</td></tr><tr><td class = \"rowNumber\" style = \"font-weight: bold; text-align: right;\">6</td><td style = \"text-align: right;\">6</td><td style = \"text-align: right;\">2193</td></tr><tr><td class = \"rowNumber\" style = \"font-weight: bold; text-align: right;\">7</td><td style = \"text-align: right;\">7</td><td style = \"text-align: right;\">1929</td></tr><tr><td class = \"rowNumber\" style = \"font-weight: bold; text-align: right;\">8</td><td style = \"text-align: right;\">8</td><td style = \"text-align: right;\">1715</td></tr><tr><td class = \"rowNumber\" style = \"font-weight: bold; text-align: right;\">9</td><td style = \"text-align: right;\">9</td><td style = \"text-align: right;\">1555</td></tr><tr><td class = \"rowNumber\" style = \"font-weight: bold; text-align: right;\">10</td><td style = \"text-align: right;\">10</td><td style = \"text-align: right;\">1473</td></tr><tr><td class = \"rowNumber\" style = \"font-weight: bold; text-align: right;\">11</td><td style = \"text-align: right;\">11</td><td style = \"text-align: right;\">1463</td></tr><tr><td class = \"rowNumber\" style = \"font-weight: bold; text-align: right;\">12</td><td style = \"text-align: right;\">12</td><td style = \"text-align: right;\">1503</td></tr><tr><td class = \"rowNumber\" style = \"font-weight: bold; text-align: right;\">13</td><td style = \"text-align: right;\">13</td><td style = \"text-align: right;\">1642</td></tr><tr><td style = \"text-align: right;\">&vellip;</td><td style = \"text-align: right;\">&vellip;</td><td style = \"text-align: right;\">&vellip;</td></tr><tr><td class = \"rowNumber\" style = \"font-weight: bold; text-align: right;\">8749</td><td style = \"text-align: right;\">8749</td><td style = \"text-align: right;\">1888</td></tr><tr><td class = \"rowNumber\" style = \"font-weight: bold; text-align: right;\">8750</td><td style = \"text-align: right;\">8750</td><td style = \"text-align: right;\">2136</td></tr><tr><td class = \"rowNumber\" style = \"font-weight: bold; text-align: right;\">8751</td><td style = \"text-align: right;\">8751</td><td style = \"text-align: right;\">2409</td></tr><tr><td class = \"rowNumber\" style = \"font-weight: bold; text-align: right;\">8752</td><td style = \"text-align: right;\">8752</td><td style = \"text-align: right;\">2527</td></tr><tr><td class = \"rowNumber\" style = \"font-weight: bold; text-align: right;\">8753</td><td style = \"text-align: right;\">8753</td><td style = \"text-align: right;\">2616</td></tr><tr><td class = \"rowNumber\" style = \"font-weight: bold; text-align: right;\">8754</td><td style = \"text-align: right;\">8754</td><td style = \"text-align: right;\">2707</td></tr><tr><td class = \"rowNumber\" style = \"font-weight: bold; text-align: right;\">8755</td><td style = \"text-align: right;\">8755</td><td style = \"text-align: right;\">2677</td></tr><tr><td class = \"rowNumber\" style = \"font-weight: bold; text-align: right;\">8756</td><td style = \"text-align: right;\">8756</td><td style = \"text-align: right;\">2708</td></tr><tr><td class = \"rowNumber\" style = \"font-weight: bold; text-align: right;\">8757</td><td style = \"text-align: right;\">8757</td><td style = \"text-align: right;\">2646</td></tr><tr><td class = \"rowNumber\" style = \"font-weight: bold; text-align: right;\">8758</td><td style = \"text-align: right;\">8758</td><td style = \"text-align: right;\">2538</td></tr><tr><td class = \"rowNumber\" style = \"font-weight: bold; text-align: right;\">8759</td><td style = \"text-align: right;\">8759</td><td style = \"text-align: right;\">2195</td></tr><tr><td class = \"rowNumber\" style = \"font-weight: bold; text-align: right;\">8760</td><td style = \"text-align: right;\">8760</td><td style = \"text-align: right;\">2200</td></tr></tbody></table></div>"
      ],
      "text/latex": [
       "\\begin{tabular}{r|cc}\n",
       "\t& Hour & Demand\\\\\n",
       "\t\\hline\n",
       "\t& Int64 & Int64\\\\\n",
       "\t\\hline\n",
       "\t1 & 1 & 2274 \\\\\n",
       "\t2 & 2 & 2581 \\\\\n",
       "\t3 & 3 & 2576 \\\\\n",
       "\t4 & 4 & 2482 \\\\\n",
       "\t5 & 5 & 2396 \\\\\n",
       "\t6 & 6 & 2193 \\\\\n",
       "\t7 & 7 & 1929 \\\\\n",
       "\t8 & 8 & 1715 \\\\\n",
       "\t9 & 9 & 1555 \\\\\n",
       "\t10 & 10 & 1473 \\\\\n",
       "\t11 & 11 & 1463 \\\\\n",
       "\t12 & 12 & 1503 \\\\\n",
       "\t13 & 13 & 1642 \\\\\n",
       "\t14 & 14 & 1850 \\\\\n",
       "\t15 & 15 & 2051 \\\\\n",
       "\t16 & 16 & 2129 \\\\\n",
       "\t17 & 17 & 2205 \\\\\n",
       "\t18 & 18 & 2284 \\\\\n",
       "\t19 & 19 & 2313 \\\\\n",
       "\t20 & 20 & 2412 \\\\\n",
       "\t21 & 21 & 2388 \\\\\n",
       "\t22 & 22 & 2310 \\\\\n",
       "\t23 & 23 & 2254 \\\\\n",
       "\t24 & 24 & 2202 \\\\\n",
       "\t25 & 25 & 2202 \\\\\n",
       "\t26 & 26 & 2437 \\\\\n",
       "\t27 & 27 & 2453 \\\\\n",
       "\t28 & 28 & 2409 \\\\\n",
       "\t29 & 29 & 2349 \\\\\n",
       "\t30 & 30 & 2176 \\\\\n",
       "\t$\\dots$ & $\\dots$ & $\\dots$ \\\\\n",
       "\\end{tabular}\n"
      ],
      "text/plain": [
       "\u001b[1m8760×2 DataFrame\u001b[0m\n",
       "\u001b[1m  Row \u001b[0m│\u001b[1m Hour  \u001b[0m\u001b[1m Demand \u001b[0m\n",
       "      │\u001b[90m Int64 \u001b[0m\u001b[90m Int64  \u001b[0m\n",
       "──────┼───────────────\n",
       "    1 │     1    2274\n",
       "    2 │     2    2581\n",
       "    3 │     3    2576\n",
       "    4 │     4    2482\n",
       "    5 │     5    2396\n",
       "    6 │     6    2193\n",
       "    7 │     7    1929\n",
       "    8 │     8    1715\n",
       "    9 │     9    1555\n",
       "   10 │    10    1473\n",
       "   11 │    11    1463\n",
       "  ⋮   │   ⋮      ⋮\n",
       " 8751 │  8751    2409\n",
       " 8752 │  8752    2527\n",
       " 8753 │  8753    2616\n",
       " 8754 │  8754    2707\n",
       " 8755 │  8755    2677\n",
       " 8756 │  8756    2708\n",
       " 8757 │  8757    2646\n",
       " 8758 │  8758    2538\n",
       " 8759 │  8759    2195\n",
       " 8760 │  8760    2200\n",
       "\u001b[36m     8739 rows omitted\u001b[0m"
      ]
     },
     "execution_count": 2,
     "metadata": {},
     "output_type": "execute_result"
    }
   ],
   "source": [
    "generators = DataFrame(CSV.File(\"C:/Users/44780/Documents/GitHub/PowerSystemOptimization/power-systems-optimization/Notebooks/expansion_data/generators_for_expansion.csv\"))\n",
    "demand = DataFrame(CSV.File(\"C:/Users/44780/Documents/GitHub/PowerSystemOptimization/power-systems-optimization/Notebooks/expansion_data/demand_for_expansion.csv\"))"
   ]
  },
  {
   "cell_type": "code",
   "execution_count": 3,
   "metadata": {},
   "outputs": [],
   "source": [
    "NSECost = 9000\n",
    "# The set of generators from the generators DataFrame\n",
    "G = generators.G[1:(size(generators,1)-2)]  # note we truncate wind and solar for now\n",
    "# The set of hours in the demand DataFrame\n",
    "H = demand.Hour;\n",
    "Expansion_Model = Model(HiGHS.Optimizer) # using the HiGHS open source solver\n",
    "@variables(Expansion_Model, begin\n",
    "        CAP[g in G] >=0          # Generating capacity built (MW)\n",
    "        GEN[g in G, h in H] >= 0 # Generation in each hour (MWh)\n",
    "        NSE[h in H] >= 0         # Non-served energy in each hour (MWh)\n",
    "end)\n",
    "@constraints(Expansion_Model, begin\n",
    "    cDemandBalance[h in H], sum(GEN[g,h] for g in G) + NSE[h] == demand.Demand[h]\n",
    "    cCapacity[g in G, h in H], GEN[g,h] <= CAP[g]\n",
    "end)\n",
    "# Note: the objective is now too long to print. It is therefore doubly important to check your code.\n",
    "@objective(Expansion_Model, Min,\n",
    "    sum(generators[generators.G.==g,:FixedCost][1]*CAP[g] + \n",
    "        sum(generators[generators.G.==g,:VarCost][1]*GEN[g,h] for h in H)\n",
    "    for g in G) + \n",
    "    sum(NSECost*NSE[h] for h in H) \n",
    ");\n",
    "# Note: the objective is now too long to print. It is therefore doubly important to check your code.\n",
    "@objective(Expansion_Model, Min,\n",
    "    sum(generators[generators.G.==g,:FixedCost][1]*CAP[g] + \n",
    "        sum(generators[generators.G.==g,:VarCost][1]*GEN[g,h] for h in H)\n",
    "    for g in G) + \n",
    "    sum(NSECost*NSE[h] for h in H) \n",
    ");"
   ]
  },
  {
   "cell_type": "markdown",
   "metadata": {},
   "source": [
    "## Question 2: Analytical solution\n",
    "\n",
    "**A.** Using the data provided above, sort the demand data from highest to lowest hours to create a load duration curve and save this as a vector/array/DataFrame of your choice."
   ]
  },
  {
   "cell_type": "code",
   "execution_count": 20,
   "metadata": {},
   "outputs": [
    {
     "data": {
      "text/html": [
       "<div><div style = \"float: left;\"><span>8760×2 DataFrame</span></div><div style = \"float: right;\"><span style = \"font-style: italic;\">8735 rows omitted</span></div><div style = \"clear: both;\"></div></div><div class = \"data-frame\" style = \"overflow-x: scroll;\"><table class = \"data-frame\" style = \"margin-bottom: 6px;\"><thead><tr class = \"header\"><th class = \"rowNumber\" style = \"font-weight: bold; text-align: right;\">Row</th><th style = \"text-align: left;\">Hour</th><th style = \"text-align: left;\">Demand</th></tr><tr class = \"subheader headerLastRow\"><th class = \"rowNumber\" style = \"font-weight: bold; text-align: right;\"></th><th title = \"Int64\" style = \"text-align: left;\">Int64</th><th title = \"Int64\" style = \"text-align: left;\">Int64</th></tr></thead><tbody><tr><td class = \"rowNumber\" style = \"font-weight: bold; text-align: right;\">1</td><td style = \"text-align: right;\">8760</td><td style = \"text-align: right;\">2200</td></tr><tr><td class = \"rowNumber\" style = \"font-weight: bold; text-align: right;\">2</td><td style = \"text-align: right;\">8759</td><td style = \"text-align: right;\">2195</td></tr><tr><td class = \"rowNumber\" style = \"font-weight: bold; text-align: right;\">3</td><td style = \"text-align: right;\">8758</td><td style = \"text-align: right;\">2538</td></tr><tr><td class = \"rowNumber\" style = \"font-weight: bold; text-align: right;\">4</td><td style = \"text-align: right;\">8757</td><td style = \"text-align: right;\">2646</td></tr><tr><td class = \"rowNumber\" style = \"font-weight: bold; text-align: right;\">5</td><td style = \"text-align: right;\">8756</td><td style = \"text-align: right;\">2708</td></tr><tr><td class = \"rowNumber\" style = \"font-weight: bold; text-align: right;\">6</td><td style = \"text-align: right;\">8755</td><td style = \"text-align: right;\">2677</td></tr><tr><td class = \"rowNumber\" style = \"font-weight: bold; text-align: right;\">7</td><td style = \"text-align: right;\">8754</td><td style = \"text-align: right;\">2707</td></tr><tr><td class = \"rowNumber\" style = \"font-weight: bold; text-align: right;\">8</td><td style = \"text-align: right;\">8753</td><td style = \"text-align: right;\">2616</td></tr><tr><td class = \"rowNumber\" style = \"font-weight: bold; text-align: right;\">9</td><td style = \"text-align: right;\">8752</td><td style = \"text-align: right;\">2527</td></tr><tr><td class = \"rowNumber\" style = \"font-weight: bold; text-align: right;\">10</td><td style = \"text-align: right;\">8751</td><td style = \"text-align: right;\">2409</td></tr><tr><td class = \"rowNumber\" style = \"font-weight: bold; text-align: right;\">11</td><td style = \"text-align: right;\">8750</td><td style = \"text-align: right;\">2136</td></tr><tr><td class = \"rowNumber\" style = \"font-weight: bold; text-align: right;\">12</td><td style = \"text-align: right;\">8749</td><td style = \"text-align: right;\">1888</td></tr><tr><td class = \"rowNumber\" style = \"font-weight: bold; text-align: right;\">13</td><td style = \"text-align: right;\">8748</td><td style = \"text-align: right;\">1713</td></tr><tr><td style = \"text-align: right;\">&vellip;</td><td style = \"text-align: right;\">&vellip;</td><td style = \"text-align: right;\">&vellip;</td></tr><tr><td class = \"rowNumber\" style = \"font-weight: bold; text-align: right;\">8749</td><td style = \"text-align: right;\">12</td><td style = \"text-align: right;\">1503</td></tr><tr><td class = \"rowNumber\" style = \"font-weight: bold; text-align: right;\">8750</td><td style = \"text-align: right;\">11</td><td style = \"text-align: right;\">1463</td></tr><tr><td class = \"rowNumber\" style = \"font-weight: bold; text-align: right;\">8751</td><td style = \"text-align: right;\">10</td><td style = \"text-align: right;\">1473</td></tr><tr><td class = \"rowNumber\" style = \"font-weight: bold; text-align: right;\">8752</td><td style = \"text-align: right;\">9</td><td style = \"text-align: right;\">1555</td></tr><tr><td class = \"rowNumber\" style = \"font-weight: bold; text-align: right;\">8753</td><td style = \"text-align: right;\">8</td><td style = \"text-align: right;\">1715</td></tr><tr><td class = \"rowNumber\" style = \"font-weight: bold; text-align: right;\">8754</td><td style = \"text-align: right;\">7</td><td style = \"text-align: right;\">1929</td></tr><tr><td class = \"rowNumber\" style = \"font-weight: bold; text-align: right;\">8755</td><td style = \"text-align: right;\">6</td><td style = \"text-align: right;\">2193</td></tr><tr><td class = \"rowNumber\" style = \"font-weight: bold; text-align: right;\">8756</td><td style = \"text-align: right;\">5</td><td style = \"text-align: right;\">2396</td></tr><tr><td class = \"rowNumber\" style = \"font-weight: bold; text-align: right;\">8757</td><td style = \"text-align: right;\">4</td><td style = \"text-align: right;\">2482</td></tr><tr><td class = \"rowNumber\" style = \"font-weight: bold; text-align: right;\">8758</td><td style = \"text-align: right;\">3</td><td style = \"text-align: right;\">2576</td></tr><tr><td class = \"rowNumber\" style = \"font-weight: bold; text-align: right;\">8759</td><td style = \"text-align: right;\">2</td><td style = \"text-align: right;\">2581</td></tr><tr><td class = \"rowNumber\" style = \"font-weight: bold; text-align: right;\">8760</td><td style = \"text-align: right;\">1</td><td style = \"text-align: right;\">2274</td></tr></tbody></table></div>"
      ],
      "text/latex": [
       "\\begin{tabular}{r|cc}\n",
       "\t& Hour & Demand\\\\\n",
       "\t\\hline\n",
       "\t& Int64 & Int64\\\\\n",
       "\t\\hline\n",
       "\t1 & 8760 & 2200 \\\\\n",
       "\t2 & 8759 & 2195 \\\\\n",
       "\t3 & 8758 & 2538 \\\\\n",
       "\t4 & 8757 & 2646 \\\\\n",
       "\t5 & 8756 & 2708 \\\\\n",
       "\t6 & 8755 & 2677 \\\\\n",
       "\t7 & 8754 & 2707 \\\\\n",
       "\t8 & 8753 & 2616 \\\\\n",
       "\t9 & 8752 & 2527 \\\\\n",
       "\t10 & 8751 & 2409 \\\\\n",
       "\t11 & 8750 & 2136 \\\\\n",
       "\t12 & 8749 & 1888 \\\\\n",
       "\t13 & 8748 & 1713 \\\\\n",
       "\t14 & 8747 & 1646 \\\\\n",
       "\t15 & 8746 & 1591 \\\\\n",
       "\t16 & 8745 & 1643 \\\\\n",
       "\t17 & 8744 & 1790 \\\\\n",
       "\t18 & 8743 & 2037 \\\\\n",
       "\t19 & 8742 & 2338 \\\\\n",
       "\t20 & 8741 & 2530 \\\\\n",
       "\t21 & 8740 & 2593 \\\\\n",
       "\t22 & 8739 & 2614 \\\\\n",
       "\t23 & 8738 & 2607 \\\\\n",
       "\t24 & 8737 & 2281 \\\\\n",
       "\t25 & 8736 & 2182 \\\\\n",
       "\t26 & 8735 & 2198 \\\\\n",
       "\t27 & 8734 & 2245 \\\\\n",
       "\t28 & 8733 & 2329 \\\\\n",
       "\t29 & 8732 & 2548 \\\\\n",
       "\t30 & 8731 & 2721 \\\\\n",
       "\t$\\dots$ & $\\dots$ & $\\dots$ \\\\\n",
       "\\end{tabular}\n"
      ],
      "text/plain": [
       "\u001b[1m8760×2 DataFrame\u001b[0m\n",
       "\u001b[1m  Row \u001b[0m│\u001b[1m Hour  \u001b[0m\u001b[1m Demand \u001b[0m\n",
       "      │\u001b[90m Int64 \u001b[0m\u001b[90m Int64  \u001b[0m\n",
       "──────┼───────────────\n",
       "    1 │  8760    2200\n",
       "    2 │  8759    2195\n",
       "    3 │  8758    2538\n",
       "    4 │  8757    2646\n",
       "    5 │  8756    2708\n",
       "    6 │  8755    2677\n",
       "    7 │  8754    2707\n",
       "    8 │  8753    2616\n",
       "    9 │  8752    2527\n",
       "   10 │  8751    2409\n",
       "   11 │  8750    2136\n",
       "  ⋮   │   ⋮      ⋮\n",
       " 8751 │    10    1473\n",
       " 8752 │     9    1555\n",
       " 8753 │     8    1715\n",
       " 8754 │     7    1929\n",
       " 8755 │     6    2193\n",
       " 8756 │     5    2396\n",
       " 8757 │     4    2482\n",
       " 8758 │     3    2576\n",
       " 8759 │     2    2581\n",
       " 8760 │     1    2274\n",
       "\u001b[36m     8739 rows omitted\u001b[0m"
      ]
     },
     "execution_count": 20,
     "metadata": {},
     "output_type": "execute_result"
    }
   ],
   "source": [
    "sort!(demand, rev = true)\n"
   ]
  },
  {
   "cell_type": "markdown",
   "metadata": {},
   "source": [
    "**B.** Now using the cost data provided in '/generators_for_expansion.csv' and the load duration curve above, use the formulas provided in Lecture to determine an analytical solution to the optimal thermal generation expansion decisions (e.g. solve it algebraically rather than use an optimization solver to find the solution). \n",
    "\n",
    "Report the optimal capacity of each generation source and compare to the solution from the optimization model above. \n",
    "\n",
    "Show your work in cells below, using Julia to perform calculations. Explain your steps using inline code comments (e.g. `# Comment`) or by interspersing Markdown cells.  \n",
    "\n",
    "Tip: round your solutions for the crossover hour between each technology to the nearest integer (as we have discrete hours in the time series)."
   ]
  },
  {
   "cell_type": "code",
   "execution_count": null,
   "metadata": {},
   "outputs": [],
   "source": []
  },
  {
   "cell_type": "code",
   "execution_count": null,
   "metadata": {},
   "outputs": [],
   "source": []
  },
  {
   "cell_type": "markdown",
   "metadata": {},
   "source": [
    "**C.** Now change the fuel cost of natural gas to \\$8.00/MMBtu, recalculate the variable cost of CCGTs and CTs, and solve again for the optimal generation capacity mix. Describe what changes in your capacity results and what doesn't, and provide an explanation."
   ]
  },
  {
   "cell_type": "code",
   "execution_count": null,
   "metadata": {},
   "outputs": [],
   "source": []
  },
  {
   "cell_type": "markdown",
   "metadata": {},
   "source": []
  },
  {
   "cell_type": "markdown",
   "metadata": {},
   "source": [
    "## Question 3 - Expansion with renewables\n",
    "\n",
    "**A.** Using JuMP/Julia, implement an optimization model based on the formulation for optimal thermal+renewable capacity expansion provided in Section 2 of [Notebook 3](https://github.com/east-winds/power-systems-optimization/tree/master/Notebooks). "
   ]
  },
  {
   "cell_type": "code",
   "execution_count": null,
   "metadata": {},
   "outputs": [],
   "source": []
  },
  {
   "cell_type": "markdown",
   "metadata": {},
   "source": [
    "**B.** Solve the model to determine the optimal capacity when wind and solar are available resources and extract results for generation and capacity."
   ]
  },
  {
   "cell_type": "code",
   "execution_count": null,
   "metadata": {
    "scrolled": false
   },
   "outputs": [],
   "source": []
  },
  {
   "cell_type": "markdown",
   "metadata": {},
   "source": [
    "**C.** What happens to the total firm generation and maximum MW of non-served energy? What does this imply about the capacity value of solar and/or wind built in the optimal capacity mix?"
   ]
  },
  {
   "cell_type": "markdown",
   "metadata": {},
   "source": []
  },
  {
   "cell_type": "markdown",
   "metadata": {},
   "source": [
    "## Question 4: Brownfield Expansion Model\n",
    "\n",
    "**A.** Now implement an optimization model based on the formulation for optimal \"brownfield\" thermal+renewable capacity expansion (e.g. with existing generators) provided in Section 3 of [Notebook 3](https://github.com/east-winds/power-systems-optimization/tree/master/Notebooks).\n",
    "\n",
    "Use the following data for fixed and variable costs of existing gas capacity. Note: unlike in the formulation in Notebook 3, there is no existing renewable capacity here to consider (only thermal)."
   ]
  },
  {
   "cell_type": "code",
   "execution_count": 12,
   "metadata": {},
   "outputs": [],
   "source": [
    "# Load new generator options\n",
    "#path = joinpath([REPLACE THIS WITH PATH TO YOUR power-systems-optimization DIRECTORY HERE],\"Notebooks\",\"expansion_data\")\n",
    "path = joinpath(\"/Users/jdj2/Documents/GitHub/power-systems-optimization\",\"Notebooks\",\"expansion_data\")\n",
    "generators = DataFrame(CSV.File(joinpath(path,\"generators_for_expansion.csv\")))\n",
    "# Add parameters for existing CCGTs, with the set index \"Old\"\n",
    "push!(generators, [\"Old_CC\" \"Existing CCGT\" 0 40000 5 7.5 4 0 0 0 0 40000 30])\n",
    "# Add parameters for existing CTs, with the set index \"Old\"\n",
    "push!(generators, [\"Old_CT\" \"Existing CT\" 0 30000 11 11.0 4 0 0 0 0 30000 55])\n",
    "\n",
    "# Set installed capacity for existing CCGTs:\n",
    "ExistingCap_CCGT = 1260 # Approximate actual existing capacity in SDGE\n",
    "ExistingCap_CT = 925 # Approximate actual existing capacity in SDGE\n",
    "# Add new column to generators Data Frame\n",
    "generators[!,:ExistingCap] = [0,0,0,0,0,0, ExistingCap_CCGT, ExistingCap_CT];"
   ]
  },
  {
   "cell_type": "code",
   "execution_count": null,
   "metadata": {},
   "outputs": [],
   "source": []
  },
  {
   "cell_type": "code",
   "execution_count": null,
   "metadata": {},
   "outputs": [],
   "source": []
  },
  {
   "cell_type": "markdown",
   "metadata": {},
   "source": [
    "**B.** Solve the model to determine the optimal capacity when with existing generators and extract results for generation and capacity (including retirements)."
   ]
  },
  {
   "cell_type": "code",
   "execution_count": null,
   "metadata": {},
   "outputs": [],
   "source": []
  },
  {
   "cell_type": "code",
   "execution_count": null,
   "metadata": {},
   "outputs": [],
   "source": []
  },
  {
   "cell_type": "code",
   "execution_count": null,
   "metadata": {},
   "outputs": [],
   "source": []
  }
 ],
 "metadata": {
  "@webio": {
   "lastCommId": null,
   "lastKernelId": null
  },
  "kernelspec": {
   "display_name": "Julia 1.9.3",
   "language": "julia",
   "name": "julia-1.9"
  },
  "language_info": {
   "file_extension": ".jl",
   "mimetype": "application/julia",
   "name": "julia",
   "version": "1.9.3"
  }
 },
 "nbformat": 4,
 "nbformat_minor": 4
}
